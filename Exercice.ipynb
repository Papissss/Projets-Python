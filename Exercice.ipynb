{
 "cells": [
  {
   "cell_type": "markdown",
   "id": "c7e44192-ce66-4481-ab29-ae6873c35d0b",
   "metadata": {},
   "source": [
    "# Les Listes "
   ]
  },
  {
   "cell_type": "markdown",
   "id": "2dd7cac8-4a27-460a-8f7b-c9a2e7f987af",
   "metadata": {},
   "source": [
    "###1. Listes :\n",
    "Exercice 1 :\n",
    "####\tCréez une liste de 10 nombres entiers.\n",
    "####    Calculez la somme de tous les éléments de la liste.\n",
    "####    Trouvez l'élément maximum et minimum de la liste.\n",
    "####    Créez une nouvelle liste en doublant chaque valeur de la liste d'origine.\n"
   ]
  },
  {
   "cell_type": "code",
   "execution_count": 19,
   "id": "0b8b6f05-1381-4a10-bbca-5114088c2d4e",
   "metadata": {},
   "outputs": [
    {
     "name": "stdout",
     "output_type": "stream",
     "text": [
      "[0, 1, 2, 3, 4, 5, 6, 7, 8, 9]\n"
     ]
    }
   ],
   "source": [
    "# Créer une liste de 10 nombres entiers \n",
    "\n",
    "ma_liste = []\n",
    "for i in range(0,10,1):\n",
    "    ma_liste.append(i)\n",
    "print(ma_liste)"
   ]
  },
  {
   "cell_type": "code",
   "execution_count": 20,
   "id": "a1921473-6634-4bc1-b1e1-bb506e751a8d",
   "metadata": {},
   "outputs": [
    {
     "data": {
      "text/plain": [
       "45"
      ]
     },
     "execution_count": 20,
     "metadata": {},
     "output_type": "execute_result"
    }
   ],
   "source": [
    "# Calculez la somme de tous les éléments de la liste\n",
    "Ma_liste = sum(ma_liste)\n",
    "Ma_liste"
   ]
  },
  {
   "cell_type": "code",
   "execution_count": 22,
   "id": "61e163ac-d506-42c5-ae43-309123be1cec",
   "metadata": {},
   "outputs": [
    {
     "name": "stdout",
     "output_type": "stream",
     "text": [
      "Le minimum de la liste est :  0\n",
      "Le maximum de la liste est :  9\n"
     ]
    }
   ],
   "source": [
    "# Trouvez l'élément maximum et minimum de la liste. \n",
    "\n",
    "Ma_liste = ma_liste\n",
    "minimum = min(ma_liste)\n",
    "maximum = max(ma_liste)\n",
    "print(\"Le minimum de la liste est : \", minimum)\n",
    "print(\"Le maximum de la liste est : \", maximum)"
   ]
  },
  {
   "cell_type": "code",
   "execution_count": 3,
   "id": "352baa77-6207-4673-ae0f-8bb1594be106",
   "metadata": {},
   "outputs": [
    {
     "name": "stdout",
     "output_type": "stream",
     "text": [
      "[0, 2, 4, 6, 8, 10, 12, 14, 16, 18]\n"
     ]
    }
   ],
   "source": [
    "# Créez une nouvelle liste en doublant chaque valeur de la liste d'origine.\n",
    "# Avec la boucle for\n",
    "ma_liste = [0, 1, 2, 3, 4, 5, 6, 7, 8, 9]\n",
    "ma_liste_double = []\n",
    "for i in ma_liste:\n",
    "    ma_liste_double.append(i * 2)\n",
    "print( ma_liste_double)"
   ]
  },
  {
   "cell_type": "code",
   "execution_count": 2,
   "id": "c8252d20-d918-401c-ad40-141795d4aa08",
   "metadata": {},
   "outputs": [
    {
     "name": "stdout",
     "output_type": "stream",
     "text": [
      "[0, 2, 4, 6, 8, 10, 12, 14, 16, 18]\n"
     ]
    }
   ],
   "source": [
    "ma_liste = [0, 1, 2, 3, 4, 5, 6, 7, 8, 9]\n",
    "ma_liste_double = [i * 2 for i in ma_liste]\n",
    "print(ma_liste_double)\n"
   ]
  },
  {
   "cell_type": "markdown",
   "id": "97de9231-08f1-4352-9f59-a2bb158740fb",
   "metadata": {},
   "source": [
    "# Exercice 2 :\n",
    "### Créez une liste contenant des prénoms.\n",
    "### Ajoutez un prénom au début de la liste, puis supprimez le dernier prénom de la liste.\n",
    "### Affichez la liste après chaque modification.\n",
    "### Utilisez une boucle pour afficher tous les prénoms de la liste avec un indice.\n"
   ]
  },
  {
   "cell_type": "code",
   "execution_count": 6,
   "id": "9d3ab3f5-7f9c-41c4-84e5-86390bac16ed",
   "metadata": {},
   "outputs": [
    {
     "name": "stdout",
     "output_type": "stream",
     "text": [
      "['Fatou', 'Saliou', 'Mamadou']\n"
     ]
    }
   ],
   "source": [
    "# Créer une liste de prénoms\n",
    "mes_prenoms = [\"Fatou\", \"Saliou\", \"Mamadou\"]\n",
    "print (mes_prenoms)"
   ]
  },
  {
   "cell_type": "code",
   "execution_count": 13,
   "id": "505cdc03-b0e7-470c-90a7-d2495f6d9b23",
   "metadata": {},
   "outputs": [
    {
     "data": {
      "text/plain": [
       "['Sonko', 'Sonko', 'Fatou', 'Saliou', 'Mamadou']"
      ]
     },
     "execution_count": 13,
     "metadata": {},
     "output_type": "execute_result"
    }
   ],
   "source": [
    "# Ajouter un prénom au début de la liste\n",
    "mes_prenoms.insert(0,\"Sonko\")\n",
    "mes_prenoms\n"
   ]
  },
  {
   "cell_type": "code",
   "execution_count": 15,
   "id": "8aa2a7b5-8fa9-4d29-b2d3-9631f5c3aa9b",
   "metadata": {},
   "outputs": [
    {
     "data": {
      "text/plain": [
       "['Saounera', 'Eulalie', 'Faye', 'Sow']"
      ]
     },
     "execution_count": 15,
     "metadata": {},
     "output_type": "execute_result"
    }
   ],
   "source": [
    "# Ajouter une liste au début \n",
    "noms = [\"Eulalie\", \"Faye\", \"Sow\"]\n",
    "noms.insert(0, \"Saounera\")\n",
    "noms"
   ]
  },
  {
   "cell_type": "code",
   "execution_count": 16,
   "id": "1e71a6c8-e7d2-42a4-a95e-ecd3823d665d",
   "metadata": {},
   "outputs": [
    {
     "data": {
      "text/plain": [
       "['Sonko', 'DIEDHIOU', 'Moussa', 'Coly']"
      ]
     },
     "execution_count": 16,
     "metadata": {},
     "output_type": "execute_result"
    }
   ],
   "source": [
    "# Ajouter un nom à la fin \n",
    "noms_fin = [\"Sonko\", \"DIEDHIOU\", \"Moussa\"]\n",
    "noms_fin.append(\"Coly\")\n",
    "noms_fin"
   ]
  },
  {
   "cell_type": "code",
   "execution_count": 23,
   "id": "3b063e85-d571-47fb-8967-18d288d69f32",
   "metadata": {},
   "outputs": [
    {
     "data": {
      "text/plain": [
       "['Sonko',\n",
       " 'DIEDHIOU',\n",
       " 'Moussa',\n",
       " 'Coly',\n",
       " 'D',\n",
       " 'i',\n",
       " 'a',\n",
       " 'r',\n",
       " 'r',\n",
       " 'a',\n",
       " 'Diarra',\n",
       " 'Diaw',\n",
       " 'Diarra',\n",
       " 'Diaw',\n",
       " 'Papis',\n",
       " 'Diaw',\n",
       " 'Diarra',\n",
       " 'Diaw']"
      ]
     },
     "execution_count": 23,
     "metadata": {},
     "output_type": "execute_result"
    }
   ],
   "source": [
    "# Ajouter plusieurs noms à la fin \n",
    "noms_fin.extend([\"Diarra\", \"Diaw\"])\n",
    "noms_fin"
   ]
  },
  {
   "cell_type": "code",
   "execution_count": 24,
   "id": "2becdc27-98a4-4ea8-8dfb-298d848ff19a",
   "metadata": {},
   "outputs": [
    {
     "name": "stdout",
     "output_type": "stream",
     "text": [
      "['Fatou', 'Saliou', 'Mamadou', 'Diarra', 'Diaw']\n"
     ]
    }
   ],
   "source": [
    "noms_fin = [\"Fatou\", \"Saliou\", \"Mamadou\"]\n",
    "noms_a_ajouter = [\"Diarra\", \"Diaw\"]\n",
    "\n",
    "for nom in noms_a_ajouter:\n",
    "    noms_fin.append(nom)\n",
    "\n",
    "print(noms_fin)\n"
   ]
  },
  {
   "cell_type": "code",
   "execution_count": 33,
   "id": "a66e2254-5836-42fe-9b69-75b261161911",
   "metadata": {},
   "outputs": [
    {
     "name": "stdout",
     "output_type": "stream",
     "text": [
      "Indice 0 : Sow\n",
      "Indice 1 : Fatou\n",
      "Indice 2 : Mame\n"
     ]
    }
   ],
   "source": [
    "# Utiliser une boucle pour afficher les prénoms avec leur indice\n",
    "for indice, prenom in enumerate(ma_liste):\n",
    "    print(f\"Indice {indice} : {prenom}\")\n"
   ]
  },
  {
   "cell_type": "markdown",
   "id": "cd8301f5-8d7e-408e-b192-a172998f47ca",
   "metadata": {},
   "source": [
    "# Exercice 3 :\n"
   ]
  },
  {
   "cell_type": "markdown",
   "id": "8c857448-9142-4068-982b-5e095f9c0a69",
   "metadata": {},
   "source": [
    "#### Créez un dictionnaire avec les noms des mois de l'année comme clés et les numéros de mois comme valeurs.\n",
    "#### Demandez à l'utilisateur d'entrer un mois (par exemple \"Janvier\") et affichez son numéro dans l'année.\n",
    "#### Modifiez le dictionnaire pour y ajouter un mois fictif, puis supprimez-en un autre.\n",
    "\n"
   ]
  },
  {
   "cell_type": "code",
   "execution_count": 34,
   "id": "6564d0a9-9457-4948-aee0-6631d8986813",
   "metadata": {},
   "outputs": [
    {
     "name": "stdout",
     "output_type": "stream",
     "text": [
      "{'janvier': 1, 'fevrier': 2, 'mars': 3, 'avril': 4, 'mai': 5, 'juin': 6, 'juillet': 7, 'aout': 8, 'septembre': 9, 'octobre': 10, 'novembre': 11, 'decembre': 12}\n"
     ]
    }
   ],
   "source": [
    "# Créez un dictionnaire avec les noms des mois de l'année comme clés et les numéros de mois comme valeurs.\n",
    "mon_dico = {\n",
    "\"janvier\" : 1,\n",
    "\"fevrier\" : 2, \n",
    "\"mars\" : 3,\n",
    "\"avril\" : 4,\n",
    "\"mai\" : 5,\n",
    "\"juin\" : 6, \n",
    "\"juillet\" : 7,\n",
    "\"aout\" : 8, \n",
    "\"septembre\" : 9, \n",
    "\"octobre\" : 10,\n",
    "\"novembre\" : 11, \n",
    "\"decembre\" : 12\n",
    "}\n",
    "print (mon_dico)"
   ]
  },
  {
   "cell_type": "code",
   "execution_count": null,
   "id": "b3216ba1-d735-449c-9777-6b5e65f96cef",
   "metadata": {},
   "outputs": [],
   "source": [
    "# Demandez à l'utilisateur d'entrer un mois (par exemple \"Janvier\") et affichez son numéro dans l'année"
   ]
  },
  {
   "cell_type": "raw",
   "id": "3791fb70-9256-435f-b43e-3340012fe22f",
   "metadata": {},
   "source": [
    "# Création du dictionnaire avec les mois et leurs numéros\n",
    "# Demander à l'utilisateur d'entrer un mois\n",
    "\n",
    "mois_utilisateur = input(\"Entrez un mois (exemple : janvier) : \").lower()  # Conversion en minuscules\n",
    "\n",
    "# Vérification et affichage du numéro correspondant\n",
    "if mois_utilisateur in mon_dico:\n",
    "    print(f\"Le mois de {mois_utilisateur.capitalize()} est le numéro {mon_dico[mois_utilisateur]} dans l'année.\")\n",
    "else:\n",
    "    print(\"Ce mois n'est pas valide. Vérifiez votre saisie.\")\n"
   ]
  },
  {
   "cell_type": "markdown",
   "id": "0f430623-23ff-4b4c-a490-d8e14583b043",
   "metadata": {},
   "source": [
    "# Modifiez le dictionnaire pour y ajouter un mois fictif, puis supprimez-en un autre\n",
    "mon_dico[\"Papis\"] = 13\n",
    "mon_dico"
   ]
  },
  {
   "cell_type": "code",
   "execution_count": 39,
   "id": "92522a08-1715-499b-967c-4e60894e05d3",
   "metadata": {},
   "outputs": [
    {
     "data": {
      "text/plain": [
       "{'janvier': 1,\n",
       " 'fevrier': 2,\n",
       " 'mars': 3,\n",
       " 'avril': 4,\n",
       " 'mai': 5,\n",
       " 'juin': 6,\n",
       " 'juillet': 7,\n",
       " 'aout': 8,\n",
       " 'septembre': 9,\n",
       " 'octobre': 10,\n",
       " 'novembre': 11,\n",
       " 'decembre': 12}"
      ]
     },
     "execution_count": 39,
     "metadata": {},
     "output_type": "execute_result"
    }
   ],
   "source": [
    "# Supprimer l'élement fictif\n",
    "mon_dico.pop(\"Papis\")\n",
    "mon_dico"
   ]
  },
  {
   "cell_type": "markdown",
   "id": "e1a0b1b7-64a0-47b0-a7d3-962ed6327a13",
   "metadata": {},
   "source": [
    "# Exercice 4 :\n",
    "\n"
   ]
  },
  {
   "cell_type": "markdown",
   "id": "ca5d2066-6c92-4b1e-ae69-5e719debb95d",
   "metadata": {},
   "source": [
    "#####   Créez un dictionnaire avec des informations sur une personne (nom, âge, ville).\n",
    "#####   Utilisez des fonctions pour ajouter et modifier des informations dans le dictionnaire.\n",
    "#####   Utilisez une boucle pour afficher chaque clé et valeur du dictionnaire."
   ]
  },
  {
   "cell_type": "code",
   "execution_count": 42,
   "id": "09d03d9a-673a-4827-8dbf-8e9ed41dc28b",
   "metadata": {},
   "outputs": [
    {
     "data": {
      "text/plain": [
       "{'nom': 'Papis', 'age': 18, 'ville': 'Kolda'}"
      ]
     },
     "execution_count": 42,
     "metadata": {},
     "output_type": "execute_result"
    }
   ],
   "source": [
    "# Créez un dictionnaire avec des informations sur une personne (nom, âge, ville).\n",
    "donnees_personnelles = {\n",
    "\"nom\" : \"Papis\",\n",
    "\"age\" : 18,\n",
    "\"ville\" : \"Kolda\"\n",
    "}\n",
    "donnees_personnelles"
   ]
  },
  {
   "cell_type": "code",
   "execution_count": 43,
   "id": "c286dd47-34cd-4701-92fa-5d80cfff7650",
   "metadata": {},
   "outputs": [
    {
     "data": {
      "text/plain": [
       "{'nom': 'Papis', 'age': 18, 'ville': 'Kolda', 'Lieu de naissance': 'Kolda'}"
      ]
     },
     "execution_count": 43,
     "metadata": {},
     "output_type": "execute_result"
    }
   ],
   "source": [
    "# Utilisez des fonctions pour ajouter et modifier des informations dans le dictionnaire.\n",
    "#Ajout au début du dico \n",
    "donnees_personnelles[\"Lieu de naissance\"] = \"Kolda\"\n",
    "donnees_personnelles"
   ]
  },
  {
   "cell_type": "code",
   "execution_count": 44,
   "id": "1ab44fdf-e781-4e43-883c-1c758dcad26c",
   "metadata": {},
   "outputs": [
    {
     "data": {
      "text/plain": [
       "{'nom': 'Papis', 'age': 25, 'ville': 'Kolda', 'Lieu de naissance': 'Kolda'}"
      ]
     },
     "execution_count": 44,
     "metadata": {},
     "output_type": "execute_result"
    }
   ],
   "source": [
    "#Modifier des informations dans le dictionnaire \n",
    "donnees_personnelles[\"age\"] = 25\n",
    "donnees_personnelles"
   ]
  },
  {
   "cell_type": "code",
   "execution_count": 52,
   "id": "422fe012-daa1-4872-a7be-be75986ee7fc",
   "metadata": {},
   "outputs": [
    {
     "name": "stdout",
     "output_type": "stream",
     "text": [
      "Clé : nom, Valeur : Papis\n",
      "Clé : age, Valeur : 25\n",
      "Clé : ville, Valeur : Kolda\n",
      "Clé : Lieu de naissance, Valeur : Kolda\n"
     ]
    }
   ],
   "source": [
    "# Utilisez une boucle pour afficher chaque clé et valeur du dictionnaire.\n",
    "\n",
    "donnees_personnelles = {\n",
    "    'nom': 'Papis',\n",
    "    'age': 25,\n",
    "    'ville': 'Kolda',\n",
    "    'Lieu de naissance': 'Kolda'\n",
    "}\n",
    "\n",
    "# Parcourir chaque clé et valeur\n",
    "for cle, valeur in donnees_personnelles.items():\n",
    "    print(f\"Clé : {cle}, Valeur : {valeur}\")\n"
   ]
  },
  {
   "cell_type": "code",
   "execution_count": 53,
   "id": "9997907d-9738-4cde-98da-38585397f2d9",
   "metadata": {},
   "outputs": [
    {
     "data": {
      "text/plain": [
       "{' nom': 'SANE', 'Prenom': 'Fatou', 'Ville': 'Ziguinchor'}"
      ]
     },
     "execution_count": 53,
     "metadata": {},
     "output_type": "execute_result"
    }
   ],
   "source": [
    "noms = {\" nom\" : \"SANE\",\n",
    "\"Prenom\" : \"Fatou\",\n",
    "\"Ville\" : \"Ziguinchor\"\n",
    "}\n",
    "noms"
   ]
  },
  {
   "cell_type": "markdown",
   "id": "3b01fb30-1aac-4e65-99ba-ebaaa5863a6d",
   "metadata": {},
   "source": [
    "# Exercice 5 :\n"
   ]
  },
  {
   "cell_type": "markdown",
   "id": "4d913054-1f63-410e-aef8-03eae425effb",
   "metadata": {},
   "source": [
    "## Créez un tuple contenant des valeurs (int, float, string).\n",
    "## Essayez de modifier une valeur du tuple (ce qui devrait échouer).\n",
    "## Créez un nouveau tuple en combinant celui-ci avec un autre.\n",
    "\n",
    "\n"
   ]
  },
  {
   "cell_type": "code",
   "execution_count": 55,
   "id": "938cd605-98ae-46f0-96e9-a18bbb25efdb",
   "metadata": {},
   "outputs": [
    {
     "data": {
      "text/plain": [
       "(15, 1.5, 'Fatou')"
      ]
     },
     "execution_count": 55,
     "metadata": {},
     "output_type": "execute_result"
    }
   ],
   "source": [
    "mon_tuple =  (15, 1.5, \"Fatou\")\n",
    "mon_tuple"
   ]
  },
  {
   "cell_type": "code",
   "execution_count": 57,
   "id": "5b981cf3-780e-4646-86f2-ae8e5ffa1cd0",
   "metadata": {},
   "outputs": [
    {
     "name": "stdout",
     "output_type": "stream",
     "text": [
      "(15, 1.5, 'Fatou', 'faty', 1.08, 3, 'x')\n"
     ]
    }
   ],
   "source": [
    "# Créez un nouveau tuple en combinant celui-ci avec un autre\n",
    "mon_tuple1= (1, 15, 102, 'fatou')\n",
    "tuple_2 = (\"faty\", 1.08, 3, \"x\")\n",
    "print (mon_tuple + tuple_2)"
   ]
  },
  {
   "cell_type": "markdown",
   "id": "16e79cd4-20eb-4837-9d58-3e6482cb6d88",
   "metadata": {},
   "source": [
    "# Exercice 6 :\n"
   ]
  },
  {
   "cell_type": "code",
   "execution_count": 1,
   "id": "ccb0dbd1-d126-4631-be96-f5e3e7b23091",
   "metadata": {},
   "outputs": [
    {
     "data": {
      "text/plain": [
       "('Ronaldo', 'Rooney', 'Van Nistelrooy', 10, 1.5)"
      ]
     },
     "execution_count": 1,
     "metadata": {},
     "output_type": "execute_result"
    }
   ],
   "source": [
    "# Créez un tuple avec 5 éléments et utilisez un indice négatif pour accéder aux éléments à partir de la fin du tuple.\n",
    "manchester = (\"Ronaldo\", \"Rooney\", \"Van Nistelrooy\", 10, 1.5)\n",
    "manchester "
   ]
  },
  {
   "cell_type": "code",
   "execution_count": 3,
   "id": "4cb096c3-73a0-4c80-ab84-6485b42a41fc",
   "metadata": {},
   "outputs": [
    {
     "data": {
      "text/plain": [
       "1.5"
      ]
     },
     "execution_count": 3,
     "metadata": {},
     "output_type": "execute_result"
    }
   ],
   "source": [
    "mon_dernier = manchester[-1]\n",
    "mon_dernier"
   ]
  },
  {
   "cell_type": "code",
   "execution_count": 4,
   "id": "e8f9c8a5-805a-4cdf-b583-985125fc7435",
   "metadata": {},
   "outputs": [
    {
     "data": {
      "text/plain": [
       "10"
      ]
     },
     "execution_count": 4,
     "metadata": {},
     "output_type": "execute_result"
    }
   ],
   "source": [
    "avant_dernier = manchester[-2]\n",
    "avant_dernier"
   ]
  },
  {
   "cell_type": "code",
   "execution_count": 6,
   "id": "ee938d38-87b5-430c-b559-1201adfb7be6",
   "metadata": {},
   "outputs": [
    {
     "data": {
      "text/plain": [
       "'Van Nistelrooy'"
      ]
     },
     "execution_count": 6,
     "metadata": {},
     "output_type": "execute_result"
    }
   ],
   "source": [
    "# Affichez le tuple, la longueur du tuple, et l'élément à l'indice 2\n",
    "man = manchester[2]\n",
    "man"
   ]
  },
  {
   "cell_type": "code",
   "execution_count": 17,
   "id": "befedc93-beaf-40fc-bd84-630850d0d67e",
   "metadata": {},
   "outputs": [
    {
     "data": {
      "text/plain": [
       "5"
      ]
     },
     "execution_count": 17,
     "metadata": {},
     "output_type": "execute_result"
    }
   ],
   "source": [
    "len(manchester)\n",
    "\n"
   ]
  },
  {
   "cell_type": "markdown",
   "id": "f90df594-a637-4441-a606-bb02889f5825",
   "metadata": {},
   "source": [
    "# Exercice 7 :"
   ]
  },
  {
   "cell_type": "code",
   "execution_count": 24,
   "id": "f2ff3d4f-285f-4f2e-91fd-c6407def1ac2",
   "metadata": {},
   "outputs": [
    {
     "name": "stdout",
     "output_type": "stream",
     "text": [
      "1\n",
      "2\n",
      "3\n",
      "4\n",
      "5\n",
      "6\n",
      "7\n",
      "8\n",
      "9\n",
      "10\n"
     ]
    }
   ],
   "source": [
    "# Utilisez une boucle for pour imprimer les nombres de 1 à 10\n",
    "for i in range(1,11,1):\n",
    "    print(i)"
   ]
  },
  {
   "cell_type": "code",
   "execution_count": 27,
   "id": "e971f903-70ab-4b38-8c9d-bd03c6195e68",
   "metadata": {},
   "outputs": [
    {
     "name": "stdout",
     "output_type": "stream",
     "text": [
      "Ce chiffre 1 est impair\n",
      "Ce chiffre 3 est impair\n",
      "Ce chiffre 5 est impair\n",
      "Ce chiffre 7 est impair\n",
      "Ce chiffre 9 est impair\n",
      "Ce chiffre 11 est impair\n",
      "Ce chiffre 13 est impair\n",
      "Ce chiffre 15 est impair\n",
      "Ce chiffre 17 est impair\n",
      "Ce chiffre 19 est impair\n"
     ]
    }
   ],
   "source": [
    "# Utilisez une boucle for pour imprimer tous les nombres impairs entre 1 et 20.\n",
    "for i in range(1,21, 1):\n",
    "    if i % 2 != 0:\n",
    "        print(f\"Ce chiffre {i} est impair\")"
   ]
  },
  {
   "cell_type": "code",
   "execution_count": 33,
   "id": "b18d2841-67da-4568-b211-a127b8b6a2a7",
   "metadata": {},
   "outputs": [
    {
     "name": "stdout",
     "output_type": "stream",
     "text": [
      "1\n",
      "3\n",
      "5\n",
      "7\n",
      "9\n",
      "11\n",
      "13\n",
      "15\n",
      "17\n",
      "19\n"
     ]
    }
   ],
   "source": [
    "# Utilisez une boucle while pour imprimer tous les nombres impairs entre 1 et 20.\n",
    "ma_liste = 1 # Initialisation de la variable à 1 \n",
    "while ma_liste  <= 20 : # Utiliser une boucle while pour imprimer tous les nombres impairs entre 1 et 20\n",
    "    if ma_liste % 2 != 0 : # Vérifier si le nombre est impair\n",
    "        print(ma_liste) # Afficher le nombre impair\n",
    "    ma_liste +=   # Incrémenter la variable\n"
   ]
  },
  {
   "cell_type": "code",
   "execution_count": 34,
   "id": "ae5c0b35-3608-4a5a-8556-6772bde3971d",
   "metadata": {},
   "outputs": [
    {
     "name": "stdout",
     "output_type": "stream",
     "text": [
      "Ce chiffre 1 est impair\n",
      "Ce chiffre 3 est impair\n",
      "Ce chiffre 5 est impair\n",
      "Ce chiffre 7 est impair\n",
      "Ce chiffre 9 est impair\n",
      "Ce chiffre 11 est impair\n",
      "Ce chiffre 13 est impair\n",
      "Ce chiffre 15 est impair\n",
      "Ce chiffre 17 est impair\n",
      "Ce chiffre 19 est impair\n"
     ]
    }
   ],
   "source": [
    "mon_compteur = 0\n",
    "while mon_compteur <= 20: \n",
    "    if mon_compteur % 2 != 0:\n",
    "        print(f\"Ce chiffre {mon_compteur} est impair\")\n",
    "    mon_compteur +=1"
   ]
  },
  {
   "cell_type": "markdown",
   "id": "6212cec0-e8ae-48f2-9da4-e7271e03a010",
   "metadata": {},
   "source": [
    "# Exercice 8 : \n"
   ]
  },
  {
   "cell_type": "code",
   "execution_count": 42,
   "id": "c87225e9-53b2-456f-836c-934be82b8d97",
   "metadata": {},
   "outputs": [
    {
     "name": "stdout",
     "output_type": "stream",
     "text": [
      "Le nombre 1 est impair\n",
      "Le nombre 15 est impair\n",
      "Le nombre 2 est pair\n",
      "Le nombre 19 est impair\n",
      "Le nombre 18 est pair\n",
      "Le nombre 34 est pair\n",
      "Le nombre 45 est impair\n",
      "Le nombre 98 est pair\n",
      "Le nombre 20 est pair\n"
     ]
    }
   ],
   "source": [
    "# Utilisez une boucle for pour parcourir une liste et afficher \"pair\" ou \"impair\" pour chaque élément.\n",
    "ma_liste_paire_impaire = [1, 15, 2, 19, 18, 34, 45, 98, 20]\n",
    "for i in ma_liste_paire_impaire: \n",
    "    if i % 2 == 0: \n",
    "        print(f\"Le nombre {i} est pair\") \n",
    "    else: \n",
    "        print(f\"Le nombre {i} est impair\")"
   ]
  },
  {
   "cell_type": "markdown",
   "id": "94a5d871-9526-4688-9273-9e1fb5181620",
   "metadata": {},
   "source": [
    "# Exercice 9 :\n"
   ]
  },
  {
   "cell_type": "code",
   "execution_count": null,
   "id": "44356d19-e742-4bb4-8e2b-27838062a990",
   "metadata": {},
   "outputs": [],
   "source": [
    "# Utilisez une boucle while pour donner des indices et répéter la tentative jusqu'à ce que la réponse soit correcte."
   ]
  },
  {
   "cell_type": "markdown",
   "id": "082134cd-8331-4fb4-8b53-7ce9a329ea78",
   "metadata": {},
   "source": [
    "##### import random\n",
    "\n",
    "# Générer un nombre aléatoire entre 1 et 10\n",
    "nombre_a_deviner = random.randint(1, 10)\n",
    "\n",
    "print(\"Bienvenue dans le jeu de devinette !\")\n",
    "print(\"Je pense à un nombre entre 1 et 10. Vous avez 3 essais pour deviner lequel !\")\n",
    "\n",
    "# Initialiser le compteur d'essais\n",
    "essais_restants = 3\n",
    "\n",
    "while essais_restants > 0:\n",
    "    try:\n",
    "        reponse = int(input(f\"Vous avez {essais_restants} essai(s) restant(s). Entrez votre nombre : \"))\n",
    "    except ValueError:\n",
    "        print(\"Veuillez entrer un nombre valide.\")\n",
    "        continue\n",
    "\n",
    "    if reponse < nombre_a_deviner:\n",
    "        print(\"C'est plus grand !\")\n",
    "    elif reponse > nombre_a_deviner:\n",
    "        print(\"C'est plus petit !\")\n",
    "    else:\n",
    "        print(f\"Bravo ! Vous avez deviné le nombre {nombre_a_deviner}.\")\n",
    "        break  # Sortir de la boucle si le nombre est deviné\n",
    "\n",
    "    essais_restants -= 1  # Réduire le nombre d'essais restants\n",
    "\n",
    "if essais_restants == 0:\n",
    "    print(f\"Dommage, vous avez perdu ! Le nombre à deviner était {nombre_a_deviner}.\")\n"
   ]
  },
  {
   "cell_type": "markdown",
   "id": "910718db-018e-48f1-9718-4df82b488869",
   "metadata": {},
   "source": [
    "# Les Fonctions :\n"
   ]
  },
  {
   "cell_type": "markdown",
   "id": "0d295c79-d22b-40c7-aadd-6090bc9726c6",
   "metadata": {},
   "source": [
    "## Exercice 10 :\n"
   ]
  },
  {
   "cell_type": "code",
   "execution_count": 2,
   "id": "6acc05e5-8151-41a7-b024-0451c33030c0",
   "metadata": {},
   "outputs": [
    {
     "name": "stdout",
     "output_type": "stream",
     "text": [
      "8\n"
     ]
    }
   ],
   "source": [
    "# Créez une fonction addition(a, b) qui retourne la somme de deux nombres.\n",
    "addition = lambda a, b : a + b\n",
    "print (addition(2,6))\n"
   ]
  },
  {
   "cell_type": "code",
   "execution_count": 12,
   "id": "fc5133b2-07e7-4af2-971d-7a5ae2e3bb27",
   "metadata": {},
   "outputs": [
    {
     "name": "stdout",
     "output_type": "stream",
     "text": [
      "La factorielle de 5 est 120.\n"
     ]
    }
   ],
   "source": [
    "# Créez une fonction factorielle(n) qui calcule la factorielle d’un nombre donné.\n",
    "def factorielle(n):\n",
    "    \"\"\"\n",
    "    Calcule la factorielle d'un nombre donné.\n",
    "    :param n: Nombre entier non négatif.\n",
    "    :return: Factorielle de n.\n",
    "    \"\"\"\n",
    "    if n < 0:\n",
    "        return \"La factorielle n'est pas définie pour les nombres négatifs.\"\n",
    "    elif n == 0 or n == 1:\n",
    "        return 1\n",
    "    else:\n",
    "        resultat = 1\n",
    "        for i in range(2, n + 1):\n",
    "            resultat *= i\n",
    "        return resultat\n",
    "\n",
    "# Exemple d'utilisation :\n",
    "nombre = 5\n",
    "print(f\"La factorielle de {nombre} est {factorielle(nombre)}.\")\n"
   ]
  },
  {
   "cell_type": "code",
   "execution_count": 13,
   "id": "128dcaa2-72f5-427d-94a2-957caeb6b8fd",
   "metadata": {},
   "outputs": [
    {
     "name": "stdout",
     "output_type": "stream",
     "text": [
      "La chaîne inversée de 'Bonjour' est 'ruojnoB'.\n"
     ]
    }
   ],
   "source": [
    "# Créez une fonction reverse_string(s) qui retourne une chaîne de caractères inversée.\n",
    "def reverse_string(s):\n",
    "    \"\"\"\n",
    "    Retourne la chaîne de caractères inversée.\n",
    "    :param s: Chaîne de caractères.\n",
    "    :return: Chaîne inversée.\n",
    "    \"\"\"\n",
    "    return s[::-1]\n",
    "\n",
    "# Exemple d'utilisation :\n",
    "texte = \"Bonjour\"\n",
    "print(f\"La chaîne inversée de '{texte}' est '{reverse_string(texte)}'.\")\n"
   ]
  },
  {
   "cell_type": "markdown",
   "id": "697c0eae-d137-47db-a9f0-af15b0db34c5",
   "metadata": {},
   "source": [
    "# Exercice 11 :\n"
   ]
  },
  {
   "cell_type": "markdown",
   "id": "0283868f-1bac-4391-ae9c-6a6858cee1a5",
   "metadata": {},
   "source": [
    "##### Créez une fonction est_pair(n) qui vérifie si un nombre est pair ou impair, et l'utilise dans un programme qui demande à l'utilisateur de saisir \n",
    "# un nombre.\n",
    "\n",
    "def est_pair(n):\n",
    "    \"\"\"\n",
    "    Vérifie si un nombre est pair ou impair.\n",
    "    :param n: Nombre entier.\n",
    "    :return: True si le nombre est pair, False sinon.\n",
    "    \"\"\"\n",
    "    return n % 2 == 0\n",
    "\n",
    "# Programme principal\n",
    "try:\n",
    "    nombre = int(input(\"Veuillez entrer un nombre entier : \"))\n",
    "    if est_pair(nombre):\n",
    "        print(f\"Le nombre {nombre} est pair.\")\n",
    "    else:\n",
    "        print(f\"Le nombre {nombre} est impair.\")\n",
    "except ValueError:\n",
    "    print(\"Veuillez entrer un nombre valide.\")\n",
    "\n"
   ]
  },
  {
   "cell_type": "code",
   "execution_count": 23,
   "id": "bd12db28-1558-48e1-b0e0-6d896d0017ef",
   "metadata": {},
   "outputs": [
    {
     "name": "stdout",
     "output_type": "stream",
     "text": [
      "8\n"
     ]
    }
   ],
   "source": [
    "def addition (n,m):\n",
    "    return n+m\n",
    "print(addition(5,3))"
   ]
  },
  {
   "cell_type": "code",
   "execution_count": 26,
   "id": "d86fa56f-0088-4995-830c-bf178c317ae6",
   "metadata": {},
   "outputs": [
    {
     "name": "stdout",
     "output_type": "stream",
     "text": [
      "10\n"
     ]
    }
   ],
   "source": [
    "addition = lambda m, n : n + m\n",
    "print(addition(5,5));"
   ]
  },
  {
   "cell_type": "markdown",
   "id": "5b727a5c-dee6-47c4-82d6-7e66f1d2be34",
   "metadata": {},
   "source": [
    "# NumPy :"
   ]
  },
  {
   "cell_type": "markdown",
   "id": "395a8af8-f167-4d10-b6df-404872a3aa69",
   "metadata": {},
   "source": [
    "### Exercice 12 :"
   ]
  },
  {
   "cell_type": "code",
   "execution_count": 27,
   "id": "71d53215-d50c-4681-bf42-5966d25c43ac",
   "metadata": {},
   "outputs": [],
   "source": [
    "# import numpy\n",
    "import numpy as np\n"
   ]
  },
  {
   "cell_type": "code",
   "execution_count": 28,
   "id": "a6ac0220-ca2b-4382-b014-a2a11b3d9690",
   "metadata": {},
   "outputs": [
    {
     "name": "stdout",
     "output_type": "stream",
     "text": [
      "[ 1  2  3  4  5  6  7  8  9 10]\n"
     ]
    }
   ],
   "source": [
    "# Créez un tableau NumPy de 10 éléments allant de 1 à 10.\n",
    "tableau = np.arange(1,11)\n",
    "print(tableau)"
   ]
  },
  {
   "cell_type": "code",
   "execution_count": 33,
   "id": "1fa338a4-65e1-4cf8-a782-ed0480348d9f",
   "metadata": {},
   "outputs": [
    {
     "name": "stdout",
     "output_type": "stream",
     "text": [
      "La somme de la série est de :  55\n",
      "La Moyenne de la série est de :  5.5\n",
      "L'écart type de la série est :  2.8722813232690143\n"
     ]
    }
   ],
   "source": [
    "# Calculez la moyenne, la somme et l'écart type de ce tableau.\n",
    "Somme = np.sum(tableau)\n",
    "Moyenne = np.mean(tableau)\n",
    "Ecart_Type = np.std(tableau)\n",
    "print (\"La somme de la série est de : \" , Somme)\n",
    "print (\"La Moyenne de la série est de : \", Moyenne)\n",
    "print (\"L'écart type de la série est : \" , Ecart_Type)"
   ]
  },
  {
   "cell_type": "code",
   "execution_count": 41,
   "id": "80fdcb63-3f59-4f5f-ad84-17291444dc28",
   "metadata": {},
   "outputs": [
    {
     "name": "stdout",
     "output_type": "stream",
     "text": [
      "M a matrice :  [[ 7 19 20]\n",
      " [ 7 15 13]\n",
      " [15  7  7]]\n",
      "La valeur maximale de la série est :  20\n",
      "La valeur minimale de la série est :  7 \n"
     ]
    }
   ],
   "source": [
    "# Créez un tableau 2D (matrice) de taille 3x3 avec des valeurs aléatoires et trouvez le maximum et le minimum de cette matrice.\n",
    "matrice = np.random.randint(1,21, size = (3,3))\n",
    "Valeur_max = np.max(matrice)\n",
    "Valeur_min = np.min(matrice)\n",
    "print (\"M a matrice : \", matrice)\n",
    "print (f\"La valeur maximale de la série est :  {Valeur_max}\" )\n",
    "print (f\"La valeur minimale de la série est :  {Valeur_min} \")\n"
   ]
  },
  {
   "cell_type": "markdown",
   "id": "c7cd65e9-f7a4-40c0-a329-05990798690a",
   "metadata": {},
   "source": [
    "# Exercice 13 :"
   ]
  },
  {
   "cell_type": "code",
   "execution_count": 44,
   "id": "d5c56708-676e-46ba-a185-b6ea97be962c",
   "metadata": {},
   "outputs": [
    {
     "name": "stdout",
     "output_type": "stream",
     "text": [
      "[ 1  2  3  4  5  6  7  8  9 10 11 12 13 14 15 16 17 18 19 20]\n"
     ]
    }
   ],
   "source": [
    "# Créez un tableau NumPy contenant des nombres de 1 à 20.\n",
    "mon_tableau = np.arange(1, 21)\n",
    "print (mon_tableau)"
   ]
  },
  {
   "cell_type": "code",
   "execution_count": 47,
   "id": "c2ac5593-731c-4558-b8f2-5121e5064b5f",
   "metadata": {},
   "outputs": [
    {
     "name": "stdout",
     "output_type": "stream",
     "text": [
      "[ 6  7  8  9 10 11 12 13 14 15 16 17 18 19 20 21 22 23 24 25]\n"
     ]
    }
   ],
   "source": [
    "# Utilisez des opérations vectorisées pour ajouter 5 à chaque élément du tableau.\n",
    "for i in mon_tableau:\n",
    "    resultat = mon_tableau + 5\n",
    "print(resultat)\n"
   ]
  },
  {
   "cell_type": "code",
   "execution_count": 53,
   "id": "24574eda-d180-4f60-b58b-ed38b494bdcb",
   "metadata": {},
   "outputs": [
    {
     "name": "stdout",
     "output_type": "stream",
     "text": [
      "[11 12 13 14 15 16 17 18 19 20]\n"
     ]
    }
   ],
   "source": [
    "# Utilisez des masques pour sélectionner et afficher uniquement les éléments supérieurs à 10.\n",
    "elements_sup_10 = mon_tableau[mon_tableau > 10]\n",
    "print (elements_sup_10)\n"
   ]
  },
  {
   "cell_type": "markdown",
   "id": "8f54f42f-a620-466c-8e0a-6e97dcda9ba7",
   "metadata": {},
   "source": [
    "# Pandas :\n"
   ]
  },
  {
   "cell_type": "markdown",
   "id": "f2f0c19e-dd00-4d4e-83dd-45e14cab3eac",
   "metadata": {},
   "source": [
    "### Exercice 14 :\n"
   ]
  },
  {
   "cell_type": "code",
   "execution_count": 75,
   "id": "d7e67290-26c2-4b43-a025-e340aa47b2a9",
   "metadata": {},
   "outputs": [],
   "source": [
    "# Créez un DataFrame Pandas avec des données simples (par exemple, noms, âges et professions).\n",
    "import pandas as pd"
   ]
  },
  {
   "cell_type": "code",
   "execution_count": 78,
   "id": "484af5a1-8be0-4aa2-baf4-860028731e4c",
   "metadata": {},
   "outputs": [
    {
     "data": {
      "text/html": [
       "<div>\n",
       "<style scoped>\n",
       "    .dataframe tbody tr th:only-of-type {\n",
       "        vertical-align: middle;\n",
       "    }\n",
       "\n",
       "    .dataframe tbody tr th {\n",
       "        vertical-align: top;\n",
       "    }\n",
       "\n",
       "    .dataframe thead th {\n",
       "        text-align: right;\n",
       "    }\n",
       "</style>\n",
       "<table border=\"1\" class=\"dataframe\">\n",
       "  <thead>\n",
       "    <tr style=\"text-align: right;\">\n",
       "      <th></th>\n",
       "      <th>nom</th>\n",
       "      <th>age</th>\n",
       "      <th>profession</th>\n",
       "    </tr>\n",
       "  </thead>\n",
       "  <tbody>\n",
       "    <tr>\n",
       "      <th>0</th>\n",
       "      <td>DIEDHIOU</td>\n",
       "      <td>37</td>\n",
       "      <td>chômeur</td>\n",
       "    </tr>\n",
       "    <tr>\n",
       "      <th>1</th>\n",
       "      <td>SONKO</td>\n",
       "      <td>32</td>\n",
       "      <td>ménager</td>\n",
       "    </tr>\n",
       "    <tr>\n",
       "      <th>2</th>\n",
       "      <td>DIAO</td>\n",
       "      <td>30</td>\n",
       "      <td>enseignant</td>\n",
       "    </tr>\n",
       "    <tr>\n",
       "      <th>3</th>\n",
       "      <td>GOUDIABY</td>\n",
       "      <td>33</td>\n",
       "      <td>soudeur</td>\n",
       "    </tr>\n",
       "    <tr>\n",
       "      <th>4</th>\n",
       "      <td>TRAORE</td>\n",
       "      <td>39</td>\n",
       "      <td>pêcheur</td>\n",
       "    </tr>\n",
       "    <tr>\n",
       "      <th>5</th>\n",
       "      <td>GOMIS</td>\n",
       "      <td>36</td>\n",
       "      <td>footballeur</td>\n",
       "    </tr>\n",
       "    <tr>\n",
       "      <th>6</th>\n",
       "      <td>SOW</td>\n",
       "      <td>38</td>\n",
       "      <td>réceptionniste</td>\n",
       "    </tr>\n",
       "    <tr>\n",
       "      <th>7</th>\n",
       "      <td>SANE</td>\n",
       "      <td>35</td>\n",
       "      <td>maçon</td>\n",
       "    </tr>\n",
       "    <tr>\n",
       "      <th>8</th>\n",
       "      <td>BALDE</td>\n",
       "      <td>39</td>\n",
       "      <td>coffreur</td>\n",
       "    </tr>\n",
       "    <tr>\n",
       "      <th>9</th>\n",
       "      <td>DIATTA</td>\n",
       "      <td>40</td>\n",
       "      <td>vendeur</td>\n",
       "    </tr>\n",
       "    <tr>\n",
       "      <th>10</th>\n",
       "      <td>BADJI</td>\n",
       "      <td>41</td>\n",
       "      <td>chauffeur</td>\n",
       "    </tr>\n",
       "  </tbody>\n",
       "</table>\n",
       "</div>"
      ],
      "text/plain": [
       "         nom  age      profession\n",
       "0   DIEDHIOU   37         chômeur\n",
       "1      SONKO   32         ménager\n",
       "2       DIAO   30      enseignant\n",
       "3   GOUDIABY   33         soudeur\n",
       "4     TRAORE   39         pêcheur\n",
       "5      GOMIS   36     footballeur\n",
       "6        SOW   38  réceptionniste\n",
       "7       SANE   35           maçon\n",
       "8      BALDE   39        coffreur\n",
       "9     DIATTA   40         vendeur\n",
       "10     BADJI   41       chauffeur"
      ]
     },
     "execution_count": 78,
     "metadata": {},
     "output_type": "execute_result"
    }
   ],
   "source": [
    "# Créez un DataFrame Pandas avec des données simples (par exemple, noms, âges et professions).\n",
    "import pandas as pd\n",
    "\n",
    "mon_df = {\n",
    "    \"nom\" : [\"DIEDHIOU\", \"SONKO\", \"DIAO\", \"GOUDIABY\", \"TRAORE\", \"GOMIS\", \"SOW\", \"SANE\", \"BALDE\", \"DIATTA\", \"BADJI\"],\n",
    "    \"age\" : [37, 32, 30, 33, 39, 36, 38, 35, 39, 40, 41],\n",
    "    \"profession\" : [\"chômeur\", \"ménager\", \"enseignant\", \"soudeur\", \"pêcheur\", \"footballeur\", \"réceptionniste\", \"maçon\", \"coffreur\", \"vendeur\", \"chauffeur\"]\n",
    "}\n",
    "df = pd.DataFrame(mon_df)\n",
    "df"
   ]
  },
  {
   "cell_type": "code",
   "execution_count": 89,
   "id": "06846041-814d-41be-99d6-894d2acaf0e6",
   "metadata": {},
   "outputs": [
    {
     "data": {
      "text/html": [
       "<div>\n",
       "<style scoped>\n",
       "    .dataframe tbody tr th:only-of-type {\n",
       "        vertical-align: middle;\n",
       "    }\n",
       "\n",
       "    .dataframe tbody tr th {\n",
       "        vertical-align: top;\n",
       "    }\n",
       "\n",
       "    .dataframe thead th {\n",
       "        text-align: right;\n",
       "    }\n",
       "</style>\n",
       "<table border=\"1\" class=\"dataframe\">\n",
       "  <thead>\n",
       "    <tr style=\"text-align: right;\">\n",
       "      <th></th>\n",
       "      <th>nom</th>\n",
       "      <th>Nom</th>\n",
       "      <th>age</th>\n",
       "    </tr>\n",
       "  </thead>\n",
       "  <tbody>\n",
       "    <tr>\n",
       "      <th>0</th>\n",
       "      <td>Mame</td>\n",
       "      <td>Sonko</td>\n",
       "      <td>6</td>\n",
       "    </tr>\n",
       "    <tr>\n",
       "      <th>1</th>\n",
       "      <td>Awa</td>\n",
       "      <td>Diallo</td>\n",
       "      <td>18</td>\n",
       "    </tr>\n",
       "    <tr>\n",
       "      <th>2</th>\n",
       "      <td>Pape</td>\n",
       "      <td>Diedhiou</td>\n",
       "      <td>20</td>\n",
       "    </tr>\n",
       "  </tbody>\n",
       "</table>\n",
       "</div>"
      ],
      "text/plain": [
       "    nom       Nom  age\n",
       "0  Mame     Sonko    6\n",
       "1   Awa    Diallo   18\n",
       "2  Pape  Diedhiou   20"
      ]
     },
     "execution_count": 89,
     "metadata": {},
     "output_type": "execute_result"
    }
   ],
   "source": [
    "import pandas as pd\n",
    "df_data = {\n",
    "    \"nom\" : [\"Mame\", \"Awa\", \"Pape\"],\n",
    "    \"Nom\" : [\"Sonko\", \"Diallo\", \"Diedhiou\"],\n",
    "    \"age\" : [6, 18, 20]\n",
    "}\n",
    "df = pd.DataFrame(df_data)\n",
    "df\n"
   ]
  },
  {
   "cell_type": "code",
   "execution_count": 91,
   "id": "55d2e1de-3de5-4922-8ecf-1f4c75a865fc",
   "metadata": {},
   "outputs": [
    {
     "data": {
      "text/html": [
       "<div>\n",
       "<style scoped>\n",
       "    .dataframe tbody tr th:only-of-type {\n",
       "        vertical-align: middle;\n",
       "    }\n",
       "\n",
       "    .dataframe tbody tr th {\n",
       "        vertical-align: top;\n",
       "    }\n",
       "\n",
       "    .dataframe thead th {\n",
       "        text-align: right;\n",
       "    }\n",
       "</style>\n",
       "<table border=\"1\" class=\"dataframe\">\n",
       "  <thead>\n",
       "    <tr style=\"text-align: right;\">\n",
       "      <th></th>\n",
       "      <th>ville</th>\n",
       "      <th>superficie</th>\n",
       "      <th>annee creation</th>\n",
       "    </tr>\n",
       "  </thead>\n",
       "  <tbody>\n",
       "    <tr>\n",
       "      <th>0</th>\n",
       "      <td>Saint Louis</td>\n",
       "      <td>7500</td>\n",
       "      <td>1950</td>\n",
       "    </tr>\n",
       "    <tr>\n",
       "      <th>1</th>\n",
       "      <td>Dakar</td>\n",
       "      <td>550</td>\n",
       "      <td>1854</td>\n",
       "    </tr>\n",
       "    <tr>\n",
       "      <th>2</th>\n",
       "      <td>KOLDA</td>\n",
       "      <td>29008</td>\n",
       "      <td>1984</td>\n",
       "    </tr>\n",
       "    <tr>\n",
       "      <th>3</th>\n",
       "      <td>Thies</td>\n",
       "      <td>10085</td>\n",
       "      <td>1960</td>\n",
       "    </tr>\n",
       "  </tbody>\n",
       "</table>\n",
       "</div>"
      ],
      "text/plain": [
       "         ville  superficie annee creation\n",
       "0  Saint Louis        7500           1950\n",
       "1        Dakar         550           1854\n",
       "2        KOLDA       29008           1984\n",
       "3        Thies       10085           1960"
      ]
     },
     "execution_count": 91,
     "metadata": {},
     "output_type": "execute_result"
    }
   ],
   "source": [
    "mon_dataframe = {\n",
    "    \"ville\" : [\"Saint Louis\", \"Dakar\", \"KOLDA\", \"Thies\"],\n",
    "    \"superficie\" : [7500, 550, 29008, 10085],\n",
    "    \"annee creation\" : [\"1950\", \"1854\", \"1984\", \"1960\"]\n",
    "}\n",
    "df = pd.DataFrame(mon_dataframe)\n",
    "df\n"
   ]
  },
  {
   "cell_type": "code",
   "execution_count": 95,
   "id": "99bb7632-e6f4-4ba8-8d39-97fd304c6f8f",
   "metadata": {},
   "outputs": [
    {
     "name": "stdout",
     "output_type": "stream",
     "text": [
      "         nom  age      profession\n",
      "0   DIEDHIOU   37         chômeur\n",
      "1      SONKO   32         ménager\n",
      "2       DIAO   30      enseignant\n",
      "3   GOUDIABY   33         soudeur\n",
      "4     TRAORE   39         pêcheur\n",
      "5      GOMIS   36     footballeur\n",
      "6        SOW   38  réceptionniste\n",
      "7       SANE   35           maçon\n",
      "8      BALDE   39        coffreur\n",
      "9     DIATTA   40         vendeur\n",
      "10     BADJI   41       chauffeur\n"
     ]
    }
   ],
   "source": [
    "import pandas as pd\n",
    "\n",
    "# Définition du dictionnaire\n",
    "mon_df = {\n",
    "    \"nom\": [\"DIEDHIOU\", \"SONKO\", \"DIAO\", \"GOUDIABY\", \"TRAORE\", \"GOMIS\", \"SOW\", \"SANE\", \"BALDE\", \"DIATTA\", \"BADJI\"],\n",
    "    \"age\": [37, 32, 30, 33, 39, 36, 38, 35, 39, 40, 41],\n",
    "    \"profession\": [\"chômeur\", \"ménager\", \"enseignant\", \"soudeur\", \"pêcheur\", \"footballeur\", \"réceptionniste\", \"maçon\", \"coffreur\", \"vendeur\", \"chauffeur\"]\n",
    "}\n",
    "\n",
    "# Création du DataFrame\n",
    "df = pd.DataFrame(mon_df)\n",
    "\n",
    "# Affichage du DataFrame\n",
    "print(df)\n"
   ]
  },
  {
   "cell_type": "code",
   "execution_count": 96,
   "id": "badec0d1-4653-4e38-8d09-8ea035c37934",
   "metadata": {},
   "outputs": [
    {
     "data": {
      "text/html": [
       "<div>\n",
       "<style scoped>\n",
       "    .dataframe tbody tr th:only-of-type {\n",
       "        vertical-align: middle;\n",
       "    }\n",
       "\n",
       "    .dataframe tbody tr th {\n",
       "        vertical-align: top;\n",
       "    }\n",
       "\n",
       "    .dataframe thead th {\n",
       "        text-align: right;\n",
       "    }\n",
       "</style>\n",
       "<table border=\"1\" class=\"dataframe\">\n",
       "  <thead>\n",
       "    <tr style=\"text-align: right;\">\n",
       "      <th></th>\n",
       "      <th>nom</th>\n",
       "      <th>age</th>\n",
       "      <th>profession</th>\n",
       "    </tr>\n",
       "  </thead>\n",
       "  <tbody>\n",
       "    <tr>\n",
       "      <th>0</th>\n",
       "      <td>DIEDHIOU</td>\n",
       "      <td>37</td>\n",
       "      <td>chômeur</td>\n",
       "    </tr>\n",
       "    <tr>\n",
       "      <th>1</th>\n",
       "      <td>SONKO</td>\n",
       "      <td>32</td>\n",
       "      <td>ménager</td>\n",
       "    </tr>\n",
       "    <tr>\n",
       "      <th>2</th>\n",
       "      <td>DIAO</td>\n",
       "      <td>30</td>\n",
       "      <td>enseignant</td>\n",
       "    </tr>\n",
       "    <tr>\n",
       "      <th>3</th>\n",
       "      <td>GOUDIABY</td>\n",
       "      <td>33</td>\n",
       "      <td>soudeur</td>\n",
       "    </tr>\n",
       "    <tr>\n",
       "      <th>4</th>\n",
       "      <td>TRAORE</td>\n",
       "      <td>39</td>\n",
       "      <td>pêcheur</td>\n",
       "    </tr>\n",
       "  </tbody>\n",
       "</table>\n",
       "</div>"
      ],
      "text/plain": [
       "        nom  age  profession\n",
       "0  DIEDHIOU   37     chômeur\n",
       "1     SONKO   32     ménager\n",
       "2      DIAO   30  enseignant\n",
       "3  GOUDIABY   33     soudeur\n",
       "4    TRAORE   39     pêcheur"
      ]
     },
     "execution_count": 96,
     "metadata": {},
     "output_type": "execute_result"
    }
   ],
   "source": [
    "# Affichez les 5 premières lignes du DataFrame.\n",
    "df.head()\n"
   ]
  },
  {
   "cell_type": "code",
   "execution_count": 107,
   "id": "09cc82aa-eb59-4a68-9292-f7dac8308cf7",
   "metadata": {},
   "outputs": [
    {
     "name": "stdout",
     "output_type": "stream",
     "text": [
      "         nom  age      profession\n",
      "0   DIEDHIOU   37         chômeur\n",
      "4     TRAORE   39         pêcheur\n",
      "5      GOMIS   36     footballeur\n",
      "6        SOW   38  réceptionniste\n",
      "8      BALDE   39        coffreur\n",
      "9     DIATTA   40         vendeur\n",
      "10     BADJI   41       chauffeur\n"
     ]
    }
   ],
   "source": [
    "# Sélectionnez uniquement les lignes où l'âge est supérieur à 30.\n",
    "\n",
    "import pandas as pd\n",
    "\n",
    "# Dictionnaire initial\n",
    "mon_df = {\n",
    "    \"nom\": [\"DIEDHIOU\", \"SONKO\", \"DIAO\", \"GOUDIABY\", \"TRAORE\", \"GOMIS\", \"SOW\", \"SANE\", \"BALDE\", \"DIATTA\", \"BADJI\"],\n",
    "    \"age\": [37, 32, 30, 33, 39, 36, 38, 35, 39, 40, 41],\n",
    "    \"profession\": [\"chômeur\", \"ménager\", \"enseignant\", \"soudeur\", \"pêcheur\", \"footballeur\", \"réceptionniste\", \"maçon\", \"coffreur\", \"vendeur\", \"chauffeur\"]\n",
    "}\n",
    "\n",
    "# Conversion en DataFrame Pandas\n",
    "df = pd.DataFrame(mon_df)\n",
    "\n",
    "# Filtrer les lignes où l'âge est supérieur à 35\n",
    "df_filtre = df[df[\"age\"] > 35]\n",
    "\n",
    "# Afficher le DataFrame filtré\n",
    "print(df_filtre)\n",
    "\n",
    "\n",
    "\n"
   ]
  },
  {
   "cell_type": "markdown",
   "id": "990a54ba-e9c0-4ae7-9513-8e7316955e4e",
   "metadata": {},
   "source": [
    "# Exercice 15 :\n"
   ]
  },
  {
   "cell_type": "code",
   "execution_count": 120,
   "id": "12def540-b3ab-4fe4-8de4-b3e4a75c4d4d",
   "metadata": {},
   "outputs": [
    {
     "data": {
      "text/html": [
       "<div>\n",
       "<style scoped>\n",
       "    .dataframe tbody tr th:only-of-type {\n",
       "        vertical-align: middle;\n",
       "    }\n",
       "\n",
       "    .dataframe tbody tr th {\n",
       "        vertical-align: top;\n",
       "    }\n",
       "\n",
       "    .dataframe thead th {\n",
       "        text-align: right;\n",
       "    }\n",
       "</style>\n",
       "<table border=\"1\" class=\"dataframe\">\n",
       "  <thead>\n",
       "    <tr style=\"text-align: right;\">\n",
       "      <th></th>\n",
       "      <th>Produits</th>\n",
       "      <th>Quantités</th>\n",
       "      <th>Prix unitaires</th>\n",
       "    </tr>\n",
       "  </thead>\n",
       "  <tbody>\n",
       "    <tr>\n",
       "      <th>0</th>\n",
       "      <td>Sacs</td>\n",
       "      <td>250</td>\n",
       "      <td>6000</td>\n",
       "    </tr>\n",
       "    <tr>\n",
       "      <th>1</th>\n",
       "      <td>Chaussures</td>\n",
       "      <td>1100</td>\n",
       "      <td>22000</td>\n",
       "    </tr>\n",
       "    <tr>\n",
       "      <th>2</th>\n",
       "      <td>Ballons</td>\n",
       "      <td>600</td>\n",
       "      <td>12000</td>\n",
       "    </tr>\n",
       "  </tbody>\n",
       "</table>\n",
       "</div>"
      ],
      "text/plain": [
       "     Produits  Quantités  Prix unitaires\n",
       "0        Sacs        250            6000\n",
       "1  Chaussures       1100           22000\n",
       "2     Ballons        600           12000"
      ]
     },
     "execution_count": 120,
     "metadata": {},
     "output_type": "execute_result"
    }
   ],
   "source": [
    "# Créez un DataFrame Pandas avec des données de ventes (produit, quantité, prix unitaire).\n",
    "import pandas as pd\n",
    "\n",
    "ventes = {\n",
    "\"Produits\" : [\"Sacs\", \"Chaussures\", \"Ballons\"],\n",
    "\"Quantités\" : [ 250, 1100, 600],\n",
    "\"Prix unitaires\" : [6000, 22000, 12000]\n",
    "}\n",
    "df_ventes = pd.DataFrame(ventes)\n",
    "df_ventes\n"
   ]
  },
  {
   "cell_type": "code",
   "execution_count": 126,
   "id": "8c7f5aa6-ae69-453a-8fd2-5542416ee21d",
   "metadata": {
    "scrolled": true
   },
   "outputs": [
    {
     "data": {
      "text/html": [
       "<div>\n",
       "<style scoped>\n",
       "    .dataframe tbody tr th:only-of-type {\n",
       "        vertical-align: middle;\n",
       "    }\n",
       "\n",
       "    .dataframe tbody tr th {\n",
       "        vertical-align: top;\n",
       "    }\n",
       "\n",
       "    .dataframe thead th {\n",
       "        text-align: right;\n",
       "    }\n",
       "</style>\n",
       "<table border=\"1\" class=\"dataframe\">\n",
       "  <thead>\n",
       "    <tr style=\"text-align: right;\">\n",
       "      <th></th>\n",
       "      <th>Produits</th>\n",
       "      <th>Quantités</th>\n",
       "      <th>Prix unitaires</th>\n",
       "      <th>Total</th>\n",
       "    </tr>\n",
       "  </thead>\n",
       "  <tbody>\n",
       "    <tr>\n",
       "      <th>0</th>\n",
       "      <td>Sacs</td>\n",
       "      <td>250</td>\n",
       "      <td>6000</td>\n",
       "      <td>1500000</td>\n",
       "    </tr>\n",
       "    <tr>\n",
       "      <th>1</th>\n",
       "      <td>Chaussures</td>\n",
       "      <td>1100</td>\n",
       "      <td>22000</td>\n",
       "      <td>24200000</td>\n",
       "    </tr>\n",
       "    <tr>\n",
       "      <th>2</th>\n",
       "      <td>Ballons</td>\n",
       "      <td>600</td>\n",
       "      <td>12000</td>\n",
       "      <td>7200000</td>\n",
       "    </tr>\n",
       "  </tbody>\n",
       "</table>\n",
       "</div>"
      ],
      "text/plain": [
       "     Produits  Quantités  Prix unitaires     Total\n",
       "0        Sacs        250            6000   1500000\n",
       "1  Chaussures       1100           22000  24200000\n",
       "2     Ballons        600           12000   7200000"
      ]
     },
     "execution_count": 126,
     "metadata": {},
     "output_type": "execute_result"
    }
   ],
   "source": [
    "# Calculez le total des ventes pour chaque produit en créant une nouvelle colonne \"Total\".\n",
    "\n",
    "df_ventes[\"Total\"] = df_ventes[\"Quantités\"] * df_ventes[\"Prix unitaires\"]\n",
    "df_ventes"
   ]
  },
  {
   "cell_type": "code",
   "execution_count": 129,
   "id": "1cbfa7e0-3cc0-4731-95fc-baa9aa4eb60b",
   "metadata": {},
   "outputs": [],
   "source": [
    "# Affichez les résultats triés par total des ventes"
   ]
  },
  {
   "cell_type": "code",
   "execution_count": 145,
   "id": "35786621-d22a-4154-9142-81a5eee259da",
   "metadata": {},
   "outputs": [
    {
     "data": {
      "text/html": [
       "<div>\n",
       "<style scoped>\n",
       "    .dataframe tbody tr th:only-of-type {\n",
       "        vertical-align: middle;\n",
       "    }\n",
       "\n",
       "    .dataframe tbody tr th {\n",
       "        vertical-align: top;\n",
       "    }\n",
       "\n",
       "    .dataframe thead th {\n",
       "        text-align: right;\n",
       "    }\n",
       "</style>\n",
       "<table border=\"1\" class=\"dataframe\">\n",
       "  <thead>\n",
       "    <tr style=\"text-align: right;\">\n",
       "      <th></th>\n",
       "      <th>Produits</th>\n",
       "      <th>Quantités</th>\n",
       "      <th>Prix unitaire</th>\n",
       "      <th>Total</th>\n",
       "    </tr>\n",
       "  </thead>\n",
       "  <tbody>\n",
       "    <tr>\n",
       "      <th>0</th>\n",
       "      <td>Sacs</td>\n",
       "      <td>150</td>\n",
       "      <td>5.60</td>\n",
       "      <td>840.0</td>\n",
       "    </tr>\n",
       "    <tr>\n",
       "      <th>1</th>\n",
       "      <td>Ballons</td>\n",
       "      <td>600</td>\n",
       "      <td>18.25</td>\n",
       "      <td>10950.0</td>\n",
       "    </tr>\n",
       "    <tr>\n",
       "      <th>2</th>\n",
       "      <td>Plots</td>\n",
       "      <td>1800</td>\n",
       "      <td>1.50</td>\n",
       "      <td>2700.0</td>\n",
       "    </tr>\n",
       "    <tr>\n",
       "      <th>3</th>\n",
       "      <td>Chaussures</td>\n",
       "      <td>1100</td>\n",
       "      <td>23.50</td>\n",
       "      <td>25850.0</td>\n",
       "    </tr>\n",
       "    <tr>\n",
       "      <th>4</th>\n",
       "      <td>Tables</td>\n",
       "      <td>20</td>\n",
       "      <td>55.33</td>\n",
       "      <td>1106.6</td>\n",
       "    </tr>\n",
       "  </tbody>\n",
       "</table>\n",
       "</div>"
      ],
      "text/plain": [
       "     Produits  Quantités  Prix unitaire    Total\n",
       "0        Sacs        150           5.60    840.0\n",
       "1     Ballons        600          18.25  10950.0\n",
       "2       Plots       1800           1.50   2700.0\n",
       "3  Chaussures       1100          23.50  25850.0\n",
       "4      Tables         20          55.33   1106.6"
      ]
     },
     "execution_count": 145,
     "metadata": {},
     "output_type": "execute_result"
    }
   ],
   "source": [
    "mon_tableau = {\n",
    "\n",
    "\"Produits\" : [\"Sacs\", \"Ballons\", \"Plots\", \"Chaussures\", \"Tables\"],\n",
    "\"Quantités\" : [150, 600, 1800, 1100, 20],\n",
    "\"Prix unitaire\" : [5.6, 18.25, 1.5, 23.5, 55.33]\n",
    "}\n",
    "df_mon_tableau = pd.DataFrame(mon_tableau)\n",
    "df_mon_tableau[\"Total\"] = df_mon_tableau[\"Quantités\"] * df_mon_tableau[\"Prix unitaire\"]\n",
    "df_trie = df_mon_tableau.sort_values (by = \"Total\", ascending =False)\n",
    "df_mon_tableau\n"
   ]
  },
  {
   "cell_type": "markdown",
   "id": "9bc6f91c-78ed-48d3-a953-0be1d4dbc03c",
   "metadata": {},
   "source": [
    "# Exercice 16 :"
   ]
  },
  {
   "cell_type": "code",
   "execution_count": 153,
   "id": "3b557e9f-9389-432a-8c42-dd8b6e4a3d94",
   "metadata": {},
   "outputs": [
    {
     "name": "stdout",
     "output_type": "stream",
     "text": [
      "C:\\Users\\DIEDHIOU\\Exercice d'application\n"
     ]
    }
   ],
   "source": [
    "# Montre le répertoire actuel\n",
    "import os\n",
    "print(os.getcwd())  # Montre le répertoire actuel\n"
   ]
  },
  {
   "cell_type": "code",
   "execution_count": 162,
   "id": "1a6313da-12e4-4283-bf86-6e74d3f521e8",
   "metadata": {},
   "outputs": [
    {
     "data": {
      "text/html": [
       "<div>\n",
       "<style scoped>\n",
       "    .dataframe tbody tr th:only-of-type {\n",
       "        vertical-align: middle;\n",
       "    }\n",
       "\n",
       "    .dataframe tbody tr th {\n",
       "        vertical-align: top;\n",
       "    }\n",
       "\n",
       "    .dataframe thead th {\n",
       "        text-align: right;\n",
       "    }\n",
       "</style>\n",
       "<table border=\"1\" class=\"dataframe\">\n",
       "  <thead>\n",
       "    <tr style=\"text-align: right;\">\n",
       "      <th></th>\n",
       "      <th>id</th>\n",
       "      <th>age</th>\n",
       "      <th>job</th>\n",
       "      <th>marital</th>\n",
       "      <th>education</th>\n",
       "      <th>default</th>\n",
       "      <th>balance</th>\n",
       "      <th>housing</th>\n",
       "      <th>loan</th>\n",
       "      <th>contact</th>\n",
       "      <th>day</th>\n",
       "      <th>month</th>\n",
       "      <th>duration</th>\n",
       "      <th>campaign</th>\n",
       "      <th>pdays</th>\n",
       "      <th>previous</th>\n",
       "      <th>poutcome</th>\n",
       "      <th>y</th>\n",
       "    </tr>\n",
       "  </thead>\n",
       "  <tbody>\n",
       "    <tr>\n",
       "      <th>0</th>\n",
       "      <td>id1</td>\n",
       "      <td>58</td>\n",
       "      <td>management</td>\n",
       "      <td>married</td>\n",
       "      <td>tertiary</td>\n",
       "      <td>no</td>\n",
       "      <td>2143.0</td>\n",
       "      <td>yes</td>\n",
       "      <td>no</td>\n",
       "      <td>unknown</td>\n",
       "      <td>5</td>\n",
       "      <td>may</td>\n",
       "      <td>261</td>\n",
       "      <td>1</td>\n",
       "      <td>-1</td>\n",
       "      <td>0</td>\n",
       "      <td>unknown</td>\n",
       "      <td>no</td>\n",
       "    </tr>\n",
       "    <tr>\n",
       "      <th>1</th>\n",
       "      <td>id2</td>\n",
       "      <td>44</td>\n",
       "      <td>technician</td>\n",
       "      <td>single</td>\n",
       "      <td>secondary</td>\n",
       "      <td>no</td>\n",
       "      <td>29.0</td>\n",
       "      <td>yes</td>\n",
       "      <td>no</td>\n",
       "      <td>unknown</td>\n",
       "      <td>5</td>\n",
       "      <td>may</td>\n",
       "      <td>151</td>\n",
       "      <td>1</td>\n",
       "      <td>-1</td>\n",
       "      <td>0</td>\n",
       "      <td>unknown</td>\n",
       "      <td>no</td>\n",
       "    </tr>\n",
       "    <tr>\n",
       "      <th>2</th>\n",
       "      <td>id3</td>\n",
       "      <td>33</td>\n",
       "      <td>entrepreneur</td>\n",
       "      <td>married</td>\n",
       "      <td>secondary</td>\n",
       "      <td>no</td>\n",
       "      <td>2.0</td>\n",
       "      <td>yes</td>\n",
       "      <td>yes</td>\n",
       "      <td>unknown</td>\n",
       "      <td>5</td>\n",
       "      <td>may</td>\n",
       "      <td>76</td>\n",
       "      <td>1</td>\n",
       "      <td>-1</td>\n",
       "      <td>0</td>\n",
       "      <td>unknown</td>\n",
       "      <td>no</td>\n",
       "    </tr>\n",
       "    <tr>\n",
       "      <th>3</th>\n",
       "      <td>id4</td>\n",
       "      <td>47</td>\n",
       "      <td>blue-collar</td>\n",
       "      <td>married</td>\n",
       "      <td>unknown</td>\n",
       "      <td>no</td>\n",
       "      <td>1506.0</td>\n",
       "      <td>yes</td>\n",
       "      <td>no</td>\n",
       "      <td>unknown</td>\n",
       "      <td>5</td>\n",
       "      <td>may</td>\n",
       "      <td>92</td>\n",
       "      <td>1</td>\n",
       "      <td>-1</td>\n",
       "      <td>0</td>\n",
       "      <td>unknown</td>\n",
       "      <td>no</td>\n",
       "    </tr>\n",
       "    <tr>\n",
       "      <th>4</th>\n",
       "      <td>id5</td>\n",
       "      <td>33</td>\n",
       "      <td>unknown</td>\n",
       "      <td>single</td>\n",
       "      <td>unknown</td>\n",
       "      <td>no</td>\n",
       "      <td>1.0</td>\n",
       "      <td>no</td>\n",
       "      <td>no</td>\n",
       "      <td>unknown</td>\n",
       "      <td>5</td>\n",
       "      <td>may</td>\n",
       "      <td>198</td>\n",
       "      <td>1</td>\n",
       "      <td>-1</td>\n",
       "      <td>0</td>\n",
       "      <td>unknown</td>\n",
       "      <td>no</td>\n",
       "    </tr>\n",
       "    <tr>\n",
       "      <th>...</th>\n",
       "      <td>...</td>\n",
       "      <td>...</td>\n",
       "      <td>...</td>\n",
       "      <td>...</td>\n",
       "      <td>...</td>\n",
       "      <td>...</td>\n",
       "      <td>...</td>\n",
       "      <td>...</td>\n",
       "      <td>...</td>\n",
       "      <td>...</td>\n",
       "      <td>...</td>\n",
       "      <td>...</td>\n",
       "      <td>...</td>\n",
       "      <td>...</td>\n",
       "      <td>...</td>\n",
       "      <td>...</td>\n",
       "      <td>...</td>\n",
       "      <td>...</td>\n",
       "    </tr>\n",
       "    <tr>\n",
       "      <th>45206</th>\n",
       "      <td>id45207</td>\n",
       "      <td>51</td>\n",
       "      <td>technician</td>\n",
       "      <td>married</td>\n",
       "      <td>tertiary</td>\n",
       "      <td>no</td>\n",
       "      <td>825.0</td>\n",
       "      <td>no</td>\n",
       "      <td>no</td>\n",
       "      <td>cellular</td>\n",
       "      <td>17</td>\n",
       "      <td>nov</td>\n",
       "      <td>977</td>\n",
       "      <td>3</td>\n",
       "      <td>-1</td>\n",
       "      <td>0</td>\n",
       "      <td>unknown</td>\n",
       "      <td>yes</td>\n",
       "    </tr>\n",
       "    <tr>\n",
       "      <th>45207</th>\n",
       "      <td>id45208</td>\n",
       "      <td>71</td>\n",
       "      <td>retired</td>\n",
       "      <td>divorced</td>\n",
       "      <td>primary</td>\n",
       "      <td>no</td>\n",
       "      <td>1729.0</td>\n",
       "      <td>no</td>\n",
       "      <td>no</td>\n",
       "      <td>cellular</td>\n",
       "      <td>17</td>\n",
       "      <td>nov</td>\n",
       "      <td>456</td>\n",
       "      <td>2</td>\n",
       "      <td>-1</td>\n",
       "      <td>0</td>\n",
       "      <td>unknown</td>\n",
       "      <td>yes</td>\n",
       "    </tr>\n",
       "    <tr>\n",
       "      <th>45208</th>\n",
       "      <td>id45209</td>\n",
       "      <td>72</td>\n",
       "      <td>retired</td>\n",
       "      <td>married</td>\n",
       "      <td>secondary</td>\n",
       "      <td>no</td>\n",
       "      <td>5715.0</td>\n",
       "      <td>no</td>\n",
       "      <td>no</td>\n",
       "      <td>cellular</td>\n",
       "      <td>17</td>\n",
       "      <td>nov</td>\n",
       "      <td>1127</td>\n",
       "      <td>5</td>\n",
       "      <td>184</td>\n",
       "      <td>3</td>\n",
       "      <td>success</td>\n",
       "      <td>yes</td>\n",
       "    </tr>\n",
       "    <tr>\n",
       "      <th>45209</th>\n",
       "      <td>id45210</td>\n",
       "      <td>57</td>\n",
       "      <td>blue-collar</td>\n",
       "      <td>married</td>\n",
       "      <td>secondary</td>\n",
       "      <td>no</td>\n",
       "      <td>668.0</td>\n",
       "      <td>no</td>\n",
       "      <td>no</td>\n",
       "      <td>telephone</td>\n",
       "      <td>17</td>\n",
       "      <td>nov</td>\n",
       "      <td>508</td>\n",
       "      <td>4</td>\n",
       "      <td>-1</td>\n",
       "      <td>0</td>\n",
       "      <td>unknown</td>\n",
       "      <td>no</td>\n",
       "    </tr>\n",
       "    <tr>\n",
       "      <th>45210</th>\n",
       "      <td>id45211</td>\n",
       "      <td>37</td>\n",
       "      <td>entrepreneur</td>\n",
       "      <td>married</td>\n",
       "      <td>secondary</td>\n",
       "      <td>no</td>\n",
       "      <td>2971.0</td>\n",
       "      <td>no</td>\n",
       "      <td>no</td>\n",
       "      <td>cellular</td>\n",
       "      <td>17</td>\n",
       "      <td>nov</td>\n",
       "      <td>361</td>\n",
       "      <td>2</td>\n",
       "      <td>188</td>\n",
       "      <td>11</td>\n",
       "      <td>other</td>\n",
       "      <td>no</td>\n",
       "    </tr>\n",
       "  </tbody>\n",
       "</table>\n",
       "<p>45211 rows × 18 columns</p>\n",
       "</div>"
      ],
      "text/plain": [
       "            id  age           job   marital  education default  balance  \\\n",
       "0          id1   58    management   married   tertiary      no   2143.0   \n",
       "1          id2   44    technician    single  secondary      no     29.0   \n",
       "2          id3   33  entrepreneur   married  secondary      no      2.0   \n",
       "3          id4   47   blue-collar   married    unknown      no   1506.0   \n",
       "4          id5   33       unknown    single    unknown      no      1.0   \n",
       "...        ...  ...           ...       ...        ...     ...      ...   \n",
       "45206  id45207   51    technician   married   tertiary      no    825.0   \n",
       "45207  id45208   71       retired  divorced    primary      no   1729.0   \n",
       "45208  id45209   72       retired   married  secondary      no   5715.0   \n",
       "45209  id45210   57   blue-collar   married  secondary      no    668.0   \n",
       "45210  id45211   37  entrepreneur   married  secondary      no   2971.0   \n",
       "\n",
       "      housing loan    contact  day month  duration  campaign  pdays  previous  \\\n",
       "0         yes   no    unknown    5   may       261         1     -1         0   \n",
       "1         yes   no    unknown    5   may       151         1     -1         0   \n",
       "2         yes  yes    unknown    5   may        76         1     -1         0   \n",
       "3         yes   no    unknown    5   may        92         1     -1         0   \n",
       "4          no   no    unknown    5   may       198         1     -1         0   \n",
       "...       ...  ...        ...  ...   ...       ...       ...    ...       ...   \n",
       "45206      no   no   cellular   17   nov       977         3     -1         0   \n",
       "45207      no   no   cellular   17   nov       456         2     -1         0   \n",
       "45208      no   no   cellular   17   nov      1127         5    184         3   \n",
       "45209      no   no  telephone   17   nov       508         4     -1         0   \n",
       "45210      no   no   cellular   17   nov       361         2    188        11   \n",
       "\n",
       "      poutcome    y  \n",
       "0      unknown   no  \n",
       "1      unknown   no  \n",
       "2      unknown   no  \n",
       "3      unknown   no  \n",
       "4      unknown   no  \n",
       "...        ...  ...  \n",
       "45206  unknown  yes  \n",
       "45207  unknown  yes  \n",
       "45208  success  yes  \n",
       "45209  unknown   no  \n",
       "45210    other   no  \n",
       "\n",
       "[45211 rows x 18 columns]"
      ]
     },
     "execution_count": 162,
     "metadata": {},
     "output_type": "execute_result"
    }
   ],
   "source": [
    "df = pd.read_csv(\"D:\\Python_Analyse_de_données\\donnees_marketing_banque.csv\", sep = \";\",  encoding='utf-8')\n",
    "df\n",
    "\n"
   ]
  },
  {
   "cell_type": "code",
   "execution_count": null,
   "id": "b2d12959-4e2d-4856-9d5a-dc4b44fd721c",
   "metadata": {},
   "outputs": [],
   "source": [
    "C:\\Users\\DIEDHIOU\\Exercice d'application/donnees_marketing_banque.csv"
   ]
  },
  {
   "cell_type": "code",
   "execution_count": 165,
   "id": "1837fdab-5357-4f48-a4be-025cdd8834d4",
   "metadata": {},
   "outputs": [
    {
     "name": "stdout",
     "output_type": "stream",
     "text": [
      "           age   balance      day  duration  campaign    pdays  previous\n",
      "count  45211.0   45206.0  45211.0   45211.0   45211.0  45211.0   45211.0\n",
      "min       10.0   -8019.0      1.0       0.0       1.0     -1.0       0.0\n",
      "max       95.0  102127.0     31.0    4918.0      63.0    871.0     275.0\n"
     ]
    }
   ],
   "source": [
    "# Utiliser df.describe() et sélectionner des lignes spécifiques\n",
    "stats_selection = df.describe().loc[[\"count\", \"min\", \"max\"]]\n",
    "print(stats_selection)\n"
   ]
  },
  {
   "cell_type": "code",
   "execution_count": 166,
   "id": "f0780f9a-afcb-4479-8430-b4669718854d",
   "metadata": {},
   "outputs": [
    {
     "name": "stdout",
     "output_type": "stream",
     "text": [
      "<class 'pandas.core.frame.DataFrame'>\n",
      "RangeIndex: 45211 entries, 0 to 45210\n",
      "Data columns (total 18 columns):\n",
      " #   Column     Non-Null Count  Dtype  \n",
      "---  ------     --------------  -----  \n",
      " 0   id         45211 non-null  object \n",
      " 1   age        45211 non-null  int64  \n",
      " 2   job        45211 non-null  object \n",
      " 3   marital    45211 non-null  object \n",
      " 4   education  45211 non-null  object \n",
      " 5   default    45211 non-null  object \n",
      " 6   balance    45206 non-null  float64\n",
      " 7   housing    45211 non-null  object \n",
      " 8   loan       45211 non-null  object \n",
      " 9   contact    45211 non-null  object \n",
      " 10  day        45211 non-null  int64  \n",
      " 11  month      45211 non-null  object \n",
      " 12  duration   45211 non-null  int64  \n",
      " 13  campaign   45211 non-null  int64  \n",
      " 14  pdays      45211 non-null  int64  \n",
      " 15  previous   45211 non-null  int64  \n",
      " 16  poutcome   45211 non-null  object \n",
      " 17  y          45211 non-null  object \n",
      "dtypes: float64(1), int64(6), object(11)\n",
      "memory usage: 6.2+ MB\n"
     ]
    }
   ],
   "source": [
    "# Affichez les informations sur le DataFrame (nombre de lignes et colonnes).\n",
    "df.info()"
   ]
  },
  {
   "cell_type": "code",
   "execution_count": 168,
   "id": "06eef894-44be-468c-af6e-589586b65be7",
   "metadata": {},
   "outputs": [
    {
     "data": {
      "text/plain": [
       "(45211, 18)"
      ]
     },
     "execution_count": 168,
     "metadata": {},
     "output_type": "execute_result"
    }
   ],
   "source": [
    "df.shape"
   ]
  },
  {
   "cell_type": "code",
   "execution_count": 169,
   "id": "a2d9085f-0eb3-44ee-aefc-048a583ad2f8",
   "metadata": {},
   "outputs": [
    {
     "name": "stdout",
     "output_type": "stream",
     "text": [
      "            id  age         job  marital  education default  balance housing  \\\n",
      "0          id1   58  management  married   tertiary      no   2143.0     yes   \n",
      "5          id6   35  management  married   tertiary      no    231.0     yes   \n",
      "6          id7   28  management   single   tertiary      no    447.0     yes   \n",
      "21        id22   56  management  married   tertiary      no    779.0     yes   \n",
      "26        id27   12  management   single   tertiary      no    255.0     yes   \n",
      "...        ...  ...         ...      ...        ...     ...      ...     ...   \n",
      "45192  id45193   29  management   single   tertiary      no    765.0      no   \n",
      "45194  id45195   59  management  married   tertiary      no    138.0     yes   \n",
      "45197  id45198   36  management   single  secondary      no   1511.0     yes   \n",
      "45198  id45199   37  management  married   tertiary      no   1428.0      no   \n",
      "45201  id45202   53  management  married   tertiary      no    583.0      no   \n",
      "\n",
      "      loan   contact  day month  duration  campaign  pdays  previous poutcome  \\\n",
      "0       no   unknown    5   may       261         1     -1         0  unknown   \n",
      "5       no   unknown    5   may       139         1     -1         0  unknown   \n",
      "6      yes   unknown    5   may       217         1     -1         0  unknown   \n",
      "21      no   unknown    5   may       164         1     -1         0  unknown   \n",
      "26      no   unknown    5   may       296         1     -1         0  unknown   \n",
      "...    ...       ...  ...   ...       ...       ...    ...       ...      ...   \n",
      "45192   no  cellular   16   nov       238         1     -1         0  unknown   \n",
      "45194  yes  cellular   16   nov       162         2    187         5  failure   \n",
      "45197   no  cellular   16   nov       270         1     -1         0  unknown   \n",
      "45198   no  cellular   16   nov       333         2     -1         0  unknown   \n",
      "45201   no  cellular   17   nov       226         1    184         4  success   \n",
      "\n",
      "         y  \n",
      "0       no  \n",
      "5       no  \n",
      "6       no  \n",
      "21      no  \n",
      "26      no  \n",
      "...    ...  \n",
      "45192  yes  \n",
      "45194   no  \n",
      "45197  yes  \n",
      "45198   no  \n",
      "45201  yes  \n",
      "\n",
      "[9458 rows x 18 columns]\n"
     ]
    }
   ],
   "source": [
    "# Recherchez une valeur spécifique dans une colonne et effectuez un filtrage.\n",
    "\n",
    "resultat = df[df[\"job\"] == \"management\"]\n",
    "print(resultat)\n"
   ]
  },
  {
   "cell_type": "markdown",
   "id": "393c69ff-2b9b-478e-b829-493be8d8afde",
   "metadata": {},
   "source": [
    "# Exercice 17 :\n"
   ]
  },
  {
   "cell_type": "code",
   "execution_count": 172,
   "id": "01be6b7d-7058-436c-9741-90c589d08109",
   "metadata": {},
   "outputs": [
    {
     "name": "stdout",
     "output_type": "stream",
     "text": [
      "{'Fatou': 28, 'Amadou': 25, 'Coly': 45, 'John': 16, 'Seydou': 25}\n"
     ]
    }
   ],
   "source": [
    "# Créez un dictionnaire où les clés sont des prénoms et les valeurs sont des âges.\n",
    "mon_dictionnaire = {\n",
    "\"Fatou\" : 28, \n",
    "\"Amadou\" : 25, \n",
    "\"Coly\" : 45, \n",
    "\"John\" : 16, \n",
    "\"Seydou\" : 25\n",
    "}\n",
    "print (mon_dictionnaire)"
   ]
  },
  {
   "cell_type": "code",
   "execution_count": 173,
   "id": "3adffd94-0de9-42a6-9e24-a0a35502c9be",
   "metadata": {},
   "outputs": [
    {
     "name": "stdout",
     "output_type": "stream",
     "text": [
      "{'Fatou': 28, 'Amadou': 35, 'Coly': 18, 'John': 45, 'Seydou': 52}\n"
     ]
    }
   ],
   "source": [
    "mon_dictionnaire = {\n",
    "    \"Fatou\": 28,\n",
    "    \"Amadou\": 35,\n",
    "    \"Coly\": 18,\n",
    "    \"John\": 45,\n",
    "    \"Seydou\": 52\n",
    "}\n",
    "\n",
    "print(mon_dictionnaire)\n"
   ]
  },
  {
   "cell_type": "code",
   "execution_count": 183,
   "id": "81300ddf-a33a-4564-83db-2888c378836d",
   "metadata": {},
   "outputs": [
    {
     "data": {
      "text/html": [
       "<div>\n",
       "<style scoped>\n",
       "    .dataframe tbody tr th:only-of-type {\n",
       "        vertical-align: middle;\n",
       "    }\n",
       "\n",
       "    .dataframe tbody tr th {\n",
       "        vertical-align: top;\n",
       "    }\n",
       "\n",
       "    .dataframe thead th {\n",
       "        text-align: right;\n",
       "    }\n",
       "</style>\n",
       "<table border=\"1\" class=\"dataframe\">\n",
       "  <thead>\n",
       "    <tr style=\"text-align: right;\">\n",
       "      <th></th>\n",
       "      <th>Prenoms</th>\n",
       "      <th>Age</th>\n",
       "      <th>Annee_Actuelle</th>\n",
       "      <th>Annee_naissance</th>\n",
       "    </tr>\n",
       "  </thead>\n",
       "  <tbody>\n",
       "    <tr>\n",
       "      <th>0</th>\n",
       "      <td>Fatou</td>\n",
       "      <td>28</td>\n",
       "      <td>2024</td>\n",
       "      <td>1996</td>\n",
       "    </tr>\n",
       "    <tr>\n",
       "      <th>1</th>\n",
       "      <td>Amadou</td>\n",
       "      <td>35</td>\n",
       "      <td>2024</td>\n",
       "      <td>1989</td>\n",
       "    </tr>\n",
       "    <tr>\n",
       "      <th>2</th>\n",
       "      <td>Coly</td>\n",
       "      <td>18</td>\n",
       "      <td>2024</td>\n",
       "      <td>2006</td>\n",
       "    </tr>\n",
       "    <tr>\n",
       "      <th>3</th>\n",
       "      <td>John</td>\n",
       "      <td>45</td>\n",
       "      <td>2024</td>\n",
       "      <td>1979</td>\n",
       "    </tr>\n",
       "    <tr>\n",
       "      <th>4</th>\n",
       "      <td>Seydou</td>\n",
       "      <td>52</td>\n",
       "      <td>2024</td>\n",
       "      <td>1972</td>\n",
       "    </tr>\n",
       "  </tbody>\n",
       "</table>\n",
       "</div>"
      ],
      "text/plain": [
       "  Prenoms  Age  Annee_Actuelle  Annee_naissance\n",
       "0   Fatou   28            2024             1996\n",
       "1  Amadou   35            2024             1989\n",
       "2    Coly   18            2024             2006\n",
       "3    John   45            2024             1979\n",
       "4  Seydou   52            2024             1972"
      ]
     },
     "execution_count": 183,
     "metadata": {},
     "output_type": "execute_result"
    }
   ],
   "source": [
    "# Convertissez ce dictionnaire en un DataFrame Pandas et ajoutez une nouvelle colonne \"Année de naissance\" calculée en fonction de l'âge.\n",
    "mon_dictionnaire = {\n",
    "\"Prenoms\" : [\"Fatou\", \"Amadou\", \"Coly\", \"John\", \"Seydou\"],\n",
    "\"Age\" : [28, 35, 18, 45, 52]\n",
    "}\n",
    "df_mon_dictionnaire = pd.DataFrame(mon_dictionnaire)\n",
    "df_mon_dictionnaire[\"Annee_Actuelle\"] = pd.Timestamp.now().year\n",
    "df_mon_dictionnaire[\"Annee_naissance\"] = df_mon_dictionnaire[\"Annee_Actuelle\"] - df_mon_dictionnaire[\"Age\"]\n",
    "df_mon_dictionnaire"
   ]
  },
  {
   "cell_type": "markdown",
   "id": "044b513f-46e7-4773-81c5-ae510bb8b5ac",
   "metadata": {},
   "source": [
    "# Exercice 18 :"
   ]
  },
  {
   "cell_type": "code",
   "execution_count": 184,
   "id": "7bd2c93b-d678-4043-9bf2-82baeb973238",
   "metadata": {},
   "outputs": [
    {
     "name": "stdout",
     "output_type": "stream",
     "text": [
      "Latitude: 48.8566, Longitude: 2.3522\n",
      "Latitude: 40.7128, Longitude: -74.006\n",
      "Latitude: 34.0522, Longitude: -118.2437\n",
      "Latitude: 51.5074, Longitude: -0.1278\n",
      "Latitude: 35.6895, Longitude: 139.6917\n"
     ]
    }
   ],
   "source": [
    "# Créez une liste de tuples représentant des coordonnées géographiques (latitude, longitude).\n",
    "\n",
    "coordonnees = [\n",
    "    (48.8566, 2.3522),  # Paris, France\n",
    "    (40.7128, -74.0060),  # New York, USA\n",
    "    (34.0522, -118.2437),  # Los Angeles, USA\n",
    "    (51.5074, -0.1278),  # Londres, Royaume-Uni\n",
    "    (35.6895, 139.6917)   # Tokyo, Japon\n",
    "]\n",
    "\n",
    "# Afficher la liste des coordonnées\n",
    "for coord in coordonnees:\n",
    "    print(f\"Latitude: {coord[0]}, Longitude: {coord[1]}\")\n",
    "\n"
   ]
  },
  {
   "cell_type": "code",
   "execution_count": null,
   "id": "e1c63374-0b15-4c12-b981-d79f331c671a",
   "metadata": {},
   "outputs": [],
   "source": [
    "# Utilisez NumPy pour calculer la distance entre deux points (latitude, longitude)."
   ]
  }
 ],
 "metadata": {
  "kernelspec": {
   "display_name": "Python 3 (ipykernel)",
   "language": "python",
   "name": "python3"
  },
  "language_info": {
   "codemirror_mode": {
    "name": "ipython",
    "version": 3
   },
   "file_extension": ".py",
   "mimetype": "text/x-python",
   "name": "python",
   "nbconvert_exporter": "python",
   "pygments_lexer": "ipython3",
   "version": "3.11.7"
  }
 },
 "nbformat": 4,
 "nbformat_minor": 5
}
