{
 "cells": [
  {
   "cell_type": "markdown",
   "id": "e96ed5ac-61f9-42a5-8fd2-1225ef99d652",
   "metadata": {},
   "source": [
    "# Fonction Lambda\n",
    "### Une fonction Lambda est une fonction qui s'écrit en une seule ligne de code."
   ]
  },
  {
   "cell_type": "code",
   "execution_count": 2,
   "id": "e80defbc-44c3-44bc-8432-77aa338dcb5f",
   "metadata": {},
   "outputs": [],
   "source": [
    "addition = lambda x, y : x + y"
   ]
  },
  {
   "cell_type": "code",
   "execution_count": 3,
   "id": "dffc79c3-f1d0-488e-aa33-677d4574571a",
   "metadata": {},
   "outputs": [
    {
     "data": {
      "text/plain": [
       "11"
      ]
     },
     "execution_count": 3,
     "metadata": {},
     "output_type": "execute_result"
    }
   ],
   "source": [
    "addition(5,6)"
   ]
  },
  {
   "cell_type": "code",
   "execution_count": 339,
   "id": "abbcc484-3df1-49f4-bc4d-4d21b2209b6b",
   "metadata": {},
   "outputs": [],
   "source": [
    "Addition = lambda x, y : x + y"
   ]
  },
  {
   "cell_type": "code",
   "execution_count": 340,
   "id": "9c0e606f-711a-462f-ba32-79c2ec4c1195",
   "metadata": {},
   "outputs": [
    {
     "data": {
      "text/plain": [
       "55"
      ]
     },
     "execution_count": 340,
     "metadata": {},
     "output_type": "execute_result"
    }
   ],
   "source": [
    "Addition(52,3)"
   ]
  },
  {
   "cell_type": "code",
   "execution_count": 4,
   "id": "cd27069a-17c3-4e01-b3eb-c6e53f4e6123",
   "metadata": {},
   "outputs": [],
   "source": [
    "soustraction = lambda x, y : x - y"
   ]
  },
  {
   "cell_type": "code",
   "execution_count": 5,
   "id": "da757dc5-50e5-462f-9cf5-abe1d529759d",
   "metadata": {},
   "outputs": [
    {
     "data": {
      "text/plain": [
       "4"
      ]
     },
     "execution_count": 5,
     "metadata": {},
     "output_type": "execute_result"
    }
   ],
   "source": [
    "soustraction (10,6)"
   ]
  },
  {
   "cell_type": "code",
   "execution_count": 7,
   "id": "0312743d-0abe-426f-8931-263557c3ed3c",
   "metadata": {},
   "outputs": [],
   "source": [
    "division = lambda x, y : x / y"
   ]
  },
  {
   "cell_type": "code",
   "execution_count": 8,
   "id": "23b91ed7-fb34-4c04-b5ab-de6f1d6ebaf1",
   "metadata": {},
   "outputs": [
    {
     "data": {
      "text/plain": [
       "5.0"
      ]
     },
     "execution_count": 8,
     "metadata": {},
     "output_type": "execute_result"
    }
   ],
   "source": [
    "division (10,2)"
   ]
  },
  {
   "cell_type": "code",
   "execution_count": 9,
   "id": "ab888425-1143-4f09-9ced-ebb7f3b8c77b",
   "metadata": {},
   "outputs": [],
   "source": [
    "multiplication = lambda x, y : x * y "
   ]
  },
  {
   "cell_type": "code",
   "execution_count": 10,
   "id": "94d26bfd-058a-4c95-8b04-973006cc266b",
   "metadata": {},
   "outputs": [
    {
     "data": {
      "text/plain": [
       "25"
      ]
     },
     "execution_count": 10,
     "metadata": {},
     "output_type": "execute_result"
    }
   ],
   "source": [
    "multiplication(5,5)"
   ]
  },
  {
   "cell_type": "code",
   "execution_count": 14,
   "id": "54355995-f712-46fe-a248-771b828304d4",
   "metadata": {},
   "outputs": [],
   "source": [
    " def Addition (x,y):\n",
    "    return x + y\n",
    "    "
   ]
  },
  {
   "cell_type": "code",
   "execution_count": 16,
   "id": "e9c76f77-a31c-4650-a252-94ed46f51479",
   "metadata": {},
   "outputs": [
    {
     "data": {
      "text/plain": [
       "13"
      ]
     },
     "execution_count": 16,
     "metadata": {},
     "output_type": "execute_result"
    }
   ],
   "source": [
    "addition(5,8)"
   ]
  },
  {
   "cell_type": "code",
   "execution_count": 341,
   "id": "b0670a0c-ab5a-4b38-bb7b-86d8e4f37eb9",
   "metadata": {},
   "outputs": [],
   "source": [
    "def SOUSTRACTION (x, y):\n",
    "    resultat = x - y\n",
    "    return resultat "
   ]
  },
  {
   "cell_type": "code",
   "execution_count": 342,
   "id": "372b38bf-f48b-493c-acfe-472e67ce9fb6",
   "metadata": {},
   "outputs": [
    {
     "data": {
      "text/plain": [
       "13"
      ]
     },
     "execution_count": 342,
     "metadata": {},
     "output_type": "execute_result"
    }
   ],
   "source": [
    "SOUSTRACTION(15,2)"
   ]
  },
  {
   "cell_type": "code",
   "execution_count": 17,
   "id": "e542f528-90c1-48e0-8c25-b2bd689c1645",
   "metadata": {},
   "outputs": [],
   "source": [
    "def mon_addition(x, y, z): \n",
    "    resultat = x + y + z\n",
    "    return resultat"
   ]
  },
  {
   "cell_type": "code",
   "execution_count": 18,
   "id": "608b80b0-9a7a-4155-be9a-126b0f5c5941",
   "metadata": {},
   "outputs": [
    {
     "data": {
      "text/plain": [
       "16"
      ]
     },
     "execution_count": 18,
     "metadata": {},
     "output_type": "execute_result"
    }
   ],
   "source": [
    "mon_addition(5,6,5)"
   ]
  },
  {
   "cell_type": "code",
   "execution_count": 19,
   "id": "154b5bdc-3732-4362-8999-a18fd66846a3",
   "metadata": {},
   "outputs": [
    {
     "data": {
      "text/plain": [
       "18"
      ]
     },
     "execution_count": 19,
     "metadata": {},
     "output_type": "execute_result"
    }
   ],
   "source": [
    "mon_addition(x = 5, y =3, z = 10)"
   ]
  },
  {
   "cell_type": "code",
   "execution_count": 20,
   "id": "3834040d-6931-48af-b5ef-3320fed266f1",
   "metadata": {},
   "outputs": [
    {
     "data": {
      "text/plain": [
       "18"
      ]
     },
     "execution_count": 20,
     "metadata": {},
     "output_type": "execute_result"
    }
   ],
   "source": [
    "test = mon_addition(x = 5, y =3, z = 10)\n",
    "test"
   ]
  },
  {
   "cell_type": "code",
   "execution_count": 24,
   "id": "49dbec89-682a-49ff-9ee3-3e87dd21ec19",
   "metadata": {},
   "outputs": [],
   "source": [
    "def multiplication (x,y,z): \n",
    "    resultat = x *y * z\n",
    "    return resultat "
   ]
  },
  {
   "cell_type": "code",
   "execution_count": 25,
   "id": "8c4000d6-d317-446f-9a2b-ff32634071cc",
   "metadata": {},
   "outputs": [
    {
     "data": {
      "text/plain": [
       "150"
      ]
     },
     "execution_count": 25,
     "metadata": {},
     "output_type": "execute_result"
    }
   ],
   "source": [
    "multiplication (5,6,5)"
   ]
  },
  {
   "cell_type": "code",
   "execution_count": 26,
   "id": "35330d5f-5492-4124-aa5a-6d7bf263d7cd",
   "metadata": {},
   "outputs": [
    {
     "data": {
      "text/plain": [
       "150"
      ]
     },
     "execution_count": 26,
     "metadata": {},
     "output_type": "execute_result"
    }
   ],
   "source": [
    "mon_test = multiplication (5,6,5)\n",
    "mon_test"
   ]
  },
  {
   "cell_type": "code",
   "execution_count": 27,
   "id": "2a6fdfbe-7591-46a4-a3ff-405f2c7e2cb2",
   "metadata": {},
   "outputs": [],
   "source": [
    "ma_fonction = lambda a, b : a * b"
   ]
  },
  {
   "cell_type": "code",
   "execution_count": 28,
   "id": "2658441e-d865-4b3a-8a25-76439996d1ad",
   "metadata": {},
   "outputs": [
    {
     "data": {
      "text/plain": [
       "10"
      ]
     },
     "execution_count": 28,
     "metadata": {},
     "output_type": "execute_result"
    }
   ],
   "source": [
    "ma_fonction(5,2)"
   ]
  },
  {
   "cell_type": "code",
   "execution_count": 29,
   "id": "1c850b8a-6b98-4e2c-bc8c-29c73aaea6a2",
   "metadata": {},
   "outputs": [],
   "source": [
    "def ma_soustraction (a,b):\n",
    "    resultat = a - b\n",
    "    return resultat"
   ]
  },
  {
   "cell_type": "code",
   "execution_count": 30,
   "id": "a49da741-8f3a-46f6-af3b-09640d73c9cb",
   "metadata": {},
   "outputs": [
    {
     "data": {
      "text/plain": [
       "1"
      ]
     },
     "execution_count": 30,
     "metadata": {},
     "output_type": "execute_result"
    }
   ],
   "source": [
    "ma_soustraction(5,4)"
   ]
  },
  {
   "cell_type": "code",
   "execution_count": 31,
   "id": "19dabf62-86b9-40b7-9592-ee57fafe5b0d",
   "metadata": {},
   "outputs": [],
   "source": [
    "soustraire = lambda x, y : x - y"
   ]
  },
  {
   "cell_type": "code",
   "execution_count": 32,
   "id": "590a41cd-4710-4f1a-9b14-95c743752aa2",
   "metadata": {},
   "outputs": [
    {
     "data": {
      "text/plain": [
       "1"
      ]
     },
     "execution_count": 32,
     "metadata": {},
     "output_type": "execute_result"
    }
   ],
   "source": [
    "soustraire (5,4)"
   ]
  },
  {
   "cell_type": "code",
   "execution_count": 43,
   "id": "3263e18b-5ae2-4aa8-b5df-a1f4b383ac12",
   "metadata": {},
   "outputs": [],
   "source": [
    "def ma_fonction():\n",
    "    i = 0\n",
    "    for i in range(11): \n",
    "        while i < 10: \n",
    "            print (i)\n",
    "            i += 1\n",
    "        print (i)"
   ]
  },
  {
   "cell_type": "markdown",
   "id": "2a1bf5c4-df90-440a-93c4-6cd542fbd264",
   "metadata": {},
   "source": [
    "# Les structures de contrôle "
   ]
  },
  {
   "cell_type": "code",
   "execution_count": 47,
   "id": "e88f0811-a3f2-4d4b-9aad-9fa7f9eb5c19",
   "metadata": {},
   "outputs": [
    {
     "name": "stdout",
     "output_type": "stream",
     "text": [
      "Il est temps d'arrêter l'ordinateur\n"
     ]
    }
   ],
   "source": [
    "if 5 < 10: \n",
    "    print(\"Il est temps d'arrêter l'ordinateur\")\n",
    "else:\n",
    "    print (\"Vous pouvez coninuer\")\n"
   ]
  },
  {
   "cell_type": "code",
   "execution_count": 87,
   "id": "9a29413a-8a97-47cd-b378-3bd5d848b135",
   "metadata": {},
   "outputs": [
    {
     "name": "stdout",
     "output_type": "stream",
     "text": [
      "Il fait froid\n"
     ]
    }
   ],
   "source": [
    "temperature = 18\n",
    "if temperature > 37: \n",
    "    print (\"Il fait très chaud\")\n",
    "else: \n",
    "    print (\"Il fait froid\")"
   ]
  },
  {
   "cell_type": "code",
   "execution_count": 96,
   "id": "fab896d1-b816-4955-8649-88d47caf439a",
   "metadata": {},
   "outputs": [
    {
     "name": "stdout",
     "output_type": "stream",
     "text": [
      "Mention très bien \n"
     ]
    }
   ],
   "source": [
    "note == 18\n",
    "if note >= 15: \n",
    "    print (\"Mention très bien \")\n",
    "elif note < 15 and note > 12:\n",
    "    print (\"Mention assez bien\")\n",
    "elif note <= 12: \n",
    "    print (\"Mention Passable\")\n",
    "else: \n",
    "    print (\"Doit redoubler d'efforts\")"
   ]
  },
  {
   "cell_type": "code",
   "execution_count": 114,
   "id": "74e6bd68-ad4d-4cbf-a6a0-2d76c35e7b83",
   "metadata": {},
   "outputs": [],
   "source": [
    "def attribution (age, note):\n",
    "    if age <= 18 and note >= 14: \n",
    "        print (\"Bourse acceptée\")\n",
    "    else : \n",
    "        print (\"Ne remplit pas les conditions\")"
   ]
  },
  {
   "cell_type": "code",
   "execution_count": 115,
   "id": "e2262e0c-5db9-4d4e-9aa2-0f5c3914a4c5",
   "metadata": {},
   "outputs": [
    {
     "name": "stdout",
     "output_type": "stream",
     "text": [
      "Bourse acceptée\n"
     ]
    }
   ],
   "source": [
    "attribution(18,19)"
   ]
  },
  {
   "cell_type": "code",
   "execution_count": 148,
   "id": "c5b8c3e0-62d7-42ad-883d-c16d3d9af302",
   "metadata": {},
   "outputs": [],
   "source": [
    "def classe_age(age):\n",
    "    if age <= 12: \n",
    "        print (f\"Il a {age} ans. C'est un enfant\")\n",
    "    elif age  >= 13 & age <= 17: \n",
    "        print (f\"Il a {age} ans. C'est un ado\")\n",
    "    elif age  >= 18 & age <= 59: \n",
    "        print (f\"Il a {age} ans. C'est un adulte\")\n",
    "    elif age >60:\n",
    "        print (\"C'est un senior\")\n",
    "    else: \n",
    "        print(\"Entrez un nombre valide\")"
   ]
  },
  {
   "cell_type": "code",
   "execution_count": 150,
   "id": "792d1cd7-9077-4906-b525-4809bf1de4b7",
   "metadata": {},
   "outputs": [
    {
     "name": "stdout",
     "output_type": "stream",
     "text": [
      "Il a 15 ans. C'est un ado\n"
     ]
    }
   ],
   "source": [
    "classe_age (15)"
   ]
  },
  {
   "cell_type": "markdown",
   "id": "a60d4b9c-ed01-4950-95d0-653a8cf674a8",
   "metadata": {},
   "source": [
    "# La boucle for "
   ]
  },
  {
   "cell_type": "code",
   "execution_count": 141,
   "id": "c181932e-c985-4688-b438-e31d9ce02aca",
   "metadata": {},
   "outputs": [
    {
     "name": "stdout",
     "output_type": "stream",
     "text": [
      "0\n",
      "2\n",
      "4\n",
      "6\n",
      "8\n",
      "10\n"
     ]
    }
   ],
   "source": [
    "for x in range(0,11,2):\n",
    "    print (x)"
   ]
  },
  {
   "cell_type": "code",
   "execution_count": 157,
   "id": "7b0f0ec8-9633-45d4-9f59-bed8fe64f4b9",
   "metadata": {},
   "outputs": [
    {
     "name": "stdout",
     "output_type": "stream",
     "text": [
      "10\n",
      "9\n",
      "8\n",
      "7\n",
      "6\n",
      "5\n",
      "4\n",
      "3\n",
      "2\n",
      "1\n"
     ]
    }
   ],
   "source": [
    "for mame in range (10,0,-1):\n",
    "    print (mame)"
   ]
  },
  {
   "cell_type": "code",
   "execution_count": 4,
   "id": "aceeb3ab-d9bb-4390-ac40-64fd0c74bc06",
   "metadata": {},
   "outputs": [
    {
     "name": "stdout",
     "output_type": "stream",
     "text": [
      "0\n",
      "1\n",
      "2\n",
      "3\n",
      "4\n",
      "5\n",
      "6\n",
      "7\n",
      "8\n",
      "9\n"
     ]
    }
   ],
   "source": [
    "compteur = 0\n",
    "while compteur < 10:\n",
    "    print (compteur)\n",
    "    compteur +=1"
   ]
  },
  {
   "cell_type": "code",
   "execution_count": 6,
   "id": "866fbe53-da57-466e-b43d-91829e1f573f",
   "metadata": {},
   "outputs": [
    {
     "name": "stdout",
     "output_type": "stream",
     "text": [
      "1\n",
      "2\n",
      "3\n",
      "4\n",
      "5\n",
      "6\n",
      "7\n",
      "8\n",
      "9\n"
     ]
    }
   ],
   "source": [
    "note = 1\n",
    "while note < 10:\n",
    "    print (note)\n",
    "    note = note + 1"
   ]
  },
  {
   "cell_type": "markdown",
   "id": "65590704-8980-4ecd-a7e9-213659694a27",
   "metadata": {},
   "source": [
    "# Boucle infinie avec while et  l'instruction Break"
   ]
  },
  {
   "cell_type": "code",
   "execution_count": 7,
   "id": "f07d407d-e281-4137-bff9-ffc84abd63e9",
   "metadata": {},
   "outputs": [
    {
     "name": "stdout",
     "output_type": "stream",
     "text": [
      "1\n",
      "2\n",
      "3\n",
      "4\n",
      "5\n",
      "6\n"
     ]
    }
   ],
   "source": [
    "compteur = 1\n",
    "while True:\n",
    "    print (compteur)\n",
    "    compteur = compteur + 1\n",
    "    if compteur == 7: \n",
    "        break"
   ]
  },
  {
   "cell_type": "code",
   "execution_count": 1,
   "id": "518da5a9-1525-4933-8d49-ffd91ea6050c",
   "metadata": {},
   "outputs": [
    {
     "name": "stdout",
     "output_type": "stream",
     "text": [
      "1\n",
      "2\n",
      "3\n",
      "4\n",
      "5\n",
      "6\n",
      "7\n",
      "8\n",
      "9\n",
      "10\n"
     ]
    }
   ],
   "source": [
    "import time\n",
    "\n",
    "compteur = 1\n",
    "while compteur <= 10:\n",
    "    print(compteur)\n",
    "    time.sleep(0.5)  # Pause de 0.5 seconde\n",
    "    compteur += 1\n"
   ]
  },
  {
   "cell_type": "code",
   "execution_count": 346,
   "id": "58ab63bd-5ab3-4a1e-968b-b75137c5ca78",
   "metadata": {},
   "outputs": [
    {
     "data": {
      "text/plain": [
       "[15, 18, 25, 12, 10]"
      ]
     },
     "execution_count": 346,
     "metadata": {},
     "output_type": "execute_result"
    }
   ],
   "source": [
    "liste_age = [15, 18,25, 12,10]\n",
    "liste_age"
   ]
  },
  {
   "cell_type": "code",
   "execution_count": 12,
   "id": "c12c25d2-7d46-4925-8e8f-756178e02d4b",
   "metadata": {},
   "outputs": [
    {
     "name": "stdout",
     "output_type": "stream",
     "text": [
      "25\n"
     ]
    }
   ],
   "source": [
    "age_maxi= max(liste_age)\n",
    "print(age_maxi)"
   ]
  },
  {
   "cell_type": "code",
   "execution_count": 347,
   "id": "3c1248e9-f9c9-4991-8788-5695121b0738",
   "metadata": {},
   "outputs": [
    {
     "data": {
      "text/plain": [
       "25"
      ]
     },
     "execution_count": 347,
     "metadata": {},
     "output_type": "execute_result"
    }
   ],
   "source": [
    "liste_age[2]"
   ]
  },
  {
   "cell_type": "code",
   "execution_count": 14,
   "id": "26555274-3f74-4669-b2e0-c897e3ee3674",
   "metadata": {},
   "outputs": [
    {
     "data": {
      "text/plain": [
       "10"
      ]
     },
     "execution_count": 14,
     "metadata": {},
     "output_type": "execute_result"
    }
   ],
   "source": [
    "liste_age[-1]"
   ]
  },
  {
   "cell_type": "code",
   "execution_count": 349,
   "id": "04d41463-9299-4935-86e0-116ac67445f4",
   "metadata": {},
   "outputs": [
    {
     "data": {
      "text/plain": [
       "[15, 18, 25, 12, 10]"
      ]
     },
     "execution_count": 349,
     "metadata": {},
     "output_type": "execute_result"
    }
   ],
   "source": [
    "liste_age[-1]\n",
    "liste_age"
   ]
  },
  {
   "cell_type": "code",
   "execution_count": 350,
   "id": "f94301c6-cccc-4303-9696-c6dd9ca55f53",
   "metadata": {},
   "outputs": [
    {
     "data": {
      "text/plain": [
       "[13, 18, 25, 12, 10]"
      ]
     },
     "execution_count": 350,
     "metadata": {},
     "output_type": "execute_result"
    }
   ],
   "source": [
    "liste_age[0] = 13\n",
    "liste_age"
   ]
  },
  {
   "cell_type": "code",
   "execution_count": 21,
   "id": "d7a0922c-8571-489e-9cdd-5673248b82b8",
   "metadata": {},
   "outputs": [
    {
     "data": {
      "text/plain": [
       "[13, 18, 25, 12, 55, 11, 11]"
      ]
     },
     "execution_count": 21,
     "metadata": {},
     "output_type": "execute_result"
    }
   ],
   "source": [
    "liste_age.append(11)\n",
    "liste_age"
   ]
  },
  {
   "cell_type": "code",
   "execution_count": 24,
   "id": "1f5110ca-ec3a-4084-bccd-1c116b71885b",
   "metadata": {},
   "outputs": [
    {
     "data": {
      "text/plain": [
       "[18, 25, 12, 55, 11, 11]"
      ]
     },
     "execution_count": 24,
     "metadata": {},
     "output_type": "execute_result"
    }
   ],
   "source": [
    "liste_age.remove(13)\n",
    "liste_age"
   ]
  },
  {
   "cell_type": "code",
   "execution_count": 26,
   "id": "6a5a36e4-b40c-4d6f-ae1d-22216661ebd8",
   "metadata": {},
   "outputs": [
    {
     "data": {
      "text/plain": [
       "[18, 25, 12, 55, 11]"
      ]
     },
     "execution_count": 26,
     "metadata": {},
     "output_type": "execute_result"
    }
   ],
   "source": [
    "liste_age.pop()\n",
    "liste_age"
   ]
  },
  {
   "cell_type": "code",
   "execution_count": 27,
   "id": "3bada4d9-8353-4d75-9fdf-045a74b29687",
   "metadata": {},
   "outputs": [
    {
     "data": {
      "text/plain": [
       "['Papis', 'Mame', 'Awa', 'Oulimata', 'Fatou']"
      ]
     },
     "execution_count": 27,
     "metadata": {},
     "output_type": "execute_result"
    }
   ],
   "source": [
    "ma_liste = [\"Papis\", \"Mame\", \"Awa\", \"Oulimata\", \"Fatou\"]\n",
    "ma_liste"
   ]
  },
  {
   "cell_type": "code",
   "execution_count": 28,
   "id": "5570fd15-2c5c-4c36-99fe-ffeb9ebdff10",
   "metadata": {},
   "outputs": [
    {
     "data": {
      "text/plain": [
       "['Papis', 'Mame', 'Awa', 'Oulimata', 'Fatou', 'Mamadou']"
      ]
     },
     "execution_count": 28,
     "metadata": {},
     "output_type": "execute_result"
    }
   ],
   "source": [
    "ma_liste.append(\"Mamadou\")\n",
    "ma_liste"
   ]
  },
  {
   "cell_type": "code",
   "execution_count": 29,
   "id": "5350a80e-37b4-4e1b-9ab6-612ae25b04dd",
   "metadata": {},
   "outputs": [
    {
     "data": {
      "text/plain": [
       "['Jean', 'Mame', 'Awa', 'Oulimata', 'Fatou', 'Mamadou']"
      ]
     },
     "execution_count": 29,
     "metadata": {},
     "output_type": "execute_result"
    }
   ],
   "source": [
    "ma_liste[0] = \"Jean\"\n",
    "ma_liste"
   ]
  },
  {
   "cell_type": "code",
   "execution_count": 30,
   "id": "909ee341-0f00-41cc-a418-5d70e79558ef",
   "metadata": {},
   "outputs": [
    {
     "data": {
      "text/plain": [
       "['Jean', 'Mame', 'Awa', 'Oulimata', 'Fatou', 'Paul']"
      ]
     },
     "execution_count": 30,
     "metadata": {},
     "output_type": "execute_result"
    }
   ],
   "source": [
    "ma_liste[-1] = \"Paul\"\n",
    "ma_liste"
   ]
  },
  {
   "cell_type": "code",
   "execution_count": 31,
   "id": "f6ecc898-a6c6-4b1c-8af2-176093066890",
   "metadata": {},
   "outputs": [
    {
     "data": {
      "text/plain": [
       "['Jean', 'Sonko', 'Awa', 'Oulimata', 'Fatou', 'Paul']"
      ]
     },
     "execution_count": 31,
     "metadata": {},
     "output_type": "execute_result"
    }
   ],
   "source": [
    "ma_liste[1] = \"Sonko\"\n",
    "ma_liste"
   ]
  },
  {
   "cell_type": "code",
   "execution_count": 33,
   "id": "abb08663-661d-46cd-a877-b4f7dd8c2693",
   "metadata": {},
   "outputs": [
    {
     "data": {
      "text/plain": [
       "['Jean', 'Sonko', 'Awa', 'Oulimata', 'Fatou', 'Thomas', 'Paul']"
      ]
     },
     "execution_count": 33,
     "metadata": {},
     "output_type": "execute_result"
    }
   ],
   "source": [
    "ma_liste.insert(-1, \"Thomas\")\n",
    "ma_liste"
   ]
  },
  {
   "cell_type": "code",
   "execution_count": 35,
   "id": "c2bbf0b6-8758-498e-a31f-020a4fa73bb6",
   "metadata": {},
   "outputs": [
    {
     "data": {
      "text/plain": [
       "['Jean',\n",
       " 'SAKHO',\n",
       " 'Sonko',\n",
       " 'Awa',\n",
       " 'Oulimata',\n",
       " 'Fatou',\n",
       " 'Thomas',\n",
       " 'SIAKA',\n",
       " 'Paul']"
      ]
     },
     "execution_count": 35,
     "metadata": {},
     "output_type": "execute_result"
    }
   ],
   "source": [
    "ma_liste.insert(1, \"SAKHO\")\n",
    "ma_liste"
   ]
  },
  {
   "cell_type": "code",
   "execution_count": 37,
   "id": "aec340ac-1f07-4663-aa2d-4c47720ef7ee",
   "metadata": {},
   "outputs": [
    {
     "data": {
      "text/plain": [
       "['PAPE',\n",
       " 'Jean',\n",
       " 'SAKHO',\n",
       " 'Sonko',\n",
       " 'Awa',\n",
       " 'Oulimata',\n",
       " 'Fatou',\n",
       " 'Thomas',\n",
       " 'SIAKA',\n",
       " 'PAPE',\n",
       " 'Paul']"
      ]
     },
     "execution_count": 37,
     "metadata": {},
     "output_type": "execute_result"
    }
   ],
   "source": [
    "ma_liste.insert(-1, \"PAPE\")\n",
    "ma_liste"
   ]
  },
  {
   "cell_type": "code",
   "execution_count": 38,
   "id": "2ff5fb29-969c-46f0-9346-19c6c576c9b3",
   "metadata": {},
   "outputs": [
    {
     "data": {
      "text/plain": [
       "list"
      ]
     },
     "execution_count": 38,
     "metadata": {},
     "output_type": "execute_result"
    }
   ],
   "source": [
    "type(ma_liste)"
   ]
  },
  {
   "cell_type": "code",
   "execution_count": 39,
   "id": "105f2bb3-24ac-4348-988b-288273ff01b1",
   "metadata": {},
   "outputs": [
    {
     "data": {
      "text/plain": [
       "['PAPE',\n",
       " 'Jean',\n",
       " 'Chocolat',\n",
       " 'SAKHO',\n",
       " 'Sonko',\n",
       " 'Awa',\n",
       " 'Oulimata',\n",
       " 'Fatou',\n",
       " 'Thomas',\n",
       " 'SIAKA',\n",
       " 'PAPE',\n",
       " 'Paul']"
      ]
     },
     "execution_count": 39,
     "metadata": {},
     "output_type": "execute_result"
    }
   ],
   "source": [
    "ma_liste.insert(2, \"Chocolat\")\n",
    "ma_liste"
   ]
  },
  {
   "cell_type": "code",
   "execution_count": 41,
   "id": "c107a612-0ed6-4ce2-9c03-a8b43f6bc113",
   "metadata": {},
   "outputs": [
    {
     "data": {
      "text/plain": [
       "['PAPE',\n",
       " 'Jean',\n",
       " 'SAKHO',\n",
       " 'Sonko',\n",
       " 'Awa',\n",
       " 'Oulimata',\n",
       " 'Fatou',\n",
       " 'Thomas',\n",
       " 'SIAKA',\n",
       " 'PAPE',\n",
       " 'Paul']"
      ]
     },
     "execution_count": 41,
     "metadata": {},
     "output_type": "execute_result"
    }
   ],
   "source": [
    "del ma_liste[2]\n",
    "ma_liste"
   ]
  },
  {
   "cell_type": "code",
   "execution_count": 47,
   "id": "763b7868-292a-44f4-b75f-1514589d7a34",
   "metadata": {},
   "outputs": [
    {
     "data": {
      "text/plain": [
       "['Jean',\n",
       " 'SAKHO',\n",
       " 'Awa',\n",
       " 'Oulimata',\n",
       " 'Fatou',\n",
       " 'Thomas',\n",
       " 'SIAKA',\n",
       " 'PAPE',\n",
       " 'Paul']"
      ]
     },
     "execution_count": 47,
     "metadata": {},
     "output_type": "execute_result"
    }
   ],
   "source": [
    "ma_liste.remove(\"Sonko\")\n",
    "ma_liste"
   ]
  },
  {
   "cell_type": "markdown",
   "id": "85463470-4d79-4d35-8d9d-86762eb9ca98",
   "metadata": {},
   "source": [
    "# String "
   ]
  },
  {
   "cell_type": "code",
   "execution_count": 49,
   "id": "a158c66e-c681-451e-a341-5a2be6bb8ec3",
   "metadata": {},
   "outputs": [
    {
     "data": {
      "text/plain": [
       "'Ma'"
      ]
     },
     "execution_count": 49,
     "metadata": {},
     "output_type": "execute_result"
    }
   ],
   "source": [
    "nom = \"Mame\"\n",
    "nom[0:2]"
   ]
  },
  {
   "cell_type": "code",
   "execution_count": 65,
   "id": "1ffd201a-19cb-454b-b3c7-436eea77965f",
   "metadata": {},
   "outputs": [
    {
     "data": {
      "text/plain": [
       "'Mam'"
      ]
     },
     "execution_count": 65,
     "metadata": {},
     "output_type": "execute_result"
    }
   ],
   "source": [
    "nom[:3]"
   ]
  },
  {
   "cell_type": "markdown",
   "id": "dbb51d4e-75b4-4473-92de-478630defb89",
   "metadata": {},
   "source": [
    "# Les Tuples \n",
    "## Ils ne sont pas modifiables \n",
    "### Collection d'éléments ordonnés et immuables\n",
    "### Moins d'espace mémoire que les listes"
   ]
  },
  {
   "cell_type": "code",
   "execution_count": 66,
   "id": "315419a2-cecf-47ff-81bb-eaaebd9fe8e8",
   "metadata": {},
   "outputs": [
    {
     "data": {
      "text/plain": [
       "(15, 'papa', 1.5, 15)"
      ]
     },
     "execution_count": 66,
     "metadata": {},
     "output_type": "execute_result"
    }
   ],
   "source": [
    "mon_tuple = (15, \"papa\", 1.5, 15, )\n",
    "mon_tuple"
   ]
  },
  {
   "cell_type": "markdown",
   "id": "365c1b6a-4442-4ca2-9923-93529c9ff074",
   "metadata": {},
   "source": [
    "# Exercice"
   ]
  },
  {
   "cell_type": "code",
   "execution_count": 1,
   "id": "93f55859-5654-4824-913e-cdde309fbfbd",
   "metadata": {},
   "outputs": [
    {
     "data": {
      "text/plain": [
       "[12, 35, 12, 9, 56, 24, 35, 12, 89, 24, 35, 12]"
      ]
     },
     "execution_count": 1,
     "metadata": {},
     "output_type": "execute_result"
    }
   ],
   "source": [
    "ma_liste_entiers = [12,35,12,9,56,24,35,12,89,24,35,12]\n",
    "ma_liste_entiers"
   ]
  },
  {
   "cell_type": "code",
   "execution_count": 2,
   "id": "e26cec34-7d4a-432a-be59-ef7c8540292b",
   "metadata": {},
   "outputs": [
    {
     "data": {
      "text/plain": [
       "12"
      ]
     },
     "execution_count": 2,
     "metadata": {},
     "output_type": "execute_result"
    }
   ],
   "source": [
    "nbre_rechercche = ma_liste_entiers[0]\n",
    "nbre_rechercche"
   ]
  },
  {
   "cell_type": "code",
   "execution_count": 3,
   "id": "4ba22dc7-2e95-4e29-87bb-acc2a9938444",
   "metadata": {},
   "outputs": [
    {
     "data": {
      "text/plain": [
       "[100, 35, 12, 9, 56, 24, 35, 12, 89, 24, 35, 12]"
      ]
     },
     "execution_count": 3,
     "metadata": {},
     "output_type": "execute_result"
    }
   ],
   "source": [
    "ma_liste_entiers[0] = 100\n",
    "ma_liste_entiers"
   ]
  },
  {
   "cell_type": "code",
   "execution_count": 10,
   "id": "60038e2e-8d4c-472c-b3ff-86c89e0bf9b9",
   "metadata": {},
   "outputs": [
    {
     "name": "stdout",
     "output_type": "stream",
     "text": [
      "Ma liste avant remplacement [12, 35, 12, 9, 56, 24, 35, 12, 89, 24, 35, 12]\n",
      "Ma liste après remplacement [100, 35, 100, 9, 56, 24, 35, 100, 89, 24, 35, 100]\n"
     ]
    }
   ],
   "source": [
    "ma_liste = [12, 35, 12, 9, 56, 24, 35, 12,89,24, 35, 12]\n",
    "nbre_recherche = 12\n",
    "nbre_remplace = 100\n",
    "\n",
    "print (\"Ma liste avant remplacement\", ma_liste)\n",
    "for i in range(len(ma_liste)):\n",
    "    if ma_liste[i] == nbre_recherche:\n",
    "        ma_liste[i] = nbre_remplace\n",
    "        \n",
    "print (\"Ma liste après remplacement\", ma_liste)\n"
   ]
  },
  {
   "cell_type": "code",
   "execution_count": null,
   "id": "b2a1e41a-f682-4c4f-ae84-aac3d3f9f686",
   "metadata": {},
   "outputs": [],
   "source": []
  },
  {
   "cell_type": "code",
   "execution_count": 12,
   "id": "341df52e-1679-4adc-b046-9260efe338f7",
   "metadata": {},
   "outputs": [
    {
     "name": "stdout",
     "output_type": "stream",
     "text": [
      "Ma liste avant changement [18, 25, 35, 35, 95]\n",
      "Ma liste après remplacement [18, 11, 35, 35, 95]\n"
     ]
    }
   ],
   "source": [
    "ma_liste_seconde = [18, 25, 35, 35,95]\n",
    "nombre_cherche = 25\n",
    "nombre_a_remplacer = 11\n",
    "\n",
    "print (\"Ma liste avant changement\", ma_liste_seconde)\n",
    "\n",
    "for i in range(len(ma_liste_seconde)):\n",
    "    if ma_liste_seconde[i] == nombre_cherche:\n",
    "        ma_liste_seconde[i] = nombre_a_remplacer\n",
    "\n",
    "print (\"Ma liste après remplacement\", ma_liste_seconde)\n",
    "        "
   ]
  },
  {
   "cell_type": "markdown",
   "id": "1c3522bb-f37d-4d73-ac88-111cf4f6151f",
   "metadata": {},
   "source": [
    "# Les dictionnaires\n",
    "## Système clé valeur"
   ]
  },
  {
   "cell_type": "code",
   "execution_count": 13,
   "id": "975fc012-4ce4-47f8-bbf3-465b79e0504d",
   "metadata": {},
   "outputs": [
    {
     "data": {
      "text/plain": [
       "{'loyer': 550, 'transport': 88, 'sante': 15, 'nourriture': 300}"
      ]
     },
     "execution_count": 13,
     "metadata": {},
     "output_type": "execute_result"
    }
   ],
   "source": [
    "mon_dico = {\"loyer\" : 550,\n",
    "           \"transport\" : 88,\n",
    "           \"sante\" : 15,\n",
    "           \"nourriture\": 300}\n",
    "mon_dico"
   ]
  },
  {
   "cell_type": "code",
   "execution_count": 16,
   "id": "387f11ff-4735-4049-a768-bd1dff3f3788",
   "metadata": {},
   "outputs": [
    {
     "data": {
      "text/plain": [
       "dict_values([550, 88, 15, 300])"
      ]
     },
     "execution_count": 16,
     "metadata": {},
     "output_type": "execute_result"
    }
   ],
   "source": [
    "mon_dico.values()"
   ]
  },
  {
   "cell_type": "code",
   "execution_count": 17,
   "id": "14d57de1-4df0-490b-bc4e-31f032826de6",
   "metadata": {},
   "outputs": [
    {
     "data": {
      "text/plain": [
       "{'loyer': 500, 'transport': 88, 'sante': 15, 'nourriture': 300}"
      ]
     },
     "execution_count": 17,
     "metadata": {},
     "output_type": "execute_result"
    }
   ],
   "source": [
    "mon_dico[\"loyer\"] = 500\n",
    "mon_dico"
   ]
  },
  {
   "cell_type": "code",
   "execution_count": 26,
   "id": "52033cdf-9c4f-4b42-a63d-0fa692e6b7ad",
   "metadata": {},
   "outputs": [
    {
     "name": "stdout",
     "output_type": "stream",
     "text": [
      "500\n"
     ]
    }
   ],
   "source": [
    "cle = mon_dico.get(\"loyer\")\n",
    "print (cle)"
   ]
  },
  {
   "cell_type": "code",
   "execution_count": 28,
   "id": "07566a5f-f8c2-4f4c-ac42-6d5cedfdfea7",
   "metadata": {},
   "outputs": [
    {
     "data": {
      "text/plain": [
       "dict_keys(['loyer', 'transport', 'sante', 'nourriture'])"
      ]
     },
     "execution_count": 28,
     "metadata": {},
     "output_type": "execute_result"
    }
   ],
   "source": [
    "cles_dispo = mon_dico.keys()\n",
    "cles_dispo"
   ]
  },
  {
   "cell_type": "code",
   "execution_count": 29,
   "id": "013fd10d-f165-4234-96be-370034caae12",
   "metadata": {},
   "outputs": [
    {
     "data": {
      "text/plain": [
       "{'loyer': 500, 'transport': 20, 'sante': 15, 'nourriture': 300}"
      ]
     },
     "execution_count": 29,
     "metadata": {},
     "output_type": "execute_result"
    }
   ],
   "source": [
    "mon_dico[\"transport\"] = 20\n",
    "mon_dico"
   ]
  },
  {
   "cell_type": "code",
   "execution_count": 31,
   "id": "bace652b-29f1-4f23-add4-b9f90f344723",
   "metadata": {},
   "outputs": [
    {
     "data": {
      "text/plain": [
       "{'loyer': 500, 'transport': 20, 'sante': 15, 'nourriture': 300, 'Divers': 90}"
      ]
     },
     "execution_count": 31,
     "metadata": {},
     "output_type": "execute_result"
    }
   ],
   "source": [
    "mon_dico[\"Divers\"] = 90\n",
    "mon_dico"
   ]
  },
  {
   "cell_type": "code",
   "execution_count": 37,
   "id": "ac78f76f-9daf-44fd-acf7-e33078ae6e67",
   "metadata": {},
   "outputs": [
    {
     "name": "stdout",
     "output_type": "stream",
     "text": [
      "{'transport': 20, 'sante': 15, 'nourriture': 300, 'Divers': 90}\n"
     ]
    }
   ],
   "source": [
    "del mon_dico[\"loyer\"]\n",
    "print (mon_dico)"
   ]
  },
  {
   "cell_type": "code",
   "execution_count": 38,
   "id": "964aa19e-2862-4268-9012-72082e689b50",
   "metadata": {},
   "outputs": [
    {
     "data": {
      "text/plain": [
       "{'sante': 15, 'nourriture': 300, 'Divers': 90}"
      ]
     },
     "execution_count": 38,
     "metadata": {},
     "output_type": "execute_result"
    }
   ],
   "source": [
    "del mon_dico [\"transport\"]\n",
    "mon_dico"
   ]
  },
  {
   "cell_type": "code",
   "execution_count": 43,
   "id": "5a752202-9406-4f68-a817-aa06a904a330",
   "metadata": {},
   "outputs": [
    {
     "name": "stdout",
     "output_type": "stream",
     "text": [
      "Ma liste avant remplacement :  [12, 15, 25, 35, 46, 12, 57]\n",
      "Ma liste après remplacement :  [125, 15, 25, 35, 46, 125, 57]\n"
     ]
    }
   ],
   "source": [
    "ma_liste_un = [12,15,25,35,46,12,57]\n",
    "chiffre_recherche = 12\n",
    "chiffre_remplace = 125\n",
    "\n",
    "print (\"Ma liste avant remplacement : \", ma_liste_un)\n",
    "\n",
    "for i in range (len(ma_liste_un)):\n",
    "    if ma_liste_un[i] == chiffre_recherche:\n",
    "        ma_liste_un[i] = chiffre_remplace\n",
    "        \n",
    "print (\"Ma liste après remplacement : \", ma_liste_un)"
   ]
  },
  {
   "cell_type": "code",
   "execution_count": 44,
   "id": "eae5c2e0-29c9-4d42-803e-7b3ade895bcb",
   "metadata": {},
   "outputs": [
    {
     "name": "stdout",
     "output_type": "stream",
     "text": [
      "Ma liste avant remplacement :  [25, 45, 12, 69, 25, 12]\n",
      "Ma liste après remplacement :  [25, 45, 88, 69, 25, 88]\n"
     ]
    }
   ],
   "source": [
    "test_liste = [25, 45, 12, 69, 25,12]\n",
    "test_chiffre_chercher = 12\n",
    "test_chiffre_remplace = 88\n",
    "\n",
    "print (\"Ma liste avant remplacement : \", test_liste)\n",
    "\n",
    "for v in range (len(test_liste)):\n",
    "    if test_liste[v] == test_chiffre_chercher:\n",
    "        test_liste[v] = test_chiffre_remplace\n",
    "\n",
    "print (\"Ma liste après remplacement : \", test_liste)"
   ]
  },
  {
   "cell_type": "code",
   "execution_count": 45,
   "id": "22452faa-ef6a-480e-90dc-a5bbf7b03b4e",
   "metadata": {},
   "outputs": [
    {
     "name": "stdout",
     "output_type": "stream",
     "text": [
      "{'loyer': 600, 'transport': 86, 'sante': 60, 'nourriture': 300, 'habillement': 10}\n"
     ]
    }
   ],
   "source": [
    "mon_dictionnaire = {\"loyer\" : 600,\n",
    "                   \"transport\" : 86,\n",
    "                   \"sante\" : 60,\n",
    "                   \"nourriture\" : 300,\n",
    "                   \"habillement\" : 10}\n",
    "print (mon_dictionnaire)"
   ]
  },
  {
   "cell_type": "code",
   "execution_count": 47,
   "id": "f1abf799-6688-4439-9d81-1d831aab23b9",
   "metadata": {},
   "outputs": [
    {
     "name": "stdout",
     "output_type": "stream",
     "text": [
      "loyer\n",
      "transport\n",
      "sante\n",
      "nourriture\n",
      "habillement\n"
     ]
    }
   ],
   "source": [
    "# Utilisatation de la boucle for pour afficher les clés\n",
    "for cles in mon_dictionnaire.keys():\n",
    "    print(cles)"
   ]
  },
  {
   "cell_type": "code",
   "execution_count": 50,
   "id": "2db9da85-cec3-459d-9864-25142dfc12ad",
   "metadata": {},
   "outputs": [
    {
     "name": "stdout",
     "output_type": "stream",
     "text": [
      "600\n",
      "86\n",
      "60\n",
      "300\n",
      "10\n"
     ]
    }
   ],
   "source": [
    "# Utilisation de la boucle for pour afficher les valeurs\n",
    "\n",
    "for k in mon_dictionnaire.values():\n",
    "    print (k)\n",
    "    "
   ]
  },
  {
   "cell_type": "code",
   "execution_count": 53,
   "id": "35090264-85b6-4466-b2a2-7b30cbc1472d",
   "metadata": {},
   "outputs": [
    {
     "name": "stdout",
     "output_type": "stream",
     "text": [
      "La cle est loyer, la valeur est 600 \n",
      "La cle est transport, la valeur est 86 \n",
      "La cle est sante, la valeur est 60 \n",
      "La cle est nourriture, la valeur est 300 \n",
      "La cle est habillement, la valeur est 10 \n",
      "{'loyer': 600, 'transport': 86, 'sante': 60, 'nourriture': 300, 'habillement': 10}\n"
     ]
    }
   ],
   "source": [
    "# Utilisation de la boucle for pour afficher clés et valeurs\n",
    "for cle, valeur  in mon_dictionnaire.items():\n",
    "    print (f\"La cle est {cle}, la valeur est {valeur} \")\n",
    "\n",
    "print (mon_dictionnaire)"
   ]
  },
  {
   "cell_type": "code",
   "execution_count": 58,
   "id": "cb4c766b-9ffb-4f2e-95b9-f246512ab472",
   "metadata": {},
   "outputs": [
    {
     "name": "stdout",
     "output_type": "stream",
     "text": [
      "[0, 1, 4, 9, 16, 25, 36, 49, 64, 81, 100]\n"
     ]
    }
   ],
   "source": [
    "# Créer une liste au carré de 0 à 99\n",
    "\n",
    "ma_liste_carree = [i ** 2 for i in range (11)]\n",
    "print (ma_liste_carree)"
   ]
  },
  {
   "cell_type": "code",
   "execution_count": 59,
   "id": "49af14e7-f309-4d04-9650-b06e216f548f",
   "metadata": {},
   "outputs": [
    {
     "name": "stdout",
     "output_type": "stream",
     "text": [
      "[0, 1, 4, 9, 16, 25, 36, 49, 64, 81, 100]\n"
     ]
    }
   ],
   "source": [
    "ma_liste_carree = []\n",
    "for x in range (11):\n",
    "    ma_liste_carree.append(x**2)\n",
    "print (ma_liste_carree)"
   ]
  },
  {
   "cell_type": "code",
   "execution_count": 65,
   "id": "c4506731-baa9-4a3d-9cea-7a0ad4d20479",
   "metadata": {},
   "outputs": [
    {
     "data": {
      "text/plain": [
       "[0, 8, 64, 216, 512, 1000, 1728]"
      ]
     },
     "execution_count": 65,
     "metadata": {},
     "output_type": "execute_result"
    }
   ],
   "source": [
    "# Créer une liste à la puissance 3 de 0 à 12\n",
    "\n",
    "liste_puissance_trois = [k **3 for k in range (13) if k%2 == 0 ]\n",
    "liste_puissance_trois"
   ]
  },
  {
   "cell_type": "code",
   "execution_count": 64,
   "id": "ea735e0d-a06e-48ed-8955-f30b5e81f11c",
   "metadata": {},
   "outputs": [
    {
     "name": "stdout",
     "output_type": "stream",
     "text": [
      "[0, 1, 8, 27, 64, 125, 216, 343, 512, 729, 1000, 1331, 1728]\n"
     ]
    }
   ],
   "source": [
    "liste_puissance_trois = []\n",
    "for y in range(13):\n",
    "    liste_puissance_trois.append(y**3)\n",
    "\n",
    "print (liste_puissance_trois)"
   ]
  },
  {
   "cell_type": "code",
   "execution_count": 70,
   "id": "eacd06e0-9fac-4553-aa0b-7e3cc2ee501d",
   "metadata": {},
   "outputs": [
    {
     "data": {
      "text/plain": [
       "['JEAN', 'PAUL', 'FAYE']"
      ]
     },
     "execution_count": 70,
     "metadata": {},
     "output_type": "execute_result"
    }
   ],
   "source": [
    "liste_nom = [\"Jean\", \"Paul\", \"Faye\"]\n",
    "for i in range(len(liste_nom)):\n",
    "    liste_nom[i] = liste_nom[i].upper()\n",
    "\n",
    "liste_nom\n"
   ]
  },
  {
   "cell_type": "code",
   "execution_count": 69,
   "id": "c42f8f4b-345d-4bdb-b509-de8c5e2f351a",
   "metadata": {},
   "outputs": [
    {
     "name": "stdout",
     "output_type": "stream",
     "text": [
      "['JEAN', 'PAUL', 'FAYE']\n"
     ]
    }
   ],
   "source": [
    "liste_nom = [\"Jean\", \"Paul\", \"Faye\"]\n",
    "\n",
    "# Création d'une nouvelle liste avec des noms en majuscules\n",
    "liste_nom = [nom.upper() for nom in liste_nom]\n",
    "\n",
    "print(liste_nom)\n"
   ]
  },
  {
   "cell_type": "code",
   "execution_count": 77,
   "id": "be0307d4-bdf5-4e5e-a7e3-a2efa06f9890",
   "metadata": {},
   "outputs": [
    {
     "data": {
      "text/plain": [
       "['PAPE', 'SOW', 'SONKO']"
      ]
     },
     "execution_count": 77,
     "metadata": {},
     "output_type": "execute_result"
    }
   ],
   "source": [
    "nom_liste = [\"Pape\", \"Sow\", \"Sonko\"]\n",
    "liste_majuscule = [x.upper() for x in nom_liste]\n",
    "liste_majuscule"
   ]
  },
  {
   "cell_type": "code",
   "execution_count": 83,
   "id": "b77ea861-8f3d-4c50-8e37-0d7ff5bcb987",
   "metadata": {},
   "outputs": [
    {
     "name": "stdout",
     "output_type": "stream",
     "text": [
      "['Bonjour', 'monde', 'Python', 'génial']\n"
     ]
    }
   ],
   "source": [
    "mots = [\"Bonjour\", \"le\", \"monde\", \"Python\", \"est\", \"génial\"]\n",
    "mots_sup_trois = [i for i in mots if len(i) > 3 ]\n",
    "print (mots_sup_trois)\n"
   ]
  },
  {
   "cell_type": "code",
   "execution_count": 92,
   "id": "7ea4f469-6eab-43a1-bf5a-7bf28fd67122",
   "metadata": {},
   "outputs": [
    {
     "name": "stdout",
     "output_type": "stream",
     "text": [
      "Bonjour\n",
      "monde\n",
      "Python\n",
      "génial\n"
     ]
    }
   ],
   "source": [
    "mes_mots = [\"Bonjour\", \"le\", \"monde\", \"Python\", \"est\", \"génial\"]\n",
    "for i in mes_mots:\n",
    "    if len(i)> 3:\n",
    "        print (i)"
   ]
  },
  {
   "cell_type": "code",
   "execution_count": 93,
   "id": "97236e2f-6835-4da6-96fd-996ddd0a530b",
   "metadata": {},
   "outputs": [
    {
     "name": "stdout",
     "output_type": "stream",
     "text": [
      "Nostelrooy\n",
      "Zanetti\n",
      "Scholes\n",
      "Carrick\n"
     ]
    }
   ],
   "source": [
    "mes_joueurs = [\"Nedved\", \"Nostelrooy\", \"Zanetti\", \"Scholes\", \"Carrick\", \"Kean\"]\n",
    "for i in mes_joueurs: \n",
    "    if len(i) > 6:\n",
    "        print (i)"
   ]
  },
  {
   "cell_type": "code",
   "execution_count": 94,
   "id": "cf13ac91-ea4e-4fe5-97bb-dbf4e1ce4719",
   "metadata": {},
   "outputs": [
    {
     "data": {
      "text/plain": [
       "['Nostelrooy', 'Zanetti', 'Scholes', 'Carrick']"
      ]
     },
     "execution_count": 94,
     "metadata": {},
     "output_type": "execute_result"
    }
   ],
   "source": [
    "mes_joueurs = [\"Nedved\", \"Nostelrooy\", \"Zanetti\", \"Scholes\", \"Carrick\", \"Kean\"]\n",
    "mes_joueurs_selectionnes = [x for x in mes_joueurs if len(x) > 6]\n",
    "mes_joueurs_selectionnes"
   ]
  },
  {
   "cell_type": "code",
   "execution_count": 98,
   "id": "3253b114-8cea-4d6c-9243-21f1eb6d1cd5",
   "metadata": {},
   "outputs": [
    {
     "name": "stdout",
     "output_type": "stream",
     "text": [
      "La temperature à kolda est de 45 degés\n",
      "La temperature à kolda est de 45 degrés\n"
     ]
    }
   ],
   "source": [
    "# Format\n",
    "\n",
    "temperature = 45\n",
    "ville = \"kolda\"\n",
    "resultat = \"La temperature à {} est de {} degés\".format(ville, temperature)\n",
    "RESULTAT = (f\"La temperature à {ville} est de {temperature} degrés\")\n",
    "print (resultat)\n",
    "print (RESULTAT)"
   ]
  },
  {
   "cell_type": "code",
   "execution_count": 104,
   "id": "0695d89b-1c7c-45a9-861c-50ef5aaf8e1c",
   "metadata": {},
   "outputs": [
    {
     "name": "stdin",
     "output_type": "stream",
     "text": [
      "Quel est ton prenom ?  SONKO\n",
      "Quel est votre âge 45\n",
      "Où habitez-vous ?  PARIS\n"
     ]
    },
    {
     "name": "stdout",
     "output_type": "stream",
     "text": [
      "Votre prenom est SONKO. Vous avez 45 ans et vous résidez à PARIS\n"
     ]
    }
   ],
   "source": [
    "prenom = input (\"Quel est ton prenom ? \")\n",
    "age = input (\"Quel est votre âge\")\n",
    "Lieu = input (\"Où habitez-vous ? \")\n",
    "resultat = (f\"Votre prenom est {prenom}. Vous avez {age} ans et vous résidez à {Lieu}\")\n",
    "print (resultat)\n"
   ]
  },
  {
   "cell_type": "code",
   "execution_count": 105,
   "id": "f2f1161a-161b-4a63-9ee2-971647a3922c",
   "metadata": {},
   "outputs": [
    {
     "data": {
      "text/plain": [
       "[12, 12, 45, 18, 25, 100]"
      ]
     },
     "execution_count": 105,
     "metadata": {},
     "output_type": "execute_result"
    }
   ],
   "source": [
    "ma_liste_nouvelle = [12, 12, 45, 18,25,100]\n",
    "ma_liste_nouvelle"
   ]
  },
  {
   "cell_type": "code",
   "execution_count": 106,
   "id": "6bdc597e-d628-4c6d-9ec0-c9d7d14648bf",
   "metadata": {},
   "outputs": [],
   "source": [
    "import mon_module_descriptif as mdd"
   ]
  },
  {
   "cell_type": "code",
   "execution_count": 111,
   "id": "fb0c6fa6-fd48-41e8-b68f-f262a7d95432",
   "metadata": {},
   "outputs": [
    {
     "data": {
      "text/plain": [
       "{'min': 12, 'max': 100, 'somme': 212, 'moyenne': 35.333333333333336}"
      ]
     },
     "execution_count": 111,
     "metadata": {},
     "output_type": "execute_result"
    }
   ],
   "source": [
    "mdd.ma_statistique_descriptive(ma_liste_nouvelle)"
   ]
  },
  {
   "cell_type": "code",
   "execution_count": 112,
   "id": "57f2ce07-f9cf-4fe9-abfd-e6cfedbbd18e",
   "metadata": {},
   "outputs": [
    {
     "data": {
      "text/plain": [
       "{'somme': 212}"
      ]
     },
     "execution_count": 112,
     "metadata": {},
     "output_type": "execute_result"
    }
   ],
   "source": [
    "mdd.somme_element(ma_liste_nouvelle)"
   ]
  },
  {
   "cell_type": "code",
   "execution_count": 144,
   "id": "3f9ff292-304e-4997-8200-eac220d75229",
   "metadata": {},
   "outputs": [],
   "source": [
    "import Module_test as mdl "
   ]
  },
  {
   "cell_type": "code",
   "execution_count": 136,
   "id": "e572fb3e-3912-42ed-8aca-e90035edd1cd",
   "metadata": {},
   "outputs": [
    {
     "data": {
      "text/plain": [
       "270"
      ]
     },
     "execution_count": 136,
     "metadata": {},
     "output_type": "execute_result"
    }
   ],
   "source": [
    "new_liste = [15,25,45,33,22,53,77]\n",
    "mdl.sommedelaserie(new_liste)"
   ]
  },
  {
   "cell_type": "code",
   "execution_count": 139,
   "id": "96c8e2b0-0408-45df-a560-75bc5d1a4e7a",
   "metadata": {},
   "outputs": [],
   "source": [
    "import test_module as tm"
   ]
  },
  {
   "cell_type": "code",
   "execution_count": 140,
   "id": "589a052f-007f-4930-9952-426b3087fac6",
   "metadata": {},
   "outputs": [
    {
     "data": {
      "text/plain": [
       "{'Min': 12, 'Max': 95, 'Somme': 300, 'Moyenne': 42.857142857142854}"
      ]
     },
     "execution_count": 140,
     "metadata": {},
     "output_type": "execute_result"
    }
   ],
   "source": [
    "liste_complete = [25,45,18,12,35,70,95]\n",
    "tm.mes_statistiques_descriptives(liste_complete)"
   ]
  },
  {
   "cell_type": "code",
   "execution_count": 138,
   "id": "aff60f31-7d79-4e33-af78-740f25201d92",
   "metadata": {},
   "outputs": [
    {
     "data": {
      "text/plain": [
       "{'minimum': <function min>,\n",
       " 'maximum': <function max>,\n",
       " 'somme': 204,\n",
       " 'moyenne': 34.0}"
      ]
     },
     "execution_count": 138,
     "metadata": {},
     "output_type": "execute_result"
    }
   ],
   "source": [
    "donnees = [12,12,25,10,45,100]\n",
    "mdl.donnees_descriptives(donnees)"
   ]
  },
  {
   "cell_type": "code",
   "execution_count": 128,
   "id": "091ae9a4-e68e-4b81-818f-a097a664c5fe",
   "metadata": {},
   "outputs": [
    {
     "data": {
      "text/plain": [
       "{'min': 15, 'max': 77, 'somme': 270, 'moyenne': 38.57142857142857}"
      ]
     },
     "execution_count": 128,
     "metadata": {},
     "output_type": "execute_result"
    }
   ],
   "source": [
    "mdd.ma_statistique_descriptive(new_liste)"
   ]
  },
  {
   "cell_type": "code",
   "execution_count": 160,
   "id": "c62751e9-cfa3-498d-94ed-56470baa6b07",
   "metadata": {},
   "outputs": [
    {
     "data": {
      "text/plain": [
       "{'min': 8000, 'max': 42002, 'somme': 116602, 'moyenne': 23320.4}"
      ]
     },
     "execution_count": 160,
     "metadata": {},
     "output_type": "execute_result"
    }
   ],
   "source": [
    "CA = [17600, 36000, 8000, 42002, 13000]\n",
    "mdd.ma_statistique_descriptive(CA)"
   ]
  },
  {
   "cell_type": "code",
   "execution_count": 164,
   "id": "02c0c0f9-a9a1-4d4a-8df6-4ced2e60d510",
   "metadata": {},
   "outputs": [
    {
     "data": {
      "text/plain": [
       "{'somme': 116602}"
      ]
     },
     "execution_count": 164,
     "metadata": {},
     "output_type": "execute_result"
    }
   ],
   "source": [
    "mdd.somme_element(CA)\n"
   ]
  },
  {
   "cell_type": "code",
   "execution_count": 167,
   "id": "46d2549f-d8f9-4496-80de-22fbd776d7ff",
   "metadata": {},
   "outputs": [],
   "source": [
    "from mon_module_descriptif import ma_statistique_descriptive"
   ]
  },
  {
   "cell_type": "code",
   "execution_count": 176,
   "id": "bebae8b0-66f3-4b05-a818-dae833d54642",
   "metadata": {},
   "outputs": [
    {
     "data": {
      "text/plain": [
       "{'min': 15, 'max': 300, 'somme': 578, 'moyenne': 115.6}"
      ]
     },
     "execution_count": 176,
     "metadata": {},
     "output_type": "execute_result"
    }
   ],
   "source": [
    "notes = [18,15,45,200,300]\n",
    "ma_statistique_descriptive(notes)"
   ]
  },
  {
   "cell_type": "markdown",
   "id": "8904c269-d320-4ead-b9ed-20136af2a17d",
   "metadata": {},
   "source": [
    "# Bien démarrer avec Numpy"
   ]
  },
  {
   "cell_type": "code",
   "execution_count": 177,
   "id": "529e3971-8056-4222-9057-f004a0850f10",
   "metadata": {},
   "outputs": [],
   "source": [
    "# Importation\n",
    "\n",
    "import numpy as np"
   ]
  },
  {
   "cell_type": "code",
   "execution_count": 178,
   "id": "54e53460-d842-4b8a-b3dd-dbde5e115520",
   "metadata": {},
   "outputs": [
    {
     "data": {
      "text/plain": [
       "array([12, 25, 45, 18, 11])"
      ]
     },
     "execution_count": 178,
     "metadata": {},
     "output_type": "execute_result"
    }
   ],
   "source": [
    "# Création d'un nd array à une dimension à partir d'une liste\n",
    "tableaudim1 = np.array([12, 25,45,18,11])\n",
    "tableaudim1"
   ]
  },
  {
   "cell_type": "code",
   "execution_count": 182,
   "id": "9a8dc6a6-cede-40ad-9cf3-6883703649fb",
   "metadata": {},
   "outputs": [
    {
     "data": {
      "text/plain": [
       "(5,)"
      ]
     },
     "execution_count": 182,
     "metadata": {},
     "output_type": "execute_result"
    }
   ],
   "source": [
    "# dimension du tableau et nombres d'éléments\n",
    "tableaudim1.shape\n",
    "# Tableau à une dimension avec 5 éléments"
   ]
  },
  {
   "cell_type": "code",
   "execution_count": 183,
   "id": "8945ab91-73c6-4351-a42d-5577ffe63ad6",
   "metadata": {},
   "outputs": [
    {
     "data": {
      "text/plain": [
       "5"
      ]
     },
     "execution_count": 183,
     "metadata": {},
     "output_type": "execute_result"
    }
   ],
   "source": [
    "#  Taille du tableau\n",
    "tableaudim1.size"
   ]
  },
  {
   "cell_type": "markdown",
   "id": "5248c4f9-b728-4a83-9c8d-b1a91d305589",
   "metadata": {},
   "source": [
    "# Créer un numpy array avec des fonctions intégrées"
   ]
  },
  {
   "cell_type": "code",
   "execution_count": 187,
   "id": "5d5689b1-7d5d-4690-bd89-2e8016072a85",
   "metadata": {},
   "outputs": [
    {
     "data": {
      "text/plain": [
       "array([[0., 0.],\n",
       "       [0., 0.]])"
      ]
     },
     "execution_count": 187,
     "metadata": {},
     "output_type": "execute_result"
    }
   ],
   "source": [
    "# Tableau avec des zéros \n",
    "tableauzero = np.zeros((2,2))\n",
    "tableauzero"
   ]
  },
  {
   "cell_type": "code",
   "execution_count": 189,
   "id": "f840c3dd-528e-464a-a626-ae3327efc179",
   "metadata": {},
   "outputs": [
    {
     "data": {
      "text/plain": [
       "array([[1., 1.],\n",
       "       [1., 1.]])"
      ]
     },
     "execution_count": 189,
     "metadata": {},
     "output_type": "execute_result"
    }
   ],
   "source": [
    "#Tableau avec des 1 \n",
    "tableau1 = np.ones((2,2))\n",
    "tableau1"
   ]
  },
  {
   "cell_type": "code",
   "execution_count": 193,
   "id": "f18a6db6-b3dd-44b2-b01c-8b568af90c35",
   "metadata": {},
   "outputs": [
    {
     "data": {
      "text/plain": [
       "array([[1., 0.],\n",
       "       [0., 1.]])"
      ]
     },
     "execution_count": 193,
     "metadata": {},
     "output_type": "execute_result"
    }
   ],
   "source": [
    "# Créer la matrice identité avec np.eye()\n",
    "tableaueye = np.eye(2)\n",
    "tableaueye"
   ]
  },
  {
   "cell_type": "code",
   "execution_count": 194,
   "id": "ddd2c82e-a273-4e42-a808-ceb6ffeb182f",
   "metadata": {},
   "outputs": [
    {
     "data": {
      "text/plain": [
       "array([0, 1, 2, 3, 4, 5, 6, 7, 8, 9])"
      ]
     },
     "execution_count": 194,
     "metadata": {},
     "output_type": "execute_result"
    }
   ],
   "source": [
    "np.arange(0,10,1)"
   ]
  },
  {
   "cell_type": "code",
   "execution_count": 199,
   "id": "267a61c6-19f6-4bf4-b510-962f3f5a626b",
   "metadata": {},
   "outputs": [
    {
     "data": {
      "text/plain": [
       "array([0.        , 0.11111111, 0.22222222, 0.33333333, 0.44444444,\n",
       "       0.55555556, 0.66666667, 0.77777778, 0.88888889, 1.        ])"
      ]
     },
     "execution_count": 199,
     "metadata": {},
     "output_type": "execute_result"
    }
   ],
   "source": [
    "# Linspace :  génère une séquence de nbres. Très utile pr les grphqu entre 2 valeurs données avec un nbre de points donnés\n",
    "np.linspace(0,1,10)"
   ]
  },
  {
   "cell_type": "code",
   "execution_count": 209,
   "id": "44862638-36ed-4b92-89f6-c32e342b7b70",
   "metadata": {},
   "outputs": [
    {
     "data": {
      "text/plain": [
       "array([[0.77303026, 0.82507048, 0.86517721, 0.26405383, 0.6188564 ,\n",
       "        0.46639116, 0.21355162, 0.13713619, 0.00346924, 0.89484232]])"
      ]
     },
     "execution_count": 209,
     "metadata": {},
     "output_type": "execute_result"
    }
   ],
   "source": [
    "# Création de nbres aléatoires avec np.random.random\n",
    "np.random.rand(1, 10)  # 5 entiers entre 1 et 9\n"
   ]
  },
  {
   "cell_type": "markdown",
   "id": "2a17ae18-c165-439e-aabf-81ccb7f5ac04",
   "metadata": {},
   "source": [
    "# Accéder aux éléments"
   ]
  },
  {
   "cell_type": "code",
   "execution_count": 211,
   "id": "3adb5501-3dec-48af-b6f5-89a7fefb4526",
   "metadata": {},
   "outputs": [
    {
     "name": "stdout",
     "output_type": "stream",
     "text": [
      "[12 25 45 18 11]\n"
     ]
    }
   ],
   "source": [
    "print(tableaudim1)"
   ]
  },
  {
   "cell_type": "code",
   "execution_count": 210,
   "id": "ab4db7b7-9a34-4040-a8a5-c56da6d8392f",
   "metadata": {},
   "outputs": [
    {
     "data": {
      "text/plain": [
       "12"
      ]
     },
     "execution_count": 210,
     "metadata": {},
     "output_type": "execute_result"
    }
   ],
   "source": [
    "tableaudim1[0]"
   ]
  },
  {
   "cell_type": "code",
   "execution_count": 212,
   "id": "f0b739ac-2840-4b5b-b1f2-b9548e55cb05",
   "metadata": {},
   "outputs": [
    {
     "data": {
      "text/plain": [
       "(array([1, 2], dtype=int64),)"
      ]
     },
     "execution_count": 212,
     "metadata": {},
     "output_type": "execute_result"
    }
   ],
   "source": [
    "# Sélection des éléments qui respectent une condition. np.where retourne les indices des éléments supérieurs à 20\n",
    "np.where(tableaudim1 > 20)"
   ]
  },
  {
   "cell_type": "markdown",
   "id": "af927806-c406-436b-8da9-9eb160a43b27",
   "metadata": {},
   "source": [
    "# Analyse des données avec Pandas "
   ]
  },
  {
   "cell_type": "code",
   "execution_count": 213,
   "id": "889c1092-dae5-43b1-8aa9-185e15ca38a5",
   "metadata": {},
   "outputs": [],
   "source": [
    "# Import pandas \n",
    "import pandas as pd"
   ]
  },
  {
   "cell_type": "code",
   "execution_count": 217,
   "id": "c2a8a2ef-6c50-4307-9f3c-82dd1406e514",
   "metadata": {},
   "outputs": [
    {
     "data": {
      "text/html": [
       "<div>\n",
       "<style scoped>\n",
       "    .dataframe tbody tr th:only-of-type {\n",
       "        vertical-align: middle;\n",
       "    }\n",
       "\n",
       "    .dataframe tbody tr th {\n",
       "        vertical-align: top;\n",
       "    }\n",
       "\n",
       "    .dataframe thead th {\n",
       "        text-align: right;\n",
       "    }\n",
       "</style>\n",
       "<table border=\"1\" class=\"dataframe\">\n",
       "  <thead>\n",
       "    <tr style=\"text-align: right;\">\n",
       "      <th></th>\n",
       "      <th>id</th>\n",
       "      <th>age</th>\n",
       "      <th>job</th>\n",
       "      <th>marital</th>\n",
       "      <th>education</th>\n",
       "      <th>default</th>\n",
       "      <th>balance</th>\n",
       "      <th>housing</th>\n",
       "      <th>loan</th>\n",
       "      <th>contact</th>\n",
       "      <th>day</th>\n",
       "      <th>month</th>\n",
       "      <th>duration</th>\n",
       "      <th>campaign</th>\n",
       "      <th>pdays</th>\n",
       "      <th>previous</th>\n",
       "      <th>poutcome</th>\n",
       "      <th>y</th>\n",
       "    </tr>\n",
       "  </thead>\n",
       "  <tbody>\n",
       "    <tr>\n",
       "      <th>0</th>\n",
       "      <td>id1</td>\n",
       "      <td>58</td>\n",
       "      <td>management</td>\n",
       "      <td>married</td>\n",
       "      <td>tertiary</td>\n",
       "      <td>no</td>\n",
       "      <td>2143.0</td>\n",
       "      <td>yes</td>\n",
       "      <td>no</td>\n",
       "      <td>unknown</td>\n",
       "      <td>5</td>\n",
       "      <td>may</td>\n",
       "      <td>261</td>\n",
       "      <td>1</td>\n",
       "      <td>-1</td>\n",
       "      <td>0</td>\n",
       "      <td>unknown</td>\n",
       "      <td>no</td>\n",
       "    </tr>\n",
       "    <tr>\n",
       "      <th>1</th>\n",
       "      <td>id2</td>\n",
       "      <td>44</td>\n",
       "      <td>technician</td>\n",
       "      <td>single</td>\n",
       "      <td>secondary</td>\n",
       "      <td>no</td>\n",
       "      <td>29.0</td>\n",
       "      <td>yes</td>\n",
       "      <td>no</td>\n",
       "      <td>unknown</td>\n",
       "      <td>5</td>\n",
       "      <td>may</td>\n",
       "      <td>151</td>\n",
       "      <td>1</td>\n",
       "      <td>-1</td>\n",
       "      <td>0</td>\n",
       "      <td>unknown</td>\n",
       "      <td>no</td>\n",
       "    </tr>\n",
       "    <tr>\n",
       "      <th>2</th>\n",
       "      <td>id3</td>\n",
       "      <td>33</td>\n",
       "      <td>entrepreneur</td>\n",
       "      <td>married</td>\n",
       "      <td>secondary</td>\n",
       "      <td>no</td>\n",
       "      <td>2.0</td>\n",
       "      <td>yes</td>\n",
       "      <td>yes</td>\n",
       "      <td>unknown</td>\n",
       "      <td>5</td>\n",
       "      <td>may</td>\n",
       "      <td>76</td>\n",
       "      <td>1</td>\n",
       "      <td>-1</td>\n",
       "      <td>0</td>\n",
       "      <td>unknown</td>\n",
       "      <td>no</td>\n",
       "    </tr>\n",
       "    <tr>\n",
       "      <th>3</th>\n",
       "      <td>id4</td>\n",
       "      <td>47</td>\n",
       "      <td>blue-collar</td>\n",
       "      <td>married</td>\n",
       "      <td>unknown</td>\n",
       "      <td>no</td>\n",
       "      <td>1506.0</td>\n",
       "      <td>yes</td>\n",
       "      <td>no</td>\n",
       "      <td>unknown</td>\n",
       "      <td>5</td>\n",
       "      <td>may</td>\n",
       "      <td>92</td>\n",
       "      <td>1</td>\n",
       "      <td>-1</td>\n",
       "      <td>0</td>\n",
       "      <td>unknown</td>\n",
       "      <td>no</td>\n",
       "    </tr>\n",
       "    <tr>\n",
       "      <th>4</th>\n",
       "      <td>id5</td>\n",
       "      <td>33</td>\n",
       "      <td>unknown</td>\n",
       "      <td>single</td>\n",
       "      <td>unknown</td>\n",
       "      <td>no</td>\n",
       "      <td>1.0</td>\n",
       "      <td>no</td>\n",
       "      <td>no</td>\n",
       "      <td>unknown</td>\n",
       "      <td>5</td>\n",
       "      <td>may</td>\n",
       "      <td>198</td>\n",
       "      <td>1</td>\n",
       "      <td>-1</td>\n",
       "      <td>0</td>\n",
       "      <td>unknown</td>\n",
       "      <td>no</td>\n",
       "    </tr>\n",
       "    <tr>\n",
       "      <th>...</th>\n",
       "      <td>...</td>\n",
       "      <td>...</td>\n",
       "      <td>...</td>\n",
       "      <td>...</td>\n",
       "      <td>...</td>\n",
       "      <td>...</td>\n",
       "      <td>...</td>\n",
       "      <td>...</td>\n",
       "      <td>...</td>\n",
       "      <td>...</td>\n",
       "      <td>...</td>\n",
       "      <td>...</td>\n",
       "      <td>...</td>\n",
       "      <td>...</td>\n",
       "      <td>...</td>\n",
       "      <td>...</td>\n",
       "      <td>...</td>\n",
       "      <td>...</td>\n",
       "    </tr>\n",
       "    <tr>\n",
       "      <th>45206</th>\n",
       "      <td>id45207</td>\n",
       "      <td>51</td>\n",
       "      <td>technician</td>\n",
       "      <td>married</td>\n",
       "      <td>tertiary</td>\n",
       "      <td>no</td>\n",
       "      <td>825.0</td>\n",
       "      <td>no</td>\n",
       "      <td>no</td>\n",
       "      <td>cellular</td>\n",
       "      <td>17</td>\n",
       "      <td>nov</td>\n",
       "      <td>977</td>\n",
       "      <td>3</td>\n",
       "      <td>-1</td>\n",
       "      <td>0</td>\n",
       "      <td>unknown</td>\n",
       "      <td>yes</td>\n",
       "    </tr>\n",
       "    <tr>\n",
       "      <th>45207</th>\n",
       "      <td>id45208</td>\n",
       "      <td>71</td>\n",
       "      <td>retired</td>\n",
       "      <td>divorced</td>\n",
       "      <td>primary</td>\n",
       "      <td>no</td>\n",
       "      <td>1729.0</td>\n",
       "      <td>no</td>\n",
       "      <td>no</td>\n",
       "      <td>cellular</td>\n",
       "      <td>17</td>\n",
       "      <td>nov</td>\n",
       "      <td>456</td>\n",
       "      <td>2</td>\n",
       "      <td>-1</td>\n",
       "      <td>0</td>\n",
       "      <td>unknown</td>\n",
       "      <td>yes</td>\n",
       "    </tr>\n",
       "    <tr>\n",
       "      <th>45208</th>\n",
       "      <td>id45209</td>\n",
       "      <td>72</td>\n",
       "      <td>retired</td>\n",
       "      <td>married</td>\n",
       "      <td>secondary</td>\n",
       "      <td>no</td>\n",
       "      <td>5715.0</td>\n",
       "      <td>no</td>\n",
       "      <td>no</td>\n",
       "      <td>cellular</td>\n",
       "      <td>17</td>\n",
       "      <td>nov</td>\n",
       "      <td>1127</td>\n",
       "      <td>5</td>\n",
       "      <td>184</td>\n",
       "      <td>3</td>\n",
       "      <td>success</td>\n",
       "      <td>yes</td>\n",
       "    </tr>\n",
       "    <tr>\n",
       "      <th>45209</th>\n",
       "      <td>id45210</td>\n",
       "      <td>57</td>\n",
       "      <td>blue-collar</td>\n",
       "      <td>married</td>\n",
       "      <td>secondary</td>\n",
       "      <td>no</td>\n",
       "      <td>668.0</td>\n",
       "      <td>no</td>\n",
       "      <td>no</td>\n",
       "      <td>telephone</td>\n",
       "      <td>17</td>\n",
       "      <td>nov</td>\n",
       "      <td>508</td>\n",
       "      <td>4</td>\n",
       "      <td>-1</td>\n",
       "      <td>0</td>\n",
       "      <td>unknown</td>\n",
       "      <td>no</td>\n",
       "    </tr>\n",
       "    <tr>\n",
       "      <th>45210</th>\n",
       "      <td>id45211</td>\n",
       "      <td>37</td>\n",
       "      <td>entrepreneur</td>\n",
       "      <td>married</td>\n",
       "      <td>secondary</td>\n",
       "      <td>no</td>\n",
       "      <td>2971.0</td>\n",
       "      <td>no</td>\n",
       "      <td>no</td>\n",
       "      <td>cellular</td>\n",
       "      <td>17</td>\n",
       "      <td>nov</td>\n",
       "      <td>361</td>\n",
       "      <td>2</td>\n",
       "      <td>188</td>\n",
       "      <td>11</td>\n",
       "      <td>other</td>\n",
       "      <td>no</td>\n",
       "    </tr>\n",
       "  </tbody>\n",
       "</table>\n",
       "<p>45211 rows × 18 columns</p>\n",
       "</div>"
      ],
      "text/plain": [
       "            id  age           job   marital  education default  balance  \\\n",
       "0          id1   58    management   married   tertiary      no   2143.0   \n",
       "1          id2   44    technician    single  secondary      no     29.0   \n",
       "2          id3   33  entrepreneur   married  secondary      no      2.0   \n",
       "3          id4   47   blue-collar   married    unknown      no   1506.0   \n",
       "4          id5   33       unknown    single    unknown      no      1.0   \n",
       "...        ...  ...           ...       ...        ...     ...      ...   \n",
       "45206  id45207   51    technician   married   tertiary      no    825.0   \n",
       "45207  id45208   71       retired  divorced    primary      no   1729.0   \n",
       "45208  id45209   72       retired   married  secondary      no   5715.0   \n",
       "45209  id45210   57   blue-collar   married  secondary      no    668.0   \n",
       "45210  id45211   37  entrepreneur   married  secondary      no   2971.0   \n",
       "\n",
       "      housing loan    contact  day month  duration  campaign  pdays  previous  \\\n",
       "0         yes   no    unknown    5   may       261         1     -1         0   \n",
       "1         yes   no    unknown    5   may       151         1     -1         0   \n",
       "2         yes  yes    unknown    5   may        76         1     -1         0   \n",
       "3         yes   no    unknown    5   may        92         1     -1         0   \n",
       "4          no   no    unknown    5   may       198         1     -1         0   \n",
       "...       ...  ...        ...  ...   ...       ...       ...    ...       ...   \n",
       "45206      no   no   cellular   17   nov       977         3     -1         0   \n",
       "45207      no   no   cellular   17   nov       456         2     -1         0   \n",
       "45208      no   no   cellular   17   nov      1127         5    184         3   \n",
       "45209      no   no  telephone   17   nov       508         4     -1         0   \n",
       "45210      no   no   cellular   17   nov       361         2    188        11   \n",
       "\n",
       "      poutcome    y  \n",
       "0      unknown   no  \n",
       "1      unknown   no  \n",
       "2      unknown   no  \n",
       "3      unknown   no  \n",
       "4      unknown   no  \n",
       "...        ...  ...  \n",
       "45206  unknown  yes  \n",
       "45207  unknown  yes  \n",
       "45208  success  yes  \n",
       "45209  unknown   no  \n",
       "45210    other   no  \n",
       "\n",
       "[45211 rows x 18 columns]"
      ]
     },
     "execution_count": 217,
     "metadata": {},
     "output_type": "execute_result"
    }
   ],
   "source": [
    "df = pd.read_csv(\"D:\\Python_Analyse_de_données\\donnees_marketing_banque_v.csv\", sep = \";\") \n",
    "df"
   ]
  },
  {
   "cell_type": "code",
   "execution_count": 218,
   "id": "6ecb5652-9f0c-4530-bbba-2e0e7b35c3ee",
   "metadata": {},
   "outputs": [
    {
     "data": {
      "text/html": [
       "<div>\n",
       "<style scoped>\n",
       "    .dataframe tbody tr th:only-of-type {\n",
       "        vertical-align: middle;\n",
       "    }\n",
       "\n",
       "    .dataframe tbody tr th {\n",
       "        vertical-align: top;\n",
       "    }\n",
       "\n",
       "    .dataframe thead th {\n",
       "        text-align: right;\n",
       "    }\n",
       "</style>\n",
       "<table border=\"1\" class=\"dataframe\">\n",
       "  <thead>\n",
       "    <tr style=\"text-align: right;\">\n",
       "      <th></th>\n",
       "      <th>id</th>\n",
       "      <th>age</th>\n",
       "      <th>job</th>\n",
       "      <th>marital</th>\n",
       "      <th>education</th>\n",
       "      <th>default</th>\n",
       "      <th>balance</th>\n",
       "      <th>housing</th>\n",
       "      <th>loan</th>\n",
       "      <th>contact</th>\n",
       "      <th>day</th>\n",
       "      <th>month</th>\n",
       "      <th>duration</th>\n",
       "      <th>campaign</th>\n",
       "      <th>pdays</th>\n",
       "      <th>previous</th>\n",
       "      <th>poutcome</th>\n",
       "      <th>y</th>\n",
       "    </tr>\n",
       "  </thead>\n",
       "  <tbody>\n",
       "    <tr>\n",
       "      <th>0</th>\n",
       "      <td>id1</td>\n",
       "      <td>58</td>\n",
       "      <td>management</td>\n",
       "      <td>married</td>\n",
       "      <td>tertiary</td>\n",
       "      <td>no</td>\n",
       "      <td>2143.0</td>\n",
       "      <td>yes</td>\n",
       "      <td>no</td>\n",
       "      <td>unknown</td>\n",
       "      <td>5</td>\n",
       "      <td>may</td>\n",
       "      <td>261</td>\n",
       "      <td>1</td>\n",
       "      <td>-1</td>\n",
       "      <td>0</td>\n",
       "      <td>unknown</td>\n",
       "      <td>no</td>\n",
       "    </tr>\n",
       "    <tr>\n",
       "      <th>1</th>\n",
       "      <td>id2</td>\n",
       "      <td>44</td>\n",
       "      <td>technician</td>\n",
       "      <td>single</td>\n",
       "      <td>secondary</td>\n",
       "      <td>no</td>\n",
       "      <td>29.0</td>\n",
       "      <td>yes</td>\n",
       "      <td>no</td>\n",
       "      <td>unknown</td>\n",
       "      <td>5</td>\n",
       "      <td>may</td>\n",
       "      <td>151</td>\n",
       "      <td>1</td>\n",
       "      <td>-1</td>\n",
       "      <td>0</td>\n",
       "      <td>unknown</td>\n",
       "      <td>no</td>\n",
       "    </tr>\n",
       "    <tr>\n",
       "      <th>2</th>\n",
       "      <td>id3</td>\n",
       "      <td>33</td>\n",
       "      <td>entrepreneur</td>\n",
       "      <td>married</td>\n",
       "      <td>secondary</td>\n",
       "      <td>no</td>\n",
       "      <td>2.0</td>\n",
       "      <td>yes</td>\n",
       "      <td>yes</td>\n",
       "      <td>unknown</td>\n",
       "      <td>5</td>\n",
       "      <td>may</td>\n",
       "      <td>76</td>\n",
       "      <td>1</td>\n",
       "      <td>-1</td>\n",
       "      <td>0</td>\n",
       "      <td>unknown</td>\n",
       "      <td>no</td>\n",
       "    </tr>\n",
       "    <tr>\n",
       "      <th>3</th>\n",
       "      <td>id4</td>\n",
       "      <td>47</td>\n",
       "      <td>blue-collar</td>\n",
       "      <td>married</td>\n",
       "      <td>unknown</td>\n",
       "      <td>no</td>\n",
       "      <td>1506.0</td>\n",
       "      <td>yes</td>\n",
       "      <td>no</td>\n",
       "      <td>unknown</td>\n",
       "      <td>5</td>\n",
       "      <td>may</td>\n",
       "      <td>92</td>\n",
       "      <td>1</td>\n",
       "      <td>-1</td>\n",
       "      <td>0</td>\n",
       "      <td>unknown</td>\n",
       "      <td>no</td>\n",
       "    </tr>\n",
       "    <tr>\n",
       "      <th>4</th>\n",
       "      <td>id5</td>\n",
       "      <td>33</td>\n",
       "      <td>unknown</td>\n",
       "      <td>single</td>\n",
       "      <td>unknown</td>\n",
       "      <td>no</td>\n",
       "      <td>1.0</td>\n",
       "      <td>no</td>\n",
       "      <td>no</td>\n",
       "      <td>unknown</td>\n",
       "      <td>5</td>\n",
       "      <td>may</td>\n",
       "      <td>198</td>\n",
       "      <td>1</td>\n",
       "      <td>-1</td>\n",
       "      <td>0</td>\n",
       "      <td>unknown</td>\n",
       "      <td>no</td>\n",
       "    </tr>\n",
       "  </tbody>\n",
       "</table>\n",
       "</div>"
      ],
      "text/plain": [
       "    id  age           job  marital  education default  balance housing loan  \\\n",
       "0  id1   58    management  married   tertiary      no   2143.0     yes   no   \n",
       "1  id2   44    technician   single  secondary      no     29.0     yes   no   \n",
       "2  id3   33  entrepreneur  married  secondary      no      2.0     yes  yes   \n",
       "3  id4   47   blue-collar  married    unknown      no   1506.0     yes   no   \n",
       "4  id5   33       unknown   single    unknown      no      1.0      no   no   \n",
       "\n",
       "   contact  day month  duration  campaign  pdays  previous poutcome   y  \n",
       "0  unknown    5   may       261         1     -1         0  unknown  no  \n",
       "1  unknown    5   may       151         1     -1         0  unknown  no  \n",
       "2  unknown    5   may        76         1     -1         0  unknown  no  \n",
       "3  unknown    5   may        92         1     -1         0  unknown  no  \n",
       "4  unknown    5   may       198         1     -1         0  unknown  no  "
      ]
     },
     "execution_count": 218,
     "metadata": {},
     "output_type": "execute_result"
    }
   ],
   "source": [
    "# Head pour afficher les 5 premières lignes du dataframe\n",
    "df.head()\n"
   ]
  },
  {
   "cell_type": "code",
   "execution_count": 221,
   "id": "b66f93c9-b0fe-4b7c-8acd-cd012beae60f",
   "metadata": {},
   "outputs": [
    {
     "data": {
      "text/html": [
       "<div>\n",
       "<style scoped>\n",
       "    .dataframe tbody tr th:only-of-type {\n",
       "        vertical-align: middle;\n",
       "    }\n",
       "\n",
       "    .dataframe tbody tr th {\n",
       "        vertical-align: top;\n",
       "    }\n",
       "\n",
       "    .dataframe thead th {\n",
       "        text-align: right;\n",
       "    }\n",
       "</style>\n",
       "<table border=\"1\" class=\"dataframe\">\n",
       "  <thead>\n",
       "    <tr style=\"text-align: right;\">\n",
       "      <th></th>\n",
       "      <th>id</th>\n",
       "      <th>age</th>\n",
       "      <th>job</th>\n",
       "      <th>marital</th>\n",
       "      <th>education</th>\n",
       "      <th>default</th>\n",
       "      <th>balance</th>\n",
       "      <th>housing</th>\n",
       "      <th>loan</th>\n",
       "      <th>contact</th>\n",
       "      <th>day</th>\n",
       "      <th>month</th>\n",
       "      <th>duration</th>\n",
       "      <th>campaign</th>\n",
       "      <th>pdays</th>\n",
       "      <th>previous</th>\n",
       "      <th>poutcome</th>\n",
       "      <th>y</th>\n",
       "    </tr>\n",
       "  </thead>\n",
       "  <tbody>\n",
       "    <tr>\n",
       "      <th>0</th>\n",
       "      <td>id1</td>\n",
       "      <td>58</td>\n",
       "      <td>management</td>\n",
       "      <td>married</td>\n",
       "      <td>tertiary</td>\n",
       "      <td>no</td>\n",
       "      <td>2143.0</td>\n",
       "      <td>yes</td>\n",
       "      <td>no</td>\n",
       "      <td>unknown</td>\n",
       "      <td>5</td>\n",
       "      <td>may</td>\n",
       "      <td>261</td>\n",
       "      <td>1</td>\n",
       "      <td>-1</td>\n",
       "      <td>0</td>\n",
       "      <td>unknown</td>\n",
       "      <td>no</td>\n",
       "    </tr>\n",
       "    <tr>\n",
       "      <th>1</th>\n",
       "      <td>id2</td>\n",
       "      <td>44</td>\n",
       "      <td>technician</td>\n",
       "      <td>single</td>\n",
       "      <td>secondary</td>\n",
       "      <td>no</td>\n",
       "      <td>29.0</td>\n",
       "      <td>yes</td>\n",
       "      <td>no</td>\n",
       "      <td>unknown</td>\n",
       "      <td>5</td>\n",
       "      <td>may</td>\n",
       "      <td>151</td>\n",
       "      <td>1</td>\n",
       "      <td>-1</td>\n",
       "      <td>0</td>\n",
       "      <td>unknown</td>\n",
       "      <td>no</td>\n",
       "    </tr>\n",
       "    <tr>\n",
       "      <th>2</th>\n",
       "      <td>id3</td>\n",
       "      <td>33</td>\n",
       "      <td>entrepreneur</td>\n",
       "      <td>married</td>\n",
       "      <td>secondary</td>\n",
       "      <td>no</td>\n",
       "      <td>2.0</td>\n",
       "      <td>yes</td>\n",
       "      <td>yes</td>\n",
       "      <td>unknown</td>\n",
       "      <td>5</td>\n",
       "      <td>may</td>\n",
       "      <td>76</td>\n",
       "      <td>1</td>\n",
       "      <td>-1</td>\n",
       "      <td>0</td>\n",
       "      <td>unknown</td>\n",
       "      <td>no</td>\n",
       "    </tr>\n",
       "    <tr>\n",
       "      <th>3</th>\n",
       "      <td>id4</td>\n",
       "      <td>47</td>\n",
       "      <td>blue-collar</td>\n",
       "      <td>married</td>\n",
       "      <td>unknown</td>\n",
       "      <td>no</td>\n",
       "      <td>1506.0</td>\n",
       "      <td>yes</td>\n",
       "      <td>no</td>\n",
       "      <td>unknown</td>\n",
       "      <td>5</td>\n",
       "      <td>may</td>\n",
       "      <td>92</td>\n",
       "      <td>1</td>\n",
       "      <td>-1</td>\n",
       "      <td>0</td>\n",
       "      <td>unknown</td>\n",
       "      <td>no</td>\n",
       "    </tr>\n",
       "    <tr>\n",
       "      <th>4</th>\n",
       "      <td>id5</td>\n",
       "      <td>33</td>\n",
       "      <td>unknown</td>\n",
       "      <td>single</td>\n",
       "      <td>unknown</td>\n",
       "      <td>no</td>\n",
       "      <td>1.0</td>\n",
       "      <td>no</td>\n",
       "      <td>no</td>\n",
       "      <td>unknown</td>\n",
       "      <td>5</td>\n",
       "      <td>may</td>\n",
       "      <td>198</td>\n",
       "      <td>1</td>\n",
       "      <td>-1</td>\n",
       "      <td>0</td>\n",
       "      <td>unknown</td>\n",
       "      <td>no</td>\n",
       "    </tr>\n",
       "    <tr>\n",
       "      <th>...</th>\n",
       "      <td>...</td>\n",
       "      <td>...</td>\n",
       "      <td>...</td>\n",
       "      <td>...</td>\n",
       "      <td>...</td>\n",
       "      <td>...</td>\n",
       "      <td>...</td>\n",
       "      <td>...</td>\n",
       "      <td>...</td>\n",
       "      <td>...</td>\n",
       "      <td>...</td>\n",
       "      <td>...</td>\n",
       "      <td>...</td>\n",
       "      <td>...</td>\n",
       "      <td>...</td>\n",
       "      <td>...</td>\n",
       "      <td>...</td>\n",
       "      <td>...</td>\n",
       "    </tr>\n",
       "    <tr>\n",
       "      <th>45206</th>\n",
       "      <td>id45207</td>\n",
       "      <td>51</td>\n",
       "      <td>technician</td>\n",
       "      <td>married</td>\n",
       "      <td>tertiary</td>\n",
       "      <td>no</td>\n",
       "      <td>825.0</td>\n",
       "      <td>no</td>\n",
       "      <td>no</td>\n",
       "      <td>cellular</td>\n",
       "      <td>17</td>\n",
       "      <td>nov</td>\n",
       "      <td>977</td>\n",
       "      <td>3</td>\n",
       "      <td>-1</td>\n",
       "      <td>0</td>\n",
       "      <td>unknown</td>\n",
       "      <td>yes</td>\n",
       "    </tr>\n",
       "    <tr>\n",
       "      <th>45207</th>\n",
       "      <td>id45208</td>\n",
       "      <td>71</td>\n",
       "      <td>retired</td>\n",
       "      <td>divorced</td>\n",
       "      <td>primary</td>\n",
       "      <td>no</td>\n",
       "      <td>1729.0</td>\n",
       "      <td>no</td>\n",
       "      <td>no</td>\n",
       "      <td>cellular</td>\n",
       "      <td>17</td>\n",
       "      <td>nov</td>\n",
       "      <td>456</td>\n",
       "      <td>2</td>\n",
       "      <td>-1</td>\n",
       "      <td>0</td>\n",
       "      <td>unknown</td>\n",
       "      <td>yes</td>\n",
       "    </tr>\n",
       "    <tr>\n",
       "      <th>45208</th>\n",
       "      <td>id45209</td>\n",
       "      <td>72</td>\n",
       "      <td>retired</td>\n",
       "      <td>married</td>\n",
       "      <td>secondary</td>\n",
       "      <td>no</td>\n",
       "      <td>5715.0</td>\n",
       "      <td>no</td>\n",
       "      <td>no</td>\n",
       "      <td>cellular</td>\n",
       "      <td>17</td>\n",
       "      <td>nov</td>\n",
       "      <td>1127</td>\n",
       "      <td>5</td>\n",
       "      <td>184</td>\n",
       "      <td>3</td>\n",
       "      <td>success</td>\n",
       "      <td>yes</td>\n",
       "    </tr>\n",
       "    <tr>\n",
       "      <th>45209</th>\n",
       "      <td>id45210</td>\n",
       "      <td>57</td>\n",
       "      <td>blue-collar</td>\n",
       "      <td>married</td>\n",
       "      <td>secondary</td>\n",
       "      <td>no</td>\n",
       "      <td>668.0</td>\n",
       "      <td>no</td>\n",
       "      <td>no</td>\n",
       "      <td>telephone</td>\n",
       "      <td>17</td>\n",
       "      <td>nov</td>\n",
       "      <td>508</td>\n",
       "      <td>4</td>\n",
       "      <td>-1</td>\n",
       "      <td>0</td>\n",
       "      <td>unknown</td>\n",
       "      <td>no</td>\n",
       "    </tr>\n",
       "    <tr>\n",
       "      <th>45210</th>\n",
       "      <td>id45211</td>\n",
       "      <td>37</td>\n",
       "      <td>entrepreneur</td>\n",
       "      <td>married</td>\n",
       "      <td>secondary</td>\n",
       "      <td>no</td>\n",
       "      <td>2971.0</td>\n",
       "      <td>no</td>\n",
       "      <td>no</td>\n",
       "      <td>cellular</td>\n",
       "      <td>17</td>\n",
       "      <td>nov</td>\n",
       "      <td>361</td>\n",
       "      <td>2</td>\n",
       "      <td>188</td>\n",
       "      <td>11</td>\n",
       "      <td>other</td>\n",
       "      <td>no</td>\n",
       "    </tr>\n",
       "  </tbody>\n",
       "</table>\n",
       "<p>45211 rows × 18 columns</p>\n",
       "</div>"
      ],
      "text/plain": [
       "            id  age           job   marital  education default  balance  \\\n",
       "0          id1   58    management   married   tertiary      no   2143.0   \n",
       "1          id2   44    technician    single  secondary      no     29.0   \n",
       "2          id3   33  entrepreneur   married  secondary      no      2.0   \n",
       "3          id4   47   blue-collar   married    unknown      no   1506.0   \n",
       "4          id5   33       unknown    single    unknown      no      1.0   \n",
       "...        ...  ...           ...       ...        ...     ...      ...   \n",
       "45206  id45207   51    technician   married   tertiary      no    825.0   \n",
       "45207  id45208   71       retired  divorced    primary      no   1729.0   \n",
       "45208  id45209   72       retired   married  secondary      no   5715.0   \n",
       "45209  id45210   57   blue-collar   married  secondary      no    668.0   \n",
       "45210  id45211   37  entrepreneur   married  secondary      no   2971.0   \n",
       "\n",
       "      housing loan    contact  day month  duration  campaign  pdays  previous  \\\n",
       "0         yes   no    unknown    5   may       261         1     -1         0   \n",
       "1         yes   no    unknown    5   may       151         1     -1         0   \n",
       "2         yes  yes    unknown    5   may        76         1     -1         0   \n",
       "3         yes   no    unknown    5   may        92         1     -1         0   \n",
       "4          no   no    unknown    5   may       198         1     -1         0   \n",
       "...       ...  ...        ...  ...   ...       ...       ...    ...       ...   \n",
       "45206      no   no   cellular   17   nov       977         3     -1         0   \n",
       "45207      no   no   cellular   17   nov       456         2     -1         0   \n",
       "45208      no   no   cellular   17   nov      1127         5    184         3   \n",
       "45209      no   no  telephone   17   nov       508         4     -1         0   \n",
       "45210      no   no   cellular   17   nov       361         2    188        11   \n",
       "\n",
       "      poutcome    y  \n",
       "0      unknown   no  \n",
       "1      unknown   no  \n",
       "2      unknown   no  \n",
       "3      unknown   no  \n",
       "4      unknown   no  \n",
       "...        ...  ...  \n",
       "45206  unknown  yes  \n",
       "45207  unknown  yes  \n",
       "45208  success  yes  \n",
       "45209  unknown   no  \n",
       "45210    other   no  \n",
       "\n",
       "[45211 rows x 18 columns]"
      ]
     },
     "execution_count": 221,
     "metadata": {},
     "output_type": "execute_result"
    }
   ],
   "source": [
    "# Afficher les 10 premiers clients.  Les trois points veulent dire que les valeurs interdites ne sont pas affichées.\n",
    "df.head(10)\n",
    "df"
   ]
  },
  {
   "cell_type": "code",
   "execution_count": 222,
   "id": "4c59f4f9-ebfc-43d0-a95b-11f4849beabc",
   "metadata": {},
   "outputs": [
    {
     "data": {
      "text/html": [
       "<div>\n",
       "<style scoped>\n",
       "    .dataframe tbody tr th:only-of-type {\n",
       "        vertical-align: middle;\n",
       "    }\n",
       "\n",
       "    .dataframe tbody tr th {\n",
       "        vertical-align: top;\n",
       "    }\n",
       "\n",
       "    .dataframe thead th {\n",
       "        text-align: right;\n",
       "    }\n",
       "</style>\n",
       "<table border=\"1\" class=\"dataframe\">\n",
       "  <thead>\n",
       "    <tr style=\"text-align: right;\">\n",
       "      <th></th>\n",
       "      <th>id</th>\n",
       "      <th>age</th>\n",
       "      <th>job</th>\n",
       "      <th>marital</th>\n",
       "      <th>education</th>\n",
       "      <th>default</th>\n",
       "      <th>balance</th>\n",
       "      <th>housing</th>\n",
       "      <th>loan</th>\n",
       "      <th>contact</th>\n",
       "      <th>day</th>\n",
       "      <th>month</th>\n",
       "      <th>duration</th>\n",
       "      <th>campaign</th>\n",
       "      <th>pdays</th>\n",
       "      <th>previous</th>\n",
       "      <th>poutcome</th>\n",
       "      <th>y</th>\n",
       "    </tr>\n",
       "  </thead>\n",
       "  <tbody>\n",
       "    <tr>\n",
       "      <th>45206</th>\n",
       "      <td>id45207</td>\n",
       "      <td>51</td>\n",
       "      <td>technician</td>\n",
       "      <td>married</td>\n",
       "      <td>tertiary</td>\n",
       "      <td>no</td>\n",
       "      <td>825.0</td>\n",
       "      <td>no</td>\n",
       "      <td>no</td>\n",
       "      <td>cellular</td>\n",
       "      <td>17</td>\n",
       "      <td>nov</td>\n",
       "      <td>977</td>\n",
       "      <td>3</td>\n",
       "      <td>-1</td>\n",
       "      <td>0</td>\n",
       "      <td>unknown</td>\n",
       "      <td>yes</td>\n",
       "    </tr>\n",
       "    <tr>\n",
       "      <th>45207</th>\n",
       "      <td>id45208</td>\n",
       "      <td>71</td>\n",
       "      <td>retired</td>\n",
       "      <td>divorced</td>\n",
       "      <td>primary</td>\n",
       "      <td>no</td>\n",
       "      <td>1729.0</td>\n",
       "      <td>no</td>\n",
       "      <td>no</td>\n",
       "      <td>cellular</td>\n",
       "      <td>17</td>\n",
       "      <td>nov</td>\n",
       "      <td>456</td>\n",
       "      <td>2</td>\n",
       "      <td>-1</td>\n",
       "      <td>0</td>\n",
       "      <td>unknown</td>\n",
       "      <td>yes</td>\n",
       "    </tr>\n",
       "    <tr>\n",
       "      <th>45208</th>\n",
       "      <td>id45209</td>\n",
       "      <td>72</td>\n",
       "      <td>retired</td>\n",
       "      <td>married</td>\n",
       "      <td>secondary</td>\n",
       "      <td>no</td>\n",
       "      <td>5715.0</td>\n",
       "      <td>no</td>\n",
       "      <td>no</td>\n",
       "      <td>cellular</td>\n",
       "      <td>17</td>\n",
       "      <td>nov</td>\n",
       "      <td>1127</td>\n",
       "      <td>5</td>\n",
       "      <td>184</td>\n",
       "      <td>3</td>\n",
       "      <td>success</td>\n",
       "      <td>yes</td>\n",
       "    </tr>\n",
       "    <tr>\n",
       "      <th>45209</th>\n",
       "      <td>id45210</td>\n",
       "      <td>57</td>\n",
       "      <td>blue-collar</td>\n",
       "      <td>married</td>\n",
       "      <td>secondary</td>\n",
       "      <td>no</td>\n",
       "      <td>668.0</td>\n",
       "      <td>no</td>\n",
       "      <td>no</td>\n",
       "      <td>telephone</td>\n",
       "      <td>17</td>\n",
       "      <td>nov</td>\n",
       "      <td>508</td>\n",
       "      <td>4</td>\n",
       "      <td>-1</td>\n",
       "      <td>0</td>\n",
       "      <td>unknown</td>\n",
       "      <td>no</td>\n",
       "    </tr>\n",
       "    <tr>\n",
       "      <th>45210</th>\n",
       "      <td>id45211</td>\n",
       "      <td>37</td>\n",
       "      <td>entrepreneur</td>\n",
       "      <td>married</td>\n",
       "      <td>secondary</td>\n",
       "      <td>no</td>\n",
       "      <td>2971.0</td>\n",
       "      <td>no</td>\n",
       "      <td>no</td>\n",
       "      <td>cellular</td>\n",
       "      <td>17</td>\n",
       "      <td>nov</td>\n",
       "      <td>361</td>\n",
       "      <td>2</td>\n",
       "      <td>188</td>\n",
       "      <td>11</td>\n",
       "      <td>other</td>\n",
       "      <td>no</td>\n",
       "    </tr>\n",
       "  </tbody>\n",
       "</table>\n",
       "</div>"
      ],
      "text/plain": [
       "            id  age           job   marital  education default  balance  \\\n",
       "45206  id45207   51    technician   married   tertiary      no    825.0   \n",
       "45207  id45208   71       retired  divorced    primary      no   1729.0   \n",
       "45208  id45209   72       retired   married  secondary      no   5715.0   \n",
       "45209  id45210   57   blue-collar   married  secondary      no    668.0   \n",
       "45210  id45211   37  entrepreneur   married  secondary      no   2971.0   \n",
       "\n",
       "      housing loan    contact  day month  duration  campaign  pdays  previous  \\\n",
       "45206      no   no   cellular   17   nov       977         3     -1         0   \n",
       "45207      no   no   cellular   17   nov       456         2     -1         0   \n",
       "45208      no   no   cellular   17   nov      1127         5    184         3   \n",
       "45209      no   no  telephone   17   nov       508         4     -1         0   \n",
       "45210      no   no   cellular   17   nov       361         2    188        11   \n",
       "\n",
       "      poutcome    y  \n",
       "45206  unknown  yes  \n",
       "45207  unknown  yes  \n",
       "45208  success  yes  \n",
       "45209  unknown   no  \n",
       "45210    other   no  "
      ]
     },
     "execution_count": 222,
     "metadata": {},
     "output_type": "execute_result"
    }
   ],
   "source": [
    "# Pour afficher les 5 dernières lignes\n",
    "df.tail()"
   ]
  },
  {
   "cell_type": "code",
   "execution_count": 223,
   "id": "ed392912-ef33-4eef-9137-83b0fafc6da0",
   "metadata": {},
   "outputs": [
    {
     "data": {
      "text/html": [
       "<div>\n",
       "<style scoped>\n",
       "    .dataframe tbody tr th:only-of-type {\n",
       "        vertical-align: middle;\n",
       "    }\n",
       "\n",
       "    .dataframe tbody tr th {\n",
       "        vertical-align: top;\n",
       "    }\n",
       "\n",
       "    .dataframe thead th {\n",
       "        text-align: right;\n",
       "    }\n",
       "</style>\n",
       "<table border=\"1\" class=\"dataframe\">\n",
       "  <thead>\n",
       "    <tr style=\"text-align: right;\">\n",
       "      <th></th>\n",
       "      <th>id</th>\n",
       "      <th>age</th>\n",
       "      <th>job</th>\n",
       "      <th>marital</th>\n",
       "      <th>education</th>\n",
       "      <th>default</th>\n",
       "      <th>balance</th>\n",
       "      <th>housing</th>\n",
       "      <th>loan</th>\n",
       "      <th>contact</th>\n",
       "      <th>day</th>\n",
       "      <th>month</th>\n",
       "      <th>duration</th>\n",
       "      <th>campaign</th>\n",
       "      <th>pdays</th>\n",
       "      <th>previous</th>\n",
       "      <th>poutcome</th>\n",
       "      <th>y</th>\n",
       "    </tr>\n",
       "  </thead>\n",
       "  <tbody>\n",
       "    <tr>\n",
       "      <th>45201</th>\n",
       "      <td>id45202</td>\n",
       "      <td>53</td>\n",
       "      <td>management</td>\n",
       "      <td>married</td>\n",
       "      <td>tertiary</td>\n",
       "      <td>no</td>\n",
       "      <td>583.0</td>\n",
       "      <td>no</td>\n",
       "      <td>no</td>\n",
       "      <td>cellular</td>\n",
       "      <td>17</td>\n",
       "      <td>nov</td>\n",
       "      <td>226</td>\n",
       "      <td>1</td>\n",
       "      <td>184</td>\n",
       "      <td>4</td>\n",
       "      <td>success</td>\n",
       "      <td>yes</td>\n",
       "    </tr>\n",
       "    <tr>\n",
       "      <th>45202</th>\n",
       "      <td>id45203</td>\n",
       "      <td>34</td>\n",
       "      <td>admin.</td>\n",
       "      <td>single</td>\n",
       "      <td>secondary</td>\n",
       "      <td>no</td>\n",
       "      <td>557.0</td>\n",
       "      <td>no</td>\n",
       "      <td>no</td>\n",
       "      <td>cellular</td>\n",
       "      <td>17</td>\n",
       "      <td>nov</td>\n",
       "      <td>224</td>\n",
       "      <td>1</td>\n",
       "      <td>-1</td>\n",
       "      <td>0</td>\n",
       "      <td>unknown</td>\n",
       "      <td>yes</td>\n",
       "    </tr>\n",
       "    <tr>\n",
       "      <th>45203</th>\n",
       "      <td>id45204</td>\n",
       "      <td>23</td>\n",
       "      <td>student</td>\n",
       "      <td>single</td>\n",
       "      <td>tertiary</td>\n",
       "      <td>no</td>\n",
       "      <td>113.0</td>\n",
       "      <td>no</td>\n",
       "      <td>no</td>\n",
       "      <td>cellular</td>\n",
       "      <td>17</td>\n",
       "      <td>nov</td>\n",
       "      <td>266</td>\n",
       "      <td>1</td>\n",
       "      <td>-1</td>\n",
       "      <td>0</td>\n",
       "      <td>unknown</td>\n",
       "      <td>yes</td>\n",
       "    </tr>\n",
       "    <tr>\n",
       "      <th>45204</th>\n",
       "      <td>id45205</td>\n",
       "      <td>73</td>\n",
       "      <td>retired</td>\n",
       "      <td>married</td>\n",
       "      <td>secondary</td>\n",
       "      <td>no</td>\n",
       "      <td>2850.0</td>\n",
       "      <td>no</td>\n",
       "      <td>no</td>\n",
       "      <td>cellular</td>\n",
       "      <td>17</td>\n",
       "      <td>nov</td>\n",
       "      <td>300</td>\n",
       "      <td>1</td>\n",
       "      <td>40</td>\n",
       "      <td>8</td>\n",
       "      <td>failure</td>\n",
       "      <td>yes</td>\n",
       "    </tr>\n",
       "    <tr>\n",
       "      <th>45205</th>\n",
       "      <td>id45206</td>\n",
       "      <td>25</td>\n",
       "      <td>technician</td>\n",
       "      <td>single</td>\n",
       "      <td>secondary</td>\n",
       "      <td>no</td>\n",
       "      <td>505.0</td>\n",
       "      <td>no</td>\n",
       "      <td>yes</td>\n",
       "      <td>cellular</td>\n",
       "      <td>17</td>\n",
       "      <td>nov</td>\n",
       "      <td>386</td>\n",
       "      <td>2</td>\n",
       "      <td>-1</td>\n",
       "      <td>0</td>\n",
       "      <td>unknown</td>\n",
       "      <td>yes</td>\n",
       "    </tr>\n",
       "    <tr>\n",
       "      <th>45206</th>\n",
       "      <td>id45207</td>\n",
       "      <td>51</td>\n",
       "      <td>technician</td>\n",
       "      <td>married</td>\n",
       "      <td>tertiary</td>\n",
       "      <td>no</td>\n",
       "      <td>825.0</td>\n",
       "      <td>no</td>\n",
       "      <td>no</td>\n",
       "      <td>cellular</td>\n",
       "      <td>17</td>\n",
       "      <td>nov</td>\n",
       "      <td>977</td>\n",
       "      <td>3</td>\n",
       "      <td>-1</td>\n",
       "      <td>0</td>\n",
       "      <td>unknown</td>\n",
       "      <td>yes</td>\n",
       "    </tr>\n",
       "    <tr>\n",
       "      <th>45207</th>\n",
       "      <td>id45208</td>\n",
       "      <td>71</td>\n",
       "      <td>retired</td>\n",
       "      <td>divorced</td>\n",
       "      <td>primary</td>\n",
       "      <td>no</td>\n",
       "      <td>1729.0</td>\n",
       "      <td>no</td>\n",
       "      <td>no</td>\n",
       "      <td>cellular</td>\n",
       "      <td>17</td>\n",
       "      <td>nov</td>\n",
       "      <td>456</td>\n",
       "      <td>2</td>\n",
       "      <td>-1</td>\n",
       "      <td>0</td>\n",
       "      <td>unknown</td>\n",
       "      <td>yes</td>\n",
       "    </tr>\n",
       "    <tr>\n",
       "      <th>45208</th>\n",
       "      <td>id45209</td>\n",
       "      <td>72</td>\n",
       "      <td>retired</td>\n",
       "      <td>married</td>\n",
       "      <td>secondary</td>\n",
       "      <td>no</td>\n",
       "      <td>5715.0</td>\n",
       "      <td>no</td>\n",
       "      <td>no</td>\n",
       "      <td>cellular</td>\n",
       "      <td>17</td>\n",
       "      <td>nov</td>\n",
       "      <td>1127</td>\n",
       "      <td>5</td>\n",
       "      <td>184</td>\n",
       "      <td>3</td>\n",
       "      <td>success</td>\n",
       "      <td>yes</td>\n",
       "    </tr>\n",
       "    <tr>\n",
       "      <th>45209</th>\n",
       "      <td>id45210</td>\n",
       "      <td>57</td>\n",
       "      <td>blue-collar</td>\n",
       "      <td>married</td>\n",
       "      <td>secondary</td>\n",
       "      <td>no</td>\n",
       "      <td>668.0</td>\n",
       "      <td>no</td>\n",
       "      <td>no</td>\n",
       "      <td>telephone</td>\n",
       "      <td>17</td>\n",
       "      <td>nov</td>\n",
       "      <td>508</td>\n",
       "      <td>4</td>\n",
       "      <td>-1</td>\n",
       "      <td>0</td>\n",
       "      <td>unknown</td>\n",
       "      <td>no</td>\n",
       "    </tr>\n",
       "    <tr>\n",
       "      <th>45210</th>\n",
       "      <td>id45211</td>\n",
       "      <td>37</td>\n",
       "      <td>entrepreneur</td>\n",
       "      <td>married</td>\n",
       "      <td>secondary</td>\n",
       "      <td>no</td>\n",
       "      <td>2971.0</td>\n",
       "      <td>no</td>\n",
       "      <td>no</td>\n",
       "      <td>cellular</td>\n",
       "      <td>17</td>\n",
       "      <td>nov</td>\n",
       "      <td>361</td>\n",
       "      <td>2</td>\n",
       "      <td>188</td>\n",
       "      <td>11</td>\n",
       "      <td>other</td>\n",
       "      <td>no</td>\n",
       "    </tr>\n",
       "  </tbody>\n",
       "</table>\n",
       "</div>"
      ],
      "text/plain": [
       "            id  age           job   marital  education default  balance  \\\n",
       "45201  id45202   53    management   married   tertiary      no    583.0   \n",
       "45202  id45203   34        admin.    single  secondary      no    557.0   \n",
       "45203  id45204   23       student    single   tertiary      no    113.0   \n",
       "45204  id45205   73       retired   married  secondary      no   2850.0   \n",
       "45205  id45206   25    technician    single  secondary      no    505.0   \n",
       "45206  id45207   51    technician   married   tertiary      no    825.0   \n",
       "45207  id45208   71       retired  divorced    primary      no   1729.0   \n",
       "45208  id45209   72       retired   married  secondary      no   5715.0   \n",
       "45209  id45210   57   blue-collar   married  secondary      no    668.0   \n",
       "45210  id45211   37  entrepreneur   married  secondary      no   2971.0   \n",
       "\n",
       "      housing loan    contact  day month  duration  campaign  pdays  previous  \\\n",
       "45201      no   no   cellular   17   nov       226         1    184         4   \n",
       "45202      no   no   cellular   17   nov       224         1     -1         0   \n",
       "45203      no   no   cellular   17   nov       266         1     -1         0   \n",
       "45204      no   no   cellular   17   nov       300         1     40         8   \n",
       "45205      no  yes   cellular   17   nov       386         2     -1         0   \n",
       "45206      no   no   cellular   17   nov       977         3     -1         0   \n",
       "45207      no   no   cellular   17   nov       456         2     -1         0   \n",
       "45208      no   no   cellular   17   nov      1127         5    184         3   \n",
       "45209      no   no  telephone   17   nov       508         4     -1         0   \n",
       "45210      no   no   cellular   17   nov       361         2    188        11   \n",
       "\n",
       "      poutcome    y  \n",
       "45201  success  yes  \n",
       "45202  unknown  yes  \n",
       "45203  unknown  yes  \n",
       "45204  failure  yes  \n",
       "45205  unknown  yes  \n",
       "45206  unknown  yes  \n",
       "45207  unknown  yes  \n",
       "45208  success  yes  \n",
       "45209  unknown   no  \n",
       "45210    other   no  "
      ]
     },
     "execution_count": 223,
     "metadata": {},
     "output_type": "execute_result"
    }
   ],
   "source": [
    "# Afficher les 10 dernières lignes de la base de données\n",
    "df.tail(10)"
   ]
  },
  {
   "cell_type": "markdown",
   "id": "808e6b42-acb6-41d5-99d6-ae88e289cfab",
   "metadata": {},
   "source": [
    "# Quelles sont les variables de l'analyse ? "
   ]
  },
  {
   "cell_type": "code",
   "execution_count": 225,
   "id": "02b5c041-241f-4f64-97c4-34321ac21a08",
   "metadata": {},
   "outputs": [
    {
     "data": {
      "text/plain": [
       "Index(['id', 'age', 'job', 'marital', 'education', 'default', 'balance',\n",
       "       'housing', 'loan', 'contact', 'day', 'month', 'duration', 'campaign',\n",
       "       'pdays', 'previous', 'poutcome', 'y'],\n",
       "      dtype='object')"
      ]
     },
     "execution_count": 225,
     "metadata": {},
     "output_type": "execute_result"
    }
   ],
   "source": [
    "# Liste des colonnes \n",
    "df.columns"
   ]
  },
  {
   "cell_type": "code",
   "execution_count": 227,
   "id": "cc9d71f5-68ee-46ad-8a61-8793bb3ea609",
   "metadata": {},
   "outputs": [
    {
     "data": {
      "text/plain": [
       "id            object\n",
       "age            int64\n",
       "job           object\n",
       "marital       object\n",
       "education     object\n",
       "default       object\n",
       "balance      float64\n",
       "housing       object\n",
       "loan          object\n",
       "contact       object\n",
       "day            int64\n",
       "month         object\n",
       "duration       int64\n",
       "campaign       int64\n",
       "pdays          int64\n",
       "previous       int64\n",
       "poutcome      object\n",
       "y             object\n",
       "dtype: object"
      ]
     },
     "execution_count": 227,
     "metadata": {},
     "output_type": "execute_result"
    }
   ],
   "source": [
    "# Nature des données de la base\n",
    "df.dtypes"
   ]
  },
  {
   "cell_type": "markdown",
   "id": "9d297767-3e45-42d3-a2be-d420e4c87a85",
   "metadata": {},
   "source": [
    "# Combien de clients et combien de variables \n"
   ]
  },
  {
   "cell_type": "code",
   "execution_count": 230,
   "id": "a06e58b7-7eae-4d6e-82a7-6a3b83a601d2",
   "metadata": {},
   "outputs": [
    {
     "data": {
      "text/plain": [
       "(45211, 18)"
      ]
     },
     "execution_count": 230,
     "metadata": {},
     "output_type": "execute_result"
    }
   ],
   "source": [
    "# Dimension du tableau (shape). Il donne le nombre de lignes et de colonnes.\n",
    "df.shape"
   ]
  },
  {
   "cell_type": "markdown",
   "id": "4c61a5d5-59b5-492a-a402-b162d8a7829e",
   "metadata": {},
   "source": [
    "# Description rapide de la base"
   ]
  },
  {
   "cell_type": "code",
   "execution_count": 231,
   "id": "4b552822-dd59-475c-8d60-32d12af6ad2b",
   "metadata": {},
   "outputs": [
    {
     "data": {
      "text/html": [
       "<div>\n",
       "<style scoped>\n",
       "    .dataframe tbody tr th:only-of-type {\n",
       "        vertical-align: middle;\n",
       "    }\n",
       "\n",
       "    .dataframe tbody tr th {\n",
       "        vertical-align: top;\n",
       "    }\n",
       "\n",
       "    .dataframe thead th {\n",
       "        text-align: right;\n",
       "    }\n",
       "</style>\n",
       "<table border=\"1\" class=\"dataframe\">\n",
       "  <thead>\n",
       "    <tr style=\"text-align: right;\">\n",
       "      <th></th>\n",
       "      <th>age</th>\n",
       "      <th>balance</th>\n",
       "      <th>day</th>\n",
       "      <th>duration</th>\n",
       "      <th>campaign</th>\n",
       "      <th>pdays</th>\n",
       "      <th>previous</th>\n",
       "    </tr>\n",
       "  </thead>\n",
       "  <tbody>\n",
       "    <tr>\n",
       "      <th>count</th>\n",
       "      <td>45211.000000</td>\n",
       "      <td>45206.000000</td>\n",
       "      <td>45211.000000</td>\n",
       "      <td>45211.000000</td>\n",
       "      <td>45211.000000</td>\n",
       "      <td>45211.000000</td>\n",
       "      <td>45211.000000</td>\n",
       "    </tr>\n",
       "    <tr>\n",
       "      <th>mean</th>\n",
       "      <td>40.936210</td>\n",
       "      <td>1362.403707</td>\n",
       "      <td>15.806419</td>\n",
       "      <td>258.163080</td>\n",
       "      <td>2.763841</td>\n",
       "      <td>40.197828</td>\n",
       "      <td>0.580323</td>\n",
       "    </tr>\n",
       "    <tr>\n",
       "      <th>std</th>\n",
       "      <td>10.618762</td>\n",
       "      <td>3044.906741</td>\n",
       "      <td>8.322476</td>\n",
       "      <td>257.527812</td>\n",
       "      <td>3.098021</td>\n",
       "      <td>100.128746</td>\n",
       "      <td>2.303441</td>\n",
       "    </tr>\n",
       "    <tr>\n",
       "      <th>min</th>\n",
       "      <td>18.000000</td>\n",
       "      <td>-8019.000000</td>\n",
       "      <td>1.000000</td>\n",
       "      <td>0.000000</td>\n",
       "      <td>1.000000</td>\n",
       "      <td>-1.000000</td>\n",
       "      <td>0.000000</td>\n",
       "    </tr>\n",
       "    <tr>\n",
       "      <th>25%</th>\n",
       "      <td>33.000000</td>\n",
       "      <td>72.000000</td>\n",
       "      <td>8.000000</td>\n",
       "      <td>103.000000</td>\n",
       "      <td>1.000000</td>\n",
       "      <td>-1.000000</td>\n",
       "      <td>0.000000</td>\n",
       "    </tr>\n",
       "    <tr>\n",
       "      <th>50%</th>\n",
       "      <td>39.000000</td>\n",
       "      <td>448.000000</td>\n",
       "      <td>16.000000</td>\n",
       "      <td>180.000000</td>\n",
       "      <td>2.000000</td>\n",
       "      <td>-1.000000</td>\n",
       "      <td>0.000000</td>\n",
       "    </tr>\n",
       "    <tr>\n",
       "      <th>75%</th>\n",
       "      <td>48.000000</td>\n",
       "      <td>1428.000000</td>\n",
       "      <td>21.000000</td>\n",
       "      <td>319.000000</td>\n",
       "      <td>3.000000</td>\n",
       "      <td>-1.000000</td>\n",
       "      <td>0.000000</td>\n",
       "    </tr>\n",
       "    <tr>\n",
       "      <th>max</th>\n",
       "      <td>95.000000</td>\n",
       "      <td>102127.000000</td>\n",
       "      <td>31.000000</td>\n",
       "      <td>4918.000000</td>\n",
       "      <td>63.000000</td>\n",
       "      <td>871.000000</td>\n",
       "      <td>275.000000</td>\n",
       "    </tr>\n",
       "  </tbody>\n",
       "</table>\n",
       "</div>"
      ],
      "text/plain": [
       "                age        balance           day      duration      campaign  \\\n",
       "count  45211.000000   45206.000000  45211.000000  45211.000000  45211.000000   \n",
       "mean      40.936210    1362.403707     15.806419    258.163080      2.763841   \n",
       "std       10.618762    3044.906741      8.322476    257.527812      3.098021   \n",
       "min       18.000000   -8019.000000      1.000000      0.000000      1.000000   \n",
       "25%       33.000000      72.000000      8.000000    103.000000      1.000000   \n",
       "50%       39.000000     448.000000     16.000000    180.000000      2.000000   \n",
       "75%       48.000000    1428.000000     21.000000    319.000000      3.000000   \n",
       "max       95.000000  102127.000000     31.000000   4918.000000     63.000000   \n",
       "\n",
       "              pdays      previous  \n",
       "count  45211.000000  45211.000000  \n",
       "mean      40.197828      0.580323  \n",
       "std      100.128746      2.303441  \n",
       "min       -1.000000      0.000000  \n",
       "25%       -1.000000      0.000000  \n",
       "50%       -1.000000      0.000000  \n",
       "75%       -1.000000      0.000000  \n",
       "max      871.000000    275.000000  "
      ]
     },
     "execution_count": 231,
     "metadata": {},
     "output_type": "execute_result"
    }
   ],
   "source": [
    "# Utilisation de describe \n",
    "df.describe()"
   ]
  },
  {
   "cell_type": "code",
   "execution_count": 234,
   "id": "e25e4557-1a70-4cfc-a053-6ba5df69d7fd",
   "metadata": {},
   "outputs": [
    {
     "data": {
      "text/html": [
       "<div>\n",
       "<style scoped>\n",
       "    .dataframe tbody tr th:only-of-type {\n",
       "        vertical-align: middle;\n",
       "    }\n",
       "\n",
       "    .dataframe tbody tr th {\n",
       "        vertical-align: top;\n",
       "    }\n",
       "\n",
       "    .dataframe thead th {\n",
       "        text-align: right;\n",
       "    }\n",
       "</style>\n",
       "<table border=\"1\" class=\"dataframe\">\n",
       "  <thead>\n",
       "    <tr style=\"text-align: right;\">\n",
       "      <th></th>\n",
       "      <th>id</th>\n",
       "      <th>age</th>\n",
       "      <th>job</th>\n",
       "      <th>marital</th>\n",
       "      <th>education</th>\n",
       "      <th>default</th>\n",
       "      <th>balance</th>\n",
       "      <th>housing</th>\n",
       "      <th>loan</th>\n",
       "      <th>contact</th>\n",
       "      <th>day</th>\n",
       "      <th>month</th>\n",
       "      <th>duration</th>\n",
       "      <th>campaign</th>\n",
       "      <th>pdays</th>\n",
       "      <th>previous</th>\n",
       "      <th>poutcome</th>\n",
       "      <th>y</th>\n",
       "    </tr>\n",
       "  </thead>\n",
       "  <tbody>\n",
       "    <tr>\n",
       "      <th>count</th>\n",
       "      <td>45211</td>\n",
       "      <td>45211.000000</td>\n",
       "      <td>45211</td>\n",
       "      <td>45211</td>\n",
       "      <td>45211</td>\n",
       "      <td>45211</td>\n",
       "      <td>45206.000000</td>\n",
       "      <td>45211</td>\n",
       "      <td>45211</td>\n",
       "      <td>45211</td>\n",
       "      <td>45211.000000</td>\n",
       "      <td>45211</td>\n",
       "      <td>45211.000000</td>\n",
       "      <td>45211.000000</td>\n",
       "      <td>45211.000000</td>\n",
       "      <td>45211.000000</td>\n",
       "      <td>45211</td>\n",
       "      <td>45211</td>\n",
       "    </tr>\n",
       "    <tr>\n",
       "      <th>unique</th>\n",
       "      <td>45211</td>\n",
       "      <td>NaN</td>\n",
       "      <td>12</td>\n",
       "      <td>3</td>\n",
       "      <td>4</td>\n",
       "      <td>2</td>\n",
       "      <td>NaN</td>\n",
       "      <td>2</td>\n",
       "      <td>2</td>\n",
       "      <td>3</td>\n",
       "      <td>NaN</td>\n",
       "      <td>12</td>\n",
       "      <td>NaN</td>\n",
       "      <td>NaN</td>\n",
       "      <td>NaN</td>\n",
       "      <td>NaN</td>\n",
       "      <td>4</td>\n",
       "      <td>2</td>\n",
       "    </tr>\n",
       "    <tr>\n",
       "      <th>top</th>\n",
       "      <td>id1</td>\n",
       "      <td>NaN</td>\n",
       "      <td>blue-collar</td>\n",
       "      <td>married</td>\n",
       "      <td>secondary</td>\n",
       "      <td>no</td>\n",
       "      <td>NaN</td>\n",
       "      <td>yes</td>\n",
       "      <td>no</td>\n",
       "      <td>cellular</td>\n",
       "      <td>NaN</td>\n",
       "      <td>may</td>\n",
       "      <td>NaN</td>\n",
       "      <td>NaN</td>\n",
       "      <td>NaN</td>\n",
       "      <td>NaN</td>\n",
       "      <td>unknown</td>\n",
       "      <td>no</td>\n",
       "    </tr>\n",
       "    <tr>\n",
       "      <th>freq</th>\n",
       "      <td>1</td>\n",
       "      <td>NaN</td>\n",
       "      <td>9732</td>\n",
       "      <td>27214</td>\n",
       "      <td>23202</td>\n",
       "      <td>44396</td>\n",
       "      <td>NaN</td>\n",
       "      <td>25130</td>\n",
       "      <td>37967</td>\n",
       "      <td>29285</td>\n",
       "      <td>NaN</td>\n",
       "      <td>13766</td>\n",
       "      <td>NaN</td>\n",
       "      <td>NaN</td>\n",
       "      <td>NaN</td>\n",
       "      <td>NaN</td>\n",
       "      <td>36959</td>\n",
       "      <td>39922</td>\n",
       "    </tr>\n",
       "    <tr>\n",
       "      <th>mean</th>\n",
       "      <td>NaN</td>\n",
       "      <td>40.936210</td>\n",
       "      <td>NaN</td>\n",
       "      <td>NaN</td>\n",
       "      <td>NaN</td>\n",
       "      <td>NaN</td>\n",
       "      <td>1362.403707</td>\n",
       "      <td>NaN</td>\n",
       "      <td>NaN</td>\n",
       "      <td>NaN</td>\n",
       "      <td>15.806419</td>\n",
       "      <td>NaN</td>\n",
       "      <td>258.163080</td>\n",
       "      <td>2.763841</td>\n",
       "      <td>40.197828</td>\n",
       "      <td>0.580323</td>\n",
       "      <td>NaN</td>\n",
       "      <td>NaN</td>\n",
       "    </tr>\n",
       "    <tr>\n",
       "      <th>std</th>\n",
       "      <td>NaN</td>\n",
       "      <td>10.618762</td>\n",
       "      <td>NaN</td>\n",
       "      <td>NaN</td>\n",
       "      <td>NaN</td>\n",
       "      <td>NaN</td>\n",
       "      <td>3044.906741</td>\n",
       "      <td>NaN</td>\n",
       "      <td>NaN</td>\n",
       "      <td>NaN</td>\n",
       "      <td>8.322476</td>\n",
       "      <td>NaN</td>\n",
       "      <td>257.527812</td>\n",
       "      <td>3.098021</td>\n",
       "      <td>100.128746</td>\n",
       "      <td>2.303441</td>\n",
       "      <td>NaN</td>\n",
       "      <td>NaN</td>\n",
       "    </tr>\n",
       "    <tr>\n",
       "      <th>min</th>\n",
       "      <td>NaN</td>\n",
       "      <td>18.000000</td>\n",
       "      <td>NaN</td>\n",
       "      <td>NaN</td>\n",
       "      <td>NaN</td>\n",
       "      <td>NaN</td>\n",
       "      <td>-8019.000000</td>\n",
       "      <td>NaN</td>\n",
       "      <td>NaN</td>\n",
       "      <td>NaN</td>\n",
       "      <td>1.000000</td>\n",
       "      <td>NaN</td>\n",
       "      <td>0.000000</td>\n",
       "      <td>1.000000</td>\n",
       "      <td>-1.000000</td>\n",
       "      <td>0.000000</td>\n",
       "      <td>NaN</td>\n",
       "      <td>NaN</td>\n",
       "    </tr>\n",
       "    <tr>\n",
       "      <th>25%</th>\n",
       "      <td>NaN</td>\n",
       "      <td>33.000000</td>\n",
       "      <td>NaN</td>\n",
       "      <td>NaN</td>\n",
       "      <td>NaN</td>\n",
       "      <td>NaN</td>\n",
       "      <td>72.000000</td>\n",
       "      <td>NaN</td>\n",
       "      <td>NaN</td>\n",
       "      <td>NaN</td>\n",
       "      <td>8.000000</td>\n",
       "      <td>NaN</td>\n",
       "      <td>103.000000</td>\n",
       "      <td>1.000000</td>\n",
       "      <td>-1.000000</td>\n",
       "      <td>0.000000</td>\n",
       "      <td>NaN</td>\n",
       "      <td>NaN</td>\n",
       "    </tr>\n",
       "    <tr>\n",
       "      <th>50%</th>\n",
       "      <td>NaN</td>\n",
       "      <td>39.000000</td>\n",
       "      <td>NaN</td>\n",
       "      <td>NaN</td>\n",
       "      <td>NaN</td>\n",
       "      <td>NaN</td>\n",
       "      <td>448.000000</td>\n",
       "      <td>NaN</td>\n",
       "      <td>NaN</td>\n",
       "      <td>NaN</td>\n",
       "      <td>16.000000</td>\n",
       "      <td>NaN</td>\n",
       "      <td>180.000000</td>\n",
       "      <td>2.000000</td>\n",
       "      <td>-1.000000</td>\n",
       "      <td>0.000000</td>\n",
       "      <td>NaN</td>\n",
       "      <td>NaN</td>\n",
       "    </tr>\n",
       "    <tr>\n",
       "      <th>75%</th>\n",
       "      <td>NaN</td>\n",
       "      <td>48.000000</td>\n",
       "      <td>NaN</td>\n",
       "      <td>NaN</td>\n",
       "      <td>NaN</td>\n",
       "      <td>NaN</td>\n",
       "      <td>1428.000000</td>\n",
       "      <td>NaN</td>\n",
       "      <td>NaN</td>\n",
       "      <td>NaN</td>\n",
       "      <td>21.000000</td>\n",
       "      <td>NaN</td>\n",
       "      <td>319.000000</td>\n",
       "      <td>3.000000</td>\n",
       "      <td>-1.000000</td>\n",
       "      <td>0.000000</td>\n",
       "      <td>NaN</td>\n",
       "      <td>NaN</td>\n",
       "    </tr>\n",
       "    <tr>\n",
       "      <th>max</th>\n",
       "      <td>NaN</td>\n",
       "      <td>95.000000</td>\n",
       "      <td>NaN</td>\n",
       "      <td>NaN</td>\n",
       "      <td>NaN</td>\n",
       "      <td>NaN</td>\n",
       "      <td>102127.000000</td>\n",
       "      <td>NaN</td>\n",
       "      <td>NaN</td>\n",
       "      <td>NaN</td>\n",
       "      <td>31.000000</td>\n",
       "      <td>NaN</td>\n",
       "      <td>4918.000000</td>\n",
       "      <td>63.000000</td>\n",
       "      <td>871.000000</td>\n",
       "      <td>275.000000</td>\n",
       "      <td>NaN</td>\n",
       "      <td>NaN</td>\n",
       "    </tr>\n",
       "  </tbody>\n",
       "</table>\n",
       "</div>"
      ],
      "text/plain": [
       "           id           age          job  marital  education default  \\\n",
       "count   45211  45211.000000        45211    45211      45211   45211   \n",
       "unique  45211           NaN           12        3          4       2   \n",
       "top       id1           NaN  blue-collar  married  secondary      no   \n",
       "freq        1           NaN         9732    27214      23202   44396   \n",
       "mean      NaN     40.936210          NaN      NaN        NaN     NaN   \n",
       "std       NaN     10.618762          NaN      NaN        NaN     NaN   \n",
       "min       NaN     18.000000          NaN      NaN        NaN     NaN   \n",
       "25%       NaN     33.000000          NaN      NaN        NaN     NaN   \n",
       "50%       NaN     39.000000          NaN      NaN        NaN     NaN   \n",
       "75%       NaN     48.000000          NaN      NaN        NaN     NaN   \n",
       "max       NaN     95.000000          NaN      NaN        NaN     NaN   \n",
       "\n",
       "              balance housing   loan   contact           day  month  \\\n",
       "count    45206.000000   45211  45211     45211  45211.000000  45211   \n",
       "unique            NaN       2      2         3           NaN     12   \n",
       "top               NaN     yes     no  cellular           NaN    may   \n",
       "freq              NaN   25130  37967     29285           NaN  13766   \n",
       "mean      1362.403707     NaN    NaN       NaN     15.806419    NaN   \n",
       "std       3044.906741     NaN    NaN       NaN      8.322476    NaN   \n",
       "min      -8019.000000     NaN    NaN       NaN      1.000000    NaN   \n",
       "25%         72.000000     NaN    NaN       NaN      8.000000    NaN   \n",
       "50%        448.000000     NaN    NaN       NaN     16.000000    NaN   \n",
       "75%       1428.000000     NaN    NaN       NaN     21.000000    NaN   \n",
       "max     102127.000000     NaN    NaN       NaN     31.000000    NaN   \n",
       "\n",
       "            duration      campaign         pdays      previous poutcome      y  \n",
       "count   45211.000000  45211.000000  45211.000000  45211.000000    45211  45211  \n",
       "unique           NaN           NaN           NaN           NaN        4      2  \n",
       "top              NaN           NaN           NaN           NaN  unknown     no  \n",
       "freq             NaN           NaN           NaN           NaN    36959  39922  \n",
       "mean      258.163080      2.763841     40.197828      0.580323      NaN    NaN  \n",
       "std       257.527812      3.098021    100.128746      2.303441      NaN    NaN  \n",
       "min         0.000000      1.000000     -1.000000      0.000000      NaN    NaN  \n",
       "25%       103.000000      1.000000     -1.000000      0.000000      NaN    NaN  \n",
       "50%       180.000000      2.000000     -1.000000      0.000000      NaN    NaN  \n",
       "75%       319.000000      3.000000     -1.000000      0.000000      NaN    NaN  \n",
       "max      4918.000000     63.000000    871.000000    275.000000      NaN    NaN  "
      ]
     },
     "execution_count": 234,
     "metadata": {},
     "output_type": "execute_result"
    }
   ],
   "source": [
    "# Pour afficher à la fois les données quantitatives et qualitatives (include = \"all\")\n",
    "# NaN veut dire que la statistique n'est pas pertinente sur une variable qualitative\n",
    "df.describe(include = \"all\")"
   ]
  },
  {
   "cell_type": "code",
   "execution_count": 235,
   "id": "57a03428-82ef-4219-9eca-0b7271d55849",
   "metadata": {},
   "outputs": [
    {
     "data": {
      "text/plain": [
       "0         tertiary\n",
       "1        secondary\n",
       "2        secondary\n",
       "3          unknown\n",
       "4          unknown\n",
       "           ...    \n",
       "45206     tertiary\n",
       "45207      primary\n",
       "45208    secondary\n",
       "45209    secondary\n",
       "45210    secondary\n",
       "Name: education, Length: 45211, dtype: object"
      ]
     },
     "execution_count": 235,
     "metadata": {},
     "output_type": "execute_result"
    }
   ],
   "source": [
    "# Sélectionner une colonne. Là, on sélectionne la colonne éducation\n",
    "df[\"education\"]"
   ]
  },
  {
   "cell_type": "code",
   "execution_count": 236,
   "id": "cb5812c2-4212-40fd-b33f-65d14e87497b",
   "metadata": {},
   "outputs": [
    {
     "data": {
      "text/plain": [
       "array(['tertiary', 'secondary', 'unknown', 'primary'], dtype=object)"
      ]
     },
     "execution_count": 236,
     "metadata": {},
     "output_type": "execute_result"
    }
   ],
   "source": [
    "# Pour avoir les valeurs uniques, on utilise la fonction unique. Cela nous donne les modalités de la variable\n",
    "df[\"education\"].unique()"
   ]
  },
  {
   "cell_type": "code",
   "execution_count": 239,
   "id": "57540f8d-584e-4c78-a940-15ff3dbc370d",
   "metadata": {},
   "outputs": [
    {
     "data": {
      "text/plain": [
       "education\n",
       "secondary    23202\n",
       "tertiary     13301\n",
       "primary       6851\n",
       "unknown       1857\n",
       "Name: count, dtype: int64"
      ]
     },
     "execution_count": 239,
     "metadata": {},
     "output_type": "execute_result"
    }
   ],
   "source": [
    "# Pour avoir les valeurs uniques, on utilise la fonction unique. Cela nous donne les valeurs\n",
    "# Pour chaque niveau d'éducation \n",
    "df[\"education\"].value_counts()"
   ]
  },
  {
   "cell_type": "code",
   "execution_count": 244,
   "id": "04ddefa7-5e1b-4677-bffa-e753d375a693",
   "metadata": {},
   "outputs": [
    {
     "data": {
      "text/plain": [
       "education\n",
       "secondary    23202\n",
       "tertiary     13301\n",
       "primary       6851\n",
       "unknown       1857\n",
       "Name: count, dtype: int64"
      ]
     },
     "execution_count": 244,
     "metadata": {},
     "output_type": "execute_result"
    }
   ],
   "source": [
    "# Nbre de valeurs par modalité. Doublon du précédent code.\n",
    "df[\"education\"].value_counts()"
   ]
  },
  {
   "cell_type": "code",
   "execution_count": 243,
   "id": "223ff9e2-d5d6-4387-b95e-f84b761e5ee6",
   "metadata": {},
   "outputs": [
    {
     "data": {
      "text/plain": [
       "<Axes: xlabel='education'>"
      ]
     },
     "execution_count": 243,
     "metadata": {},
     "output_type": "execute_result"
    },
    {
     "data": {
      "image/png": "[encoded data removed]",
      "text/plain": [
       "<Figure size 640x480 with 1 Axes>"
      ]
     },
     "metadata": {},
     "output_type": "display_data"
    }
   ],
   "source": [
    "# Création du graphique. Pandas intègre le package matplotlib.\n",
    "# Quand on a des données qualitatives, on utilise un diagramme en barres.\n",
    "df[\"education\"].value_counts().plot(kind = \"bar\")\n"
   ]
  },
  {
   "cell_type": "code",
   "execution_count": 245,
   "id": "9cf4b5f4-e1fe-47bb-8800-331131cb814a",
   "metadata": {},
   "outputs": [
    {
     "data": {
      "text/plain": [
       "id            object\n",
       "age            int64\n",
       "job           object\n",
       "marital       object\n",
       "education     object\n",
       "default       object\n",
       "balance      float64\n",
       "housing       object\n",
       "loan          object\n",
       "contact       object\n",
       "day            int64\n",
       "month         object\n",
       "duration       int64\n",
       "campaign       int64\n",
       "pdays          int64\n",
       "previous       int64\n",
       "poutcome      object\n",
       "y             object\n",
       "dtype: object"
      ]
     },
     "execution_count": 245,
     "metadata": {},
     "output_type": "execute_result"
    }
   ],
   "source": [
    "df.dtypes"
   ]
  },
  {
   "cell_type": "code",
   "execution_count": 247,
   "id": "f1b2916c-218f-430e-aae0-6c47adfee59b",
   "metadata": {},
   "outputs": [
    {
     "data": {
      "text/plain": [
       "marital\n",
       "married     27214\n",
       "single      12790\n",
       "divorced     5207\n",
       "Name: count, dtype: int64"
      ]
     },
     "execution_count": 247,
     "metadata": {},
     "output_type": "execute_result"
    }
   ],
   "source": [
    "# On va analyser la variable marital. Cherchons le nombre de madalités\n",
    "df[\"marital\"].value_counts()"
   ]
  },
  {
   "cell_type": "code",
   "execution_count": 248,
   "id": "43ff84ce-b4d4-424d-8fe4-4e788abe91b0",
   "metadata": {},
   "outputs": [
    {
     "data": {
      "text/plain": [
       "<Axes: xlabel='marital'>"
      ]
     },
     "execution_count": 248,
     "metadata": {},
     "output_type": "execute_result"
    },
    {
     "data": {
      "image/png": "[encoded data removed]",
      "text/plain": [
       "<Figure size 640x480 with 1 Axes>"
      ]
     },
     "metadata": {},
     "output_type": "display_data"
    }
   ],
   "source": [
    "# Faisons le graphique en barres de la variable marital\n",
    "df[\"marital\"].value_counts().plot(kind = \"bar\")"
   ]
  },
  {
   "cell_type": "markdown",
   "id": "c070dfa4-01b6-4e2f-bcbc-6bbd574e6629",
   "metadata": {},
   "source": [
    "# Nettoyage des données "
   ]
  },
  {
   "cell_type": "code",
   "execution_count": 251,
   "id": "060af27d-8e05-43f2-879e-937e301b853c",
   "metadata": {},
   "outputs": [
    {
     "data": {
      "text/plain": [
       "id           0\n",
       "age          0\n",
       "job          0\n",
       "marital      0\n",
       "education    0\n",
       "default      0\n",
       "balance      5\n",
       "housing      0\n",
       "loan         0\n",
       "contact      0\n",
       "day          0\n",
       "month        0\n",
       "duration     0\n",
       "campaign     0\n",
       "pdays        0\n",
       "previous     0\n",
       "poutcome     0\n",
       "y            0\n",
       "dtype: int64"
      ]
     },
     "execution_count": 251,
     "metadata": {},
     "output_type": "execute_result"
    }
   ],
   "source": [
    "# Trouver le nombre de valeurs manquantes par variable. On utilisera la fonction isnull.sum\n",
    "df.isnull().sum()\n"
   ]
  },
  {
   "cell_type": "code",
   "execution_count": 253,
   "id": "386575d3-e989-4f7d-8f54-8a14f9570b60",
   "metadata": {},
   "outputs": [
    {
     "data": {
      "text/plain": [
       "id           0\n",
       "age          0\n",
       "job          0\n",
       "marital      0\n",
       "education    0\n",
       "default      0\n",
       "balance      5\n",
       "housing      0\n",
       "loan         0\n",
       "contact      0\n",
       "day          0\n",
       "month        0\n",
       "duration     0\n",
       "campaign     0\n",
       "pdays        0\n",
       "previous     0\n",
       "poutcome     0\n",
       "y            0\n",
       "dtype: int64"
      ]
     },
     "execution_count": 253,
     "metadata": {},
     "output_type": "execute_result"
    }
   ],
   "source": [
    "# On peut aussi utiliser la fonction isna.sum pour avoir la somme des valeurs manquantes.\n",
    "df.isna().sum()"
   ]
  },
  {
   "cell_type": "code",
   "execution_count": 255,
   "id": "09721830-00b6-4686-b82b-f9ddcc0c63f9",
   "metadata": {},
   "outputs": [
    {
     "data": {
      "text/html": [
       "<div>\n",
       "<style scoped>\n",
       "    .dataframe tbody tr th:only-of-type {\n",
       "        vertical-align: middle;\n",
       "    }\n",
       "\n",
       "    .dataframe tbody tr th {\n",
       "        vertical-align: top;\n",
       "    }\n",
       "\n",
       "    .dataframe thead th {\n",
       "        text-align: right;\n",
       "    }\n",
       "</style>\n",
       "<table border=\"1\" class=\"dataframe\">\n",
       "  <thead>\n",
       "    <tr style=\"text-align: right;\">\n",
       "      <th></th>\n",
       "      <th>age</th>\n",
       "      <th>balance</th>\n",
       "      <th>day</th>\n",
       "      <th>duration</th>\n",
       "      <th>campaign</th>\n",
       "      <th>pdays</th>\n",
       "      <th>previous</th>\n",
       "    </tr>\n",
       "  </thead>\n",
       "  <tbody>\n",
       "    <tr>\n",
       "      <th>count</th>\n",
       "      <td>45206.000000</td>\n",
       "      <td>45206.000000</td>\n",
       "      <td>45206.000000</td>\n",
       "      <td>45206.000000</td>\n",
       "      <td>45206.000000</td>\n",
       "      <td>45206.000000</td>\n",
       "      <td>45206.000000</td>\n",
       "    </tr>\n",
       "    <tr>\n",
       "      <th>mean</th>\n",
       "      <td>40.935562</td>\n",
       "      <td>1362.403707</td>\n",
       "      <td>15.807614</td>\n",
       "      <td>258.161616</td>\n",
       "      <td>2.764036</td>\n",
       "      <td>40.202385</td>\n",
       "      <td>0.580388</td>\n",
       "    </tr>\n",
       "    <tr>\n",
       "      <th>std</th>\n",
       "      <td>10.618884</td>\n",
       "      <td>3044.906741</td>\n",
       "      <td>8.322160</td>\n",
       "      <td>257.539139</td>\n",
       "      <td>3.098137</td>\n",
       "      <td>100.133346</td>\n",
       "      <td>2.303560</td>\n",
       "    </tr>\n",
       "    <tr>\n",
       "      <th>min</th>\n",
       "      <td>18.000000</td>\n",
       "      <td>-8019.000000</td>\n",
       "      <td>1.000000</td>\n",
       "      <td>0.000000</td>\n",
       "      <td>1.000000</td>\n",
       "      <td>-1.000000</td>\n",
       "      <td>0.000000</td>\n",
       "    </tr>\n",
       "    <tr>\n",
       "      <th>25%</th>\n",
       "      <td>33.000000</td>\n",
       "      <td>72.000000</td>\n",
       "      <td>8.000000</td>\n",
       "      <td>103.000000</td>\n",
       "      <td>1.000000</td>\n",
       "      <td>-1.000000</td>\n",
       "      <td>0.000000</td>\n",
       "    </tr>\n",
       "    <tr>\n",
       "      <th>50%</th>\n",
       "      <td>39.000000</td>\n",
       "      <td>448.000000</td>\n",
       "      <td>16.000000</td>\n",
       "      <td>180.000000</td>\n",
       "      <td>2.000000</td>\n",
       "      <td>-1.000000</td>\n",
       "      <td>0.000000</td>\n",
       "    </tr>\n",
       "    <tr>\n",
       "      <th>75%</th>\n",
       "      <td>48.000000</td>\n",
       "      <td>1428.000000</td>\n",
       "      <td>21.000000</td>\n",
       "      <td>319.000000</td>\n",
       "      <td>3.000000</td>\n",
       "      <td>-1.000000</td>\n",
       "      <td>0.000000</td>\n",
       "    </tr>\n",
       "    <tr>\n",
       "      <th>max</th>\n",
       "      <td>95.000000</td>\n",
       "      <td>102127.000000</td>\n",
       "      <td>31.000000</td>\n",
       "      <td>4918.000000</td>\n",
       "      <td>63.000000</td>\n",
       "      <td>871.000000</td>\n",
       "      <td>275.000000</td>\n",
       "    </tr>\n",
       "  </tbody>\n",
       "</table>\n",
       "</div>"
      ],
      "text/plain": [
       "                age        balance           day      duration      campaign  \\\n",
       "count  45206.000000   45206.000000  45206.000000  45206.000000  45206.000000   \n",
       "mean      40.935562    1362.403707     15.807614    258.161616      2.764036   \n",
       "std       10.618884    3044.906741      8.322160    257.539139      3.098137   \n",
       "min       18.000000   -8019.000000      1.000000      0.000000      1.000000   \n",
       "25%       33.000000      72.000000      8.000000    103.000000      1.000000   \n",
       "50%       39.000000     448.000000     16.000000    180.000000      2.000000   \n",
       "75%       48.000000    1428.000000     21.000000    319.000000      3.000000   \n",
       "max       95.000000  102127.000000     31.000000   4918.000000     63.000000   \n",
       "\n",
       "              pdays      previous  \n",
       "count  45206.000000  45206.000000  \n",
       "mean      40.202385      0.580388  \n",
       "std      100.133346      2.303560  \n",
       "min       -1.000000      0.000000  \n",
       "25%       -1.000000      0.000000  \n",
       "50%       -1.000000      0.000000  \n",
       "75%       -1.000000      0.000000  \n",
       "max      871.000000    275.000000  "
      ]
     },
     "execution_count": 255,
     "metadata": {},
     "output_type": "execute_result"
    }
   ],
   "source": [
    "# Traitement des valeurs manquantes : \n",
    "# Solution 1 : Les supprimer axis : {0 or \"index\", 1 or columns}\n",
    "bd_avec_lignes_supp = df.dropna(axis = 0)\n",
    "bd_avec_lignes_supp.describe()"
   ]
  },
  {
   "cell_type": "code",
   "execution_count": 256,
   "id": "33d7a879-2759-4c8c-84cf-19e8e0ae8832",
   "metadata": {},
   "outputs": [
    {
     "data": {
      "text/html": [
       "<div>\n",
       "<style scoped>\n",
       "    .dataframe tbody tr th:only-of-type {\n",
       "        vertical-align: middle;\n",
       "    }\n",
       "\n",
       "    .dataframe tbody tr th {\n",
       "        vertical-align: top;\n",
       "    }\n",
       "\n",
       "    .dataframe thead th {\n",
       "        text-align: right;\n",
       "    }\n",
       "</style>\n",
       "<table border=\"1\" class=\"dataframe\">\n",
       "  <thead>\n",
       "    <tr style=\"text-align: right;\">\n",
       "      <th></th>\n",
       "      <th>age</th>\n",
       "      <th>day</th>\n",
       "      <th>duration</th>\n",
       "      <th>campaign</th>\n",
       "      <th>pdays</th>\n",
       "      <th>previous</th>\n",
       "    </tr>\n",
       "  </thead>\n",
       "  <tbody>\n",
       "    <tr>\n",
       "      <th>count</th>\n",
       "      <td>45211.000000</td>\n",
       "      <td>45211.000000</td>\n",
       "      <td>45211.000000</td>\n",
       "      <td>45211.000000</td>\n",
       "      <td>45211.000000</td>\n",
       "      <td>45211.000000</td>\n",
       "    </tr>\n",
       "    <tr>\n",
       "      <th>mean</th>\n",
       "      <td>40.936210</td>\n",
       "      <td>15.806419</td>\n",
       "      <td>258.163080</td>\n",
       "      <td>2.763841</td>\n",
       "      <td>40.197828</td>\n",
       "      <td>0.580323</td>\n",
       "    </tr>\n",
       "    <tr>\n",
       "      <th>std</th>\n",
       "      <td>10.618762</td>\n",
       "      <td>8.322476</td>\n",
       "      <td>257.527812</td>\n",
       "      <td>3.098021</td>\n",
       "      <td>100.128746</td>\n",
       "      <td>2.303441</td>\n",
       "    </tr>\n",
       "    <tr>\n",
       "      <th>min</th>\n",
       "      <td>18.000000</td>\n",
       "      <td>1.000000</td>\n",
       "      <td>0.000000</td>\n",
       "      <td>1.000000</td>\n",
       "      <td>-1.000000</td>\n",
       "      <td>0.000000</td>\n",
       "    </tr>\n",
       "    <tr>\n",
       "      <th>25%</th>\n",
       "      <td>33.000000</td>\n",
       "      <td>8.000000</td>\n",
       "      <td>103.000000</td>\n",
       "      <td>1.000000</td>\n",
       "      <td>-1.000000</td>\n",
       "      <td>0.000000</td>\n",
       "    </tr>\n",
       "    <tr>\n",
       "      <th>50%</th>\n",
       "      <td>39.000000</td>\n",
       "      <td>16.000000</td>\n",
       "      <td>180.000000</td>\n",
       "      <td>2.000000</td>\n",
       "      <td>-1.000000</td>\n",
       "      <td>0.000000</td>\n",
       "    </tr>\n",
       "    <tr>\n",
       "      <th>75%</th>\n",
       "      <td>48.000000</td>\n",
       "      <td>21.000000</td>\n",
       "      <td>319.000000</td>\n",
       "      <td>3.000000</td>\n",
       "      <td>-1.000000</td>\n",
       "      <td>0.000000</td>\n",
       "    </tr>\n",
       "    <tr>\n",
       "      <th>max</th>\n",
       "      <td>95.000000</td>\n",
       "      <td>31.000000</td>\n",
       "      <td>4918.000000</td>\n",
       "      <td>63.000000</td>\n",
       "      <td>871.000000</td>\n",
       "      <td>275.000000</td>\n",
       "    </tr>\n",
       "  </tbody>\n",
       "</table>\n",
       "</div>"
      ],
      "text/plain": [
       "                age           day      duration      campaign         pdays  \\\n",
       "count  45211.000000  45211.000000  45211.000000  45211.000000  45211.000000   \n",
       "mean      40.936210     15.806419    258.163080      2.763841     40.197828   \n",
       "std       10.618762      8.322476    257.527812      3.098021    100.128746   \n",
       "min       18.000000      1.000000      0.000000      1.000000     -1.000000   \n",
       "25%       33.000000      8.000000    103.000000      1.000000     -1.000000   \n",
       "50%       39.000000     16.000000    180.000000      2.000000     -1.000000   \n",
       "75%       48.000000     21.000000    319.000000      3.000000     -1.000000   \n",
       "max       95.000000     31.000000   4918.000000     63.000000    871.000000   \n",
       "\n",
       "           previous  \n",
       "count  45211.000000  \n",
       "mean       0.580323  \n",
       "std        2.303441  \n",
       "min        0.000000  \n",
       "25%        0.000000  \n",
       "50%        0.000000  \n",
       "75%        0.000000  \n",
       "max      275.000000  "
      ]
     },
     "execution_count": 256,
     "metadata": {},
     "output_type": "execute_result"
    }
   ],
   "source": [
    "# Solution 2 : Supprimer les colonnes dropna(axis = 1)\n",
    "bd_colonnes_supp = df.dropna(axis = 1)\n",
    "bd_colonnes_supp.describe()"
   ]
  },
  {
   "cell_type": "code",
   "execution_count": 257,
   "id": "30d6b7ca-cb1c-4bf1-94b9-4c2d2b659e81",
   "metadata": {},
   "outputs": [
    {
     "data": {
      "text/html": [
       "<div>\n",
       "<style scoped>\n",
       "    .dataframe tbody tr th:only-of-type {\n",
       "        vertical-align: middle;\n",
       "    }\n",
       "\n",
       "    .dataframe tbody tr th {\n",
       "        vertical-align: top;\n",
       "    }\n",
       "\n",
       "    .dataframe thead th {\n",
       "        text-align: right;\n",
       "    }\n",
       "</style>\n",
       "<table border=\"1\" class=\"dataframe\">\n",
       "  <thead>\n",
       "    <tr style=\"text-align: right;\">\n",
       "      <th></th>\n",
       "      <th>age</th>\n",
       "      <th>balance</th>\n",
       "      <th>day</th>\n",
       "      <th>duration</th>\n",
       "      <th>campaign</th>\n",
       "      <th>pdays</th>\n",
       "      <th>previous</th>\n",
       "    </tr>\n",
       "  </thead>\n",
       "  <tbody>\n",
       "    <tr>\n",
       "      <th>count</th>\n",
       "      <td>45211.000000</td>\n",
       "      <td>45211.000000</td>\n",
       "      <td>45211.000000</td>\n",
       "      <td>45211.000000</td>\n",
       "      <td>45211.000000</td>\n",
       "      <td>45211.000000</td>\n",
       "      <td>45211.000000</td>\n",
       "    </tr>\n",
       "    <tr>\n",
       "      <th>mean</th>\n",
       "      <td>40.936210</td>\n",
       "      <td>1362.253036</td>\n",
       "      <td>15.806419</td>\n",
       "      <td>258.163080</td>\n",
       "      <td>2.763841</td>\n",
       "      <td>40.197828</td>\n",
       "      <td>0.580323</td>\n",
       "    </tr>\n",
       "    <tr>\n",
       "      <th>std</th>\n",
       "      <td>10.618762</td>\n",
       "      <td>3044.772068</td>\n",
       "      <td>8.322476</td>\n",
       "      <td>257.527812</td>\n",
       "      <td>3.098021</td>\n",
       "      <td>100.128746</td>\n",
       "      <td>2.303441</td>\n",
       "    </tr>\n",
       "    <tr>\n",
       "      <th>min</th>\n",
       "      <td>18.000000</td>\n",
       "      <td>-8019.000000</td>\n",
       "      <td>1.000000</td>\n",
       "      <td>0.000000</td>\n",
       "      <td>1.000000</td>\n",
       "      <td>-1.000000</td>\n",
       "      <td>0.000000</td>\n",
       "    </tr>\n",
       "    <tr>\n",
       "      <th>25%</th>\n",
       "      <td>33.000000</td>\n",
       "      <td>72.000000</td>\n",
       "      <td>8.000000</td>\n",
       "      <td>103.000000</td>\n",
       "      <td>1.000000</td>\n",
       "      <td>-1.000000</td>\n",
       "      <td>0.000000</td>\n",
       "    </tr>\n",
       "    <tr>\n",
       "      <th>50%</th>\n",
       "      <td>39.000000</td>\n",
       "      <td>448.000000</td>\n",
       "      <td>16.000000</td>\n",
       "      <td>180.000000</td>\n",
       "      <td>2.000000</td>\n",
       "      <td>-1.000000</td>\n",
       "      <td>0.000000</td>\n",
       "    </tr>\n",
       "    <tr>\n",
       "      <th>75%</th>\n",
       "      <td>48.000000</td>\n",
       "      <td>1428.000000</td>\n",
       "      <td>21.000000</td>\n",
       "      <td>319.000000</td>\n",
       "      <td>3.000000</td>\n",
       "      <td>-1.000000</td>\n",
       "      <td>0.000000</td>\n",
       "    </tr>\n",
       "    <tr>\n",
       "      <th>max</th>\n",
       "      <td>95.000000</td>\n",
       "      <td>102127.000000</td>\n",
       "      <td>31.000000</td>\n",
       "      <td>4918.000000</td>\n",
       "      <td>63.000000</td>\n",
       "      <td>871.000000</td>\n",
       "      <td>275.000000</td>\n",
       "    </tr>\n",
       "  </tbody>\n",
       "</table>\n",
       "</div>"
      ],
      "text/plain": [
       "                age        balance           day      duration      campaign  \\\n",
       "count  45211.000000   45211.000000  45211.000000  45211.000000  45211.000000   \n",
       "mean      40.936210    1362.253036     15.806419    258.163080      2.763841   \n",
       "std       10.618762    3044.772068      8.322476    257.527812      3.098021   \n",
       "min       18.000000   -8019.000000      1.000000      0.000000      1.000000   \n",
       "25%       33.000000      72.000000      8.000000    103.000000      1.000000   \n",
       "50%       39.000000     448.000000     16.000000    180.000000      2.000000   \n",
       "75%       48.000000    1428.000000     21.000000    319.000000      3.000000   \n",
       "max       95.000000  102127.000000     31.000000   4918.000000     63.000000   \n",
       "\n",
       "              pdays      previous  \n",
       "count  45211.000000  45211.000000  \n",
       "mean      40.197828      0.580323  \n",
       "std      100.128746      2.303441  \n",
       "min       -1.000000      0.000000  \n",
       "25%       -1.000000      0.000000  \n",
       "50%       -1.000000      0.000000  \n",
       "75%       -1.000000      0.000000  \n",
       "max      871.000000    275.000000  "
      ]
     },
     "execution_count": 257,
     "metadata": {},
     "output_type": "execute_result"
    }
   ],
   "source": [
    "# Solution 3 : Remplacer les valeurs manquantes par une valeur spécifique avec la fonction fillna\n",
    "bd_avec_valeur_remplacee = df.fillna(0)\n",
    "bd_avec_valeur_remplacee.describe()\n"
   ]
  },
  {
   "cell_type": "code",
   "execution_count": 270,
   "id": "28dbdbe3-73f5-4e1f-b7e2-f4de92ceab7e",
   "metadata": {},
   "outputs": [
    {
     "data": {
      "text/plain": [
       "id           0\n",
       "age          0\n",
       "job          0\n",
       "marital      0\n",
       "education    0\n",
       "default      0\n",
       "balance      0\n",
       "housing      0\n",
       "loan         0\n",
       "contact      0\n",
       "day          0\n",
       "month        0\n",
       "duration     0\n",
       "campaign     0\n",
       "pdays        0\n",
       "previous     0\n",
       "poutcome     0\n",
       "y            0\n",
       "dtype: int64"
      ]
     },
     "execution_count": 270,
     "metadata": {},
     "output_type": "execute_result"
    }
   ],
   "source": [
    "# Solution 4 : Remplacer les valeurs manquantes par la moyenne\n",
    "moyenne = df[\"balance\"].mean()\n",
    "bd_remplacee_par_moy = df.fillna(moyenne)\n",
    "bd_remplacee_par_moy.isnull().sum()\n",
    "\n",
    "\n"
   ]
  },
  {
   "cell_type": "markdown",
   "id": "9ca70dd7-fa5e-4363-8c7c-d70943475a95",
   "metadata": {},
   "source": [
    "# Suppression des colonnes inutiles\n"
   ]
  },
  {
   "cell_type": "code",
   "execution_count": 277,
   "id": "8e37513d-cdc2-470d-940b-f28974afacdb",
   "metadata": {},
   "outputs": [
    {
     "data": {
      "text/html": [
       "<div>\n",
       "<style scoped>\n",
       "    .dataframe tbody tr th:only-of-type {\n",
       "        vertical-align: middle;\n",
       "    }\n",
       "\n",
       "    .dataframe tbody tr th {\n",
       "        vertical-align: top;\n",
       "    }\n",
       "\n",
       "    .dataframe thead th {\n",
       "        text-align: right;\n",
       "    }\n",
       "</style>\n",
       "<table border=\"1\" class=\"dataframe\">\n",
       "  <thead>\n",
       "    <tr style=\"text-align: right;\">\n",
       "      <th></th>\n",
       "      <th>id</th>\n",
       "      <th>age</th>\n",
       "      <th>job</th>\n",
       "      <th>marital</th>\n",
       "      <th>education</th>\n",
       "      <th>default</th>\n",
       "      <th>balance</th>\n",
       "      <th>housing</th>\n",
       "      <th>loan</th>\n",
       "      <th>contact</th>\n",
       "      <th>month</th>\n",
       "      <th>duration</th>\n",
       "      <th>campaign</th>\n",
       "      <th>pdays</th>\n",
       "      <th>previous</th>\n",
       "      <th>poutcome</th>\n",
       "      <th>y</th>\n",
       "    </tr>\n",
       "  </thead>\n",
       "  <tbody>\n",
       "    <tr>\n",
       "      <th>0</th>\n",
       "      <td>id1</td>\n",
       "      <td>58</td>\n",
       "      <td>management</td>\n",
       "      <td>married</td>\n",
       "      <td>tertiary</td>\n",
       "      <td>no</td>\n",
       "      <td>2143.0</td>\n",
       "      <td>yes</td>\n",
       "      <td>no</td>\n",
       "      <td>unknown</td>\n",
       "      <td>may</td>\n",
       "      <td>261</td>\n",
       "      <td>1</td>\n",
       "      <td>-1</td>\n",
       "      <td>0</td>\n",
       "      <td>unknown</td>\n",
       "      <td>no</td>\n",
       "    </tr>\n",
       "    <tr>\n",
       "      <th>1</th>\n",
       "      <td>id2</td>\n",
       "      <td>44</td>\n",
       "      <td>technician</td>\n",
       "      <td>single</td>\n",
       "      <td>secondary</td>\n",
       "      <td>no</td>\n",
       "      <td>29.0</td>\n",
       "      <td>yes</td>\n",
       "      <td>no</td>\n",
       "      <td>unknown</td>\n",
       "      <td>may</td>\n",
       "      <td>151</td>\n",
       "      <td>1</td>\n",
       "      <td>-1</td>\n",
       "      <td>0</td>\n",
       "      <td>unknown</td>\n",
       "      <td>no</td>\n",
       "    </tr>\n",
       "    <tr>\n",
       "      <th>2</th>\n",
       "      <td>id3</td>\n",
       "      <td>33</td>\n",
       "      <td>entrepreneur</td>\n",
       "      <td>married</td>\n",
       "      <td>secondary</td>\n",
       "      <td>no</td>\n",
       "      <td>2.0</td>\n",
       "      <td>yes</td>\n",
       "      <td>yes</td>\n",
       "      <td>unknown</td>\n",
       "      <td>may</td>\n",
       "      <td>76</td>\n",
       "      <td>1</td>\n",
       "      <td>-1</td>\n",
       "      <td>0</td>\n",
       "      <td>unknown</td>\n",
       "      <td>no</td>\n",
       "    </tr>\n",
       "    <tr>\n",
       "      <th>3</th>\n",
       "      <td>id4</td>\n",
       "      <td>47</td>\n",
       "      <td>blue-collar</td>\n",
       "      <td>married</td>\n",
       "      <td>unknown</td>\n",
       "      <td>no</td>\n",
       "      <td>1506.0</td>\n",
       "      <td>yes</td>\n",
       "      <td>no</td>\n",
       "      <td>unknown</td>\n",
       "      <td>may</td>\n",
       "      <td>92</td>\n",
       "      <td>1</td>\n",
       "      <td>-1</td>\n",
       "      <td>0</td>\n",
       "      <td>unknown</td>\n",
       "      <td>no</td>\n",
       "    </tr>\n",
       "    <tr>\n",
       "      <th>4</th>\n",
       "      <td>id5</td>\n",
       "      <td>33</td>\n",
       "      <td>unknown</td>\n",
       "      <td>single</td>\n",
       "      <td>unknown</td>\n",
       "      <td>no</td>\n",
       "      <td>1.0</td>\n",
       "      <td>no</td>\n",
       "      <td>no</td>\n",
       "      <td>unknown</td>\n",
       "      <td>may</td>\n",
       "      <td>198</td>\n",
       "      <td>1</td>\n",
       "      <td>-1</td>\n",
       "      <td>0</td>\n",
       "      <td>unknown</td>\n",
       "      <td>no</td>\n",
       "    </tr>\n",
       "    <tr>\n",
       "      <th>...</th>\n",
       "      <td>...</td>\n",
       "      <td>...</td>\n",
       "      <td>...</td>\n",
       "      <td>...</td>\n",
       "      <td>...</td>\n",
       "      <td>...</td>\n",
       "      <td>...</td>\n",
       "      <td>...</td>\n",
       "      <td>...</td>\n",
       "      <td>...</td>\n",
       "      <td>...</td>\n",
       "      <td>...</td>\n",
       "      <td>...</td>\n",
       "      <td>...</td>\n",
       "      <td>...</td>\n",
       "      <td>...</td>\n",
       "      <td>...</td>\n",
       "    </tr>\n",
       "    <tr>\n",
       "      <th>45206</th>\n",
       "      <td>id45207</td>\n",
       "      <td>51</td>\n",
       "      <td>technician</td>\n",
       "      <td>married</td>\n",
       "      <td>tertiary</td>\n",
       "      <td>no</td>\n",
       "      <td>825.0</td>\n",
       "      <td>no</td>\n",
       "      <td>no</td>\n",
       "      <td>cellular</td>\n",
       "      <td>nov</td>\n",
       "      <td>977</td>\n",
       "      <td>3</td>\n",
       "      <td>-1</td>\n",
       "      <td>0</td>\n",
       "      <td>unknown</td>\n",
       "      <td>yes</td>\n",
       "    </tr>\n",
       "    <tr>\n",
       "      <th>45207</th>\n",
       "      <td>id45208</td>\n",
       "      <td>71</td>\n",
       "      <td>retired</td>\n",
       "      <td>divorced</td>\n",
       "      <td>primary</td>\n",
       "      <td>no</td>\n",
       "      <td>1729.0</td>\n",
       "      <td>no</td>\n",
       "      <td>no</td>\n",
       "      <td>cellular</td>\n",
       "      <td>nov</td>\n",
       "      <td>456</td>\n",
       "      <td>2</td>\n",
       "      <td>-1</td>\n",
       "      <td>0</td>\n",
       "      <td>unknown</td>\n",
       "      <td>yes</td>\n",
       "    </tr>\n",
       "    <tr>\n",
       "      <th>45208</th>\n",
       "      <td>id45209</td>\n",
       "      <td>72</td>\n",
       "      <td>retired</td>\n",
       "      <td>married</td>\n",
       "      <td>secondary</td>\n",
       "      <td>no</td>\n",
       "      <td>5715.0</td>\n",
       "      <td>no</td>\n",
       "      <td>no</td>\n",
       "      <td>cellular</td>\n",
       "      <td>nov</td>\n",
       "      <td>1127</td>\n",
       "      <td>5</td>\n",
       "      <td>184</td>\n",
       "      <td>3</td>\n",
       "      <td>success</td>\n",
       "      <td>yes</td>\n",
       "    </tr>\n",
       "    <tr>\n",
       "      <th>45209</th>\n",
       "      <td>id45210</td>\n",
       "      <td>57</td>\n",
       "      <td>blue-collar</td>\n",
       "      <td>married</td>\n",
       "      <td>secondary</td>\n",
       "      <td>no</td>\n",
       "      <td>668.0</td>\n",
       "      <td>no</td>\n",
       "      <td>no</td>\n",
       "      <td>telephone</td>\n",
       "      <td>nov</td>\n",
       "      <td>508</td>\n",
       "      <td>4</td>\n",
       "      <td>-1</td>\n",
       "      <td>0</td>\n",
       "      <td>unknown</td>\n",
       "      <td>no</td>\n",
       "    </tr>\n",
       "    <tr>\n",
       "      <th>45210</th>\n",
       "      <td>id45211</td>\n",
       "      <td>37</td>\n",
       "      <td>entrepreneur</td>\n",
       "      <td>married</td>\n",
       "      <td>secondary</td>\n",
       "      <td>no</td>\n",
       "      <td>2971.0</td>\n",
       "      <td>no</td>\n",
       "      <td>no</td>\n",
       "      <td>cellular</td>\n",
       "      <td>nov</td>\n",
       "      <td>361</td>\n",
       "      <td>2</td>\n",
       "      <td>188</td>\n",
       "      <td>11</td>\n",
       "      <td>other</td>\n",
       "      <td>no</td>\n",
       "    </tr>\n",
       "  </tbody>\n",
       "</table>\n",
       "<p>45211 rows × 17 columns</p>\n",
       "</div>"
      ],
      "text/plain": [
       "            id  age           job   marital  education default  balance  \\\n",
       "0          id1   58    management   married   tertiary      no   2143.0   \n",
       "1          id2   44    technician    single  secondary      no     29.0   \n",
       "2          id3   33  entrepreneur   married  secondary      no      2.0   \n",
       "3          id4   47   blue-collar   married    unknown      no   1506.0   \n",
       "4          id5   33       unknown    single    unknown      no      1.0   \n",
       "...        ...  ...           ...       ...        ...     ...      ...   \n",
       "45206  id45207   51    technician   married   tertiary      no    825.0   \n",
       "45207  id45208   71       retired  divorced    primary      no   1729.0   \n",
       "45208  id45209   72       retired   married  secondary      no   5715.0   \n",
       "45209  id45210   57   blue-collar   married  secondary      no    668.0   \n",
       "45210  id45211   37  entrepreneur   married  secondary      no   2971.0   \n",
       "\n",
       "      housing loan    contact month  duration  campaign  pdays  previous  \\\n",
       "0         yes   no    unknown   may       261         1     -1         0   \n",
       "1         yes   no    unknown   may       151         1     -1         0   \n",
       "2         yes  yes    unknown   may        76         1     -1         0   \n",
       "3         yes   no    unknown   may        92         1     -1         0   \n",
       "4          no   no    unknown   may       198         1     -1         0   \n",
       "...       ...  ...        ...   ...       ...       ...    ...       ...   \n",
       "45206      no   no   cellular   nov       977         3     -1         0   \n",
       "45207      no   no   cellular   nov       456         2     -1         0   \n",
       "45208      no   no   cellular   nov      1127         5    184         3   \n",
       "45209      no   no  telephone   nov       508         4     -1         0   \n",
       "45210      no   no   cellular   nov       361         2    188        11   \n",
       "\n",
       "      poutcome    y  \n",
       "0      unknown   no  \n",
       "1      unknown   no  \n",
       "2      unknown   no  \n",
       "3      unknown   no  \n",
       "4      unknown   no  \n",
       "...        ...  ...  \n",
       "45206  unknown  yes  \n",
       "45207  unknown  yes  \n",
       "45208  success  yes  \n",
       "45209  unknown   no  \n",
       "45210    other   no  \n",
       "\n",
       "[45211 rows x 17 columns]"
      ]
     },
     "execution_count": 277,
     "metadata": {},
     "output_type": "execute_result"
    }
   ],
   "source": [
    "# Supprimer la colonne day\n",
    "df.drop(\"day\", axis = 1)"
   ]
  },
  {
   "cell_type": "code",
   "execution_count": 280,
   "id": "58f16060-2464-4e11-8a40-ca3d39d37c97",
   "metadata": {},
   "outputs": [
    {
     "data": {
      "text/html": [
       "<div>\n",
       "<style scoped>\n",
       "    .dataframe tbody tr th:only-of-type {\n",
       "        vertical-align: middle;\n",
       "    }\n",
       "\n",
       "    .dataframe tbody tr th {\n",
       "        vertical-align: top;\n",
       "    }\n",
       "\n",
       "    .dataframe thead th {\n",
       "        text-align: right;\n",
       "    }\n",
       "</style>\n",
       "<table border=\"1\" class=\"dataframe\">\n",
       "  <thead>\n",
       "    <tr style=\"text-align: right;\">\n",
       "      <th></th>\n",
       "      <th>id</th>\n",
       "      <th>job</th>\n",
       "      <th>marital</th>\n",
       "      <th>education</th>\n",
       "      <th>default</th>\n",
       "      <th>balance</th>\n",
       "      <th>housing</th>\n",
       "      <th>loan</th>\n",
       "      <th>contact</th>\n",
       "      <th>day</th>\n",
       "      <th>month</th>\n",
       "      <th>duration</th>\n",
       "      <th>campaign</th>\n",
       "      <th>previous</th>\n",
       "      <th>poutcome</th>\n",
       "      <th>y</th>\n",
       "    </tr>\n",
       "  </thead>\n",
       "  <tbody>\n",
       "    <tr>\n",
       "      <th>0</th>\n",
       "      <td>id1</td>\n",
       "      <td>management</td>\n",
       "      <td>married</td>\n",
       "      <td>tertiary</td>\n",
       "      <td>no</td>\n",
       "      <td>2143.0</td>\n",
       "      <td>yes</td>\n",
       "      <td>no</td>\n",
       "      <td>unknown</td>\n",
       "      <td>5</td>\n",
       "      <td>may</td>\n",
       "      <td>261</td>\n",
       "      <td>1</td>\n",
       "      <td>0</td>\n",
       "      <td>unknown</td>\n",
       "      <td>no</td>\n",
       "    </tr>\n",
       "    <tr>\n",
       "      <th>1</th>\n",
       "      <td>id2</td>\n",
       "      <td>technician</td>\n",
       "      <td>single</td>\n",
       "      <td>secondary</td>\n",
       "      <td>no</td>\n",
       "      <td>29.0</td>\n",
       "      <td>yes</td>\n",
       "      <td>no</td>\n",
       "      <td>unknown</td>\n",
       "      <td>5</td>\n",
       "      <td>may</td>\n",
       "      <td>151</td>\n",
       "      <td>1</td>\n",
       "      <td>0</td>\n",
       "      <td>unknown</td>\n",
       "      <td>no</td>\n",
       "    </tr>\n",
       "    <tr>\n",
       "      <th>2</th>\n",
       "      <td>id3</td>\n",
       "      <td>entrepreneur</td>\n",
       "      <td>married</td>\n",
       "      <td>secondary</td>\n",
       "      <td>no</td>\n",
       "      <td>2.0</td>\n",
       "      <td>yes</td>\n",
       "      <td>yes</td>\n",
       "      <td>unknown</td>\n",
       "      <td>5</td>\n",
       "      <td>may</td>\n",
       "      <td>76</td>\n",
       "      <td>1</td>\n",
       "      <td>0</td>\n",
       "      <td>unknown</td>\n",
       "      <td>no</td>\n",
       "    </tr>\n",
       "    <tr>\n",
       "      <th>3</th>\n",
       "      <td>id4</td>\n",
       "      <td>blue-collar</td>\n",
       "      <td>married</td>\n",
       "      <td>unknown</td>\n",
       "      <td>no</td>\n",
       "      <td>1506.0</td>\n",
       "      <td>yes</td>\n",
       "      <td>no</td>\n",
       "      <td>unknown</td>\n",
       "      <td>5</td>\n",
       "      <td>may</td>\n",
       "      <td>92</td>\n",
       "      <td>1</td>\n",
       "      <td>0</td>\n",
       "      <td>unknown</td>\n",
       "      <td>no</td>\n",
       "    </tr>\n",
       "    <tr>\n",
       "      <th>4</th>\n",
       "      <td>id5</td>\n",
       "      <td>unknown</td>\n",
       "      <td>single</td>\n",
       "      <td>unknown</td>\n",
       "      <td>no</td>\n",
       "      <td>1.0</td>\n",
       "      <td>no</td>\n",
       "      <td>no</td>\n",
       "      <td>unknown</td>\n",
       "      <td>5</td>\n",
       "      <td>may</td>\n",
       "      <td>198</td>\n",
       "      <td>1</td>\n",
       "      <td>0</td>\n",
       "      <td>unknown</td>\n",
       "      <td>no</td>\n",
       "    </tr>\n",
       "    <tr>\n",
       "      <th>...</th>\n",
       "      <td>...</td>\n",
       "      <td>...</td>\n",
       "      <td>...</td>\n",
       "      <td>...</td>\n",
       "      <td>...</td>\n",
       "      <td>...</td>\n",
       "      <td>...</td>\n",
       "      <td>...</td>\n",
       "      <td>...</td>\n",
       "      <td>...</td>\n",
       "      <td>...</td>\n",
       "      <td>...</td>\n",
       "      <td>...</td>\n",
       "      <td>...</td>\n",
       "      <td>...</td>\n",
       "      <td>...</td>\n",
       "    </tr>\n",
       "    <tr>\n",
       "      <th>45206</th>\n",
       "      <td>id45207</td>\n",
       "      <td>technician</td>\n",
       "      <td>married</td>\n",
       "      <td>tertiary</td>\n",
       "      <td>no</td>\n",
       "      <td>825.0</td>\n",
       "      <td>no</td>\n",
       "      <td>no</td>\n",
       "      <td>cellular</td>\n",
       "      <td>17</td>\n",
       "      <td>nov</td>\n",
       "      <td>977</td>\n",
       "      <td>3</td>\n",
       "      <td>0</td>\n",
       "      <td>unknown</td>\n",
       "      <td>yes</td>\n",
       "    </tr>\n",
       "    <tr>\n",
       "      <th>45207</th>\n",
       "      <td>id45208</td>\n",
       "      <td>retired</td>\n",
       "      <td>divorced</td>\n",
       "      <td>primary</td>\n",
       "      <td>no</td>\n",
       "      <td>1729.0</td>\n",
       "      <td>no</td>\n",
       "      <td>no</td>\n",
       "      <td>cellular</td>\n",
       "      <td>17</td>\n",
       "      <td>nov</td>\n",
       "      <td>456</td>\n",
       "      <td>2</td>\n",
       "      <td>0</td>\n",
       "      <td>unknown</td>\n",
       "      <td>yes</td>\n",
       "    </tr>\n",
       "    <tr>\n",
       "      <th>45208</th>\n",
       "      <td>id45209</td>\n",
       "      <td>retired</td>\n",
       "      <td>married</td>\n",
       "      <td>secondary</td>\n",
       "      <td>no</td>\n",
       "      <td>5715.0</td>\n",
       "      <td>no</td>\n",
       "      <td>no</td>\n",
       "      <td>cellular</td>\n",
       "      <td>17</td>\n",
       "      <td>nov</td>\n",
       "      <td>1127</td>\n",
       "      <td>5</td>\n",
       "      <td>3</td>\n",
       "      <td>success</td>\n",
       "      <td>yes</td>\n",
       "    </tr>\n",
       "    <tr>\n",
       "      <th>45209</th>\n",
       "      <td>id45210</td>\n",
       "      <td>blue-collar</td>\n",
       "      <td>married</td>\n",
       "      <td>secondary</td>\n",
       "      <td>no</td>\n",
       "      <td>668.0</td>\n",
       "      <td>no</td>\n",
       "      <td>no</td>\n",
       "      <td>telephone</td>\n",
       "      <td>17</td>\n",
       "      <td>nov</td>\n",
       "      <td>508</td>\n",
       "      <td>4</td>\n",
       "      <td>0</td>\n",
       "      <td>unknown</td>\n",
       "      <td>no</td>\n",
       "    </tr>\n",
       "    <tr>\n",
       "      <th>45210</th>\n",
       "      <td>id45211</td>\n",
       "      <td>entrepreneur</td>\n",
       "      <td>married</td>\n",
       "      <td>secondary</td>\n",
       "      <td>no</td>\n",
       "      <td>2971.0</td>\n",
       "      <td>no</td>\n",
       "      <td>no</td>\n",
       "      <td>cellular</td>\n",
       "      <td>17</td>\n",
       "      <td>nov</td>\n",
       "      <td>361</td>\n",
       "      <td>2</td>\n",
       "      <td>11</td>\n",
       "      <td>other</td>\n",
       "      <td>no</td>\n",
       "    </tr>\n",
       "  </tbody>\n",
       "</table>\n",
       "<p>45211 rows × 16 columns</p>\n",
       "</div>"
      ],
      "text/plain": [
       "            id           job   marital  education default  balance housing  \\\n",
       "0          id1    management   married   tertiary      no   2143.0     yes   \n",
       "1          id2    technician    single  secondary      no     29.0     yes   \n",
       "2          id3  entrepreneur   married  secondary      no      2.0     yes   \n",
       "3          id4   blue-collar   married    unknown      no   1506.0     yes   \n",
       "4          id5       unknown    single    unknown      no      1.0      no   \n",
       "...        ...           ...       ...        ...     ...      ...     ...   \n",
       "45206  id45207    technician   married   tertiary      no    825.0      no   \n",
       "45207  id45208       retired  divorced    primary      no   1729.0      no   \n",
       "45208  id45209       retired   married  secondary      no   5715.0      no   \n",
       "45209  id45210   blue-collar   married  secondary      no    668.0      no   \n",
       "45210  id45211  entrepreneur   married  secondary      no   2971.0      no   \n",
       "\n",
       "      loan    contact  day month  duration  campaign  previous poutcome    y  \n",
       "0       no    unknown    5   may       261         1         0  unknown   no  \n",
       "1       no    unknown    5   may       151         1         0  unknown   no  \n",
       "2      yes    unknown    5   may        76         1         0  unknown   no  \n",
       "3       no    unknown    5   may        92         1         0  unknown   no  \n",
       "4       no    unknown    5   may       198         1         0  unknown   no  \n",
       "...    ...        ...  ...   ...       ...       ...       ...      ...  ...  \n",
       "45206   no   cellular   17   nov       977         3         0  unknown  yes  \n",
       "45207   no   cellular   17   nov       456         2         0  unknown  yes  \n",
       "45208   no   cellular   17   nov      1127         5         3  success  yes  \n",
       "45209   no  telephone   17   nov       508         4         0  unknown   no  \n",
       "45210   no   cellular   17   nov       361         2        11    other   no  \n",
       "\n",
       "[45211 rows x 16 columns]"
      ]
     },
     "execution_count": 280,
     "metadata": {},
     "output_type": "execute_result"
    }
   ],
   "source": [
    "# Supprimer la colonne padays et age\n",
    "df.drop([\"pdays\",\"age\"], axis = 1)"
   ]
  },
  {
   "cell_type": "markdown",
   "id": "b84e6405-eeb3-4d92-a28f-827a06810366",
   "metadata": {},
   "source": [
    "# Choisir une ou des colonnes spécifiques (age et loan, education, default)"
   ]
  },
  {
   "cell_type": "code",
   "execution_count": 282,
   "id": "61cfcce9-d8ff-4de9-9bd8-d4e3216b0905",
   "metadata": {},
   "outputs": [
    {
     "data": {
      "text/plain": [
       "0        58\n",
       "1        44\n",
       "2        33\n",
       "3        47\n",
       "4        33\n",
       "         ..\n",
       "45206    51\n",
       "45207    71\n",
       "45208    72\n",
       "45209    57\n",
       "45210    37\n",
       "Name: age, Length: 45211, dtype: int64"
      ]
     },
     "execution_count": 282,
     "metadata": {},
     "output_type": "execute_result"
    }
   ],
   "source": [
    "# Choisir et décrire une variable à partir du nom : 1ère approche\n",
    "age = df[\"age\"]\n",
    "age"
   ]
  },
  {
   "cell_type": "code",
   "execution_count": 284,
   "id": "e6f9fb96-0902-4c60-a08e-5596b9d3a107",
   "metadata": {},
   "outputs": [
    {
     "data": {
      "text/plain": [
       "pandas.core.series.Series"
      ]
     },
     "execution_count": 284,
     "metadata": {},
     "output_type": "execute_result"
    }
   ],
   "source": [
    "type(age)"
   ]
  },
  {
   "cell_type": "code",
   "execution_count": 285,
   "id": "324ca8f8-2212-48c7-9581-74ebaddcc3b5",
   "metadata": {},
   "outputs": [
    {
     "data": {
      "text/plain": [
       "count    45211.000000\n",
       "mean        40.936210\n",
       "std         10.618762\n",
       "min         18.000000\n",
       "25%         33.000000\n",
       "50%         39.000000\n",
       "75%         48.000000\n",
       "max         95.000000\n",
       "Name: age, dtype: float64"
      ]
     },
     "execution_count": 285,
     "metadata": {},
     "output_type": "execute_result"
    }
   ],
   "source": [
    "# Statistiques sur la colonne age\n",
    "age.describe()"
   ]
  },
  {
   "cell_type": "code",
   "execution_count": 286,
   "id": "4e1485b2-eacd-4cc6-9e28-7dbd8a8f3428",
   "metadata": {},
   "outputs": [
    {
     "data": {
      "text/plain": [
       "0        58\n",
       "1        44\n",
       "2        33\n",
       "3        47\n",
       "4        33\n",
       "         ..\n",
       "45206    51\n",
       "45207    71\n",
       "45208    72\n",
       "45209    57\n",
       "45210    37\n",
       "Name: age, Length: 45211, dtype: int64"
      ]
     },
     "execution_count": 286,
     "metadata": {},
     "output_type": "execute_result"
    }
   ],
   "source": [
    "# Cette méthode fonctionne autant que df[\"age\"] quand on n'a pas de caractères spéciaux\n",
    "df.age"
   ]
  },
  {
   "cell_type": "code",
   "execution_count": 299,
   "id": "2bda8bef-2409-46b1-ba4d-448a6b77d65d",
   "metadata": {},
   "outputs": [
    {
     "data": {
      "text/html": [
       "<div>\n",
       "<style scoped>\n",
       "    .dataframe tbody tr th:only-of-type {\n",
       "        vertical-align: middle;\n",
       "    }\n",
       "\n",
       "    .dataframe tbody tr th {\n",
       "        vertical-align: top;\n",
       "    }\n",
       "\n",
       "    .dataframe thead th {\n",
       "        text-align: right;\n",
       "    }\n",
       "</style>\n",
       "<table border=\"1\" class=\"dataframe\">\n",
       "  <thead>\n",
       "    <tr style=\"text-align: right;\">\n",
       "      <th></th>\n",
       "      <th>education</th>\n",
       "      <th>age</th>\n",
       "      <th>balance</th>\n",
       "    </tr>\n",
       "  </thead>\n",
       "  <tbody>\n",
       "    <tr>\n",
       "      <th>0</th>\n",
       "      <td>tertiary</td>\n",
       "      <td>58</td>\n",
       "      <td>2143.0</td>\n",
       "    </tr>\n",
       "    <tr>\n",
       "      <th>1</th>\n",
       "      <td>secondary</td>\n",
       "      <td>44</td>\n",
       "      <td>29.0</td>\n",
       "    </tr>\n",
       "    <tr>\n",
       "      <th>2</th>\n",
       "      <td>secondary</td>\n",
       "      <td>33</td>\n",
       "      <td>2.0</td>\n",
       "    </tr>\n",
       "    <tr>\n",
       "      <th>3</th>\n",
       "      <td>unknown</td>\n",
       "      <td>47</td>\n",
       "      <td>1506.0</td>\n",
       "    </tr>\n",
       "    <tr>\n",
       "      <th>4</th>\n",
       "      <td>unknown</td>\n",
       "      <td>33</td>\n",
       "      <td>1.0</td>\n",
       "    </tr>\n",
       "    <tr>\n",
       "      <th>...</th>\n",
       "      <td>...</td>\n",
       "      <td>...</td>\n",
       "      <td>...</td>\n",
       "    </tr>\n",
       "    <tr>\n",
       "      <th>45206</th>\n",
       "      <td>tertiary</td>\n",
       "      <td>51</td>\n",
       "      <td>825.0</td>\n",
       "    </tr>\n",
       "    <tr>\n",
       "      <th>45207</th>\n",
       "      <td>primary</td>\n",
       "      <td>71</td>\n",
       "      <td>1729.0</td>\n",
       "    </tr>\n",
       "    <tr>\n",
       "      <th>45208</th>\n",
       "      <td>secondary</td>\n",
       "      <td>72</td>\n",
       "      <td>5715.0</td>\n",
       "    </tr>\n",
       "    <tr>\n",
       "      <th>45209</th>\n",
       "      <td>secondary</td>\n",
       "      <td>57</td>\n",
       "      <td>668.0</td>\n",
       "    </tr>\n",
       "    <tr>\n",
       "      <th>45210</th>\n",
       "      <td>secondary</td>\n",
       "      <td>37</td>\n",
       "      <td>2971.0</td>\n",
       "    </tr>\n",
       "  </tbody>\n",
       "</table>\n",
       "<p>45211 rows × 3 columns</p>\n",
       "</div>"
      ],
      "text/plain": [
       "       education  age  balance\n",
       "0       tertiary   58   2143.0\n",
       "1      secondary   44     29.0\n",
       "2      secondary   33      2.0\n",
       "3        unknown   47   1506.0\n",
       "4        unknown   33      1.0\n",
       "...          ...  ...      ...\n",
       "45206   tertiary   51    825.0\n",
       "45207    primary   71   1729.0\n",
       "45208  secondary   72   5715.0\n",
       "45209  secondary   57    668.0\n",
       "45210  secondary   37   2971.0\n",
       "\n",
       "[45211 rows x 3 columns]"
      ]
     },
     "execution_count": 299,
     "metadata": {},
     "output_type": "execute_result"
    }
   ],
   "source": [
    "# Choisir et décrires plusieurs variables à partir du nom\n",
    "liste_variable = df[[\"education\", \"age\", \"balance\"]]\n",
    "liste_variable"
   ]
  },
  {
   "cell_type": "code",
   "execution_count": 301,
   "id": "d490c9af-58c1-422e-be38-cfdd836e842e",
   "metadata": {},
   "outputs": [
    {
     "name": "stdout",
     "output_type": "stream",
     "text": [
      "<class 'pandas.core.frame.DataFrame'>\n",
      "       education  age  balance\n",
      "0       tertiary   58   2143.0\n",
      "1      secondary   44     29.0\n",
      "2      secondary   33      2.0\n",
      "3        unknown   47   1506.0\n",
      "4        unknown   33      1.0\n",
      "...          ...  ...      ...\n",
      "45206   tertiary   51    825.0\n",
      "45207    primary   71   1729.0\n",
      "45208  secondary   72   5715.0\n",
      "45209  secondary   57    668.0\n",
      "45210  secondary   37   2971.0\n",
      "\n",
      "[45211 rows x 3 columns]\n"
     ]
    }
   ],
   "source": [
    "print(type(liste_variable))\n",
    "print(liste_variable)\n"
   ]
  },
  {
   "cell_type": "code",
   "execution_count": null,
   "id": "850ab847-f8f5-4263-a235-9910d115ab90",
   "metadata": {},
   "outputs": [],
   "source": [
    "# Sélection des 10 premières lignes \n",
    "base_selection = df.loc[0:10, liste_variable]\n",
    "base_selection"
   ]
  },
  {
   "cell_type": "code",
   "execution_count": 308,
   "id": "fa25e00b-7623-4b6f-b738-49f5f6b6a992",
   "metadata": {},
   "outputs": [
    {
     "data": {
      "text/plain": [
       "0        58\n",
       "1        44\n",
       "2        33\n",
       "3        47\n",
       "4        33\n",
       "         ..\n",
       "45206    51\n",
       "45207    71\n",
       "45208    72\n",
       "45209    57\n",
       "45210    37\n",
       "Name: age, Length: 45211, dtype: int64"
      ]
     },
     "execution_count": 308,
     "metadata": {},
     "output_type": "execute_result"
    }
   ],
   "source": [
    "# Sélection avec .ILOC. On utilise les indices ici\n",
    "selection_iloc = df.iloc[:,1]\n",
    "selection_iloc"
   ]
  },
  {
   "cell_type": "code",
   "execution_count": 309,
   "id": "5e700c64-d9ff-4f4f-bd16-1ac1a534915c",
   "metadata": {},
   "outputs": [
    {
     "data": {
      "text/html": [
       "<div>\n",
       "<style scoped>\n",
       "    .dataframe tbody tr th:only-of-type {\n",
       "        vertical-align: middle;\n",
       "    }\n",
       "\n",
       "    .dataframe tbody tr th {\n",
       "        vertical-align: top;\n",
       "    }\n",
       "\n",
       "    .dataframe thead th {\n",
       "        text-align: right;\n",
       "    }\n",
       "</style>\n",
       "<table border=\"1\" class=\"dataframe\">\n",
       "  <thead>\n",
       "    <tr style=\"text-align: right;\">\n",
       "      <th></th>\n",
       "      <th>age</th>\n",
       "      <th>marital</th>\n",
       "      <th>default</th>\n",
       "    </tr>\n",
       "  </thead>\n",
       "  <tbody>\n",
       "    <tr>\n",
       "      <th>0</th>\n",
       "      <td>58</td>\n",
       "      <td>married</td>\n",
       "      <td>no</td>\n",
       "    </tr>\n",
       "    <tr>\n",
       "      <th>1</th>\n",
       "      <td>44</td>\n",
       "      <td>single</td>\n",
       "      <td>no</td>\n",
       "    </tr>\n",
       "    <tr>\n",
       "      <th>2</th>\n",
       "      <td>33</td>\n",
       "      <td>married</td>\n",
       "      <td>no</td>\n",
       "    </tr>\n",
       "    <tr>\n",
       "      <th>3</th>\n",
       "      <td>47</td>\n",
       "      <td>married</td>\n",
       "      <td>no</td>\n",
       "    </tr>\n",
       "    <tr>\n",
       "      <th>4</th>\n",
       "      <td>33</td>\n",
       "      <td>single</td>\n",
       "      <td>no</td>\n",
       "    </tr>\n",
       "    <tr>\n",
       "      <th>...</th>\n",
       "      <td>...</td>\n",
       "      <td>...</td>\n",
       "      <td>...</td>\n",
       "    </tr>\n",
       "    <tr>\n",
       "      <th>45206</th>\n",
       "      <td>51</td>\n",
       "      <td>married</td>\n",
       "      <td>no</td>\n",
       "    </tr>\n",
       "    <tr>\n",
       "      <th>45207</th>\n",
       "      <td>71</td>\n",
       "      <td>divorced</td>\n",
       "      <td>no</td>\n",
       "    </tr>\n",
       "    <tr>\n",
       "      <th>45208</th>\n",
       "      <td>72</td>\n",
       "      <td>married</td>\n",
       "      <td>no</td>\n",
       "    </tr>\n",
       "    <tr>\n",
       "      <th>45209</th>\n",
       "      <td>57</td>\n",
       "      <td>married</td>\n",
       "      <td>no</td>\n",
       "    </tr>\n",
       "    <tr>\n",
       "      <th>45210</th>\n",
       "      <td>37</td>\n",
       "      <td>married</td>\n",
       "      <td>no</td>\n",
       "    </tr>\n",
       "  </tbody>\n",
       "</table>\n",
       "<p>45211 rows × 3 columns</p>\n",
       "</div>"
      ],
      "text/plain": [
       "       age   marital default\n",
       "0       58   married      no\n",
       "1       44    single      no\n",
       "2       33   married      no\n",
       "3       47   married      no\n",
       "4       33    single      no\n",
       "...    ...       ...     ...\n",
       "45206   51   married      no\n",
       "45207   71  divorced      no\n",
       "45208   72   married      no\n",
       "45209   57   married      no\n",
       "45210   37   married      no\n",
       "\n",
       "[45211 rows x 3 columns]"
      ]
     },
     "execution_count": 309,
     "metadata": {},
     "output_type": "execute_result"
    }
   ],
   "source": [
    "# Sélectionner plusieurs colonnes avec iloc\n",
    "selection_mult_iloc = df.iloc[:,[1,3,5]]\n",
    "selection_mult_iloc"
   ]
  },
  {
   "cell_type": "code",
   "execution_count": 310,
   "id": "5cfd5766-ae71-4e38-bb7f-6d9ba438c356",
   "metadata": {},
   "outputs": [
    {
     "data": {
      "text/html": [
       "<div>\n",
       "<style scoped>\n",
       "    .dataframe tbody tr th:only-of-type {\n",
       "        vertical-align: middle;\n",
       "    }\n",
       "\n",
       "    .dataframe tbody tr th {\n",
       "        vertical-align: top;\n",
       "    }\n",
       "\n",
       "    .dataframe thead th {\n",
       "        text-align: right;\n",
       "    }\n",
       "</style>\n",
       "<table border=\"1\" class=\"dataframe\">\n",
       "  <thead>\n",
       "    <tr style=\"text-align: right;\">\n",
       "      <th></th>\n",
       "      <th>age</th>\n",
       "      <th>marital</th>\n",
       "      <th>default</th>\n",
       "    </tr>\n",
       "  </thead>\n",
       "  <tbody>\n",
       "    <tr>\n",
       "      <th>0</th>\n",
       "      <td>58</td>\n",
       "      <td>married</td>\n",
       "      <td>no</td>\n",
       "    </tr>\n",
       "    <tr>\n",
       "      <th>1</th>\n",
       "      <td>44</td>\n",
       "      <td>single</td>\n",
       "      <td>no</td>\n",
       "    </tr>\n",
       "    <tr>\n",
       "      <th>2</th>\n",
       "      <td>33</td>\n",
       "      <td>married</td>\n",
       "      <td>no</td>\n",
       "    </tr>\n",
       "    <tr>\n",
       "      <th>3</th>\n",
       "      <td>47</td>\n",
       "      <td>married</td>\n",
       "      <td>no</td>\n",
       "    </tr>\n",
       "    <tr>\n",
       "      <th>4</th>\n",
       "      <td>33</td>\n",
       "      <td>single</td>\n",
       "      <td>no</td>\n",
       "    </tr>\n",
       "    <tr>\n",
       "      <th>...</th>\n",
       "      <td>...</td>\n",
       "      <td>...</td>\n",
       "      <td>...</td>\n",
       "    </tr>\n",
       "    <tr>\n",
       "      <th>96</th>\n",
       "      <td>55</td>\n",
       "      <td>married</td>\n",
       "      <td>no</td>\n",
       "    </tr>\n",
       "    <tr>\n",
       "      <th>97</th>\n",
       "      <td>60</td>\n",
       "      <td>married</td>\n",
       "      <td>no</td>\n",
       "    </tr>\n",
       "    <tr>\n",
       "      <th>98</th>\n",
       "      <td>39</td>\n",
       "      <td>married</td>\n",
       "      <td>no</td>\n",
       "    </tr>\n",
       "    <tr>\n",
       "      <th>99</th>\n",
       "      <td>46</td>\n",
       "      <td>married</td>\n",
       "      <td>no</td>\n",
       "    </tr>\n",
       "    <tr>\n",
       "      <th>100</th>\n",
       "      <td>44</td>\n",
       "      <td>married</td>\n",
       "      <td>no</td>\n",
       "    </tr>\n",
       "  </tbody>\n",
       "</table>\n",
       "<p>101 rows × 3 columns</p>\n",
       "</div>"
      ],
      "text/plain": [
       "     age  marital default\n",
       "0     58  married      no\n",
       "1     44   single      no\n",
       "2     33  married      no\n",
       "3     47  married      no\n",
       "4     33   single      no\n",
       "..   ...      ...     ...\n",
       "96    55  married      no\n",
       "97    60  married      no\n",
       "98    39  married      no\n",
       "99    46  married      no\n",
       "100   44  married      no\n",
       "\n",
       "[101 rows x 3 columns]"
      ]
     },
     "execution_count": 310,
     "metadata": {},
     "output_type": "execute_result"
    }
   ],
   "source": [
    "# Sélectionner les 100 premières lignes\n",
    "selction_cent_lignes = df.iloc[0:101,[1,3,5]]\n",
    "selction_cent_lignes"
   ]
  },
  {
   "cell_type": "code",
   "execution_count": 311,
   "id": "d2e8d215-c8f2-41af-8c6e-62748e15bb0b",
   "metadata": {},
   "outputs": [
    {
     "data": {
      "text/html": [
       "<div>\n",
       "<style scoped>\n",
       "    .dataframe tbody tr th:only-of-type {\n",
       "        vertical-align: middle;\n",
       "    }\n",
       "\n",
       "    .dataframe tbody tr th {\n",
       "        vertical-align: top;\n",
       "    }\n",
       "\n",
       "    .dataframe thead th {\n",
       "        text-align: right;\n",
       "    }\n",
       "</style>\n",
       "<table border=\"1\" class=\"dataframe\">\n",
       "  <thead>\n",
       "    <tr style=\"text-align: right;\">\n",
       "      <th></th>\n",
       "      <th>age</th>\n",
       "    </tr>\n",
       "  </thead>\n",
       "  <tbody>\n",
       "    <tr>\n",
       "      <th>count</th>\n",
       "      <td>101.000000</td>\n",
       "    </tr>\n",
       "    <tr>\n",
       "      <th>mean</th>\n",
       "      <td>46.366337</td>\n",
       "    </tr>\n",
       "    <tr>\n",
       "      <th>std</th>\n",
       "      <td>10.163388</td>\n",
       "    </tr>\n",
       "    <tr>\n",
       "      <th>min</th>\n",
       "      <td>24.000000</td>\n",
       "    </tr>\n",
       "    <tr>\n",
       "      <th>25%</th>\n",
       "      <td>39.000000</td>\n",
       "    </tr>\n",
       "    <tr>\n",
       "      <th>50%</th>\n",
       "      <td>47.000000</td>\n",
       "    </tr>\n",
       "    <tr>\n",
       "      <th>75%</th>\n",
       "      <td>55.000000</td>\n",
       "    </tr>\n",
       "    <tr>\n",
       "      <th>max</th>\n",
       "      <td>60.000000</td>\n",
       "    </tr>\n",
       "  </tbody>\n",
       "</table>\n",
       "</div>"
      ],
      "text/plain": [
       "              age\n",
       "count  101.000000\n",
       "mean    46.366337\n",
       "std     10.163388\n",
       "min     24.000000\n",
       "25%     39.000000\n",
       "50%     47.000000\n",
       "75%     55.000000\n",
       "max     60.000000"
      ]
     },
     "execution_count": 311,
     "metadata": {},
     "output_type": "execute_result"
    }
   ],
   "source": [
    "selction_cent_lignes.describe()"
   ]
  },
  {
   "cell_type": "markdown",
   "id": "758084fd-4b37-41d0-b3db-2690c7fc62bd",
   "metadata": {},
   "source": [
    "# Sélectionner un périmètre d'analyse \n"
   ]
  },
  {
   "cell_type": "code",
   "execution_count": 317,
   "id": "e7e31041-069b-43d2-bf50-22d5736e260f",
   "metadata": {},
   "outputs": [
    {
     "data": {
      "text/html": [
       "<div>\n",
       "<style scoped>\n",
       "    .dataframe tbody tr th:only-of-type {\n",
       "        vertical-align: middle;\n",
       "    }\n",
       "\n",
       "    .dataframe tbody tr th {\n",
       "        vertical-align: top;\n",
       "    }\n",
       "\n",
       "    .dataframe thead th {\n",
       "        text-align: right;\n",
       "    }\n",
       "</style>\n",
       "<table border=\"1\" class=\"dataframe\">\n",
       "  <thead>\n",
       "    <tr style=\"text-align: right;\">\n",
       "      <th></th>\n",
       "      <th>age</th>\n",
       "      <th>marital</th>\n",
       "      <th>default</th>\n",
       "    </tr>\n",
       "  </thead>\n",
       "  <tbody>\n",
       "    <tr>\n",
       "      <th>0</th>\n",
       "      <td>58</td>\n",
       "      <td>married</td>\n",
       "      <td>no</td>\n",
       "    </tr>\n",
       "    <tr>\n",
       "      <th>1</th>\n",
       "      <td>44</td>\n",
       "      <td>single</td>\n",
       "      <td>no</td>\n",
       "    </tr>\n",
       "    <tr>\n",
       "      <th>2</th>\n",
       "      <td>33</td>\n",
       "      <td>married</td>\n",
       "      <td>no</td>\n",
       "    </tr>\n",
       "    <tr>\n",
       "      <th>3</th>\n",
       "      <td>47</td>\n",
       "      <td>married</td>\n",
       "      <td>no</td>\n",
       "    </tr>\n",
       "    <tr>\n",
       "      <th>4</th>\n",
       "      <td>33</td>\n",
       "      <td>single</td>\n",
       "      <td>no</td>\n",
       "    </tr>\n",
       "    <tr>\n",
       "      <th>...</th>\n",
       "      <td>...</td>\n",
       "      <td>...</td>\n",
       "      <td>...</td>\n",
       "    </tr>\n",
       "    <tr>\n",
       "      <th>96</th>\n",
       "      <td>55</td>\n",
       "      <td>married</td>\n",
       "      <td>no</td>\n",
       "    </tr>\n",
       "    <tr>\n",
       "      <th>97</th>\n",
       "      <td>60</td>\n",
       "      <td>married</td>\n",
       "      <td>no</td>\n",
       "    </tr>\n",
       "    <tr>\n",
       "      <th>98</th>\n",
       "      <td>39</td>\n",
       "      <td>married</td>\n",
       "      <td>no</td>\n",
       "    </tr>\n",
       "    <tr>\n",
       "      <th>99</th>\n",
       "      <td>46</td>\n",
       "      <td>married</td>\n",
       "      <td>no</td>\n",
       "    </tr>\n",
       "    <tr>\n",
       "      <th>100</th>\n",
       "      <td>44</td>\n",
       "      <td>married</td>\n",
       "      <td>no</td>\n",
       "    </tr>\n",
       "  </tbody>\n",
       "</table>\n",
       "<p>101 rows × 3 columns</p>\n",
       "</div>"
      ],
      "text/plain": [
       "     age  marital default\n",
       "0     58  married      no\n",
       "1     44   single      no\n",
       "2     33  married      no\n",
       "3     47  married      no\n",
       "4     33   single      no\n",
       "..   ...      ...     ...\n",
       "96    55  married      no\n",
       "97    60  married      no\n",
       "98    39  married      no\n",
       "99    46  married      no\n",
       "100   44  married      no\n",
       "\n",
       "[101 rows x 3 columns]"
      ]
     },
     "execution_count": 317,
     "metadata": {},
     "output_type": "execute_result"
    }
   ],
   "source": [
    "# Première approche. Choix des clients majeurs\n",
    "selction_cent_lignes[\"age\"]>=18\n",
    "selction_cent_lignes"
   ]
  },
  {
   "cell_type": "code",
   "execution_count": 319,
   "id": "f1e15612-c431-4490-aea7-ee846a8bc487",
   "metadata": {},
   "outputs": [
    {
     "data": {
      "text/html": [
       "<div>\n",
       "<style scoped>\n",
       "    .dataframe tbody tr th:only-of-type {\n",
       "        vertical-align: middle;\n",
       "    }\n",
       "\n",
       "    .dataframe tbody tr th {\n",
       "        vertical-align: top;\n",
       "    }\n",
       "\n",
       "    .dataframe thead th {\n",
       "        text-align: right;\n",
       "    }\n",
       "</style>\n",
       "<table border=\"1\" class=\"dataframe\">\n",
       "  <thead>\n",
       "    <tr style=\"text-align: right;\">\n",
       "      <th></th>\n",
       "      <th>age</th>\n",
       "      <th>balance</th>\n",
       "      <th>day</th>\n",
       "      <th>duration</th>\n",
       "      <th>campaign</th>\n",
       "      <th>pdays</th>\n",
       "      <th>previous</th>\n",
       "    </tr>\n",
       "  </thead>\n",
       "  <tbody>\n",
       "    <tr>\n",
       "      <th>count</th>\n",
       "      <td>45211.000000</td>\n",
       "      <td>45206.000000</td>\n",
       "      <td>45211.000000</td>\n",
       "      <td>45211.000000</td>\n",
       "      <td>45211.000000</td>\n",
       "      <td>45211.000000</td>\n",
       "      <td>45211.000000</td>\n",
       "    </tr>\n",
       "    <tr>\n",
       "      <th>mean</th>\n",
       "      <td>40.936210</td>\n",
       "      <td>1362.403707</td>\n",
       "      <td>15.806419</td>\n",
       "      <td>258.163080</td>\n",
       "      <td>2.763841</td>\n",
       "      <td>40.197828</td>\n",
       "      <td>0.580323</td>\n",
       "    </tr>\n",
       "    <tr>\n",
       "      <th>std</th>\n",
       "      <td>10.618762</td>\n",
       "      <td>3044.906741</td>\n",
       "      <td>8.322476</td>\n",
       "      <td>257.527812</td>\n",
       "      <td>3.098021</td>\n",
       "      <td>100.128746</td>\n",
       "      <td>2.303441</td>\n",
       "    </tr>\n",
       "    <tr>\n",
       "      <th>min</th>\n",
       "      <td>18.000000</td>\n",
       "      <td>-8019.000000</td>\n",
       "      <td>1.000000</td>\n",
       "      <td>0.000000</td>\n",
       "      <td>1.000000</td>\n",
       "      <td>-1.000000</td>\n",
       "      <td>0.000000</td>\n",
       "    </tr>\n",
       "    <tr>\n",
       "      <th>25%</th>\n",
       "      <td>33.000000</td>\n",
       "      <td>72.000000</td>\n",
       "      <td>8.000000</td>\n",
       "      <td>103.000000</td>\n",
       "      <td>1.000000</td>\n",
       "      <td>-1.000000</td>\n",
       "      <td>0.000000</td>\n",
       "    </tr>\n",
       "    <tr>\n",
       "      <th>50%</th>\n",
       "      <td>39.000000</td>\n",
       "      <td>448.000000</td>\n",
       "      <td>16.000000</td>\n",
       "      <td>180.000000</td>\n",
       "      <td>2.000000</td>\n",
       "      <td>-1.000000</td>\n",
       "      <td>0.000000</td>\n",
       "    </tr>\n",
       "    <tr>\n",
       "      <th>75%</th>\n",
       "      <td>48.000000</td>\n",
       "      <td>1428.000000</td>\n",
       "      <td>21.000000</td>\n",
       "      <td>319.000000</td>\n",
       "      <td>3.000000</td>\n",
       "      <td>-1.000000</td>\n",
       "      <td>0.000000</td>\n",
       "    </tr>\n",
       "    <tr>\n",
       "      <th>max</th>\n",
       "      <td>95.000000</td>\n",
       "      <td>102127.000000</td>\n",
       "      <td>31.000000</td>\n",
       "      <td>4918.000000</td>\n",
       "      <td>63.000000</td>\n",
       "      <td>871.000000</td>\n",
       "      <td>275.000000</td>\n",
       "    </tr>\n",
       "  </tbody>\n",
       "</table>\n",
       "</div>"
      ],
      "text/plain": [
       "                age        balance           day      duration      campaign  \\\n",
       "count  45211.000000   45206.000000  45211.000000  45211.000000  45211.000000   \n",
       "mean      40.936210    1362.403707     15.806419    258.163080      2.763841   \n",
       "std       10.618762    3044.906741      8.322476    257.527812      3.098021   \n",
       "min       18.000000   -8019.000000      1.000000      0.000000      1.000000   \n",
       "25%       33.000000      72.000000      8.000000    103.000000      1.000000   \n",
       "50%       39.000000     448.000000     16.000000    180.000000      2.000000   \n",
       "75%       48.000000    1428.000000     21.000000    319.000000      3.000000   \n",
       "max       95.000000  102127.000000     31.000000   4918.000000     63.000000   \n",
       "\n",
       "              pdays      previous  \n",
       "count  45211.000000  45211.000000  \n",
       "mean      40.197828      0.580323  \n",
       "std      100.128746      2.303441  \n",
       "min       -1.000000      0.000000  \n",
       "25%       -1.000000      0.000000  \n",
       "50%       -1.000000      0.000000  \n",
       "75%       -1.000000      0.000000  \n",
       "max      871.000000    275.000000  "
      ]
     },
     "execution_count": 319,
     "metadata": {},
     "output_type": "execute_result"
    }
   ],
   "source": [
    "df[\"age\"]>=18\n",
    "clients_majeurs = df[df[\"age\"]>=18]\n",
    "clients_majeurs.describe()\n"
   ]
  },
  {
   "cell_type": "code",
   "execution_count": 320,
   "id": "ea8e6ee7-7300-4df9-806d-b1f094eebf1e",
   "metadata": {},
   "outputs": [
    {
     "data": {
      "text/html": [
       "<div>\n",
       "<style scoped>\n",
       "    .dataframe tbody tr th:only-of-type {\n",
       "        vertical-align: middle;\n",
       "    }\n",
       "\n",
       "    .dataframe tbody tr th {\n",
       "        vertical-align: top;\n",
       "    }\n",
       "\n",
       "    .dataframe thead th {\n",
       "        text-align: right;\n",
       "    }\n",
       "</style>\n",
       "<table border=\"1\" class=\"dataframe\">\n",
       "  <thead>\n",
       "    <tr style=\"text-align: right;\">\n",
       "      <th></th>\n",
       "      <th>id</th>\n",
       "      <th>age</th>\n",
       "      <th>job</th>\n",
       "      <th>marital</th>\n",
       "      <th>education</th>\n",
       "      <th>default</th>\n",
       "      <th>balance</th>\n",
       "      <th>housing</th>\n",
       "      <th>loan</th>\n",
       "      <th>contact</th>\n",
       "      <th>day</th>\n",
       "      <th>month</th>\n",
       "      <th>duration</th>\n",
       "      <th>campaign</th>\n",
       "      <th>pdays</th>\n",
       "      <th>previous</th>\n",
       "      <th>poutcome</th>\n",
       "      <th>y</th>\n",
       "    </tr>\n",
       "  </thead>\n",
       "  <tbody>\n",
       "    <tr>\n",
       "      <th>1</th>\n",
       "      <td>id2</td>\n",
       "      <td>44</td>\n",
       "      <td>technician</td>\n",
       "      <td>single</td>\n",
       "      <td>secondary</td>\n",
       "      <td>no</td>\n",
       "      <td>29.0</td>\n",
       "      <td>yes</td>\n",
       "      <td>no</td>\n",
       "      <td>unknown</td>\n",
       "      <td>5</td>\n",
       "      <td>may</td>\n",
       "      <td>151</td>\n",
       "      <td>1</td>\n",
       "      <td>-1</td>\n",
       "      <td>0</td>\n",
       "      <td>unknown</td>\n",
       "      <td>no</td>\n",
       "    </tr>\n",
       "    <tr>\n",
       "      <th>2</th>\n",
       "      <td>id3</td>\n",
       "      <td>33</td>\n",
       "      <td>entrepreneur</td>\n",
       "      <td>married</td>\n",
       "      <td>secondary</td>\n",
       "      <td>no</td>\n",
       "      <td>2.0</td>\n",
       "      <td>yes</td>\n",
       "      <td>yes</td>\n",
       "      <td>unknown</td>\n",
       "      <td>5</td>\n",
       "      <td>may</td>\n",
       "      <td>76</td>\n",
       "      <td>1</td>\n",
       "      <td>-1</td>\n",
       "      <td>0</td>\n",
       "      <td>unknown</td>\n",
       "      <td>no</td>\n",
       "    </tr>\n",
       "    <tr>\n",
       "      <th>9</th>\n",
       "      <td>id10</td>\n",
       "      <td>43</td>\n",
       "      <td>technician</td>\n",
       "      <td>single</td>\n",
       "      <td>secondary</td>\n",
       "      <td>no</td>\n",
       "      <td>NaN</td>\n",
       "      <td>yes</td>\n",
       "      <td>no</td>\n",
       "      <td>unknown</td>\n",
       "      <td>5</td>\n",
       "      <td>may</td>\n",
       "      <td>55</td>\n",
       "      <td>1</td>\n",
       "      <td>-1</td>\n",
       "      <td>0</td>\n",
       "      <td>unknown</td>\n",
       "      <td>no</td>\n",
       "    </tr>\n",
       "    <tr>\n",
       "      <th>10</th>\n",
       "      <td>id11</td>\n",
       "      <td>41</td>\n",
       "      <td>admin.</td>\n",
       "      <td>divorced</td>\n",
       "      <td>secondary</td>\n",
       "      <td>no</td>\n",
       "      <td>270.0</td>\n",
       "      <td>yes</td>\n",
       "      <td>no</td>\n",
       "      <td>unknown</td>\n",
       "      <td>5</td>\n",
       "      <td>may</td>\n",
       "      <td>222</td>\n",
       "      <td>1</td>\n",
       "      <td>-1</td>\n",
       "      <td>0</td>\n",
       "      <td>unknown</td>\n",
       "      <td>no</td>\n",
       "    </tr>\n",
       "    <tr>\n",
       "      <th>11</th>\n",
       "      <td>id12</td>\n",
       "      <td>29</td>\n",
       "      <td>admin.</td>\n",
       "      <td>single</td>\n",
       "      <td>secondary</td>\n",
       "      <td>no</td>\n",
       "      <td>390.0</td>\n",
       "      <td>yes</td>\n",
       "      <td>no</td>\n",
       "      <td>unknown</td>\n",
       "      <td>5</td>\n",
       "      <td>may</td>\n",
       "      <td>137</td>\n",
       "      <td>1</td>\n",
       "      <td>-1</td>\n",
       "      <td>0</td>\n",
       "      <td>unknown</td>\n",
       "      <td>no</td>\n",
       "    </tr>\n",
       "    <tr>\n",
       "      <th>...</th>\n",
       "      <td>...</td>\n",
       "      <td>...</td>\n",
       "      <td>...</td>\n",
       "      <td>...</td>\n",
       "      <td>...</td>\n",
       "      <td>...</td>\n",
       "      <td>...</td>\n",
       "      <td>...</td>\n",
       "      <td>...</td>\n",
       "      <td>...</td>\n",
       "      <td>...</td>\n",
       "      <td>...</td>\n",
       "      <td>...</td>\n",
       "      <td>...</td>\n",
       "      <td>...</td>\n",
       "      <td>...</td>\n",
       "      <td>...</td>\n",
       "      <td>...</td>\n",
       "    </tr>\n",
       "    <tr>\n",
       "      <th>45204</th>\n",
       "      <td>id45205</td>\n",
       "      <td>73</td>\n",
       "      <td>retired</td>\n",
       "      <td>married</td>\n",
       "      <td>secondary</td>\n",
       "      <td>no</td>\n",
       "      <td>2850.0</td>\n",
       "      <td>no</td>\n",
       "      <td>no</td>\n",
       "      <td>cellular</td>\n",
       "      <td>17</td>\n",
       "      <td>nov</td>\n",
       "      <td>300</td>\n",
       "      <td>1</td>\n",
       "      <td>40</td>\n",
       "      <td>8</td>\n",
       "      <td>failure</td>\n",
       "      <td>yes</td>\n",
       "    </tr>\n",
       "    <tr>\n",
       "      <th>45205</th>\n",
       "      <td>id45206</td>\n",
       "      <td>25</td>\n",
       "      <td>technician</td>\n",
       "      <td>single</td>\n",
       "      <td>secondary</td>\n",
       "      <td>no</td>\n",
       "      <td>505.0</td>\n",
       "      <td>no</td>\n",
       "      <td>yes</td>\n",
       "      <td>cellular</td>\n",
       "      <td>17</td>\n",
       "      <td>nov</td>\n",
       "      <td>386</td>\n",
       "      <td>2</td>\n",
       "      <td>-1</td>\n",
       "      <td>0</td>\n",
       "      <td>unknown</td>\n",
       "      <td>yes</td>\n",
       "    </tr>\n",
       "    <tr>\n",
       "      <th>45208</th>\n",
       "      <td>id45209</td>\n",
       "      <td>72</td>\n",
       "      <td>retired</td>\n",
       "      <td>married</td>\n",
       "      <td>secondary</td>\n",
       "      <td>no</td>\n",
       "      <td>5715.0</td>\n",
       "      <td>no</td>\n",
       "      <td>no</td>\n",
       "      <td>cellular</td>\n",
       "      <td>17</td>\n",
       "      <td>nov</td>\n",
       "      <td>1127</td>\n",
       "      <td>5</td>\n",
       "      <td>184</td>\n",
       "      <td>3</td>\n",
       "      <td>success</td>\n",
       "      <td>yes</td>\n",
       "    </tr>\n",
       "    <tr>\n",
       "      <th>45209</th>\n",
       "      <td>id45210</td>\n",
       "      <td>57</td>\n",
       "      <td>blue-collar</td>\n",
       "      <td>married</td>\n",
       "      <td>secondary</td>\n",
       "      <td>no</td>\n",
       "      <td>668.0</td>\n",
       "      <td>no</td>\n",
       "      <td>no</td>\n",
       "      <td>telephone</td>\n",
       "      <td>17</td>\n",
       "      <td>nov</td>\n",
       "      <td>508</td>\n",
       "      <td>4</td>\n",
       "      <td>-1</td>\n",
       "      <td>0</td>\n",
       "      <td>unknown</td>\n",
       "      <td>no</td>\n",
       "    </tr>\n",
       "    <tr>\n",
       "      <th>45210</th>\n",
       "      <td>id45211</td>\n",
       "      <td>37</td>\n",
       "      <td>entrepreneur</td>\n",
       "      <td>married</td>\n",
       "      <td>secondary</td>\n",
       "      <td>no</td>\n",
       "      <td>2971.0</td>\n",
       "      <td>no</td>\n",
       "      <td>no</td>\n",
       "      <td>cellular</td>\n",
       "      <td>17</td>\n",
       "      <td>nov</td>\n",
       "      <td>361</td>\n",
       "      <td>2</td>\n",
       "      <td>188</td>\n",
       "      <td>11</td>\n",
       "      <td>other</td>\n",
       "      <td>no</td>\n",
       "    </tr>\n",
       "  </tbody>\n",
       "</table>\n",
       "<p>23202 rows × 18 columns</p>\n",
       "</div>"
      ],
      "text/plain": [
       "            id  age           job   marital  education default  balance  \\\n",
       "1          id2   44    technician    single  secondary      no     29.0   \n",
       "2          id3   33  entrepreneur   married  secondary      no      2.0   \n",
       "9         id10   43    technician    single  secondary      no      NaN   \n",
       "10        id11   41        admin.  divorced  secondary      no    270.0   \n",
       "11        id12   29        admin.    single  secondary      no    390.0   \n",
       "...        ...  ...           ...       ...        ...     ...      ...   \n",
       "45204  id45205   73       retired   married  secondary      no   2850.0   \n",
       "45205  id45206   25    technician    single  secondary      no    505.0   \n",
       "45208  id45209   72       retired   married  secondary      no   5715.0   \n",
       "45209  id45210   57   blue-collar   married  secondary      no    668.0   \n",
       "45210  id45211   37  entrepreneur   married  secondary      no   2971.0   \n",
       "\n",
       "      housing loan    contact  day month  duration  campaign  pdays  previous  \\\n",
       "1         yes   no    unknown    5   may       151         1     -1         0   \n",
       "2         yes  yes    unknown    5   may        76         1     -1         0   \n",
       "9         yes   no    unknown    5   may        55         1     -1         0   \n",
       "10        yes   no    unknown    5   may       222         1     -1         0   \n",
       "11        yes   no    unknown    5   may       137         1     -1         0   \n",
       "...       ...  ...        ...  ...   ...       ...       ...    ...       ...   \n",
       "45204      no   no   cellular   17   nov       300         1     40         8   \n",
       "45205      no  yes   cellular   17   nov       386         2     -1         0   \n",
       "45208      no   no   cellular   17   nov      1127         5    184         3   \n",
       "45209      no   no  telephone   17   nov       508         4     -1         0   \n",
       "45210      no   no   cellular   17   nov       361         2    188        11   \n",
       "\n",
       "      poutcome    y  \n",
       "1      unknown   no  \n",
       "2      unknown   no  \n",
       "9      unknown   no  \n",
       "10     unknown   no  \n",
       "11     unknown   no  \n",
       "...        ...  ...  \n",
       "45204  failure  yes  \n",
       "45205  unknown  yes  \n",
       "45208  success  yes  \n",
       "45209  unknown   no  \n",
       "45210    other   no  \n",
       "\n",
       "[23202 rows x 18 columns]"
      ]
     },
     "execution_count": 320,
     "metadata": {},
     "output_type": "execute_result"
    }
   ],
   "source": [
    "(df[\"age\"]>=18) & (df[\"education\"] == \"secondary\")\n",
    "clients_majeurs_secondaire = df[(df[\"age\"]>=18) & (df[\"education\"] == \"secondary\")]\n",
    "clients_majeurs_secondaire"
   ]
  },
  {
   "cell_type": "markdown",
   "id": "fd2c4c76-bdf1-4104-ba89-faaa04a20ece",
   "metadata": {},
   "source": [
    "# Créer une colonne classe d'âge <18 entre 25 et 18, de 25 à 50 et plus de 50"
   ]
  },
  {
   "cell_type": "code",
   "execution_count": 323,
   "id": "a69455bd-46a9-49d0-a24a-de4fb56a932a",
   "metadata": {},
   "outputs": [
    {
     "data": {
      "text/plain": [
       "0       NaN\n",
       "1       NaN\n",
       "2       NaN\n",
       "3       NaN\n",
       "4       NaN\n",
       "         ..\n",
       "45206   NaN\n",
       "45207   NaN\n",
       "45208   NaN\n",
       "45209   NaN\n",
       "45210   NaN\n",
       "Name: tranche_dage, Length: 45211, dtype: float64"
      ]
     },
     "execution_count": 323,
     "metadata": {},
     "output_type": "execute_result"
    }
   ],
   "source": [
    "import numpy as np\n",
    "df[\"tranche_dage\"] = np.nan\n",
    "df[\"tranche_dage\"]"
   ]
  },
  {
   "cell_type": "code",
   "execution_count": 324,
   "id": "9a1b2a06-05e8-48aa-8d5d-77444c6c2c23",
   "metadata": {},
   "outputs": [
    {
     "data": {
      "text/plain": [
       "Index(['id', 'age', 'job', 'marital', 'education', 'default', 'balance',\n",
       "       'housing', 'loan', 'contact', 'day', 'month', 'duration', 'campaign',\n",
       "       'pdays', 'previous', 'poutcome', 'y', 'tranche_dage'],\n",
       "      dtype='object')"
      ]
     },
     "execution_count": 324,
     "metadata": {},
     "output_type": "execute_result"
    }
   ],
   "source": [
    "# Affichons toutes les colonnes\n",
    "df.columns"
   ]
  },
  {
   "cell_type": "code",
   "execution_count": null,
   "id": "658cb787-a698-44a2-af35-b5fb47d29390",
   "metadata": {},
   "outputs": [],
   "source": [
    "df[\"balance\"].hist()"
   ]
  },
  {
   "cell_type": "code",
   "execution_count": 335,
   "id": "94c352c5-854c-4817-bfdf-65781b955398",
   "metadata": {},
   "outputs": [
    {
     "name": "stdout",
     "output_type": "stream",
     "text": [
      "<class 'pandas.core.frame.DataFrame'>\n",
      "RangeIndex: 45211 entries, 0 to 45210\n",
      "Data columns (total 19 columns):\n",
      " #   Column        Non-Null Count  Dtype  \n",
      "---  ------        --------------  -----  \n",
      " 0   id            45211 non-null  object \n",
      " 1   age           45211 non-null  int64  \n",
      " 2   job           45211 non-null  object \n",
      " 3   marital       45211 non-null  object \n",
      " 4   education     45211 non-null  object \n",
      " 5   default       45211 non-null  object \n",
      " 6   balance       45206 non-null  float64\n",
      " 7   housing       45211 non-null  object \n",
      " 8   loan          45211 non-null  object \n",
      " 9   contact       45211 non-null  object \n",
      " 10  day           45211 non-null  int64  \n",
      " 11  month         45211 non-null  object \n",
      " 12  duration      45211 non-null  int64  \n",
      " 13  campaign      45211 non-null  int64  \n",
      " 14  pdays         45211 non-null  int64  \n",
      " 15  previous      45211 non-null  int64  \n",
      " 16  poutcome      45211 non-null  object \n",
      " 17  y             45211 non-null  object \n",
      " 18  tranche_dage  0 non-null      float64\n",
      "dtypes: float64(2), int64(6), object(11)\n",
      "memory usage: 6.6+ MB\n"
     ]
    }
   ],
   "source": [
    "df.info()"
   ]
  },
  {
   "cell_type": "code",
   "execution_count": null,
   "id": "32f422d0-5d18-4e31-be52-09915991efc7",
   "metadata": {},
   "outputs": [],
   "source": [
    "df[\"marital\"]"
   ]
  },
  {
   "cell_type": "code",
   "execution_count": 336,
   "id": "7409b2e6-f410-4b1d-975c-a35550efeacf",
   "metadata": {},
   "outputs": [
    {
     "name": "stdin",
     "output_type": "stream",
     "text": [
      "Comment tu t'appelles ?  paps\n"
     ]
    },
    {
     "data": {
      "text/plain": [
       "'paps'"
      ]
     },
     "execution_count": 336,
     "metadata": {},
     "output_type": "execute_result"
    }
   ],
   "source": []
  },
  {
   "cell_type": "code",
   "execution_count": 338,
   "id": "41657bbb-e6d6-41f7-9c13-9754444482f8",
   "metadata": {},
   "outputs": [
    {
     "name": "stdin",
     "output_type": "stream",
     "text": [
      "Comment tu t'appelles ?  Pape\n",
      "Quel est ton nom ?  DUPONT\n",
      "Quel est ton âge ? 45\n",
      "Quel est ton lieu de résidence ? PARIS\n"
     ]
    },
    {
     "name": "stdout",
     "output_type": "stream",
     "text": [
      "Tu t'appelles Pape. Ton nom de famille est DUPONT. Tu as 45 ans et tu résides à PARIS.\n"
     ]
    }
   ],
   "source": [
    "Prénom = input(\"Comment tu t'appelles ? \")\n",
    "Nom = input (\"Quel est ton nom ? \")\n",
    "Age = input(\"Quel est ton âge ?\")\n",
    "Lieu = input (\"Quel est ton lieu de résidence ?\")\n",
    "\n",
    "print (f\"Tu t'appelles {Prénom}. Ton nom de famille est {Nom}. Tu as {Age} ans et tu résides à {Lieu}.\")\n"
   ]
  }
 ],
 "metadata": {
  "kernelspec": {
   "display_name": "Python 3 (ipykernel)",
   "language": "python",
   "name": "python3"
  },
  "language_info": {
   "codemirror_mode": {
    "name": "ipython",
    "version": 3
   },
   "file_extension": ".py",
   "mimetype": "text/x-python",
   "name": "python",
   "nbconvert_exporter": "python",
   "pygments_lexer": "ipython3",
   "version": "3.11.7"
  }
 },
 "nbformat": 4,
 "nbformat_minor": 5
}
