{
 "cells": [
  {
   "cell_type": "code",
   "execution_count": 3,
   "id": "1636cfe3-8d8d-4e38-9ae7-cb960a53ca53",
   "metadata": {},
   "outputs": [],
   "source": [
    "def note(score):\n",
    "    if score < 10:\n",
    "        print(\"Mention passable\")\n",
    "    elif score >= 10 and score <= 12:\n",
    "        print(\"Mention assez bien\")\n",
    "    else:\n",
    "        print(\"Mention très bien\")\n",
    "\n"
   ]
  },
  {
   "cell_type": "code",
   "execution_count": 5,
   "id": "40d771f6-8ee9-4950-aa1e-5300128a316c",
   "metadata": {},
   "outputs": [
    {
     "name": "stdout",
     "output_type": "stream",
     "text": [
      "['Fatou', 'Aliou', 'Sonko', 'A', 'w', 'a']\n"
     ]
    }
   ],
   "source": [
    "ma_liste = [\"Fatou\", \"Aliou\", \"Sonko\"]\n",
    "ma_liste.extend('Awa')\n",
    "print(ma_liste)"
   ]
  },
  {
   "cell_type": "code",
   "execution_count": 8,
   "id": "b20dbf62-adca-439f-8357-0a561a1725ea",
   "metadata": {},
   "outputs": [],
   "source": [
    "#  Retourner la mention au lieu d'utiliser print :\n",
    "# Cela rend la fonction plus flexible pour d'autres usages, comme afficher la mention ou l'utiliser dans un autre programme.\n",
    "\n",
    "def note(score):\n",
    "    if score < 10:\n",
    "        return \"Mention passable\"\n",
    "    elif 10 <= score <= 12:\n",
    "        return \"Mention assez bien\"\n",
    "    else:\n",
    "        return \"Mention très bien\"\n"
   ]
  },
  {
   "cell_type": "code",
   "execution_count": 10,
   "id": "30e70b7d-2ef6-4659-a596-c78407497f31",
   "metadata": {},
   "outputs": [
    {
     "name": "stdout",
     "output_type": "stream",
     "text": [
      "Mention très bien\n"
     ]
    }
   ],
   "source": [
    "print(note(18))"
   ]
  },
  {
   "cell_type": "code",
   "execution_count": 11,
   "id": "df14d544-6190-490e-9763-0d79c10371d0",
   "metadata": {},
   "outputs": [
    {
     "name": "stdout",
     "output_type": "stream",
     "text": [
      "Mention passable\n"
     ]
    }
   ],
   "source": [
    "print (note(8))"
   ]
  },
  {
   "cell_type": "code",
   "execution_count": 12,
   "id": "1f6161ad-167b-401b-8b01-fc53b2839758",
   "metadata": {},
   "outputs": [
    {
     "name": "stdout",
     "output_type": "stream",
     "text": [
      "Mention très bien\n"
     ]
    }
   ],
   "source": [
    "print(note(15))"
   ]
  },
  {
   "cell_type": "code",
   "execution_count": 34,
   "id": "2d3286b4-536f-4128-98bf-134963dec691",
   "metadata": {},
   "outputs": [
    {
     "name": "stdout",
     "output_type": "stream",
     "text": [
      "Mention passable\n",
      "None\n"
     ]
    }
   ],
   "source": [
    "print(note(10))"
   ]
  },
  {
   "cell_type": "code",
   "execution_count": 15,
   "id": "22deaaf2-7dcf-419f-8328-ad0d9b2ac696",
   "metadata": {},
   "outputs": [],
   "source": [
    "def note (score):\n",
    "    if score == 10: \n",
    "        return (\"Dois redoubler d'efforts\")\n",
    "    elif score >10 and score <=13:\n",
    "        return (\"Mention passable\")\n",
    "    elif score >13 and score < 16:\n",
    "        return (\"Mention Bien\")\n",
    "    else:\n",
    "        print(\"Excellent\")"
   ]
  },
  {
   "cell_type": "code",
   "execution_count": 16,
   "id": "21b08c68-08b2-4262-8a6e-67c9cb5b4da8",
   "metadata": {},
   "outputs": [
    {
     "name": "stdout",
     "output_type": "stream",
     "text": [
      "Dois redoubler d'efforts\n"
     ]
    }
   ],
   "source": [
    "print(note(10))"
   ]
  },
  {
   "cell_type": "code",
   "execution_count": 39,
   "id": "224c4c45-1b21-47df-af5e-3575559e9bb2",
   "metadata": {},
   "outputs": [
    {
     "name": "stdout",
     "output_type": "stream",
     "text": [
      "Excellent\n",
      "None\n"
     ]
    }
   ],
   "source": [
    "print(note(18))"
   ]
  },
  {
   "cell_type": "code",
   "execution_count": 46,
   "id": "f671e768-373c-44c5-b5a3-ae8827e4dc9d",
   "metadata": {},
   "outputs": [],
   "source": [
    "def note(a):\n",
    "    if a <10:\n",
    "        return (\"Résultats insatisfaisants\")\n",
    "    elif a >10 and a <=13:\n",
    "        return (\"Mention assez bien\")\n",
    "    elif a >13 and a <=15:\n",
    "        print(\"Mention Bien\")\n",
    "    else : \n",
    "        return(\"Excellent\")"
   ]
  },
  {
   "cell_type": "code",
   "execution_count": 47,
   "id": "ca6072ac-ed05-45db-b8ec-c21c721c2586",
   "metadata": {},
   "outputs": [
    {
     "name": "stdout",
     "output_type": "stream",
     "text": [
      "Résultats insatisfaisants\n"
     ]
    }
   ],
   "source": [
    "print(note(5))"
   ]
  },
  {
   "cell_type": "code",
   "execution_count": 17,
   "id": "71c0a539-7d16-44c5-b7f8-218974c4889a",
   "metadata": {},
   "outputs": [],
   "source": [
    "def age_moyenne(age, moyenne):\n",
    "    if age < 20 and moyenne >16:\n",
    "        return age_moyenne\n",
    "        print(\"L'étudiant remplit les conditions\")\n",
    "    else:\n",
    "        print(\"L'étudiant ne remplit pas les conditions\")\n",
    "    "
   ]
  },
  {
   "cell_type": "code",
   "execution_count": 27,
   "id": "8ba54fc7-801a-47e0-ad55-84b033ae1a49",
   "metadata": {},
   "outputs": [
    {
     "name": "stdout",
     "output_type": "stream",
     "text": [
      "L'étudiant remplit les conditions\n"
     ]
    }
   ],
   "source": [
    "def ame_moyenne (age, moyenne) : \n",
    "    if age < 20  and moyenne > 16 :\n",
    "        return True\n",
    "    else : \n",
    "        return False\n",
    "if age_moyenne(18, 17):\n",
    "    print(\"L'étudiant remplit les conditions\")\n",
    "else:\n",
    "    print(\"L'étudiant ne remplit pas les conditions\")\n"
   ]
  },
  {
   "cell_type": "code",
   "execution_count": 28,
   "id": "913aa308-35e1-4b13-bce8-6e8e0543c5ff",
   "metadata": {},
   "outputs": [],
   "source": [
    "def age_moyenne(age, moyenne):\n",
    "    if age < 20 and moyenne > 16:\n",
    "        print(\"L'étudiant remplit les conditions\")\n",
    "        return True\n",
    "    else:\n",
    "        print(\"L'étudiant ne remplit pas les conditions\")\n",
    "        return False\n"
   ]
  },
  {
   "cell_type": "code",
   "execution_count": 30,
   "id": "a6ca9d04-f8f3-4035-bd77-527646100801",
   "metadata": {},
   "outputs": [
    {
     "name": "stdout",
     "output_type": "stream",
     "text": [
      "L'étudiant remplit les conditions\n",
      "True\n"
     ]
    }
   ],
   "source": [
    "print (age_moyenne(15,18))"
   ]
  },
  {
   "cell_type": "code",
   "execution_count": 32,
   "id": "037d731d-2b39-4038-8c62-8743319a2128",
   "metadata": {},
   "outputs": [],
   "source": [
    "def age_moyenne(age, moyenne): \n",
    "    if age < 20  and moyenne > 16 :\n",
    "        print (\"L'étudiant remplit les conditions\")\n",
    "        return True\n",
    "    else : \n",
    "        print(\"L'étudiant ne remplit pas les conditions\")\n",
    "        return False\n"
   ]
  },
  {
   "cell_type": "code",
   "execution_count": 33,
   "id": "6cfca2fc-c744-402f-9b6b-2c555336e597",
   "metadata": {},
   "outputs": [
    {
     "name": "stdout",
     "output_type": "stream",
     "text": [
      "L'étudiant remplit les conditions\n",
      "True\n"
     ]
    }
   ],
   "source": [
    "print(age_moyenne(18, 17))"
   ]
  },
  {
   "cell_type": "code",
   "execution_count": 50,
   "id": "ae64b6b9-ab25-4532-8342-7621852b7604",
   "metadata": {},
   "outputs": [
    {
     "name": "stdout",
     "output_type": "stream",
     "text": [
      "Travail laborieux\n"
     ]
    }
   ],
   "source": [
    "note = ()\n",
    "if note == \"A\":\n",
    "      print (\"Excellent\")\n",
    "elif note == \"B\":\n",
    "    print(\"Bien\")\n",
    "elif note == \"C\":\n",
    "    print(\"Passable\")\n",
    "else: \n",
    "    print(\"Travail laborieux\")\n",
    "    "
   ]
  },
  {
   "cell_type": "code",
   "execution_count": 49,
   "id": "2fa1a206-0328-4b43-87d5-3bdfa283d734",
   "metadata": {},
   "outputs": [],
   "source": [
    "note = \"A\""
   ]
  },
  {
   "cell_type": "code",
   "execution_count": 75,
   "id": "4a113975-f9de-4050-ab4e-338d683b4da0",
   "metadata": {},
   "outputs": [
    {
     "name": "stdout",
     "output_type": "stream",
     "text": [
      "L'étuditiant a droit à la bourse\n"
     ]
    }
   ],
   "source": [
    "age = 18\n",
    "moyenne = 17\n",
    "if age <20 and moyenne >=16:\n",
    "    print (\"L'étuditiant a droit à la bourse\")\n",
    "else : \n",
    "    print (\"Létudiant n'a pas droit\")"
   ]
  },
  {
   "cell_type": "code",
   "execution_count": 78,
   "id": "8dac78be-4daa-45a7-873e-2710b71318d4",
   "metadata": {},
   "outputs": [],
   "source": [
    "def age_moy (age, moy): \n",
    "    if age <20 and moyenne >=16: \n",
    "        print (\"Il a droit\")\n",
    "        return True\n",
    "    else: \n",
    "        print (\"Pas droit\")\n",
    "        return False\n",
    "        "
   ]
  },
  {
   "cell_type": "code",
   "execution_count": 79,
   "id": "8e347984-4bc2-45b0-a77e-c20e0b3bc115",
   "metadata": {},
   "outputs": [
    {
     "name": "stdout",
     "output_type": "stream",
     "text": [
      "Il a droit\n",
      "True\n"
     ]
    }
   ],
   "source": [
    "print(age_moy(18,17))"
   ]
  },
  {
   "cell_type": "code",
   "execution_count": 81,
   "id": "9c057f6c-d88e-470f-86d0-6d2f1efe1d16",
   "metadata": {},
   "outputs": [],
   "source": [
    "Addition = lambda x, y: x+y"
   ]
  },
  {
   "cell_type": "code",
   "execution_count": 82,
   "id": "9b656222-7ec2-480b-b739-986b15cf7e35",
   "metadata": {},
   "outputs": [
    {
     "name": "stdout",
     "output_type": "stream",
     "text": [
      "31\n"
     ]
    }
   ],
   "source": [
    "print(Addition(15,16))\n"
   ]
  },
  {
   "cell_type": "code",
   "execution_count": 51,
   "id": "14c8b1a6-518d-4d31-aaeb-fde78af4beda",
   "metadata": {},
   "outputs": [],
   "source": [
    "multiplication = lambda x, y : x* y"
   ]
  },
  {
   "cell_type": "code",
   "execution_count": 52,
   "id": "8495e639-8031-4ca0-add3-0b0d41eeb2e9",
   "metadata": {},
   "outputs": [
    {
     "data": {
      "text/plain": [
       "30"
      ]
     },
     "execution_count": 52,
     "metadata": {},
     "output_type": "execute_result"
    }
   ],
   "source": [
    "multiplication(5,6)"
   ]
  },
  {
   "cell_type": "code",
   "execution_count": 83,
   "id": "bc4c2ab4-c27f-483f-8ae6-afa2f666c978",
   "metadata": {},
   "outputs": [
    {
     "name": "stdout",
     "output_type": "stream",
     "text": [
      "-3\n"
     ]
    }
   ],
   "source": [
    "Soustraction = lambda x, y : x-y\n",
    "print(Soustraction(15,18))"
   ]
  },
  {
   "cell_type": "code",
   "execution_count": 86,
   "id": "63da4d2f-4e37-436b-af91-d6e8ea70b8f8",
   "metadata": {},
   "outputs": [
    {
     "name": "stdout",
     "output_type": "stream",
     "text": [
      "25\n"
     ]
    }
   ],
   "source": [
    "Multiplication = lambda x, y : x * y\n",
    "print (Multiplication(5,5))"
   ]
  },
  {
   "cell_type": "code",
   "execution_count": 89,
   "id": "aefb4eca-886e-4d6b-91b6-4c24100416ff",
   "metadata": {},
   "outputs": [
    {
     "name": "stdout",
     "output_type": "stream",
     "text": [
      "2\n"
     ]
    }
   ],
   "source": [
    "Division = lambda x, y : x%y\n",
    "print (Division(2,5)) "
   ]
  },
  {
   "cell_type": "code",
   "execution_count": 53,
   "id": "2231b54e-34fa-4ca0-a7c5-3573443aeb65",
   "metadata": {},
   "outputs": [
    {
     "name": "stdout",
     "output_type": "stream",
     "text": [
      "Le résultat du produit est :  30\n"
     ]
    }
   ],
   "source": [
    "def Multiplication (a, b):\n",
    "    return a * b\n",
    "print(\"Le résultat du produit est : \" , Multiplication(5,6))"
   ]
  },
  {
   "cell_type": "code",
   "execution_count": 99,
   "id": "c0449c48-be9d-4cee-85e3-c0ff1783c44c",
   "metadata": {},
   "outputs": [
    {
     "name": "stdout",
     "output_type": "stream",
     "text": [
      "25\n"
     ]
    }
   ],
   "source": [
    "def addition (n,m):\n",
    "    return n+m\n",
    "print (addition(10,15))"
   ]
  },
  {
   "cell_type": "code",
   "execution_count": 54,
   "id": "f743fbf6-2b64-4adf-a3a1-e5e622c51e90",
   "metadata": {},
   "outputs": [
    {
     "name": "stdout",
     "output_type": "stream",
     "text": [
      "le résultat de l'addition est :  11\n"
     ]
    }
   ],
   "source": [
    "addition = lambda n, m : n+ m\n",
    "print(\"le résultat de l'addition est : \", addition(5,6))"
   ]
  },
  {
   "cell_type": "code",
   "execution_count": 100,
   "id": "301545d8-8295-4063-b96e-267373b9c253",
   "metadata": {},
   "outputs": [
    {
     "name": "stdout",
     "output_type": "stream",
     "text": [
      "2\n"
     ]
    }
   ],
   "source": [
    "def soustraction (m,n):\n",
    "    return m - n \n",
    "print(soustraction(10,8))"
   ]
  },
  {
   "cell_type": "code",
   "execution_count": 102,
   "id": "586b973a-a633-44cb-8bba-69af6bfa475c",
   "metadata": {},
   "outputs": [
    {
     "name": "stdout",
     "output_type": "stream",
     "text": [
      "5\n"
     ]
    }
   ],
   "source": [
    "def division (x, y) : \n",
    "    return x // y\n",
    "print (division(10,2))"
   ]
  },
  {
   "cell_type": "code",
   "execution_count": 55,
   "id": "e26a27bf-bd0b-4bee-a9b1-73c4e12b64f1",
   "metadata": {},
   "outputs": [],
   "source": [
    "def age_moyenne(age, moyenne):\n",
    "    if age <= 18 and moyenne >= 16:\n",
    "        print(\"L'étudiant remplit les critères\")\n",
    "        return True\n",
    "    elif age > 18 and moyenne < 16:\n",
    "        print(\"L'étudiant ne remplit pas les critères\")\n",
    "        return False\n",
    "    else:\n",
    "        print(\"L'étudiant n'est dans aucun des cas\")\n",
    "        return None\n"
   ]
  },
  {
   "cell_type": "code",
   "execution_count": 56,
   "id": "990beb5f-fff9-478d-a2cd-13b851398040",
   "metadata": {},
   "outputs": [
    {
     "name": "stdout",
     "output_type": "stream",
     "text": [
      "L'étudiant ne remplit pas les critères\n",
      "False\n"
     ]
    }
   ],
   "source": [
    "print (age_moyenne(20,15))\n"
   ]
  },
  {
   "cell_type": "code",
   "execution_count": 57,
   "id": "a323cbab-9713-438a-8fe9-f2f8e8a744af",
   "metadata": {},
   "outputs": [],
   "source": [
    "def age_moyenne (age, moyenne): \n",
    "    if age <=18 and moyenne >= 16:\n",
    "        print (\"L'étudiant est brillant\")\n",
    "        return True\n",
    "    elif  age > 18 and moyenne < 16:\n",
    "        print (\"L'étudiant ne remplit pas les critères\")\n",
    "        return False\n",
    "    else:\n",
    "        print (\"L'étudiant est inclassable\")\n",
    "        return None\n",
    "    "
   ]
  },
  {
   "cell_type": "code",
   "execution_count": 125,
   "id": "3fd529ad-4a5b-495d-894c-88f7d328272b",
   "metadata": {},
   "outputs": [
    {
     "name": "stdout",
     "output_type": "stream",
     "text": [
      "L'étudiant est brillant\n",
      "True\n"
     ]
    }
   ],
   "source": [
    "print(age_moyenne(18,16))"
   ]
  },
  {
   "cell_type": "code",
   "execution_count": 141,
   "id": "2dfa4213-669d-4ea2-a0ab-dd144c5b636a",
   "metadata": {},
   "outputs": [],
   "source": [
    "def Classer_age (age):\n",
    "    if age < 12:\n",
    "        Resultat (\"Enfant\")\n",
    "    elif age >12 and age <=17:\n",
    "        Resultat (\"Adolescent\")\n",
    "    elif age >18 and age <=59:\n",
    "        Resultat (\"Adulte\")\n",
    "    elif age >=60: \n",
    "        Resultat (\"Senior\")\n",
    "    else age  0:\n",
    "        Resultat (\"Cet âge est invalide. Veuillez composer un age valide avec un chiffre supérieur à zéro\")\n",
    "        return Resultat \n",
    "\n",
    "    \n",
    "    "
   ]
  },
  {
   "cell_type": "code",
   "execution_count": null,
   "id": "85278c1b-2549-42fe-9d85-e4f84f666d72",
   "metadata": {},
   "outputs": [],
   "source": []
  },
  {
   "cell_type": "code",
   "execution_count": 143,
   "id": "08948e32-0e81-4a36-95fc-1824ae1e4b9c",
   "metadata": {},
   "outputs": [
    {
     "name": "stdout",
     "output_type": "stream",
     "text": [
      "Nombre invalide\n",
      "Enfant\n"
     ]
    }
   ],
   "source": [
    "print (classe_age(-5))"
   ]
  },
  {
   "cell_type": "markdown",
   "id": "c1dd7ab3-e956-4433-ba84-cdbdd453542f",
   "metadata": {},
   "source": [
    "# Présentation de la boucle For Simple \n"
   ]
  },
  {
   "cell_type": "code",
   "execution_count": 161,
   "id": "66d1199a-007c-4154-9ba1-2a795995cd69",
   "metadata": {},
   "outputs": [
    {
     "name": "stdout",
     "output_type": "stream",
     "text": [
      "[0]\n",
      "[0, 2]\n",
      "[0, 2, 4]\n",
      "[0, 2, 4, 6]\n",
      "[0, 2, 4, 6, 8]\n",
      "[0, 2, 4, 6, 8, 10, 12, 14, 16, 18]\n"
     ]
    }
   ],
   "source": [
    "Result = []\n",
    "for x in range(0,10,2):\n",
    "    (Result.append(x))\n",
    "    print(Result)\n",
    "\n",
    "resultat = []\n",
    "for i in range(0, 20, 2):\n",
    "    resultat.append(i)\n",
    "\n",
    "print(resultat)  # Affiche : [0, 2, 4, 6, 8, 10, 12, 14, 16, 18]\n",
    "\n",
    "\n",
    "\n"
   ]
  },
  {
   "cell_type": "code",
   "execution_count": 14,
   "id": "bd66c0df-41cf-4dcf-8c56-4deb6c943c6a",
   "metadata": {},
   "outputs": [
    {
     "name": "stdout",
     "output_type": "stream",
     "text": [
      "Ce chiffre : 0 est pair\n",
      "Ce chiffre : 2 est pair\n",
      "Ce chiffre : 4 est pair\n",
      "Ce chiffre : 6 est pair\n",
      "Ce chiffre : 8 est pair\n",
      "Ce chiffre : 10 est pair\n",
      "Ce chiffre : 12 est pair\n",
      "Ce chiffre : 14 est pair\n",
      "Ce chiffre : 16 est pair\n",
      "Ce chiffre : 18 est pair\n",
      "Ce chiffre : 20 est pair\n"
     ]
    }
   ],
   "source": [
    "ma_liste = []\n",
    "for i in range (0,21,2):\n",
    "    if i % 2 == 0:\n",
    "        print(f\"Ce chiffre : {i} est pair\")\n",
    "    \n",
    "    else: \n",
    "        print(f\"Ce chiffre : {i}  impair\")\n"
   ]
  },
  {
   "cell_type": "code",
   "execution_count": 176,
   "id": "306c25b1-9e3b-4164-a1a5-3259f44fa2e1",
   "metadata": {},
   "outputs": [
    {
     "name": "stdout",
     "output_type": "stream",
     "text": [
      "0\n",
      "-1\n",
      "-2\n",
      "-3\n",
      "-4\n",
      "-5\n",
      "-6\n",
      "-7\n",
      "-8\n",
      "-9\n"
     ]
    }
   ],
   "source": [
    "result = []\n",
    "for result in range (0,-10,-1):\n",
    "    print (result)"
   ]
  },
  {
   "cell_type": "code",
   "execution_count": 177,
   "id": "50a84250-53f0-48cf-90d1-f4a117dc84e8",
   "metadata": {},
   "outputs": [
    {
     "name": "stdout",
     "output_type": "stream",
     "text": [
      "[0, -1, -2, -3, -4, -5, -6, -7, -8, -9]\n"
     ]
    }
   ],
   "source": [
    "result = []\n",
    "for x in range(0, -10, -1):  # Utiliser un pas de -1 pour une séquence décroissante\n",
    "    result.append(x)          # Ajoute chaque valeur à la liste result\n",
    "\n",
    "print(result)  # Affiche la liste complète après la boucle\n"
   ]
  },
  {
   "cell_type": "code",
   "execution_count": 72,
   "id": "127e0f91-76a5-4243-8d82-b16219d87cc2",
   "metadata": {},
   "outputs": [
    {
     "name": "stdout",
     "output_type": "stream",
     "text": [
      "[0, 2, 4, 6, 8]\n"
     ]
    }
   ],
   "source": [
    "ma_liste = []\n",
    "for i in range(0, 10, 2):\n",
    "    ma_liste.append(i)\n",
    "print(ma_liste)"
   ]
  },
  {
   "cell_type": "code",
   "execution_count": 76,
   "id": "1747452c-ceaa-47dd-923d-6054fabb6627",
   "metadata": {},
   "outputs": [
    {
     "name": "stdout",
     "output_type": "stream",
     "text": [
      "[1, 3, 5, 7, 9]\n"
     ]
    }
   ],
   "source": [
    "mes_chiffres = []\n",
    "for x in range (1,11,2): \n",
    "    mes_chiffres.append(x)\n",
    "print(mes_chiffres)"
   ]
  },
  {
   "cell_type": "code",
   "execution_count": null,
   "id": "9028411f-d29f-401e-89b5-9785af36be38",
   "metadata": {},
   "outputs": [],
   "source": [
    "mes_eleves = [\"Fatou\", \"Mamadou\", \"Aliou\"]\n",
    "mes_eleves.append(\"Maman\")\n",
    "print(mes_eleves)"
   ]
  },
  {
   "cell_type": "code",
   "execution_count": null,
   "id": "542bd513-8bb6-4da3-bf54-18a786d5e96f",
   "metadata": {},
   "outputs": [],
   "source": [
    "mes_elevess = [\"Fatou\", \"Mamadou\", \"Aliou\"]  # Liste existante\n",
    "mes_eleves.append(\"Maman\")  # Ajout de \"Maman\" à la liste\n",
    "print(mes_elevess)  # Affiche la liste mise à jour\n"
   ]
  },
  {
   "cell_type": "code",
   "execution_count": 178,
   "id": "79fb5f28-6a0e-42db-9fa7-9a1330b3df91",
   "metadata": {},
   "outputs": [
    {
     "name": "stdout",
     "output_type": "stream",
     "text": [
      "[10, 12, 14, 16, 18, 20, 22, 24, 26, 28, 30, 32, 34, 36, 38, 40, 42, 44, 46, 48]\n"
     ]
    }
   ],
   "source": [
    "resultat = []\n",
    "for x in range (10,50, 2):\n",
    "    resultat.append(x)\n",
    "print (resultat)"
   ]
  },
  {
   "cell_type": "code",
   "execution_count": 179,
   "id": "5db2d808-d7b2-4939-aa27-07b15ba4e16a",
   "metadata": {},
   "outputs": [
    {
     "name": "stdout",
     "output_type": "stream",
     "text": [
      "10\n",
      "12\n",
      "14\n",
      "16\n",
      "18\n",
      "20\n",
      "22\n",
      "24\n",
      "26\n",
      "28\n",
      "30\n",
      "32\n",
      "34\n",
      "36\n",
      "38\n",
      "40\n",
      "42\n",
      "44\n",
      "46\n",
      "48\n"
     ]
    }
   ],
   "source": [
    "for x in range (10, 50, 2):\n",
    "    print (x)"
   ]
  },
  {
   "cell_type": "code",
   "execution_count": 180,
   "id": "e1fda60a-dddf-4ce9-84f4-e4194067f58b",
   "metadata": {},
   "outputs": [
    {
     "name": "stdout",
     "output_type": "stream",
     "text": [
      "[0, 2, 4, 6, 8, 10, 12, 14, 16, 18, 20]\n"
     ]
    }
   ],
   "source": [
    "# Je vais stocker le résultat dans une liste.\n",
    "ma_liste = []\n",
    "for x in range (0,21,2):\n",
    "    ma_liste.append(x)\n",
    "print(ma_liste)"
   ]
  },
  {
   "cell_type": "code",
   "execution_count": 188,
   "id": "a81c3d06-c6a0-4f87-9e1d-4db2be73cf06",
   "metadata": {},
   "outputs": [
    {
     "name": "stdout",
     "output_type": "stream",
     "text": [
      "0\n",
      "2\n",
      "4\n",
      "6\n",
      "8\n",
      "10\n",
      "12\n",
      "14\n",
      "16\n",
      "18\n",
      "20\n"
     ]
    }
   ],
   "source": [
    "#Je vais afficher les valeurs les unes sur les autres : \n",
    "for i in range (0,21,2):\n",
    "    print (i)"
   ]
  },
  {
   "cell_type": "code",
   "execution_count": 199,
   "id": "1ddb8fea-18af-4fae-9239-e36dab26fee0",
   "metadata": {},
   "outputs": [
    {
     "name": "stdout",
     "output_type": "stream",
     "text": [
      "1 est un Nombre impair\n",
      "2 est un Nombre pair\n",
      "3 est un Nombre impair\n",
      "4 est un Nombre pair\n",
      "5 est un Nombre impair\n",
      "6 est un Nombre pair\n",
      "7 est un Nombre impair\n",
      "8 est un Nombre pair\n",
      "9 est un Nombre impair\n",
      "10 est un Nombre pair\n",
      "11 est un Nombre impair\n",
      "12 est un Nombre pair\n",
      "13 est un Nombre impair\n",
      "14 est un Nombre pair\n",
      "15 est un Nombre impair\n",
      "16 est un Nombre pair\n",
      "17 est un Nombre impair\n",
      "18 est un Nombre pair\n",
      "19 est un Nombre impair\n",
      "20 est un Nombre pair\n"
     ]
    }
   ],
   "source": [
    "#Afficher le nombre pair ou impair \n",
    "\n",
    "for i in range(1,21,1):\n",
    "    if (i) % 2 == 0:\n",
    "        print (i,\"est un Nombre pair\")\n",
    "    else: \n",
    "        print (i,\"est un Nombre impair\")\n",
    "\n"
   ]
  },
  {
   "cell_type": "code",
   "execution_count": 202,
   "id": "0f564048-3847-42c7-b7db-f000b618d8d8",
   "metadata": {},
   "outputs": [
    {
     "name": "stdout",
     "output_type": "stream",
     "text": [
      "10 est un nombre pair\n",
      "9 est un nombre impair\n",
      "8 est un nombre pair\n",
      "7 est un nombre impair\n",
      "6 est un nombre pair\n",
      "5 est un nombre impair\n",
      "4 est un nombre pair\n",
      "3 est un nombre impair\n",
      "2 est un nombre pair\n",
      "1 est un nombre impair\n"
     ]
    }
   ],
   "source": [
    "#Afficher les nombres pairs et impairs \n",
    "\n",
    "for i in range (10,0,-1):\n",
    "    if i % 2 == 0: \n",
    "        print (i, \"est un nombre pair\")\n",
    "    else : \n",
    "        print (i, \"est un nombre impair\")\n"
   ]
  },
  {
   "cell_type": "code",
   "execution_count": 210,
   "id": "28be2cb5-64fe-4de2-9c0c-a8e82cdeb31e",
   "metadata": {},
   "outputs": [
    {
     "name": "stdout",
     "output_type": "stream",
     "text": [
      "2\n",
      "3\n",
      "4\n",
      "5\n",
      "6\n",
      "7\n",
      "8\n",
      "9\n",
      "10\n"
     ]
    }
   ],
   "source": [
    "#La boucle WHILE\n",
    "\n",
    "compteur = 1\n",
    "while compteur < 10:\n",
    "    compteur += 1\n",
    "    print(compteur)\n"
   ]
  },
  {
   "cell_type": "code",
   "execution_count": 211,
   "id": "ce101435-6570-4723-97d7-4c3b25ce37c3",
   "metadata": {},
   "outputs": [
    {
     "name": "stdout",
     "output_type": "stream",
     "text": [
      "1\n",
      "2\n",
      "3\n",
      "4\n",
      "5\n",
      "6\n",
      "7\n",
      "8\n",
      "9\n",
      "10\n"
     ]
    }
   ],
   "source": [
    "compteur = 1\n",
    "while compteur <= 10:  # Ajuste la condition pour inclure 10\n",
    "    print(compteur)\n",
    "    compteur += 1      # Incrémente après l'affichage\n"
   ]
  },
  {
   "cell_type": "code",
   "execution_count": 218,
   "id": "0357c2df-148e-417d-911e-32d60a0d7d88",
   "metadata": {},
   "outputs": [
    {
     "name": "stdout",
     "output_type": "stream",
     "text": [
      "1\n",
      "2\n",
      "3\n",
      "4\n",
      "5\n",
      "6\n",
      "7\n",
      "8\n",
      "9\n",
      "10\n"
     ]
    }
   ],
   "source": [
    "compteur = 0\n",
    "while compteur < 10:\n",
    "    compteur +=1\n",
    "    print (compteur)"
   ]
  },
  {
   "cell_type": "code",
   "execution_count": 224,
   "id": "5d36f762-7bc0-4c81-aa27-6589a86d6f9d",
   "metadata": {},
   "outputs": [
    {
     "name": "stdout",
     "output_type": "stream",
     "text": [
      "1\n",
      "2\n",
      "3\n",
      "4\n"
     ]
    }
   ],
   "source": [
    "compteur = 1\n",
    "while True:\n",
    "    print (compteur)\n",
    "    compteur +=1\n",
    "    if compteur == 5:\n",
    "        break "
   ]
  },
  {
   "cell_type": "code",
   "execution_count": 233,
   "id": "a828a6ca-68df-4339-a11c-d0cd511521eb",
   "metadata": {},
   "outputs": [
    {
     "name": "stdout",
     "output_type": "stream",
     "text": [
      "1\n",
      "2\n",
      "3\n",
      "4\n"
     ]
    }
   ],
   "source": [
    "compteur = 1\n",
    "for i in range(1,5,1):\n",
    "    print(i)"
   ]
  },
  {
   "cell_type": "code",
   "execution_count": 1,
   "id": "6e8ee3d3-13f8-411e-b576-64817c6f82a4",
   "metadata": {},
   "outputs": [
    {
     "name": "stdout",
     "output_type": "stream",
     "text": [
      "1 est un nombre pair\n",
      "2  est un nombre impair\n",
      "3 est un nombre pair\n",
      "4  est un nombre impair\n",
      "5 est un nombre pair\n",
      "6  est un nombre impair\n",
      "7 est un nombre pair\n",
      "8  est un nombre impair\n",
      "9 est un nombre pair\n"
     ]
    }
   ],
   "source": [
    "#La boucle for \n",
    "\n",
    "for i in range (1,10,1):\n",
    "    if i % 2: \n",
    "        print(i,\"est un nombre pair\")\n",
    "    else: \n",
    "        print(i,\" est un nombre impair\")\n"
   ]
  },
  {
   "cell_type": "code",
   "execution_count": null,
   "id": "49e9cb37-0e29-4143-a2d1-d3004c468040",
   "metadata": {},
   "outputs": [],
   "source": [
    "#La boucle While\n",
    "compteur = 1\n",
    "while compteur <= 10:\n",
    "    compteur +=1\n",
    "    if compteur % 2 == 0:\n",
    "        print (i, \"est un nombre pair\")\n",
    "    else: \n",
    "        print(i,\"est un nombre impair\")\n",
    "    compteur = compteur + 1\n",
    "\n",
    "    \n",
    "\n",
    "    "
   ]
  },
  {
   "cell_type": "code",
   "execution_count": 16,
   "id": "d33b2f6c-9cde-491b-a0de-522af72ddf67",
   "metadata": {},
   "outputs": [
    {
     "name": "stdout",
     "output_type": "stream",
     "text": [
      "1 est un nombre impair\n",
      "2 est un nombre pair\n",
      "3 est un nombre impair\n",
      "4 est un nombre pair\n",
      "5 est un nombre impair\n",
      "6 est un nombre pair\n",
      "7 est un nombre impair\n",
      "8 est un nombre pair\n",
      "9 est un nombre impair\n",
      "10 est un nombre pair\n"
     ]
    }
   ],
   "source": [
    "#La boucle While\n",
    "compteur = 1\n",
    "while compteur <= 10:\n",
    "    if compteur % 2 == 0:\n",
    "        print (compteur, \"est un nombre pair\")\n",
    "    else: \n",
    "        print(compteur,\"est un nombre impair\")\n",
    "    compteur = compteur + 1"
   ]
  },
  {
   "cell_type": "markdown",
   "id": "9c93b704-22bb-4713-a429-abf14bcdac03",
   "metadata": {},
   "source": [
    "CRUD"
   ]
  },
  {
   "cell_type": "markdown",
   "id": "b1525325-690c-4b62-be1b-b752467e37fe",
   "metadata": {},
   "source": [
    "CREATE \n"
   ]
  },
  {
   "cell_type": "code",
   "execution_count": 19,
   "id": "cb7fa2fd-0765-4e4f-9186-62ce41ac6bff",
   "metadata": {},
   "outputs": [
    {
     "name": "stdout",
     "output_type": "stream",
     "text": [
      "[15, 18, 20, 22, 25, 35, 38, 19, 23, 59, 60]\n"
     ]
    }
   ],
   "source": [
    "liste_age = [15, 18, 20, 22, 25, 35, 38, 19, 23, 59, 60]\n",
    "liste_age.sort\n",
    "print (liste_age)"
   ]
  },
  {
   "cell_type": "code",
   "execution_count": 22,
   "id": "a2ff1ce7-4d99-4216-9a03-04371b9bc9e1",
   "metadata": {},
   "outputs": [
    {
     "name": "stdout",
     "output_type": "stream",
     "text": [
      "[15, 18, 20, 22, 25, 35, 38, 19, 23, 59, 60]\n"
     ]
    }
   ],
   "source": [
    "liste_age = [15, 18, 20, 22, 25, 35, 38, 19, 23, 59, 60]\n",
    "liste_age_triee = sorted(liste_age)\n",
    "print (liste_age)"
   ]
  },
  {
   "cell_type": "code",
   "execution_count": 25,
   "id": "2e13c758-05c7-4dc7-881e-327d5b9a56eb",
   "metadata": {},
   "outputs": [
    {
     "name": "stdout",
     "output_type": "stream",
     "text": [
      "[12, 27, 13, 14, 58, 32, 60, 32, 32, 32]\n"
     ]
    }
   ],
   "source": [
    "ma_liste = [12, 27, 13, 14, 58, 32, 60, 32, 32, 32]\n",
    "ma_liste_triee = sorted(ma_liste)\n",
    "print(ma_liste)"
   ]
  },
  {
   "cell_type": "code",
   "execution_count": 28,
   "id": "7c2bb914-9e0c-4950-b31a-3061ee286eff",
   "metadata": {},
   "outputs": [
    {
     "name": "stdout",
     "output_type": "stream",
     "text": [
      "[12, 13, 14, 27, 32, 32, 32, 32, 58, 60]\n"
     ]
    },
    {
     "data": {
      "text/plain": [
       "10"
      ]
     },
     "execution_count": 28,
     "metadata": {},
     "output_type": "execute_result"
    }
   ],
   "source": [
    "ma_liste = [12, 27, 13, 14, 58, 32, 60, 32, 32, 32]\n",
    "ma_liste.sort()\n",
    "print(ma_liste)\n",
    "type(ma_liste)\n",
    "len(ma_liste)"
   ]
  },
  {
   "cell_type": "code",
   "execution_count": null,
   "id": "c043b140-15d0-4d29-ba7f-237344f317b4",
   "metadata": {},
   "outputs": [],
   "source": []
  },
  {
   "cell_type": "code",
   "execution_count": 54,
   "id": "1d12740c-db7a-4665-8331-81a05861804f",
   "metadata": {},
   "outputs": [
    {
     "name": "stdout",
     "output_type": "stream",
     "text": [
      "['Fatou', 'Mamadou', 'Mame', 'Ndèye', 'Oulimatou', 'Seydou', 'Van']\n"
     ]
    }
   ],
   "source": [
    "list_nom = [\"Mame\", \"Fatou\", \"Ndèye\", \"Mamadou\", \"Oulimatou\", \"Seydou\", \"Van\"]\n",
    "list_nom.sort()\n",
    "print (list_nom)"
   ]
  },
  {
   "cell_type": "code",
   "execution_count": 43,
   "id": "c229c189-869b-4dc6-8c61-6bba6faf356d",
   "metadata": {},
   "outputs": [
    {
     "name": "stdout",
     "output_type": "stream",
     "text": [
      "['Fatou', 'Mamadou', 'Mame', 'Ndèye', 'Oulimatou', 'Seydou', 'Van']\n"
     ]
    }
   ],
   "source": [
    "ma_liste = [\"Mame\", \"Fatou\", \"Ndèye\", \"Mamadou\", \"Oulimatou\", \"Seydou\", \"Van\"]\n",
    "ma_liste.sort()\n",
    "print(ma_liste)"
   ]
  },
  {
   "cell_type": "code",
   "execution_count": 49,
   "id": "23b4c062-6b11-4aeb-8289-04b548b19589",
   "metadata": {},
   "outputs": [
    {
     "name": "stdout",
     "output_type": "stream",
     "text": [
      "['Fatou', 'Mamadou', 'Mame', 'Ndèye', 'Oulimatou', 'Seydou', 'Van']\n"
     ]
    },
    {
     "data": {
      "text/plain": [
       "7"
      ]
     },
     "execution_count": 49,
     "metadata": {},
     "output_type": "execute_result"
    }
   ],
   "source": [
    "ma_liste = [\"Mame\", \"Fatou\", \"Ndèye\", \"Mamadou\", \"Oulimatou\", \"Seydou\", \"Van\"]\n",
    "ma_liste.sort()\n",
    "print(ma_liste)\n",
    "type(ma_liste)\n",
    "len(ma_liste)"
   ]
  },
  {
   "cell_type": "code",
   "execution_count": 59,
   "id": "1a25025d-8c8f-4e99-b5f0-8ee298be3d81",
   "metadata": {
    "scrolled": true
   },
   "outputs": [
    {
     "data": {
      "text/plain": [
       "[['Fatou', 'Mamadou', 'Mame', 'Ndèye', 'Oulimatou', 'Seydou', 'Van'],\n",
       " [12, 13, 14, 27, 32, 32, 32, 32, 58, 60]]"
      ]
     },
     "execution_count": 59,
     "metadata": {},
     "output_type": "execute_result"
    }
   ],
   "source": [
    "liste = [list_nom, ma_liste]\n",
    "liste"
   ]
  },
  {
   "cell_type": "code",
   "execution_count": null,
   "id": "a4868aaf-6107-4a29-979e-14f957c211c3",
   "metadata": {},
   "outputs": [],
   "source": []
  },
  {
   "cell_type": "code",
   "execution_count": 58,
   "id": "fe460b3d-eeab-4982-909b-dfce1660c588",
   "metadata": {},
   "outputs": [
    {
     "name": "stdout",
     "output_type": "stream",
     "text": [
      "[12, 13, 14, 27, 32, 32, 32, 32, 58, 60]\n"
     ]
    },
    {
     "data": {
      "text/plain": [
       "10"
      ]
     },
     "execution_count": 58,
     "metadata": {},
     "output_type": "execute_result"
    }
   ],
   "source": [
    "ma_liste = [12, 27, 13, 14, 58, 32, 60, 32, 32, 32]\n",
    "ma_liste.sort()\n",
    "print(ma_liste)\n",
    "type(ma_liste)\n",
    "len(ma_liste)"
   ]
  },
  {
   "cell_type": "markdown",
   "id": "23227123-a9f2-4dcb-ad74-6697ffd37206",
   "metadata": {},
   "source": [
    "READ"
   ]
  },
  {
   "cell_type": "code",
   "execution_count": 69,
   "id": "3d31584d-d5ff-4f08-8549-eb3ece7aa3a0",
   "metadata": {},
   "outputs": [
    {
     "name": "stdout",
     "output_type": "stream",
     "text": [
      "Abricot\n"
     ]
    }
   ],
   "source": [
    "#Lire les éléments d'une liste \n",
    "Fruit = ['Poire', 'Pomme', 'Abricot', 'Kiwi','Orange']\n",
    "print (Fruit[2])\n"
   ]
  },
  {
   "cell_type": "code",
   "execution_count": 74,
   "id": "9c5f29c4-acef-4e39-a6c8-b966d28e75a5",
   "metadata": {},
   "outputs": [
    {
     "data": {
      "text/plain": [
       "'Orange'"
      ]
     },
     "execution_count": 74,
     "metadata": {},
     "output_type": "execute_result"
    }
   ],
   "source": [
    " Fruit[len(Fruit)-1]"
   ]
  },
  {
   "cell_type": "code",
   "execution_count": 75,
   "id": "3f594794-2088-47a6-ba47-e32fe874f459",
   "metadata": {},
   "outputs": [
    {
     "data": {
      "text/plain": [
       "'Kiwi'"
      ]
     },
     "execution_count": 75,
     "metadata": {},
     "output_type": "execute_result"
    }
   ],
   "source": [
    "Fruit[len(Fruit)-2]"
   ]
  },
  {
   "cell_type": "code",
   "execution_count": 77,
   "id": "a1c0b64e-68f1-478a-b2bf-89babee57766",
   "metadata": {},
   "outputs": [
    {
     "name": "stdout",
     "output_type": "stream",
     "text": [
      "['Peugeot', 'Fiat', 'Toyota', 'Opel Corsa']\n"
     ]
    },
    {
     "data": {
      "text/plain": [
       "4"
      ]
     },
     "execution_count": 77,
     "metadata": {},
     "output_type": "execute_result"
    }
   ],
   "source": [
    "Marque = [\"Peugeot\", \"Fiat\", \"Toyota\", \"Opel Corsa\"]\n",
    "print (Marque)\n",
    "len(Marque)"
   ]
  },
  {
   "cell_type": "code",
   "execution_count": 78,
   "id": "0a356655-232b-4fde-921b-31f6a20cb3b5",
   "metadata": {},
   "outputs": [
    {
     "data": {
      "text/plain": [
       "'Opel Corsa'"
      ]
     },
     "execution_count": 78,
     "metadata": {},
     "output_type": "execute_result"
    }
   ],
   "source": [
    "Marque[len(Marque)-1]"
   ]
  },
  {
   "cell_type": "code",
   "execution_count": 81,
   "id": "04005cdd-010d-4924-95cb-0e9e190ddedf",
   "metadata": {},
   "outputs": [
    {
     "name": "stdout",
     "output_type": "stream",
     "text": [
      "['Tomate', 'Concombre', 'Gingembre', 'Piment']\n"
     ]
    },
    {
     "data": {
      "text/plain": [
       "4"
      ]
     },
     "execution_count": 81,
     "metadata": {},
     "output_type": "execute_result"
    }
   ],
   "source": [
    "legume = ['Tomate', 'Concombre', 'Gingembre', 'Piment']\n",
    "print(legume)\n",
    "len (legume)"
   ]
  },
  {
   "cell_type": "code",
   "execution_count": 82,
   "id": "bdfb7a82-2413-4a63-b46c-ec07aa2504a7",
   "metadata": {},
   "outputs": [
    {
     "data": {
      "text/plain": [
       "'Piment'"
      ]
     },
     "execution_count": 82,
     "metadata": {},
     "output_type": "execute_result"
    }
   ],
   "source": [
    "legume[len(legume)-1]"
   ]
  },
  {
   "cell_type": "code",
   "execution_count": 87,
   "id": "d3980812-ee3c-4340-b8e5-ef5a89a614fc",
   "metadata": {},
   "outputs": [
    {
     "name": "stdout",
     "output_type": "stream",
     "text": [
      "<class 'list'>\n"
     ]
    }
   ],
   "source": [
    "print (type(legume))"
   ]
  },
  {
   "cell_type": "code",
   "execution_count": 88,
   "id": "66d6a101-a170-49ac-b86f-d3d043318ce8",
   "metadata": {},
   "outputs": [
    {
     "data": {
      "text/plain": [
       "'Piment'"
      ]
     },
     "execution_count": 88,
     "metadata": {},
     "output_type": "execute_result"
    }
   ],
   "source": [
    "legume[-1]"
   ]
  },
  {
   "cell_type": "code",
   "execution_count": 89,
   "id": "824af1e8-a6ae-4381-8a6c-18da0e03d840",
   "metadata": {},
   "outputs": [
    {
     "name": "stdout",
     "output_type": "stream",
     "text": [
      "['Tomate', 'Concombre']\n"
     ]
    }
   ],
   "source": [
    "print (legume[0:2])"
   ]
  },
  {
   "cell_type": "code",
   "execution_count": 95,
   "id": "0f33bb9a-f97e-458b-8ac5-fdbf83385662",
   "metadata": {},
   "outputs": [
    {
     "name": "stdout",
     "output_type": "stream",
     "text": [
      "['college', 'elementaire', 'lycee']\n"
     ]
    },
    {
     "data": {
      "text/plain": [
       "list"
      ]
     },
     "execution_count": 95,
     "metadata": {},
     "output_type": "execute_result"
    }
   ],
   "source": [
    "etablissement = [\"prescolaire\",\"elementaire\", \"college\",\"lycee\",\"prepa\",\"universite\"]\n",
    "etablissement.sort()\n",
    "print (etablissement[0:3])\n",
    "len(etablissement)\n",
    "type(etablissement)\n"
   ]
  },
  {
   "cell_type": "code",
   "execution_count": 96,
   "id": "72ef3e74-7a62-41a9-aec0-f4f2bf01e9fc",
   "metadata": {},
   "outputs": [
    {
     "name": "stdout",
     "output_type": "stream",
     "text": [
      "1 ce nombre est impair\n",
      "2 ce nombre est pair\n",
      "3 ce nombre est impair\n",
      "4 ce nombre est pair\n",
      "5 ce nombre est impair\n",
      "6 ce nombre est pair\n",
      "7 ce nombre est impair\n",
      "8 ce nombre est pair\n",
      "9 ce nombre est impair\n",
      "10 ce nombre est pair\n"
     ]
    }
   ],
   "source": [
    "i = 0\n",
    "for i in range(1,11,1):\n",
    "    if i % 2 == 0:\n",
    "        print (i,\"ce nombre est pair\")\n",
    "    else: \n",
    "        print (i, \"ce nombre est impair\")\n"
   ]
  },
  {
   "cell_type": "code",
   "execution_count": 97,
   "id": "b9da4989-995d-45fb-941e-efbfd3b49eda",
   "metadata": {},
   "outputs": [
    {
     "name": "stdout",
     "output_type": "stream",
     "text": [
      "college\n",
      "elementaire\n",
      "lycee\n",
      "prepa\n",
      "prescolaire\n",
      "universite\n"
     ]
    }
   ],
   "source": [
    "for i in etablissement: \n",
    "    print (i)"
   ]
  },
  {
   "cell_type": "code",
   "execution_count": 98,
   "id": "5fd53b33-c769-49e5-b5fa-e904ba5e0e83",
   "metadata": {},
   "outputs": [
    {
     "name": "stdout",
     "output_type": "stream",
     "text": [
      "['college', 'elementaire', 'lycee', 'prepa', 'prescolaire', 'universite']\n"
     ]
    }
   ],
   "source": [
    "i = etablissement\n",
    "print (i)"
   ]
  },
  {
   "cell_type": "code",
   "execution_count": 104,
   "id": "3adeb3da-6599-46cc-af6a-d57503339f08",
   "metadata": {},
   "outputs": [
    {
     "name": "stdout",
     "output_type": "stream",
     "text": [
      "['college', 'elementaire', 'lycee', 'classe preparatoire', 'prescolaire', 'universite']\n"
     ]
    }
   ],
   "source": [
    "niveau = ['college', 'elementaire', 'lycee', 'prepa', 'prescolaire', 'universite']\n",
    "niveau [-3]= 'classe preparatoire'\n",
    "print (niveau)"
   ]
  },
  {
   "cell_type": "code",
   "execution_count": 110,
   "id": "0e555b57-599b-420d-a686-9a6cccca9745",
   "metadata": {},
   "outputs": [
    {
     "name": "stdout",
     "output_type": "stream",
     "text": [
      "['Awa', 'Diedhiou', 'Amour', 'Mamadou', 'Mame', 'Ndeye', 'Oulimatou', 'Papis', 'Thioro']\n"
     ]
    }
   ],
   "source": [
    "nom = ['Fatou', 'Mame', 'Oulimatou', 'Ndeye', 'Papis', 'Mamadou', 'Awa', 'Thioro', 'Diedhiou']\n",
    "nom.sort()\n",
    "nom [2] = 'Amour'\n",
    "print (nom)"
   ]
  },
  {
   "cell_type": "code",
   "execution_count": 126,
   "id": "c5c00356-1a1b-40b0-85b7-2e6d3e8969d8",
   "metadata": {},
   "outputs": [
    {
     "name": "stdout",
     "output_type": "stream",
     "text": [
      "['Alice', 'Bob', 'Charlie', 'Nedved']\n"
     ]
    }
   ],
   "source": [
    "nom = ['Alice', 'Bob', 'Charlie']\n",
    "for i in range(1):  # Si on veut ajouter Nedved une seule fois\n",
    "    nom.append('Nedved')\n",
    "print(nom)\n",
    "# Résultat : ['Alice', 'Bob', 'Charlie', 'Nedved']\n",
    "\n",
    "\n"
   ]
  },
  {
   "cell_type": "code",
   "execution_count": 130,
   "id": "fea89bd6-7dbf-43eb-85a4-30f3ba60bb03",
   "metadata": {},
   "outputs": [
    {
     "name": "stdout",
     "output_type": "stream",
     "text": [
      "['Aliou', 'Ousmane', 'Malang', 'Mame', 'Sonko', 'Awa', 'Diarietou']\n"
     ]
    }
   ],
   "source": [
    "nom = ['Aliou', 'Ousmane', 'Malang', 'Mame']\n",
    "nom.extend(['Sonko', 'Awa', 'Diarietou'])\n",
    "print(nom)"
   ]
  },
  {
   "cell_type": "code",
   "execution_count": 131,
   "id": "163badc9-3048-4bac-bedb-194384c63f9d",
   "metadata": {},
   "outputs": [
    {
     "name": "stdout",
     "output_type": "stream",
     "text": [
      "['Aliou', 'Ousmane', 'Malang', 'Mame', 'Sonko', 'Awa', 'Diarietou']\n"
     ]
    }
   ],
   "source": [
    "print(nom)"
   ]
  },
  {
   "cell_type": "code",
   "execution_count": 132,
   "id": "db3caf28-63cd-4f81-90a5-ddde8fa7c80e",
   "metadata": {},
   "outputs": [
    {
     "data": {
      "text/plain": [
       "\u001b[1;31mSignature:\u001b[0m \u001b[0mnom\u001b[0m\u001b[1;33m.\u001b[0m\u001b[0mappend\u001b[0m\u001b[1;33m(\u001b[0m\u001b[0mobject\u001b[0m\u001b[1;33m,\u001b[0m \u001b[1;33m/\u001b[0m\u001b[1;33m)\u001b[0m\u001b[1;33m\u001b[0m\u001b[1;33m\u001b[0m\u001b[0m\n",
       "\u001b[1;31mDocstring:\u001b[0m Append object to the end of the list.\n",
       "\u001b[1;31mType:\u001b[0m      builtin_function_or_method"
      ]
     },
     "metadata": {},
     "output_type": "display_data"
    }
   ],
   "source": [
    "nom.append??"
   ]
  },
  {
   "cell_type": "code",
   "execution_count": 133,
   "id": "1aa4f8c0-d0ba-4c86-b3d7-e53a7e421b34",
   "metadata": {},
   "outputs": [
    {
     "data": {
      "text/plain": [
       "\u001b[1;31mSignature:\u001b[0m \u001b[0mnom\u001b[0m\u001b[1;33m.\u001b[0m\u001b[0minsert\u001b[0m\u001b[1;33m(\u001b[0m\u001b[0mindex\u001b[0m\u001b[1;33m,\u001b[0m \u001b[0mobject\u001b[0m\u001b[1;33m,\u001b[0m \u001b[1;33m/\u001b[0m\u001b[1;33m)\u001b[0m\u001b[1;33m\u001b[0m\u001b[1;33m\u001b[0m\u001b[0m\n",
       "\u001b[1;31mDocstring:\u001b[0m Insert object before index.\n",
       "\u001b[1;31mType:\u001b[0m      builtin_function_or_method"
      ]
     },
     "metadata": {},
     "output_type": "display_data"
    }
   ],
   "source": [
    "nom.insert??"
   ]
  },
  {
   "cell_type": "code",
   "execution_count": 134,
   "id": "4617c48f-03f6-4edf-b149-329e30d06368",
   "metadata": {},
   "outputs": [
    {
     "name": "stdout",
     "output_type": "stream",
     "text": [
      "['Aliou', 'Ousmane', 'Malang', 'Mame', 'Sonko', 'Awa', 'Diarietou']\n"
     ]
    }
   ],
   "source": [
    "print(nom)"
   ]
  },
  {
   "cell_type": "code",
   "execution_count": 141,
   "id": "7a081773-6fd0-4eb8-8135-ee1abe410884",
   "metadata": {},
   "outputs": [
    {
     "name": "stdout",
     "output_type": "stream",
     "text": [
      "['Aliou', 'Fansou', 'Fansou', 'Fansou', 'Fansou', 'Fansou', 'Ousmane', 'Malang', 'Mame', 'Sonko', 'Awa', 'Diarietou']\n"
     ]
    }
   ],
   "source": [
    "nom.insert(1,\"Fansou\")\n",
    "print (nom)"
   ]
  },
  {
   "cell_type": "code",
   "execution_count": 142,
   "id": "fa8dc88f-9828-466c-b817-8a502a6e5bf0",
   "metadata": {},
   "outputs": [
    {
     "name": "stdout",
     "output_type": "stream",
     "text": [
      "['Aliou', 'Fansou', 'Fansou', 'Fansou', 'Fansou', 'Fansou', 'Ousmane', 'Malang', 'Mame', 'Sonko', 'Awa', 'Diarietou']\n"
     ]
    }
   ],
   "source": [
    "print(nom)"
   ]
  },
  {
   "cell_type": "code",
   "execution_count": 151,
   "id": "cda8e5cf-018c-41e0-82b8-7dde0dfab87c",
   "metadata": {},
   "outputs": [
    {
     "name": "stdout",
     "output_type": "stream",
     "text": [
      "['Aliou', 'Mame', 'Sonko', 'Awa', 'Diarietou']\n"
     ]
    }
   ],
   "source": [
    "del nom [1:4]\n",
    "print(nom)\n"
   ]
  },
  {
   "cell_type": "code",
   "execution_count": 152,
   "id": "e977e6e9-aa7a-42e1-9dc3-c286cea1d4f9",
   "metadata": {},
   "outputs": [
    {
     "name": "stdout",
     "output_type": "stream",
     "text": [
      "['Aliou', 'Mame', 'Sonko', 'Awa', 'Diarietou']\n"
     ]
    }
   ],
   "source": [
    "nom.clear\n",
    "print(nom)"
   ]
  },
  {
   "cell_type": "code",
   "execution_count": 154,
   "id": "04ed731e-4c1a-438a-8fd8-64bf202fc6f0",
   "metadata": {},
   "outputs": [
    {
     "name": "stdout",
     "output_type": "stream",
     "text": [
      "(1, 5, 10, 3, 7, 20)\n"
     ]
    },
    {
     "data": {
      "text/plain": [
       "tuple"
      ]
     },
     "execution_count": 154,
     "metadata": {},
     "output_type": "execute_result"
    }
   ],
   "source": [
    "mon_tuple = (1, 5, 10, 3, 7, 20)\n",
    "print(mon_tuple)\n",
    "type(mon_tuple)"
   ]
  },
  {
   "cell_type": "code",
   "execution_count": 160,
   "id": "f9004b61-1f82-4962-8acd-b105ebfbc1d8",
   "metadata": {},
   "outputs": [
    {
     "name": "stdout",
     "output_type": "stream",
     "text": [
      "Tableau : [1 2 3 4]\n"
     ]
    }
   ],
   "source": [
    "# Importer une bibliothèque\n",
    "import numpy as np\n",
    "\n",
    "# Créer un tableau\n",
    "arr = np.array([1, 2, 3, 4])\n",
    "print(\"Tableau :\", arr)\n"
   ]
  },
  {
   "cell_type": "code",
   "execution_count": 162,
   "id": "38a260cc-e3e2-4d3c-b797-d462591338ec",
   "metadata": {},
   "outputs": [
    {
     "data": {
      "text/plain": [
       "numpy.ndarray"
      ]
     },
     "execution_count": 162,
     "metadata": {},
     "output_type": "execute_result"
    }
   ],
   "source": [
    "type(arr)"
   ]
  },
  {
   "cell_type": "code",
   "execution_count": 175,
   "id": "45960756-91e6-439f-ab8b-83f257eb07bb",
   "metadata": {},
   "outputs": [
    {
     "name": "stdout",
     "output_type": "stream",
     "text": [
      "Ma liste avant remplacement : [12, 25, 9, 56, 89, 24, 35, 12]\n",
      "Ma liste après remplacement :  [100, 25, 9, 56, 89, 24, 35, 100]\n"
     ]
    }
   ],
   "source": [
    "ma_liste = [12, 25, 9, 56, 89, 24, 35, 12]\n",
    "nombre_cherche = 12\n",
    "nombre_remplace = 100 \n",
    "print(\"Ma liste avant remplacement :\", ma_liste)\n",
    "\n",
    "for i in range(len(ma_liste)):\n",
    "    if ma_liste[i] == nombre_cherche:\n",
    "        ma_liste[i] = nombre_remplace\n",
    "print(\"Ma liste après remplacement : \", ma_liste)\n"
   ]
  },
  {
   "cell_type": "code",
   "execution_count": 179,
   "id": "273219b3-ebc9-4ef4-8de2-a86629096aad",
   "metadata": {},
   "outputs": [
    {
     "name": "stdout",
     "output_type": "stream",
     "text": [
      "Mes numéros avant remplacement : [12, 25, 9, 56, 89, 24, 35, 12]\n",
      "Mes numéros après remplacement :  [100, 25, 9, 56, 89, 24, 35, 100]\n"
     ]
    }
   ],
   "source": [
    "mes_numeros = [12, 25, 9, 56, 89, 24, 35, 12]\n",
    "numero_cherche = 12\n",
    "numero_remplace = 100\n",
    "print (\"Mes numéros avant remplacement :\" , mes_numeros)\n",
    "\n",
    "for i in range(len(mes_numeros)):\n",
    "    if mes_numeros[i] == numero_cherche:\n",
    "        mes_numeros[i] = numero_remplace\n",
    "print(\"Mes numéros après remplacement : \", mes_numeros)"
   ]
  },
  {
   "cell_type": "code",
   "execution_count": null,
   "id": "e01de865-28ba-4731-847f-17238285bc01",
   "metadata": {},
   "outputs": [],
   "source": [
    "mes_numeros = [12, 25, 9, 56, 89, 24, 35, 12]\n",
    "numero_cherche = 12\n",
    "numero_remplace = 100\n",
    "\n",
    "print(\"Mes numéros avant remplacement :\", mes_numeros)\n",
    "\n",
    "# Parcourir les indices de la liste\n",
    "for i in range(len(mes_numeros)):\n",
    "    if mes_numeros[i] == numero_cherche:  # Vérifie chaque élément de la liste\n",
    "        mes_numeros[i] = numero_remplace  # Remplace l'élément correspondant\n",
    "\n",
    "print(\"Mes numéros après remplacement :\", mes_numeros)\n"
   ]
  },
  {
   "cell_type": "code",
   "execution_count": 180,
   "id": "f3ba9f49-2bfc-454b-bb26-37280b6677d8",
   "metadata": {},
   "outputs": [
    {
     "name": "stdout",
     "output_type": "stream",
     "text": [
      "Mes numéros avant remplacement : [12, 25, 9, 56, 89, 24, 35, 12]\n",
      "Mes numéros après remplacement : [100, 25, 9, 56, 89, 24, 35, 100]\n"
     ]
    }
   ],
   "source": [
    "mes_numeros = [12, 25, 9, 56, 89, 24, 35, 12]\n",
    "numero_cherche = 12\n",
    "numero_remplace = 100\n",
    "\n",
    "print(\"Mes numéros avant remplacement :\", mes_numeros)\n",
    "\n",
    "# Utiliser enumerate pour obtenir l'indice et la valeur\n",
    "for i, valeur in enumerate(mes_numeros):\n",
    "    if valeur == numero_cherche:  # Vérifie chaque élément de la liste\n",
    "        mes_numeros[i] = numero_remplace  # Remplace l'élément correspondant\n",
    "\n",
    "print(\"Mes numéros après remplacement :\", mes_numeros)\n"
   ]
  },
  {
   "cell_type": "code",
   "execution_count": 184,
   "id": "2f4c08b1-6c3f-4e36-8f40-eb6f43479593",
   "metadata": {},
   "outputs": [
    {
     "name": "stdout",
     "output_type": "stream",
     "text": [
      "Mes numéros avant remplacement : [12, 25, 9, 56, 89, 24, 35, 12]\n",
      "Mes numéros après remplacement : [7, 7, 7, 7, 7, 7, 7, 7]\n"
     ]
    }
   ],
   "source": [
    "mes_numeros = [12, 25, 9, 56, 89, 24, 35, 12]\n",
    "numero_cherche = 12\n",
    "numero_remplace = 100\n",
    "\n",
    "print(\"Mes numéros avant remplacement :\", mes_numeros)\n",
    "\n",
    "# Crée une nouvelle liste avec la valeur remplacée\n",
    "mes_numeros = [numero_remplace if i == numero_cherche else i for valeur in mes_numeros]\n",
    "\n",
    "print(\"Mes numéros après remplacement :\", mes_numeros) \n"
   ]
  },
  {
   "cell_type": "code",
   "execution_count": 187,
   "id": "9362ef9f-5169-4d9b-83d7-77205d4b3e74",
   "metadata": {},
   "outputs": [
    {
     "name": "stdout",
     "output_type": "stream",
     "text": [
      "Mes numéros avant remplacement :  [12, 25, 9, 56, 89, 24, 35, 12]\n",
      "Mes numéros après remplacement : [100, 25, 9, 56, 89, 24, 35, 100]\n"
     ]
    }
   ],
   "source": [
    "mes_numeros = [12, 25, 9, 56, 89, 24, 35, 12]\n",
    "numero_cherche = 12\n",
    "numero_remplace = 100\n",
    "print(\"Mes numéros avant remplacement : \" , mes_numeros)\n",
    "\n",
    "nouvelle_liste = []  # Crée une nouvelle liste\n",
    "for i in mes_numeros:  # Ici, 'valeur' est explicitement défini dans la boucle\n",
    "    if i == numero_cherche:\n",
    "        nouvelle_liste.append(numero_remplace)  # Remplace la valeur\n",
    "    else:\n",
    "        nouvelle_liste.append(i)  # Garde la valeur inchangée\n",
    "\n",
    "mes_numeros = nouvelle_liste\n",
    "print(\"Mes numéros après remplacement :\", mes_numeros)\n"
   ]
  },
  {
   "cell_type": "code",
   "execution_count": 198,
   "id": "8005f272-d151-4755-952e-e3fa85baad42",
   "metadata": {},
   "outputs": [
    {
     "name": "stdout",
     "output_type": "stream",
     "text": [
      "Mes numéros avant remplacement :  [12, 25, 9, 56, 89, 24, 35, 12]\n",
      "Mes numéros après remplacement :  [100, 25, 9, 56, 89, 24, 35, 100]\n"
     ]
    }
   ],
   "source": [
    "mes_numeros = [12, 25, 9, 56, 89, 24, 35, 12]\n",
    "numero_cherche = 12\n",
    "numero_remplace = 100\n",
    "print (\"Mes numéros avant remplacement : \", mes_numeros)\n",
    "\n",
    "nouvelle_liste = []\n",
    "for i in mes_numeros:\n",
    "    if i == numero_cherche: \n",
    "       nouvelle_liste.append(numero_remplace) \n",
    "    else : \n",
    "        nouvelle_liste.append(i)\n",
    "mes_numeros = nouvelle_liste\n",
    "print(\"Mes numéros après remplacement : \", mes_numeros)"
   ]
  },
  {
   "cell_type": "code",
   "execution_count": null,
   "id": "c03147d8-e120-4fb0-8fa3-c3bb7a051af5",
   "metadata": {},
   "outputs": [],
   "source": [
    "mes_numeros = [12, 25, 9, 56, 89, 24, 35, 12]\n",
    "numero_cherche = 12\n",
    "numero_remplace = 100\n",
    "\n",
    "print(\"Mes numéros avant remplacement :\", mes_numeros)\n",
    "\n",
    "nouvelle_liste = []  # Liste vide pour stocker les résultats\n",
    "\n",
    "for i in mes_numeros:  # Parcours chaque élément de la liste\n",
    "    if i == numero_cherche:  # Compare l'élément actuel avec numero_cherche\n",
    "        nouvelle_liste.append(numero_remplace)  # Remplace si égal\n",
    "    else:\n",
    "        nouvelle_liste.append(i)  # Sinon, garde l'élément inchangé\n",
    "\n",
    "mes_numeros = nouvelle_liste  # Remplace l'ancienne liste par la nouvelle\n",
    "\n",
    "print(\"Mes numéros après remplacement :\", mes_numeros)\n"
   ]
  },
  {
   "cell_type": "code",
   "execution_count": 205,
   "id": "bb39e884-d422-45c6-a9e4-78e95d5e10a7",
   "metadata": {},
   "outputs": [
    {
     "name": "stdout",
     "output_type": "stream",
     "text": [
      "Ma liste avant remplacement :  [12, 10, 15, 35, 60, 12]\n",
      "Ma liste après remplacement: [100, 10, 15, 35, 60, 100]\n"
     ]
    }
   ],
   "source": [
    "ma_liste = [12, 10, 15, 35, 60, 12]\n",
    "numero_cherche = 12\n",
    "numero_remplace = 100\n",
    "print(\"Ma liste avant remplacement : \", ma_liste)\n",
    "\n",
    "nouvelle_liste = []\n",
    "for i in ma_liste:\n",
    "    if i == numero_cherche:\n",
    "        nouvelle_liste.append(numero_remplace)\n",
    "    else:\n",
    "        nouvelle_liste.append(i)\n",
    "\n",
    "print(\"Ma liste après remplacement:\", nouvelle_liste)\n",
    "    "
   ]
  },
  {
   "cell_type": "code",
   "execution_count": 209,
   "id": "0fb32eb5-5653-4585-9b60-f92a616a65ea",
   "metadata": {},
   "outputs": [
    {
     "name": "stdout",
     "output_type": "stream",
     "text": [
      "Ma liste avant remplacement :  [15, 25, 35, 40, 15]\n",
      "Ma liste après remplacement :  [18, 25, 35, 40, 18]\n"
     ]
    }
   ],
   "source": [
    "ma_liste = [15, 25, 35, 40, 15]\n",
    "nombre_cherche = 15\n",
    "nombre_remplace = 18\n",
    "\n",
    "print(\"Ma liste avant remplacement : \", ma_liste)\n",
    "\n",
    "nouvelle_liste = []\n",
    "\n",
    "for i in ma_liste: \n",
    "    if i == nombre_cherche:\n",
    "        nouvelle_liste.append(nombre_remplace)\n",
    "    else:\n",
    "       nouvelle_liste.append(i)\n",
    "print (\"Ma liste après remplacement : \", nouvelle_liste)\n",
    "        \n"
   ]
  },
  {
   "cell_type": "code",
   "execution_count": null,
   "id": "c42a210e-484d-46d5-b83b-05292c992fab",
   "metadata": {},
   "outputs": [],
   "source": [
    "ma_liste = [12, 10, 15, 35, 60, 12]\n",
    "numero_cherche = 12\n",
    "numero_remplace = 100\n",
    "print(\"Ma liste avant remplacement :\", ma_liste)\n",
    "\n",
    "nouvelle_liste = []\n",
    "for i in ma_liste:\n",
    "    if i == numero_cherche:  # Vérifie si l'élément courant est égal à numero_cherche\n",
    "        nouvelle_liste.append(numero_remplace)  # Remplace par numero_remplace\n",
    "    else:\n",
    "        nouvelle_liste.append(i)  # Garde l'élément original\n",
    "\n",
    "print(\"Ma liste après remplacement :\", nouvelle_liste)\n"
   ]
  },
  {
   "cell_type": "code",
   "execution_count": 212,
   "id": "4994c47e-c791-4def-991a-0896c23109a4",
   "metadata": {},
   "outputs": [
    {
     "name": "stdout",
     "output_type": "stream",
     "text": [
      "{'nom': 'Alice', 'âge': 25, 'ville': 'Paris'}\n"
     ]
    }
   ],
   "source": [
    "mon_dico = {\n",
    "    \"nom\": \"Alice\",\n",
    "    \"âge\": 25,\n",
    "    \"ville\": \"Paris\"\n",
    "}\n",
    "print(mon_dico)\n"
   ]
  },
  {
   "cell_type": "code",
   "execution_count": 213,
   "id": "097923a7-7547-418f-88d9-e8a2422d587c",
   "metadata": {},
   "outputs": [
    {
     "name": "stdout",
     "output_type": "stream",
     "text": [
      "nom Alice\n",
      "âge 25\n",
      "ville Paris\n"
     ]
    }
   ],
   "source": [
    "for clé in mon_dico:\n",
    "    print(clé, mon_dico[clé])  # Affiche clé et valeur\n"
   ]
  },
  {
   "cell_type": "code",
   "execution_count": 219,
   "id": "7ac7a354-88db-4dbf-b94a-e0917a3dc44a",
   "metadata": {},
   "outputs": [
    {
     "name": "stdout",
     "output_type": "stream",
     "text": [
      "La clé profession n'existe pas\n"
     ]
    }
   ],
   "source": [
    "if  \"profession\" in mon_dico: \n",
    "    print(\"La clé 'profession' existe\")\n",
    "else:\n",
    "    print (\"La clé profession n'existe pas\")"
   ]
  },
  {
   "cell_type": "code",
   "execution_count": 1,
   "id": "40c6a317-e105-4dc1-8521-7631c50bde27",
   "metadata": {},
   "outputs": [
    {
     "name": "stdout",
     "output_type": "stream",
     "text": [
      "{'nom': 'Alice', 'age': 25, 'ville': 'Paris'}\n"
     ]
    }
   ],
   "source": [
    "mon_dico = {\n",
    "\"nom\": \"Alice\",\n",
    "\"age\": 25,\n",
    "\"ville\": \"Paris\"\n",
    "}\n",
    "print(mon_dico)\n"
   ]
  },
  {
   "cell_type": "code",
   "execution_count": 2,
   "id": "1348089c-ae5e-4ee6-91cd-afd2e7fed490",
   "metadata": {},
   "outputs": [
    {
     "name": "stdout",
     "output_type": "stream",
     "text": [
      "Alice\n"
     ]
    }
   ],
   "source": [
    "print(mon_dico[\"nom\"])"
   ]
  },
  {
   "cell_type": "code",
   "execution_count": 24,
   "id": "0034da07-4757-43ed-91d3-f18109a75c8b",
   "metadata": {},
   "outputs": [
    {
     "name": "stdout",
     "output_type": "stream",
     "text": [
      "{'nom': 'Alice', 'age': 26, 'profession': 'Ingénieur'}\n"
     ]
    }
   ],
   "source": [
    "mon_dico [\"profession\"] = \"Ingénieur\"\n",
    "print(mon_dico)"
   ]
  },
  {
   "cell_type": "code",
   "execution_count": 25,
   "id": "78462596-ef66-4746-873b-bf4b1b2d9ac0",
   "metadata": {
    "scrolled": true
   },
   "outputs": [
    {
     "name": "stdout",
     "output_type": "stream",
     "text": [
      "{'nom': 'Alice', 'age': 26, 'profession': 'Ingénieur', 'sexe': 'Féminin'}\n"
     ]
    }
   ],
   "source": [
    "mon_dico[\"sexe\"] = \"Féminin\"\n",
    "print (mon_dico)"
   ]
  },
  {
   "cell_type": "code",
   "execution_count": 23,
   "id": "e01c592c-06d4-4f7c-9122-88588ff39f94",
   "metadata": {},
   "outputs": [
    {
     "name": "stdout",
     "output_type": "stream",
     "text": [
      "{'nom': 'Alice', 'age': 26, 'profession': 'Médecin'}\n"
     ]
    }
   ],
   "source": [
    "#Modifier l'âge d'Alice de 25 à 26\n",
    "mon_dico[\"age\"] = 26\n",
    "print(mon_dico)"
   ]
  },
  {
   "cell_type": "code",
   "execution_count": 10,
   "id": "c66b7619-ddca-4abe-955f-62757aba5c32",
   "metadata": {},
   "outputs": [
    {
     "name": "stdout",
     "output_type": "stream",
     "text": [
      "{'nom': 'Alice', 'age': 26, 'ville': 'Franconville', 'profession': 'Ingénieur', 'sexe': 'Féminin', 'banque': 'CA'}\n"
     ]
    }
   ],
   "source": [
    "#Modifier la ville d'Alice\n",
    "mon_dico[\"ville\"] = \"Franconville\"\n",
    "print (mon_dico)"
   ]
  },
  {
   "cell_type": "code",
   "execution_count": 11,
   "id": "fbd7e092-24f3-47be-b9ab-e10614cff27e",
   "metadata": {},
   "outputs": [
    {
     "name": "stdout",
     "output_type": "stream",
     "text": [
      "{'nom': 'Alice', 'age': 26, 'ville': 'Franconville', 'profession': 'Médecin', 'sexe': 'Féminin', 'banque': 'CA'}\n"
     ]
    }
   ],
   "source": [
    "#Modifier la profession d'Alice\n",
    "mon_dico[\"profession\"] = \"Médecin\"\n",
    "print(mon_dico)"
   ]
  },
  {
   "cell_type": "code",
   "execution_count": 26,
   "id": "64721a19-5b2f-4462-ab71-8cfeb81ee075",
   "metadata": {},
   "outputs": [
    {
     "name": "stdout",
     "output_type": "stream",
     "text": [
      "{'nom': 'Alice', 'age': 26, 'profession': 'Ingénieur'}\n"
     ]
    }
   ],
   "source": [
    "#Supprimer une entrée notamment le sexe\n",
    "mon_dico.pop(\"sexe\")\n",
    "print(mon_dico)"
   ]
  },
  {
   "cell_type": "code",
   "execution_count": 31,
   "id": "d7e873f7-addb-4eeb-bb55-a66c1218ab2d",
   "metadata": {},
   "outputs": [
    {
     "name": "stdout",
     "output_type": "stream",
     "text": [
      "dict_keys(['nom', 'age', 'profession'])\n",
      "dict_values(['Alice', 26, 'Ingénieur'])\n"
     ]
    }
   ],
   "source": [
    "print(mon_dico.keys())\n",
    "print(mon_dico.values())"
   ]
  },
  {
   "cell_type": "code",
   "execution_count": 43,
   "id": "03e43a59-b605-4708-bc64-33bf52e8c271",
   "metadata": {},
   "outputs": [
    {
     "name": "stdout",
     "output_type": "stream",
     "text": [
      "{'Histoire': 15, 'Géographie': 18, 'SVT': 6, 'EPS': 20, 'Français': 5}\n"
     ]
    }
   ],
   "source": [
    "notes = {\n",
    "\"Histoire\" : 15,\n",
    "\"Géographie\" : 18,\n",
    "\"SVT\" : 6,\n",
    "\"EPS\" : 20,\n",
    "\"Français\" : 5\n",
    "}\n",
    "print(notes)"
   ]
  },
  {
   "cell_type": "code",
   "execution_count": 36,
   "id": "e284b0c7-2493-41e1-af69-4b4cc4c1389c",
   "metadata": {},
   "outputs": [
    {
     "name": "stdout",
     "output_type": "stream",
     "text": [
      "{'Histoire': 15, 'Géographie': 18, 'SVT': 6, 'EPS': 20, 'Français': 5, 'Espagnol': 16}\n"
     ]
    }
   ],
   "source": [
    "notes[\"Espagnol\"] = 16\n",
    "print(notes)"
   ]
  },
  {
   "cell_type": "code",
   "execution_count": 37,
   "id": "2ee0c75f-7fa6-4a0d-b876-cce3b4db6b26",
   "metadata": {},
   "outputs": [
    {
     "name": "stdout",
     "output_type": "stream",
     "text": [
      "{'Histoire': 15, 'Géographie': 18, 'SVT': 6, 'EPS': 20, 'Français': 5, 'Espagnol': 16, 'Portugais': 2}\n"
     ]
    }
   ],
   "source": [
    "notes[\"Portugais\"] = 2\n",
    "print (notes)"
   ]
  },
  {
   "cell_type": "code",
   "execution_count": 38,
   "id": "a571f958-b1c1-4a83-9703-6b00639746eb",
   "metadata": {},
   "outputs": [
    {
     "name": "stdout",
     "output_type": "stream",
     "text": [
      "{'Histoire': 15, 'Géographie': 18, 'SVT': 6, 'EPS': 20, 'Français': 5, 'Espagnol': 16}\n"
     ]
    }
   ],
   "source": [
    "notes.pop('Portugais')\n",
    "print(notes)"
   ]
  },
  {
   "cell_type": "code",
   "execution_count": 40,
   "id": "04233b61-5b21-490b-ac08-682787537326",
   "metadata": {},
   "outputs": [
    {
     "name": "stdout",
     "output_type": "stream",
     "text": [
      "dict_keys(['Histoire', 'Géographie', 'SVT', 'EPS', 'Français', 'Espagnol'])\n",
      "dict_values([15, 18, 6, 20, 5, 16])\n",
      "{'Histoire': 15, 'Géographie': 18, 'SVT': 6, 'EPS': 20, 'Français': 5, 'Espagnol': 16}\n"
     ]
    }
   ],
   "source": [
    "print (notes.keys())\n",
    "print(notes.values())\n",
    "print (notes)"
   ]
  },
  {
   "cell_type": "code",
   "execution_count": 42,
   "id": "89dcb0fc-54b3-4688-92e5-b4d7308fa91f",
   "metadata": {},
   "outputs": [
    {
     "name": "stdout",
     "output_type": "stream",
     "text": [
      "{}\n"
     ]
    }
   ],
   "source": [
    "mon_dico.clear()\n",
    "print(mon_dico)"
   ]
  },
  {
   "cell_type": "code",
   "execution_count": 46,
   "id": "87b97645-218a-4df8-8469-e91ae77e3791",
   "metadata": {},
   "outputs": [
    {
     "name": "stdout",
     "output_type": "stream",
     "text": [
      "Ma note de Géographie est : \n"
     ]
    },
    {
     "data": {
      "text/plain": [
       "(None, 18)"
      ]
     },
     "execution_count": 46,
     "metadata": {},
     "output_type": "execute_result"
    }
   ],
   "source": [
    "print(\"Ma note de Géographie est : \"), notes[\"Géographie\"]"
   ]
  },
  {
   "cell_type": "code",
   "execution_count": 47,
   "id": "1514c6ff-6562-4aa3-94b3-44d3ab1faaee",
   "metadata": {},
   "outputs": [
    {
     "name": "stdout",
     "output_type": "stream",
     "text": [
      "Note en maths : 15\n",
      "En maths, la note est 15\n",
      "En histoire, la note est 13\n",
      "En anglais, la note est 14\n",
      "En physique, la note est 16\n"
     ]
    }
   ],
   "source": [
    "notes = {\n",
    "    \"maths\": 15,\n",
    "    \"histoire\": 12,\n",
    "    \"anglais\": 14\n",
    "}\n",
    "\n",
    "# Afficher la note en maths\n",
    "print(\"Note en maths :\", notes[\"maths\"])\n",
    "\n",
    "# Ajouter une nouvelle matière\n",
    "notes[\"physique\"] = 16\n",
    "\n",
    "# Modifier une note\n",
    "notes[\"histoire\"] = 13\n",
    "\n",
    "# Parcourir le dictionnaire\n",
    "for matière, note in notes.items():\n",
    "    print(f\"En {matière}, la note est {note}\")\n"
   ]
  },
  {
   "cell_type": "code",
   "execution_count": 50,
   "id": "80ec5291-8000-4608-9d36-c70680e6be5f",
   "metadata": {},
   "outputs": [
    {
     "name": "stdout",
     "output_type": "stream",
     "text": [
      "{'loyer': 500, 'divertissement': 200, 'sante': 100, 'transport': 20}\n"
     ]
    },
    {
     "data": {
      "text/plain": [
       "4"
      ]
     },
     "execution_count": 50,
     "metadata": {},
     "output_type": "execute_result"
    }
   ],
   "source": [
    "depense_mensuelle = {\n",
    "\"loyer\" : 500,\n",
    "\"divertissement\" : 200,\n",
    "\"sante\" : 100,\n",
    "\"transport\" : 20}\n",
    "print(depense_mensuelle)\n",
    "type(depense_mensuelle)\n",
    "len(depense_mensuelle)"
   ]
  },
  {
   "cell_type": "code",
   "execution_count": 52,
   "id": "c6ad416a-5218-4c6f-a311-13c92ebd3b40",
   "metadata": {},
   "outputs": [
    {
     "name": "stdout",
     "output_type": "stream",
     "text": [
      "{'loyer': 500, 'divertissement': 200, 'sante': 100, 'transport': 20, 'nourriture': 300}\n"
     ]
    }
   ],
   "source": [
    "depense_mensuelle[\"nourriture\"] = 300\n",
    "print(depense_mensuelle)"
   ]
  },
  {
   "cell_type": "code",
   "execution_count": 53,
   "id": "b8ca40ad-863b-49c5-b352-4b1e30b8bbc5",
   "metadata": {},
   "outputs": [
    {
     "name": "stdout",
     "output_type": "stream",
     "text": [
      "{'loyer': 500, 'divertissement': 200, 'sante': 100, 'transport': 20, 'nourriture': 300, 'imprévus': 100}\n"
     ]
    }
   ],
   "source": [
    "depense_mensuelle[\"imprévus\"] = 100\n",
    "print(depense_mensuelle)"
   ]
  },
  {
   "cell_type": "code",
   "execution_count": 62,
   "id": "0aff12fc-4290-444b-a5e1-a41213e1d365",
   "metadata": {},
   "outputs": [
    {
     "name": "stdout",
     "output_type": "stream",
     "text": [
      "{'janvier': {'loyer': 500, 'divertissement': 200, 'sante': 100, 'transport': 86, 'nourriture': 300}, 'fevrier': {'loyer': 500, 'divertissement': 100, 'sante': 20, 'transport': 86, 'nourriture': 250}, 'mars': {'loyer': 500, 'divertissement': 80, 'sante': 0, 'transport': 86, 'nourriture': 350}}\n"
     ]
    }
   ],
   "source": [
    "depense_par_mois = {\"janvier\":{\n",
    "\"loyer\" : 500,\n",
    "\"divertissement\" : 200,\n",
    "\"sante\": 100,\n",
    "\"transport\" : 86,\n",
    "\"nourriture\" : 300\n",
    "},\n",
    "\"fevrier\" :{\n",
    "\"loyer\" : 500,\n",
    "\"divertissement\" : 100,\n",
    "\"sante\": 20,\n",
    "\"transport\" : 86,\n",
    "\"nourriture\" : 250\n",
    "},\n",
    "\"mars\" :{\n",
    "\"loyer\" : 500,\n",
    "\"divertissement\" : 80,\n",
    "\"sante\": 0,\n",
    "\"transport\" : 86,\n",
    "\"nourriture\" : 350\n",
    "}\n",
    "}\n",
    "print(depense_par_mois)"
   ]
  },
  {
   "cell_type": "code",
   "execution_count": 64,
   "id": "e4fa85b8-8720-404b-a24c-1f1aafedbee5",
   "metadata": {},
   "outputs": [
    {
     "name": "stdout",
     "output_type": "stream",
     "text": [
      "{'jour': {'lundi': 'sport', 'mardi': 'achat', 'mercredi': 'jeux'}, 'equipe': {'manchester': 'victoire', 'juve': 'nul', 'inter': 'defaite'}}\n"
     ]
    }
   ],
   "source": [
    "mon_dictionnaire = {\n",
    "\"jour\" : {\"lundi\" : \"sport\",\n",
    "\"mardi\" : \"achat\",\n",
    "\"mercredi\" : \"jeux\"\n",
    "},\n",
    "\"equipe\" : {\"manchester\" : \"victoire\",\n",
    "\"juve\" : \"nul\",\n",
    "\"inter\" : \"defaite\"\n",
    "}\n",
    "}\n",
    "print(mon_dictionnaire)"
   ]
  },
  {
   "cell_type": "code",
   "execution_count": 72,
   "id": "c027af80-e7e2-45c6-a32c-9689604ca035",
   "metadata": {},
   "outputs": [
    {
     "name": "stdout",
     "output_type": "stream",
     "text": [
      "{'lundi': {'auchan': 'Fruits', 'leclerc': 'Légumes', 'carrefour': 'salades', 'la halle ': 'chaussures'}, 'mardi': {'marché': 'jeux', 'ca': 'retrait', 'actions': 'livres', 'cora': 'savon'}}\n"
     ]
    }
   ],
   "source": [
    "mes_depenses_quotidiennes = {\n",
    "\"lundi\":{\"auchan\" : \"Fruits\",\n",
    "\"leclerc\" : \"Légumes\",\n",
    "\"carrefour\" : \"salades\",\n",
    "\"la halle \" : \"chaussures\"\n",
    "},\n",
    "\"mardi\" : {\"marché\" : \"jeux\",\n",
    "\"ca\" : \"retrait\",\n",
    "\"actions\" : \"livres\",\n",
    "\"cora\" : \"savon\"\n",
    "}\n",
    "}\n",
    "print(mes_depenses_quotidiennes)\n"
   ]
  },
  {
   "cell_type": "code",
   "execution_count": 74,
   "id": "7875ee91-8856-4226-87ee-f1c67bf65231",
   "metadata": {},
   "outputs": [
    {
     "name": "stdout",
     "output_type": "stream",
     "text": [
      "{'lundi': {'auchan': 'Fruits', 'leclerc': 'Légumes', 'carrefour': 'salades', 'la halle ': 'chaussures', 'ikea': 'meubles'}, 'mardi': {'marché': 'jeux', 'ca': 'retrait', 'actions': 'livres', 'cora': 'savon'}}\n"
     ]
    }
   ],
   "source": [
    "mes_depenses_quotidiennes[\"lundi\"][\"ikea\"] = \"meubles\"\n",
    "print(mes_depenses_quotidiennes)"
   ]
  },
  {
   "cell_type": "code",
   "execution_count": 77,
   "id": "f239bc51-f591-4203-a6b3-5bb4245d2098",
   "metadata": {},
   "outputs": [
    {
     "name": "stdout",
     "output_type": "stream",
     "text": [
      "{'lundi': {'auchan': 'Fruits', 'leclerc': 'Légumes', 'carrefour': 'salades', 'la halle ': 'chaussures', 'ikea': 'meubles'}, 'mardi': {'marché': 'jeux', 'ca': 'retrait', 'actions': 'livres', 'cora': 'savon', 'besson': 'godasses'}}\n"
     ]
    }
   ],
   "source": [
    "mes_depenses_quotidiennes[\"mardi\"][\"besson\"] = \"godasses\"\n",
    "print(mes_depenses_quotidiennes)"
   ]
  },
  {
   "cell_type": "code",
   "execution_count": 84,
   "id": "497c15a5-932c-4cf9-98a8-8790abefbdf2",
   "metadata": {},
   "outputs": [
    {
     "name": "stdout",
     "output_type": "stream",
     "text": [
      "{'lundi': {'leclerc': 'Légumes', 'carrefour': 'salades', 'la halle ': 'chaussures', 'ikea': 'meubles'}, 'mardi': {'marché': 'jeux', 'ca': 'retrait', 'actions': 'livres', 'cora': 'savon'}}\n"
     ]
    }
   ],
   "source": [
    "del mes_depenses_quotidiennes[\"lundi\"][\"auchan\"]\n",
    "print(mes_depenses_quotidiennes)"
   ]
  },
  {
   "cell_type": "code",
   "execution_count": 86,
   "id": "b944c29d-819b-4092-a497-53c1681d639c",
   "metadata": {},
   "outputs": [
    {
     "name": "stdout",
     "output_type": "stream",
     "text": [
      "{'lundi': {'leclerc': 'Légumes', 'carrefour': 'salades', 'la halle ': 'chaussures', 'ikea': 'meubles'}, 'mardi': {'marché': 'jeux', 'ca': 'retrait', 'actions': 'livres'}}\n"
     ]
    }
   ],
   "source": [
    "mes_depenses_quotidiennes[\"mardi\"].pop(\"cora\")\n",
    "print(mes_depenses_quotidiennes)"
   ]
  },
  {
   "cell_type": "code",
   "execution_count": 87,
   "id": "7c3efcd9-6d19-4d3a-83d6-a402971e6bf3",
   "metadata": {},
   "outputs": [
    {
     "name": "stdout",
     "output_type": "stream",
     "text": [
      "{'lundi': {'carrefour': 'salades', 'la halle ': 'chaussures', 'ikea': 'meubles'}, 'mardi': {'marché': 'jeux', 'ca': 'retrait', 'actions': 'livres'}}\n"
     ]
    }
   ],
   "source": [
    "mes_depenses_quotidiennes[\"lundi\"].pop(\"leclerc\")\n",
    "print (mes_depenses_quotidiennes)"
   ]
  },
  {
   "cell_type": "code",
   "execution_count": 88,
   "id": "c695536f-7353-4a92-9b37-9eecd850c713",
   "metadata": {},
   "outputs": [
    {
     "name": "stdout",
     "output_type": "stream",
     "text": [
      "{'lundi': {'la halle ': 'chaussures', 'ikea': 'meubles'}, 'mardi': {'marché': 'jeux', 'ca': 'retrait', 'actions': 'livres'}}\n"
     ]
    }
   ],
   "source": [
    "del mes_depenses_quotidiennes[\"lundi\"][\"carrefour\"]\n",
    "print (mes_depenses_quotidiennes)"
   ]
  },
  {
   "cell_type": "code",
   "execution_count": 89,
   "id": "88d755c3-07d5-4262-9cb0-10d194b3f505",
   "metadata": {},
   "outputs": [
    {
     "data": {
      "text/plain": [
       "2"
      ]
     },
     "execution_count": 89,
     "metadata": {},
     "output_type": "execute_result"
    }
   ],
   "source": [
    "len(mes_depenses_quotidiennes)"
   ]
  },
  {
   "cell_type": "code",
   "execution_count": 90,
   "id": "09b11ede-573b-41df-af60-ff8637432df7",
   "metadata": {},
   "outputs": [
    {
     "data": {
      "text/plain": [
       "dict"
      ]
     },
     "execution_count": 90,
     "metadata": {},
     "output_type": "execute_result"
    }
   ],
   "source": [
    "type(mes_depenses_quotidiennes)"
   ]
  },
  {
   "cell_type": "code",
   "execution_count": 97,
   "id": "553cf4e8-fa7d-4783-85a9-f646243260e4",
   "metadata": {},
   "outputs": [
    {
     "name": "stdout",
     "output_type": "stream",
     "text": [
      "{'transport': 15, 'nourriture': 18, 'divertissement': 10, 'habillement': 17, 'logement': 180}\n"
     ]
    }
   ],
   "source": [
    "depense_jour = {\n",
    "\"transport\" : 15,\n",
    "\"nourriture\" : 18,\n",
    "\"divertissement\" : 10,\n",
    "\"habillement\" : 17,\n",
    "\"logement\" : 180\n",
    "}\n",
    "print (depense_jour)"
   ]
  },
  {
   "cell_type": "code",
   "execution_count": 98,
   "id": "fd1a7790-b6b8-47b7-88b5-da98360b79d9",
   "metadata": {},
   "outputs": [
    {
     "data": {
      "text/plain": [
       "180"
      ]
     },
     "execution_count": 98,
     "metadata": {},
     "output_type": "execute_result"
    }
   ],
   "source": [
    "depense_jour[\"logement\"]"
   ]
  },
  {
   "cell_type": "code",
   "execution_count": 99,
   "id": "8ede213f-f845-4b58-8164-d6a356d8f488",
   "metadata": {},
   "outputs": [
    {
     "data": {
      "text/plain": [
       "15"
      ]
     },
     "execution_count": 99,
     "metadata": {},
     "output_type": "execute_result"
    }
   ],
   "source": [
    "depense_jour[\"transport\"]"
   ]
  },
  {
   "cell_type": "code",
   "execution_count": 105,
   "id": "fb85b921-c65a-47ff-99cc-0d7216d40314",
   "metadata": {},
   "outputs": [
    {
     "name": "stdout",
     "output_type": "stream",
     "text": [
      "15\n",
      "180\n",
      "18\n"
     ]
    }
   ],
   "source": [
    "transport = depense_jour[\"transport\"]\n",
    "logement = depense_jour [\"logement\"]\n",
    "nourriture = depense_jour[\"nourriture\"]\n",
    "print (transport)\n",
    "print(logement)\n",
    "print(nourriture)"
   ]
  },
  {
   "cell_type": "code",
   "execution_count": 110,
   "id": "98f5d285-ab1c-4ae8-97f9-ad73cb0f2702",
   "metadata": {},
   "outputs": [
    {
     "data": {
      "text/plain": [
       "180"
      ]
     },
     "execution_count": 110,
     "metadata": {},
     "output_type": "execute_result"
    }
   ],
   "source": [
    "logement = depense_jour.get(\"logement\")\n",
    "logement"
   ]
  },
  {
   "cell_type": "code",
   "execution_count": 113,
   "id": "b9e8aff4-99c4-4742-92b3-4cc7a68cc67a",
   "metadata": {},
   "outputs": [
    {
     "name": "stdout",
     "output_type": "stream",
     "text": [
      "None\n"
     ]
    }
   ],
   "source": [
    "kolda = depense_jour.get(\"kolda\")\n",
    "print(kolda)"
   ]
  },
  {
   "cell_type": "code",
   "execution_count": 118,
   "id": "305c2023-99bf-426a-9d41-f55a45674a34",
   "metadata": {},
   "outputs": [
    {
     "data": {
      "text/plain": [
       "dict_values([15, 18, 10, 17, 180])"
      ]
     },
     "execution_count": 118,
     "metadata": {},
     "output_type": "execute_result"
    }
   ],
   "source": [
    "depense_jour.values()\n"
   ]
  },
  {
   "cell_type": "code",
   "execution_count": 119,
   "id": "fc5d9583-6fba-499a-a118-b21a8950ab99",
   "metadata": {},
   "outputs": [
    {
     "name": "stdout",
     "output_type": "stream",
     "text": [
      "{'transport': 15, 'nourriture': 18, 'divertissement': 10, 'habillement': 17, 'logement': 180, 'loyer': 600}\n"
     ]
    }
   ],
   "source": [
    "depense_jour[\"loyer\"] = 600\n",
    "print (depense_jour)"
   ]
  },
  {
   "cell_type": "code",
   "execution_count": 121,
   "id": "7d3e8355-c0ba-4d41-9ff3-8aa0c7270324",
   "metadata": {},
   "outputs": [
    {
     "name": "stdout",
     "output_type": "stream",
     "text": [
      "{'transport': 15, 'nourriture': 18, 'divertissement': 10, 'habillement': 17, 'logement': 180, 'loyer': 600, 'cadeaux': 180}\n"
     ]
    }
   ],
   "source": [
    "depense_jour [\"cadeaux\"] = 180\n",
    "print (depense_jour)"
   ]
  },
  {
   "cell_type": "code",
   "execution_count": 122,
   "id": "6903a5fa-a9f3-4ce7-a0fd-12f3d86609d5",
   "metadata": {},
   "outputs": [
    {
     "name": "stdout",
     "output_type": "stream",
     "text": [
      "{'transport': 15, 'nourriture': 18, 'divertissement': 10, 'habillement': 17, 'logement': 180, 'loyer': 600}\n"
     ]
    }
   ],
   "source": [
    "depense_jour.pop(\"cadeaux\")\n",
    "print(depense_jour)"
   ]
  },
  {
   "cell_type": "code",
   "execution_count": 123,
   "id": "736f5ebd-148a-451a-9bc3-17a6e68366f5",
   "metadata": {},
   "outputs": [
    {
     "name": "stdout",
     "output_type": "stream",
     "text": [
      "{'nourriture': 18, 'divertissement': 10, 'habillement': 17, 'logement': 180, 'loyer': 600}\n"
     ]
    }
   ],
   "source": [
    "del depense_jour[\"transport\"]\n",
    "print (depense_jour)"
   ]
  },
  {
   "cell_type": "code",
   "execution_count": 124,
   "id": "bf452bc0-a701-4dae-a5cd-e0f24cdac27c",
   "metadata": {},
   "outputs": [
    {
     "name": "stdout",
     "output_type": "stream",
     "text": [
      "nourriture\n",
      "divertissement\n",
      "habillement\n",
      "logement\n",
      "loyer\n"
     ]
    }
   ],
   "source": [
    "for i in depense_jour.keys():\n",
    "    print(i)"
   ]
  },
  {
   "cell_type": "code",
   "execution_count": 127,
   "id": "ab7d31b5-00c3-465a-b13b-2f30b41f1057",
   "metadata": {},
   "outputs": [
    {
     "name": "stdout",
     "output_type": "stream",
     "text": [
      "500\n",
      "200\n",
      "100\n",
      "20\n",
      "300\n",
      "100\n"
     ]
    }
   ],
   "source": [
    "for i in depense_mensuelle.values():\n",
    "    print(i)"
   ]
  },
  {
   "cell_type": "code",
   "execution_count": 129,
   "id": "9b8f1674-c69d-49a3-806f-940e16c6f9ec",
   "metadata": {},
   "outputs": [
    {
     "name": "stdout",
     "output_type": "stream",
     "text": [
      "loyer\n",
      "transport\n",
      "nourriture\n",
      "santé\n",
      "500\n",
      "86\n",
      "300\n",
      "100\n",
      "loyer: 500\n",
      "transport: 86\n",
      "nourriture: 300\n",
      "santé: 100\n"
     ]
    }
   ],
   "source": [
    "depense_mensuelle = {\n",
    "    \"loyer\": 500,\n",
    "    \"transport\": 86,\n",
    "    \"nourriture\": 300,\n",
    "    \"santé\": 100\n",
    "}\n",
    "\n",
    "# Parcourir les clés\n",
    "for categorie in depense_mensuelle:\n",
    "    print(categorie)\n",
    "\n",
    "# Parcourir les valeurs\n",
    "for montant in depense_mensuelle.values():\n",
    "    print(montant)\n",
    "\n",
    "# Parcourir clés et valeurs\n",
    "for categorie, montant in depense_mensuelle.items():\n",
    "    print(f\"{categorie}: {montant}\")\n"
   ]
  },
  {
   "cell_type": "code",
   "execution_count": 133,
   "id": "5c317793-11d0-4c7c-91f2-df0f7f74e44d",
   "metadata": {},
   "outputs": [
    {
     "name": "stdout",
     "output_type": "stream",
     "text": [
      "Ceci est la clé :  loyer Ceci est la valeur :  500\n",
      "Ceci est la clé :  transport Ceci est la valeur :  86\n",
      "Ceci est la clé :  nourriture Ceci est la valeur :  300\n",
      "Ceci est la clé :  santé Ceci est la valeur :  100\n"
     ]
    }
   ],
   "source": [
    "for c, v in depense_mensuelle.items():\n",
    "    print(\"Ceci est la clé : \", c, \"Ceci est la valeur : \", v)"
   ]
  },
  {
   "cell_type": "code",
   "execution_count": 148,
   "id": "dee06d19-529b-441c-b9eb-4044a4cca718",
   "metadata": {},
   "outputs": [
    {
     "name": "stdout",
     "output_type": "stream",
     "text": [
      "[0, 1, 4, 9, 16, 25, 36, 49, 64, 81, 100, 121, 144, 169, 196, 225, 256, 289, 324, 361, 400, 441, 484, 529, 576, 625, 676, 729, 784, 841, 900, 961, 1024, 1089, 1156, 1225, 1296, 1369, 1444, 1521, 1600, 1681, 1764, 1849, 1936, 2025, 2116, 2209, 2304, 2401, 2500, 2601, 2704, 2809, 2916, 3025, 3136, 3249, 3364, 3481, 3600, 3721, 3844, 3969, 4096, 4225, 4356, 4489, 4624, 4761, 4900, 5041, 5184, 5329, 5476, 5625, 5776, 5929, 6084, 6241, 6400, 6561, 6724, 6889, 7056, 7225, 7396, 7569, 7744, 7921, 8100, 8281, 8464, 8649, 8836, 9025, 9216, 9409, 9604, 9801]\n"
     ]
    }
   ],
   "source": [
    "#creer la liste au carré des nombres de 0 à 99\n",
    "carre = []\n",
    "for i in range(100):\n",
    "        carre.append(i ** 2)\n",
    "print(carre)\n",
    "\n",
    "        "
   ]
  },
  {
   "cell_type": "code",
   "execution_count": 153,
   "id": "d376ff7c-b83a-455b-9caa-e42bcad2c9dc",
   "metadata": {},
   "outputs": [
    {
     "name": "stdout",
     "output_type": "stream",
     "text": [
      "[0, 1, 4, 9, 16, 25, 36, 49, 64, 81, 100, 121, 144, 169, 196, 225, 256, 289, 324, 361, 400, 441, 484, 529, 576, 625, 676, 729, 784, 841, 900, 961, 1024, 1089, 1156, 1225, 1296, 1369, 1444, 1521, 1600, 1681, 1764, 1849, 1936, 2025, 2116, 2209, 2304, 2401, 2500, 2601, 2704, 2809, 2916, 3025, 3136, 3249, 3364, 3481, 3600, 3721, 3844, 3969, 4096, 4225, 4356, 4489, 4624, 4761, 4900, 5041, 5184, 5329, 5476, 5625, 5776, 5929, 6084, 6241, 6400, 6561, 6724, 6889, 7056, 7225, 7396, 7569, 7744, 7921, 8100, 8281, 8464, 8649, 8836, 9025, 9216, 9409, 9604, 9801]\n"
     ]
    }
   ],
   "source": [
    "liste_carre = [x ** 2 for x in range(100)]\n",
    "print(liste_carre)"
   ]
  },
  {
   "cell_type": "code",
   "execution_count": 157,
   "id": "6e1383cb-250d-4437-9f6a-213b30f329eb",
   "metadata": {},
   "outputs": [
    {
     "name": "stdout",
     "output_type": "stream",
     "text": [
      "[0, 1, 8, 27, 64]\n"
     ]
    }
   ],
   "source": [
    "liste_puissance_trois =[ x **3 for x in range(5)]\n",
    "print(liste_puissance_trois)"
   ]
  },
  {
   "cell_type": "code",
   "execution_count": 167,
   "id": "1fcc102f-ea2c-4aaf-9302-0a8a96376309",
   "metadata": {},
   "outputs": [
    {
     "name": "stdout",
     "output_type": "stream",
     "text": [
      "[0, 4, 16, 36, 64, 100, 144, 196, 256, 324, 400]\n"
     ]
    }
   ],
   "source": [
    "nbre_pair =  [x ** 2 for x in range(21) if x % 2 == 0]\n",
    "print(carre_nbre_pair)"
   ]
  },
  {
   "cell_type": "code",
   "execution_count": 169,
   "id": "996ea64c-bced-41e4-ad5f-638650701366",
   "metadata": {},
   "outputs": [
    {
     "name": "stdout",
     "output_type": "stream",
     "text": [
      "[0, 27, 216, 729]\n"
     ]
    }
   ],
   "source": [
    "triple = [x**3 for x in range(11) if x % 3 == 0]\n",
    "print(triple)"
   ]
  },
  {
   "cell_type": "code",
   "execution_count": 171,
   "id": "6b2e7dd0-f70c-4121-bd1a-9e565470b1c5",
   "metadata": {},
   "outputs": [
    {
     "name": "stdout",
     "output_type": "stream",
     "text": [
      "['Mamadou', 'Seydou', 'Fatou', 'Aliou']\n"
     ]
    }
   ],
   "source": [
    "liste_maj = [\"Mamadou\", \"Seydou\", \"Fatou\", \"Aliou\"]\n",
    "print(liste_maj)\n",
    "\n"
   ]
  },
  {
   "cell_type": "code",
   "execution_count": 173,
   "id": "7abf1e7d-0b83-4093-aa8c-5f773982277e",
   "metadata": {},
   "outputs": [
    {
     "name": "stdout",
     "output_type": "stream",
     "text": [
      "['MAMADOU', 'SEYDOU', 'FATOU', 'ALIOU']\n"
     ]
    }
   ],
   "source": [
    "liste_maj = [\"Mamadou\", \"Seydou\", \"Fatou\", \"Aliou\"]\n",
    "\n",
    "# Transformer chaque élément en majuscule\n",
    "liste_maj = [nom.upper() for nom in liste_maj]\n",
    "\n",
    "print(liste_maj)\n"
   ]
  },
  {
   "cell_type": "code",
   "execution_count": 174,
   "id": "dc5aa900-06c9-4d80-bf98-73fb79436709",
   "metadata": {},
   "outputs": [],
   "source": [
    "liste_majuscule = [\"Malang\", \"Thiotaye\",\"Diedhiou\"]"
   ]
  },
  {
   "cell_type": "code",
   "execution_count": 175,
   "id": "08ad93d9-85d5-42c5-8576-0ffb599d4c3a",
   "metadata": {},
   "outputs": [
    {
     "name": "stdout",
     "output_type": "stream",
     "text": [
      "['MALANG', 'THIOTAYE', 'DIEDHIOU']\n"
     ]
    }
   ],
   "source": [
    "liste_majuscule = [x.upper() for x in liste_majuscule]\n",
    "print(liste_majuscule)"
   ]
  },
  {
   "cell_type": "code",
   "execution_count": 177,
   "id": "31010c10-87ac-4a2d-8cf1-c3d2afe12bd4",
   "metadata": {},
   "outputs": [
    {
     "name": "stdout",
     "output_type": "stream",
     "text": [
      "['Saliou', 'Bobo', 'Tante']\n"
     ]
    }
   ],
   "source": [
    "elements_min = [\"Saliou\", \"Bobo\", \"Tante\"]\n",
    "print(elements_min)"
   ]
  },
  {
   "cell_type": "code",
   "execution_count": 178,
   "id": "976d6e26-1be9-472a-a2a5-a8eabd352d4d",
   "metadata": {},
   "outputs": [
    {
     "name": "stdout",
     "output_type": "stream",
     "text": [
      "['saliou', 'bobo', 'tante']\n"
     ]
    }
   ],
   "source": [
    "elements_min = [x.lower() for x in elements_min]\n",
    "print(elements_min)"
   ]
  },
  {
   "cell_type": "code",
   "execution_count": 172,
   "id": "a76b360a-8505-4c95-a958-323fb8f6128b",
   "metadata": {},
   "outputs": [
    {
     "data": {
      "text/plain": [
       "list"
      ]
     },
     "execution_count": 172,
     "metadata": {},
     "output_type": "execute_result"
    }
   ],
   "source": [
    "type(liste_maj)"
   ]
  },
  {
   "cell_type": "code",
   "execution_count": 166,
   "id": "5c91ad38-b0fe-4527-9135-d82270c7520d",
   "metadata": {},
   "outputs": [
    {
     "name": "stdout",
     "output_type": "stream",
     "text": [
      "[0, 4, 16, 36, 64, 100, 144, 196, 256, 324, 400]\n"
     ]
    }
   ],
   "source": [
    "carre_nbre_pair = [i ** 2 for i in range(21) if i % 2 == 0]\n",
    "print(carre_nbre_pair)\n"
   ]
  },
  {
   "cell_type": "code",
   "execution_count": 179,
   "id": "fa5ac9f5-d7dc-4e71-888c-ca606448f870",
   "metadata": {},
   "outputs": [
    {
     "name": "stdout",
     "output_type": "stream",
     "text": [
      "['Bonjour', 'le', 'monde', 'python', 'est', 'genial']\n"
     ]
    }
   ],
   "source": [
    "mots = [\"Bonjour\", \"le\", \"monde\", \"python\", \"est\", \"genial\"]\n",
    "print(mots)"
   ]
  },
  {
   "cell_type": "code",
   "execution_count": 182,
   "id": "d21c2d09-dd03-4eb4-9f93-5bfd60860737",
   "metadata": {},
   "outputs": [
    {
     "name": "stdout",
     "output_type": "stream",
     "text": [
      "['Bonjour', 'monde', 'python', 'genial']\n"
     ]
    }
   ],
   "source": [
    "mots = [\"Bonjour\", \"le\", \"monde\", \"python\", \"est\", \"genial\"]\n",
    "\n",
    "# Liste de mots avec plus de 3 lettres\n",
    "mots_plus_de_3_lettres = [mot for mot in mots if len(mot) > 3]\n",
    "\n",
    "print(mots_plus_de_3_lettres)\n"
   ]
  },
  {
   "cell_type": "code",
   "execution_count": null,
   "id": "608fee9d-cd47-469b-bae6-6879a5650e08",
   "metadata": {},
   "outputs": [],
   "source": []
  },
  {
   "cell_type": "code",
   "execution_count": null,
   "id": "36e9f459-d13c-41af-b38b-359b70dc0fdc",
   "metadata": {},
   "outputs": [],
   "source": [
    "nom = input(\"Quel est ton nom\")\n",
    "age = input(\"Quel est ton age\")\n",
    "print(\"Vous vous appelez\" + nom + \"et vous avez : \" + age + \"ans\" )"
   ]
  },
  {
   "cell_type": "raw",
   "id": "5aff7591-199c-440e-9dcf-50aa69b80496",
   "metadata": {},
   "source": [
    "nom = input(\"Quel est ton nom\")\n",
    "age = input(\"Quel est ton age\")\n",
    "print(\"Vous vous appelez\" + nom + \"et vous avez : \" + age )"
   ]
  },
  {
   "cell_type": "code",
   "execution_count": null,
   "id": "e1979ebc-dccb-4c1f-8c04-dfb726ae67c1",
   "metadata": {},
   "outputs": [],
   "source": [
    "nom = input(\"Quel est ton nom\")\n",
    "age = input(\"Quel est ton age\")\n",
    "print(\"Vous vous appelez\" + nom + \"et vous avez : \" + age )"
   ]
  },
  {
   "cell_type": "code",
   "execution_count": null,
   "id": "d129ddd1-ff29-4b43-8bbf-13f2c82793ba",
   "metadata": {},
   "outputs": [],
   "source": [
    "ville = \"Kolda\"\n",
    "temperature = 45\n",
    "resultat = \"La température à {} est de {}\".format(ville, temperature)\n",
    "print(resultat)"
   ]
  },
  {
   "cell_type": "code",
   "execution_count": null,
   "id": "cc1743eb-30af-41fa-a08a-04b1cda736f7",
   "metadata": {},
   "outputs": [],
   "source": [
    "ville = \"Kolda\"\n",
    "temperature = 45\n",
    "resultat = \"La température à {} est de {}\".format(ville, temperature)\n",
    "print(resultat)\n"
   ]
  },
  {
   "cell_type": "code",
   "execution_count": 6,
   "id": "06ba40e0-f236-4d8c-acaf-932f853e0fef",
   "metadata": {},
   "outputs": [
    {
     "name": "stdout",
     "output_type": "stream",
     "text": [
      "Votre poids est de 10 kg et vous avez une taille de 1.5 mètre\n"
     ]
    }
   ],
   "source": [
    "poids = 10\n",
    "taille = 1.5\n",
    "resultat =  f\"Votre poids est de {poids} kg et vous avez une taille de {taille} mètre\"\n",
    "print (resultat)"
   ]
  },
  {
   "cell_type": "code",
   "execution_count": 12,
   "id": "61147646-4426-4e63-b122-ee908d254652",
   "metadata": {},
   "outputs": [
    {
     "name": "stdout",
     "output_type": "stream",
     "text": [
      "Votre poids est de 10 kg et vous mesurez 1.5 mètre\n"
     ]
    }
   ],
   "source": [
    "poids = 10\n",
    "taille = 1.5\n",
    "resultat = \"Votre poids est de {} kg et vous mesurez {} mètre\".format(poids, taille)\n",
    "print(resultat)"
   ]
  },
  {
   "cell_type": "code",
   "execution_count": 17,
   "id": "4a4227ac-7b51-45fa-8fd8-7fc866251e8d",
   "metadata": {},
   "outputs": [
    {
     "name": "stdout",
     "output_type": "stream",
     "text": [
      "Votre ville Paris se situe à une distance de 85 km\n"
     ]
    }
   ],
   "source": [
    "Distance = 85\n",
    "ville = \"Paris\"\n",
    "result = \"Votre ville {} se situe à une distance de {} km\".format(ville, Distance)\n",
    "print (result)"
   ]
  },
  {
   "cell_type": "code",
   "execution_count": 19,
   "id": "e35fa51d-1474-4a51-a1cd-cc8d4a3f0bb9",
   "metadata": {},
   "outputs": [
    {
     "name": "stdout",
     "output_type": "stream",
     "text": [
      "Votre ville Paris se situe à 85 km\n"
     ]
    }
   ],
   "source": [
    "Distance = 85\n",
    "ville = \"Paris\"\n",
    "result = f\"Votre ville {ville} se situe à {Distance} km\"\n",
    "print (result)"
   ]
  },
  {
   "cell_type": "code",
   "execution_count": 24,
   "id": "75a0722d-a7e5-44c2-b1b8-edc9dad4153f",
   "metadata": {},
   "outputs": [],
   "source": [
    "import description_stats as desc"
   ]
  },
  {
   "cell_type": "code",
   "execution_count": 25,
   "id": "edee471f-3a8d-43ce-ab3d-ebb855bc8d38",
   "metadata": {},
   "outputs": [],
   "source": [
    "CA = [3000, 4000, 5000, 8000, 10000]"
   ]
  },
  {
   "cell_type": "code",
   "execution_count": 26,
   "id": "ac516b04-a188-4977-b061-a178af3a7ccc",
   "metadata": {},
   "outputs": [
    {
     "data": {
      "text/plain": [
       "30000"
      ]
     },
     "execution_count": 26,
     "metadata": {},
     "output_type": "execute_result"
    }
   ],
   "source": [
    "desc.somme_element(CA)"
   ]
  },
  {
   "cell_type": "code",
   "execution_count": 27,
   "id": "a72d1534-74af-4692-b2af-557e4042520a",
   "metadata": {},
   "outputs": [
    {
     "data": {
      "text/plain": [
       "{'Somme': 30000, 'Min': 3000, 'Max': 10000, 'Moyenne': 6000.0}"
      ]
     },
     "execution_count": 27,
     "metadata": {},
     "output_type": "execute_result"
    }
   ],
   "source": [
    "desc.stat_descriptives(CA)"
   ]
  },
  {
   "cell_type": "code",
   "execution_count": 28,
   "id": "04aafbba-73f5-40f6-9cfa-037553b50198",
   "metadata": {},
   "outputs": [],
   "source": [
    "from description_stats import stat_descriptives"
   ]
  },
  {
   "cell_type": "code",
   "execution_count": 30,
   "id": "16ff73db-3b23-48a2-ba09-c1503df334ab",
   "metadata": {},
   "outputs": [
    {
     "data": {
      "text/plain": [
       "{'Somme': 30000, 'Min': 3000, 'Max': 10000, 'Moyenne': 6000.0}"
      ]
     },
     "execution_count": 30,
     "metadata": {},
     "output_type": "execute_result"
    }
   ],
   "source": [
    "stat_descriptives(CA)"
   ]
  },
  {
   "cell_type": "code",
   "execution_count": 31,
   "id": "588f5ed4-8286-47bf-a577-d5952137e273",
   "metadata": {},
   "outputs": [],
   "source": [
    "import math"
   ]
  },
  {
   "cell_type": "code",
   "execution_count": 38,
   "id": "544be168-d222-4e94-a8c8-4ddef6ca7023",
   "metadata": {},
   "outputs": [
    {
     "name": "stdout",
     "output_type": "stream",
     "text": [
      "Le sinus est:  0.8939966636005579\n",
      "Le Cos est :  -0.4480736161291701\n",
      "La puissance est :  7.38905609893065\n"
     ]
    }
   ],
   "source": [
    "print (\"Le sinus est: \" ,math.sin(90))\n",
    "print (\"Le Cos est : \", math.cos(90))\n",
    "print (\"La puissance est : \", math.exp(2))"
   ]
  },
  {
   "cell_type": "code",
   "execution_count": 45,
   "id": "e7dd4680-b334-4fe4-9a9c-14f528233330",
   "metadata": {},
   "outputs": [],
   "source": [
    "import mes_statistiques_descriptives as mes_stats"
   ]
  },
  {
   "cell_type": "code",
   "execution_count": 43,
   "id": "3546357f-c64e-4df0-93c0-3cf5d60e404e",
   "metadata": {},
   "outputs": [],
   "source": [
    "mes_elements = [25, 35, 45, 100, 18, 35]\n"
   ]
  },
  {
   "cell_type": "code",
   "execution_count": 48,
   "id": "e287001f-da80-496e-b18c-9f5c5db44e32",
   "metadata": {},
   "outputs": [
    {
     "data": {
      "text/plain": [
       "100"
      ]
     },
     "execution_count": 48,
     "metadata": {},
     "output_type": "execute_result"
    }
   ],
   "source": [
    "mes_stats.maximum_element(mes_elements)"
   ]
  },
  {
   "cell_type": "code",
   "execution_count": 50,
   "id": "f05535f6-b647-4720-a5bd-3b6cbd4d2a43",
   "metadata": {},
   "outputs": [],
   "source": [
    "from mes_statistiques_descriptives import mes_statistiques_descriptives as mes_stats"
   ]
  },
  {
   "cell_type": "code",
   "execution_count": 51,
   "id": "713f9b90-5933-444c-9beb-c3545272a782",
   "metadata": {},
   "outputs": [
    {
     "data": {
      "text/plain": [
       "{'Somme': 258, 'Moyenne': 43.0, 'Minimum': 18, 'Maximum': 100}"
      ]
     },
     "execution_count": 51,
     "metadata": {},
     "output_type": "execute_result"
    }
   ],
   "source": [
    "mes_stats(mes_elements)"
   ]
  },
  {
   "cell_type": "code",
   "execution_count": 55,
   "id": "e5e896cd-a536-4992-8b11-b28769b90c35",
   "metadata": {},
   "outputs": [],
   "source": [
    "import statistics as stats "
   ]
  },
  {
   "cell_type": "code",
   "execution_count": 56,
   "id": "15c08470-9ceb-4fd2-b884-477d4ce09bbe",
   "metadata": {},
   "outputs": [
    {
     "data": {
      "text/plain": [
       "43"
      ]
     },
     "execution_count": 56,
     "metadata": {},
     "output_type": "execute_result"
    }
   ],
   "source": [
    "stats.mean(mes_elements)"
   ]
  },
  {
   "cell_type": "code",
   "execution_count": 58,
   "id": "a30e5e32-2361-42c4-9c98-6aef2289cc69",
   "metadata": {},
   "outputs": [
    {
     "data": {
      "text/plain": [
       "258.0"
      ]
     },
     "execution_count": 58,
     "metadata": {},
     "output_type": "execute_result"
    }
   ],
   "source": [
    "stats.fsum(mes_elements)"
   ]
  },
  {
   "cell_type": "code",
   "execution_count": 149,
   "id": "e5706166-083e-45c2-aac5-812248531fd3",
   "metadata": {},
   "outputs": [
    {
     "name": "stdout",
     "output_type": "stream",
     "text": [
      "['Papis', 'Mame', 'Awa', 'Saliou', 'Gueye', 'Fatou', 'Awa', 'Thioro', 'Oulimata', 'Mamadou']\n"
     ]
    }
   ],
   "source": [
    "ma_liste_de_nom = [\"Papis\", \"Mame\", \"Awa\", \"Saliou\",\"Gueye\", \"Fatou\", \"Awa\", \"Thioro\", \"Oulimata\", \"Mamadou\"]\n",
    "print (ma_liste_de_nom)"
   ]
  },
  {
   "cell_type": "code",
   "execution_count": null,
   "id": "6203404c-b985-404a-ade9-91405bc302d3",
   "metadata": {},
   "outputs": [],
   "source": []
  },
  {
   "cell_type": "code",
   "execution_count": 64,
   "id": "008febc8-20d4-40a1-8b89-4915cc83e8c5",
   "metadata": {},
   "outputs": [],
   "source": [
    "import random "
   ]
  },
  {
   "cell_type": "code",
   "execution_count": 72,
   "id": "fe47ac08-46dd-42ff-9b04-f030584724c5",
   "metadata": {},
   "outputs": [],
   "source": [
    "liste_au_hasard = random.choice(ma_liste_de_nom)"
   ]
  },
  {
   "cell_type": "code",
   "execution_count": 86,
   "id": "bba2e85b-839a-4f7c-98db-37e616026a10",
   "metadata": {},
   "outputs": [
    {
     "data": {
      "text/plain": [
       "['Fatou']"
      ]
     },
     "execution_count": 86,
     "metadata": {},
     "output_type": "execute_result"
    }
   ],
   "source": [
    "random.seed(22242)\n",
    "ma_liste_de_nom = [\"Papis\", \"Mame\", \"Awa\", \"Saliou\",\"Gueye\", \"Fatou\", \"Awa\", \"Thioro\", \"Oulimata\", \"Mamadou\"]\n",
    "random.choices(ma_liste_de_nom)"
   ]
  },
  {
   "cell_type": "code",
   "execution_count": 103,
   "id": "3981b6d9-7ee2-492e-b066-5e6f51890e33",
   "metadata": {},
   "outputs": [
    {
     "data": {
      "text/plain": [
       "['Gueye', 'Thioro', 'Awa']"
      ]
     },
     "execution_count": 103,
     "metadata": {},
     "output_type": "execute_result"
    }
   ],
   "source": [
    "random.seed(22222)\n",
    "ma_liste_de_nom = [\"Papis\", \"Mame\", \"Awa\", \"Saliou\",\"Gueye\", \"Fatou\", \"Awa\", \"Thioro\", \"Oulimata\", \"Mamadou\"]\n",
    "random.choices(ma_liste_de_nom)\n",
    "random.sample(ma_liste_de_nom, 3)"
   ]
  },
  {
   "cell_type": "code",
   "execution_count": 107,
   "id": "1fc53008-aba2-4f8b-803b-7987037295ba",
   "metadata": {},
   "outputs": [
    {
     "data": {
      "text/plain": [
       "0.22755198173732494"
      ]
     },
     "execution_count": 107,
     "metadata": {},
     "output_type": "execute_result"
    }
   ],
   "source": [
    "#Donne un nombre aléatoire en 0 et 1\n",
    "random.random()"
   ]
  },
  {
   "cell_type": "code",
   "execution_count": 131,
   "id": "78166856-4b7e-4c82-8619-db458eb9c164",
   "metadata": {},
   "outputs": [
    {
     "data": {
      "text/plain": [
       "10"
      ]
     },
     "execution_count": 131,
     "metadata": {},
     "output_type": "execute_result"
    }
   ],
   "source": [
    "# Donner une valeur aléatoire entre  1 et 10 inclus\n",
    "random.randint(1,10)"
   ]
  },
  {
   "cell_type": "code",
   "execution_count": 142,
   "id": "304e1829-d8bf-4308-8a05-31ef58fbca0c",
   "metadata": {},
   "outputs": [
    {
     "data": {
      "text/plain": [
       "90"
      ]
     },
     "execution_count": 142,
     "metadata": {},
     "output_type": "execute_result"
    }
   ],
   "source": [
    "# Donner une valeur dans un intervalle compris entre borne inférieure, borne supérieure exclue et pas \n",
    "random.randrange(0,101, 10)"
   ]
  },
  {
   "cell_type": "code",
   "execution_count": 162,
   "id": "d51b61b3-5977-43e2-9ad2-cc91c4db3f15",
   "metadata": {},
   "outputs": [
    {
     "name": "stdout",
     "output_type": "stream",
     "text": [
      "['Papis', 'Gueye', 'Mamadou', 'Saliou', 'Awa', 'Thioro', 'Mame', 'Fatou', 'Oulimata', 'Awa']\n"
     ]
    }
   ],
   "source": [
    "# change la position dans la liste\n",
    "random.shuffle(ma_liste_de_nom)\n",
    "print (ma_liste_de_nom)"
   ]
  },
  {
   "cell_type": "code",
   "execution_count": 175,
   "id": "52c24f49-f912-46ab-9751-2e02c5ba1b04",
   "metadata": {},
   "outputs": [],
   "source": [
    "import math"
   ]
  },
  {
   "cell_type": "code",
   "execution_count": null,
   "id": "0d753cf2-672b-4c17-ae73-a232fe8c0659",
   "metadata": {},
   "outputs": [],
   "source": [
    "math.ma_liste_de_nom"
   ]
  },
  {
   "cell_type": "code",
   "execution_count": 176,
   "id": "3d39f832-6972-4094-a4fa-8ec9567a9a9b",
   "metadata": {},
   "outputs": [
    {
     "name": "stdout",
     "output_type": "stream",
     "text": [
      "Package                           Version\n",
      "--------------------------------- ------------\n",
      "aiobotocore                       2.7.0\n",
      "aiohttp                           3.9.3\n",
      "aioitertools                      0.7.1\n",
      "aiosignal                         1.2.0\n",
      "alabaster                         0.7.12\n",
      "altair                            5.0.1\n",
      "anaconda-anon-usage               0.4.3\n",
      "anaconda-catalogs                 0.2.0\n",
      "anaconda-client                   1.12.3\n",
      "anaconda-cloud-auth               0.1.4\n",
      "anaconda-navigator                2.5.2\n",
      "anaconda-project                  0.11.1\n",
      "anyio                             4.2.0\n",
      "appdirs                           1.4.4\n",
      "archspec                          0.2.3\n",
      "argon2-cffi                       21.3.0\n",
      "argon2-cffi-bindings              21.2.0\n",
      "arrow                             1.2.3\n",
      "astroid                           2.14.2\n",
      "astropy                           5.3.4\n",
      "asttokens                         2.0.5\n",
      "async-lru                         2.0.4\n",
      "atomicwrites                      1.4.0\n",
      "attrs                             23.1.0\n",
      "Automat                           20.2.0\n",
      "autopep8                          1.6.0\n",
      "Babel                             2.11.0\n",
      "backports.functools-lru-cache     1.6.4\n",
      "backports.tempfile                1.0\n",
      "backports.weakref                 1.0.post1\n",
      "bcrypt                            3.2.0\n",
      "beautifulsoup4                    4.12.2\n",
      "binaryornot                       0.4.4\n",
      "black                             23.11.0\n",
      "bleach                            4.1.0\n",
      "blinker                           1.6.2\n",
      "bokeh                             3.3.4\n",
      "boltons                           23.0.0\n",
      "botocore                          1.31.64\n",
      "Bottleneck                        1.3.7\n",
      "Brotli                            1.0.9\n",
      "cachetools                        4.2.2\n",
      "certifi                           2024.8.30\n",
      "cffi                              1.16.0\n",
      "chardet                           4.0.0\n",
      "charset-normalizer                2.0.4\n",
      "click                             8.1.7\n",
      "cloudpickle                       2.2.1\n",
      "clyent                            1.2.2\n",
      "colorama                          0.4.6\n",
      "colorcet                          3.0.1\n",
      "comm                              0.1.2\n",
      "conda                             24.9.2\n",
      "conda-build                       24.1.2\n",
      "conda-content-trust               0.2.0\n",
      "conda_index                       0.4.0\n",
      "conda-libmamba-solver             24.1.0\n",
      "conda-pack                        0.6.0\n",
      "conda-package-handling            2.2.0\n",
      "conda_package_streaming           0.9.0\n",
      "conda-repo-cli                    1.0.75\n",
      "conda-token                       0.4.0\n",
      "conda-verify                      3.4.2\n",
      "constantly                        23.10.4\n",
      "contourpy                         1.2.0\n",
      "cookiecutter                      2.5.0\n",
      "cryptography                      42.0.2\n",
      "cssselect                         1.2.0\n",
      "cycler                            0.11.0\n",
      "cytoolz                           0.12.2\n",
      "dask                              2023.11.0\n",
      "datashader                        0.16.0\n",
      "debugpy                           1.6.7\n",
      "decorator                         5.1.1\n",
      "defusedxml                        0.7.1\n",
      "diff-match-patch                  20200713\n",
      "dill                              0.3.7\n",
      "distributed                       2023.11.0\n",
      "distro                            1.8.0\n",
      "docstring-to-markdown             0.11\n",
      "docutils                          0.18.1\n",
      "entrypoints                       0.4\n",
      "et-xmlfile                        1.1.0\n",
      "executing                         0.8.3\n",
      "fastjsonschema                    2.16.2\n",
      "filelock                          3.13.1\n",
      "flake8                            6.0.0\n",
      "Flask                             2.2.5\n",
      "fonttools                         4.25.0\n",
      "fqdn                              1.5.1\n",
      "frozendict                        2.4.2\n",
      "frozenlist                        1.4.0\n",
      "fsspec                            2023.10.0\n",
      "future                            0.18.3\n",
      "gensim                            4.3.0\n",
      "gitdb                             4.0.7\n",
      "GitPython                         3.1.37\n",
      "gmpy2                             2.1.2\n",
      "greenlet                          3.0.1\n",
      "h11                               0.14.0\n",
      "h5py                              3.9.0\n",
      "HeapDict                          1.0.1\n",
      "holoviews                         1.18.3\n",
      "httpcore                          1.0.2\n",
      "httpx                             0.27.0\n",
      "hvplot                            0.9.2\n",
      "hyperlink                         21.0.0\n",
      "idna                              3.4\n",
      "imagecodecs                       2023.1.23\n",
      "imageio                           2.33.1\n",
      "imagesize                         1.4.1\n",
      "imbalanced-learn                  0.11.0\n",
      "importlib-metadata                7.0.1\n",
      "incremental                       22.10.0\n",
      "inflection                        0.5.1\n",
      "iniconfig                         1.1.1\n",
      "intake                            0.6.8\n",
      "intervaltree                      3.1.0\n",
      "ipykernel                         6.28.0\n",
      "ipython                           8.20.0\n",
      "ipython-genutils                  0.2.0\n",
      "ipywidgets                        7.6.5\n",
      "isoduration                       20.11.0\n",
      "isort                             5.9.3\n",
      "itemadapter                       0.3.0\n",
      "itemloaders                       1.1.0\n",
      "itsdangerous                      2.0.1\n",
      "jaraco.classes                    3.2.1\n",
      "jedi                              0.18.1\n",
      "jellyfish                         1.0.1\n",
      "Jinja2                            3.1.3\n",
      "jmespath                          1.0.1\n",
      "joblib                            1.2.0\n",
      "json5                             0.9.6\n",
      "jsonpatch                         1.32\n",
      "jsonpointer                       2.1\n",
      "jsonschema                        4.19.2\n",
      "jsonschema-specifications         2023.7.1\n",
      "jupyter                           1.0.0\n",
      "jupyter_client                    8.6.0\n",
      "jupyter-console                   6.6.3\n",
      "jupyter_core                      5.5.0\n",
      "jupyter-events                    0.8.0\n",
      "jupyter-lsp                       2.2.0\n",
      "jupyter_server                    2.10.0\n",
      "jupyter_server_terminals          0.4.4\n",
      "jupyterlab                        4.2.5\n",
      "jupyterlab-language-pack-fr-FR    4.2.post3\n",
      "jupyterlab-pygments               0.1.2\n",
      "jupyterlab_server                 2.27.3\n",
      "jupyterlab-widgets                3.0.9\n",
      "keyring                           23.13.1\n",
      "kiwisolver                        1.4.4\n",
      "lazy_loader                       0.3\n",
      "lazy-object-proxy                 1.6.0\n",
      "lckr_jupyterlab_variableinspector 3.1.0\n",
      "libarchive-c                      2.9\n",
      "libmambapy                        1.5.6\n",
      "linkify-it-py                     2.0.0\n",
      "llvmlite                          0.42.0\n",
      "lmdb                              1.4.1\n",
      "locket                            1.0.0\n",
      "lxml                              4.9.3\n",
      "lz4                               4.3.2\n",
      "Markdown                          3.4.1\n",
      "markdown-it-py                    2.2.0\n",
      "MarkupSafe                        2.1.3\n",
      "matplotlib                        3.8.0\n",
      "matplotlib-inline                 0.1.6\n",
      "mccabe                            0.7.0\n",
      "mdit-py-plugins                   0.3.0\n",
      "mdurl                             0.1.0\n",
      "menuinst                          2.0.2\n",
      "mistune                           2.0.4\n",
      "mkl-fft                           1.3.8\n",
      "mkl-random                        1.2.4\n",
      "mkl-service                       2.4.0\n",
      "more-itertools                    10.1.0\n",
      "mpmath                            1.3.0\n",
      "msgpack                           1.0.3\n",
      "multidict                         6.0.4\n",
      "multipledispatch                  0.6.0\n",
      "munkres                           1.1.4\n",
      "mypy                              1.8.0\n",
      "mypy-extensions                   1.0.0\n",
      "navigator-updater                 0.4.0\n",
      "nbclient                          0.8.0\n",
      "nbconvert                         7.10.0\n",
      "nbformat                          5.9.2\n",
      "nest-asyncio                      1.6.0\n",
      "networkx                          3.1\n",
      "nltk                              3.8.1\n",
      "notebook                          7.2.2\n",
      "notebook_shim                     0.2.3\n",
      "numba                             0.59.0\n",
      "numexpr                           2.8.7\n",
      "numpy                             1.26.4\n",
      "numpydoc                          1.5.0\n",
      "openpyxl                          3.0.10\n",
      "overrides                         7.4.0\n",
      "packaging                         23.1\n",
      "pandas                            2.1.4\n",
      "pandocfilters                     1.5.0\n",
      "panel                             1.3.8\n",
      "param                             2.0.2\n",
      "paramiko                          2.8.1\n",
      "parsel                            1.8.1\n",
      "parso                             0.8.3\n",
      "partd                             1.4.1\n",
      "pathlib                           1.0.1\n",
      "pathspec                          0.10.3\n",
      "patsy                             0.5.3\n",
      "pexpect                           4.8.0\n",
      "pickleshare                       0.7.5\n",
      "pillow                            10.2.0\n",
      "pip                               23.3.1\n",
      "pkce                              1.0.3\n",
      "pkginfo                           1.9.6\n",
      "platformdirs                      3.10.0\n",
      "plotly                            5.9.0\n",
      "pluggy                            1.0.0\n",
      "ply                               3.11\n",
      "prometheus-client                 0.14.1\n",
      "prompt-toolkit                    3.0.43\n",
      "Protego                           0.1.16\n",
      "protobuf                          3.20.3\n",
      "psutil                            5.9.0\n",
      "ptyprocess                        0.7.0\n",
      "pure-eval                         0.2.2\n",
      "py-cpuinfo                        9.0.0\n",
      "pyarrow                           14.0.2\n",
      "pyasn1                            0.4.8\n",
      "pyasn1-modules                    0.2.8\n",
      "pycodestyle                       2.10.0\n",
      "pycosat                           0.6.6\n",
      "pycparser                         2.21\n",
      "pyct                              0.5.0\n",
      "pycurl                            7.45.2\n",
      "pydantic                          1.10.12\n",
      "pydeck                            0.8.0\n",
      "PyDispatcher                      2.0.5\n",
      "pydocstyle                        6.3.0\n",
      "pyerfa                            2.0.0\n",
      "pyflakes                          3.0.1\n",
      "Pygments                          2.15.1\n",
      "PyJWT                             2.4.0\n",
      "pylint                            2.16.2\n",
      "pylint-venv                       2.3.0\n",
      "pyls-spyder                       0.4.0\n",
      "PyNaCl                            1.5.0\n",
      "pyodbc                            5.0.1\n",
      "pyOpenSSL                         24.0.0\n",
      "pyparsing                         3.0.9\n",
      "PyQt5                             5.15.10\n",
      "PyQt5-sip                         12.13.0\n",
      "PyQtWebEngine                     5.15.6\n",
      "PySocks                           1.7.1\n",
      "pytest                            7.4.0\n",
      "python-dateutil                   2.8.2\n",
      "python-dotenv                     0.21.0\n",
      "python-json-logger                2.0.7\n",
      "python-lsp-black                  1.2.1\n",
      "python-lsp-jsonrpc                1.0.0\n",
      "python-lsp-server                 1.7.2\n",
      "python-slugify                    5.0.2\n",
      "python-snappy                     0.6.1\n",
      "pytoolconfig                      1.2.6\n",
      "pytz                              2023.3.post1\n",
      "pyviz_comms                       3.0.0\n",
      "pywavelets                        1.5.0\n",
      "pywin32                           305.1\n",
      "pywin32-ctypes                    0.2.0\n",
      "pywinpty                          2.0.10\n",
      "PyYAML                            6.0.1\n",
      "pyzmq                             25.1.2\n",
      "QDarkStyle                        3.0.2\n",
      "qstylizer                         0.2.2\n",
      "QtAwesome                         1.2.2\n",
      "qtconsole                         5.4.2\n",
      "QtPy                              2.4.1\n",
      "queuelib                          1.6.2\n",
      "referencing                       0.30.2\n",
      "regex                             2023.10.3\n",
      "requests                          2.31.0\n",
      "requests-file                     1.5.1\n",
      "requests-toolbelt                 1.0.0\n",
      "rfc3339-validator                 0.1.4\n",
      "rfc3986-validator                 0.1.1\n",
      "rich                              13.3.5\n",
      "rope                              1.7.0\n",
      "rpds-py                           0.10.6\n",
      "Rtree                             1.0.1\n",
      "ruamel.yaml                       0.17.21\n",
      "ruamel-yaml-conda                 0.17.21\n",
      "s3fs                              2023.10.0\n",
      "scikit-image                      0.22.0\n",
      "scikit-learn                      1.2.2\n",
      "scipy                             1.11.4\n",
      "Scrapy                            2.8.0\n",
      "seaborn                           0.12.2\n",
      "semver                            2.13.0\n",
      "Send2Trash                        1.8.2\n",
      "service-identity                  18.1.0\n",
      "setuptools                        68.2.2\n",
      "sip                               6.7.12\n",
      "six                               1.16.0\n",
      "smart-open                        5.2.1\n",
      "smmap                             4.0.0\n",
      "sniffio                           1.3.0\n",
      "snowballstemmer                   2.2.0\n",
      "sortedcontainers                  2.4.0\n",
      "soupsieve                         2.5\n",
      "Sphinx                            5.0.2\n",
      "sphinxcontrib-applehelp           1.0.2\n",
      "sphinxcontrib-devhelp             1.0.2\n",
      "sphinxcontrib-htmlhelp            2.0.0\n",
      "sphinxcontrib-jsmath              1.0.1\n",
      "sphinxcontrib-qthelp              1.0.3\n",
      "sphinxcontrib-serializinghtml     1.1.5\n",
      "spyder                            5.4.3\n",
      "spyder-kernels                    2.4.4\n",
      "SQLAlchemy                        2.0.25\n",
      "stack-data                        0.2.0\n",
      "statsmodels                       0.14.0\n",
      "streamlit                         1.30.0\n",
      "sympy                             1.12\n",
      "tables                            3.9.2\n",
      "tabulate                          0.9.0\n",
      "tblib                             1.7.0\n",
      "tenacity                          8.2.2\n",
      "terminado                         0.17.1\n",
      "text-unidecode                    1.3\n",
      "textdistance                      4.2.1\n",
      "threadpoolctl                     2.2.0\n",
      "three-merge                       0.1.1\n",
      "tifffile                          2023.4.12\n",
      "tinycss2                          1.2.1\n",
      "tldextract                        3.2.0\n",
      "toml                              0.10.2\n",
      "tomlkit                           0.11.1\n",
      "toolz                             0.12.0\n",
      "tornado                           6.3.3\n",
      "tqdm                              4.65.0\n",
      "traitlets                         5.7.1\n",
      "truststore                        0.8.0\n",
      "Twisted                           23.10.0\n",
      "twisted-iocpsupport               1.0.2\n",
      "typing_extensions                 4.9.0\n",
      "tzdata                            2023.3\n",
      "tzlocal                           2.1\n",
      "uc-micro-py                       1.0.1\n",
      "ujson                             5.4.0\n",
      "Unidecode                         1.2.0\n",
      "uri-template                      1.3.0\n",
      "urllib3                           2.0.7\n",
      "validators                        0.18.2\n",
      "w3lib                             2.1.2\n",
      "watchdog                          2.1.6\n",
      "wcwidth                           0.2.5\n",
      "webcolors                         24.8.0\n",
      "webencodings                      0.5.1\n",
      "websocket-client                  0.58.0\n",
      "Werkzeug                          2.2.3\n",
      "whatthepatch                      1.0.2\n",
      "wheel                             0.41.2\n",
      "widgetsnbextension                3.5.2\n",
      "win-inet-pton                     1.1.0\n",
      "wrapt                             1.14.1\n",
      "xarray                            2023.6.0\n",
      "xlwings                           0.29.1\n",
      "xyzservices                       2022.9.0\n",
      "yapf                              0.31.0\n",
      "yarl                              1.9.3\n",
      "zict                              3.0.0\n",
      "zipp                              3.17.0\n",
      "zope.interface                    5.4.0\n",
      "zstandard                         0.19.0\n"
     ]
    }
   ],
   "source": [
    "#Liste des package disponibles\n",
    "! pip list"
   ]
  },
  {
   "cell_type": "code",
   "execution_count": 180,
   "id": "d9836a8d-510b-44c2-b4c1-ce3146d634ec",
   "metadata": {},
   "outputs": [],
   "source": [
    "import numpy as np"
   ]
  },
  {
   "cell_type": "code",
   "execution_count": 184,
   "id": "2e79874c-9500-4890-88c8-e82b7218612e",
   "metadata": {},
   "outputs": [],
   "source": [
    "# Lire les fichiers \n",
    "\n",
    "f = open(\"Resultat.txt\", \"w\")\n",
    "f.write(\"Bonjour, J'espère que tu vas bien ?\")\n",
    "f.close()"
   ]
  },
  {
   "cell_type": "code",
   "execution_count": 187,
   "id": "cef016c4-c576-4add-9119-ab6991384203",
   "metadata": {},
   "outputs": [],
   "source": [
    "f = open(\"Retour.txt\", \"w\")\n",
    "f.write(\"Bonjour, J'espère que tu vas bien ?\")\n",
    "f.close()"
   ]
  },
  {
   "cell_type": "code",
   "execution_count": 188,
   "id": "ff5a6d21-8edd-4467-b6b6-6e3c364bccb8",
   "metadata": {},
   "outputs": [
    {
     "name": "stdout",
     "output_type": "stream",
     "text": [
      "utf-8\n"
     ]
    }
   ],
   "source": [
    "import sys\n",
    "print(sys.getdefaultencoding())\n"
   ]
  },
  {
   "cell_type": "code",
   "execution_count": 193,
   "id": "acd23dfe-abe5-461d-ac5b-98552fda45cc",
   "metadata": {},
   "outputs": [],
   "source": [
    "with open(\"resultatbis.txt\", \"w\") as f: \n",
    "    for i in range(1,10): \n",
    "        f.write(f\"La valeur est {i} \\n\")"
   ]
  },
  {
   "cell_type": "code",
   "execution_count": 194,
   "id": "3fb1402b-4287-4d4f-b125-b8aedfbd60c6",
   "metadata": {},
   "outputs": [],
   "source": [
    "with open(\"mes_resultats\", \"w\") as f:\n",
    "    for i in range(1,20):\n",
    "        f.write(f\"La valeur est {i}\\n\")"
   ]
  },
  {
   "cell_type": "code",
   "execution_count": 199,
   "id": "255dcc22-81ab-47bf-a91c-fcc7549034f6",
   "metadata": {
    "scrolled": true
   },
   "outputs": [
    {
     "name": "stdout",
     "output_type": "stream",
     "text": [
      "1 Le nombre est impair\n",
      "2 Le nombre est pair\n",
      "3 Le nombre est impair\n",
      "4 Le nombre est pair\n",
      "5 Le nombre est impair\n",
      "6 Le nombre est pair\n",
      "7 Le nombre est impair\n",
      "8 Le nombre est pair\n",
      "9 Le nombre est impair\n",
      "10 Le nombre est pair\n",
      "11 Le nombre est impair\n",
      "12 Le nombre est pair\n",
      "13 Le nombre est impair\n",
      "14 Le nombre est pair\n",
      "15 Le nombre est impair\n",
      "16 Le nombre est pair\n",
      "17 Le nombre est impair\n",
      "18 Le nombre est pair\n",
      "19 Le nombre est impair\n",
      "20 Le nombre est pair\n"
     ]
    }
   ],
   "source": [
    "with open(\"reste_div\", \"w\") as f : \n",
    "    for i in range(1,21):\n",
    "        if i % 2 == 0:\n",
    "            print(i,\"Le nombre est pair\")\n",
    "        else:\n",
    "            print(i,\"Le nombre est impair\")\n",
    "        f.write(f\"La valeur est {i}\\n\")\n"
   ]
  },
  {
   "cell_type": "code",
   "execution_count": null,
   "id": "811199e8-a8a6-4221-98f7-a6f314c0e738",
   "metadata": {},
   "outputs": [],
   "source": []
  },
  {
   "cell_type": "code",
   "execution_count": 209,
   "id": "61aa999f-df21-4fd5-a1f4-6fba3faf6981",
   "metadata": {},
   "outputs": [],
   "source": [
    "with open (\"mes_choix\", \"w\") as f : \n",
    "    ma_liste = [\"Pape\", \"Fatou\", \"Papis\", \"Jean\"]\n",
    "    for prenom in ma_liste: \n",
    "        f.write(f\"le nom est {prenom}\\n\")\n"
   ]
  },
  {
   "cell_type": "code",
   "execution_count": 219,
   "id": "8c240bb2-282d-47c9-a04f-ba82e5b7eb37",
   "metadata": {},
   "outputs": [
    {
     "data": {
      "text/plain": [
       "[]"
      ]
     },
     "execution_count": 219,
     "metadata": {},
     "output_type": "execute_result"
    }
   ],
   "source": [
    "with open (\"resultatbisv2\", \"r\") as f: \n",
    "    resultat = f.readlines()\n",
    "resultat"
   ]
  },
  {
   "cell_type": "code",
   "execution_count": 220,
   "id": "46d90ea3-7eeb-41d4-b001-45d4a6027ad4",
   "metadata": {},
   "outputs": [],
   "source": [
    "import numpy as np"
   ]
  },
  {
   "cell_type": "code",
   "execution_count": 222,
   "id": "1a1a4c1b-e587-4b1a-8988-16d7b0d0cfdb",
   "metadata": {},
   "outputs": [
    {
     "data": {
      "text/plain": [
       "array([20, 15, 25, 10, 30])"
      ]
     },
     "execution_count": 222,
     "metadata": {},
     "output_type": "execute_result"
    }
   ],
   "source": [
    "tableau_dim1 = np.array([20, 15, 25, 10, 30])\n",
    "tableau_dim1"
   ]
  },
  {
   "cell_type": "code",
   "execution_count": 225,
   "id": "59c918a8-3a81-41e3-8521-da88e262241a",
   "metadata": {},
   "outputs": [
    {
     "data": {
      "text/plain": [
       "(5,)"
      ]
     },
     "execution_count": 225,
     "metadata": {},
     "output_type": "execute_result"
    }
   ],
   "source": [
    "tableau_dim1.shape"
   ]
  },
  {
   "cell_type": "code",
   "execution_count": 226,
   "id": "5d99cdf4-fd05-4bf2-bec3-540ded9f2dfc",
   "metadata": {},
   "outputs": [
    {
     "data": {
      "text/plain": [
       "5"
      ]
     },
     "execution_count": 226,
     "metadata": {},
     "output_type": "execute_result"
    }
   ],
   "source": [
    "tableau_dim1.size"
   ]
  },
  {
   "cell_type": "code",
   "execution_count": 229,
   "id": "94cf5cc6-632d-4218-8297-dd6d188725ac",
   "metadata": {},
   "outputs": [
    {
     "data": {
      "text/plain": [
       "array([0, 0])"
      ]
     },
     "execution_count": 229,
     "metadata": {},
     "output_type": "execute_result"
    }
   ],
   "source": [
    "tableau_zero = np.zeros_like((2,2))\n",
    "tableau_zero"
   ]
  },
  {
   "cell_type": "code",
   "execution_count": 231,
   "id": "bb41393a-c534-4f21-aa1a-ea111f847a68",
   "metadata": {},
   "outputs": [
    {
     "data": {
      "text/plain": [
       "array([[25, 12, 18, 79, 12],\n",
       "       [54, 25, 82, 45, 95]])"
      ]
     },
     "execution_count": 231,
     "metadata": {},
     "output_type": "execute_result"
    }
   ],
   "source": [
    "tableau_dim2 = np.array(([25, 12, 18, 79, 12],[54, 25, 82, 45, 95]))\n",
    "tableau_dim2"
   ]
  },
  {
   "cell_type": "code",
   "execution_count": 232,
   "id": "45738673-baac-4e3e-9caf-b139ffca3a92",
   "metadata": {},
   "outputs": [
    {
     "data": {
      "text/plain": [
       "numpy.ndarray"
      ]
     },
     "execution_count": 232,
     "metadata": {},
     "output_type": "execute_result"
    }
   ],
   "source": [
    "type(tableau_dim2)"
   ]
  },
  {
   "cell_type": "code",
   "execution_count": 237,
   "id": "5610ccd1-d793-4b6e-a24b-8405123810f2",
   "metadata": {},
   "outputs": [
    {
     "data": {
      "text/plain": [
       "array([1., 1., 1.])"
      ]
     },
     "execution_count": 237,
     "metadata": {},
     "output_type": "execute_result"
    }
   ],
   "source": [
    "tableau_one = np.ones(3)\n",
    "tableau_one"
   ]
  },
  {
   "cell_type": "code",
   "execution_count": 240,
   "id": "e48cd65e-7798-4352-8d5c-8626d44f693e",
   "metadata": {},
   "outputs": [
    {
     "data": {
      "text/plain": [
       "array([[1., 0., 0.],\n",
       "       [0., 1., 0.],\n",
       "       [0., 0., 1.]])"
      ]
     },
     "execution_count": 240,
     "metadata": {},
     "output_type": "execute_result"
    }
   ],
   "source": [
    "tableau_eye = np.eye(3)\n",
    "tableau_eye"
   ]
  },
  {
   "cell_type": "code",
   "execution_count": 241,
   "id": "c3702d10-01cf-4a5e-96ad-292d8eab4620",
   "metadata": {},
   "outputs": [
    {
     "data": {
      "text/plain": [
       "array([1, 2, 3, 4, 5, 6, 7, 8, 9])"
      ]
     },
     "execution_count": 241,
     "metadata": {},
     "output_type": "execute_result"
    }
   ],
   "source": [
    "np.arange(1,10,1)"
   ]
  },
  {
   "cell_type": "code",
   "execution_count": 3,
   "id": "0e3d09dd-4e6c-46ee-a428-5832362c3f68",
   "metadata": {},
   "outputs": [],
   "source": [
    "import numpy as np"
   ]
  },
  {
   "cell_type": "code",
   "execution_count": 4,
   "id": "296226bb-ddac-4270-9ea3-86c1369bc9ad",
   "metadata": {},
   "outputs": [
    {
     "data": {
      "text/plain": [
       "array([0.        , 0.11111111, 0.22222222, 0.33333333, 0.44444444,\n",
       "       0.55555556, 0.66666667, 0.77777778, 0.88888889, 1.        ])"
      ]
     },
     "execution_count": 4,
     "metadata": {},
     "output_type": "execute_result"
    }
   ],
   "source": [
    "np.linspace(0,1,10)"
   ]
  },
  {
   "cell_type": "code",
   "execution_count": null,
   "id": "ca6fe34c-0859-4009-8a8d-1a7b165b3b4e",
   "metadata": {},
   "outputs": [],
   "source": []
  },
  {
   "cell_type": "markdown",
   "id": "e924ebbd-3c9d-4105-a192-2af9242835eb",
   "metadata": {},
   "source": [
    "# Analyse des données avec Panda \n"
   ]
  },
  {
   "cell_type": "markdown",
   "id": "8c7b51ec-f7ee-441c-a40e-ba3bdaa3871c",
   "metadata": {},
   "source": [
    "## Installation et chargement de Panda"
   ]
  },
  {
   "cell_type": "code",
   "execution_count": 9,
   "id": "26fbd15b-eb63-4dee-8441-cdfdb97f9027",
   "metadata": {},
   "outputs": [
    {
     "name": "stdout",
     "output_type": "stream",
     "text": [
      "Requirement already satisfied: pandas in c:\\users\\diedhiou\\anaconda3\\lib\\site-packages (2.1.4)\n"
     ]
    },
    {
     "name": "stderr",
     "output_type": "stream",
     "text": [
      "ERROR: Could not find a version that satisfies the requirement as (from versions: none)\n",
      "ERROR: No matching distribution found for as\n"
     ]
    }
   ],
   "source": [
    "#Installation si nécessaire \n",
    "! pip install pandas as pd"
   ]
  },
  {
   "cell_type": "code",
   "execution_count": 10,
   "id": "69ad2dbc-9873-4887-9be2-6c7da7a5fcb9",
   "metadata": {},
   "outputs": [],
   "source": [
    "#Chargement de la librairie Pandas\n",
    "import pandas as pd"
   ]
  },
  {
   "cell_type": "code",
   "execution_count": 11,
   "id": "5a514c70-3364-4e33-84a0-68fa5a75f3e3",
   "metadata": {},
   "outputs": [
    {
     "data": {
      "text/html": [
       "<div>\n",
       "<style scoped>\n",
       "    .dataframe tbody tr th:only-of-type {\n",
       "        vertical-align: middle;\n",
       "    }\n",
       "\n",
       "    .dataframe tbody tr th {\n",
       "        vertical-align: top;\n",
       "    }\n",
       "\n",
       "    .dataframe thead th {\n",
       "        text-align: right;\n",
       "    }\n",
       "</style>\n",
       "<table border=\"1\" class=\"dataframe\">\n",
       "  <thead>\n",
       "    <tr style=\"text-align: right;\">\n",
       "      <th></th>\n",
       "      <th>id;age;job;marital;education;default;balance;housing;loan;contact;day;month;duration;campaign;pdays;previous;poutcome;y</th>\n",
       "    </tr>\n",
       "  </thead>\n",
       "  <tbody>\n",
       "    <tr>\n",
       "      <th>0</th>\n",
       "      <td>id1;58;management;married;tertiary;no;2143;yes...</td>\n",
       "    </tr>\n",
       "    <tr>\n",
       "      <th>1</th>\n",
       "      <td>id2;44;technician;single;secondary;no;29;yes;n...</td>\n",
       "    </tr>\n",
       "    <tr>\n",
       "      <th>2</th>\n",
       "      <td>id3;33;entrepreneur;married;secondary;no;2;yes...</td>\n",
       "    </tr>\n",
       "    <tr>\n",
       "      <th>3</th>\n",
       "      <td>id4;47;blue-collar;married;unknown;no;1506;yes...</td>\n",
       "    </tr>\n",
       "    <tr>\n",
       "      <th>4</th>\n",
       "      <td>id5;33;unknown;single;unknown;no;1;no;no;unkno...</td>\n",
       "    </tr>\n",
       "    <tr>\n",
       "      <th>...</th>\n",
       "      <td>...</td>\n",
       "    </tr>\n",
       "    <tr>\n",
       "      <th>45206</th>\n",
       "      <td>id45207;51;technician;married;tertiary;no;825;...</td>\n",
       "    </tr>\n",
       "    <tr>\n",
       "      <th>45207</th>\n",
       "      <td>id45208;71;retired;divorced;primary;no;1729;no...</td>\n",
       "    </tr>\n",
       "    <tr>\n",
       "      <th>45208</th>\n",
       "      <td>id45209;72;retired;married;secondary;no;5715;n...</td>\n",
       "    </tr>\n",
       "    <tr>\n",
       "      <th>45209</th>\n",
       "      <td>id45210;57;blue-collar;married;secondary;no;66...</td>\n",
       "    </tr>\n",
       "    <tr>\n",
       "      <th>45210</th>\n",
       "      <td>id45211;37;entrepreneur;married;secondary;no;2...</td>\n",
       "    </tr>\n",
       "  </tbody>\n",
       "</table>\n",
       "<p>45211 rows × 1 columns</p>\n",
       "</div>"
      ],
      "text/plain": [
       "      id;age;job;marital;education;default;balance;housing;loan;contact;day;month;duration;campaign;pdays;previous;poutcome;y\n",
       "0      id1;58;management;married;tertiary;no;2143;yes...                                                                     \n",
       "1      id2;44;technician;single;secondary;no;29;yes;n...                                                                     \n",
       "2      id3;33;entrepreneur;married;secondary;no;2;yes...                                                                     \n",
       "3      id4;47;blue-collar;married;unknown;no;1506;yes...                                                                     \n",
       "4      id5;33;unknown;single;unknown;no;1;no;no;unkno...                                                                     \n",
       "...                                                  ...                                                                     \n",
       "45206  id45207;51;technician;married;tertiary;no;825;...                                                                     \n",
       "45207  id45208;71;retired;divorced;primary;no;1729;no...                                                                     \n",
       "45208  id45209;72;retired;married;secondary;no;5715;n...                                                                     \n",
       "45209  id45210;57;blue-collar;married;secondary;no;66...                                                                     \n",
       "45210  id45211;37;entrepreneur;married;secondary;no;2...                                                                     \n",
       "\n",
       "[45211 rows x 1 columns]"
      ]
     },
     "execution_count": 11,
     "metadata": {},
     "output_type": "execute_result"
    }
   ],
   "source": [
    "df = pd.read_csv(\"D:\\Python_Analyse_de_données\\donnees_marketing_banque.csv\")\n",
    "df"
   ]
  },
  {
   "cell_type": "code",
   "execution_count": 12,
   "id": "793ad1af-b820-46e6-b147-dcf716b8d0c6",
   "metadata": {},
   "outputs": [
    {
     "data": {
      "text/html": [
       "<div>\n",
       "<style scoped>\n",
       "    .dataframe tbody tr th:only-of-type {\n",
       "        vertical-align: middle;\n",
       "    }\n",
       "\n",
       "    .dataframe tbody tr th {\n",
       "        vertical-align: top;\n",
       "    }\n",
       "\n",
       "    .dataframe thead th {\n",
       "        text-align: right;\n",
       "    }\n",
       "</style>\n",
       "<table border=\"1\" class=\"dataframe\">\n",
       "  <thead>\n",
       "    <tr style=\"text-align: right;\">\n",
       "      <th></th>\n",
       "      <th>id</th>\n",
       "      <th>age</th>\n",
       "      <th>job</th>\n",
       "      <th>marital</th>\n",
       "      <th>education</th>\n",
       "      <th>default</th>\n",
       "      <th>balance</th>\n",
       "      <th>housing</th>\n",
       "      <th>loan</th>\n",
       "      <th>contact</th>\n",
       "      <th>day</th>\n",
       "      <th>month</th>\n",
       "      <th>duration</th>\n",
       "      <th>campaign</th>\n",
       "      <th>pdays</th>\n",
       "      <th>previous</th>\n",
       "      <th>poutcome</th>\n",
       "      <th>y</th>\n",
       "    </tr>\n",
       "  </thead>\n",
       "  <tbody>\n",
       "    <tr>\n",
       "      <th>0</th>\n",
       "      <td>id1</td>\n",
       "      <td>58</td>\n",
       "      <td>management</td>\n",
       "      <td>married</td>\n",
       "      <td>tertiary</td>\n",
       "      <td>no</td>\n",
       "      <td>2143.0</td>\n",
       "      <td>yes</td>\n",
       "      <td>no</td>\n",
       "      <td>unknown</td>\n",
       "      <td>5</td>\n",
       "      <td>may</td>\n",
       "      <td>261</td>\n",
       "      <td>1</td>\n",
       "      <td>-1</td>\n",
       "      <td>0</td>\n",
       "      <td>unknown</td>\n",
       "      <td>no</td>\n",
       "    </tr>\n",
       "    <tr>\n",
       "      <th>1</th>\n",
       "      <td>id2</td>\n",
       "      <td>44</td>\n",
       "      <td>technician</td>\n",
       "      <td>single</td>\n",
       "      <td>secondary</td>\n",
       "      <td>no</td>\n",
       "      <td>29.0</td>\n",
       "      <td>yes</td>\n",
       "      <td>no</td>\n",
       "      <td>unknown</td>\n",
       "      <td>5</td>\n",
       "      <td>may</td>\n",
       "      <td>151</td>\n",
       "      <td>1</td>\n",
       "      <td>-1</td>\n",
       "      <td>0</td>\n",
       "      <td>unknown</td>\n",
       "      <td>no</td>\n",
       "    </tr>\n",
       "    <tr>\n",
       "      <th>2</th>\n",
       "      <td>id3</td>\n",
       "      <td>33</td>\n",
       "      <td>entrepreneur</td>\n",
       "      <td>married</td>\n",
       "      <td>secondary</td>\n",
       "      <td>no</td>\n",
       "      <td>2.0</td>\n",
       "      <td>yes</td>\n",
       "      <td>yes</td>\n",
       "      <td>unknown</td>\n",
       "      <td>5</td>\n",
       "      <td>may</td>\n",
       "      <td>76</td>\n",
       "      <td>1</td>\n",
       "      <td>-1</td>\n",
       "      <td>0</td>\n",
       "      <td>unknown</td>\n",
       "      <td>no</td>\n",
       "    </tr>\n",
       "    <tr>\n",
       "      <th>3</th>\n",
       "      <td>id4</td>\n",
       "      <td>47</td>\n",
       "      <td>blue-collar</td>\n",
       "      <td>married</td>\n",
       "      <td>unknown</td>\n",
       "      <td>no</td>\n",
       "      <td>1506.0</td>\n",
       "      <td>yes</td>\n",
       "      <td>no</td>\n",
       "      <td>unknown</td>\n",
       "      <td>5</td>\n",
       "      <td>may</td>\n",
       "      <td>92</td>\n",
       "      <td>1</td>\n",
       "      <td>-1</td>\n",
       "      <td>0</td>\n",
       "      <td>unknown</td>\n",
       "      <td>no</td>\n",
       "    </tr>\n",
       "    <tr>\n",
       "      <th>4</th>\n",
       "      <td>id5</td>\n",
       "      <td>33</td>\n",
       "      <td>unknown</td>\n",
       "      <td>single</td>\n",
       "      <td>unknown</td>\n",
       "      <td>no</td>\n",
       "      <td>1.0</td>\n",
       "      <td>no</td>\n",
       "      <td>no</td>\n",
       "      <td>unknown</td>\n",
       "      <td>5</td>\n",
       "      <td>may</td>\n",
       "      <td>198</td>\n",
       "      <td>1</td>\n",
       "      <td>-1</td>\n",
       "      <td>0</td>\n",
       "      <td>unknown</td>\n",
       "      <td>no</td>\n",
       "    </tr>\n",
       "    <tr>\n",
       "      <th>...</th>\n",
       "      <td>...</td>\n",
       "      <td>...</td>\n",
       "      <td>...</td>\n",
       "      <td>...</td>\n",
       "      <td>...</td>\n",
       "      <td>...</td>\n",
       "      <td>...</td>\n",
       "      <td>...</td>\n",
       "      <td>...</td>\n",
       "      <td>...</td>\n",
       "      <td>...</td>\n",
       "      <td>...</td>\n",
       "      <td>...</td>\n",
       "      <td>...</td>\n",
       "      <td>...</td>\n",
       "      <td>...</td>\n",
       "      <td>...</td>\n",
       "      <td>...</td>\n",
       "    </tr>\n",
       "    <tr>\n",
       "      <th>45206</th>\n",
       "      <td>id45207</td>\n",
       "      <td>51</td>\n",
       "      <td>technician</td>\n",
       "      <td>married</td>\n",
       "      <td>tertiary</td>\n",
       "      <td>no</td>\n",
       "      <td>825.0</td>\n",
       "      <td>no</td>\n",
       "      <td>no</td>\n",
       "      <td>cellular</td>\n",
       "      <td>17</td>\n",
       "      <td>nov</td>\n",
       "      <td>977</td>\n",
       "      <td>3</td>\n",
       "      <td>-1</td>\n",
       "      <td>0</td>\n",
       "      <td>unknown</td>\n",
       "      <td>yes</td>\n",
       "    </tr>\n",
       "    <tr>\n",
       "      <th>45207</th>\n",
       "      <td>id45208</td>\n",
       "      <td>71</td>\n",
       "      <td>retired</td>\n",
       "      <td>divorced</td>\n",
       "      <td>primary</td>\n",
       "      <td>no</td>\n",
       "      <td>1729.0</td>\n",
       "      <td>no</td>\n",
       "      <td>no</td>\n",
       "      <td>cellular</td>\n",
       "      <td>17</td>\n",
       "      <td>nov</td>\n",
       "      <td>456</td>\n",
       "      <td>2</td>\n",
       "      <td>-1</td>\n",
       "      <td>0</td>\n",
       "      <td>unknown</td>\n",
       "      <td>yes</td>\n",
       "    </tr>\n",
       "    <tr>\n",
       "      <th>45208</th>\n",
       "      <td>id45209</td>\n",
       "      <td>72</td>\n",
       "      <td>retired</td>\n",
       "      <td>married</td>\n",
       "      <td>secondary</td>\n",
       "      <td>no</td>\n",
       "      <td>5715.0</td>\n",
       "      <td>no</td>\n",
       "      <td>no</td>\n",
       "      <td>cellular</td>\n",
       "      <td>17</td>\n",
       "      <td>nov</td>\n",
       "      <td>1127</td>\n",
       "      <td>5</td>\n",
       "      <td>184</td>\n",
       "      <td>3</td>\n",
       "      <td>success</td>\n",
       "      <td>yes</td>\n",
       "    </tr>\n",
       "    <tr>\n",
       "      <th>45209</th>\n",
       "      <td>id45210</td>\n",
       "      <td>57</td>\n",
       "      <td>blue-collar</td>\n",
       "      <td>married</td>\n",
       "      <td>secondary</td>\n",
       "      <td>no</td>\n",
       "      <td>668.0</td>\n",
       "      <td>no</td>\n",
       "      <td>no</td>\n",
       "      <td>telephone</td>\n",
       "      <td>17</td>\n",
       "      <td>nov</td>\n",
       "      <td>508</td>\n",
       "      <td>4</td>\n",
       "      <td>-1</td>\n",
       "      <td>0</td>\n",
       "      <td>unknown</td>\n",
       "      <td>no</td>\n",
       "    </tr>\n",
       "    <tr>\n",
       "      <th>45210</th>\n",
       "      <td>id45211</td>\n",
       "      <td>37</td>\n",
       "      <td>entrepreneur</td>\n",
       "      <td>married</td>\n",
       "      <td>secondary</td>\n",
       "      <td>no</td>\n",
       "      <td>2971.0</td>\n",
       "      <td>no</td>\n",
       "      <td>no</td>\n",
       "      <td>cellular</td>\n",
       "      <td>17</td>\n",
       "      <td>nov</td>\n",
       "      <td>361</td>\n",
       "      <td>2</td>\n",
       "      <td>188</td>\n",
       "      <td>11</td>\n",
       "      <td>other</td>\n",
       "      <td>no</td>\n",
       "    </tr>\n",
       "  </tbody>\n",
       "</table>\n",
       "<p>45211 rows × 18 columns</p>\n",
       "</div>"
      ],
      "text/plain": [
       "            id  age           job   marital  education default  balance  \\\n",
       "0          id1   58    management   married   tertiary      no   2143.0   \n",
       "1          id2   44    technician    single  secondary      no     29.0   \n",
       "2          id3   33  entrepreneur   married  secondary      no      2.0   \n",
       "3          id4   47   blue-collar   married    unknown      no   1506.0   \n",
       "4          id5   33       unknown    single    unknown      no      1.0   \n",
       "...        ...  ...           ...       ...        ...     ...      ...   \n",
       "45206  id45207   51    technician   married   tertiary      no    825.0   \n",
       "45207  id45208   71       retired  divorced    primary      no   1729.0   \n",
       "45208  id45209   72       retired   married  secondary      no   5715.0   \n",
       "45209  id45210   57   blue-collar   married  secondary      no    668.0   \n",
       "45210  id45211   37  entrepreneur   married  secondary      no   2971.0   \n",
       "\n",
       "      housing loan    contact  day month  duration  campaign  pdays  previous  \\\n",
       "0         yes   no    unknown    5   may       261         1     -1         0   \n",
       "1         yes   no    unknown    5   may       151         1     -1         0   \n",
       "2         yes  yes    unknown    5   may        76         1     -1         0   \n",
       "3         yes   no    unknown    5   may        92         1     -1         0   \n",
       "4          no   no    unknown    5   may       198         1     -1         0   \n",
       "...       ...  ...        ...  ...   ...       ...       ...    ...       ...   \n",
       "45206      no   no   cellular   17   nov       977         3     -1         0   \n",
       "45207      no   no   cellular   17   nov       456         2     -1         0   \n",
       "45208      no   no   cellular   17   nov      1127         5    184         3   \n",
       "45209      no   no  telephone   17   nov       508         4     -1         0   \n",
       "45210      no   no   cellular   17   nov       361         2    188        11   \n",
       "\n",
       "      poutcome    y  \n",
       "0      unknown   no  \n",
       "1      unknown   no  \n",
       "2      unknown   no  \n",
       "3      unknown   no  \n",
       "4      unknown   no  \n",
       "...        ...  ...  \n",
       "45206  unknown  yes  \n",
       "45207  unknown  yes  \n",
       "45208  success  yes  \n",
       "45209  unknown   no  \n",
       "45210    other   no  \n",
       "\n",
       "[45211 rows x 18 columns]"
      ]
     },
     "execution_count": 12,
     "metadata": {},
     "output_type": "execute_result"
    }
   ],
   "source": [
    "#Importation avec le séparateur \n",
    "df = pd.read_csv(\"D:\\Python_Analyse_de_données\\donnees_marketing_banque.csv\", sep = \";\")\n",
    "df"
   ]
  },
  {
   "cell_type": "code",
   "execution_count": 35,
   "id": "992ba154-b712-494f-abec-68e17d71e708",
   "metadata": {},
   "outputs": [
    {
     "name": "stdout",
     "output_type": "stream",
     "text": [
      "            id  age           job   marital  education default  balance  \\\n",
      "0          id1   58    management   married   tertiary      no   2143.0   \n",
      "1          id2   44    technician    single  secondary      no     29.0   \n",
      "2          id3   33  entrepreneur   married  secondary      no      2.0   \n",
      "3          id4   47   blue-collar   married    unknown      no   1506.0   \n",
      "4          id5   33       unknown    single    unknown      no      1.0   \n",
      "...        ...  ...           ...       ...        ...     ...      ...   \n",
      "45206  id45207   51    technician   married   tertiary      no    825.0   \n",
      "45207  id45208   71       retired  divorced    primary      no   1729.0   \n",
      "45208  id45209   72       retired   married  secondary      no   5715.0   \n",
      "45209  id45210   57   blue-collar   married  secondary      no    668.0   \n",
      "45210  id45211   37  entrepreneur   married  secondary      no   2971.0   \n",
      "\n",
      "      housing loan    contact  day month  duration  campaign  pdays  previous  \\\n",
      "0         yes   no    unknown    5   may       261         1     -1         0   \n",
      "1         yes   no    unknown    5   may       151         1     -1         0   \n",
      "2         yes  yes    unknown    5   may        76         1     -1         0   \n",
      "3         yes   no    unknown    5   may        92         1     -1         0   \n",
      "4          no   no    unknown    5   may       198         1     -1         0   \n",
      "...       ...  ...        ...  ...   ...       ...       ...    ...       ...   \n",
      "45206      no   no   cellular   17   nov       977         3     -1         0   \n",
      "45207      no   no   cellular   17   nov       456         2     -1         0   \n",
      "45208      no   no   cellular   17   nov      1127         5    184         3   \n",
      "45209      no   no  telephone   17   nov       508         4     -1         0   \n",
      "45210      no   no   cellular   17   nov       361         2    188        11   \n",
      "\n",
      "      poutcome    y  \n",
      "0      unknown   no  \n",
      "1      unknown   no  \n",
      "2      unknown   no  \n",
      "3      unknown   no  \n",
      "4      unknown   no  \n",
      "...        ...  ...  \n",
      "45206  unknown  yes  \n",
      "45207  unknown  yes  \n",
      "45208  success  yes  \n",
      "45209  unknown   no  \n",
      "45210    other   no  \n",
      "\n",
      "[45211 rows x 18 columns]\n"
     ]
    }
   ],
   "source": [
    "# Importation du fichier xls\n",
    "df = pd.read_excel(\"D:\\Python_Analyse_de_données\\donnees_marketing_banque.xlsx\")\n",
    "print(df)\n"
   ]
  },
  {
   "cell_type": "code",
   "execution_count": 33,
   "id": "47e94496-92f8-4769-8c00-84488353af55",
   "metadata": {},
   "outputs": [
    {
     "data": {
      "text/plain": [
       "pandas.core.frame.DataFrame"
      ]
     },
     "execution_count": 33,
     "metadata": {},
     "output_type": "execute_result"
    }
   ],
   "source": [
    "type(df)"
   ]
  },
  {
   "cell_type": "code",
   "execution_count": 34,
   "id": "9112e3d1-2a8a-4d50-b71c-9aa71d5e2f13",
   "metadata": {},
   "outputs": [
    {
     "data": {
      "text/html": [
       "<div>\n",
       "<style scoped>\n",
       "    .dataframe tbody tr th:only-of-type {\n",
       "        vertical-align: middle;\n",
       "    }\n",
       "\n",
       "    .dataframe tbody tr th {\n",
       "        vertical-align: top;\n",
       "    }\n",
       "\n",
       "    .dataframe thead th {\n",
       "        text-align: right;\n",
       "    }\n",
       "</style>\n",
       "<table border=\"1\" class=\"dataframe\">\n",
       "  <thead>\n",
       "    <tr style=\"text-align: right;\">\n",
       "      <th></th>\n",
       "      <th>id</th>\n",
       "      <th>age</th>\n",
       "      <th>job</th>\n",
       "      <th>marital</th>\n",
       "      <th>education</th>\n",
       "      <th>default</th>\n",
       "      <th>balance</th>\n",
       "      <th>housing</th>\n",
       "      <th>loan</th>\n",
       "      <th>contact</th>\n",
       "      <th>day</th>\n",
       "      <th>month</th>\n",
       "      <th>duration</th>\n",
       "      <th>campaign</th>\n",
       "      <th>pdays</th>\n",
       "      <th>previous</th>\n",
       "      <th>poutcome</th>\n",
       "      <th>y</th>\n",
       "    </tr>\n",
       "  </thead>\n",
       "  <tbody>\n",
       "    <tr>\n",
       "      <th>0</th>\n",
       "      <td>id1</td>\n",
       "      <td>58</td>\n",
       "      <td>management</td>\n",
       "      <td>married</td>\n",
       "      <td>tertiary</td>\n",
       "      <td>no</td>\n",
       "      <td>2143.0</td>\n",
       "      <td>yes</td>\n",
       "      <td>no</td>\n",
       "      <td>unknown</td>\n",
       "      <td>5</td>\n",
       "      <td>may</td>\n",
       "      <td>261</td>\n",
       "      <td>1</td>\n",
       "      <td>-1</td>\n",
       "      <td>0</td>\n",
       "      <td>unknown</td>\n",
       "      <td>no</td>\n",
       "    </tr>\n",
       "    <tr>\n",
       "      <th>1</th>\n",
       "      <td>id2</td>\n",
       "      <td>44</td>\n",
       "      <td>technician</td>\n",
       "      <td>single</td>\n",
       "      <td>secondary</td>\n",
       "      <td>no</td>\n",
       "      <td>29.0</td>\n",
       "      <td>yes</td>\n",
       "      <td>no</td>\n",
       "      <td>unknown</td>\n",
       "      <td>5</td>\n",
       "      <td>may</td>\n",
       "      <td>151</td>\n",
       "      <td>1</td>\n",
       "      <td>-1</td>\n",
       "      <td>0</td>\n",
       "      <td>unknown</td>\n",
       "      <td>no</td>\n",
       "    </tr>\n",
       "    <tr>\n",
       "      <th>2</th>\n",
       "      <td>id3</td>\n",
       "      <td>33</td>\n",
       "      <td>entrepreneur</td>\n",
       "      <td>married</td>\n",
       "      <td>secondary</td>\n",
       "      <td>no</td>\n",
       "      <td>2.0</td>\n",
       "      <td>yes</td>\n",
       "      <td>yes</td>\n",
       "      <td>unknown</td>\n",
       "      <td>5</td>\n",
       "      <td>may</td>\n",
       "      <td>76</td>\n",
       "      <td>1</td>\n",
       "      <td>-1</td>\n",
       "      <td>0</td>\n",
       "      <td>unknown</td>\n",
       "      <td>no</td>\n",
       "    </tr>\n",
       "    <tr>\n",
       "      <th>3</th>\n",
       "      <td>id4</td>\n",
       "      <td>47</td>\n",
       "      <td>blue-collar</td>\n",
       "      <td>married</td>\n",
       "      <td>unknown</td>\n",
       "      <td>no</td>\n",
       "      <td>1506.0</td>\n",
       "      <td>yes</td>\n",
       "      <td>no</td>\n",
       "      <td>unknown</td>\n",
       "      <td>5</td>\n",
       "      <td>may</td>\n",
       "      <td>92</td>\n",
       "      <td>1</td>\n",
       "      <td>-1</td>\n",
       "      <td>0</td>\n",
       "      <td>unknown</td>\n",
       "      <td>no</td>\n",
       "    </tr>\n",
       "    <tr>\n",
       "      <th>4</th>\n",
       "      <td>id5</td>\n",
       "      <td>33</td>\n",
       "      <td>unknown</td>\n",
       "      <td>single</td>\n",
       "      <td>unknown</td>\n",
       "      <td>no</td>\n",
       "      <td>1.0</td>\n",
       "      <td>no</td>\n",
       "      <td>no</td>\n",
       "      <td>unknown</td>\n",
       "      <td>5</td>\n",
       "      <td>may</td>\n",
       "      <td>198</td>\n",
       "      <td>1</td>\n",
       "      <td>-1</td>\n",
       "      <td>0</td>\n",
       "      <td>unknown</td>\n",
       "      <td>no</td>\n",
       "    </tr>\n",
       "  </tbody>\n",
       "</table>\n",
       "</div>"
      ],
      "text/plain": [
       "    id  age           job  marital  education default  balance housing loan  \\\n",
       "0  id1   58    management  married   tertiary      no   2143.0     yes   no   \n",
       "1  id2   44    technician   single  secondary      no     29.0     yes   no   \n",
       "2  id3   33  entrepreneur  married  secondary      no      2.0     yes  yes   \n",
       "3  id4   47   blue-collar  married    unknown      no   1506.0     yes   no   \n",
       "4  id5   33       unknown   single    unknown      no      1.0      no   no   \n",
       "\n",
       "   contact  day month  duration  campaign  pdays  previous poutcome   y  \n",
       "0  unknown    5   may       261         1     -1         0  unknown  no  \n",
       "1  unknown    5   may       151         1     -1         0  unknown  no  \n",
       "2  unknown    5   may        76         1     -1         0  unknown  no  \n",
       "3  unknown    5   may        92         1     -1         0  unknown  no  \n",
       "4  unknown    5   may       198         1     -1         0  unknown  no  "
      ]
     },
     "execution_count": 34,
     "metadata": {},
     "output_type": "execute_result"
    }
   ],
   "source": [
    "#Maîtriser la fonction head\n",
    "df.head()"
   ]
  },
  {
   "cell_type": "code",
   "execution_count": 29,
   "id": "689db9ad-0895-4fe1-8fea-2551292ec1b1",
   "metadata": {},
   "outputs": [
    {
     "data": {
      "text/html": [
       "<div>\n",
       "<style scoped>\n",
       "    .dataframe tbody tr th:only-of-type {\n",
       "        vertical-align: middle;\n",
       "    }\n",
       "\n",
       "    .dataframe tbody tr th {\n",
       "        vertical-align: top;\n",
       "    }\n",
       "\n",
       "    .dataframe thead th {\n",
       "        text-align: right;\n",
       "    }\n",
       "</style>\n",
       "<table border=\"1\" class=\"dataframe\">\n",
       "  <thead>\n",
       "    <tr style=\"text-align: right;\">\n",
       "      <th></th>\n",
       "      <th>id</th>\n",
       "      <th>age</th>\n",
       "      <th>job</th>\n",
       "      <th>marital</th>\n",
       "      <th>education</th>\n",
       "      <th>default</th>\n",
       "      <th>balance</th>\n",
       "      <th>housing</th>\n",
       "      <th>loan</th>\n",
       "      <th>contact</th>\n",
       "      <th>day</th>\n",
       "      <th>month</th>\n",
       "      <th>duration</th>\n",
       "      <th>campaign</th>\n",
       "      <th>pdays</th>\n",
       "      <th>previous</th>\n",
       "      <th>poutcome</th>\n",
       "      <th>y</th>\n",
       "    </tr>\n",
       "  </thead>\n",
       "  <tbody>\n",
       "    <tr>\n",
       "      <th>0</th>\n",
       "      <td>id1</td>\n",
       "      <td>58</td>\n",
       "      <td>management</td>\n",
       "      <td>married</td>\n",
       "      <td>tertiary</td>\n",
       "      <td>no</td>\n",
       "      <td>2143.0</td>\n",
       "      <td>yes</td>\n",
       "      <td>no</td>\n",
       "      <td>unknown</td>\n",
       "      <td>5</td>\n",
       "      <td>may</td>\n",
       "      <td>261</td>\n",
       "      <td>1</td>\n",
       "      <td>-1</td>\n",
       "      <td>0</td>\n",
       "      <td>unknown</td>\n",
       "      <td>no</td>\n",
       "    </tr>\n",
       "    <tr>\n",
       "      <th>1</th>\n",
       "      <td>id2</td>\n",
       "      <td>44</td>\n",
       "      <td>technician</td>\n",
       "      <td>single</td>\n",
       "      <td>secondary</td>\n",
       "      <td>no</td>\n",
       "      <td>29.0</td>\n",
       "      <td>yes</td>\n",
       "      <td>no</td>\n",
       "      <td>unknown</td>\n",
       "      <td>5</td>\n",
       "      <td>may</td>\n",
       "      <td>151</td>\n",
       "      <td>1</td>\n",
       "      <td>-1</td>\n",
       "      <td>0</td>\n",
       "      <td>unknown</td>\n",
       "      <td>no</td>\n",
       "    </tr>\n",
       "    <tr>\n",
       "      <th>2</th>\n",
       "      <td>id3</td>\n",
       "      <td>33</td>\n",
       "      <td>entrepreneur</td>\n",
       "      <td>married</td>\n",
       "      <td>secondary</td>\n",
       "      <td>no</td>\n",
       "      <td>2.0</td>\n",
       "      <td>yes</td>\n",
       "      <td>yes</td>\n",
       "      <td>unknown</td>\n",
       "      <td>5</td>\n",
       "      <td>may</td>\n",
       "      <td>76</td>\n",
       "      <td>1</td>\n",
       "      <td>-1</td>\n",
       "      <td>0</td>\n",
       "      <td>unknown</td>\n",
       "      <td>no</td>\n",
       "    </tr>\n",
       "    <tr>\n",
       "      <th>3</th>\n",
       "      <td>id4</td>\n",
       "      <td>47</td>\n",
       "      <td>blue-collar</td>\n",
       "      <td>married</td>\n",
       "      <td>unknown</td>\n",
       "      <td>no</td>\n",
       "      <td>1506.0</td>\n",
       "      <td>yes</td>\n",
       "      <td>no</td>\n",
       "      <td>unknown</td>\n",
       "      <td>5</td>\n",
       "      <td>may</td>\n",
       "      <td>92</td>\n",
       "      <td>1</td>\n",
       "      <td>-1</td>\n",
       "      <td>0</td>\n",
       "      <td>unknown</td>\n",
       "      <td>no</td>\n",
       "    </tr>\n",
       "    <tr>\n",
       "      <th>4</th>\n",
       "      <td>id5</td>\n",
       "      <td>33</td>\n",
       "      <td>unknown</td>\n",
       "      <td>single</td>\n",
       "      <td>unknown</td>\n",
       "      <td>no</td>\n",
       "      <td>1.0</td>\n",
       "      <td>no</td>\n",
       "      <td>no</td>\n",
       "      <td>unknown</td>\n",
       "      <td>5</td>\n",
       "      <td>may</td>\n",
       "      <td>198</td>\n",
       "      <td>1</td>\n",
       "      <td>-1</td>\n",
       "      <td>0</td>\n",
       "      <td>unknown</td>\n",
       "      <td>no</td>\n",
       "    </tr>\n",
       "    <tr>\n",
       "      <th>5</th>\n",
       "      <td>id6</td>\n",
       "      <td>35</td>\n",
       "      <td>management</td>\n",
       "      <td>married</td>\n",
       "      <td>tertiary</td>\n",
       "      <td>no</td>\n",
       "      <td>231.0</td>\n",
       "      <td>yes</td>\n",
       "      <td>no</td>\n",
       "      <td>unknown</td>\n",
       "      <td>5</td>\n",
       "      <td>may</td>\n",
       "      <td>139</td>\n",
       "      <td>1</td>\n",
       "      <td>-1</td>\n",
       "      <td>0</td>\n",
       "      <td>unknown</td>\n",
       "      <td>no</td>\n",
       "    </tr>\n",
       "    <tr>\n",
       "      <th>6</th>\n",
       "      <td>id7</td>\n",
       "      <td>28</td>\n",
       "      <td>management</td>\n",
       "      <td>single</td>\n",
       "      <td>tertiary</td>\n",
       "      <td>no</td>\n",
       "      <td>447.0</td>\n",
       "      <td>yes</td>\n",
       "      <td>yes</td>\n",
       "      <td>unknown</td>\n",
       "      <td>5</td>\n",
       "      <td>may</td>\n",
       "      <td>217</td>\n",
       "      <td>1</td>\n",
       "      <td>-1</td>\n",
       "      <td>0</td>\n",
       "      <td>unknown</td>\n",
       "      <td>no</td>\n",
       "    </tr>\n",
       "    <tr>\n",
       "      <th>7</th>\n",
       "      <td>id8</td>\n",
       "      <td>42</td>\n",
       "      <td>entrepreneur</td>\n",
       "      <td>divorced</td>\n",
       "      <td>tertiary</td>\n",
       "      <td>yes</td>\n",
       "      <td>2.0</td>\n",
       "      <td>yes</td>\n",
       "      <td>no</td>\n",
       "      <td>unknown</td>\n",
       "      <td>5</td>\n",
       "      <td>may</td>\n",
       "      <td>380</td>\n",
       "      <td>1</td>\n",
       "      <td>-1</td>\n",
       "      <td>0</td>\n",
       "      <td>unknown</td>\n",
       "      <td>no</td>\n",
       "    </tr>\n",
       "    <tr>\n",
       "      <th>8</th>\n",
       "      <td>id9</td>\n",
       "      <td>58</td>\n",
       "      <td>retired</td>\n",
       "      <td>married</td>\n",
       "      <td>primary</td>\n",
       "      <td>no</td>\n",
       "      <td>121.0</td>\n",
       "      <td>yes</td>\n",
       "      <td>no</td>\n",
       "      <td>unknown</td>\n",
       "      <td>5</td>\n",
       "      <td>may</td>\n",
       "      <td>50</td>\n",
       "      <td>1</td>\n",
       "      <td>-1</td>\n",
       "      <td>0</td>\n",
       "      <td>unknown</td>\n",
       "      <td>no</td>\n",
       "    </tr>\n",
       "    <tr>\n",
       "      <th>9</th>\n",
       "      <td>id10</td>\n",
       "      <td>43</td>\n",
       "      <td>technician</td>\n",
       "      <td>single</td>\n",
       "      <td>secondary</td>\n",
       "      <td>no</td>\n",
       "      <td>NaN</td>\n",
       "      <td>yes</td>\n",
       "      <td>no</td>\n",
       "      <td>unknown</td>\n",
       "      <td>5</td>\n",
       "      <td>may</td>\n",
       "      <td>55</td>\n",
       "      <td>1</td>\n",
       "      <td>-1</td>\n",
       "      <td>0</td>\n",
       "      <td>unknown</td>\n",
       "      <td>no</td>\n",
       "    </tr>\n",
       "  </tbody>\n",
       "</table>\n",
       "</div>"
      ],
      "text/plain": [
       "     id  age           job   marital  education default  balance housing loan  \\\n",
       "0   id1   58    management   married   tertiary      no   2143.0     yes   no   \n",
       "1   id2   44    technician    single  secondary      no     29.0     yes   no   \n",
       "2   id3   33  entrepreneur   married  secondary      no      2.0     yes  yes   \n",
       "3   id4   47   blue-collar   married    unknown      no   1506.0     yes   no   \n",
       "4   id5   33       unknown    single    unknown      no      1.0      no   no   \n",
       "5   id6   35    management   married   tertiary      no    231.0     yes   no   \n",
       "6   id7   28    management    single   tertiary      no    447.0     yes  yes   \n",
       "7   id8   42  entrepreneur  divorced   tertiary     yes      2.0     yes   no   \n",
       "8   id9   58       retired   married    primary      no    121.0     yes   no   \n",
       "9  id10   43    technician    single  secondary      no      NaN     yes   no   \n",
       "\n",
       "   contact  day month  duration  campaign  pdays  previous poutcome   y  \n",
       "0  unknown    5   may       261         1     -1         0  unknown  no  \n",
       "1  unknown    5   may       151         1     -1         0  unknown  no  \n",
       "2  unknown    5   may        76         1     -1         0  unknown  no  \n",
       "3  unknown    5   may        92         1     -1         0  unknown  no  \n",
       "4  unknown    5   may       198         1     -1         0  unknown  no  \n",
       "5  unknown    5   may       139         1     -1         0  unknown  no  \n",
       "6  unknown    5   may       217         1     -1         0  unknown  no  \n",
       "7  unknown    5   may       380         1     -1         0  unknown  no  \n",
       "8  unknown    5   may        50         1     -1         0  unknown  no  \n",
       "9  unknown    5   may        55         1     -1         0  unknown  no  "
      ]
     },
     "execution_count": 29,
     "metadata": {},
     "output_type": "execute_result"
    }
   ],
   "source": [
    "# Afficher les 10 premiers clients\n",
    "df.head(10)"
   ]
  },
  {
   "cell_type": "code",
   "execution_count": 36,
   "id": "0a59f8da-1498-4ae3-a1b3-3fabe9b72de8",
   "metadata": {},
   "outputs": [
    {
     "data": {
      "text/html": [
       "<div>\n",
       "<style scoped>\n",
       "    .dataframe tbody tr th:only-of-type {\n",
       "        vertical-align: middle;\n",
       "    }\n",
       "\n",
       "    .dataframe tbody tr th {\n",
       "        vertical-align: top;\n",
       "    }\n",
       "\n",
       "    .dataframe thead th {\n",
       "        text-align: right;\n",
       "    }\n",
       "</style>\n",
       "<table border=\"1\" class=\"dataframe\">\n",
       "  <thead>\n",
       "    <tr style=\"text-align: right;\">\n",
       "      <th></th>\n",
       "      <th>id</th>\n",
       "      <th>age</th>\n",
       "      <th>job</th>\n",
       "      <th>marital</th>\n",
       "      <th>education</th>\n",
       "      <th>default</th>\n",
       "      <th>balance</th>\n",
       "      <th>housing</th>\n",
       "      <th>loan</th>\n",
       "      <th>contact</th>\n",
       "      <th>day</th>\n",
       "      <th>month</th>\n",
       "      <th>duration</th>\n",
       "      <th>campaign</th>\n",
       "      <th>pdays</th>\n",
       "      <th>previous</th>\n",
       "      <th>poutcome</th>\n",
       "      <th>y</th>\n",
       "    </tr>\n",
       "  </thead>\n",
       "  <tbody>\n",
       "    <tr>\n",
       "      <th>45206</th>\n",
       "      <td>id45207</td>\n",
       "      <td>51</td>\n",
       "      <td>technician</td>\n",
       "      <td>married</td>\n",
       "      <td>tertiary</td>\n",
       "      <td>no</td>\n",
       "      <td>825.0</td>\n",
       "      <td>no</td>\n",
       "      <td>no</td>\n",
       "      <td>cellular</td>\n",
       "      <td>17</td>\n",
       "      <td>nov</td>\n",
       "      <td>977</td>\n",
       "      <td>3</td>\n",
       "      <td>-1</td>\n",
       "      <td>0</td>\n",
       "      <td>unknown</td>\n",
       "      <td>yes</td>\n",
       "    </tr>\n",
       "    <tr>\n",
       "      <th>45207</th>\n",
       "      <td>id45208</td>\n",
       "      <td>71</td>\n",
       "      <td>retired</td>\n",
       "      <td>divorced</td>\n",
       "      <td>primary</td>\n",
       "      <td>no</td>\n",
       "      <td>1729.0</td>\n",
       "      <td>no</td>\n",
       "      <td>no</td>\n",
       "      <td>cellular</td>\n",
       "      <td>17</td>\n",
       "      <td>nov</td>\n",
       "      <td>456</td>\n",
       "      <td>2</td>\n",
       "      <td>-1</td>\n",
       "      <td>0</td>\n",
       "      <td>unknown</td>\n",
       "      <td>yes</td>\n",
       "    </tr>\n",
       "    <tr>\n",
       "      <th>45208</th>\n",
       "      <td>id45209</td>\n",
       "      <td>72</td>\n",
       "      <td>retired</td>\n",
       "      <td>married</td>\n",
       "      <td>secondary</td>\n",
       "      <td>no</td>\n",
       "      <td>5715.0</td>\n",
       "      <td>no</td>\n",
       "      <td>no</td>\n",
       "      <td>cellular</td>\n",
       "      <td>17</td>\n",
       "      <td>nov</td>\n",
       "      <td>1127</td>\n",
       "      <td>5</td>\n",
       "      <td>184</td>\n",
       "      <td>3</td>\n",
       "      <td>success</td>\n",
       "      <td>yes</td>\n",
       "    </tr>\n",
       "    <tr>\n",
       "      <th>45209</th>\n",
       "      <td>id45210</td>\n",
       "      <td>57</td>\n",
       "      <td>blue-collar</td>\n",
       "      <td>married</td>\n",
       "      <td>secondary</td>\n",
       "      <td>no</td>\n",
       "      <td>668.0</td>\n",
       "      <td>no</td>\n",
       "      <td>no</td>\n",
       "      <td>telephone</td>\n",
       "      <td>17</td>\n",
       "      <td>nov</td>\n",
       "      <td>508</td>\n",
       "      <td>4</td>\n",
       "      <td>-1</td>\n",
       "      <td>0</td>\n",
       "      <td>unknown</td>\n",
       "      <td>no</td>\n",
       "    </tr>\n",
       "    <tr>\n",
       "      <th>45210</th>\n",
       "      <td>id45211</td>\n",
       "      <td>37</td>\n",
       "      <td>entrepreneur</td>\n",
       "      <td>married</td>\n",
       "      <td>secondary</td>\n",
       "      <td>no</td>\n",
       "      <td>2971.0</td>\n",
       "      <td>no</td>\n",
       "      <td>no</td>\n",
       "      <td>cellular</td>\n",
       "      <td>17</td>\n",
       "      <td>nov</td>\n",
       "      <td>361</td>\n",
       "      <td>2</td>\n",
       "      <td>188</td>\n",
       "      <td>11</td>\n",
       "      <td>other</td>\n",
       "      <td>no</td>\n",
       "    </tr>\n",
       "  </tbody>\n",
       "</table>\n",
       "</div>"
      ],
      "text/plain": [
       "            id  age           job   marital  education default  balance  \\\n",
       "45206  id45207   51    technician   married   tertiary      no    825.0   \n",
       "45207  id45208   71       retired  divorced    primary      no   1729.0   \n",
       "45208  id45209   72       retired   married  secondary      no   5715.0   \n",
       "45209  id45210   57   blue-collar   married  secondary      no    668.0   \n",
       "45210  id45211   37  entrepreneur   married  secondary      no   2971.0   \n",
       "\n",
       "      housing loan    contact  day month  duration  campaign  pdays  previous  \\\n",
       "45206      no   no   cellular   17   nov       977         3     -1         0   \n",
       "45207      no   no   cellular   17   nov       456         2     -1         0   \n",
       "45208      no   no   cellular   17   nov      1127         5    184         3   \n",
       "45209      no   no  telephone   17   nov       508         4     -1         0   \n",
       "45210      no   no   cellular   17   nov       361         2    188        11   \n",
       "\n",
       "      poutcome    y  \n",
       "45206  unknown  yes  \n",
       "45207  unknown  yes  \n",
       "45208  success  yes  \n",
       "45209  unknown   no  \n",
       "45210    other   no  "
      ]
     },
     "execution_count": 36,
     "metadata": {},
     "output_type": "execute_result"
    }
   ],
   "source": [
    "# Afficher les 5 dernières lignes de la base de données \n",
    "df.tail()"
   ]
  },
  {
   "cell_type": "code",
   "execution_count": 31,
   "id": "9a9d2335-bb30-4cc4-b757-7da3772d7d8b",
   "metadata": {},
   "outputs": [
    {
     "data": {
      "text/html": [
       "<div>\n",
       "<style scoped>\n",
       "    .dataframe tbody tr th:only-of-type {\n",
       "        vertical-align: middle;\n",
       "    }\n",
       "\n",
       "    .dataframe tbody tr th {\n",
       "        vertical-align: top;\n",
       "    }\n",
       "\n",
       "    .dataframe thead th {\n",
       "        text-align: right;\n",
       "    }\n",
       "</style>\n",
       "<table border=\"1\" class=\"dataframe\">\n",
       "  <thead>\n",
       "    <tr style=\"text-align: right;\">\n",
       "      <th></th>\n",
       "      <th>id</th>\n",
       "      <th>age</th>\n",
       "      <th>job</th>\n",
       "      <th>marital</th>\n",
       "      <th>education</th>\n",
       "      <th>default</th>\n",
       "      <th>balance</th>\n",
       "      <th>housing</th>\n",
       "      <th>loan</th>\n",
       "      <th>contact</th>\n",
       "      <th>day</th>\n",
       "      <th>month</th>\n",
       "      <th>duration</th>\n",
       "      <th>campaign</th>\n",
       "      <th>pdays</th>\n",
       "      <th>previous</th>\n",
       "      <th>poutcome</th>\n",
       "      <th>y</th>\n",
       "    </tr>\n",
       "  </thead>\n",
       "  <tbody>\n",
       "    <tr>\n",
       "      <th>45201</th>\n",
       "      <td>id45202</td>\n",
       "      <td>53</td>\n",
       "      <td>management</td>\n",
       "      <td>married</td>\n",
       "      <td>tertiary</td>\n",
       "      <td>no</td>\n",
       "      <td>583.0</td>\n",
       "      <td>no</td>\n",
       "      <td>no</td>\n",
       "      <td>cellular</td>\n",
       "      <td>17</td>\n",
       "      <td>nov</td>\n",
       "      <td>226</td>\n",
       "      <td>1</td>\n",
       "      <td>184</td>\n",
       "      <td>4</td>\n",
       "      <td>success</td>\n",
       "      <td>yes</td>\n",
       "    </tr>\n",
       "    <tr>\n",
       "      <th>45202</th>\n",
       "      <td>id45203</td>\n",
       "      <td>34</td>\n",
       "      <td>admin.</td>\n",
       "      <td>single</td>\n",
       "      <td>secondary</td>\n",
       "      <td>no</td>\n",
       "      <td>557.0</td>\n",
       "      <td>no</td>\n",
       "      <td>no</td>\n",
       "      <td>cellular</td>\n",
       "      <td>17</td>\n",
       "      <td>nov</td>\n",
       "      <td>224</td>\n",
       "      <td>1</td>\n",
       "      <td>-1</td>\n",
       "      <td>0</td>\n",
       "      <td>unknown</td>\n",
       "      <td>yes</td>\n",
       "    </tr>\n",
       "    <tr>\n",
       "      <th>45203</th>\n",
       "      <td>id45204</td>\n",
       "      <td>23</td>\n",
       "      <td>student</td>\n",
       "      <td>single</td>\n",
       "      <td>tertiary</td>\n",
       "      <td>no</td>\n",
       "      <td>113.0</td>\n",
       "      <td>no</td>\n",
       "      <td>no</td>\n",
       "      <td>cellular</td>\n",
       "      <td>17</td>\n",
       "      <td>nov</td>\n",
       "      <td>266</td>\n",
       "      <td>1</td>\n",
       "      <td>-1</td>\n",
       "      <td>0</td>\n",
       "      <td>unknown</td>\n",
       "      <td>yes</td>\n",
       "    </tr>\n",
       "    <tr>\n",
       "      <th>45204</th>\n",
       "      <td>id45205</td>\n",
       "      <td>73</td>\n",
       "      <td>retired</td>\n",
       "      <td>married</td>\n",
       "      <td>secondary</td>\n",
       "      <td>no</td>\n",
       "      <td>2850.0</td>\n",
       "      <td>no</td>\n",
       "      <td>no</td>\n",
       "      <td>cellular</td>\n",
       "      <td>17</td>\n",
       "      <td>nov</td>\n",
       "      <td>300</td>\n",
       "      <td>1</td>\n",
       "      <td>40</td>\n",
       "      <td>8</td>\n",
       "      <td>failure</td>\n",
       "      <td>yes</td>\n",
       "    </tr>\n",
       "    <tr>\n",
       "      <th>45205</th>\n",
       "      <td>id45206</td>\n",
       "      <td>25</td>\n",
       "      <td>technician</td>\n",
       "      <td>single</td>\n",
       "      <td>secondary</td>\n",
       "      <td>no</td>\n",
       "      <td>505.0</td>\n",
       "      <td>no</td>\n",
       "      <td>yes</td>\n",
       "      <td>cellular</td>\n",
       "      <td>17</td>\n",
       "      <td>nov</td>\n",
       "      <td>386</td>\n",
       "      <td>2</td>\n",
       "      <td>-1</td>\n",
       "      <td>0</td>\n",
       "      <td>unknown</td>\n",
       "      <td>yes</td>\n",
       "    </tr>\n",
       "    <tr>\n",
       "      <th>45206</th>\n",
       "      <td>id45207</td>\n",
       "      <td>51</td>\n",
       "      <td>technician</td>\n",
       "      <td>married</td>\n",
       "      <td>tertiary</td>\n",
       "      <td>no</td>\n",
       "      <td>825.0</td>\n",
       "      <td>no</td>\n",
       "      <td>no</td>\n",
       "      <td>cellular</td>\n",
       "      <td>17</td>\n",
       "      <td>nov</td>\n",
       "      <td>977</td>\n",
       "      <td>3</td>\n",
       "      <td>-1</td>\n",
       "      <td>0</td>\n",
       "      <td>unknown</td>\n",
       "      <td>yes</td>\n",
       "    </tr>\n",
       "    <tr>\n",
       "      <th>45207</th>\n",
       "      <td>id45208</td>\n",
       "      <td>71</td>\n",
       "      <td>retired</td>\n",
       "      <td>divorced</td>\n",
       "      <td>primary</td>\n",
       "      <td>no</td>\n",
       "      <td>1729.0</td>\n",
       "      <td>no</td>\n",
       "      <td>no</td>\n",
       "      <td>cellular</td>\n",
       "      <td>17</td>\n",
       "      <td>nov</td>\n",
       "      <td>456</td>\n",
       "      <td>2</td>\n",
       "      <td>-1</td>\n",
       "      <td>0</td>\n",
       "      <td>unknown</td>\n",
       "      <td>yes</td>\n",
       "    </tr>\n",
       "    <tr>\n",
       "      <th>45208</th>\n",
       "      <td>id45209</td>\n",
       "      <td>72</td>\n",
       "      <td>retired</td>\n",
       "      <td>married</td>\n",
       "      <td>secondary</td>\n",
       "      <td>no</td>\n",
       "      <td>5715.0</td>\n",
       "      <td>no</td>\n",
       "      <td>no</td>\n",
       "      <td>cellular</td>\n",
       "      <td>17</td>\n",
       "      <td>nov</td>\n",
       "      <td>1127</td>\n",
       "      <td>5</td>\n",
       "      <td>184</td>\n",
       "      <td>3</td>\n",
       "      <td>success</td>\n",
       "      <td>yes</td>\n",
       "    </tr>\n",
       "    <tr>\n",
       "      <th>45209</th>\n",
       "      <td>id45210</td>\n",
       "      <td>57</td>\n",
       "      <td>blue-collar</td>\n",
       "      <td>married</td>\n",
       "      <td>secondary</td>\n",
       "      <td>no</td>\n",
       "      <td>668.0</td>\n",
       "      <td>no</td>\n",
       "      <td>no</td>\n",
       "      <td>telephone</td>\n",
       "      <td>17</td>\n",
       "      <td>nov</td>\n",
       "      <td>508</td>\n",
       "      <td>4</td>\n",
       "      <td>-1</td>\n",
       "      <td>0</td>\n",
       "      <td>unknown</td>\n",
       "      <td>no</td>\n",
       "    </tr>\n",
       "    <tr>\n",
       "      <th>45210</th>\n",
       "      <td>id45211</td>\n",
       "      <td>37</td>\n",
       "      <td>entrepreneur</td>\n",
       "      <td>married</td>\n",
       "      <td>secondary</td>\n",
       "      <td>no</td>\n",
       "      <td>2971.0</td>\n",
       "      <td>no</td>\n",
       "      <td>no</td>\n",
       "      <td>cellular</td>\n",
       "      <td>17</td>\n",
       "      <td>nov</td>\n",
       "      <td>361</td>\n",
       "      <td>2</td>\n",
       "      <td>188</td>\n",
       "      <td>11</td>\n",
       "      <td>other</td>\n",
       "      <td>no</td>\n",
       "    </tr>\n",
       "  </tbody>\n",
       "</table>\n",
       "</div>"
      ],
      "text/plain": [
       "            id  age           job   marital  education default  balance  \\\n",
       "45201  id45202   53    management   married   tertiary      no    583.0   \n",
       "45202  id45203   34        admin.    single  secondary      no    557.0   \n",
       "45203  id45204   23       student    single   tertiary      no    113.0   \n",
       "45204  id45205   73       retired   married  secondary      no   2850.0   \n",
       "45205  id45206   25    technician    single  secondary      no    505.0   \n",
       "45206  id45207   51    technician   married   tertiary      no    825.0   \n",
       "45207  id45208   71       retired  divorced    primary      no   1729.0   \n",
       "45208  id45209   72       retired   married  secondary      no   5715.0   \n",
       "45209  id45210   57   blue-collar   married  secondary      no    668.0   \n",
       "45210  id45211   37  entrepreneur   married  secondary      no   2971.0   \n",
       "\n",
       "      housing loan    contact  day month  duration  campaign  pdays  previous  \\\n",
       "45201      no   no   cellular   17   nov       226         1    184         4   \n",
       "45202      no   no   cellular   17   nov       224         1     -1         0   \n",
       "45203      no   no   cellular   17   nov       266         1     -1         0   \n",
       "45204      no   no   cellular   17   nov       300         1     40         8   \n",
       "45205      no  yes   cellular   17   nov       386         2     -1         0   \n",
       "45206      no   no   cellular   17   nov       977         3     -1         0   \n",
       "45207      no   no   cellular   17   nov       456         2     -1         0   \n",
       "45208      no   no   cellular   17   nov      1127         5    184         3   \n",
       "45209      no   no  telephone   17   nov       508         4     -1         0   \n",
       "45210      no   no   cellular   17   nov       361         2    188        11   \n",
       "\n",
       "      poutcome    y  \n",
       "45201  success  yes  \n",
       "45202  unknown  yes  \n",
       "45203  unknown  yes  \n",
       "45204  failure  yes  \n",
       "45205  unknown  yes  \n",
       "45206  unknown  yes  \n",
       "45207  unknown  yes  \n",
       "45208  success  yes  \n",
       "45209  unknown   no  \n",
       "45210    other   no  "
      ]
     },
     "execution_count": 31,
     "metadata": {},
     "output_type": "execute_result"
    }
   ],
   "source": [
    "# Afficher les 10 derniers la liste\n",
    "df.tail(10)"
   ]
  },
  {
   "cell_type": "markdown",
   "id": "78ae53c9-b0b9-484c-aa56-6d873e22cbd8",
   "metadata": {},
   "source": [
    "# Quelles sont les variables de l'analyse ?"
   ]
  },
  {
   "cell_type": "code",
   "execution_count": 37,
   "id": "43c4e52f-bcb7-47bd-b730-5828b10980e7",
   "metadata": {},
   "outputs": [
    {
     "data": {
      "text/plain": [
       "Index(['id', 'age', 'job', 'marital', 'education', 'default', 'balance',\n",
       "       'housing', 'loan', 'contact', 'day', 'month', 'duration', 'campaign',\n",
       "       'pdays', 'previous', 'poutcome', 'y'],\n",
       "      dtype='object')"
      ]
     },
     "execution_count": 37,
     "metadata": {},
     "output_type": "execute_result"
    }
   ],
   "source": [
    "# Liste des colonnes \n",
    "df.columns"
   ]
  },
  {
   "cell_type": "code",
   "execution_count": 38,
   "id": "9bebb636-eba7-40be-af83-bdc72c6379de",
   "metadata": {},
   "outputs": [
    {
     "data": {
      "text/plain": [
       "id            object\n",
       "age            int64\n",
       "job           object\n",
       "marital       object\n",
       "education     object\n",
       "default       object\n",
       "balance      float64\n",
       "housing       object\n",
       "loan          object\n",
       "contact       object\n",
       "day            int64\n",
       "month         object\n",
       "duration       int64\n",
       "campaign       int64\n",
       "pdays          int64\n",
       "previous       int64\n",
       "poutcome      object\n",
       "y             object\n",
       "dtype: object"
      ]
     },
     "execution_count": 38,
     "metadata": {},
     "output_type": "execute_result"
    }
   ],
   "source": [
    "# Nature des données de la base dtype\n",
    "df.dtypes"
   ]
  },
  {
   "cell_type": "markdown",
   "id": "8dd7a212-6c18-4db6-a9e6-e94c2f042211",
   "metadata": {},
   "source": [
    "# Combien de clients et combien de variables "
   ]
  },
  {
   "cell_type": "code",
   "execution_count": 39,
   "id": "4f0b7426-aec2-434f-ad29-1662dabc2db6",
   "metadata": {},
   "outputs": [
    {
     "data": {
      "text/plain": [
       "(45211, 18)"
      ]
     },
     "execution_count": 39,
     "metadata": {},
     "output_type": "execute_result"
    }
   ],
   "source": [
    "# Dimension du tableau (Shape). Elle donne le nombre de lignes et de colonnes\n",
    "df.shape\n"
   ]
  },
  {
   "cell_type": "markdown",
   "id": "80d28b2b-e879-4bc5-ae97-9191f34b897b",
   "metadata": {},
   "source": [
    "# Description rapide de la base"
   ]
  },
  {
   "cell_type": "code",
   "execution_count": 40,
   "id": "d8fd2b1f-dfa4-4531-b4bd-3526b596cce4",
   "metadata": {},
   "outputs": [
    {
     "data": {
      "text/html": [
       "<div>\n",
       "<style scoped>\n",
       "    .dataframe tbody tr th:only-of-type {\n",
       "        vertical-align: middle;\n",
       "    }\n",
       "\n",
       "    .dataframe tbody tr th {\n",
       "        vertical-align: top;\n",
       "    }\n",
       "\n",
       "    .dataframe thead th {\n",
       "        text-align: right;\n",
       "    }\n",
       "</style>\n",
       "<table border=\"1\" class=\"dataframe\">\n",
       "  <thead>\n",
       "    <tr style=\"text-align: right;\">\n",
       "      <th></th>\n",
       "      <th>age</th>\n",
       "      <th>balance</th>\n",
       "      <th>day</th>\n",
       "      <th>duration</th>\n",
       "      <th>campaign</th>\n",
       "      <th>pdays</th>\n",
       "      <th>previous</th>\n",
       "    </tr>\n",
       "  </thead>\n",
       "  <tbody>\n",
       "    <tr>\n",
       "      <th>count</th>\n",
       "      <td>45211.000000</td>\n",
       "      <td>45206.000000</td>\n",
       "      <td>45211.000000</td>\n",
       "      <td>45211.000000</td>\n",
       "      <td>45211.000000</td>\n",
       "      <td>45211.000000</td>\n",
       "      <td>45211.000000</td>\n",
       "    </tr>\n",
       "    <tr>\n",
       "      <th>mean</th>\n",
       "      <td>40.931477</td>\n",
       "      <td>1362.403707</td>\n",
       "      <td>15.806419</td>\n",
       "      <td>258.163080</td>\n",
       "      <td>2.763841</td>\n",
       "      <td>40.197828</td>\n",
       "      <td>0.580323</td>\n",
       "    </tr>\n",
       "    <tr>\n",
       "      <th>std</th>\n",
       "      <td>10.623372</td>\n",
       "      <td>3044.906741</td>\n",
       "      <td>8.322476</td>\n",
       "      <td>257.527812</td>\n",
       "      <td>3.098021</td>\n",
       "      <td>100.128746</td>\n",
       "      <td>2.303441</td>\n",
       "    </tr>\n",
       "    <tr>\n",
       "      <th>min</th>\n",
       "      <td>10.000000</td>\n",
       "      <td>-8019.000000</td>\n",
       "      <td>1.000000</td>\n",
       "      <td>0.000000</td>\n",
       "      <td>1.000000</td>\n",
       "      <td>-1.000000</td>\n",
       "      <td>0.000000</td>\n",
       "    </tr>\n",
       "    <tr>\n",
       "      <th>25%</th>\n",
       "      <td>33.000000</td>\n",
       "      <td>72.000000</td>\n",
       "      <td>8.000000</td>\n",
       "      <td>103.000000</td>\n",
       "      <td>1.000000</td>\n",
       "      <td>-1.000000</td>\n",
       "      <td>0.000000</td>\n",
       "    </tr>\n",
       "    <tr>\n",
       "      <th>50%</th>\n",
       "      <td>39.000000</td>\n",
       "      <td>448.000000</td>\n",
       "      <td>16.000000</td>\n",
       "      <td>180.000000</td>\n",
       "      <td>2.000000</td>\n",
       "      <td>-1.000000</td>\n",
       "      <td>0.000000</td>\n",
       "    </tr>\n",
       "    <tr>\n",
       "      <th>75%</th>\n",
       "      <td>48.000000</td>\n",
       "      <td>1428.000000</td>\n",
       "      <td>21.000000</td>\n",
       "      <td>319.000000</td>\n",
       "      <td>3.000000</td>\n",
       "      <td>-1.000000</td>\n",
       "      <td>0.000000</td>\n",
       "    </tr>\n",
       "    <tr>\n",
       "      <th>max</th>\n",
       "      <td>95.000000</td>\n",
       "      <td>102127.000000</td>\n",
       "      <td>31.000000</td>\n",
       "      <td>4918.000000</td>\n",
       "      <td>63.000000</td>\n",
       "      <td>871.000000</td>\n",
       "      <td>275.000000</td>\n",
       "    </tr>\n",
       "  </tbody>\n",
       "</table>\n",
       "</div>"
      ],
      "text/plain": [
       "                age        balance           day      duration      campaign  \\\n",
       "count  45211.000000   45206.000000  45211.000000  45211.000000  45211.000000   \n",
       "mean      40.931477    1362.403707     15.806419    258.163080      2.763841   \n",
       "std       10.623372    3044.906741      8.322476    257.527812      3.098021   \n",
       "min       10.000000   -8019.000000      1.000000      0.000000      1.000000   \n",
       "25%       33.000000      72.000000      8.000000    103.000000      1.000000   \n",
       "50%       39.000000     448.000000     16.000000    180.000000      2.000000   \n",
       "75%       48.000000    1428.000000     21.000000    319.000000      3.000000   \n",
       "max       95.000000  102127.000000     31.000000   4918.000000     63.000000   \n",
       "\n",
       "              pdays      previous  \n",
       "count  45211.000000  45211.000000  \n",
       "mean      40.197828      0.580323  \n",
       "std      100.128746      2.303441  \n",
       "min       -1.000000      0.000000  \n",
       "25%       -1.000000      0.000000  \n",
       "50%       -1.000000      0.000000  \n",
       "75%       -1.000000      0.000000  \n",
       "max      871.000000    275.000000  "
      ]
     },
     "execution_count": 40,
     "metadata": {},
     "output_type": "execute_result"
    }
   ],
   "source": [
    "# La fonction Describe() donne une description des valeurs quantitatives\n",
    "df.describe()"
   ]
  },
  {
   "cell_type": "code",
   "execution_count": 41,
   "id": "13f153be-6f05-472d-81db-5852828f1567",
   "metadata": {},
   "outputs": [
    {
     "data": {
      "text/html": [
       "<div>\n",
       "<style scoped>\n",
       "    .dataframe tbody tr th:only-of-type {\n",
       "        vertical-align: middle;\n",
       "    }\n",
       "\n",
       "    .dataframe tbody tr th {\n",
       "        vertical-align: top;\n",
       "    }\n",
       "\n",
       "    .dataframe thead th {\n",
       "        text-align: right;\n",
       "    }\n",
       "</style>\n",
       "<table border=\"1\" class=\"dataframe\">\n",
       "  <thead>\n",
       "    <tr style=\"text-align: right;\">\n",
       "      <th></th>\n",
       "      <th>id</th>\n",
       "      <th>age</th>\n",
       "      <th>job</th>\n",
       "      <th>marital</th>\n",
       "      <th>education</th>\n",
       "      <th>default</th>\n",
       "      <th>balance</th>\n",
       "      <th>housing</th>\n",
       "      <th>loan</th>\n",
       "      <th>contact</th>\n",
       "      <th>day</th>\n",
       "      <th>month</th>\n",
       "      <th>duration</th>\n",
       "      <th>campaign</th>\n",
       "      <th>pdays</th>\n",
       "      <th>previous</th>\n",
       "      <th>poutcome</th>\n",
       "      <th>y</th>\n",
       "    </tr>\n",
       "  </thead>\n",
       "  <tbody>\n",
       "    <tr>\n",
       "      <th>count</th>\n",
       "      <td>45211</td>\n",
       "      <td>45211.000000</td>\n",
       "      <td>45211</td>\n",
       "      <td>45211</td>\n",
       "      <td>45211</td>\n",
       "      <td>45211</td>\n",
       "      <td>45206.000000</td>\n",
       "      <td>45211</td>\n",
       "      <td>45211</td>\n",
       "      <td>45211</td>\n",
       "      <td>45211.000000</td>\n",
       "      <td>45211</td>\n",
       "      <td>45211.000000</td>\n",
       "      <td>45211.000000</td>\n",
       "      <td>45211.000000</td>\n",
       "      <td>45211.000000</td>\n",
       "      <td>45211</td>\n",
       "      <td>45211</td>\n",
       "    </tr>\n",
       "    <tr>\n",
       "      <th>unique</th>\n",
       "      <td>45211</td>\n",
       "      <td>NaN</td>\n",
       "      <td>12</td>\n",
       "      <td>3</td>\n",
       "      <td>4</td>\n",
       "      <td>2</td>\n",
       "      <td>NaN</td>\n",
       "      <td>2</td>\n",
       "      <td>2</td>\n",
       "      <td>3</td>\n",
       "      <td>NaN</td>\n",
       "      <td>12</td>\n",
       "      <td>NaN</td>\n",
       "      <td>NaN</td>\n",
       "      <td>NaN</td>\n",
       "      <td>NaN</td>\n",
       "      <td>4</td>\n",
       "      <td>2</td>\n",
       "    </tr>\n",
       "    <tr>\n",
       "      <th>top</th>\n",
       "      <td>id1</td>\n",
       "      <td>NaN</td>\n",
       "      <td>blue-collar</td>\n",
       "      <td>married</td>\n",
       "      <td>secondary</td>\n",
       "      <td>no</td>\n",
       "      <td>NaN</td>\n",
       "      <td>yes</td>\n",
       "      <td>no</td>\n",
       "      <td>cellular</td>\n",
       "      <td>NaN</td>\n",
       "      <td>may</td>\n",
       "      <td>NaN</td>\n",
       "      <td>NaN</td>\n",
       "      <td>NaN</td>\n",
       "      <td>NaN</td>\n",
       "      <td>unknown</td>\n",
       "      <td>no</td>\n",
       "    </tr>\n",
       "    <tr>\n",
       "      <th>freq</th>\n",
       "      <td>1</td>\n",
       "      <td>NaN</td>\n",
       "      <td>9732</td>\n",
       "      <td>27214</td>\n",
       "      <td>23202</td>\n",
       "      <td>44396</td>\n",
       "      <td>NaN</td>\n",
       "      <td>25130</td>\n",
       "      <td>37967</td>\n",
       "      <td>29285</td>\n",
       "      <td>NaN</td>\n",
       "      <td>13766</td>\n",
       "      <td>NaN</td>\n",
       "      <td>NaN</td>\n",
       "      <td>NaN</td>\n",
       "      <td>NaN</td>\n",
       "      <td>36959</td>\n",
       "      <td>39922</td>\n",
       "    </tr>\n",
       "    <tr>\n",
       "      <th>mean</th>\n",
       "      <td>NaN</td>\n",
       "      <td>40.931477</td>\n",
       "      <td>NaN</td>\n",
       "      <td>NaN</td>\n",
       "      <td>NaN</td>\n",
       "      <td>NaN</td>\n",
       "      <td>1362.403707</td>\n",
       "      <td>NaN</td>\n",
       "      <td>NaN</td>\n",
       "      <td>NaN</td>\n",
       "      <td>15.806419</td>\n",
       "      <td>NaN</td>\n",
       "      <td>258.163080</td>\n",
       "      <td>2.763841</td>\n",
       "      <td>40.197828</td>\n",
       "      <td>0.580323</td>\n",
       "      <td>NaN</td>\n",
       "      <td>NaN</td>\n",
       "    </tr>\n",
       "    <tr>\n",
       "      <th>std</th>\n",
       "      <td>NaN</td>\n",
       "      <td>10.623372</td>\n",
       "      <td>NaN</td>\n",
       "      <td>NaN</td>\n",
       "      <td>NaN</td>\n",
       "      <td>NaN</td>\n",
       "      <td>3044.906741</td>\n",
       "      <td>NaN</td>\n",
       "      <td>NaN</td>\n",
       "      <td>NaN</td>\n",
       "      <td>8.322476</td>\n",
       "      <td>NaN</td>\n",
       "      <td>257.527812</td>\n",
       "      <td>3.098021</td>\n",
       "      <td>100.128746</td>\n",
       "      <td>2.303441</td>\n",
       "      <td>NaN</td>\n",
       "      <td>NaN</td>\n",
       "    </tr>\n",
       "    <tr>\n",
       "      <th>min</th>\n",
       "      <td>NaN</td>\n",
       "      <td>10.000000</td>\n",
       "      <td>NaN</td>\n",
       "      <td>NaN</td>\n",
       "      <td>NaN</td>\n",
       "      <td>NaN</td>\n",
       "      <td>-8019.000000</td>\n",
       "      <td>NaN</td>\n",
       "      <td>NaN</td>\n",
       "      <td>NaN</td>\n",
       "      <td>1.000000</td>\n",
       "      <td>NaN</td>\n",
       "      <td>0.000000</td>\n",
       "      <td>1.000000</td>\n",
       "      <td>-1.000000</td>\n",
       "      <td>0.000000</td>\n",
       "      <td>NaN</td>\n",
       "      <td>NaN</td>\n",
       "    </tr>\n",
       "    <tr>\n",
       "      <th>25%</th>\n",
       "      <td>NaN</td>\n",
       "      <td>33.000000</td>\n",
       "      <td>NaN</td>\n",
       "      <td>NaN</td>\n",
       "      <td>NaN</td>\n",
       "      <td>NaN</td>\n",
       "      <td>72.000000</td>\n",
       "      <td>NaN</td>\n",
       "      <td>NaN</td>\n",
       "      <td>NaN</td>\n",
       "      <td>8.000000</td>\n",
       "      <td>NaN</td>\n",
       "      <td>103.000000</td>\n",
       "      <td>1.000000</td>\n",
       "      <td>-1.000000</td>\n",
       "      <td>0.000000</td>\n",
       "      <td>NaN</td>\n",
       "      <td>NaN</td>\n",
       "    </tr>\n",
       "    <tr>\n",
       "      <th>50%</th>\n",
       "      <td>NaN</td>\n",
       "      <td>39.000000</td>\n",
       "      <td>NaN</td>\n",
       "      <td>NaN</td>\n",
       "      <td>NaN</td>\n",
       "      <td>NaN</td>\n",
       "      <td>448.000000</td>\n",
       "      <td>NaN</td>\n",
       "      <td>NaN</td>\n",
       "      <td>NaN</td>\n",
       "      <td>16.000000</td>\n",
       "      <td>NaN</td>\n",
       "      <td>180.000000</td>\n",
       "      <td>2.000000</td>\n",
       "      <td>-1.000000</td>\n",
       "      <td>0.000000</td>\n",
       "      <td>NaN</td>\n",
       "      <td>NaN</td>\n",
       "    </tr>\n",
       "    <tr>\n",
       "      <th>75%</th>\n",
       "      <td>NaN</td>\n",
       "      <td>48.000000</td>\n",
       "      <td>NaN</td>\n",
       "      <td>NaN</td>\n",
       "      <td>NaN</td>\n",
       "      <td>NaN</td>\n",
       "      <td>1428.000000</td>\n",
       "      <td>NaN</td>\n",
       "      <td>NaN</td>\n",
       "      <td>NaN</td>\n",
       "      <td>21.000000</td>\n",
       "      <td>NaN</td>\n",
       "      <td>319.000000</td>\n",
       "      <td>3.000000</td>\n",
       "      <td>-1.000000</td>\n",
       "      <td>0.000000</td>\n",
       "      <td>NaN</td>\n",
       "      <td>NaN</td>\n",
       "    </tr>\n",
       "    <tr>\n",
       "      <th>max</th>\n",
       "      <td>NaN</td>\n",
       "      <td>95.000000</td>\n",
       "      <td>NaN</td>\n",
       "      <td>NaN</td>\n",
       "      <td>NaN</td>\n",
       "      <td>NaN</td>\n",
       "      <td>102127.000000</td>\n",
       "      <td>NaN</td>\n",
       "      <td>NaN</td>\n",
       "      <td>NaN</td>\n",
       "      <td>31.000000</td>\n",
       "      <td>NaN</td>\n",
       "      <td>4918.000000</td>\n",
       "      <td>63.000000</td>\n",
       "      <td>871.000000</td>\n",
       "      <td>275.000000</td>\n",
       "      <td>NaN</td>\n",
       "      <td>NaN</td>\n",
       "    </tr>\n",
       "  </tbody>\n",
       "</table>\n",
       "</div>"
      ],
      "text/plain": [
       "           id           age          job  marital  education default  \\\n",
       "count   45211  45211.000000        45211    45211      45211   45211   \n",
       "unique  45211           NaN           12        3          4       2   \n",
       "top       id1           NaN  blue-collar  married  secondary      no   \n",
       "freq        1           NaN         9732    27214      23202   44396   \n",
       "mean      NaN     40.931477          NaN      NaN        NaN     NaN   \n",
       "std       NaN     10.623372          NaN      NaN        NaN     NaN   \n",
       "min       NaN     10.000000          NaN      NaN        NaN     NaN   \n",
       "25%       NaN     33.000000          NaN      NaN        NaN     NaN   \n",
       "50%       NaN     39.000000          NaN      NaN        NaN     NaN   \n",
       "75%       NaN     48.000000          NaN      NaN        NaN     NaN   \n",
       "max       NaN     95.000000          NaN      NaN        NaN     NaN   \n",
       "\n",
       "              balance housing   loan   contact           day  month  \\\n",
       "count    45206.000000   45211  45211     45211  45211.000000  45211   \n",
       "unique            NaN       2      2         3           NaN     12   \n",
       "top               NaN     yes     no  cellular           NaN    may   \n",
       "freq              NaN   25130  37967     29285           NaN  13766   \n",
       "mean      1362.403707     NaN    NaN       NaN     15.806419    NaN   \n",
       "std       3044.906741     NaN    NaN       NaN      8.322476    NaN   \n",
       "min      -8019.000000     NaN    NaN       NaN      1.000000    NaN   \n",
       "25%         72.000000     NaN    NaN       NaN      8.000000    NaN   \n",
       "50%        448.000000     NaN    NaN       NaN     16.000000    NaN   \n",
       "75%       1428.000000     NaN    NaN       NaN     21.000000    NaN   \n",
       "max     102127.000000     NaN    NaN       NaN     31.000000    NaN   \n",
       "\n",
       "            duration      campaign         pdays      previous poutcome      y  \n",
       "count   45211.000000  45211.000000  45211.000000  45211.000000    45211  45211  \n",
       "unique           NaN           NaN           NaN           NaN        4      2  \n",
       "top              NaN           NaN           NaN           NaN  unknown     no  \n",
       "freq             NaN           NaN           NaN           NaN    36959  39922  \n",
       "mean      258.163080      2.763841     40.197828      0.580323      NaN    NaN  \n",
       "std       257.527812      3.098021    100.128746      2.303441      NaN    NaN  \n",
       "min         0.000000      1.000000     -1.000000      0.000000      NaN    NaN  \n",
       "25%       103.000000      1.000000     -1.000000      0.000000      NaN    NaN  \n",
       "50%       180.000000      2.000000     -1.000000      0.000000      NaN    NaN  \n",
       "75%       319.000000      3.000000     -1.000000      0.000000      NaN    NaN  \n",
       "max      4918.000000     63.000000    871.000000    275.000000      NaN    NaN  "
      ]
     },
     "execution_count": 41,
     "metadata": {},
     "output_type": "execute_result"
    }
   ],
   "source": [
    "# include = all (Toutes les valeurs y sont intégrées quanti comme qauli)\n",
    "df.describe(include = \"all\")"
   ]
  },
  {
   "cell_type": "code",
   "execution_count": 42,
   "id": "9c8afc16-9388-4a0f-9e27-cce8b21c6d60",
   "metadata": {},
   "outputs": [
    {
     "data": {
      "text/plain": [
       "0         tertiary\n",
       "1        secondary\n",
       "2        secondary\n",
       "3          unknown\n",
       "4          unknown\n",
       "           ...    \n",
       "45206     tertiary\n",
       "45207      primary\n",
       "45208    secondary\n",
       "45209    secondary\n",
       "45210    secondary\n",
       "Name: education, Length: 45211, dtype: object"
      ]
     },
     "execution_count": 42,
     "metadata": {},
     "output_type": "execute_result"
    }
   ],
   "source": [
    "# Sélection d'une colonne \n",
    "df ['education']"
   ]
  },
  {
   "cell_type": "code",
   "execution_count": 44,
   "id": "249f738c-036b-4e5b-8e1d-4043979280de",
   "metadata": {},
   "outputs": [
    {
     "data": {
      "text/plain": [
       "array(['tertiary', 'secondary', 'unknown', 'primary'], dtype=object)"
      ]
     },
     "execution_count": 44,
     "metadata": {},
     "output_type": "execute_result"
    }
   ],
   "source": [
    "# Sélection des valeurs uniques d'une colonne\n",
    "df ['education'].unique()"
   ]
  },
  {
   "cell_type": "code",
   "execution_count": 45,
   "id": "14119f8f-b018-42f1-88b4-8f5b029549f4",
   "metadata": {},
   "outputs": [
    {
     "data": {
      "text/plain": [
       "education\n",
       "secondary    23202\n",
       "tertiary     13301\n",
       "primary       6851\n",
       "unknown       1857\n",
       "Name: count, dtype: int64"
      ]
     },
     "execution_count": 45,
     "metadata": {},
     "output_type": "execute_result"
    }
   ],
   "source": [
    "# Modalités de la variable \n",
    "df['education'].value_counts()"
   ]
  },
  {
   "cell_type": "code",
   "execution_count": 43,
   "id": "be07d939-67ec-4d02-89bb-dbfa77a0b463",
   "metadata": {},
   "outputs": [
    {
     "data": {
      "text/plain": [
       "<Axes: xlabel='education'>"
      ]
     },
     "execution_count": 43,
     "metadata": {},
     "output_type": "execute_result"
    },
    {
     "data": {
      "image/png": "[encoded data removed]",
      "text/plain": [
       "<Figure size 640x480 with 1 Axes>"
      ]
     },
     "metadata": {},
     "output_type": "display_data"
    }
   ],
   "source": [
    "# Construction du graphique \n",
    "df ['education'].value_counts().plot(kind = \"bar\")"
   ]
  },
  {
   "cell_type": "markdown",
   "id": "4c3adfd0-2670-4f24-a441-96029fceb77c",
   "metadata": {},
   "source": [
    "# Nettoyage des données"
   ]
  },
  {
   "cell_type": "markdown",
   "id": "e95b685d-60d9-4b08-8328-cf676b7fb212",
   "metadata": {},
   "source": [
    "## Trouver le nombre de valeurs manquantes par variables "
   ]
  },
  {
   "cell_type": "code",
   "execution_count": 44,
   "id": "5e36da11-e347-411c-b557-ef0c5b0c29a8",
   "metadata": {},
   "outputs": [
    {
     "data": {
      "text/html": [
       "<div>\n",
       "<style scoped>\n",
       "    .dataframe tbody tr th:only-of-type {\n",
       "        vertical-align: middle;\n",
       "    }\n",
       "\n",
       "    .dataframe tbody tr th {\n",
       "        vertical-align: top;\n",
       "    }\n",
       "\n",
       "    .dataframe thead th {\n",
       "        text-align: right;\n",
       "    }\n",
       "</style>\n",
       "<table border=\"1\" class=\"dataframe\">\n",
       "  <thead>\n",
       "    <tr style=\"text-align: right;\">\n",
       "      <th></th>\n",
       "      <th>id</th>\n",
       "      <th>age</th>\n",
       "      <th>job</th>\n",
       "      <th>marital</th>\n",
       "      <th>education</th>\n",
       "      <th>default</th>\n",
       "      <th>balance</th>\n",
       "      <th>housing</th>\n",
       "      <th>loan</th>\n",
       "      <th>contact</th>\n",
       "      <th>day</th>\n",
       "      <th>month</th>\n",
       "      <th>duration</th>\n",
       "      <th>campaign</th>\n",
       "      <th>pdays</th>\n",
       "      <th>previous</th>\n",
       "      <th>poutcome</th>\n",
       "      <th>y</th>\n",
       "    </tr>\n",
       "  </thead>\n",
       "  <tbody>\n",
       "    <tr>\n",
       "      <th>0</th>\n",
       "      <td>False</td>\n",
       "      <td>False</td>\n",
       "      <td>False</td>\n",
       "      <td>False</td>\n",
       "      <td>False</td>\n",
       "      <td>False</td>\n",
       "      <td>False</td>\n",
       "      <td>False</td>\n",
       "      <td>False</td>\n",
       "      <td>False</td>\n",
       "      <td>False</td>\n",
       "      <td>False</td>\n",
       "      <td>False</td>\n",
       "      <td>False</td>\n",
       "      <td>False</td>\n",
       "      <td>False</td>\n",
       "      <td>False</td>\n",
       "      <td>False</td>\n",
       "    </tr>\n",
       "    <tr>\n",
       "      <th>1</th>\n",
       "      <td>False</td>\n",
       "      <td>False</td>\n",
       "      <td>False</td>\n",
       "      <td>False</td>\n",
       "      <td>False</td>\n",
       "      <td>False</td>\n",
       "      <td>False</td>\n",
       "      <td>False</td>\n",
       "      <td>False</td>\n",
       "      <td>False</td>\n",
       "      <td>False</td>\n",
       "      <td>False</td>\n",
       "      <td>False</td>\n",
       "      <td>False</td>\n",
       "      <td>False</td>\n",
       "      <td>False</td>\n",
       "      <td>False</td>\n",
       "      <td>False</td>\n",
       "    </tr>\n",
       "    <tr>\n",
       "      <th>2</th>\n",
       "      <td>False</td>\n",
       "      <td>False</td>\n",
       "      <td>False</td>\n",
       "      <td>False</td>\n",
       "      <td>False</td>\n",
       "      <td>False</td>\n",
       "      <td>False</td>\n",
       "      <td>False</td>\n",
       "      <td>False</td>\n",
       "      <td>False</td>\n",
       "      <td>False</td>\n",
       "      <td>False</td>\n",
       "      <td>False</td>\n",
       "      <td>False</td>\n",
       "      <td>False</td>\n",
       "      <td>False</td>\n",
       "      <td>False</td>\n",
       "      <td>False</td>\n",
       "    </tr>\n",
       "    <tr>\n",
       "      <th>3</th>\n",
       "      <td>False</td>\n",
       "      <td>False</td>\n",
       "      <td>False</td>\n",
       "      <td>False</td>\n",
       "      <td>False</td>\n",
       "      <td>False</td>\n",
       "      <td>False</td>\n",
       "      <td>False</td>\n",
       "      <td>False</td>\n",
       "      <td>False</td>\n",
       "      <td>False</td>\n",
       "      <td>False</td>\n",
       "      <td>False</td>\n",
       "      <td>False</td>\n",
       "      <td>False</td>\n",
       "      <td>False</td>\n",
       "      <td>False</td>\n",
       "      <td>False</td>\n",
       "    </tr>\n",
       "    <tr>\n",
       "      <th>4</th>\n",
       "      <td>False</td>\n",
       "      <td>False</td>\n",
       "      <td>False</td>\n",
       "      <td>False</td>\n",
       "      <td>False</td>\n",
       "      <td>False</td>\n",
       "      <td>False</td>\n",
       "      <td>False</td>\n",
       "      <td>False</td>\n",
       "      <td>False</td>\n",
       "      <td>False</td>\n",
       "      <td>False</td>\n",
       "      <td>False</td>\n",
       "      <td>False</td>\n",
       "      <td>False</td>\n",
       "      <td>False</td>\n",
       "      <td>False</td>\n",
       "      <td>False</td>\n",
       "    </tr>\n",
       "    <tr>\n",
       "      <th>...</th>\n",
       "      <td>...</td>\n",
       "      <td>...</td>\n",
       "      <td>...</td>\n",
       "      <td>...</td>\n",
       "      <td>...</td>\n",
       "      <td>...</td>\n",
       "      <td>...</td>\n",
       "      <td>...</td>\n",
       "      <td>...</td>\n",
       "      <td>...</td>\n",
       "      <td>...</td>\n",
       "      <td>...</td>\n",
       "      <td>...</td>\n",
       "      <td>...</td>\n",
       "      <td>...</td>\n",
       "      <td>...</td>\n",
       "      <td>...</td>\n",
       "      <td>...</td>\n",
       "    </tr>\n",
       "    <tr>\n",
       "      <th>45206</th>\n",
       "      <td>False</td>\n",
       "      <td>False</td>\n",
       "      <td>False</td>\n",
       "      <td>False</td>\n",
       "      <td>False</td>\n",
       "      <td>False</td>\n",
       "      <td>False</td>\n",
       "      <td>False</td>\n",
       "      <td>False</td>\n",
       "      <td>False</td>\n",
       "      <td>False</td>\n",
       "      <td>False</td>\n",
       "      <td>False</td>\n",
       "      <td>False</td>\n",
       "      <td>False</td>\n",
       "      <td>False</td>\n",
       "      <td>False</td>\n",
       "      <td>False</td>\n",
       "    </tr>\n",
       "    <tr>\n",
       "      <th>45207</th>\n",
       "      <td>False</td>\n",
       "      <td>False</td>\n",
       "      <td>False</td>\n",
       "      <td>False</td>\n",
       "      <td>False</td>\n",
       "      <td>False</td>\n",
       "      <td>False</td>\n",
       "      <td>False</td>\n",
       "      <td>False</td>\n",
       "      <td>False</td>\n",
       "      <td>False</td>\n",
       "      <td>False</td>\n",
       "      <td>False</td>\n",
       "      <td>False</td>\n",
       "      <td>False</td>\n",
       "      <td>False</td>\n",
       "      <td>False</td>\n",
       "      <td>False</td>\n",
       "    </tr>\n",
       "    <tr>\n",
       "      <th>45208</th>\n",
       "      <td>False</td>\n",
       "      <td>False</td>\n",
       "      <td>False</td>\n",
       "      <td>False</td>\n",
       "      <td>False</td>\n",
       "      <td>False</td>\n",
       "      <td>False</td>\n",
       "      <td>False</td>\n",
       "      <td>False</td>\n",
       "      <td>False</td>\n",
       "      <td>False</td>\n",
       "      <td>False</td>\n",
       "      <td>False</td>\n",
       "      <td>False</td>\n",
       "      <td>False</td>\n",
       "      <td>False</td>\n",
       "      <td>False</td>\n",
       "      <td>False</td>\n",
       "    </tr>\n",
       "    <tr>\n",
       "      <th>45209</th>\n",
       "      <td>False</td>\n",
       "      <td>False</td>\n",
       "      <td>False</td>\n",
       "      <td>False</td>\n",
       "      <td>False</td>\n",
       "      <td>False</td>\n",
       "      <td>False</td>\n",
       "      <td>False</td>\n",
       "      <td>False</td>\n",
       "      <td>False</td>\n",
       "      <td>False</td>\n",
       "      <td>False</td>\n",
       "      <td>False</td>\n",
       "      <td>False</td>\n",
       "      <td>False</td>\n",
       "      <td>False</td>\n",
       "      <td>False</td>\n",
       "      <td>False</td>\n",
       "    </tr>\n",
       "    <tr>\n",
       "      <th>45210</th>\n",
       "      <td>False</td>\n",
       "      <td>False</td>\n",
       "      <td>False</td>\n",
       "      <td>False</td>\n",
       "      <td>False</td>\n",
       "      <td>False</td>\n",
       "      <td>False</td>\n",
       "      <td>False</td>\n",
       "      <td>False</td>\n",
       "      <td>False</td>\n",
       "      <td>False</td>\n",
       "      <td>False</td>\n",
       "      <td>False</td>\n",
       "      <td>False</td>\n",
       "      <td>False</td>\n",
       "      <td>False</td>\n",
       "      <td>False</td>\n",
       "      <td>False</td>\n",
       "    </tr>\n",
       "  </tbody>\n",
       "</table>\n",
       "<p>45211 rows × 18 columns</p>\n",
       "</div>"
      ],
      "text/plain": [
       "          id    age    job  marital  education  default  balance  housing  \\\n",
       "0      False  False  False    False      False    False    False    False   \n",
       "1      False  False  False    False      False    False    False    False   \n",
       "2      False  False  False    False      False    False    False    False   \n",
       "3      False  False  False    False      False    False    False    False   \n",
       "4      False  False  False    False      False    False    False    False   \n",
       "...      ...    ...    ...      ...        ...      ...      ...      ...   \n",
       "45206  False  False  False    False      False    False    False    False   \n",
       "45207  False  False  False    False      False    False    False    False   \n",
       "45208  False  False  False    False      False    False    False    False   \n",
       "45209  False  False  False    False      False    False    False    False   \n",
       "45210  False  False  False    False      False    False    False    False   \n",
       "\n",
       "        loan  contact    day  month  duration  campaign  pdays  previous  \\\n",
       "0      False    False  False  False     False     False  False     False   \n",
       "1      False    False  False  False     False     False  False     False   \n",
       "2      False    False  False  False     False     False  False     False   \n",
       "3      False    False  False  False     False     False  False     False   \n",
       "4      False    False  False  False     False     False  False     False   \n",
       "...      ...      ...    ...    ...       ...       ...    ...       ...   \n",
       "45206  False    False  False  False     False     False  False     False   \n",
       "45207  False    False  False  False     False     False  False     False   \n",
       "45208  False    False  False  False     False     False  False     False   \n",
       "45209  False    False  False  False     False     False  False     False   \n",
       "45210  False    False  False  False     False     False  False     False   \n",
       "\n",
       "       poutcome      y  \n",
       "0         False  False  \n",
       "1         False  False  \n",
       "2         False  False  \n",
       "3         False  False  \n",
       "4         False  False  \n",
       "...         ...    ...  \n",
       "45206     False  False  \n",
       "45207     False  False  \n",
       "45208     False  False  \n",
       "45209     False  False  \n",
       "45210     False  False  \n",
       "\n",
       "[45211 rows x 18 columns]"
      ]
     },
     "execution_count": 44,
     "metadata": {},
     "output_type": "execute_result"
    }
   ],
   "source": [
    "# Mettre l'id en index pour qu'il ne soit plus considéré comme une variable inplace = True\n",
    "df.isnull()"
   ]
  },
  {
   "cell_type": "code",
   "execution_count": 49,
   "id": "3d91bc57-cb7b-45e6-9bf2-7f1bf721e9a5",
   "metadata": {},
   "outputs": [
    {
     "data": {
      "text/plain": [
       "id           0\n",
       "age          0\n",
       "job          0\n",
       "marital      0\n",
       "education    0\n",
       "default      0\n",
       "balance      5\n",
       "housing      0\n",
       "loan         0\n",
       "contact      0\n",
       "day          0\n",
       "month        0\n",
       "duration     0\n",
       "campaign     0\n",
       "pdays        0\n",
       "previous     0\n",
       "poutcome     0\n",
       "y            0\n",
       "dtype: int64"
      ]
     },
     "execution_count": 49,
     "metadata": {},
     "output_type": "execute_result"
    }
   ],
   "source": [
    "# Pour connaître le nombre de valeurs manquantes\n",
    "df.isnull().sum()"
   ]
  },
  {
   "cell_type": "code",
   "execution_count": 45,
   "id": "6a342406-fcb1-4223-bbd5-e594d9280b4b",
   "metadata": {},
   "outputs": [
    {
     "data": {
      "text/plain": [
       "id           0\n",
       "age          0\n",
       "job          0\n",
       "marital      0\n",
       "education    0\n",
       "default      0\n",
       "balance      5\n",
       "housing      0\n",
       "loan         0\n",
       "contact      0\n",
       "day          0\n",
       "month        0\n",
       "duration     0\n",
       "campaign     0\n",
       "pdays        0\n",
       "previous     0\n",
       "poutcome     0\n",
       "y            0\n",
       "dtype: int64"
      ]
     },
     "execution_count": 45,
     "metadata": {},
     "output_type": "execute_result"
    }
   ],
   "source": [
    "# Le nombre de valeurs manquantes peut aussi s'obtenir avec ISNA\n",
    "df.isna().sum()"
   ]
  },
  {
   "cell_type": "code",
   "execution_count": 48,
   "id": "934e065b-f5ad-45e6-b913-f25efcb39890",
   "metadata": {},
   "outputs": [
    {
     "data": {
      "text/html": [
       "<div>\n",
       "<style scoped>\n",
       "    .dataframe tbody tr th:only-of-type {\n",
       "        vertical-align: middle;\n",
       "    }\n",
       "\n",
       "    .dataframe tbody tr th {\n",
       "        vertical-align: top;\n",
       "    }\n",
       "\n",
       "    .dataframe thead th {\n",
       "        text-align: right;\n",
       "    }\n",
       "</style>\n",
       "<table border=\"1\" class=\"dataframe\">\n",
       "  <thead>\n",
       "    <tr style=\"text-align: right;\">\n",
       "      <th></th>\n",
       "      <th>age</th>\n",
       "      <th>balance</th>\n",
       "      <th>day</th>\n",
       "      <th>duration</th>\n",
       "      <th>campaign</th>\n",
       "      <th>pdays</th>\n",
       "      <th>previous</th>\n",
       "    </tr>\n",
       "  </thead>\n",
       "  <tbody>\n",
       "    <tr>\n",
       "      <th>count</th>\n",
       "      <td>45206.000000</td>\n",
       "      <td>45206.000000</td>\n",
       "      <td>45206.000000</td>\n",
       "      <td>45206.000000</td>\n",
       "      <td>45206.000000</td>\n",
       "      <td>45206.000000</td>\n",
       "      <td>45206.000000</td>\n",
       "    </tr>\n",
       "    <tr>\n",
       "      <th>mean</th>\n",
       "      <td>40.930828</td>\n",
       "      <td>1362.403707</td>\n",
       "      <td>15.807614</td>\n",
       "      <td>258.161616</td>\n",
       "      <td>2.764036</td>\n",
       "      <td>40.202385</td>\n",
       "      <td>0.580388</td>\n",
       "    </tr>\n",
       "    <tr>\n",
       "      <th>std</th>\n",
       "      <td>10.623495</td>\n",
       "      <td>3044.906741</td>\n",
       "      <td>8.322160</td>\n",
       "      <td>257.539139</td>\n",
       "      <td>3.098137</td>\n",
       "      <td>100.133346</td>\n",
       "      <td>2.303560</td>\n",
       "    </tr>\n",
       "    <tr>\n",
       "      <th>min</th>\n",
       "      <td>10.000000</td>\n",
       "      <td>-8019.000000</td>\n",
       "      <td>1.000000</td>\n",
       "      <td>0.000000</td>\n",
       "      <td>1.000000</td>\n",
       "      <td>-1.000000</td>\n",
       "      <td>0.000000</td>\n",
       "    </tr>\n",
       "    <tr>\n",
       "      <th>25%</th>\n",
       "      <td>33.000000</td>\n",
       "      <td>72.000000</td>\n",
       "      <td>8.000000</td>\n",
       "      <td>103.000000</td>\n",
       "      <td>1.000000</td>\n",
       "      <td>-1.000000</td>\n",
       "      <td>0.000000</td>\n",
       "    </tr>\n",
       "    <tr>\n",
       "      <th>50%</th>\n",
       "      <td>39.000000</td>\n",
       "      <td>448.000000</td>\n",
       "      <td>16.000000</td>\n",
       "      <td>180.000000</td>\n",
       "      <td>2.000000</td>\n",
       "      <td>-1.000000</td>\n",
       "      <td>0.000000</td>\n",
       "    </tr>\n",
       "    <tr>\n",
       "      <th>75%</th>\n",
       "      <td>48.000000</td>\n",
       "      <td>1428.000000</td>\n",
       "      <td>21.000000</td>\n",
       "      <td>319.000000</td>\n",
       "      <td>3.000000</td>\n",
       "      <td>-1.000000</td>\n",
       "      <td>0.000000</td>\n",
       "    </tr>\n",
       "    <tr>\n",
       "      <th>max</th>\n",
       "      <td>95.000000</td>\n",
       "      <td>102127.000000</td>\n",
       "      <td>31.000000</td>\n",
       "      <td>4918.000000</td>\n",
       "      <td>63.000000</td>\n",
       "      <td>871.000000</td>\n",
       "      <td>275.000000</td>\n",
       "    </tr>\n",
       "  </tbody>\n",
       "</table>\n",
       "</div>"
      ],
      "text/plain": [
       "                age        balance           day      duration      campaign  \\\n",
       "count  45206.000000   45206.000000  45206.000000  45206.000000  45206.000000   \n",
       "mean      40.930828    1362.403707     15.807614    258.161616      2.764036   \n",
       "std       10.623495    3044.906741      8.322160    257.539139      3.098137   \n",
       "min       10.000000   -8019.000000      1.000000      0.000000      1.000000   \n",
       "25%       33.000000      72.000000      8.000000    103.000000      1.000000   \n",
       "50%       39.000000     448.000000     16.000000    180.000000      2.000000   \n",
       "75%       48.000000    1428.000000     21.000000    319.000000      3.000000   \n",
       "max       95.000000  102127.000000     31.000000   4918.000000     63.000000   \n",
       "\n",
       "              pdays      previous  \n",
       "count  45206.000000  45206.000000  \n",
       "mean      40.202385      0.580388  \n",
       "std      100.133346      2.303560  \n",
       "min       -1.000000      0.000000  \n",
       "25%       -1.000000      0.000000  \n",
       "50%       -1.000000      0.000000  \n",
       "75%       -1.000000      0.000000  \n",
       "max      871.000000    275.000000  "
      ]
     },
     "execution_count": 48,
     "metadata": {},
     "output_type": "execute_result"
    }
   ],
   "source": [
    "# Traitement valeurs manquantes : Solution 1 supprimer axis : {0 or 'Index', 1 or \"column\"}\n",
    "# Suppression des lignes manquantes\n",
    "valeurs_manquantes = df.dropna(axis = 0)\n",
    "valeurs_manquantes.describe()"
   ]
  },
  {
   "cell_type": "code",
   "execution_count": 50,
   "id": "a697194a-7f0a-401c-ba0b-9e7fc4cd300f",
   "metadata": {},
   "outputs": [
    {
     "data": {
      "text/html": [
       "<div>\n",
       "<style scoped>\n",
       "    .dataframe tbody tr th:only-of-type {\n",
       "        vertical-align: middle;\n",
       "    }\n",
       "\n",
       "    .dataframe tbody tr th {\n",
       "        vertical-align: top;\n",
       "    }\n",
       "\n",
       "    .dataframe thead th {\n",
       "        text-align: right;\n",
       "    }\n",
       "</style>\n",
       "<table border=\"1\" class=\"dataframe\">\n",
       "  <thead>\n",
       "    <tr style=\"text-align: right;\">\n",
       "      <th></th>\n",
       "      <th>age</th>\n",
       "      <th>day</th>\n",
       "      <th>duration</th>\n",
       "      <th>campaign</th>\n",
       "      <th>pdays</th>\n",
       "      <th>previous</th>\n",
       "    </tr>\n",
       "  </thead>\n",
       "  <tbody>\n",
       "    <tr>\n",
       "      <th>count</th>\n",
       "      <td>45211.000000</td>\n",
       "      <td>45211.000000</td>\n",
       "      <td>45211.000000</td>\n",
       "      <td>45211.000000</td>\n",
       "      <td>45211.000000</td>\n",
       "      <td>45211.000000</td>\n",
       "    </tr>\n",
       "    <tr>\n",
       "      <th>mean</th>\n",
       "      <td>40.931477</td>\n",
       "      <td>15.806419</td>\n",
       "      <td>258.163080</td>\n",
       "      <td>2.763841</td>\n",
       "      <td>40.197828</td>\n",
       "      <td>0.580323</td>\n",
       "    </tr>\n",
       "    <tr>\n",
       "      <th>std</th>\n",
       "      <td>10.623372</td>\n",
       "      <td>8.322476</td>\n",
       "      <td>257.527812</td>\n",
       "      <td>3.098021</td>\n",
       "      <td>100.128746</td>\n",
       "      <td>2.303441</td>\n",
       "    </tr>\n",
       "    <tr>\n",
       "      <th>min</th>\n",
       "      <td>10.000000</td>\n",
       "      <td>1.000000</td>\n",
       "      <td>0.000000</td>\n",
       "      <td>1.000000</td>\n",
       "      <td>-1.000000</td>\n",
       "      <td>0.000000</td>\n",
       "    </tr>\n",
       "    <tr>\n",
       "      <th>25%</th>\n",
       "      <td>33.000000</td>\n",
       "      <td>8.000000</td>\n",
       "      <td>103.000000</td>\n",
       "      <td>1.000000</td>\n",
       "      <td>-1.000000</td>\n",
       "      <td>0.000000</td>\n",
       "    </tr>\n",
       "    <tr>\n",
       "      <th>50%</th>\n",
       "      <td>39.000000</td>\n",
       "      <td>16.000000</td>\n",
       "      <td>180.000000</td>\n",
       "      <td>2.000000</td>\n",
       "      <td>-1.000000</td>\n",
       "      <td>0.000000</td>\n",
       "    </tr>\n",
       "    <tr>\n",
       "      <th>75%</th>\n",
       "      <td>48.000000</td>\n",
       "      <td>21.000000</td>\n",
       "      <td>319.000000</td>\n",
       "      <td>3.000000</td>\n",
       "      <td>-1.000000</td>\n",
       "      <td>0.000000</td>\n",
       "    </tr>\n",
       "    <tr>\n",
       "      <th>max</th>\n",
       "      <td>95.000000</td>\n",
       "      <td>31.000000</td>\n",
       "      <td>4918.000000</td>\n",
       "      <td>63.000000</td>\n",
       "      <td>871.000000</td>\n",
       "      <td>275.000000</td>\n",
       "    </tr>\n",
       "  </tbody>\n",
       "</table>\n",
       "</div>"
      ],
      "text/plain": [
       "                age           day      duration      campaign         pdays  \\\n",
       "count  45211.000000  45211.000000  45211.000000  45211.000000  45211.000000   \n",
       "mean      40.931477     15.806419    258.163080      2.763841     40.197828   \n",
       "std       10.623372      8.322476    257.527812      3.098021    100.128746   \n",
       "min       10.000000      1.000000      0.000000      1.000000     -1.000000   \n",
       "25%       33.000000      8.000000    103.000000      1.000000     -1.000000   \n",
       "50%       39.000000     16.000000    180.000000      2.000000     -1.000000   \n",
       "75%       48.000000     21.000000    319.000000      3.000000     -1.000000   \n",
       "max       95.000000     31.000000   4918.000000     63.000000    871.000000   \n",
       "\n",
       "           previous  \n",
       "count  45211.000000  \n",
       "mean       0.580323  \n",
       "std        2.303441  \n",
       "min        0.000000  \n",
       "25%        0.000000  \n",
       "50%        0.000000  \n",
       "75%        0.000000  \n",
       "max      275.000000  "
      ]
     },
     "execution_count": 50,
     "metadata": {},
     "output_type": "execute_result"
    }
   ],
   "source": [
    "#Suppression des colonnes manquantes \n",
    "valeurs_colonnes_manquantes = df.dropna(axis = 1)\n",
    "valeurs_colonnes_manquantes.describe()"
   ]
  },
  {
   "cell_type": "code",
   "execution_count": 51,
   "id": "c907dd83-69c3-4242-9712-b2d3c7ef88ed",
   "metadata": {},
   "outputs": [
    {
     "data": {
      "text/html": [
       "<div>\n",
       "<style scoped>\n",
       "    .dataframe tbody tr th:only-of-type {\n",
       "        vertical-align: middle;\n",
       "    }\n",
       "\n",
       "    .dataframe tbody tr th {\n",
       "        vertical-align: top;\n",
       "    }\n",
       "\n",
       "    .dataframe thead th {\n",
       "        text-align: right;\n",
       "    }\n",
       "</style>\n",
       "<table border=\"1\" class=\"dataframe\">\n",
       "  <thead>\n",
       "    <tr style=\"text-align: right;\">\n",
       "      <th></th>\n",
       "      <th>age</th>\n",
       "      <th>balance</th>\n",
       "      <th>day</th>\n",
       "      <th>duration</th>\n",
       "      <th>campaign</th>\n",
       "      <th>pdays</th>\n",
       "      <th>previous</th>\n",
       "    </tr>\n",
       "  </thead>\n",
       "  <tbody>\n",
       "    <tr>\n",
       "      <th>count</th>\n",
       "      <td>45211.000000</td>\n",
       "      <td>45211.000000</td>\n",
       "      <td>45211.000000</td>\n",
       "      <td>45211.000000</td>\n",
       "      <td>45211.000000</td>\n",
       "      <td>45211.000000</td>\n",
       "      <td>45211.000000</td>\n",
       "    </tr>\n",
       "    <tr>\n",
       "      <th>mean</th>\n",
       "      <td>40.931477</td>\n",
       "      <td>1362.253036</td>\n",
       "      <td>15.806419</td>\n",
       "      <td>258.163080</td>\n",
       "      <td>2.763841</td>\n",
       "      <td>40.197828</td>\n",
       "      <td>0.580323</td>\n",
       "    </tr>\n",
       "    <tr>\n",
       "      <th>std</th>\n",
       "      <td>10.623372</td>\n",
       "      <td>3044.772068</td>\n",
       "      <td>8.322476</td>\n",
       "      <td>257.527812</td>\n",
       "      <td>3.098021</td>\n",
       "      <td>100.128746</td>\n",
       "      <td>2.303441</td>\n",
       "    </tr>\n",
       "    <tr>\n",
       "      <th>min</th>\n",
       "      <td>10.000000</td>\n",
       "      <td>-8019.000000</td>\n",
       "      <td>1.000000</td>\n",
       "      <td>0.000000</td>\n",
       "      <td>1.000000</td>\n",
       "      <td>-1.000000</td>\n",
       "      <td>0.000000</td>\n",
       "    </tr>\n",
       "    <tr>\n",
       "      <th>25%</th>\n",
       "      <td>33.000000</td>\n",
       "      <td>72.000000</td>\n",
       "      <td>8.000000</td>\n",
       "      <td>103.000000</td>\n",
       "      <td>1.000000</td>\n",
       "      <td>-1.000000</td>\n",
       "      <td>0.000000</td>\n",
       "    </tr>\n",
       "    <tr>\n",
       "      <th>50%</th>\n",
       "      <td>39.000000</td>\n",
       "      <td>448.000000</td>\n",
       "      <td>16.000000</td>\n",
       "      <td>180.000000</td>\n",
       "      <td>2.000000</td>\n",
       "      <td>-1.000000</td>\n",
       "      <td>0.000000</td>\n",
       "    </tr>\n",
       "    <tr>\n",
       "      <th>75%</th>\n",
       "      <td>48.000000</td>\n",
       "      <td>1428.000000</td>\n",
       "      <td>21.000000</td>\n",
       "      <td>319.000000</td>\n",
       "      <td>3.000000</td>\n",
       "      <td>-1.000000</td>\n",
       "      <td>0.000000</td>\n",
       "    </tr>\n",
       "    <tr>\n",
       "      <th>max</th>\n",
       "      <td>95.000000</td>\n",
       "      <td>102127.000000</td>\n",
       "      <td>31.000000</td>\n",
       "      <td>4918.000000</td>\n",
       "      <td>63.000000</td>\n",
       "      <td>871.000000</td>\n",
       "      <td>275.000000</td>\n",
       "    </tr>\n",
       "  </tbody>\n",
       "</table>\n",
       "</div>"
      ],
      "text/plain": [
       "                age        balance           day      duration      campaign  \\\n",
       "count  45211.000000   45211.000000  45211.000000  45211.000000  45211.000000   \n",
       "mean      40.931477    1362.253036     15.806419    258.163080      2.763841   \n",
       "std       10.623372    3044.772068      8.322476    257.527812      3.098021   \n",
       "min       10.000000   -8019.000000      1.000000      0.000000      1.000000   \n",
       "25%       33.000000      72.000000      8.000000    103.000000      1.000000   \n",
       "50%       39.000000     448.000000     16.000000    180.000000      2.000000   \n",
       "75%       48.000000    1428.000000     21.000000    319.000000      3.000000   \n",
       "max       95.000000  102127.000000     31.000000   4918.000000     63.000000   \n",
       "\n",
       "              pdays      previous  \n",
       "count  45211.000000  45211.000000  \n",
       "mean      40.197828      0.580323  \n",
       "std      100.128746      2.303441  \n",
       "min       -1.000000      0.000000  \n",
       "25%       -1.000000      0.000000  \n",
       "50%       -1.000000      0.000000  \n",
       "75%       -1.000000      0.000000  \n",
       "max      871.000000    275.000000  "
      ]
     },
     "execution_count": 51,
     "metadata": {},
     "output_type": "execute_result"
    }
   ],
   "source": [
    "#Remplacer les valeurs manquantes par une valeur spécifique \n",
    "Valeur_remplacee = df.fillna(0)\n",
    "Valeur_remplacee.describe()"
   ]
  },
  {
   "cell_type": "code",
   "execution_count": 54,
   "id": "52b1ab10-8a5a-4c2c-97e4-54d57ccccc70",
   "metadata": {},
   "outputs": [
    {
     "data": {
      "text/plain": [
       "1362.4037074724595"
      ]
     },
     "execution_count": 54,
     "metadata": {},
     "output_type": "execute_result"
    }
   ],
   "source": [
    "# Sélection d'une colonne\n",
    "moyenne_balance = df[\"balance\"].mean()\n",
    "moyenne_balance"
   ]
  },
  {
   "cell_type": "code",
   "execution_count": 57,
   "id": "10bbdd32-3c63-4d34-b700-d95c1758beac",
   "metadata": {},
   "outputs": [
    {
     "data": {
      "text/html": [
       "<div>\n",
       "<style scoped>\n",
       "    .dataframe tbody tr th:only-of-type {\n",
       "        vertical-align: middle;\n",
       "    }\n",
       "\n",
       "    .dataframe tbody tr th {\n",
       "        vertical-align: top;\n",
       "    }\n",
       "\n",
       "    .dataframe thead th {\n",
       "        text-align: right;\n",
       "    }\n",
       "</style>\n",
       "<table border=\"1\" class=\"dataframe\">\n",
       "  <thead>\n",
       "    <tr style=\"text-align: right;\">\n",
       "      <th></th>\n",
       "      <th>age</th>\n",
       "      <th>balance</th>\n",
       "      <th>day</th>\n",
       "      <th>duration</th>\n",
       "      <th>campaign</th>\n",
       "      <th>pdays</th>\n",
       "      <th>previous</th>\n",
       "    </tr>\n",
       "  </thead>\n",
       "  <tbody>\n",
       "    <tr>\n",
       "      <th>count</th>\n",
       "      <td>45211.000000</td>\n",
       "      <td>45211.000000</td>\n",
       "      <td>45211.000000</td>\n",
       "      <td>45211.000000</td>\n",
       "      <td>45211.000000</td>\n",
       "      <td>45211.000000</td>\n",
       "      <td>45211.000000</td>\n",
       "    </tr>\n",
       "    <tr>\n",
       "      <th>mean</th>\n",
       "      <td>40.931477</td>\n",
       "      <td>1362.403707</td>\n",
       "      <td>15.806419</td>\n",
       "      <td>258.163080</td>\n",
       "      <td>2.763841</td>\n",
       "      <td>40.197828</td>\n",
       "      <td>0.580323</td>\n",
       "    </tr>\n",
       "    <tr>\n",
       "      <th>std</th>\n",
       "      <td>10.623372</td>\n",
       "      <td>3044.738361</td>\n",
       "      <td>8.322476</td>\n",
       "      <td>257.527812</td>\n",
       "      <td>3.098021</td>\n",
       "      <td>100.128746</td>\n",
       "      <td>2.303441</td>\n",
       "    </tr>\n",
       "    <tr>\n",
       "      <th>min</th>\n",
       "      <td>10.000000</td>\n",
       "      <td>-8019.000000</td>\n",
       "      <td>1.000000</td>\n",
       "      <td>0.000000</td>\n",
       "      <td>1.000000</td>\n",
       "      <td>-1.000000</td>\n",
       "      <td>0.000000</td>\n",
       "    </tr>\n",
       "    <tr>\n",
       "      <th>25%</th>\n",
       "      <td>33.000000</td>\n",
       "      <td>72.000000</td>\n",
       "      <td>8.000000</td>\n",
       "      <td>103.000000</td>\n",
       "      <td>1.000000</td>\n",
       "      <td>-1.000000</td>\n",
       "      <td>0.000000</td>\n",
       "    </tr>\n",
       "    <tr>\n",
       "      <th>50%</th>\n",
       "      <td>39.000000</td>\n",
       "      <td>449.000000</td>\n",
       "      <td>16.000000</td>\n",
       "      <td>180.000000</td>\n",
       "      <td>2.000000</td>\n",
       "      <td>-1.000000</td>\n",
       "      <td>0.000000</td>\n",
       "    </tr>\n",
       "    <tr>\n",
       "      <th>75%</th>\n",
       "      <td>48.000000</td>\n",
       "      <td>1428.000000</td>\n",
       "      <td>21.000000</td>\n",
       "      <td>319.000000</td>\n",
       "      <td>3.000000</td>\n",
       "      <td>-1.000000</td>\n",
       "      <td>0.000000</td>\n",
       "    </tr>\n",
       "    <tr>\n",
       "      <th>max</th>\n",
       "      <td>95.000000</td>\n",
       "      <td>102127.000000</td>\n",
       "      <td>31.000000</td>\n",
       "      <td>4918.000000</td>\n",
       "      <td>63.000000</td>\n",
       "      <td>871.000000</td>\n",
       "      <td>275.000000</td>\n",
       "    </tr>\n",
       "  </tbody>\n",
       "</table>\n",
       "</div>"
      ],
      "text/plain": [
       "                age        balance           day      duration      campaign  \\\n",
       "count  45211.000000   45211.000000  45211.000000  45211.000000  45211.000000   \n",
       "mean      40.931477    1362.403707     15.806419    258.163080      2.763841   \n",
       "std       10.623372    3044.738361      8.322476    257.527812      3.098021   \n",
       "min       10.000000   -8019.000000      1.000000      0.000000      1.000000   \n",
       "25%       33.000000      72.000000      8.000000    103.000000      1.000000   \n",
       "50%       39.000000     449.000000     16.000000    180.000000      2.000000   \n",
       "75%       48.000000    1428.000000     21.000000    319.000000      3.000000   \n",
       "max       95.000000  102127.000000     31.000000   4918.000000     63.000000   \n",
       "\n",
       "              pdays      previous  \n",
       "count  45211.000000  45211.000000  \n",
       "mean      40.197828      0.580323  \n",
       "std      100.128746      2.303441  \n",
       "min       -1.000000      0.000000  \n",
       "25%       -1.000000      0.000000  \n",
       "50%       -1.000000      0.000000  \n",
       "75%       -1.000000      0.000000  \n",
       "max      871.000000    275.000000  "
      ]
     },
     "execution_count": 57,
     "metadata": {},
     "output_type": "execute_result"
    }
   ],
   "source": [
    "# Remplacer les valeurs manquantes par la moyenne\n",
    "df_remplacer = df.fillna(moyenne_balance)\n",
    "df_remplacer.describe()"
   ]
  },
  {
   "cell_type": "code",
   "execution_count": 58,
   "id": "f882a820-8368-4d33-a637-b88ce289009a",
   "metadata": {},
   "outputs": [
    {
     "data": {
      "text/plain": [
       "id           0\n",
       "age          0\n",
       "job          0\n",
       "marital      0\n",
       "education    0\n",
       "default      0\n",
       "balance      0\n",
       "housing      0\n",
       "loan         0\n",
       "contact      0\n",
       "day          0\n",
       "month        0\n",
       "duration     0\n",
       "campaign     0\n",
       "pdays        0\n",
       "previous     0\n",
       "poutcome     0\n",
       "y            0\n",
       "dtype: int64"
      ]
     },
     "execution_count": 58,
     "metadata": {},
     "output_type": "execute_result"
    }
   ],
   "source": [
    "df_remplacer.isnull().sum()"
   ]
  },
  {
   "cell_type": "markdown",
   "id": "abf524ca-df37-4c1f-94f4-58d3003ff844",
   "metadata": {},
   "source": [
    "# Suppression des valeurs manquantes "
   ]
  },
  {
   "cell_type": "code",
   "execution_count": 63,
   "id": "0e41c75b-8788-47c3-b897-daa4eba61514",
   "metadata": {},
   "outputs": [
    {
     "data": {
      "text/html": [
       "<div>\n",
       "<style scoped>\n",
       "    .dataframe tbody tr th:only-of-type {\n",
       "        vertical-align: middle;\n",
       "    }\n",
       "\n",
       "    .dataframe tbody tr th {\n",
       "        vertical-align: top;\n",
       "    }\n",
       "\n",
       "    .dataframe thead th {\n",
       "        text-align: right;\n",
       "    }\n",
       "</style>\n",
       "<table border=\"1\" class=\"dataframe\">\n",
       "  <thead>\n",
       "    <tr style=\"text-align: right;\">\n",
       "      <th></th>\n",
       "      <th>id</th>\n",
       "      <th>job</th>\n",
       "      <th>marital</th>\n",
       "      <th>education</th>\n",
       "      <th>default</th>\n",
       "      <th>balance</th>\n",
       "      <th>housing</th>\n",
       "      <th>loan</th>\n",
       "      <th>contact</th>\n",
       "      <th>duration</th>\n",
       "      <th>campaign</th>\n",
       "      <th>pdays</th>\n",
       "      <th>previous</th>\n",
       "      <th>poutcome</th>\n",
       "      <th>y</th>\n",
       "    </tr>\n",
       "  </thead>\n",
       "  <tbody>\n",
       "    <tr>\n",
       "      <th>0</th>\n",
       "      <td>id1</td>\n",
       "      <td>management</td>\n",
       "      <td>married</td>\n",
       "      <td>tertiary</td>\n",
       "      <td>no</td>\n",
       "      <td>2143.0</td>\n",
       "      <td>yes</td>\n",
       "      <td>no</td>\n",
       "      <td>unknown</td>\n",
       "      <td>261</td>\n",
       "      <td>1</td>\n",
       "      <td>-1</td>\n",
       "      <td>0</td>\n",
       "      <td>unknown</td>\n",
       "      <td>no</td>\n",
       "    </tr>\n",
       "    <tr>\n",
       "      <th>1</th>\n",
       "      <td>id2</td>\n",
       "      <td>technician</td>\n",
       "      <td>single</td>\n",
       "      <td>secondary</td>\n",
       "      <td>no</td>\n",
       "      <td>29.0</td>\n",
       "      <td>yes</td>\n",
       "      <td>no</td>\n",
       "      <td>unknown</td>\n",
       "      <td>151</td>\n",
       "      <td>1</td>\n",
       "      <td>-1</td>\n",
       "      <td>0</td>\n",
       "      <td>unknown</td>\n",
       "      <td>no</td>\n",
       "    </tr>\n",
       "    <tr>\n",
       "      <th>2</th>\n",
       "      <td>id3</td>\n",
       "      <td>entrepreneur</td>\n",
       "      <td>married</td>\n",
       "      <td>secondary</td>\n",
       "      <td>no</td>\n",
       "      <td>2.0</td>\n",
       "      <td>yes</td>\n",
       "      <td>yes</td>\n",
       "      <td>unknown</td>\n",
       "      <td>76</td>\n",
       "      <td>1</td>\n",
       "      <td>-1</td>\n",
       "      <td>0</td>\n",
       "      <td>unknown</td>\n",
       "      <td>no</td>\n",
       "    </tr>\n",
       "    <tr>\n",
       "      <th>3</th>\n",
       "      <td>id4</td>\n",
       "      <td>blue-collar</td>\n",
       "      <td>married</td>\n",
       "      <td>unknown</td>\n",
       "      <td>no</td>\n",
       "      <td>1506.0</td>\n",
       "      <td>yes</td>\n",
       "      <td>no</td>\n",
       "      <td>unknown</td>\n",
       "      <td>92</td>\n",
       "      <td>1</td>\n",
       "      <td>-1</td>\n",
       "      <td>0</td>\n",
       "      <td>unknown</td>\n",
       "      <td>no</td>\n",
       "    </tr>\n",
       "    <tr>\n",
       "      <th>4</th>\n",
       "      <td>id5</td>\n",
       "      <td>unknown</td>\n",
       "      <td>single</td>\n",
       "      <td>unknown</td>\n",
       "      <td>no</td>\n",
       "      <td>1.0</td>\n",
       "      <td>no</td>\n",
       "      <td>no</td>\n",
       "      <td>unknown</td>\n",
       "      <td>198</td>\n",
       "      <td>1</td>\n",
       "      <td>-1</td>\n",
       "      <td>0</td>\n",
       "      <td>unknown</td>\n",
       "      <td>no</td>\n",
       "    </tr>\n",
       "    <tr>\n",
       "      <th>...</th>\n",
       "      <td>...</td>\n",
       "      <td>...</td>\n",
       "      <td>...</td>\n",
       "      <td>...</td>\n",
       "      <td>...</td>\n",
       "      <td>...</td>\n",
       "      <td>...</td>\n",
       "      <td>...</td>\n",
       "      <td>...</td>\n",
       "      <td>...</td>\n",
       "      <td>...</td>\n",
       "      <td>...</td>\n",
       "      <td>...</td>\n",
       "      <td>...</td>\n",
       "      <td>...</td>\n",
       "    </tr>\n",
       "    <tr>\n",
       "      <th>45206</th>\n",
       "      <td>id45207</td>\n",
       "      <td>technician</td>\n",
       "      <td>married</td>\n",
       "      <td>tertiary</td>\n",
       "      <td>no</td>\n",
       "      <td>825.0</td>\n",
       "      <td>no</td>\n",
       "      <td>no</td>\n",
       "      <td>cellular</td>\n",
       "      <td>977</td>\n",
       "      <td>3</td>\n",
       "      <td>-1</td>\n",
       "      <td>0</td>\n",
       "      <td>unknown</td>\n",
       "      <td>yes</td>\n",
       "    </tr>\n",
       "    <tr>\n",
       "      <th>45207</th>\n",
       "      <td>id45208</td>\n",
       "      <td>retired</td>\n",
       "      <td>divorced</td>\n",
       "      <td>primary</td>\n",
       "      <td>no</td>\n",
       "      <td>1729.0</td>\n",
       "      <td>no</td>\n",
       "      <td>no</td>\n",
       "      <td>cellular</td>\n",
       "      <td>456</td>\n",
       "      <td>2</td>\n",
       "      <td>-1</td>\n",
       "      <td>0</td>\n",
       "      <td>unknown</td>\n",
       "      <td>yes</td>\n",
       "    </tr>\n",
       "    <tr>\n",
       "      <th>45208</th>\n",
       "      <td>id45209</td>\n",
       "      <td>retired</td>\n",
       "      <td>married</td>\n",
       "      <td>secondary</td>\n",
       "      <td>no</td>\n",
       "      <td>5715.0</td>\n",
       "      <td>no</td>\n",
       "      <td>no</td>\n",
       "      <td>cellular</td>\n",
       "      <td>1127</td>\n",
       "      <td>5</td>\n",
       "      <td>184</td>\n",
       "      <td>3</td>\n",
       "      <td>success</td>\n",
       "      <td>yes</td>\n",
       "    </tr>\n",
       "    <tr>\n",
       "      <th>45209</th>\n",
       "      <td>id45210</td>\n",
       "      <td>blue-collar</td>\n",
       "      <td>married</td>\n",
       "      <td>secondary</td>\n",
       "      <td>no</td>\n",
       "      <td>668.0</td>\n",
       "      <td>no</td>\n",
       "      <td>no</td>\n",
       "      <td>telephone</td>\n",
       "      <td>508</td>\n",
       "      <td>4</td>\n",
       "      <td>-1</td>\n",
       "      <td>0</td>\n",
       "      <td>unknown</td>\n",
       "      <td>no</td>\n",
       "    </tr>\n",
       "    <tr>\n",
       "      <th>45210</th>\n",
       "      <td>id45211</td>\n",
       "      <td>entrepreneur</td>\n",
       "      <td>married</td>\n",
       "      <td>secondary</td>\n",
       "      <td>no</td>\n",
       "      <td>2971.0</td>\n",
       "      <td>no</td>\n",
       "      <td>no</td>\n",
       "      <td>cellular</td>\n",
       "      <td>361</td>\n",
       "      <td>2</td>\n",
       "      <td>188</td>\n",
       "      <td>11</td>\n",
       "      <td>other</td>\n",
       "      <td>no</td>\n",
       "    </tr>\n",
       "  </tbody>\n",
       "</table>\n",
       "<p>45211 rows × 15 columns</p>\n",
       "</div>"
      ],
      "text/plain": [
       "            id           job   marital  education default  balance housing  \\\n",
       "0          id1    management   married   tertiary      no   2143.0     yes   \n",
       "1          id2    technician    single  secondary      no     29.0     yes   \n",
       "2          id3  entrepreneur   married  secondary      no      2.0     yes   \n",
       "3          id4   blue-collar   married    unknown      no   1506.0     yes   \n",
       "4          id5       unknown    single    unknown      no      1.0      no   \n",
       "...        ...           ...       ...        ...     ...      ...     ...   \n",
       "45206  id45207    technician   married   tertiary      no    825.0      no   \n",
       "45207  id45208       retired  divorced    primary      no   1729.0      no   \n",
       "45208  id45209       retired   married  secondary      no   5715.0      no   \n",
       "45209  id45210   blue-collar   married  secondary      no    668.0      no   \n",
       "45210  id45211  entrepreneur   married  secondary      no   2971.0      no   \n",
       "\n",
       "      loan    contact  duration  campaign  pdays  previous poutcome    y  \n",
       "0       no    unknown       261         1     -1         0  unknown   no  \n",
       "1       no    unknown       151         1     -1         0  unknown   no  \n",
       "2      yes    unknown        76         1     -1         0  unknown   no  \n",
       "3       no    unknown        92         1     -1         0  unknown   no  \n",
       "4       no    unknown       198         1     -1         0  unknown   no  \n",
       "...    ...        ...       ...       ...    ...       ...      ...  ...  \n",
       "45206   no   cellular       977         3     -1         0  unknown  yes  \n",
       "45207   no   cellular       456         2     -1         0  unknown  yes  \n",
       "45208   no   cellular      1127         5    184         3  success  yes  \n",
       "45209   no  telephone       508         4     -1         0  unknown   no  \n",
       "45210   no   cellular       361         2    188        11    other   no  \n",
       "\n",
       "[45211 rows x 15 columns]"
      ]
     },
     "execution_count": 63,
     "metadata": {},
     "output_type": "execute_result"
    }
   ],
   "source": [
    "# Suppresionn d'une seule colonne (month et day ) (drop ([]) axis)\n",
    "df_sans_month_day_age = df.drop([\"month\",\"age\", \"day\"], axis = 1)\n",
    "df_sans_month_day_age"
   ]
  },
  {
   "cell_type": "code",
   "execution_count": 64,
   "id": "0904712b-4827-416f-999c-ebe13b73f34c",
   "metadata": {},
   "outputs": [
    {
     "data": {
      "text/plain": [
       "0        58\n",
       "1        44\n",
       "2        33\n",
       "3        47\n",
       "4        33\n",
       "         ..\n",
       "45206    51\n",
       "45207    71\n",
       "45208    72\n",
       "45209    57\n",
       "45210    37\n",
       "Name: age, Length: 45211, dtype: int64"
      ]
     },
     "execution_count": 64,
     "metadata": {},
     "output_type": "execute_result"
    }
   ],
   "source": [
    "# Choisir et décrire une variable à partir du nom : Première approche \n",
    "age = df[\"age\"]\n",
    "age"
   ]
  },
  {
   "cell_type": "code",
   "execution_count": 65,
   "id": "820b631f-4244-433c-84e1-477232c45044",
   "metadata": {},
   "outputs": [
    {
     "data": {
      "text/plain": [
       "pandas.core.series.Series"
      ]
     },
     "execution_count": 65,
     "metadata": {},
     "output_type": "execute_result"
    }
   ],
   "source": [
    "type(age)"
   ]
  },
  {
   "cell_type": "code",
   "execution_count": 66,
   "id": "820ea2a1-b28f-4c77-b8b3-dd25e83b02a1",
   "metadata": {},
   "outputs": [
    {
     "data": {
      "text/plain": [
       "count    45211.000000\n",
       "mean        40.931477\n",
       "std         10.623372\n",
       "min         10.000000\n",
       "25%         33.000000\n",
       "50%         39.000000\n",
       "75%         48.000000\n",
       "max         95.000000\n",
       "Name: age, dtype: float64"
      ]
     },
     "execution_count": 66,
     "metadata": {},
     "output_type": "execute_result"
    }
   ],
   "source": [
    "age.describe()"
   ]
  },
  {
   "cell_type": "code",
   "execution_count": 71,
   "id": "e437c068-66f5-4586-8e92-ee7519bfbad0",
   "metadata": {},
   "outputs": [
    {
     "data": {
      "text/plain": [
       "0        58\n",
       "1        44\n",
       "2        33\n",
       "3        47\n",
       "4        33\n",
       "         ..\n",
       "45206    51\n",
       "45207    71\n",
       "45208    72\n",
       "45209    57\n",
       "45210    37\n",
       "Name: age, Length: 45211, dtype: int64"
      ]
     },
     "execution_count": 71,
     "metadata": {},
     "output_type": "execute_result"
    }
   ],
   "source": [
    "# Deuxième approche pour choisir une colonne \n",
    "age = df.age\n",
    "age\n"
   ]
  },
  {
   "cell_type": "code",
   "execution_count": 74,
   "id": "065d9c7f-ac09-466b-a534-c1b9a462af13",
   "metadata": {},
   "outputs": [
    {
     "data": {
      "text/html": [
       "<div>\n",
       "<style scoped>\n",
       "    .dataframe tbody tr th:only-of-type {\n",
       "        vertical-align: middle;\n",
       "    }\n",
       "\n",
       "    .dataframe tbody tr th {\n",
       "        vertical-align: top;\n",
       "    }\n",
       "\n",
       "    .dataframe thead th {\n",
       "        text-align: right;\n",
       "    }\n",
       "</style>\n",
       "<table border=\"1\" class=\"dataframe\">\n",
       "  <thead>\n",
       "    <tr style=\"text-align: right;\">\n",
       "      <th></th>\n",
       "      <th>age</th>\n",
       "      <th>education</th>\n",
       "      <th>loan</th>\n",
       "    </tr>\n",
       "  </thead>\n",
       "  <tbody>\n",
       "    <tr>\n",
       "      <th>0</th>\n",
       "      <td>58</td>\n",
       "      <td>tertiary</td>\n",
       "      <td>no</td>\n",
       "    </tr>\n",
       "    <tr>\n",
       "      <th>1</th>\n",
       "      <td>44</td>\n",
       "      <td>secondary</td>\n",
       "      <td>no</td>\n",
       "    </tr>\n",
       "    <tr>\n",
       "      <th>2</th>\n",
       "      <td>33</td>\n",
       "      <td>secondary</td>\n",
       "      <td>yes</td>\n",
       "    </tr>\n",
       "    <tr>\n",
       "      <th>3</th>\n",
       "      <td>47</td>\n",
       "      <td>unknown</td>\n",
       "      <td>no</td>\n",
       "    </tr>\n",
       "    <tr>\n",
       "      <th>4</th>\n",
       "      <td>33</td>\n",
       "      <td>unknown</td>\n",
       "      <td>no</td>\n",
       "    </tr>\n",
       "    <tr>\n",
       "      <th>...</th>\n",
       "      <td>...</td>\n",
       "      <td>...</td>\n",
       "      <td>...</td>\n",
       "    </tr>\n",
       "    <tr>\n",
       "      <th>45206</th>\n",
       "      <td>51</td>\n",
       "      <td>tertiary</td>\n",
       "      <td>no</td>\n",
       "    </tr>\n",
       "    <tr>\n",
       "      <th>45207</th>\n",
       "      <td>71</td>\n",
       "      <td>primary</td>\n",
       "      <td>no</td>\n",
       "    </tr>\n",
       "    <tr>\n",
       "      <th>45208</th>\n",
       "      <td>72</td>\n",
       "      <td>secondary</td>\n",
       "      <td>no</td>\n",
       "    </tr>\n",
       "    <tr>\n",
       "      <th>45209</th>\n",
       "      <td>57</td>\n",
       "      <td>secondary</td>\n",
       "      <td>no</td>\n",
       "    </tr>\n",
       "    <tr>\n",
       "      <th>45210</th>\n",
       "      <td>37</td>\n",
       "      <td>secondary</td>\n",
       "      <td>no</td>\n",
       "    </tr>\n",
       "  </tbody>\n",
       "</table>\n",
       "<p>45211 rows × 3 columns</p>\n",
       "</div>"
      ],
      "text/plain": [
       "       age  education loan\n",
       "0       58   tertiary   no\n",
       "1       44  secondary   no\n",
       "2       33  secondary  yes\n",
       "3       47    unknown   no\n",
       "4       33    unknown   no\n",
       "...    ...        ...  ...\n",
       "45206   51   tertiary   no\n",
       "45207   71    primary   no\n",
       "45208   72  secondary   no\n",
       "45209   57  secondary   no\n",
       "45210   37  secondary   no\n",
       "\n",
       "[45211 rows x 3 columns]"
      ]
     },
     "execution_count": 74,
     "metadata": {},
     "output_type": "execute_result"
    }
   ],
   "source": [
    "# Choisir et décrire plusieurs variables à partir des noms \n",
    "selection_colonnes = df[[\"age\",\"education\", \"loan\"]]\n",
    "selection_colonnes"
   ]
  },
  {
   "cell_type": "code",
   "execution_count": 75,
   "id": "cf12e806-1178-4a27-9ca0-f3a3b0df6f0b",
   "metadata": {},
   "outputs": [
    {
     "data": {
      "text/html": [
       "<div>\n",
       "<style scoped>\n",
       "    .dataframe tbody tr th:only-of-type {\n",
       "        vertical-align: middle;\n",
       "    }\n",
       "\n",
       "    .dataframe tbody tr th {\n",
       "        vertical-align: top;\n",
       "    }\n",
       "\n",
       "    .dataframe thead th {\n",
       "        text-align: right;\n",
       "    }\n",
       "</style>\n",
       "<table border=\"1\" class=\"dataframe\">\n",
       "  <thead>\n",
       "    <tr style=\"text-align: right;\">\n",
       "      <th></th>\n",
       "      <th>age</th>\n",
       "      <th>education</th>\n",
       "      <th>loan</th>\n",
       "    </tr>\n",
       "  </thead>\n",
       "  <tbody>\n",
       "    <tr>\n",
       "      <th>0</th>\n",
       "      <td>58</td>\n",
       "      <td>tertiary</td>\n",
       "      <td>no</td>\n",
       "    </tr>\n",
       "    <tr>\n",
       "      <th>1</th>\n",
       "      <td>44</td>\n",
       "      <td>secondary</td>\n",
       "      <td>no</td>\n",
       "    </tr>\n",
       "    <tr>\n",
       "      <th>2</th>\n",
       "      <td>33</td>\n",
       "      <td>secondary</td>\n",
       "      <td>yes</td>\n",
       "    </tr>\n",
       "    <tr>\n",
       "      <th>3</th>\n",
       "      <td>47</td>\n",
       "      <td>unknown</td>\n",
       "      <td>no</td>\n",
       "    </tr>\n",
       "    <tr>\n",
       "      <th>4</th>\n",
       "      <td>33</td>\n",
       "      <td>unknown</td>\n",
       "      <td>no</td>\n",
       "    </tr>\n",
       "    <tr>\n",
       "      <th>...</th>\n",
       "      <td>...</td>\n",
       "      <td>...</td>\n",
       "      <td>...</td>\n",
       "    </tr>\n",
       "    <tr>\n",
       "      <th>45206</th>\n",
       "      <td>51</td>\n",
       "      <td>tertiary</td>\n",
       "      <td>no</td>\n",
       "    </tr>\n",
       "    <tr>\n",
       "      <th>45207</th>\n",
       "      <td>71</td>\n",
       "      <td>primary</td>\n",
       "      <td>no</td>\n",
       "    </tr>\n",
       "    <tr>\n",
       "      <th>45208</th>\n",
       "      <td>72</td>\n",
       "      <td>secondary</td>\n",
       "      <td>no</td>\n",
       "    </tr>\n",
       "    <tr>\n",
       "      <th>45209</th>\n",
       "      <td>57</td>\n",
       "      <td>secondary</td>\n",
       "      <td>no</td>\n",
       "    </tr>\n",
       "    <tr>\n",
       "      <th>45210</th>\n",
       "      <td>37</td>\n",
       "      <td>secondary</td>\n",
       "      <td>no</td>\n",
       "    </tr>\n",
       "  </tbody>\n",
       "</table>\n",
       "<p>45211 rows × 3 columns</p>\n",
       "</div>"
      ],
      "text/plain": [
       "       age  education loan\n",
       "0       58   tertiary   no\n",
       "1       44  secondary   no\n",
       "2       33  secondary  yes\n",
       "3       47    unknown   no\n",
       "4       33    unknown   no\n",
       "...    ...        ...  ...\n",
       "45206   51   tertiary   no\n",
       "45207   71    primary   no\n",
       "45208   72  secondary   no\n",
       "45209   57  secondary   no\n",
       "45210   37  secondary   no\n",
       "\n",
       "[45211 rows x 3 columns]"
      ]
     },
     "execution_count": 75,
     "metadata": {},
     "output_type": "execute_result"
    }
   ],
   "source": [
    "liste_des_variables = [\"age\", \"education\", \"loan\"]\n",
    "colonnes_selectionnees = df[liste_des_variables]\n",
    "colonnes_selectionnees"
   ]
  },
  {
   "cell_type": "code",
   "execution_count": 77,
   "id": "2a3c101e-550d-41ea-b76a-be148e53f00a",
   "metadata": {},
   "outputs": [
    {
     "data": {
      "text/html": [
       "<div>\n",
       "<style scoped>\n",
       "    .dataframe tbody tr th:only-of-type {\n",
       "        vertical-align: middle;\n",
       "    }\n",
       "\n",
       "    .dataframe tbody tr th {\n",
       "        vertical-align: top;\n",
       "    }\n",
       "\n",
       "    .dataframe thead th {\n",
       "        text-align: right;\n",
       "    }\n",
       "</style>\n",
       "<table border=\"1\" class=\"dataframe\">\n",
       "  <thead>\n",
       "    <tr style=\"text-align: right;\">\n",
       "      <th></th>\n",
       "      <th>age</th>\n",
       "      <th>education</th>\n",
       "      <th>loan</th>\n",
       "    </tr>\n",
       "  </thead>\n",
       "  <tbody>\n",
       "    <tr>\n",
       "      <th>0</th>\n",
       "      <td>58</td>\n",
       "      <td>tertiary</td>\n",
       "      <td>no</td>\n",
       "    </tr>\n",
       "    <tr>\n",
       "      <th>1</th>\n",
       "      <td>44</td>\n",
       "      <td>secondary</td>\n",
       "      <td>no</td>\n",
       "    </tr>\n",
       "    <tr>\n",
       "      <th>2</th>\n",
       "      <td>33</td>\n",
       "      <td>secondary</td>\n",
       "      <td>yes</td>\n",
       "    </tr>\n",
       "    <tr>\n",
       "      <th>3</th>\n",
       "      <td>47</td>\n",
       "      <td>unknown</td>\n",
       "      <td>no</td>\n",
       "    </tr>\n",
       "    <tr>\n",
       "      <th>4</th>\n",
       "      <td>33</td>\n",
       "      <td>unknown</td>\n",
       "      <td>no</td>\n",
       "    </tr>\n",
       "    <tr>\n",
       "      <th>...</th>\n",
       "      <td>...</td>\n",
       "      <td>...</td>\n",
       "      <td>...</td>\n",
       "    </tr>\n",
       "    <tr>\n",
       "      <th>45206</th>\n",
       "      <td>51</td>\n",
       "      <td>tertiary</td>\n",
       "      <td>no</td>\n",
       "    </tr>\n",
       "    <tr>\n",
       "      <th>45207</th>\n",
       "      <td>71</td>\n",
       "      <td>primary</td>\n",
       "      <td>no</td>\n",
       "    </tr>\n",
       "    <tr>\n",
       "      <th>45208</th>\n",
       "      <td>72</td>\n",
       "      <td>secondary</td>\n",
       "      <td>no</td>\n",
       "    </tr>\n",
       "    <tr>\n",
       "      <th>45209</th>\n",
       "      <td>57</td>\n",
       "      <td>secondary</td>\n",
       "      <td>no</td>\n",
       "    </tr>\n",
       "    <tr>\n",
       "      <th>45210</th>\n",
       "      <td>37</td>\n",
       "      <td>secondary</td>\n",
       "      <td>no</td>\n",
       "    </tr>\n",
       "  </tbody>\n",
       "</table>\n",
       "<p>45211 rows × 3 columns</p>\n",
       "</div>"
      ],
      "text/plain": [
       "       age  education loan\n",
       "0       58   tertiary   no\n",
       "1       44  secondary   no\n",
       "2       33  secondary  yes\n",
       "3       47    unknown   no\n",
       "4       33    unknown   no\n",
       "...    ...        ...  ...\n",
       "45206   51   tertiary   no\n",
       "45207   71    primary   no\n",
       "45208   72  secondary   no\n",
       "45209   57  secondary   no\n",
       "45210   37  secondary   no\n",
       "\n",
       "[45211 rows x 3 columns]"
      ]
     },
     "execution_count": 77,
     "metadata": {},
     "output_type": "execute_result"
    }
   ],
   "source": [
    "# Sélection avec .loc\n",
    "ma_liste = df.loc[:,liste_des_variables]\n",
    "ma_liste"
   ]
  },
  {
   "cell_type": "code",
   "execution_count": 78,
   "id": "8e500542-f972-481b-a7a1-b3996d986e59",
   "metadata": {},
   "outputs": [
    {
     "data": {
      "text/html": [
       "<div>\n",
       "<style scoped>\n",
       "    .dataframe tbody tr th:only-of-type {\n",
       "        vertical-align: middle;\n",
       "    }\n",
       "\n",
       "    .dataframe tbody tr th {\n",
       "        vertical-align: top;\n",
       "    }\n",
       "\n",
       "    .dataframe thead th {\n",
       "        text-align: right;\n",
       "    }\n",
       "</style>\n",
       "<table border=\"1\" class=\"dataframe\">\n",
       "  <thead>\n",
       "    <tr style=\"text-align: right;\">\n",
       "      <th></th>\n",
       "      <th>age</th>\n",
       "      <th>education</th>\n",
       "      <th>loan</th>\n",
       "    </tr>\n",
       "  </thead>\n",
       "  <tbody>\n",
       "    <tr>\n",
       "      <th>0</th>\n",
       "      <td>58</td>\n",
       "      <td>tertiary</td>\n",
       "      <td>no</td>\n",
       "    </tr>\n",
       "    <tr>\n",
       "      <th>1</th>\n",
       "      <td>44</td>\n",
       "      <td>secondary</td>\n",
       "      <td>no</td>\n",
       "    </tr>\n",
       "    <tr>\n",
       "      <th>2</th>\n",
       "      <td>33</td>\n",
       "      <td>secondary</td>\n",
       "      <td>yes</td>\n",
       "    </tr>\n",
       "    <tr>\n",
       "      <th>3</th>\n",
       "      <td>47</td>\n",
       "      <td>unknown</td>\n",
       "      <td>no</td>\n",
       "    </tr>\n",
       "    <tr>\n",
       "      <th>4</th>\n",
       "      <td>33</td>\n",
       "      <td>unknown</td>\n",
       "      <td>no</td>\n",
       "    </tr>\n",
       "    <tr>\n",
       "      <th>5</th>\n",
       "      <td>35</td>\n",
       "      <td>tertiary</td>\n",
       "      <td>no</td>\n",
       "    </tr>\n",
       "    <tr>\n",
       "      <th>6</th>\n",
       "      <td>28</td>\n",
       "      <td>tertiary</td>\n",
       "      <td>yes</td>\n",
       "    </tr>\n",
       "    <tr>\n",
       "      <th>7</th>\n",
       "      <td>42</td>\n",
       "      <td>tertiary</td>\n",
       "      <td>no</td>\n",
       "    </tr>\n",
       "    <tr>\n",
       "      <th>8</th>\n",
       "      <td>58</td>\n",
       "      <td>primary</td>\n",
       "      <td>no</td>\n",
       "    </tr>\n",
       "    <tr>\n",
       "      <th>9</th>\n",
       "      <td>43</td>\n",
       "      <td>secondary</td>\n",
       "      <td>no</td>\n",
       "    </tr>\n",
       "    <tr>\n",
       "      <th>10</th>\n",
       "      <td>41</td>\n",
       "      <td>secondary</td>\n",
       "      <td>no</td>\n",
       "    </tr>\n",
       "  </tbody>\n",
       "</table>\n",
       "</div>"
      ],
      "text/plain": [
       "    age  education loan\n",
       "0    58   tertiary   no\n",
       "1    44  secondary   no\n",
       "2    33  secondary  yes\n",
       "3    47    unknown   no\n",
       "4    33    unknown   no\n",
       "5    35   tertiary   no\n",
       "6    28   tertiary  yes\n",
       "7    42   tertiary   no\n",
       "8    58    primary   no\n",
       "9    43  secondary   no\n",
       "10   41  secondary   no"
      ]
     },
     "execution_count": 78,
     "metadata": {},
     "output_type": "execute_result"
    }
   ],
   "source": [
    "# Sélection des 10 premières lignes\n",
    "ma_liste = df.loc[: 10, liste_des_variables]\n",
    "ma_liste"
   ]
  },
  {
   "cell_type": "code",
   "execution_count": 82,
   "id": "093a933c-d0d6-4dff-afce-89c4d11131c3",
   "metadata": {},
   "outputs": [
    {
     "data": {
      "text/plain": [
       "0        58\n",
       "1        44\n",
       "2        33\n",
       "3        47\n",
       "4        33\n",
       "         ..\n",
       "45206    51\n",
       "45207    71\n",
       "45208    72\n",
       "45209    57\n",
       "45210    37\n",
       "Name: age, Length: 45211, dtype: int64"
      ]
     },
     "execution_count": 82,
     "metadata": {},
     "output_type": "execute_result"
    }
   ],
   "source": [
    "# Choisir à partir des numéros de la colonne iloc[]\n",
    "colonne_selectionnee_avec_iloc = df.iloc[: , 1]\n",
    "colonne_selectionnee_avec_iloc\n"
   ]
  },
  {
   "cell_type": "code",
   "execution_count": 93,
   "id": "c8bcd2f3-26af-4967-ab12-e636daeb39a3",
   "metadata": {},
   "outputs": [
    {
     "data": {
      "text/html": [
       "<div>\n",
       "<style scoped>\n",
       "    .dataframe tbody tr th:only-of-type {\n",
       "        vertical-align: middle;\n",
       "    }\n",
       "\n",
       "    .dataframe tbody tr th {\n",
       "        vertical-align: top;\n",
       "    }\n",
       "\n",
       "    .dataframe thead th {\n",
       "        text-align: right;\n",
       "    }\n",
       "</style>\n",
       "<table border=\"1\" class=\"dataframe\">\n",
       "  <thead>\n",
       "    <tr style=\"text-align: right;\">\n",
       "      <th></th>\n",
       "      <th>age</th>\n",
       "      <th>marital</th>\n",
       "      <th>default</th>\n",
       "    </tr>\n",
       "  </thead>\n",
       "  <tbody>\n",
       "    <tr>\n",
       "      <th>0</th>\n",
       "      <td>58</td>\n",
       "      <td>married</td>\n",
       "      <td>no</td>\n",
       "    </tr>\n",
       "    <tr>\n",
       "      <th>1</th>\n",
       "      <td>44</td>\n",
       "      <td>single</td>\n",
       "      <td>no</td>\n",
       "    </tr>\n",
       "    <tr>\n",
       "      <th>2</th>\n",
       "      <td>33</td>\n",
       "      <td>married</td>\n",
       "      <td>no</td>\n",
       "    </tr>\n",
       "    <tr>\n",
       "      <th>3</th>\n",
       "      <td>47</td>\n",
       "      <td>married</td>\n",
       "      <td>no</td>\n",
       "    </tr>\n",
       "    <tr>\n",
       "      <th>4</th>\n",
       "      <td>33</td>\n",
       "      <td>single</td>\n",
       "      <td>no</td>\n",
       "    </tr>\n",
       "    <tr>\n",
       "      <th>...</th>\n",
       "      <td>...</td>\n",
       "      <td>...</td>\n",
       "      <td>...</td>\n",
       "    </tr>\n",
       "    <tr>\n",
       "      <th>45206</th>\n",
       "      <td>51</td>\n",
       "      <td>married</td>\n",
       "      <td>no</td>\n",
       "    </tr>\n",
       "    <tr>\n",
       "      <th>45207</th>\n",
       "      <td>71</td>\n",
       "      <td>divorced</td>\n",
       "      <td>no</td>\n",
       "    </tr>\n",
       "    <tr>\n",
       "      <th>45208</th>\n",
       "      <td>72</td>\n",
       "      <td>married</td>\n",
       "      <td>no</td>\n",
       "    </tr>\n",
       "    <tr>\n",
       "      <th>45209</th>\n",
       "      <td>57</td>\n",
       "      <td>married</td>\n",
       "      <td>no</td>\n",
       "    </tr>\n",
       "    <tr>\n",
       "      <th>45210</th>\n",
       "      <td>37</td>\n",
       "      <td>married</td>\n",
       "      <td>no</td>\n",
       "    </tr>\n",
       "  </tbody>\n",
       "</table>\n",
       "<p>45211 rows × 3 columns</p>\n",
       "</div>"
      ],
      "text/plain": [
       "       age   marital default\n",
       "0       58   married      no\n",
       "1       44    single      no\n",
       "2       33   married      no\n",
       "3       47   married      no\n",
       "4       33    single      no\n",
       "...    ...       ...     ...\n",
       "45206   51   married      no\n",
       "45207   71  divorced      no\n",
       "45208   72   married      no\n",
       "45209   57   married      no\n",
       "45210   37   married      no\n",
       "\n",
       "[45211 rows x 3 columns]"
      ]
     },
     "execution_count": 93,
     "metadata": {},
     "output_type": "execute_result"
    }
   ],
   "source": [
    "# Sélection des colonnes des indices 1, 3 et 5 avec iloc\n",
    "colonne_1_3_5 = df.iloc[: , [1,3,5]]\n",
    "colonne_1_3_5"
   ]
  },
  {
   "cell_type": "markdown",
   "id": "09707eda-3f3f-4a78-8bda-b0bc88f88a25",
   "metadata": {},
   "source": [
    "# Afficher les 3 premières colonnes et les 5 premières lignes\n",
    "affichage_3_colonnes = df.iloc[: 100, [0,1,2]]\n",
    "affichage_3_colonnes "
   ]
  },
  {
   "cell_type": "markdown",
   "id": "3d0154cb-f8d4-4314-9acc-77ed5391d75b",
   "metadata": {},
   "source": [
    "# Sélectionner un périmètre d'analyse "
   ]
  },
  {
   "cell_type": "code",
   "execution_count": 16,
   "id": "3bad9652-7d9f-42a0-a5d7-bc21b5758fb2",
   "metadata": {},
   "outputs": [
    {
     "data": {
      "text/html": [
       "<div>\n",
       "<style scoped>\n",
       "    .dataframe tbody tr th:only-of-type {\n",
       "        vertical-align: middle;\n",
       "    }\n",
       "\n",
       "    .dataframe tbody tr th {\n",
       "        vertical-align: top;\n",
       "    }\n",
       "\n",
       "    .dataframe thead th {\n",
       "        text-align: right;\n",
       "    }\n",
       "</style>\n",
       "<table border=\"1\" class=\"dataframe\">\n",
       "  <thead>\n",
       "    <tr style=\"text-align: right;\">\n",
       "      <th></th>\n",
       "      <th>id</th>\n",
       "      <th>age</th>\n",
       "      <th>job</th>\n",
       "      <th>marital</th>\n",
       "      <th>education</th>\n",
       "      <th>default</th>\n",
       "      <th>balance</th>\n",
       "      <th>housing</th>\n",
       "      <th>loan</th>\n",
       "      <th>contact</th>\n",
       "      <th>day</th>\n",
       "      <th>month</th>\n",
       "      <th>duration</th>\n",
       "      <th>campaign</th>\n",
       "      <th>pdays</th>\n",
       "      <th>previous</th>\n",
       "      <th>poutcome</th>\n",
       "      <th>y</th>\n",
       "    </tr>\n",
       "  </thead>\n",
       "  <tbody>\n",
       "    <tr>\n",
       "      <th>0</th>\n",
       "      <td>id1</td>\n",
       "      <td>58</td>\n",
       "      <td>management</td>\n",
       "      <td>married</td>\n",
       "      <td>tertiary</td>\n",
       "      <td>no</td>\n",
       "      <td>2143.0</td>\n",
       "      <td>yes</td>\n",
       "      <td>no</td>\n",
       "      <td>unknown</td>\n",
       "      <td>5</td>\n",
       "      <td>may</td>\n",
       "      <td>261</td>\n",
       "      <td>1</td>\n",
       "      <td>-1</td>\n",
       "      <td>0</td>\n",
       "      <td>unknown</td>\n",
       "      <td>no</td>\n",
       "    </tr>\n",
       "    <tr>\n",
       "      <th>1</th>\n",
       "      <td>id2</td>\n",
       "      <td>44</td>\n",
       "      <td>technician</td>\n",
       "      <td>single</td>\n",
       "      <td>secondary</td>\n",
       "      <td>no</td>\n",
       "      <td>29.0</td>\n",
       "      <td>yes</td>\n",
       "      <td>no</td>\n",
       "      <td>unknown</td>\n",
       "      <td>5</td>\n",
       "      <td>may</td>\n",
       "      <td>151</td>\n",
       "      <td>1</td>\n",
       "      <td>-1</td>\n",
       "      <td>0</td>\n",
       "      <td>unknown</td>\n",
       "      <td>no</td>\n",
       "    </tr>\n",
       "    <tr>\n",
       "      <th>2</th>\n",
       "      <td>id3</td>\n",
       "      <td>33</td>\n",
       "      <td>entrepreneur</td>\n",
       "      <td>married</td>\n",
       "      <td>secondary</td>\n",
       "      <td>no</td>\n",
       "      <td>2.0</td>\n",
       "      <td>yes</td>\n",
       "      <td>yes</td>\n",
       "      <td>unknown</td>\n",
       "      <td>5</td>\n",
       "      <td>may</td>\n",
       "      <td>76</td>\n",
       "      <td>1</td>\n",
       "      <td>-1</td>\n",
       "      <td>0</td>\n",
       "      <td>unknown</td>\n",
       "      <td>no</td>\n",
       "    </tr>\n",
       "    <tr>\n",
       "      <th>3</th>\n",
       "      <td>id4</td>\n",
       "      <td>47</td>\n",
       "      <td>blue-collar</td>\n",
       "      <td>married</td>\n",
       "      <td>unknown</td>\n",
       "      <td>no</td>\n",
       "      <td>1506.0</td>\n",
       "      <td>yes</td>\n",
       "      <td>no</td>\n",
       "      <td>unknown</td>\n",
       "      <td>5</td>\n",
       "      <td>may</td>\n",
       "      <td>92</td>\n",
       "      <td>1</td>\n",
       "      <td>-1</td>\n",
       "      <td>0</td>\n",
       "      <td>unknown</td>\n",
       "      <td>no</td>\n",
       "    </tr>\n",
       "    <tr>\n",
       "      <th>4</th>\n",
       "      <td>id5</td>\n",
       "      <td>33</td>\n",
       "      <td>unknown</td>\n",
       "      <td>single</td>\n",
       "      <td>unknown</td>\n",
       "      <td>no</td>\n",
       "      <td>1.0</td>\n",
       "      <td>no</td>\n",
       "      <td>no</td>\n",
       "      <td>unknown</td>\n",
       "      <td>5</td>\n",
       "      <td>may</td>\n",
       "      <td>198</td>\n",
       "      <td>1</td>\n",
       "      <td>-1</td>\n",
       "      <td>0</td>\n",
       "      <td>unknown</td>\n",
       "      <td>no</td>\n",
       "    </tr>\n",
       "    <tr>\n",
       "      <th>...</th>\n",
       "      <td>...</td>\n",
       "      <td>...</td>\n",
       "      <td>...</td>\n",
       "      <td>...</td>\n",
       "      <td>...</td>\n",
       "      <td>...</td>\n",
       "      <td>...</td>\n",
       "      <td>...</td>\n",
       "      <td>...</td>\n",
       "      <td>...</td>\n",
       "      <td>...</td>\n",
       "      <td>...</td>\n",
       "      <td>...</td>\n",
       "      <td>...</td>\n",
       "      <td>...</td>\n",
       "      <td>...</td>\n",
       "      <td>...</td>\n",
       "      <td>...</td>\n",
       "    </tr>\n",
       "    <tr>\n",
       "      <th>45206</th>\n",
       "      <td>id45207</td>\n",
       "      <td>51</td>\n",
       "      <td>technician</td>\n",
       "      <td>married</td>\n",
       "      <td>tertiary</td>\n",
       "      <td>no</td>\n",
       "      <td>825.0</td>\n",
       "      <td>no</td>\n",
       "      <td>no</td>\n",
       "      <td>cellular</td>\n",
       "      <td>17</td>\n",
       "      <td>nov</td>\n",
       "      <td>977</td>\n",
       "      <td>3</td>\n",
       "      <td>-1</td>\n",
       "      <td>0</td>\n",
       "      <td>unknown</td>\n",
       "      <td>yes</td>\n",
       "    </tr>\n",
       "    <tr>\n",
       "      <th>45207</th>\n",
       "      <td>id45208</td>\n",
       "      <td>71</td>\n",
       "      <td>retired</td>\n",
       "      <td>divorced</td>\n",
       "      <td>primary</td>\n",
       "      <td>no</td>\n",
       "      <td>1729.0</td>\n",
       "      <td>no</td>\n",
       "      <td>no</td>\n",
       "      <td>cellular</td>\n",
       "      <td>17</td>\n",
       "      <td>nov</td>\n",
       "      <td>456</td>\n",
       "      <td>2</td>\n",
       "      <td>-1</td>\n",
       "      <td>0</td>\n",
       "      <td>unknown</td>\n",
       "      <td>yes</td>\n",
       "    </tr>\n",
       "    <tr>\n",
       "      <th>45208</th>\n",
       "      <td>id45209</td>\n",
       "      <td>72</td>\n",
       "      <td>retired</td>\n",
       "      <td>married</td>\n",
       "      <td>secondary</td>\n",
       "      <td>no</td>\n",
       "      <td>5715.0</td>\n",
       "      <td>no</td>\n",
       "      <td>no</td>\n",
       "      <td>cellular</td>\n",
       "      <td>17</td>\n",
       "      <td>nov</td>\n",
       "      <td>1127</td>\n",
       "      <td>5</td>\n",
       "      <td>184</td>\n",
       "      <td>3</td>\n",
       "      <td>success</td>\n",
       "      <td>yes</td>\n",
       "    </tr>\n",
       "    <tr>\n",
       "      <th>45209</th>\n",
       "      <td>id45210</td>\n",
       "      <td>57</td>\n",
       "      <td>blue-collar</td>\n",
       "      <td>married</td>\n",
       "      <td>secondary</td>\n",
       "      <td>no</td>\n",
       "      <td>668.0</td>\n",
       "      <td>no</td>\n",
       "      <td>no</td>\n",
       "      <td>telephone</td>\n",
       "      <td>17</td>\n",
       "      <td>nov</td>\n",
       "      <td>508</td>\n",
       "      <td>4</td>\n",
       "      <td>-1</td>\n",
       "      <td>0</td>\n",
       "      <td>unknown</td>\n",
       "      <td>no</td>\n",
       "    </tr>\n",
       "    <tr>\n",
       "      <th>45210</th>\n",
       "      <td>id45211</td>\n",
       "      <td>37</td>\n",
       "      <td>entrepreneur</td>\n",
       "      <td>married</td>\n",
       "      <td>secondary</td>\n",
       "      <td>no</td>\n",
       "      <td>2971.0</td>\n",
       "      <td>no</td>\n",
       "      <td>no</td>\n",
       "      <td>cellular</td>\n",
       "      <td>17</td>\n",
       "      <td>nov</td>\n",
       "      <td>361</td>\n",
       "      <td>2</td>\n",
       "      <td>188</td>\n",
       "      <td>11</td>\n",
       "      <td>other</td>\n",
       "      <td>no</td>\n",
       "    </tr>\n",
       "  </tbody>\n",
       "</table>\n",
       "<p>45203 rows × 18 columns</p>\n",
       "</div>"
      ],
      "text/plain": [
       "            id  age           job   marital  education default  balance  \\\n",
       "0          id1   58    management   married   tertiary      no   2143.0   \n",
       "1          id2   44    technician    single  secondary      no     29.0   \n",
       "2          id3   33  entrepreneur   married  secondary      no      2.0   \n",
       "3          id4   47   blue-collar   married    unknown      no   1506.0   \n",
       "4          id5   33       unknown    single    unknown      no      1.0   \n",
       "...        ...  ...           ...       ...        ...     ...      ...   \n",
       "45206  id45207   51    technician   married   tertiary      no    825.0   \n",
       "45207  id45208   71       retired  divorced    primary      no   1729.0   \n",
       "45208  id45209   72       retired   married  secondary      no   5715.0   \n",
       "45209  id45210   57   blue-collar   married  secondary      no    668.0   \n",
       "45210  id45211   37  entrepreneur   married  secondary      no   2971.0   \n",
       "\n",
       "      housing loan    contact  day month  duration  campaign  pdays  previous  \\\n",
       "0         yes   no    unknown    5   may       261         1     -1         0   \n",
       "1         yes   no    unknown    5   may       151         1     -1         0   \n",
       "2         yes  yes    unknown    5   may        76         1     -1         0   \n",
       "3         yes   no    unknown    5   may        92         1     -1         0   \n",
       "4          no   no    unknown    5   may       198         1     -1         0   \n",
       "...       ...  ...        ...  ...   ...       ...       ...    ...       ...   \n",
       "45206      no   no   cellular   17   nov       977         3     -1         0   \n",
       "45207      no   no   cellular   17   nov       456         2     -1         0   \n",
       "45208      no   no   cellular   17   nov      1127         5    184         3   \n",
       "45209      no   no  telephone   17   nov       508         4     -1         0   \n",
       "45210      no   no   cellular   17   nov       361         2    188        11   \n",
       "\n",
       "      poutcome    y  \n",
       "0      unknown   no  \n",
       "1      unknown   no  \n",
       "2      unknown   no  \n",
       "3      unknown   no  \n",
       "4      unknown   no  \n",
       "...        ...  ...  \n",
       "45206  unknown  yes  \n",
       "45207  unknown  yes  \n",
       "45208  success  yes  \n",
       "45209  unknown   no  \n",
       "45210    other   no  \n",
       "\n",
       "[45203 rows x 18 columns]"
      ]
     },
     "execution_count": 16,
     "metadata": {},
     "output_type": "execute_result"
    }
   ],
   "source": [
    "# Première approche\n",
    "clients_majeurs = df[df[\"age\"] >= 18]\n",
    "clients_majeurs"
   ]
  },
  {
   "cell_type": "code",
   "execution_count": 108,
   "id": "9a80e562-4efe-42a5-a591-28555e3d9b1d",
   "metadata": {},
   "outputs": [
    {
     "data": {
      "text/html": [
       "<div>\n",
       "<style scoped>\n",
       "    .dataframe tbody tr th:only-of-type {\n",
       "        vertical-align: middle;\n",
       "    }\n",
       "\n",
       "    .dataframe tbody tr th {\n",
       "        vertical-align: top;\n",
       "    }\n",
       "\n",
       "    .dataframe thead th {\n",
       "        text-align: right;\n",
       "    }\n",
       "</style>\n",
       "<table border=\"1\" class=\"dataframe\">\n",
       "  <thead>\n",
       "    <tr style=\"text-align: right;\">\n",
       "      <th></th>\n",
       "      <th>age</th>\n",
       "      <th>balance</th>\n",
       "      <th>day</th>\n",
       "      <th>duration</th>\n",
       "      <th>campaign</th>\n",
       "      <th>pdays</th>\n",
       "      <th>previous</th>\n",
       "    </tr>\n",
       "  </thead>\n",
       "  <tbody>\n",
       "    <tr>\n",
       "      <th>count</th>\n",
       "      <td>45203.000000</td>\n",
       "      <td>45198.000000</td>\n",
       "      <td>45203.000000</td>\n",
       "      <td>45203.000000</td>\n",
       "      <td>45203.000000</td>\n",
       "      <td>45203.000000</td>\n",
       "      <td>45203.000000</td>\n",
       "    </tr>\n",
       "    <tr>\n",
       "      <th>mean</th>\n",
       "      <td>40.936133</td>\n",
       "      <td>1362.631997</td>\n",
       "      <td>15.808331</td>\n",
       "      <td>258.168816</td>\n",
       "      <td>2.764153</td>\n",
       "      <td>40.205119</td>\n",
       "      <td>0.580426</td>\n",
       "    </tr>\n",
       "    <tr>\n",
       "      <th>std</th>\n",
       "      <td>10.618494</td>\n",
       "      <td>3045.126997</td>\n",
       "      <td>8.321971</td>\n",
       "      <td>257.548471</td>\n",
       "      <td>3.098206</td>\n",
       "      <td>100.136106</td>\n",
       "      <td>2.303632</td>\n",
       "    </tr>\n",
       "    <tr>\n",
       "      <th>min</th>\n",
       "      <td>18.000000</td>\n",
       "      <td>-8019.000000</td>\n",
       "      <td>1.000000</td>\n",
       "      <td>0.000000</td>\n",
       "      <td>1.000000</td>\n",
       "      <td>-1.000000</td>\n",
       "      <td>0.000000</td>\n",
       "    </tr>\n",
       "    <tr>\n",
       "      <th>25%</th>\n",
       "      <td>33.000000</td>\n",
       "      <td>72.000000</td>\n",
       "      <td>8.000000</td>\n",
       "      <td>103.000000</td>\n",
       "      <td>1.000000</td>\n",
       "      <td>-1.000000</td>\n",
       "      <td>0.000000</td>\n",
       "    </tr>\n",
       "    <tr>\n",
       "      <th>50%</th>\n",
       "      <td>39.000000</td>\n",
       "      <td>449.000000</td>\n",
       "      <td>16.000000</td>\n",
       "      <td>180.000000</td>\n",
       "      <td>2.000000</td>\n",
       "      <td>-1.000000</td>\n",
       "      <td>0.000000</td>\n",
       "    </tr>\n",
       "    <tr>\n",
       "      <th>75%</th>\n",
       "      <td>48.000000</td>\n",
       "      <td>1428.000000</td>\n",
       "      <td>21.000000</td>\n",
       "      <td>319.000000</td>\n",
       "      <td>3.000000</td>\n",
       "      <td>-1.000000</td>\n",
       "      <td>0.000000</td>\n",
       "    </tr>\n",
       "    <tr>\n",
       "      <th>max</th>\n",
       "      <td>95.000000</td>\n",
       "      <td>102127.000000</td>\n",
       "      <td>31.000000</td>\n",
       "      <td>4918.000000</td>\n",
       "      <td>63.000000</td>\n",
       "      <td>871.000000</td>\n",
       "      <td>275.000000</td>\n",
       "    </tr>\n",
       "  </tbody>\n",
       "</table>\n",
       "</div>"
      ],
      "text/plain": [
       "                age        balance           day      duration      campaign  \\\n",
       "count  45203.000000   45198.000000  45203.000000  45203.000000  45203.000000   \n",
       "mean      40.936133    1362.631997     15.808331    258.168816      2.764153   \n",
       "std       10.618494    3045.126997      8.321971    257.548471      3.098206   \n",
       "min       18.000000   -8019.000000      1.000000      0.000000      1.000000   \n",
       "25%       33.000000      72.000000      8.000000    103.000000      1.000000   \n",
       "50%       39.000000     449.000000     16.000000    180.000000      2.000000   \n",
       "75%       48.000000    1428.000000     21.000000    319.000000      3.000000   \n",
       "max       95.000000  102127.000000     31.000000   4918.000000     63.000000   \n",
       "\n",
       "              pdays      previous  \n",
       "count  45203.000000  45203.000000  \n",
       "mean      40.205119      0.580426  \n",
       "std      100.136106      2.303632  \n",
       "min       -1.000000      0.000000  \n",
       "25%       -1.000000      0.000000  \n",
       "50%       -1.000000      0.000000  \n",
       "75%       -1.000000      0.000000  \n",
       "max      871.000000    275.000000  "
      ]
     },
     "execution_count": 108,
     "metadata": {},
     "output_type": "execute_result"
    }
   ],
   "source": [
    "clients_majeurs.describe()\n"
   ]
  },
  {
   "cell_type": "code",
   "execution_count": 133,
   "id": "2549cd45-615e-434e-b983-e6066049e03e",
   "metadata": {},
   "outputs": [
    {
     "data": {
      "text/html": [
       "<div>\n",
       "<style scoped>\n",
       "    .dataframe tbody tr th:only-of-type {\n",
       "        vertical-align: middle;\n",
       "    }\n",
       "\n",
       "    .dataframe tbody tr th {\n",
       "        vertical-align: top;\n",
       "    }\n",
       "\n",
       "    .dataframe thead th {\n",
       "        text-align: right;\n",
       "    }\n",
       "</style>\n",
       "<table border=\"1\" class=\"dataframe\">\n",
       "  <thead>\n",
       "    <tr style=\"text-align: right;\">\n",
       "      <th></th>\n",
       "      <th>id</th>\n",
       "      <th>age</th>\n",
       "      <th>job</th>\n",
       "      <th>marital</th>\n",
       "      <th>education</th>\n",
       "      <th>default</th>\n",
       "      <th>balance</th>\n",
       "      <th>housing</th>\n",
       "      <th>loan</th>\n",
       "      <th>contact</th>\n",
       "      <th>day</th>\n",
       "      <th>month</th>\n",
       "      <th>duration</th>\n",
       "      <th>campaign</th>\n",
       "      <th>pdays</th>\n",
       "      <th>previous</th>\n",
       "      <th>poutcome</th>\n",
       "      <th>y</th>\n",
       "    </tr>\n",
       "  </thead>\n",
       "  <tbody>\n",
       "    <tr>\n",
       "      <th>1</th>\n",
       "      <td>id2</td>\n",
       "      <td>44</td>\n",
       "      <td>technician</td>\n",
       "      <td>single</td>\n",
       "      <td>secondary</td>\n",
       "      <td>no</td>\n",
       "      <td>29.0</td>\n",
       "      <td>yes</td>\n",
       "      <td>no</td>\n",
       "      <td>unknown</td>\n",
       "      <td>5</td>\n",
       "      <td>may</td>\n",
       "      <td>151</td>\n",
       "      <td>1</td>\n",
       "      <td>-1</td>\n",
       "      <td>0</td>\n",
       "      <td>unknown</td>\n",
       "      <td>no</td>\n",
       "    </tr>\n",
       "    <tr>\n",
       "      <th>2</th>\n",
       "      <td>id3</td>\n",
       "      <td>33</td>\n",
       "      <td>entrepreneur</td>\n",
       "      <td>married</td>\n",
       "      <td>secondary</td>\n",
       "      <td>no</td>\n",
       "      <td>2.0</td>\n",
       "      <td>yes</td>\n",
       "      <td>yes</td>\n",
       "      <td>unknown</td>\n",
       "      <td>5</td>\n",
       "      <td>may</td>\n",
       "      <td>76</td>\n",
       "      <td>1</td>\n",
       "      <td>-1</td>\n",
       "      <td>0</td>\n",
       "      <td>unknown</td>\n",
       "      <td>no</td>\n",
       "    </tr>\n",
       "    <tr>\n",
       "      <th>9</th>\n",
       "      <td>id10</td>\n",
       "      <td>43</td>\n",
       "      <td>technician</td>\n",
       "      <td>single</td>\n",
       "      <td>secondary</td>\n",
       "      <td>no</td>\n",
       "      <td>NaN</td>\n",
       "      <td>yes</td>\n",
       "      <td>no</td>\n",
       "      <td>unknown</td>\n",
       "      <td>5</td>\n",
       "      <td>may</td>\n",
       "      <td>55</td>\n",
       "      <td>1</td>\n",
       "      <td>-1</td>\n",
       "      <td>0</td>\n",
       "      <td>unknown</td>\n",
       "      <td>no</td>\n",
       "    </tr>\n",
       "    <tr>\n",
       "      <th>10</th>\n",
       "      <td>id11</td>\n",
       "      <td>41</td>\n",
       "      <td>admin.</td>\n",
       "      <td>divorced</td>\n",
       "      <td>secondary</td>\n",
       "      <td>no</td>\n",
       "      <td>270.0</td>\n",
       "      <td>yes</td>\n",
       "      <td>no</td>\n",
       "      <td>unknown</td>\n",
       "      <td>5</td>\n",
       "      <td>may</td>\n",
       "      <td>222</td>\n",
       "      <td>1</td>\n",
       "      <td>-1</td>\n",
       "      <td>0</td>\n",
       "      <td>unknown</td>\n",
       "      <td>no</td>\n",
       "    </tr>\n",
       "    <tr>\n",
       "      <th>11</th>\n",
       "      <td>id12</td>\n",
       "      <td>29</td>\n",
       "      <td>admin.</td>\n",
       "      <td>single</td>\n",
       "      <td>secondary</td>\n",
       "      <td>no</td>\n",
       "      <td>390.0</td>\n",
       "      <td>yes</td>\n",
       "      <td>no</td>\n",
       "      <td>unknown</td>\n",
       "      <td>5</td>\n",
       "      <td>may</td>\n",
       "      <td>137</td>\n",
       "      <td>1</td>\n",
       "      <td>-1</td>\n",
       "      <td>0</td>\n",
       "      <td>unknown</td>\n",
       "      <td>no</td>\n",
       "    </tr>\n",
       "    <tr>\n",
       "      <th>...</th>\n",
       "      <td>...</td>\n",
       "      <td>...</td>\n",
       "      <td>...</td>\n",
       "      <td>...</td>\n",
       "      <td>...</td>\n",
       "      <td>...</td>\n",
       "      <td>...</td>\n",
       "      <td>...</td>\n",
       "      <td>...</td>\n",
       "      <td>...</td>\n",
       "      <td>...</td>\n",
       "      <td>...</td>\n",
       "      <td>...</td>\n",
       "      <td>...</td>\n",
       "      <td>...</td>\n",
       "      <td>...</td>\n",
       "      <td>...</td>\n",
       "      <td>...</td>\n",
       "    </tr>\n",
       "    <tr>\n",
       "      <th>45204</th>\n",
       "      <td>id45205</td>\n",
       "      <td>73</td>\n",
       "      <td>retired</td>\n",
       "      <td>married</td>\n",
       "      <td>secondary</td>\n",
       "      <td>no</td>\n",
       "      <td>2850.0</td>\n",
       "      <td>no</td>\n",
       "      <td>no</td>\n",
       "      <td>cellular</td>\n",
       "      <td>17</td>\n",
       "      <td>nov</td>\n",
       "      <td>300</td>\n",
       "      <td>1</td>\n",
       "      <td>40</td>\n",
       "      <td>8</td>\n",
       "      <td>failure</td>\n",
       "      <td>yes</td>\n",
       "    </tr>\n",
       "    <tr>\n",
       "      <th>45205</th>\n",
       "      <td>id45206</td>\n",
       "      <td>25</td>\n",
       "      <td>technician</td>\n",
       "      <td>single</td>\n",
       "      <td>secondary</td>\n",
       "      <td>no</td>\n",
       "      <td>505.0</td>\n",
       "      <td>no</td>\n",
       "      <td>yes</td>\n",
       "      <td>cellular</td>\n",
       "      <td>17</td>\n",
       "      <td>nov</td>\n",
       "      <td>386</td>\n",
       "      <td>2</td>\n",
       "      <td>-1</td>\n",
       "      <td>0</td>\n",
       "      <td>unknown</td>\n",
       "      <td>yes</td>\n",
       "    </tr>\n",
       "    <tr>\n",
       "      <th>45208</th>\n",
       "      <td>id45209</td>\n",
       "      <td>72</td>\n",
       "      <td>retired</td>\n",
       "      <td>married</td>\n",
       "      <td>secondary</td>\n",
       "      <td>no</td>\n",
       "      <td>5715.0</td>\n",
       "      <td>no</td>\n",
       "      <td>no</td>\n",
       "      <td>cellular</td>\n",
       "      <td>17</td>\n",
       "      <td>nov</td>\n",
       "      <td>1127</td>\n",
       "      <td>5</td>\n",
       "      <td>184</td>\n",
       "      <td>3</td>\n",
       "      <td>success</td>\n",
       "      <td>yes</td>\n",
       "    </tr>\n",
       "    <tr>\n",
       "      <th>45209</th>\n",
       "      <td>id45210</td>\n",
       "      <td>57</td>\n",
       "      <td>blue-collar</td>\n",
       "      <td>married</td>\n",
       "      <td>secondary</td>\n",
       "      <td>no</td>\n",
       "      <td>668.0</td>\n",
       "      <td>no</td>\n",
       "      <td>no</td>\n",
       "      <td>telephone</td>\n",
       "      <td>17</td>\n",
       "      <td>nov</td>\n",
       "      <td>508</td>\n",
       "      <td>4</td>\n",
       "      <td>-1</td>\n",
       "      <td>0</td>\n",
       "      <td>unknown</td>\n",
       "      <td>no</td>\n",
       "    </tr>\n",
       "    <tr>\n",
       "      <th>45210</th>\n",
       "      <td>id45211</td>\n",
       "      <td>37</td>\n",
       "      <td>entrepreneur</td>\n",
       "      <td>married</td>\n",
       "      <td>secondary</td>\n",
       "      <td>no</td>\n",
       "      <td>2971.0</td>\n",
       "      <td>no</td>\n",
       "      <td>no</td>\n",
       "      <td>cellular</td>\n",
       "      <td>17</td>\n",
       "      <td>nov</td>\n",
       "      <td>361</td>\n",
       "      <td>2</td>\n",
       "      <td>188</td>\n",
       "      <td>11</td>\n",
       "      <td>other</td>\n",
       "      <td>no</td>\n",
       "    </tr>\n",
       "  </tbody>\n",
       "</table>\n",
       "<p>23199 rows × 18 columns</p>\n",
       "</div>"
      ],
      "text/plain": [
       "            id  age           job   marital  education default  balance  \\\n",
       "1          id2   44    technician    single  secondary      no     29.0   \n",
       "2          id3   33  entrepreneur   married  secondary      no      2.0   \n",
       "9         id10   43    technician    single  secondary      no      NaN   \n",
       "10        id11   41        admin.  divorced  secondary      no    270.0   \n",
       "11        id12   29        admin.    single  secondary      no    390.0   \n",
       "...        ...  ...           ...       ...        ...     ...      ...   \n",
       "45204  id45205   73       retired   married  secondary      no   2850.0   \n",
       "45205  id45206   25    technician    single  secondary      no    505.0   \n",
       "45208  id45209   72       retired   married  secondary      no   5715.0   \n",
       "45209  id45210   57   blue-collar   married  secondary      no    668.0   \n",
       "45210  id45211   37  entrepreneur   married  secondary      no   2971.0   \n",
       "\n",
       "      housing loan    contact  day month  duration  campaign  pdays  previous  \\\n",
       "1         yes   no    unknown    5   may       151         1     -1         0   \n",
       "2         yes  yes    unknown    5   may        76         1     -1         0   \n",
       "9         yes   no    unknown    5   may        55         1     -1         0   \n",
       "10        yes   no    unknown    5   may       222         1     -1         0   \n",
       "11        yes   no    unknown    5   may       137         1     -1         0   \n",
       "...       ...  ...        ...  ...   ...       ...       ...    ...       ...   \n",
       "45204      no   no   cellular   17   nov       300         1     40         8   \n",
       "45205      no  yes   cellular   17   nov       386         2     -1         0   \n",
       "45208      no   no   cellular   17   nov      1127         5    184         3   \n",
       "45209      no   no  telephone   17   nov       508         4     -1         0   \n",
       "45210      no   no   cellular   17   nov       361         2    188        11   \n",
       "\n",
       "      poutcome    y  \n",
       "1      unknown   no  \n",
       "2      unknown   no  \n",
       "9      unknown   no  \n",
       "10     unknown   no  \n",
       "11     unknown   no  \n",
       "...        ...  ...  \n",
       "45204  failure  yes  \n",
       "45205  unknown  yes  \n",
       "45208  success  yes  \n",
       "45209  unknown   no  \n",
       "45210    other   no  \n",
       "\n",
       "[23199 rows x 18 columns]"
      ]
     },
     "execution_count": 133,
     "metadata": {},
     "output_type": "execute_result"
    }
   ],
   "source": [
    "# Clients majeurs et niveau d'éducaton secondaire\n",
    "\n",
    "df[(df[\"age\"] >= 18) & (df[\"education\"] == \"secondary\")]\n",
    "\n"
   ]
  },
  {
   "cell_type": "code",
   "execution_count": 134,
   "id": "36c232dc-c67e-4584-9095-2afc09604715",
   "metadata": {},
   "outputs": [
    {
     "data": {
      "text/html": [
       "<div>\n",
       "<style scoped>\n",
       "    .dataframe tbody tr th:only-of-type {\n",
       "        vertical-align: middle;\n",
       "    }\n",
       "\n",
       "    .dataframe tbody tr th {\n",
       "        vertical-align: top;\n",
       "    }\n",
       "\n",
       "    .dataframe thead th {\n",
       "        text-align: right;\n",
       "    }\n",
       "</style>\n",
       "<table border=\"1\" class=\"dataframe\">\n",
       "  <thead>\n",
       "    <tr style=\"text-align: right;\">\n",
       "      <th></th>\n",
       "      <th>id</th>\n",
       "      <th>age</th>\n",
       "      <th>job</th>\n",
       "      <th>marital</th>\n",
       "      <th>education</th>\n",
       "      <th>default</th>\n",
       "      <th>balance</th>\n",
       "      <th>housing</th>\n",
       "      <th>loan</th>\n",
       "      <th>contact</th>\n",
       "      <th>day</th>\n",
       "      <th>month</th>\n",
       "      <th>duration</th>\n",
       "      <th>campaign</th>\n",
       "      <th>pdays</th>\n",
       "      <th>previous</th>\n",
       "      <th>poutcome</th>\n",
       "      <th>y</th>\n",
       "    </tr>\n",
       "  </thead>\n",
       "  <tbody>\n",
       "    <tr>\n",
       "      <th>1</th>\n",
       "      <td>id2</td>\n",
       "      <td>44</td>\n",
       "      <td>technician</td>\n",
       "      <td>single</td>\n",
       "      <td>secondary</td>\n",
       "      <td>no</td>\n",
       "      <td>29.0</td>\n",
       "      <td>yes</td>\n",
       "      <td>no</td>\n",
       "      <td>unknown</td>\n",
       "      <td>5</td>\n",
       "      <td>may</td>\n",
       "      <td>151</td>\n",
       "      <td>1</td>\n",
       "      <td>-1</td>\n",
       "      <td>0</td>\n",
       "      <td>unknown</td>\n",
       "      <td>no</td>\n",
       "    </tr>\n",
       "    <tr>\n",
       "      <th>2</th>\n",
       "      <td>id3</td>\n",
       "      <td>33</td>\n",
       "      <td>entrepreneur</td>\n",
       "      <td>married</td>\n",
       "      <td>secondary</td>\n",
       "      <td>no</td>\n",
       "      <td>2.0</td>\n",
       "      <td>yes</td>\n",
       "      <td>yes</td>\n",
       "      <td>unknown</td>\n",
       "      <td>5</td>\n",
       "      <td>may</td>\n",
       "      <td>76</td>\n",
       "      <td>1</td>\n",
       "      <td>-1</td>\n",
       "      <td>0</td>\n",
       "      <td>unknown</td>\n",
       "      <td>no</td>\n",
       "    </tr>\n",
       "    <tr>\n",
       "      <th>9</th>\n",
       "      <td>id10</td>\n",
       "      <td>43</td>\n",
       "      <td>technician</td>\n",
       "      <td>single</td>\n",
       "      <td>secondary</td>\n",
       "      <td>no</td>\n",
       "      <td>NaN</td>\n",
       "      <td>yes</td>\n",
       "      <td>no</td>\n",
       "      <td>unknown</td>\n",
       "      <td>5</td>\n",
       "      <td>may</td>\n",
       "      <td>55</td>\n",
       "      <td>1</td>\n",
       "      <td>-1</td>\n",
       "      <td>0</td>\n",
       "      <td>unknown</td>\n",
       "      <td>no</td>\n",
       "    </tr>\n",
       "    <tr>\n",
       "      <th>10</th>\n",
       "      <td>id11</td>\n",
       "      <td>41</td>\n",
       "      <td>admin.</td>\n",
       "      <td>divorced</td>\n",
       "      <td>secondary</td>\n",
       "      <td>no</td>\n",
       "      <td>270.0</td>\n",
       "      <td>yes</td>\n",
       "      <td>no</td>\n",
       "      <td>unknown</td>\n",
       "      <td>5</td>\n",
       "      <td>may</td>\n",
       "      <td>222</td>\n",
       "      <td>1</td>\n",
       "      <td>-1</td>\n",
       "      <td>0</td>\n",
       "      <td>unknown</td>\n",
       "      <td>no</td>\n",
       "    </tr>\n",
       "    <tr>\n",
       "      <th>11</th>\n",
       "      <td>id12</td>\n",
       "      <td>29</td>\n",
       "      <td>admin.</td>\n",
       "      <td>single</td>\n",
       "      <td>secondary</td>\n",
       "      <td>no</td>\n",
       "      <td>390.0</td>\n",
       "      <td>yes</td>\n",
       "      <td>no</td>\n",
       "      <td>unknown</td>\n",
       "      <td>5</td>\n",
       "      <td>may</td>\n",
       "      <td>137</td>\n",
       "      <td>1</td>\n",
       "      <td>-1</td>\n",
       "      <td>0</td>\n",
       "      <td>unknown</td>\n",
       "      <td>no</td>\n",
       "    </tr>\n",
       "    <tr>\n",
       "      <th>...</th>\n",
       "      <td>...</td>\n",
       "      <td>...</td>\n",
       "      <td>...</td>\n",
       "      <td>...</td>\n",
       "      <td>...</td>\n",
       "      <td>...</td>\n",
       "      <td>...</td>\n",
       "      <td>...</td>\n",
       "      <td>...</td>\n",
       "      <td>...</td>\n",
       "      <td>...</td>\n",
       "      <td>...</td>\n",
       "      <td>...</td>\n",
       "      <td>...</td>\n",
       "      <td>...</td>\n",
       "      <td>...</td>\n",
       "      <td>...</td>\n",
       "      <td>...</td>\n",
       "    </tr>\n",
       "    <tr>\n",
       "      <th>45204</th>\n",
       "      <td>id45205</td>\n",
       "      <td>73</td>\n",
       "      <td>retired</td>\n",
       "      <td>married</td>\n",
       "      <td>secondary</td>\n",
       "      <td>no</td>\n",
       "      <td>2850.0</td>\n",
       "      <td>no</td>\n",
       "      <td>no</td>\n",
       "      <td>cellular</td>\n",
       "      <td>17</td>\n",
       "      <td>nov</td>\n",
       "      <td>300</td>\n",
       "      <td>1</td>\n",
       "      <td>40</td>\n",
       "      <td>8</td>\n",
       "      <td>failure</td>\n",
       "      <td>yes</td>\n",
       "    </tr>\n",
       "    <tr>\n",
       "      <th>45205</th>\n",
       "      <td>id45206</td>\n",
       "      <td>25</td>\n",
       "      <td>technician</td>\n",
       "      <td>single</td>\n",
       "      <td>secondary</td>\n",
       "      <td>no</td>\n",
       "      <td>505.0</td>\n",
       "      <td>no</td>\n",
       "      <td>yes</td>\n",
       "      <td>cellular</td>\n",
       "      <td>17</td>\n",
       "      <td>nov</td>\n",
       "      <td>386</td>\n",
       "      <td>2</td>\n",
       "      <td>-1</td>\n",
       "      <td>0</td>\n",
       "      <td>unknown</td>\n",
       "      <td>yes</td>\n",
       "    </tr>\n",
       "    <tr>\n",
       "      <th>45208</th>\n",
       "      <td>id45209</td>\n",
       "      <td>72</td>\n",
       "      <td>retired</td>\n",
       "      <td>married</td>\n",
       "      <td>secondary</td>\n",
       "      <td>no</td>\n",
       "      <td>5715.0</td>\n",
       "      <td>no</td>\n",
       "      <td>no</td>\n",
       "      <td>cellular</td>\n",
       "      <td>17</td>\n",
       "      <td>nov</td>\n",
       "      <td>1127</td>\n",
       "      <td>5</td>\n",
       "      <td>184</td>\n",
       "      <td>3</td>\n",
       "      <td>success</td>\n",
       "      <td>yes</td>\n",
       "    </tr>\n",
       "    <tr>\n",
       "      <th>45209</th>\n",
       "      <td>id45210</td>\n",
       "      <td>57</td>\n",
       "      <td>blue-collar</td>\n",
       "      <td>married</td>\n",
       "      <td>secondary</td>\n",
       "      <td>no</td>\n",
       "      <td>668.0</td>\n",
       "      <td>no</td>\n",
       "      <td>no</td>\n",
       "      <td>telephone</td>\n",
       "      <td>17</td>\n",
       "      <td>nov</td>\n",
       "      <td>508</td>\n",
       "      <td>4</td>\n",
       "      <td>-1</td>\n",
       "      <td>0</td>\n",
       "      <td>unknown</td>\n",
       "      <td>no</td>\n",
       "    </tr>\n",
       "    <tr>\n",
       "      <th>45210</th>\n",
       "      <td>id45211</td>\n",
       "      <td>37</td>\n",
       "      <td>entrepreneur</td>\n",
       "      <td>married</td>\n",
       "      <td>secondary</td>\n",
       "      <td>no</td>\n",
       "      <td>2971.0</td>\n",
       "      <td>no</td>\n",
       "      <td>no</td>\n",
       "      <td>cellular</td>\n",
       "      <td>17</td>\n",
       "      <td>nov</td>\n",
       "      <td>361</td>\n",
       "      <td>2</td>\n",
       "      <td>188</td>\n",
       "      <td>11</td>\n",
       "      <td>other</td>\n",
       "      <td>no</td>\n",
       "    </tr>\n",
       "  </tbody>\n",
       "</table>\n",
       "<p>23199 rows × 18 columns</p>\n",
       "</div>"
      ],
      "text/plain": [
       "            id  age           job   marital  education default  balance  \\\n",
       "1          id2   44    technician    single  secondary      no     29.0   \n",
       "2          id3   33  entrepreneur   married  secondary      no      2.0   \n",
       "9         id10   43    technician    single  secondary      no      NaN   \n",
       "10        id11   41        admin.  divorced  secondary      no    270.0   \n",
       "11        id12   29        admin.    single  secondary      no    390.0   \n",
       "...        ...  ...           ...       ...        ...     ...      ...   \n",
       "45204  id45205   73       retired   married  secondary      no   2850.0   \n",
       "45205  id45206   25    technician    single  secondary      no    505.0   \n",
       "45208  id45209   72       retired   married  secondary      no   5715.0   \n",
       "45209  id45210   57   blue-collar   married  secondary      no    668.0   \n",
       "45210  id45211   37  entrepreneur   married  secondary      no   2971.0   \n",
       "\n",
       "      housing loan    contact  day month  duration  campaign  pdays  previous  \\\n",
       "1         yes   no    unknown    5   may       151         1     -1         0   \n",
       "2         yes  yes    unknown    5   may        76         1     -1         0   \n",
       "9         yes   no    unknown    5   may        55         1     -1         0   \n",
       "10        yes   no    unknown    5   may       222         1     -1         0   \n",
       "11        yes   no    unknown    5   may       137         1     -1         0   \n",
       "...       ...  ...        ...  ...   ...       ...       ...    ...       ...   \n",
       "45204      no   no   cellular   17   nov       300         1     40         8   \n",
       "45205      no  yes   cellular   17   nov       386         2     -1         0   \n",
       "45208      no   no   cellular   17   nov      1127         5    184         3   \n",
       "45209      no   no  telephone   17   nov       508         4     -1         0   \n",
       "45210      no   no   cellular   17   nov       361         2    188        11   \n",
       "\n",
       "      poutcome    y  \n",
       "1      unknown   no  \n",
       "2      unknown   no  \n",
       "9      unknown   no  \n",
       "10     unknown   no  \n",
       "11     unknown   no  \n",
       "...        ...  ...  \n",
       "45204  failure  yes  \n",
       "45205  unknown  yes  \n",
       "45208  success  yes  \n",
       "45209  unknown   no  \n",
       "45210    other   no  \n",
       "\n",
       "[23199 rows x 18 columns]"
      ]
     },
     "execution_count": 134,
     "metadata": {},
     "output_type": "execute_result"
    }
   ],
   "source": [
    "clients_majeurs_secondaire = df[(df[\"age\"] >= 18) & (df[\"education\"] == \"secondary\")]\n",
    "clients_majeurs_secondaire\n"
   ]
  },
  {
   "cell_type": "code",
   "execution_count": 135,
   "id": "702946a3-f344-4922-bbdd-481a0816dff2",
   "metadata": {},
   "outputs": [
    {
     "data": {
      "text/html": [
       "<div>\n",
       "<style scoped>\n",
       "    .dataframe tbody tr th:only-of-type {\n",
       "        vertical-align: middle;\n",
       "    }\n",
       "\n",
       "    .dataframe tbody tr th {\n",
       "        vertical-align: top;\n",
       "    }\n",
       "\n",
       "    .dataframe thead th {\n",
       "        text-align: right;\n",
       "    }\n",
       "</style>\n",
       "<table border=\"1\" class=\"dataframe\">\n",
       "  <thead>\n",
       "    <tr style=\"text-align: right;\">\n",
       "      <th></th>\n",
       "      <th>age</th>\n",
       "      <th>balance</th>\n",
       "      <th>day</th>\n",
       "      <th>duration</th>\n",
       "      <th>campaign</th>\n",
       "      <th>pdays</th>\n",
       "      <th>previous</th>\n",
       "    </tr>\n",
       "  </thead>\n",
       "  <tbody>\n",
       "    <tr>\n",
       "      <th>count</th>\n",
       "      <td>23199.000000</td>\n",
       "      <td>23197.000000</td>\n",
       "      <td>23199.000000</td>\n",
       "      <td>23199.000000</td>\n",
       "      <td>23199.000000</td>\n",
       "      <td>23199.000000</td>\n",
       "      <td>23199.000000</td>\n",
       "    </tr>\n",
       "    <tr>\n",
       "      <th>mean</th>\n",
       "      <td>39.964352</td>\n",
       "      <td>1155.090184</td>\n",
       "      <td>15.760550</td>\n",
       "      <td>258.699556</td>\n",
       "      <td>2.701022</td>\n",
       "      <td>42.359110</td>\n",
       "      <td>0.567826</td>\n",
       "    </tr>\n",
       "    <tr>\n",
       "      <th>std</th>\n",
       "      <td>10.159050</td>\n",
       "      <td>2558.490233</td>\n",
       "      <td>8.306735</td>\n",
       "      <td>253.324101</td>\n",
       "      <td>2.985916</td>\n",
       "      <td>103.595216</td>\n",
       "      <td>1.849975</td>\n",
       "    </tr>\n",
       "    <tr>\n",
       "      <th>min</th>\n",
       "      <td>18.000000</td>\n",
       "      <td>-8019.000000</td>\n",
       "      <td>1.000000</td>\n",
       "      <td>0.000000</td>\n",
       "      <td>1.000000</td>\n",
       "      <td>-1.000000</td>\n",
       "      <td>0.000000</td>\n",
       "    </tr>\n",
       "    <tr>\n",
       "      <th>25%</th>\n",
       "      <td>32.000000</td>\n",
       "      <td>55.000000</td>\n",
       "      <td>8.000000</td>\n",
       "      <td>105.000000</td>\n",
       "      <td>1.000000</td>\n",
       "      <td>-1.000000</td>\n",
       "      <td>0.000000</td>\n",
       "    </tr>\n",
       "    <tr>\n",
       "      <th>50%</th>\n",
       "      <td>38.000000</td>\n",
       "      <td>392.000000</td>\n",
       "      <td>16.000000</td>\n",
       "      <td>183.000000</td>\n",
       "      <td>2.000000</td>\n",
       "      <td>-1.000000</td>\n",
       "      <td>0.000000</td>\n",
       "    </tr>\n",
       "    <tr>\n",
       "      <th>75%</th>\n",
       "      <td>47.000000</td>\n",
       "      <td>1234.000000</td>\n",
       "      <td>21.000000</td>\n",
       "      <td>321.000000</td>\n",
       "      <td>3.000000</td>\n",
       "      <td>-1.000000</td>\n",
       "      <td>0.000000</td>\n",
       "    </tr>\n",
       "    <tr>\n",
       "      <th>max</th>\n",
       "      <td>95.000000</td>\n",
       "      <td>81204.000000</td>\n",
       "      <td>31.000000</td>\n",
       "      <td>3881.000000</td>\n",
       "      <td>55.000000</td>\n",
       "      <td>842.000000</td>\n",
       "      <td>55.000000</td>\n",
       "    </tr>\n",
       "  </tbody>\n",
       "</table>\n",
       "</div>"
      ],
      "text/plain": [
       "                age       balance           day      duration      campaign  \\\n",
       "count  23199.000000  23197.000000  23199.000000  23199.000000  23199.000000   \n",
       "mean      39.964352   1155.090184     15.760550    258.699556      2.701022   \n",
       "std       10.159050   2558.490233      8.306735    253.324101      2.985916   \n",
       "min       18.000000  -8019.000000      1.000000      0.000000      1.000000   \n",
       "25%       32.000000     55.000000      8.000000    105.000000      1.000000   \n",
       "50%       38.000000    392.000000     16.000000    183.000000      2.000000   \n",
       "75%       47.000000   1234.000000     21.000000    321.000000      3.000000   \n",
       "max       95.000000  81204.000000     31.000000   3881.000000     55.000000   \n",
       "\n",
       "              pdays      previous  \n",
       "count  23199.000000  23199.000000  \n",
       "mean      42.359110      0.567826  \n",
       "std      103.595216      1.849975  \n",
       "min       -1.000000      0.000000  \n",
       "25%       -1.000000      0.000000  \n",
       "50%       -1.000000      0.000000  \n",
       "75%       -1.000000      0.000000  \n",
       "max      842.000000     55.000000  "
      ]
     },
     "execution_count": 135,
     "metadata": {},
     "output_type": "execute_result"
    }
   ],
   "source": [
    "clients_majeurs_secondaire.describe()"
   ]
  },
  {
   "cell_type": "code",
   "execution_count": 136,
   "id": "790c8270-2cf3-4f79-8fa9-e0f3c12c73ec",
   "metadata": {},
   "outputs": [
    {
     "data": {
      "text/plain": [
       "<bound method Series.unique of 1        secondary\n",
       "2        secondary\n",
       "9        secondary\n",
       "10       secondary\n",
       "11       secondary\n",
       "           ...    \n",
       "45204    secondary\n",
       "45205    secondary\n",
       "45208    secondary\n",
       "45209    secondary\n",
       "45210    secondary\n",
       "Name: education, Length: 23199, dtype: object>"
      ]
     },
     "execution_count": 136,
     "metadata": {},
     "output_type": "execute_result"
    }
   ],
   "source": [
    "clients_majeurs_secondaire[\"education\"].unique"
   ]
  },
  {
   "cell_type": "code",
   "execution_count": 142,
   "id": "908f4c9c-0fd4-4417-a6de-eb46dd15abf6",
   "metadata": {},
   "outputs": [
    {
     "data": {
      "text/html": [
       "<div>\n",
       "<style scoped>\n",
       "    .dataframe tbody tr th:only-of-type {\n",
       "        vertical-align: middle;\n",
       "    }\n",
       "\n",
       "    .dataframe tbody tr th {\n",
       "        vertical-align: top;\n",
       "    }\n",
       "\n",
       "    .dataframe thead th {\n",
       "        text-align: right;\n",
       "    }\n",
       "</style>\n",
       "<table border=\"1\" class=\"dataframe\">\n",
       "  <thead>\n",
       "    <tr style=\"text-align: right;\">\n",
       "      <th></th>\n",
       "      <th>id</th>\n",
       "      <th>age</th>\n",
       "      <th>job</th>\n",
       "      <th>marital</th>\n",
       "      <th>education</th>\n",
       "      <th>default</th>\n",
       "      <th>balance</th>\n",
       "      <th>housing</th>\n",
       "      <th>loan</th>\n",
       "      <th>contact</th>\n",
       "      <th>day</th>\n",
       "      <th>month</th>\n",
       "      <th>duration</th>\n",
       "      <th>campaign</th>\n",
       "      <th>pdays</th>\n",
       "      <th>previous</th>\n",
       "      <th>poutcome</th>\n",
       "      <th>y</th>\n",
       "    </tr>\n",
       "  </thead>\n",
       "  <tbody>\n",
       "    <tr>\n",
       "      <th>0</th>\n",
       "      <td>id1</td>\n",
       "      <td>58</td>\n",
       "      <td>management</td>\n",
       "      <td>married</td>\n",
       "      <td>tertiary</td>\n",
       "      <td>no</td>\n",
       "      <td>2143.0</td>\n",
       "      <td>yes</td>\n",
       "      <td>no</td>\n",
       "      <td>unknown</td>\n",
       "      <td>5</td>\n",
       "      <td>may</td>\n",
       "      <td>261</td>\n",
       "      <td>1</td>\n",
       "      <td>-1</td>\n",
       "      <td>0</td>\n",
       "      <td>unknown</td>\n",
       "      <td>no</td>\n",
       "    </tr>\n",
       "    <tr>\n",
       "      <th>1</th>\n",
       "      <td>id2</td>\n",
       "      <td>44</td>\n",
       "      <td>technician</td>\n",
       "      <td>single</td>\n",
       "      <td>secondary</td>\n",
       "      <td>no</td>\n",
       "      <td>29.0</td>\n",
       "      <td>yes</td>\n",
       "      <td>no</td>\n",
       "      <td>unknown</td>\n",
       "      <td>5</td>\n",
       "      <td>may</td>\n",
       "      <td>151</td>\n",
       "      <td>1</td>\n",
       "      <td>-1</td>\n",
       "      <td>0</td>\n",
       "      <td>unknown</td>\n",
       "      <td>no</td>\n",
       "    </tr>\n",
       "    <tr>\n",
       "      <th>2</th>\n",
       "      <td>id3</td>\n",
       "      <td>33</td>\n",
       "      <td>entrepreneur</td>\n",
       "      <td>married</td>\n",
       "      <td>secondary</td>\n",
       "      <td>no</td>\n",
       "      <td>2.0</td>\n",
       "      <td>yes</td>\n",
       "      <td>yes</td>\n",
       "      <td>unknown</td>\n",
       "      <td>5</td>\n",
       "      <td>may</td>\n",
       "      <td>76</td>\n",
       "      <td>1</td>\n",
       "      <td>-1</td>\n",
       "      <td>0</td>\n",
       "      <td>unknown</td>\n",
       "      <td>no</td>\n",
       "    </tr>\n",
       "    <tr>\n",
       "      <th>3</th>\n",
       "      <td>id4</td>\n",
       "      <td>47</td>\n",
       "      <td>blue-collar</td>\n",
       "      <td>married</td>\n",
       "      <td>unknown</td>\n",
       "      <td>no</td>\n",
       "      <td>1506.0</td>\n",
       "      <td>yes</td>\n",
       "      <td>no</td>\n",
       "      <td>unknown</td>\n",
       "      <td>5</td>\n",
       "      <td>may</td>\n",
       "      <td>92</td>\n",
       "      <td>1</td>\n",
       "      <td>-1</td>\n",
       "      <td>0</td>\n",
       "      <td>unknown</td>\n",
       "      <td>no</td>\n",
       "    </tr>\n",
       "    <tr>\n",
       "      <th>4</th>\n",
       "      <td>id5</td>\n",
       "      <td>33</td>\n",
       "      <td>unknown</td>\n",
       "      <td>single</td>\n",
       "      <td>unknown</td>\n",
       "      <td>no</td>\n",
       "      <td>1.0</td>\n",
       "      <td>no</td>\n",
       "      <td>no</td>\n",
       "      <td>unknown</td>\n",
       "      <td>5</td>\n",
       "      <td>may</td>\n",
       "      <td>198</td>\n",
       "      <td>1</td>\n",
       "      <td>-1</td>\n",
       "      <td>0</td>\n",
       "      <td>unknown</td>\n",
       "      <td>no</td>\n",
       "    </tr>\n",
       "    <tr>\n",
       "      <th>...</th>\n",
       "      <td>...</td>\n",
       "      <td>...</td>\n",
       "      <td>...</td>\n",
       "      <td>...</td>\n",
       "      <td>...</td>\n",
       "      <td>...</td>\n",
       "      <td>...</td>\n",
       "      <td>...</td>\n",
       "      <td>...</td>\n",
       "      <td>...</td>\n",
       "      <td>...</td>\n",
       "      <td>...</td>\n",
       "      <td>...</td>\n",
       "      <td>...</td>\n",
       "      <td>...</td>\n",
       "      <td>...</td>\n",
       "      <td>...</td>\n",
       "      <td>...</td>\n",
       "    </tr>\n",
       "    <tr>\n",
       "      <th>45206</th>\n",
       "      <td>id45207</td>\n",
       "      <td>51</td>\n",
       "      <td>technician</td>\n",
       "      <td>married</td>\n",
       "      <td>tertiary</td>\n",
       "      <td>no</td>\n",
       "      <td>825.0</td>\n",
       "      <td>no</td>\n",
       "      <td>no</td>\n",
       "      <td>cellular</td>\n",
       "      <td>17</td>\n",
       "      <td>nov</td>\n",
       "      <td>977</td>\n",
       "      <td>3</td>\n",
       "      <td>-1</td>\n",
       "      <td>0</td>\n",
       "      <td>unknown</td>\n",
       "      <td>yes</td>\n",
       "    </tr>\n",
       "    <tr>\n",
       "      <th>45207</th>\n",
       "      <td>id45208</td>\n",
       "      <td>71</td>\n",
       "      <td>retired</td>\n",
       "      <td>divorced</td>\n",
       "      <td>primary</td>\n",
       "      <td>no</td>\n",
       "      <td>1729.0</td>\n",
       "      <td>no</td>\n",
       "      <td>no</td>\n",
       "      <td>cellular</td>\n",
       "      <td>17</td>\n",
       "      <td>nov</td>\n",
       "      <td>456</td>\n",
       "      <td>2</td>\n",
       "      <td>-1</td>\n",
       "      <td>0</td>\n",
       "      <td>unknown</td>\n",
       "      <td>yes</td>\n",
       "    </tr>\n",
       "    <tr>\n",
       "      <th>45208</th>\n",
       "      <td>id45209</td>\n",
       "      <td>72</td>\n",
       "      <td>retired</td>\n",
       "      <td>married</td>\n",
       "      <td>secondary</td>\n",
       "      <td>no</td>\n",
       "      <td>5715.0</td>\n",
       "      <td>no</td>\n",
       "      <td>no</td>\n",
       "      <td>cellular</td>\n",
       "      <td>17</td>\n",
       "      <td>nov</td>\n",
       "      <td>1127</td>\n",
       "      <td>5</td>\n",
       "      <td>184</td>\n",
       "      <td>3</td>\n",
       "      <td>success</td>\n",
       "      <td>yes</td>\n",
       "    </tr>\n",
       "    <tr>\n",
       "      <th>45209</th>\n",
       "      <td>id45210</td>\n",
       "      <td>57</td>\n",
       "      <td>blue-collar</td>\n",
       "      <td>married</td>\n",
       "      <td>secondary</td>\n",
       "      <td>no</td>\n",
       "      <td>668.0</td>\n",
       "      <td>no</td>\n",
       "      <td>no</td>\n",
       "      <td>telephone</td>\n",
       "      <td>17</td>\n",
       "      <td>nov</td>\n",
       "      <td>508</td>\n",
       "      <td>4</td>\n",
       "      <td>-1</td>\n",
       "      <td>0</td>\n",
       "      <td>unknown</td>\n",
       "      <td>no</td>\n",
       "    </tr>\n",
       "    <tr>\n",
       "      <th>45210</th>\n",
       "      <td>id45211</td>\n",
       "      <td>37</td>\n",
       "      <td>entrepreneur</td>\n",
       "      <td>married</td>\n",
       "      <td>secondary</td>\n",
       "      <td>no</td>\n",
       "      <td>2971.0</td>\n",
       "      <td>no</td>\n",
       "      <td>no</td>\n",
       "      <td>cellular</td>\n",
       "      <td>17</td>\n",
       "      <td>nov</td>\n",
       "      <td>361</td>\n",
       "      <td>2</td>\n",
       "      <td>188</td>\n",
       "      <td>11</td>\n",
       "      <td>other</td>\n",
       "      <td>no</td>\n",
       "    </tr>\n",
       "  </tbody>\n",
       "</table>\n",
       "<p>45203 rows × 18 columns</p>\n",
       "</div>"
      ],
      "text/plain": [
       "            id  age           job   marital  education default  balance  \\\n",
       "0          id1   58    management   married   tertiary      no   2143.0   \n",
       "1          id2   44    technician    single  secondary      no     29.0   \n",
       "2          id3   33  entrepreneur   married  secondary      no      2.0   \n",
       "3          id4   47   blue-collar   married    unknown      no   1506.0   \n",
       "4          id5   33       unknown    single    unknown      no      1.0   \n",
       "...        ...  ...           ...       ...        ...     ...      ...   \n",
       "45206  id45207   51    technician   married   tertiary      no    825.0   \n",
       "45207  id45208   71       retired  divorced    primary      no   1729.0   \n",
       "45208  id45209   72       retired   married  secondary      no   5715.0   \n",
       "45209  id45210   57   blue-collar   married  secondary      no    668.0   \n",
       "45210  id45211   37  entrepreneur   married  secondary      no   2971.0   \n",
       "\n",
       "      housing loan    contact  day month  duration  campaign  pdays  previous  \\\n",
       "0         yes   no    unknown    5   may       261         1     -1         0   \n",
       "1         yes   no    unknown    5   may       151         1     -1         0   \n",
       "2         yes  yes    unknown    5   may        76         1     -1         0   \n",
       "3         yes   no    unknown    5   may        92         1     -1         0   \n",
       "4          no   no    unknown    5   may       198         1     -1         0   \n",
       "...       ...  ...        ...  ...   ...       ...       ...    ...       ...   \n",
       "45206      no   no   cellular   17   nov       977         3     -1         0   \n",
       "45207      no   no   cellular   17   nov       456         2     -1         0   \n",
       "45208      no   no   cellular   17   nov      1127         5    184         3   \n",
       "45209      no   no  telephone   17   nov       508         4     -1         0   \n",
       "45210      no   no   cellular   17   nov       361         2    188        11   \n",
       "\n",
       "      poutcome    y  \n",
       "0      unknown   no  \n",
       "1      unknown   no  \n",
       "2      unknown   no  \n",
       "3      unknown   no  \n",
       "4      unknown   no  \n",
       "...        ...  ...  \n",
       "45206  unknown  yes  \n",
       "45207  unknown  yes  \n",
       "45208  success  yes  \n",
       "45209  unknown   no  \n",
       "45210    other   no  \n",
       "\n",
       "[45203 rows x 18 columns]"
      ]
     },
     "execution_count": 142,
     "metadata": {},
     "output_type": "execute_result"
    }
   ],
   "source": [
    "clients_majr = df.loc[df[\"age\"] >=18 ]\n",
    "clients_majr"
   ]
  },
  {
   "cell_type": "code",
   "execution_count": 143,
   "id": "78309a67-e0de-46e4-a0e5-66f1c77c1465",
   "metadata": {},
   "outputs": [
    {
     "data": {
      "text/html": [
       "<div>\n",
       "<style scoped>\n",
       "    .dataframe tbody tr th:only-of-type {\n",
       "        vertical-align: middle;\n",
       "    }\n",
       "\n",
       "    .dataframe tbody tr th {\n",
       "        vertical-align: top;\n",
       "    }\n",
       "\n",
       "    .dataframe thead th {\n",
       "        text-align: right;\n",
       "    }\n",
       "</style>\n",
       "<table border=\"1\" class=\"dataframe\">\n",
       "  <thead>\n",
       "    <tr style=\"text-align: right;\">\n",
       "      <th></th>\n",
       "      <th>age</th>\n",
       "      <th>balance</th>\n",
       "      <th>day</th>\n",
       "      <th>duration</th>\n",
       "      <th>campaign</th>\n",
       "      <th>pdays</th>\n",
       "      <th>previous</th>\n",
       "    </tr>\n",
       "  </thead>\n",
       "  <tbody>\n",
       "    <tr>\n",
       "      <th>count</th>\n",
       "      <td>45203.000000</td>\n",
       "      <td>45198.000000</td>\n",
       "      <td>45203.000000</td>\n",
       "      <td>45203.000000</td>\n",
       "      <td>45203.000000</td>\n",
       "      <td>45203.000000</td>\n",
       "      <td>45203.000000</td>\n",
       "    </tr>\n",
       "    <tr>\n",
       "      <th>mean</th>\n",
       "      <td>40.936133</td>\n",
       "      <td>1362.631997</td>\n",
       "      <td>15.808331</td>\n",
       "      <td>258.168816</td>\n",
       "      <td>2.764153</td>\n",
       "      <td>40.205119</td>\n",
       "      <td>0.580426</td>\n",
       "    </tr>\n",
       "    <tr>\n",
       "      <th>std</th>\n",
       "      <td>10.618494</td>\n",
       "      <td>3045.126997</td>\n",
       "      <td>8.321971</td>\n",
       "      <td>257.548471</td>\n",
       "      <td>3.098206</td>\n",
       "      <td>100.136106</td>\n",
       "      <td>2.303632</td>\n",
       "    </tr>\n",
       "    <tr>\n",
       "      <th>min</th>\n",
       "      <td>18.000000</td>\n",
       "      <td>-8019.000000</td>\n",
       "      <td>1.000000</td>\n",
       "      <td>0.000000</td>\n",
       "      <td>1.000000</td>\n",
       "      <td>-1.000000</td>\n",
       "      <td>0.000000</td>\n",
       "    </tr>\n",
       "    <tr>\n",
       "      <th>25%</th>\n",
       "      <td>33.000000</td>\n",
       "      <td>72.000000</td>\n",
       "      <td>8.000000</td>\n",
       "      <td>103.000000</td>\n",
       "      <td>1.000000</td>\n",
       "      <td>-1.000000</td>\n",
       "      <td>0.000000</td>\n",
       "    </tr>\n",
       "    <tr>\n",
       "      <th>50%</th>\n",
       "      <td>39.000000</td>\n",
       "      <td>449.000000</td>\n",
       "      <td>16.000000</td>\n",
       "      <td>180.000000</td>\n",
       "      <td>2.000000</td>\n",
       "      <td>-1.000000</td>\n",
       "      <td>0.000000</td>\n",
       "    </tr>\n",
       "    <tr>\n",
       "      <th>75%</th>\n",
       "      <td>48.000000</td>\n",
       "      <td>1428.000000</td>\n",
       "      <td>21.000000</td>\n",
       "      <td>319.000000</td>\n",
       "      <td>3.000000</td>\n",
       "      <td>-1.000000</td>\n",
       "      <td>0.000000</td>\n",
       "    </tr>\n",
       "    <tr>\n",
       "      <th>max</th>\n",
       "      <td>95.000000</td>\n",
       "      <td>102127.000000</td>\n",
       "      <td>31.000000</td>\n",
       "      <td>4918.000000</td>\n",
       "      <td>63.000000</td>\n",
       "      <td>871.000000</td>\n",
       "      <td>275.000000</td>\n",
       "    </tr>\n",
       "  </tbody>\n",
       "</table>\n",
       "</div>"
      ],
      "text/plain": [
       "                age        balance           day      duration      campaign  \\\n",
       "count  45203.000000   45198.000000  45203.000000  45203.000000  45203.000000   \n",
       "mean      40.936133    1362.631997     15.808331    258.168816      2.764153   \n",
       "std       10.618494    3045.126997      8.321971    257.548471      3.098206   \n",
       "min       18.000000   -8019.000000      1.000000      0.000000      1.000000   \n",
       "25%       33.000000      72.000000      8.000000    103.000000      1.000000   \n",
       "50%       39.000000     449.000000     16.000000    180.000000      2.000000   \n",
       "75%       48.000000    1428.000000     21.000000    319.000000      3.000000   \n",
       "max       95.000000  102127.000000     31.000000   4918.000000     63.000000   \n",
       "\n",
       "              pdays      previous  \n",
       "count  45203.000000  45203.000000  \n",
       "mean      40.205119      0.580426  \n",
       "std      100.136106      2.303632  \n",
       "min       -1.000000      0.000000  \n",
       "25%       -1.000000      0.000000  \n",
       "50%       -1.000000      0.000000  \n",
       "75%       -1.000000      0.000000  \n",
       "max      871.000000    275.000000  "
      ]
     },
     "execution_count": 143,
     "metadata": {},
     "output_type": "execute_result"
    }
   ],
   "source": [
    "clients_majr.describe()"
   ]
  },
  {
   "cell_type": "code",
   "execution_count": 27,
   "id": "802dd8e4-c1d4-4f13-b3f8-dfea70d6ac1d",
   "metadata": {},
   "outputs": [
    {
     "data": {
      "text/html": [
       "<div>\n",
       "<style scoped>\n",
       "    .dataframe tbody tr th:only-of-type {\n",
       "        vertical-align: middle;\n",
       "    }\n",
       "\n",
       "    .dataframe tbody tr th {\n",
       "        vertical-align: top;\n",
       "    }\n",
       "\n",
       "    .dataframe thead th {\n",
       "        text-align: right;\n",
       "    }\n",
       "</style>\n",
       "<table border=\"1\" class=\"dataframe\">\n",
       "  <thead>\n",
       "    <tr style=\"text-align: right;\">\n",
       "      <th></th>\n",
       "      <th>id</th>\n",
       "      <th>age</th>\n",
       "      <th>job</th>\n",
       "      <th>marital</th>\n",
       "      <th>education</th>\n",
       "      <th>default</th>\n",
       "      <th>balance</th>\n",
       "      <th>housing</th>\n",
       "      <th>loan</th>\n",
       "      <th>contact</th>\n",
       "      <th>day</th>\n",
       "      <th>month</th>\n",
       "      <th>duration</th>\n",
       "      <th>campaign</th>\n",
       "      <th>pdays</th>\n",
       "      <th>previous</th>\n",
       "      <th>poutcome</th>\n",
       "      <th>y</th>\n",
       "    </tr>\n",
       "  </thead>\n",
       "  <tbody>\n",
       "    <tr>\n",
       "      <th>1</th>\n",
       "      <td>id2</td>\n",
       "      <td>44</td>\n",
       "      <td>technician</td>\n",
       "      <td>single</td>\n",
       "      <td>secondary</td>\n",
       "      <td>no</td>\n",
       "      <td>29.0</td>\n",
       "      <td>yes</td>\n",
       "      <td>no</td>\n",
       "      <td>unknown</td>\n",
       "      <td>5</td>\n",
       "      <td>may</td>\n",
       "      <td>151</td>\n",
       "      <td>1</td>\n",
       "      <td>-1</td>\n",
       "      <td>0</td>\n",
       "      <td>unknown</td>\n",
       "      <td>no</td>\n",
       "    </tr>\n",
       "    <tr>\n",
       "      <th>2</th>\n",
       "      <td>id3</td>\n",
       "      <td>33</td>\n",
       "      <td>entrepreneur</td>\n",
       "      <td>married</td>\n",
       "      <td>secondary</td>\n",
       "      <td>no</td>\n",
       "      <td>2.0</td>\n",
       "      <td>yes</td>\n",
       "      <td>yes</td>\n",
       "      <td>unknown</td>\n",
       "      <td>5</td>\n",
       "      <td>may</td>\n",
       "      <td>76</td>\n",
       "      <td>1</td>\n",
       "      <td>-1</td>\n",
       "      <td>0</td>\n",
       "      <td>unknown</td>\n",
       "      <td>no</td>\n",
       "    </tr>\n",
       "    <tr>\n",
       "      <th>9</th>\n",
       "      <td>id10</td>\n",
       "      <td>43</td>\n",
       "      <td>technician</td>\n",
       "      <td>single</td>\n",
       "      <td>secondary</td>\n",
       "      <td>no</td>\n",
       "      <td>NaN</td>\n",
       "      <td>yes</td>\n",
       "      <td>no</td>\n",
       "      <td>unknown</td>\n",
       "      <td>5</td>\n",
       "      <td>may</td>\n",
       "      <td>55</td>\n",
       "      <td>1</td>\n",
       "      <td>-1</td>\n",
       "      <td>0</td>\n",
       "      <td>unknown</td>\n",
       "      <td>no</td>\n",
       "    </tr>\n",
       "    <tr>\n",
       "      <th>10</th>\n",
       "      <td>id11</td>\n",
       "      <td>41</td>\n",
       "      <td>admin.</td>\n",
       "      <td>divorced</td>\n",
       "      <td>secondary</td>\n",
       "      <td>no</td>\n",
       "      <td>270.0</td>\n",
       "      <td>yes</td>\n",
       "      <td>no</td>\n",
       "      <td>unknown</td>\n",
       "      <td>5</td>\n",
       "      <td>may</td>\n",
       "      <td>222</td>\n",
       "      <td>1</td>\n",
       "      <td>-1</td>\n",
       "      <td>0</td>\n",
       "      <td>unknown</td>\n",
       "      <td>no</td>\n",
       "    </tr>\n",
       "    <tr>\n",
       "      <th>11</th>\n",
       "      <td>id12</td>\n",
       "      <td>29</td>\n",
       "      <td>admin.</td>\n",
       "      <td>single</td>\n",
       "      <td>secondary</td>\n",
       "      <td>no</td>\n",
       "      <td>390.0</td>\n",
       "      <td>yes</td>\n",
       "      <td>no</td>\n",
       "      <td>unknown</td>\n",
       "      <td>5</td>\n",
       "      <td>may</td>\n",
       "      <td>137</td>\n",
       "      <td>1</td>\n",
       "      <td>-1</td>\n",
       "      <td>0</td>\n",
       "      <td>unknown</td>\n",
       "      <td>no</td>\n",
       "    </tr>\n",
       "    <tr>\n",
       "      <th>...</th>\n",
       "      <td>...</td>\n",
       "      <td>...</td>\n",
       "      <td>...</td>\n",
       "      <td>...</td>\n",
       "      <td>...</td>\n",
       "      <td>...</td>\n",
       "      <td>...</td>\n",
       "      <td>...</td>\n",
       "      <td>...</td>\n",
       "      <td>...</td>\n",
       "      <td>...</td>\n",
       "      <td>...</td>\n",
       "      <td>...</td>\n",
       "      <td>...</td>\n",
       "      <td>...</td>\n",
       "      <td>...</td>\n",
       "      <td>...</td>\n",
       "      <td>...</td>\n",
       "    </tr>\n",
       "    <tr>\n",
       "      <th>45204</th>\n",
       "      <td>id45205</td>\n",
       "      <td>73</td>\n",
       "      <td>retired</td>\n",
       "      <td>married</td>\n",
       "      <td>secondary</td>\n",
       "      <td>no</td>\n",
       "      <td>2850.0</td>\n",
       "      <td>no</td>\n",
       "      <td>no</td>\n",
       "      <td>cellular</td>\n",
       "      <td>17</td>\n",
       "      <td>nov</td>\n",
       "      <td>300</td>\n",
       "      <td>1</td>\n",
       "      <td>40</td>\n",
       "      <td>8</td>\n",
       "      <td>failure</td>\n",
       "      <td>yes</td>\n",
       "    </tr>\n",
       "    <tr>\n",
       "      <th>45205</th>\n",
       "      <td>id45206</td>\n",
       "      <td>25</td>\n",
       "      <td>technician</td>\n",
       "      <td>single</td>\n",
       "      <td>secondary</td>\n",
       "      <td>no</td>\n",
       "      <td>505.0</td>\n",
       "      <td>no</td>\n",
       "      <td>yes</td>\n",
       "      <td>cellular</td>\n",
       "      <td>17</td>\n",
       "      <td>nov</td>\n",
       "      <td>386</td>\n",
       "      <td>2</td>\n",
       "      <td>-1</td>\n",
       "      <td>0</td>\n",
       "      <td>unknown</td>\n",
       "      <td>yes</td>\n",
       "    </tr>\n",
       "    <tr>\n",
       "      <th>45208</th>\n",
       "      <td>id45209</td>\n",
       "      <td>72</td>\n",
       "      <td>retired</td>\n",
       "      <td>married</td>\n",
       "      <td>secondary</td>\n",
       "      <td>no</td>\n",
       "      <td>5715.0</td>\n",
       "      <td>no</td>\n",
       "      <td>no</td>\n",
       "      <td>cellular</td>\n",
       "      <td>17</td>\n",
       "      <td>nov</td>\n",
       "      <td>1127</td>\n",
       "      <td>5</td>\n",
       "      <td>184</td>\n",
       "      <td>3</td>\n",
       "      <td>success</td>\n",
       "      <td>yes</td>\n",
       "    </tr>\n",
       "    <tr>\n",
       "      <th>45209</th>\n",
       "      <td>id45210</td>\n",
       "      <td>57</td>\n",
       "      <td>blue-collar</td>\n",
       "      <td>married</td>\n",
       "      <td>secondary</td>\n",
       "      <td>no</td>\n",
       "      <td>668.0</td>\n",
       "      <td>no</td>\n",
       "      <td>no</td>\n",
       "      <td>telephone</td>\n",
       "      <td>17</td>\n",
       "      <td>nov</td>\n",
       "      <td>508</td>\n",
       "      <td>4</td>\n",
       "      <td>-1</td>\n",
       "      <td>0</td>\n",
       "      <td>unknown</td>\n",
       "      <td>no</td>\n",
       "    </tr>\n",
       "    <tr>\n",
       "      <th>45210</th>\n",
       "      <td>id45211</td>\n",
       "      <td>37</td>\n",
       "      <td>entrepreneur</td>\n",
       "      <td>married</td>\n",
       "      <td>secondary</td>\n",
       "      <td>no</td>\n",
       "      <td>2971.0</td>\n",
       "      <td>no</td>\n",
       "      <td>no</td>\n",
       "      <td>cellular</td>\n",
       "      <td>17</td>\n",
       "      <td>nov</td>\n",
       "      <td>361</td>\n",
       "      <td>2</td>\n",
       "      <td>188</td>\n",
       "      <td>11</td>\n",
       "      <td>other</td>\n",
       "      <td>no</td>\n",
       "    </tr>\n",
       "  </tbody>\n",
       "</table>\n",
       "<p>23199 rows × 18 columns</p>\n",
       "</div>"
      ],
      "text/plain": [
       "            id  age           job   marital  education default  balance  \\\n",
       "1          id2   44    technician    single  secondary      no     29.0   \n",
       "2          id3   33  entrepreneur   married  secondary      no      2.0   \n",
       "9         id10   43    technician    single  secondary      no      NaN   \n",
       "10        id11   41        admin.  divorced  secondary      no    270.0   \n",
       "11        id12   29        admin.    single  secondary      no    390.0   \n",
       "...        ...  ...           ...       ...        ...     ...      ...   \n",
       "45204  id45205   73       retired   married  secondary      no   2850.0   \n",
       "45205  id45206   25    technician    single  secondary      no    505.0   \n",
       "45208  id45209   72       retired   married  secondary      no   5715.0   \n",
       "45209  id45210   57   blue-collar   married  secondary      no    668.0   \n",
       "45210  id45211   37  entrepreneur   married  secondary      no   2971.0   \n",
       "\n",
       "      housing loan    contact  day month  duration  campaign  pdays  previous  \\\n",
       "1         yes   no    unknown    5   may       151         1     -1         0   \n",
       "2         yes  yes    unknown    5   may        76         1     -1         0   \n",
       "9         yes   no    unknown    5   may        55         1     -1         0   \n",
       "10        yes   no    unknown    5   may       222         1     -1         0   \n",
       "11        yes   no    unknown    5   may       137         1     -1         0   \n",
       "...       ...  ...        ...  ...   ...       ...       ...    ...       ...   \n",
       "45204      no   no   cellular   17   nov       300         1     40         8   \n",
       "45205      no  yes   cellular   17   nov       386         2     -1         0   \n",
       "45208      no   no   cellular   17   nov      1127         5    184         3   \n",
       "45209      no   no  telephone   17   nov       508         4     -1         0   \n",
       "45210      no   no   cellular   17   nov       361         2    188        11   \n",
       "\n",
       "      poutcome    y  \n",
       "1      unknown   no  \n",
       "2      unknown   no  \n",
       "9      unknown   no  \n",
       "10     unknown   no  \n",
       "11     unknown   no  \n",
       "...        ...  ...  \n",
       "45204  failure  yes  \n",
       "45205  unknown  yes  \n",
       "45208  success  yes  \n",
       "45209  unknown   no  \n",
       "45210    other   no  \n",
       "\n",
       "[23199 rows x 18 columns]"
      ]
     },
     "execution_count": 27,
     "metadata": {},
     "output_type": "execute_result"
    }
   ],
   "source": [
    "# Sélection des colonnes avec loc\n",
    "colonne_filtree = df.loc[(df[\"age\"]>=18) & (df[\"education\"]==\"secondary\") ]\n",
    "colonne_filtree"
   ]
  },
  {
   "cell_type": "code",
   "execution_count": 26,
   "id": "b5f12560-2b9e-4280-ab38-7ff66683f4a0",
   "metadata": {},
   "outputs": [
    {
     "data": {
      "text/html": [
       "<div>\n",
       "<style scoped>\n",
       "    .dataframe tbody tr th:only-of-type {\n",
       "        vertical-align: middle;\n",
       "    }\n",
       "\n",
       "    .dataframe tbody tr th {\n",
       "        vertical-align: top;\n",
       "    }\n",
       "\n",
       "    .dataframe thead th {\n",
       "        text-align: right;\n",
       "    }\n",
       "</style>\n",
       "<table border=\"1\" class=\"dataframe\">\n",
       "  <thead>\n",
       "    <tr style=\"text-align: right;\">\n",
       "      <th></th>\n",
       "      <th>id</th>\n",
       "      <th>age</th>\n",
       "      <th>job</th>\n",
       "      <th>marital</th>\n",
       "      <th>education</th>\n",
       "      <th>default</th>\n",
       "      <th>balance</th>\n",
       "      <th>housing</th>\n",
       "      <th>loan</th>\n",
       "      <th>contact</th>\n",
       "      <th>day</th>\n",
       "      <th>month</th>\n",
       "      <th>duration</th>\n",
       "      <th>campaign</th>\n",
       "      <th>pdays</th>\n",
       "      <th>previous</th>\n",
       "      <th>poutcome</th>\n",
       "      <th>y</th>\n",
       "    </tr>\n",
       "  </thead>\n",
       "  <tbody>\n",
       "    <tr>\n",
       "      <th>1</th>\n",
       "      <td>id2</td>\n",
       "      <td>44</td>\n",
       "      <td>technician</td>\n",
       "      <td>single</td>\n",
       "      <td>secondary</td>\n",
       "      <td>no</td>\n",
       "      <td>29.0</td>\n",
       "      <td>yes</td>\n",
       "      <td>no</td>\n",
       "      <td>unknown</td>\n",
       "      <td>5</td>\n",
       "      <td>may</td>\n",
       "      <td>151</td>\n",
       "      <td>1</td>\n",
       "      <td>-1</td>\n",
       "      <td>0</td>\n",
       "      <td>unknown</td>\n",
       "      <td>no</td>\n",
       "    </tr>\n",
       "    <tr>\n",
       "      <th>2</th>\n",
       "      <td>id3</td>\n",
       "      <td>33</td>\n",
       "      <td>entrepreneur</td>\n",
       "      <td>married</td>\n",
       "      <td>secondary</td>\n",
       "      <td>no</td>\n",
       "      <td>2.0</td>\n",
       "      <td>yes</td>\n",
       "      <td>yes</td>\n",
       "      <td>unknown</td>\n",
       "      <td>5</td>\n",
       "      <td>may</td>\n",
       "      <td>76</td>\n",
       "      <td>1</td>\n",
       "      <td>-1</td>\n",
       "      <td>0</td>\n",
       "      <td>unknown</td>\n",
       "      <td>no</td>\n",
       "    </tr>\n",
       "    <tr>\n",
       "      <th>9</th>\n",
       "      <td>id10</td>\n",
       "      <td>43</td>\n",
       "      <td>technician</td>\n",
       "      <td>single</td>\n",
       "      <td>secondary</td>\n",
       "      <td>no</td>\n",
       "      <td>NaN</td>\n",
       "      <td>yes</td>\n",
       "      <td>no</td>\n",
       "      <td>unknown</td>\n",
       "      <td>5</td>\n",
       "      <td>may</td>\n",
       "      <td>55</td>\n",
       "      <td>1</td>\n",
       "      <td>-1</td>\n",
       "      <td>0</td>\n",
       "      <td>unknown</td>\n",
       "      <td>no</td>\n",
       "    </tr>\n",
       "    <tr>\n",
       "      <th>10</th>\n",
       "      <td>id11</td>\n",
       "      <td>41</td>\n",
       "      <td>admin.</td>\n",
       "      <td>divorced</td>\n",
       "      <td>secondary</td>\n",
       "      <td>no</td>\n",
       "      <td>270.0</td>\n",
       "      <td>yes</td>\n",
       "      <td>no</td>\n",
       "      <td>unknown</td>\n",
       "      <td>5</td>\n",
       "      <td>may</td>\n",
       "      <td>222</td>\n",
       "      <td>1</td>\n",
       "      <td>-1</td>\n",
       "      <td>0</td>\n",
       "      <td>unknown</td>\n",
       "      <td>no</td>\n",
       "    </tr>\n",
       "    <tr>\n",
       "      <th>11</th>\n",
       "      <td>id12</td>\n",
       "      <td>29</td>\n",
       "      <td>admin.</td>\n",
       "      <td>single</td>\n",
       "      <td>secondary</td>\n",
       "      <td>no</td>\n",
       "      <td>390.0</td>\n",
       "      <td>yes</td>\n",
       "      <td>no</td>\n",
       "      <td>unknown</td>\n",
       "      <td>5</td>\n",
       "      <td>may</td>\n",
       "      <td>137</td>\n",
       "      <td>1</td>\n",
       "      <td>-1</td>\n",
       "      <td>0</td>\n",
       "      <td>unknown</td>\n",
       "      <td>no</td>\n",
       "    </tr>\n",
       "    <tr>\n",
       "      <th>...</th>\n",
       "      <td>...</td>\n",
       "      <td>...</td>\n",
       "      <td>...</td>\n",
       "      <td>...</td>\n",
       "      <td>...</td>\n",
       "      <td>...</td>\n",
       "      <td>...</td>\n",
       "      <td>...</td>\n",
       "      <td>...</td>\n",
       "      <td>...</td>\n",
       "      <td>...</td>\n",
       "      <td>...</td>\n",
       "      <td>...</td>\n",
       "      <td>...</td>\n",
       "      <td>...</td>\n",
       "      <td>...</td>\n",
       "      <td>...</td>\n",
       "      <td>...</td>\n",
       "    </tr>\n",
       "    <tr>\n",
       "      <th>45204</th>\n",
       "      <td>id45205</td>\n",
       "      <td>73</td>\n",
       "      <td>retired</td>\n",
       "      <td>married</td>\n",
       "      <td>secondary</td>\n",
       "      <td>no</td>\n",
       "      <td>2850.0</td>\n",
       "      <td>no</td>\n",
       "      <td>no</td>\n",
       "      <td>cellular</td>\n",
       "      <td>17</td>\n",
       "      <td>nov</td>\n",
       "      <td>300</td>\n",
       "      <td>1</td>\n",
       "      <td>40</td>\n",
       "      <td>8</td>\n",
       "      <td>failure</td>\n",
       "      <td>yes</td>\n",
       "    </tr>\n",
       "    <tr>\n",
       "      <th>45205</th>\n",
       "      <td>id45206</td>\n",
       "      <td>25</td>\n",
       "      <td>technician</td>\n",
       "      <td>single</td>\n",
       "      <td>secondary</td>\n",
       "      <td>no</td>\n",
       "      <td>505.0</td>\n",
       "      <td>no</td>\n",
       "      <td>yes</td>\n",
       "      <td>cellular</td>\n",
       "      <td>17</td>\n",
       "      <td>nov</td>\n",
       "      <td>386</td>\n",
       "      <td>2</td>\n",
       "      <td>-1</td>\n",
       "      <td>0</td>\n",
       "      <td>unknown</td>\n",
       "      <td>yes</td>\n",
       "    </tr>\n",
       "    <tr>\n",
       "      <th>45208</th>\n",
       "      <td>id45209</td>\n",
       "      <td>72</td>\n",
       "      <td>retired</td>\n",
       "      <td>married</td>\n",
       "      <td>secondary</td>\n",
       "      <td>no</td>\n",
       "      <td>5715.0</td>\n",
       "      <td>no</td>\n",
       "      <td>no</td>\n",
       "      <td>cellular</td>\n",
       "      <td>17</td>\n",
       "      <td>nov</td>\n",
       "      <td>1127</td>\n",
       "      <td>5</td>\n",
       "      <td>184</td>\n",
       "      <td>3</td>\n",
       "      <td>success</td>\n",
       "      <td>yes</td>\n",
       "    </tr>\n",
       "    <tr>\n",
       "      <th>45209</th>\n",
       "      <td>id45210</td>\n",
       "      <td>57</td>\n",
       "      <td>blue-collar</td>\n",
       "      <td>married</td>\n",
       "      <td>secondary</td>\n",
       "      <td>no</td>\n",
       "      <td>668.0</td>\n",
       "      <td>no</td>\n",
       "      <td>no</td>\n",
       "      <td>telephone</td>\n",
       "      <td>17</td>\n",
       "      <td>nov</td>\n",
       "      <td>508</td>\n",
       "      <td>4</td>\n",
       "      <td>-1</td>\n",
       "      <td>0</td>\n",
       "      <td>unknown</td>\n",
       "      <td>no</td>\n",
       "    </tr>\n",
       "    <tr>\n",
       "      <th>45210</th>\n",
       "      <td>id45211</td>\n",
       "      <td>37</td>\n",
       "      <td>entrepreneur</td>\n",
       "      <td>married</td>\n",
       "      <td>secondary</td>\n",
       "      <td>no</td>\n",
       "      <td>2971.0</td>\n",
       "      <td>no</td>\n",
       "      <td>no</td>\n",
       "      <td>cellular</td>\n",
       "      <td>17</td>\n",
       "      <td>nov</td>\n",
       "      <td>361</td>\n",
       "      <td>2</td>\n",
       "      <td>188</td>\n",
       "      <td>11</td>\n",
       "      <td>other</td>\n",
       "      <td>no</td>\n",
       "    </tr>\n",
       "  </tbody>\n",
       "</table>\n",
       "<p>23199 rows × 18 columns</p>\n",
       "</div>"
      ],
      "text/plain": [
       "            id  age           job   marital  education default  balance  \\\n",
       "1          id2   44    technician    single  secondary      no     29.0   \n",
       "2          id3   33  entrepreneur   married  secondary      no      2.0   \n",
       "9         id10   43    technician    single  secondary      no      NaN   \n",
       "10        id11   41        admin.  divorced  secondary      no    270.0   \n",
       "11        id12   29        admin.    single  secondary      no    390.0   \n",
       "...        ...  ...           ...       ...        ...     ...      ...   \n",
       "45204  id45205   73       retired   married  secondary      no   2850.0   \n",
       "45205  id45206   25    technician    single  secondary      no    505.0   \n",
       "45208  id45209   72       retired   married  secondary      no   5715.0   \n",
       "45209  id45210   57   blue-collar   married  secondary      no    668.0   \n",
       "45210  id45211   37  entrepreneur   married  secondary      no   2971.0   \n",
       "\n",
       "      housing loan    contact  day month  duration  campaign  pdays  previous  \\\n",
       "1         yes   no    unknown    5   may       151         1     -1         0   \n",
       "2         yes  yes    unknown    5   may        76         1     -1         0   \n",
       "9         yes   no    unknown    5   may        55         1     -1         0   \n",
       "10        yes   no    unknown    5   may       222         1     -1         0   \n",
       "11        yes   no    unknown    5   may       137         1     -1         0   \n",
       "...       ...  ...        ...  ...   ...       ...       ...    ...       ...   \n",
       "45204      no   no   cellular   17   nov       300         1     40         8   \n",
       "45205      no  yes   cellular   17   nov       386         2     -1         0   \n",
       "45208      no   no   cellular   17   nov      1127         5    184         3   \n",
       "45209      no   no  telephone   17   nov       508         4     -1         0   \n",
       "45210      no   no   cellular   17   nov       361         2    188        11   \n",
       "\n",
       "      poutcome    y  \n",
       "1      unknown   no  \n",
       "2      unknown   no  \n",
       "9      unknown   no  \n",
       "10     unknown   no  \n",
       "11     unknown   no  \n",
       "...        ...  ...  \n",
       "45204  failure  yes  \n",
       "45205  unknown  yes  \n",
       "45208  success  yes  \n",
       "45209  unknown   no  \n",
       "45210    other   no  \n",
       "\n",
       "[23199 rows x 18 columns]"
      ]
     },
     "execution_count": 26,
     "metadata": {},
     "output_type": "execute_result"
    }
   ],
   "source": [
    "# Filtre sur les clients majeurs majeurs et  uniquement l'age, education et le solde du compte (.loc)\n",
    "# Possibilité de mettre plusieurs conditions\n",
    "clients_majr_education_solde = df[(df[\"age\"] >= 18) & (df[\"education\"] == \"secondary\")]                              \n",
    "clients_majr_education_solde\n"
   ]
  },
  {
   "cell_type": "code",
   "execution_count": 46,
   "id": "80ef6b32-5538-4a56-bbfa-a0d796bc7488",
   "metadata": {},
   "outputs": [
    {
     "data": {
      "text/html": [
       "<div>\n",
       "<style scoped>\n",
       "    .dataframe tbody tr th:only-of-type {\n",
       "        vertical-align: middle;\n",
       "    }\n",
       "\n",
       "    .dataframe tbody tr th {\n",
       "        vertical-align: top;\n",
       "    }\n",
       "\n",
       "    .dataframe thead th {\n",
       "        text-align: right;\n",
       "    }\n",
       "</style>\n",
       "<table border=\"1\" class=\"dataframe\">\n",
       "  <thead>\n",
       "    <tr style=\"text-align: right;\">\n",
       "      <th></th>\n",
       "      <th>age</th>\n",
       "      <th>education</th>\n",
       "      <th>marital</th>\n",
       "    </tr>\n",
       "  </thead>\n",
       "  <tbody>\n",
       "    <tr>\n",
       "      <th>count</th>\n",
       "      <td>45203.000000</td>\n",
       "      <td>45203</td>\n",
       "      <td>45203</td>\n",
       "    </tr>\n",
       "    <tr>\n",
       "      <th>unique</th>\n",
       "      <td>NaN</td>\n",
       "      <td>4</td>\n",
       "      <td>3</td>\n",
       "    </tr>\n",
       "    <tr>\n",
       "      <th>top</th>\n",
       "      <td>NaN</td>\n",
       "      <td>secondary</td>\n",
       "      <td>married</td>\n",
       "    </tr>\n",
       "    <tr>\n",
       "      <th>freq</th>\n",
       "      <td>NaN</td>\n",
       "      <td>23199</td>\n",
       "      <td>27211</td>\n",
       "    </tr>\n",
       "    <tr>\n",
       "      <th>mean</th>\n",
       "      <td>40.936133</td>\n",
       "      <td>NaN</td>\n",
       "      <td>NaN</td>\n",
       "    </tr>\n",
       "    <tr>\n",
       "      <th>std</th>\n",
       "      <td>10.618494</td>\n",
       "      <td>NaN</td>\n",
       "      <td>NaN</td>\n",
       "    </tr>\n",
       "    <tr>\n",
       "      <th>min</th>\n",
       "      <td>18.000000</td>\n",
       "      <td>NaN</td>\n",
       "      <td>NaN</td>\n",
       "    </tr>\n",
       "    <tr>\n",
       "      <th>25%</th>\n",
       "      <td>33.000000</td>\n",
       "      <td>NaN</td>\n",
       "      <td>NaN</td>\n",
       "    </tr>\n",
       "    <tr>\n",
       "      <th>50%</th>\n",
       "      <td>39.000000</td>\n",
       "      <td>NaN</td>\n",
       "      <td>NaN</td>\n",
       "    </tr>\n",
       "    <tr>\n",
       "      <th>75%</th>\n",
       "      <td>48.000000</td>\n",
       "      <td>NaN</td>\n",
       "      <td>NaN</td>\n",
       "    </tr>\n",
       "    <tr>\n",
       "      <th>max</th>\n",
       "      <td>95.000000</td>\n",
       "      <td>NaN</td>\n",
       "      <td>NaN</td>\n",
       "    </tr>\n",
       "  </tbody>\n",
       "</table>\n",
       "</div>"
      ],
      "text/plain": [
       "                 age  education  marital\n",
       "count   45203.000000      45203    45203\n",
       "unique           NaN          4        3\n",
       "top              NaN  secondary  married\n",
       "freq             NaN      23199    27211\n",
       "mean       40.936133        NaN      NaN\n",
       "std        10.618494        NaN      NaN\n",
       "min        18.000000        NaN      NaN\n",
       "25%        33.000000        NaN      NaN\n",
       "50%        39.000000        NaN      NaN\n",
       "75%        48.000000        NaN      NaN\n",
       "max        95.000000        NaN      NaN"
      ]
     },
     "execution_count": 46,
     "metadata": {},
     "output_type": "execute_result"
    }
   ],
   "source": [
    "#age supérieur à 18, sélection age, education, marital\n",
    "projection = df.loc[(df[\"age\"]>=18), [\"age\", \"education\", \"marital\"]]\n",
    "projection\n",
    "projection.describe(include = \"all\")"
   ]
  },
  {
   "cell_type": "code",
   "execution_count": 47,
   "id": "94ed808e-c20a-4e9e-9414-810dc0c8fd0d",
   "metadata": {},
   "outputs": [
    {
     "data": {
      "text/html": [
       "<div>\n",
       "<style scoped>\n",
       "    .dataframe tbody tr th:only-of-type {\n",
       "        vertical-align: middle;\n",
       "    }\n",
       "\n",
       "    .dataframe tbody tr th {\n",
       "        vertical-align: top;\n",
       "    }\n",
       "\n",
       "    .dataframe thead th {\n",
       "        text-align: right;\n",
       "    }\n",
       "</style>\n",
       "<table border=\"1\" class=\"dataframe\">\n",
       "  <thead>\n",
       "    <tr style=\"text-align: right;\">\n",
       "      <th></th>\n",
       "      <th>education</th>\n",
       "      <th>age</th>\n",
       "      <th>marital</th>\n",
       "    </tr>\n",
       "  </thead>\n",
       "  <tbody>\n",
       "    <tr>\n",
       "      <th>0</th>\n",
       "      <td>tertiary</td>\n",
       "      <td>58</td>\n",
       "      <td>married</td>\n",
       "    </tr>\n",
       "    <tr>\n",
       "      <th>1</th>\n",
       "      <td>secondary</td>\n",
       "      <td>44</td>\n",
       "      <td>single</td>\n",
       "    </tr>\n",
       "    <tr>\n",
       "      <th>2</th>\n",
       "      <td>secondary</td>\n",
       "      <td>33</td>\n",
       "      <td>married</td>\n",
       "    </tr>\n",
       "    <tr>\n",
       "      <th>3</th>\n",
       "      <td>unknown</td>\n",
       "      <td>47</td>\n",
       "      <td>married</td>\n",
       "    </tr>\n",
       "    <tr>\n",
       "      <th>4</th>\n",
       "      <td>unknown</td>\n",
       "      <td>33</td>\n",
       "      <td>single</td>\n",
       "    </tr>\n",
       "    <tr>\n",
       "      <th>5</th>\n",
       "      <td>tertiary</td>\n",
       "      <td>35</td>\n",
       "      <td>married</td>\n",
       "    </tr>\n",
       "    <tr>\n",
       "      <th>6</th>\n",
       "      <td>tertiary</td>\n",
       "      <td>28</td>\n",
       "      <td>single</td>\n",
       "    </tr>\n",
       "    <tr>\n",
       "      <th>7</th>\n",
       "      <td>tertiary</td>\n",
       "      <td>42</td>\n",
       "      <td>divorced</td>\n",
       "    </tr>\n",
       "    <tr>\n",
       "      <th>8</th>\n",
       "      <td>primary</td>\n",
       "      <td>58</td>\n",
       "      <td>married</td>\n",
       "    </tr>\n",
       "    <tr>\n",
       "      <th>9</th>\n",
       "      <td>secondary</td>\n",
       "      <td>43</td>\n",
       "      <td>single</td>\n",
       "    </tr>\n",
       "    <tr>\n",
       "      <th>10</th>\n",
       "      <td>secondary</td>\n",
       "      <td>41</td>\n",
       "      <td>divorced</td>\n",
       "    </tr>\n",
       "  </tbody>\n",
       "</table>\n",
       "</div>"
      ],
      "text/plain": [
       "    education  age   marital\n",
       "0    tertiary   58   married\n",
       "1   secondary   44    single\n",
       "2   secondary   33   married\n",
       "3     unknown   47   married\n",
       "4     unknown   33    single\n",
       "5    tertiary   35   married\n",
       "6    tertiary   28    single\n",
       "7    tertiary   42  divorced\n",
       "8     primary   58   married\n",
       "9   secondary   43    single\n",
       "10  secondary   41  divorced"
      ]
     },
     "execution_count": 47,
     "metadata": {},
     "output_type": "execute_result"
    }
   ],
   "source": [
    "# Choisir les 10 premières lignes\n",
    "projection = df.loc[: 10, [\"education\", \"age\", \"marital\"]]\n",
    "projection"
   ]
  },
  {
   "cell_type": "code",
   "execution_count": 48,
   "id": "7b02fdad-6d4f-47f9-b11d-8815658c18c6",
   "metadata": {},
   "outputs": [
    {
     "data": {
      "text/html": [
       "<div>\n",
       "<style scoped>\n",
       "    .dataframe tbody tr th:only-of-type {\n",
       "        vertical-align: middle;\n",
       "    }\n",
       "\n",
       "    .dataframe tbody tr th {\n",
       "        vertical-align: top;\n",
       "    }\n",
       "\n",
       "    .dataframe thead th {\n",
       "        text-align: right;\n",
       "    }\n",
       "</style>\n",
       "<table border=\"1\" class=\"dataframe\">\n",
       "  <thead>\n",
       "    <tr style=\"text-align: right;\">\n",
       "      <th></th>\n",
       "      <th>education</th>\n",
       "      <th>age</th>\n",
       "      <th>marital</th>\n",
       "    </tr>\n",
       "  </thead>\n",
       "  <tbody>\n",
       "    <tr>\n",
       "      <th>0</th>\n",
       "      <td>tertiary</td>\n",
       "      <td>58</td>\n",
       "      <td>married</td>\n",
       "    </tr>\n",
       "    <tr>\n",
       "      <th>1</th>\n",
       "      <td>secondary</td>\n",
       "      <td>44</td>\n",
       "      <td>single</td>\n",
       "    </tr>\n",
       "    <tr>\n",
       "      <th>2</th>\n",
       "      <td>secondary</td>\n",
       "      <td>33</td>\n",
       "      <td>married</td>\n",
       "    </tr>\n",
       "    <tr>\n",
       "      <th>3</th>\n",
       "      <td>unknown</td>\n",
       "      <td>47</td>\n",
       "      <td>married</td>\n",
       "    </tr>\n",
       "    <tr>\n",
       "      <th>4</th>\n",
       "      <td>unknown</td>\n",
       "      <td>33</td>\n",
       "      <td>single</td>\n",
       "    </tr>\n",
       "    <tr>\n",
       "      <th>5</th>\n",
       "      <td>tertiary</td>\n",
       "      <td>35</td>\n",
       "      <td>married</td>\n",
       "    </tr>\n",
       "    <tr>\n",
       "      <th>6</th>\n",
       "      <td>tertiary</td>\n",
       "      <td>28</td>\n",
       "      <td>single</td>\n",
       "    </tr>\n",
       "    <tr>\n",
       "      <th>7</th>\n",
       "      <td>tertiary</td>\n",
       "      <td>42</td>\n",
       "      <td>divorced</td>\n",
       "    </tr>\n",
       "    <tr>\n",
       "      <th>8</th>\n",
       "      <td>primary</td>\n",
       "      <td>58</td>\n",
       "      <td>married</td>\n",
       "    </tr>\n",
       "    <tr>\n",
       "      <th>9</th>\n",
       "      <td>secondary</td>\n",
       "      <td>43</td>\n",
       "      <td>single</td>\n",
       "    </tr>\n",
       "    <tr>\n",
       "      <th>10</th>\n",
       "      <td>secondary</td>\n",
       "      <td>41</td>\n",
       "      <td>divorced</td>\n",
       "    </tr>\n",
       "    <tr>\n",
       "      <th>11</th>\n",
       "      <td>secondary</td>\n",
       "      <td>29</td>\n",
       "      <td>single</td>\n",
       "    </tr>\n",
       "    <tr>\n",
       "      <th>12</th>\n",
       "      <td>secondary</td>\n",
       "      <td>53</td>\n",
       "      <td>married</td>\n",
       "    </tr>\n",
       "    <tr>\n",
       "      <th>13</th>\n",
       "      <td>unknown</td>\n",
       "      <td>58</td>\n",
       "      <td>married</td>\n",
       "    </tr>\n",
       "    <tr>\n",
       "      <th>14</th>\n",
       "      <td>secondary</td>\n",
       "      <td>10</td>\n",
       "      <td>married</td>\n",
       "    </tr>\n",
       "    <tr>\n",
       "      <th>15</th>\n",
       "      <td>primary</td>\n",
       "      <td>51</td>\n",
       "      <td>married</td>\n",
       "    </tr>\n",
       "    <tr>\n",
       "      <th>16</th>\n",
       "      <td>unknown</td>\n",
       "      <td>45</td>\n",
       "      <td>single</td>\n",
       "    </tr>\n",
       "    <tr>\n",
       "      <th>17</th>\n",
       "      <td>primary</td>\n",
       "      <td>57</td>\n",
       "      <td>married</td>\n",
       "    </tr>\n",
       "    <tr>\n",
       "      <th>18</th>\n",
       "      <td>primary</td>\n",
       "      <td>17</td>\n",
       "      <td>married</td>\n",
       "    </tr>\n",
       "    <tr>\n",
       "      <th>19</th>\n",
       "      <td>secondary</td>\n",
       "      <td>33</td>\n",
       "      <td>married</td>\n",
       "    </tr>\n",
       "    <tr>\n",
       "      <th>20</th>\n",
       "      <td>secondary</td>\n",
       "      <td>28</td>\n",
       "      <td>married</td>\n",
       "    </tr>\n",
       "  </tbody>\n",
       "</table>\n",
       "</div>"
      ],
      "text/plain": [
       "    education  age   marital\n",
       "0    tertiary   58   married\n",
       "1   secondary   44    single\n",
       "2   secondary   33   married\n",
       "3     unknown   47   married\n",
       "4     unknown   33    single\n",
       "5    tertiary   35   married\n",
       "6    tertiary   28    single\n",
       "7    tertiary   42  divorced\n",
       "8     primary   58   married\n",
       "9   secondary   43    single\n",
       "10  secondary   41  divorced\n",
       "11  secondary   29    single\n",
       "12  secondary   53   married\n",
       "13    unknown   58   married\n",
       "14  secondary   10   married\n",
       "15    primary   51   married\n",
       "16    unknown   45    single\n",
       "17    primary   57   married\n",
       "18    primary   17   married\n",
       "19  secondary   33   married\n",
       "20  secondary   28   married"
      ]
     },
     "execution_count": 48,
     "metadata": {},
     "output_type": "execute_result"
    }
   ],
   "source": [
    "# Afficher les 20 premières lignes\n",
    "projection = df.loc[: 20, [\"education\", \"age\", \"marital\"]]\n",
    "projection"
   ]
  },
  {
   "cell_type": "code",
   "execution_count": 49,
   "id": "874b0cda-23b2-4e3d-a42e-1539e134c77b",
   "metadata": {},
   "outputs": [
    {
     "data": {
      "text/html": [
       "<div>\n",
       "<style scoped>\n",
       "    .dataframe tbody tr th:only-of-type {\n",
       "        vertical-align: middle;\n",
       "    }\n",
       "\n",
       "    .dataframe tbody tr th {\n",
       "        vertical-align: top;\n",
       "    }\n",
       "\n",
       "    .dataframe thead th {\n",
       "        text-align: right;\n",
       "    }\n",
       "</style>\n",
       "<table border=\"1\" class=\"dataframe\">\n",
       "  <thead>\n",
       "    <tr style=\"text-align: right;\">\n",
       "      <th></th>\n",
       "      <th>education</th>\n",
       "      <th>age</th>\n",
       "      <th>marital</th>\n",
       "    </tr>\n",
       "  </thead>\n",
       "  <tbody>\n",
       "    <tr>\n",
       "      <th>0</th>\n",
       "      <td>tertiary</td>\n",
       "      <td>58</td>\n",
       "      <td>married</td>\n",
       "    </tr>\n",
       "    <tr>\n",
       "      <th>1</th>\n",
       "      <td>secondary</td>\n",
       "      <td>44</td>\n",
       "      <td>single</td>\n",
       "    </tr>\n",
       "    <tr>\n",
       "      <th>2</th>\n",
       "      <td>secondary</td>\n",
       "      <td>33</td>\n",
       "      <td>married</td>\n",
       "    </tr>\n",
       "    <tr>\n",
       "      <th>3</th>\n",
       "      <td>unknown</td>\n",
       "      <td>47</td>\n",
       "      <td>married</td>\n",
       "    </tr>\n",
       "    <tr>\n",
       "      <th>4</th>\n",
       "      <td>unknown</td>\n",
       "      <td>33</td>\n",
       "      <td>single</td>\n",
       "    </tr>\n",
       "    <tr>\n",
       "      <th>5</th>\n",
       "      <td>tertiary</td>\n",
       "      <td>35</td>\n",
       "      <td>married</td>\n",
       "    </tr>\n",
       "    <tr>\n",
       "      <th>6</th>\n",
       "      <td>tertiary</td>\n",
       "      <td>28</td>\n",
       "      <td>single</td>\n",
       "    </tr>\n",
       "    <tr>\n",
       "      <th>7</th>\n",
       "      <td>tertiary</td>\n",
       "      <td>42</td>\n",
       "      <td>divorced</td>\n",
       "    </tr>\n",
       "    <tr>\n",
       "      <th>8</th>\n",
       "      <td>primary</td>\n",
       "      <td>58</td>\n",
       "      <td>married</td>\n",
       "    </tr>\n",
       "    <tr>\n",
       "      <th>9</th>\n",
       "      <td>secondary</td>\n",
       "      <td>43</td>\n",
       "      <td>single</td>\n",
       "    </tr>\n",
       "    <tr>\n",
       "      <th>10</th>\n",
       "      <td>secondary</td>\n",
       "      <td>41</td>\n",
       "      <td>divorced</td>\n",
       "    </tr>\n",
       "    <tr>\n",
       "      <th>11</th>\n",
       "      <td>secondary</td>\n",
       "      <td>29</td>\n",
       "      <td>single</td>\n",
       "    </tr>\n",
       "    <tr>\n",
       "      <th>12</th>\n",
       "      <td>secondary</td>\n",
       "      <td>53</td>\n",
       "      <td>married</td>\n",
       "    </tr>\n",
       "    <tr>\n",
       "      <th>13</th>\n",
       "      <td>unknown</td>\n",
       "      <td>58</td>\n",
       "      <td>married</td>\n",
       "    </tr>\n",
       "    <tr>\n",
       "      <th>14</th>\n",
       "      <td>secondary</td>\n",
       "      <td>10</td>\n",
       "      <td>married</td>\n",
       "    </tr>\n",
       "    <tr>\n",
       "      <th>15</th>\n",
       "      <td>primary</td>\n",
       "      <td>51</td>\n",
       "      <td>married</td>\n",
       "    </tr>\n",
       "  </tbody>\n",
       "</table>\n",
       "</div>"
      ],
      "text/plain": [
       "    education  age   marital\n",
       "0    tertiary   58   married\n",
       "1   secondary   44    single\n",
       "2   secondary   33   married\n",
       "3     unknown   47   married\n",
       "4     unknown   33    single\n",
       "5    tertiary   35   married\n",
       "6    tertiary   28    single\n",
       "7    tertiary   42  divorced\n",
       "8     primary   58   married\n",
       "9   secondary   43    single\n",
       "10  secondary   41  divorced\n",
       "11  secondary   29    single\n",
       "12  secondary   53   married\n",
       "13    unknown   58   married\n",
       "14  secondary   10   married\n",
       "15    primary   51   married"
      ]
     },
     "execution_count": 49,
     "metadata": {},
     "output_type": "execute_result"
    }
   ],
   "source": [
    "# Afficher les 15 premières lignes\n",
    "projection = df.loc[: 15, [\"education\", \"age\", \"marital\"]]\n",
    "projection"
   ]
  },
  {
   "cell_type": "code",
   "execution_count": 52,
   "id": "a92ff956-787e-42b3-b5a8-f31ce6f9aa8b",
   "metadata": {},
   "outputs": [
    {
     "data": {
      "text/html": [
       "<div>\n",
       "<style scoped>\n",
       "    .dataframe tbody tr th:only-of-type {\n",
       "        vertical-align: middle;\n",
       "    }\n",
       "\n",
       "    .dataframe tbody tr th {\n",
       "        vertical-align: top;\n",
       "    }\n",
       "\n",
       "    .dataframe thead th {\n",
       "        text-align: right;\n",
       "    }\n",
       "</style>\n",
       "<table border=\"1\" class=\"dataframe\">\n",
       "  <thead>\n",
       "    <tr style=\"text-align: right;\">\n",
       "      <th></th>\n",
       "      <th>id</th>\n",
       "      <th>education</th>\n",
       "      <th>marital</th>\n",
       "    </tr>\n",
       "  </thead>\n",
       "  <tbody>\n",
       "    <tr>\n",
       "      <th>0</th>\n",
       "      <td>id1</td>\n",
       "      <td>tertiary</td>\n",
       "      <td>married</td>\n",
       "    </tr>\n",
       "    <tr>\n",
       "      <th>1</th>\n",
       "      <td>id2</td>\n",
       "      <td>secondary</td>\n",
       "      <td>single</td>\n",
       "    </tr>\n",
       "    <tr>\n",
       "      <th>2</th>\n",
       "      <td>id3</td>\n",
       "      <td>secondary</td>\n",
       "      <td>married</td>\n",
       "    </tr>\n",
       "    <tr>\n",
       "      <th>3</th>\n",
       "      <td>id4</td>\n",
       "      <td>unknown</td>\n",
       "      <td>married</td>\n",
       "    </tr>\n",
       "    <tr>\n",
       "      <th>4</th>\n",
       "      <td>id5</td>\n",
       "      <td>unknown</td>\n",
       "      <td>single</td>\n",
       "    </tr>\n",
       "    <tr>\n",
       "      <th>5</th>\n",
       "      <td>id6</td>\n",
       "      <td>tertiary</td>\n",
       "      <td>married</td>\n",
       "    </tr>\n",
       "    <tr>\n",
       "      <th>6</th>\n",
       "      <td>id7</td>\n",
       "      <td>tertiary</td>\n",
       "      <td>single</td>\n",
       "    </tr>\n",
       "    <tr>\n",
       "      <th>7</th>\n",
       "      <td>id8</td>\n",
       "      <td>tertiary</td>\n",
       "      <td>divorced</td>\n",
       "    </tr>\n",
       "    <tr>\n",
       "      <th>8</th>\n",
       "      <td>id9</td>\n",
       "      <td>primary</td>\n",
       "      <td>married</td>\n",
       "    </tr>\n",
       "    <tr>\n",
       "      <th>9</th>\n",
       "      <td>id10</td>\n",
       "      <td>secondary</td>\n",
       "      <td>single</td>\n",
       "    </tr>\n",
       "  </tbody>\n",
       "</table>\n",
       "</div>"
      ],
      "text/plain": [
       "     id  education   marital\n",
       "0   id1   tertiary   married\n",
       "1   id2  secondary    single\n",
       "2   id3  secondary   married\n",
       "3   id4    unknown   married\n",
       "4   id5    unknown    single\n",
       "5   id6   tertiary   married\n",
       "6   id7   tertiary    single\n",
       "7   id8   tertiary  divorced\n",
       "8   id9    primary   married\n",
       "9  id10  secondary    single"
      ]
     },
     "execution_count": 52,
     "metadata": {},
     "output_type": "execute_result"
    }
   ],
   "source": [
    "# Afficher les 10 premières lignes avec iloc\n",
    "projection = df.iloc[: 10, [0,4,3 ]]\n",
    "projection"
   ]
  },
  {
   "cell_type": "code",
   "execution_count": 58,
   "id": "6bf55e1a-44bc-4029-b14e-7429b94f1f70",
   "metadata": {},
   "outputs": [
    {
     "data": {
      "text/plain": [
       "Index(['id', 'age', 'job', 'marital', 'education', 'default', 'balance',\n",
       "       'housing', 'loan', 'contact', 'day', 'month', 'duration', 'campaign',\n",
       "       'pdays', 'previous', 'poutcome', 'y', 'tranche_dage'],\n",
       "      dtype='object')"
      ]
     },
     "execution_count": 58,
     "metadata": {},
     "output_type": "execute_result"
    }
   ],
   "source": [
    "# Créer une colonne tranche d'age inf à 18 entre 18 et 25 de 25 à 50 et de 50 +\n",
    "import numpy as np\n",
    "#On cherche les valeurs manquantes\n",
    "df[\"tranche_dage\"] = np.nan\n",
    "df[\"tranche_dage\"]\n",
    "df.columns\n"
   ]
  },
  {
   "cell_type": "code",
   "execution_count": 4,
   "id": "2dcae28f-e043-4f8e-96e8-1a8552ec1877",
   "metadata": {},
   "outputs": [
    {
     "data": {
      "text/html": [
       "<div>\n",
       "<style scoped>\n",
       "    .dataframe tbody tr th:only-of-type {\n",
       "        vertical-align: middle;\n",
       "    }\n",
       "\n",
       "    .dataframe tbody tr th {\n",
       "        vertical-align: top;\n",
       "    }\n",
       "\n",
       "    .dataframe thead th {\n",
       "        text-align: right;\n",
       "    }\n",
       "</style>\n",
       "<table border=\"1\" class=\"dataframe\">\n",
       "  <thead>\n",
       "    <tr style=\"text-align: right;\">\n",
       "      <th></th>\n",
       "      <th>id</th>\n",
       "      <th>age</th>\n",
       "      <th>job</th>\n",
       "      <th>marital</th>\n",
       "      <th>education</th>\n",
       "      <th>default</th>\n",
       "      <th>balance</th>\n",
       "      <th>housing</th>\n",
       "      <th>loan</th>\n",
       "      <th>contact</th>\n",
       "      <th>day</th>\n",
       "      <th>month</th>\n",
       "      <th>duration</th>\n",
       "      <th>campaign</th>\n",
       "      <th>pdays</th>\n",
       "      <th>previous</th>\n",
       "      <th>poutcome</th>\n",
       "      <th>y</th>\n",
       "    </tr>\n",
       "  </thead>\n",
       "  <tbody>\n",
       "    <tr>\n",
       "      <th>1</th>\n",
       "      <td>id2</td>\n",
       "      <td>44</td>\n",
       "      <td>technician</td>\n",
       "      <td>single</td>\n",
       "      <td>secondary</td>\n",
       "      <td>no</td>\n",
       "      <td>29.0</td>\n",
       "      <td>yes</td>\n",
       "      <td>no</td>\n",
       "      <td>unknown</td>\n",
       "      <td>5</td>\n",
       "      <td>may</td>\n",
       "      <td>151</td>\n",
       "      <td>1</td>\n",
       "      <td>-1</td>\n",
       "      <td>0</td>\n",
       "      <td>unknown</td>\n",
       "      <td>no</td>\n",
       "    </tr>\n",
       "    <tr>\n",
       "      <th>2</th>\n",
       "      <td>id3</td>\n",
       "      <td>33</td>\n",
       "      <td>entrepreneur</td>\n",
       "      <td>married</td>\n",
       "      <td>secondary</td>\n",
       "      <td>no</td>\n",
       "      <td>2.0</td>\n",
       "      <td>yes</td>\n",
       "      <td>yes</td>\n",
       "      <td>unknown</td>\n",
       "      <td>5</td>\n",
       "      <td>may</td>\n",
       "      <td>76</td>\n",
       "      <td>1</td>\n",
       "      <td>-1</td>\n",
       "      <td>0</td>\n",
       "      <td>unknown</td>\n",
       "      <td>no</td>\n",
       "    </tr>\n",
       "    <tr>\n",
       "      <th>9</th>\n",
       "      <td>id10</td>\n",
       "      <td>43</td>\n",
       "      <td>technician</td>\n",
       "      <td>single</td>\n",
       "      <td>secondary</td>\n",
       "      <td>no</td>\n",
       "      <td>NaN</td>\n",
       "      <td>yes</td>\n",
       "      <td>no</td>\n",
       "      <td>unknown</td>\n",
       "      <td>5</td>\n",
       "      <td>may</td>\n",
       "      <td>55</td>\n",
       "      <td>1</td>\n",
       "      <td>-1</td>\n",
       "      <td>0</td>\n",
       "      <td>unknown</td>\n",
       "      <td>no</td>\n",
       "    </tr>\n",
       "    <tr>\n",
       "      <th>10</th>\n",
       "      <td>id11</td>\n",
       "      <td>41</td>\n",
       "      <td>admin.</td>\n",
       "      <td>divorced</td>\n",
       "      <td>secondary</td>\n",
       "      <td>no</td>\n",
       "      <td>270.0</td>\n",
       "      <td>yes</td>\n",
       "      <td>no</td>\n",
       "      <td>unknown</td>\n",
       "      <td>5</td>\n",
       "      <td>may</td>\n",
       "      <td>222</td>\n",
       "      <td>1</td>\n",
       "      <td>-1</td>\n",
       "      <td>0</td>\n",
       "      <td>unknown</td>\n",
       "      <td>no</td>\n",
       "    </tr>\n",
       "    <tr>\n",
       "      <th>11</th>\n",
       "      <td>id12</td>\n",
       "      <td>29</td>\n",
       "      <td>admin.</td>\n",
       "      <td>single</td>\n",
       "      <td>secondary</td>\n",
       "      <td>no</td>\n",
       "      <td>390.0</td>\n",
       "      <td>yes</td>\n",
       "      <td>no</td>\n",
       "      <td>unknown</td>\n",
       "      <td>5</td>\n",
       "      <td>may</td>\n",
       "      <td>137</td>\n",
       "      <td>1</td>\n",
       "      <td>-1</td>\n",
       "      <td>0</td>\n",
       "      <td>unknown</td>\n",
       "      <td>no</td>\n",
       "    </tr>\n",
       "    <tr>\n",
       "      <th>...</th>\n",
       "      <td>...</td>\n",
       "      <td>...</td>\n",
       "      <td>...</td>\n",
       "      <td>...</td>\n",
       "      <td>...</td>\n",
       "      <td>...</td>\n",
       "      <td>...</td>\n",
       "      <td>...</td>\n",
       "      <td>...</td>\n",
       "      <td>...</td>\n",
       "      <td>...</td>\n",
       "      <td>...</td>\n",
       "      <td>...</td>\n",
       "      <td>...</td>\n",
       "      <td>...</td>\n",
       "      <td>...</td>\n",
       "      <td>...</td>\n",
       "      <td>...</td>\n",
       "    </tr>\n",
       "    <tr>\n",
       "      <th>45204</th>\n",
       "      <td>id45205</td>\n",
       "      <td>73</td>\n",
       "      <td>retired</td>\n",
       "      <td>married</td>\n",
       "      <td>secondary</td>\n",
       "      <td>no</td>\n",
       "      <td>2850.0</td>\n",
       "      <td>no</td>\n",
       "      <td>no</td>\n",
       "      <td>cellular</td>\n",
       "      <td>17</td>\n",
       "      <td>nov</td>\n",
       "      <td>300</td>\n",
       "      <td>1</td>\n",
       "      <td>40</td>\n",
       "      <td>8</td>\n",
       "      <td>failure</td>\n",
       "      <td>yes</td>\n",
       "    </tr>\n",
       "    <tr>\n",
       "      <th>45205</th>\n",
       "      <td>id45206</td>\n",
       "      <td>25</td>\n",
       "      <td>technician</td>\n",
       "      <td>single</td>\n",
       "      <td>secondary</td>\n",
       "      <td>no</td>\n",
       "      <td>505.0</td>\n",
       "      <td>no</td>\n",
       "      <td>yes</td>\n",
       "      <td>cellular</td>\n",
       "      <td>17</td>\n",
       "      <td>nov</td>\n",
       "      <td>386</td>\n",
       "      <td>2</td>\n",
       "      <td>-1</td>\n",
       "      <td>0</td>\n",
       "      <td>unknown</td>\n",
       "      <td>yes</td>\n",
       "    </tr>\n",
       "    <tr>\n",
       "      <th>45208</th>\n",
       "      <td>id45209</td>\n",
       "      <td>72</td>\n",
       "      <td>retired</td>\n",
       "      <td>married</td>\n",
       "      <td>secondary</td>\n",
       "      <td>no</td>\n",
       "      <td>5715.0</td>\n",
       "      <td>no</td>\n",
       "      <td>no</td>\n",
       "      <td>cellular</td>\n",
       "      <td>17</td>\n",
       "      <td>nov</td>\n",
       "      <td>1127</td>\n",
       "      <td>5</td>\n",
       "      <td>184</td>\n",
       "      <td>3</td>\n",
       "      <td>success</td>\n",
       "      <td>yes</td>\n",
       "    </tr>\n",
       "    <tr>\n",
       "      <th>45209</th>\n",
       "      <td>id45210</td>\n",
       "      <td>57</td>\n",
       "      <td>blue-collar</td>\n",
       "      <td>married</td>\n",
       "      <td>secondary</td>\n",
       "      <td>no</td>\n",
       "      <td>668.0</td>\n",
       "      <td>no</td>\n",
       "      <td>no</td>\n",
       "      <td>telephone</td>\n",
       "      <td>17</td>\n",
       "      <td>nov</td>\n",
       "      <td>508</td>\n",
       "      <td>4</td>\n",
       "      <td>-1</td>\n",
       "      <td>0</td>\n",
       "      <td>unknown</td>\n",
       "      <td>no</td>\n",
       "    </tr>\n",
       "    <tr>\n",
       "      <th>45210</th>\n",
       "      <td>id45211</td>\n",
       "      <td>37</td>\n",
       "      <td>entrepreneur</td>\n",
       "      <td>married</td>\n",
       "      <td>secondary</td>\n",
       "      <td>no</td>\n",
       "      <td>2971.0</td>\n",
       "      <td>no</td>\n",
       "      <td>no</td>\n",
       "      <td>cellular</td>\n",
       "      <td>17</td>\n",
       "      <td>nov</td>\n",
       "      <td>361</td>\n",
       "      <td>2</td>\n",
       "      <td>188</td>\n",
       "      <td>11</td>\n",
       "      <td>other</td>\n",
       "      <td>no</td>\n",
       "    </tr>\n",
       "  </tbody>\n",
       "</table>\n",
       "<p>23199 rows × 18 columns</p>\n",
       "</div>"
      ],
      "text/plain": [
       "            id  age           job   marital  education default  balance  \\\n",
       "1          id2   44    technician    single  secondary      no     29.0   \n",
       "2          id3   33  entrepreneur   married  secondary      no      2.0   \n",
       "9         id10   43    technician    single  secondary      no      NaN   \n",
       "10        id11   41        admin.  divorced  secondary      no    270.0   \n",
       "11        id12   29        admin.    single  secondary      no    390.0   \n",
       "...        ...  ...           ...       ...        ...     ...      ...   \n",
       "45204  id45205   73       retired   married  secondary      no   2850.0   \n",
       "45205  id45206   25    technician    single  secondary      no    505.0   \n",
       "45208  id45209   72       retired   married  secondary      no   5715.0   \n",
       "45209  id45210   57   blue-collar   married  secondary      no    668.0   \n",
       "45210  id45211   37  entrepreneur   married  secondary      no   2971.0   \n",
       "\n",
       "      housing loan    contact  day month  duration  campaign  pdays  previous  \\\n",
       "1         yes   no    unknown    5   may       151         1     -1         0   \n",
       "2         yes  yes    unknown    5   may        76         1     -1         0   \n",
       "9         yes   no    unknown    5   may        55         1     -1         0   \n",
       "10        yes   no    unknown    5   may       222         1     -1         0   \n",
       "11        yes   no    unknown    5   may       137         1     -1         0   \n",
       "...       ...  ...        ...  ...   ...       ...       ...    ...       ...   \n",
       "45204      no   no   cellular   17   nov       300         1     40         8   \n",
       "45205      no  yes   cellular   17   nov       386         2     -1         0   \n",
       "45208      no   no   cellular   17   nov      1127         5    184         3   \n",
       "45209      no   no  telephone   17   nov       508         4     -1         0   \n",
       "45210      no   no   cellular   17   nov       361         2    188        11   \n",
       "\n",
       "      poutcome    y  \n",
       "1      unknown   no  \n",
       "2      unknown   no  \n",
       "9      unknown   no  \n",
       "10     unknown   no  \n",
       "11     unknown   no  \n",
       "...        ...  ...  \n",
       "45204  failure  yes  \n",
       "45205  unknown  yes  \n",
       "45208  success  yes  \n",
       "45209  unknown   no  \n",
       "45210    other   no  \n",
       "\n",
       "[23199 rows x 18 columns]"
      ]
     },
     "execution_count": 4,
     "metadata": {},
     "output_type": "execute_result"
    }
   ],
   "source": [
    "clients_majr_education_solde = df[(df[\"age\"] >= 18) & (df[\"education\"] == \"secondary\")]                              \n",
    "clients_majr_education_solde"
   ]
  },
  {
   "cell_type": "code",
   "execution_count": 5,
   "id": "6f1ef2d1-3c43-4d64-b763-e06e0cae61c5",
   "metadata": {},
   "outputs": [
    {
     "data": {
      "text/html": [
       "<div>\n",
       "<style scoped>\n",
       "    .dataframe tbody tr th:only-of-type {\n",
       "        vertical-align: middle;\n",
       "    }\n",
       "\n",
       "    .dataframe tbody tr th {\n",
       "        vertical-align: top;\n",
       "    }\n",
       "\n",
       "    .dataframe thead th {\n",
       "        text-align: right;\n",
       "    }\n",
       "</style>\n",
       "<table border=\"1\" class=\"dataframe\">\n",
       "  <thead>\n",
       "    <tr style=\"text-align: right;\">\n",
       "      <th></th>\n",
       "      <th>id</th>\n",
       "      <th>age</th>\n",
       "      <th>job</th>\n",
       "      <th>marital</th>\n",
       "      <th>education</th>\n",
       "      <th>default</th>\n",
       "      <th>balance</th>\n",
       "      <th>housing</th>\n",
       "      <th>loan</th>\n",
       "      <th>contact</th>\n",
       "      <th>day</th>\n",
       "      <th>month</th>\n",
       "      <th>duration</th>\n",
       "      <th>campaign</th>\n",
       "      <th>pdays</th>\n",
       "      <th>previous</th>\n",
       "      <th>poutcome</th>\n",
       "      <th>y</th>\n",
       "    </tr>\n",
       "  </thead>\n",
       "  <tbody>\n",
       "    <tr>\n",
       "      <th>0</th>\n",
       "      <td>id1</td>\n",
       "      <td>58</td>\n",
       "      <td>management</td>\n",
       "      <td>married</td>\n",
       "      <td>tertiary</td>\n",
       "      <td>no</td>\n",
       "      <td>2143.0</td>\n",
       "      <td>yes</td>\n",
       "      <td>no</td>\n",
       "      <td>unknown</td>\n",
       "      <td>5</td>\n",
       "      <td>may</td>\n",
       "      <td>261</td>\n",
       "      <td>1</td>\n",
       "      <td>-1</td>\n",
       "      <td>0</td>\n",
       "      <td>unknown</td>\n",
       "      <td>no</td>\n",
       "    </tr>\n",
       "    <tr>\n",
       "      <th>1</th>\n",
       "      <td>id2</td>\n",
       "      <td>44</td>\n",
       "      <td>technician</td>\n",
       "      <td>single</td>\n",
       "      <td>secondary</td>\n",
       "      <td>no</td>\n",
       "      <td>29.0</td>\n",
       "      <td>yes</td>\n",
       "      <td>no</td>\n",
       "      <td>unknown</td>\n",
       "      <td>5</td>\n",
       "      <td>may</td>\n",
       "      <td>151</td>\n",
       "      <td>1</td>\n",
       "      <td>-1</td>\n",
       "      <td>0</td>\n",
       "      <td>unknown</td>\n",
       "      <td>no</td>\n",
       "    </tr>\n",
       "    <tr>\n",
       "      <th>2</th>\n",
       "      <td>id3</td>\n",
       "      <td>33</td>\n",
       "      <td>entrepreneur</td>\n",
       "      <td>married</td>\n",
       "      <td>secondary</td>\n",
       "      <td>no</td>\n",
       "      <td>2.0</td>\n",
       "      <td>yes</td>\n",
       "      <td>yes</td>\n",
       "      <td>unknown</td>\n",
       "      <td>5</td>\n",
       "      <td>may</td>\n",
       "      <td>76</td>\n",
       "      <td>1</td>\n",
       "      <td>-1</td>\n",
       "      <td>0</td>\n",
       "      <td>unknown</td>\n",
       "      <td>no</td>\n",
       "    </tr>\n",
       "    <tr>\n",
       "      <th>3</th>\n",
       "      <td>id4</td>\n",
       "      <td>47</td>\n",
       "      <td>blue-collar</td>\n",
       "      <td>married</td>\n",
       "      <td>unknown</td>\n",
       "      <td>no</td>\n",
       "      <td>1506.0</td>\n",
       "      <td>yes</td>\n",
       "      <td>no</td>\n",
       "      <td>unknown</td>\n",
       "      <td>5</td>\n",
       "      <td>may</td>\n",
       "      <td>92</td>\n",
       "      <td>1</td>\n",
       "      <td>-1</td>\n",
       "      <td>0</td>\n",
       "      <td>unknown</td>\n",
       "      <td>no</td>\n",
       "    </tr>\n",
       "    <tr>\n",
       "      <th>4</th>\n",
       "      <td>id5</td>\n",
       "      <td>33</td>\n",
       "      <td>unknown</td>\n",
       "      <td>single</td>\n",
       "      <td>unknown</td>\n",
       "      <td>no</td>\n",
       "      <td>1.0</td>\n",
       "      <td>no</td>\n",
       "      <td>no</td>\n",
       "      <td>unknown</td>\n",
       "      <td>5</td>\n",
       "      <td>may</td>\n",
       "      <td>198</td>\n",
       "      <td>1</td>\n",
       "      <td>-1</td>\n",
       "      <td>0</td>\n",
       "      <td>unknown</td>\n",
       "      <td>no</td>\n",
       "    </tr>\n",
       "    <tr>\n",
       "      <th>...</th>\n",
       "      <td>...</td>\n",
       "      <td>...</td>\n",
       "      <td>...</td>\n",
       "      <td>...</td>\n",
       "      <td>...</td>\n",
       "      <td>...</td>\n",
       "      <td>...</td>\n",
       "      <td>...</td>\n",
       "      <td>...</td>\n",
       "      <td>...</td>\n",
       "      <td>...</td>\n",
       "      <td>...</td>\n",
       "      <td>...</td>\n",
       "      <td>...</td>\n",
       "      <td>...</td>\n",
       "      <td>...</td>\n",
       "      <td>...</td>\n",
       "      <td>...</td>\n",
       "    </tr>\n",
       "    <tr>\n",
       "      <th>45206</th>\n",
       "      <td>id45207</td>\n",
       "      <td>51</td>\n",
       "      <td>technician</td>\n",
       "      <td>married</td>\n",
       "      <td>tertiary</td>\n",
       "      <td>no</td>\n",
       "      <td>825.0</td>\n",
       "      <td>no</td>\n",
       "      <td>no</td>\n",
       "      <td>cellular</td>\n",
       "      <td>17</td>\n",
       "      <td>nov</td>\n",
       "      <td>977</td>\n",
       "      <td>3</td>\n",
       "      <td>-1</td>\n",
       "      <td>0</td>\n",
       "      <td>unknown</td>\n",
       "      <td>yes</td>\n",
       "    </tr>\n",
       "    <tr>\n",
       "      <th>45207</th>\n",
       "      <td>id45208</td>\n",
       "      <td>71</td>\n",
       "      <td>retired</td>\n",
       "      <td>divorced</td>\n",
       "      <td>primary</td>\n",
       "      <td>no</td>\n",
       "      <td>1729.0</td>\n",
       "      <td>no</td>\n",
       "      <td>no</td>\n",
       "      <td>cellular</td>\n",
       "      <td>17</td>\n",
       "      <td>nov</td>\n",
       "      <td>456</td>\n",
       "      <td>2</td>\n",
       "      <td>-1</td>\n",
       "      <td>0</td>\n",
       "      <td>unknown</td>\n",
       "      <td>yes</td>\n",
       "    </tr>\n",
       "    <tr>\n",
       "      <th>45208</th>\n",
       "      <td>id45209</td>\n",
       "      <td>72</td>\n",
       "      <td>retired</td>\n",
       "      <td>married</td>\n",
       "      <td>secondary</td>\n",
       "      <td>no</td>\n",
       "      <td>5715.0</td>\n",
       "      <td>no</td>\n",
       "      <td>no</td>\n",
       "      <td>cellular</td>\n",
       "      <td>17</td>\n",
       "      <td>nov</td>\n",
       "      <td>1127</td>\n",
       "      <td>5</td>\n",
       "      <td>184</td>\n",
       "      <td>3</td>\n",
       "      <td>success</td>\n",
       "      <td>yes</td>\n",
       "    </tr>\n",
       "    <tr>\n",
       "      <th>45209</th>\n",
       "      <td>id45210</td>\n",
       "      <td>57</td>\n",
       "      <td>blue-collar</td>\n",
       "      <td>married</td>\n",
       "      <td>secondary</td>\n",
       "      <td>no</td>\n",
       "      <td>668.0</td>\n",
       "      <td>no</td>\n",
       "      <td>no</td>\n",
       "      <td>telephone</td>\n",
       "      <td>17</td>\n",
       "      <td>nov</td>\n",
       "      <td>508</td>\n",
       "      <td>4</td>\n",
       "      <td>-1</td>\n",
       "      <td>0</td>\n",
       "      <td>unknown</td>\n",
       "      <td>no</td>\n",
       "    </tr>\n",
       "    <tr>\n",
       "      <th>45210</th>\n",
       "      <td>id45211</td>\n",
       "      <td>37</td>\n",
       "      <td>entrepreneur</td>\n",
       "      <td>married</td>\n",
       "      <td>secondary</td>\n",
       "      <td>no</td>\n",
       "      <td>2971.0</td>\n",
       "      <td>no</td>\n",
       "      <td>no</td>\n",
       "      <td>cellular</td>\n",
       "      <td>17</td>\n",
       "      <td>nov</td>\n",
       "      <td>361</td>\n",
       "      <td>2</td>\n",
       "      <td>188</td>\n",
       "      <td>11</td>\n",
       "      <td>other</td>\n",
       "      <td>no</td>\n",
       "    </tr>\n",
       "  </tbody>\n",
       "</table>\n",
       "<p>45211 rows × 18 columns</p>\n",
       "</div>"
      ],
      "text/plain": [
       "            id  age           job   marital  education default  balance  \\\n",
       "0          id1   58    management   married   tertiary      no   2143.0   \n",
       "1          id2   44    technician    single  secondary      no     29.0   \n",
       "2          id3   33  entrepreneur   married  secondary      no      2.0   \n",
       "3          id4   47   blue-collar   married    unknown      no   1506.0   \n",
       "4          id5   33       unknown    single    unknown      no      1.0   \n",
       "...        ...  ...           ...       ...        ...     ...      ...   \n",
       "45206  id45207   51    technician   married   tertiary      no    825.0   \n",
       "45207  id45208   71       retired  divorced    primary      no   1729.0   \n",
       "45208  id45209   72       retired   married  secondary      no   5715.0   \n",
       "45209  id45210   57   blue-collar   married  secondary      no    668.0   \n",
       "45210  id45211   37  entrepreneur   married  secondary      no   2971.0   \n",
       "\n",
       "      housing loan    contact  day month  duration  campaign  pdays  previous  \\\n",
       "0         yes   no    unknown    5   may       261         1     -1         0   \n",
       "1         yes   no    unknown    5   may       151         1     -1         0   \n",
       "2         yes  yes    unknown    5   may        76         1     -1         0   \n",
       "3         yes   no    unknown    5   may        92         1     -1         0   \n",
       "4          no   no    unknown    5   may       198         1     -1         0   \n",
       "...       ...  ...        ...  ...   ...       ...       ...    ...       ...   \n",
       "45206      no   no   cellular   17   nov       977         3     -1         0   \n",
       "45207      no   no   cellular   17   nov       456         2     -1         0   \n",
       "45208      no   no   cellular   17   nov      1127         5    184         3   \n",
       "45209      no   no  telephone   17   nov       508         4     -1         0   \n",
       "45210      no   no   cellular   17   nov       361         2    188        11   \n",
       "\n",
       "      poutcome    y  \n",
       "0      unknown   no  \n",
       "1      unknown   no  \n",
       "2      unknown   no  \n",
       "3      unknown   no  \n",
       "4      unknown   no  \n",
       "...        ...  ...  \n",
       "45206  unknown  yes  \n",
       "45207  unknown  yes  \n",
       "45208  success  yes  \n",
       "45209  unknown   no  \n",
       "45210    other   no  \n",
       "\n",
       "[45211 rows x 18 columns]"
      ]
     },
     "execution_count": 5,
     "metadata": {},
     "output_type": "execute_result"
    }
   ],
   "source": [
    "df"
   ]
  },
  {
   "cell_type": "code",
   "execution_count": 23,
   "id": "3334a3b5-1728-4f20-89ea-f307be0c61e2",
   "metadata": {},
   "outputs": [
    {
     "data": {
      "text/html": [
       "<div>\n",
       "<style scoped>\n",
       "    .dataframe tbody tr th:only-of-type {\n",
       "        vertical-align: middle;\n",
       "    }\n",
       "\n",
       "    .dataframe tbody tr th {\n",
       "        vertical-align: top;\n",
       "    }\n",
       "\n",
       "    .dataframe thead th {\n",
       "        text-align: right;\n",
       "    }\n",
       "</style>\n",
       "<table border=\"1\" class=\"dataframe\">\n",
       "  <thead>\n",
       "    <tr style=\"text-align: right;\">\n",
       "      <th></th>\n",
       "      <th>age</th>\n",
       "      <th>job</th>\n",
       "      <th>marital</th>\n",
       "    </tr>\n",
       "  </thead>\n",
       "  <tbody>\n",
       "    <tr>\n",
       "      <th>0</th>\n",
       "      <td>58</td>\n",
       "      <td>management</td>\n",
       "      <td>married</td>\n",
       "    </tr>\n",
       "    <tr>\n",
       "      <th>1</th>\n",
       "      <td>44</td>\n",
       "      <td>technician</td>\n",
       "      <td>single</td>\n",
       "    </tr>\n",
       "    <tr>\n",
       "      <th>2</th>\n",
       "      <td>33</td>\n",
       "      <td>entrepreneur</td>\n",
       "      <td>married</td>\n",
       "    </tr>\n",
       "    <tr>\n",
       "      <th>3</th>\n",
       "      <td>47</td>\n",
       "      <td>blue-collar</td>\n",
       "      <td>married</td>\n",
       "    </tr>\n",
       "    <tr>\n",
       "      <th>4</th>\n",
       "      <td>33</td>\n",
       "      <td>unknown</td>\n",
       "      <td>single</td>\n",
       "    </tr>\n",
       "    <tr>\n",
       "      <th>5</th>\n",
       "      <td>35</td>\n",
       "      <td>management</td>\n",
       "      <td>married</td>\n",
       "    </tr>\n",
       "    <tr>\n",
       "      <th>6</th>\n",
       "      <td>28</td>\n",
       "      <td>management</td>\n",
       "      <td>single</td>\n",
       "    </tr>\n",
       "    <tr>\n",
       "      <th>7</th>\n",
       "      <td>42</td>\n",
       "      <td>entrepreneur</td>\n",
       "      <td>divorced</td>\n",
       "    </tr>\n",
       "    <tr>\n",
       "      <th>8</th>\n",
       "      <td>58</td>\n",
       "      <td>retired</td>\n",
       "      <td>married</td>\n",
       "    </tr>\n",
       "    <tr>\n",
       "      <th>9</th>\n",
       "      <td>43</td>\n",
       "      <td>technician</td>\n",
       "      <td>single</td>\n",
       "    </tr>\n",
       "    <tr>\n",
       "      <th>10</th>\n",
       "      <td>41</td>\n",
       "      <td>admin.</td>\n",
       "      <td>divorced</td>\n",
       "    </tr>\n",
       "  </tbody>\n",
       "</table>\n",
       "</div>"
      ],
      "text/plain": [
       "    age           job   marital\n",
       "0    58    management   married\n",
       "1    44    technician    single\n",
       "2    33  entrepreneur   married\n",
       "3    47   blue-collar   married\n",
       "4    33       unknown    single\n",
       "5    35    management   married\n",
       "6    28    management    single\n",
       "7    42  entrepreneur  divorced\n",
       "8    58       retired   married\n",
       "9    43    technician    single\n",
       "10   41        admin.  divorced"
      ]
     },
     "execution_count": 23,
     "metadata": {},
     "output_type": "execute_result"
    }
   ],
   "source": [
    "mes_colonnes= df.loc[:10, [\"age\", \"job\", \"marital\"]]\n",
    "mes_colonnes"
   ]
  },
  {
   "cell_type": "code",
   "execution_count": 13,
   "id": "94c778f7-e176-4de0-b62a-8b58734863a3",
   "metadata": {},
   "outputs": [
    {
     "data": {
      "text/html": [
       "<div>\n",
       "<style scoped>\n",
       "    .dataframe tbody tr th:only-of-type {\n",
       "        vertical-align: middle;\n",
       "    }\n",
       "\n",
       "    .dataframe tbody tr th {\n",
       "        vertical-align: top;\n",
       "    }\n",
       "\n",
       "    .dataframe thead th {\n",
       "        text-align: right;\n",
       "    }\n",
       "</style>\n",
       "<table border=\"1\" class=\"dataframe\">\n",
       "  <thead>\n",
       "    <tr style=\"text-align: right;\">\n",
       "      <th></th>\n",
       "      <th>age</th>\n",
       "      <th>job</th>\n",
       "      <th>education</th>\n",
       "      <th>marital</th>\n",
       "      <th>balance</th>\n",
       "    </tr>\n",
       "  </thead>\n",
       "  <tbody>\n",
       "    <tr>\n",
       "      <th>0</th>\n",
       "      <td>58</td>\n",
       "      <td>management</td>\n",
       "      <td>tertiary</td>\n",
       "      <td>married</td>\n",
       "      <td>2143.0</td>\n",
       "    </tr>\n",
       "    <tr>\n",
       "      <th>1</th>\n",
       "      <td>44</td>\n",
       "      <td>technician</td>\n",
       "      <td>secondary</td>\n",
       "      <td>single</td>\n",
       "      <td>29.0</td>\n",
       "    </tr>\n",
       "    <tr>\n",
       "      <th>2</th>\n",
       "      <td>33</td>\n",
       "      <td>entrepreneur</td>\n",
       "      <td>secondary</td>\n",
       "      <td>married</td>\n",
       "      <td>2.0</td>\n",
       "    </tr>\n",
       "    <tr>\n",
       "      <th>3</th>\n",
       "      <td>47</td>\n",
       "      <td>blue-collar</td>\n",
       "      <td>unknown</td>\n",
       "      <td>married</td>\n",
       "      <td>1506.0</td>\n",
       "    </tr>\n",
       "    <tr>\n",
       "      <th>4</th>\n",
       "      <td>33</td>\n",
       "      <td>unknown</td>\n",
       "      <td>unknown</td>\n",
       "      <td>single</td>\n",
       "      <td>1.0</td>\n",
       "    </tr>\n",
       "    <tr>\n",
       "      <th>...</th>\n",
       "      <td>...</td>\n",
       "      <td>...</td>\n",
       "      <td>...</td>\n",
       "      <td>...</td>\n",
       "      <td>...</td>\n",
       "    </tr>\n",
       "    <tr>\n",
       "      <th>45206</th>\n",
       "      <td>51</td>\n",
       "      <td>technician</td>\n",
       "      <td>tertiary</td>\n",
       "      <td>married</td>\n",
       "      <td>825.0</td>\n",
       "    </tr>\n",
       "    <tr>\n",
       "      <th>45207</th>\n",
       "      <td>71</td>\n",
       "      <td>retired</td>\n",
       "      <td>primary</td>\n",
       "      <td>divorced</td>\n",
       "      <td>1729.0</td>\n",
       "    </tr>\n",
       "    <tr>\n",
       "      <th>45208</th>\n",
       "      <td>72</td>\n",
       "      <td>retired</td>\n",
       "      <td>secondary</td>\n",
       "      <td>married</td>\n",
       "      <td>5715.0</td>\n",
       "    </tr>\n",
       "    <tr>\n",
       "      <th>45209</th>\n",
       "      <td>57</td>\n",
       "      <td>blue-collar</td>\n",
       "      <td>secondary</td>\n",
       "      <td>married</td>\n",
       "      <td>668.0</td>\n",
       "    </tr>\n",
       "    <tr>\n",
       "      <th>45210</th>\n",
       "      <td>37</td>\n",
       "      <td>entrepreneur</td>\n",
       "      <td>secondary</td>\n",
       "      <td>married</td>\n",
       "      <td>2971.0</td>\n",
       "    </tr>\n",
       "  </tbody>\n",
       "</table>\n",
       "<p>45211 rows × 5 columns</p>\n",
       "</div>"
      ],
      "text/plain": [
       "       age           job  education   marital  balance\n",
       "0       58    management   tertiary   married   2143.0\n",
       "1       44    technician  secondary    single     29.0\n",
       "2       33  entrepreneur  secondary   married      2.0\n",
       "3       47   blue-collar    unknown   married   1506.0\n",
       "4       33       unknown    unknown    single      1.0\n",
       "...    ...           ...        ...       ...      ...\n",
       "45206   51    technician   tertiary   married    825.0\n",
       "45207   71       retired    primary  divorced   1729.0\n",
       "45208   72       retired  secondary   married   5715.0\n",
       "45209   57   blue-collar  secondary   married    668.0\n",
       "45210   37  entrepreneur  secondary   married   2971.0\n",
       "\n",
       "[45211 rows x 5 columns]"
      ]
     },
     "execution_count": 13,
     "metadata": {},
     "output_type": "execute_result"
    }
   ],
   "source": [
    "colonnes_choisies = df.loc[: , [\"age\", \"job\", \"education\", \"marital\",\"balance\"]]\n",
    "colonnes_choisies"
   ]
  },
  {
   "cell_type": "code",
   "execution_count": 26,
   "id": "093826fc-ded1-45ad-9c5b-e46eca96515b",
   "metadata": {},
   "outputs": [
    {
     "data": {
      "text/plain": [
       "<pandas.plotting._core.PlotAccessor object at 0x000001E5BF6206D0>"
      ]
     },
     "execution_count": 26,
     "metadata": {},
     "output_type": "execute_result"
    },
    {
     "data": {
      "image/png": "[encoded data removed]",
      "text/plain": [
       "<Figure size 640x480 with 1 Axes>"
      ]
     },
     "metadata": {},
     "output_type": "display_data"
    }
   ],
   "source": [
    "# Histogramme\n",
    "df[\"balance\"].hist()"
   ]
  },
  {
   "cell_type": "code",
   "execution_count": null,
   "id": "dbd36ec5-ef62-4fd0-bf66-7fd674bde420",
   "metadata": {},
   "outputs": [],
   "source": [
    "# Analyser le solde moyen par tranche d'age (groupby.mean())\n",
    "\n",
    "# Cela ne fonctionne pas parce que la colonne tranche_dage n'est pas divisee par categories\n",
    "resultat = df.groupby(\"tranche_dage\")[\"balance\"].mean()\n",
    "print(resultat)"
   ]
  },
  {
   "cell_type": "code",
   "execution_count": 42,
   "id": "c99e84a7-5f83-435c-8a65-693e77d7488f",
   "metadata": {},
   "outputs": [
    {
     "data": {
      "text/plain": [
       "education\n",
       "primary      46.197571\n",
       "secondary    40.616153\n",
       "tertiary     39.883466\n",
       "unknown      45.830576\n",
       "Name: age, dtype: float64"
      ]
     },
     "execution_count": 42,
     "metadata": {},
     "output_type": "execute_result"
    }
   ],
   "source": [
    "# Donner le code qui filtre les clients ages de 25 ans et calcule  l'age moyen en fonction du niveau d'education\n",
    "resultats = df[df[\"age\"] > 25].groupby(\"education\")[\"age\"].mean()\n",
    "resultats"
   ]
  },
  {
   "cell_type": "markdown",
   "id": "e629e739-18b3-43f6-9935-8f37b0895b31",
   "metadata": {},
   "source": [
    "# Data visualisation matplotlib, seaborn, plotly"
   ]
  },
  {
   "cell_type": "code",
   "execution_count": 17,
   "id": "4cee6ae7-60d4-49f5-81dc-898ff14da9cb",
   "metadata": {},
   "outputs": [],
   "source": [
    "import pandas as pd "
   ]
  },
  {
   "cell_type": "code",
   "execution_count": 18,
   "id": "b4164830-453a-4f73-a049-3a928aafee2f",
   "metadata": {},
   "outputs": [
    {
     "name": "stdout",
     "output_type": "stream",
     "text": [
      "            id  age           job   marital  education default  balance  \\\n",
      "0          id1   58    management   married   tertiary      no   2143.0   \n",
      "1          id2   44    technician    single  secondary      no     29.0   \n",
      "2          id3   33  entrepreneur   married  secondary      no      2.0   \n",
      "3          id4   47   blue-collar   married    unknown      no   1506.0   \n",
      "4          id5   33       unknown    single    unknown      no      1.0   \n",
      "...        ...  ...           ...       ...        ...     ...      ...   \n",
      "45206  id45207   51    technician   married   tertiary      no    825.0   \n",
      "45207  id45208   71       retired  divorced    primary      no   1729.0   \n",
      "45208  id45209   72       retired   married  secondary      no   5715.0   \n",
      "45209  id45210   57   blue-collar   married  secondary      no    668.0   \n",
      "45210  id45211   37  entrepreneur   married  secondary      no   2971.0   \n",
      "\n",
      "      housing loan    contact  day month  duration  campaign  pdays  previous  \\\n",
      "0         yes   no    unknown    5   may       261         1     -1         0   \n",
      "1         yes   no    unknown    5   may       151         1     -1         0   \n",
      "2         yes  yes    unknown    5   may        76         1     -1         0   \n",
      "3         yes   no    unknown    5   may        92         1     -1         0   \n",
      "4          no   no    unknown    5   may       198         1     -1         0   \n",
      "...       ...  ...        ...  ...   ...       ...       ...    ...       ...   \n",
      "45206      no   no   cellular   17   nov       977         3     -1         0   \n",
      "45207      no   no   cellular   17   nov       456         2     -1         0   \n",
      "45208      no   no   cellular   17   nov      1127         5    184         3   \n",
      "45209      no   no  telephone   17   nov       508         4     -1         0   \n",
      "45210      no   no   cellular   17   nov       361         2    188        11   \n",
      "\n",
      "      poutcome    y  \n",
      "0      unknown   no  \n",
      "1      unknown   no  \n",
      "2      unknown   no  \n",
      "3      unknown   no  \n",
      "4      unknown   no  \n",
      "...        ...  ...  \n",
      "45206  unknown  yes  \n",
      "45207  unknown  yes  \n",
      "45208  success  yes  \n",
      "45209  unknown   no  \n",
      "45210    other   no  \n",
      "\n",
      "[45211 rows x 18 columns]\n"
     ]
    }
   ],
   "source": [
    "df = pd.read_csv(\"D:\\Python_Analyse_de_données\\donnees_marketing_banque_v.csv\", sep = \";\")\n",
    "print(df)\n",
    "\n"
   ]
  },
  {
   "cell_type": "code",
   "execution_count": 19,
   "id": "8cb34abc-bedc-467e-ba79-af520281d75b",
   "metadata": {},
   "outputs": [
    {
     "data": {
      "text/html": [
       "<div>\n",
       "<style scoped>\n",
       "    .dataframe tbody tr th:only-of-type {\n",
       "        vertical-align: middle;\n",
       "    }\n",
       "\n",
       "    .dataframe tbody tr th {\n",
       "        vertical-align: top;\n",
       "    }\n",
       "\n",
       "    .dataframe thead th {\n",
       "        text-align: right;\n",
       "    }\n",
       "</style>\n",
       "<table border=\"1\" class=\"dataframe\">\n",
       "  <thead>\n",
       "    <tr style=\"text-align: right;\">\n",
       "      <th></th>\n",
       "      <th>id</th>\n",
       "      <th>age</th>\n",
       "      <th>job</th>\n",
       "      <th>marital</th>\n",
       "      <th>education</th>\n",
       "      <th>default</th>\n",
       "      <th>balance</th>\n",
       "      <th>housing</th>\n",
       "      <th>loan</th>\n",
       "      <th>contact</th>\n",
       "      <th>day</th>\n",
       "      <th>month</th>\n",
       "      <th>duration</th>\n",
       "      <th>campaign</th>\n",
       "      <th>pdays</th>\n",
       "      <th>previous</th>\n",
       "      <th>poutcome</th>\n",
       "      <th>y</th>\n",
       "    </tr>\n",
       "  </thead>\n",
       "  <tbody>\n",
       "    <tr>\n",
       "      <th>0</th>\n",
       "      <td>id1</td>\n",
       "      <td>58</td>\n",
       "      <td>management</td>\n",
       "      <td>married</td>\n",
       "      <td>tertiary</td>\n",
       "      <td>no</td>\n",
       "      <td>2143.0</td>\n",
       "      <td>yes</td>\n",
       "      <td>no</td>\n",
       "      <td>unknown</td>\n",
       "      <td>5</td>\n",
       "      <td>may</td>\n",
       "      <td>261</td>\n",
       "      <td>1</td>\n",
       "      <td>-1</td>\n",
       "      <td>0</td>\n",
       "      <td>unknown</td>\n",
       "      <td>no</td>\n",
       "    </tr>\n",
       "    <tr>\n",
       "      <th>1</th>\n",
       "      <td>id2</td>\n",
       "      <td>44</td>\n",
       "      <td>technician</td>\n",
       "      <td>single</td>\n",
       "      <td>secondary</td>\n",
       "      <td>no</td>\n",
       "      <td>29.0</td>\n",
       "      <td>yes</td>\n",
       "      <td>no</td>\n",
       "      <td>unknown</td>\n",
       "      <td>5</td>\n",
       "      <td>may</td>\n",
       "      <td>151</td>\n",
       "      <td>1</td>\n",
       "      <td>-1</td>\n",
       "      <td>0</td>\n",
       "      <td>unknown</td>\n",
       "      <td>no</td>\n",
       "    </tr>\n",
       "    <tr>\n",
       "      <th>2</th>\n",
       "      <td>id3</td>\n",
       "      <td>33</td>\n",
       "      <td>entrepreneur</td>\n",
       "      <td>married</td>\n",
       "      <td>secondary</td>\n",
       "      <td>no</td>\n",
       "      <td>2.0</td>\n",
       "      <td>yes</td>\n",
       "      <td>yes</td>\n",
       "      <td>unknown</td>\n",
       "      <td>5</td>\n",
       "      <td>may</td>\n",
       "      <td>76</td>\n",
       "      <td>1</td>\n",
       "      <td>-1</td>\n",
       "      <td>0</td>\n",
       "      <td>unknown</td>\n",
       "      <td>no</td>\n",
       "    </tr>\n",
       "    <tr>\n",
       "      <th>3</th>\n",
       "      <td>id4</td>\n",
       "      <td>47</td>\n",
       "      <td>blue-collar</td>\n",
       "      <td>married</td>\n",
       "      <td>unknown</td>\n",
       "      <td>no</td>\n",
       "      <td>1506.0</td>\n",
       "      <td>yes</td>\n",
       "      <td>no</td>\n",
       "      <td>unknown</td>\n",
       "      <td>5</td>\n",
       "      <td>may</td>\n",
       "      <td>92</td>\n",
       "      <td>1</td>\n",
       "      <td>-1</td>\n",
       "      <td>0</td>\n",
       "      <td>unknown</td>\n",
       "      <td>no</td>\n",
       "    </tr>\n",
       "    <tr>\n",
       "      <th>4</th>\n",
       "      <td>id5</td>\n",
       "      <td>33</td>\n",
       "      <td>unknown</td>\n",
       "      <td>single</td>\n",
       "      <td>unknown</td>\n",
       "      <td>no</td>\n",
       "      <td>1.0</td>\n",
       "      <td>no</td>\n",
       "      <td>no</td>\n",
       "      <td>unknown</td>\n",
       "      <td>5</td>\n",
       "      <td>may</td>\n",
       "      <td>198</td>\n",
       "      <td>1</td>\n",
       "      <td>-1</td>\n",
       "      <td>0</td>\n",
       "      <td>unknown</td>\n",
       "      <td>no</td>\n",
       "    </tr>\n",
       "  </tbody>\n",
       "</table>\n",
       "</div>"
      ],
      "text/plain": [
       "    id  age           job  marital  education default  balance housing loan  \\\n",
       "0  id1   58    management  married   tertiary      no   2143.0     yes   no   \n",
       "1  id2   44    technician   single  secondary      no     29.0     yes   no   \n",
       "2  id3   33  entrepreneur  married  secondary      no      2.0     yes  yes   \n",
       "3  id4   47   blue-collar  married    unknown      no   1506.0     yes   no   \n",
       "4  id5   33       unknown   single    unknown      no      1.0      no   no   \n",
       "\n",
       "   contact  day month  duration  campaign  pdays  previous poutcome   y  \n",
       "0  unknown    5   may       261         1     -1         0  unknown  no  \n",
       "1  unknown    5   may       151         1     -1         0  unknown  no  \n",
       "2  unknown    5   may        76         1     -1         0  unknown  no  \n",
       "3  unknown    5   may        92         1     -1         0  unknown  no  \n",
       "4  unknown    5   may       198         1     -1         0  unknown  no  "
      ]
     },
     "execution_count": 19,
     "metadata": {},
     "output_type": "execute_result"
    }
   ],
   "source": [
    "# Caractéristique de la base de données df.head() qui permet de donner les 5 premières lignes de la base de données\n",
    "df.head()\n"
   ]
  },
  {
   "cell_type": "code",
   "execution_count": 20,
   "id": "6aba1845-d128-4021-8a1a-54f89364099b",
   "metadata": {},
   "outputs": [
    {
     "data": {
      "text/html": [
       "<div>\n",
       "<style scoped>\n",
       "    .dataframe tbody tr th:only-of-type {\n",
       "        vertical-align: middle;\n",
       "    }\n",
       "\n",
       "    .dataframe tbody tr th {\n",
       "        vertical-align: top;\n",
       "    }\n",
       "\n",
       "    .dataframe thead th {\n",
       "        text-align: right;\n",
       "    }\n",
       "</style>\n",
       "<table border=\"1\" class=\"dataframe\">\n",
       "  <thead>\n",
       "    <tr style=\"text-align: right;\">\n",
       "      <th></th>\n",
       "      <th>id</th>\n",
       "      <th>age</th>\n",
       "      <th>job</th>\n",
       "      <th>marital</th>\n",
       "      <th>education</th>\n",
       "      <th>default</th>\n",
       "      <th>balance</th>\n",
       "      <th>housing</th>\n",
       "      <th>loan</th>\n",
       "      <th>contact</th>\n",
       "      <th>day</th>\n",
       "      <th>month</th>\n",
       "      <th>duration</th>\n",
       "      <th>campaign</th>\n",
       "      <th>pdays</th>\n",
       "      <th>previous</th>\n",
       "      <th>poutcome</th>\n",
       "      <th>y</th>\n",
       "    </tr>\n",
       "  </thead>\n",
       "  <tbody>\n",
       "    <tr>\n",
       "      <th>45206</th>\n",
       "      <td>id45207</td>\n",
       "      <td>51</td>\n",
       "      <td>technician</td>\n",
       "      <td>married</td>\n",
       "      <td>tertiary</td>\n",
       "      <td>no</td>\n",
       "      <td>825.0</td>\n",
       "      <td>no</td>\n",
       "      <td>no</td>\n",
       "      <td>cellular</td>\n",
       "      <td>17</td>\n",
       "      <td>nov</td>\n",
       "      <td>977</td>\n",
       "      <td>3</td>\n",
       "      <td>-1</td>\n",
       "      <td>0</td>\n",
       "      <td>unknown</td>\n",
       "      <td>yes</td>\n",
       "    </tr>\n",
       "    <tr>\n",
       "      <th>45207</th>\n",
       "      <td>id45208</td>\n",
       "      <td>71</td>\n",
       "      <td>retired</td>\n",
       "      <td>divorced</td>\n",
       "      <td>primary</td>\n",
       "      <td>no</td>\n",
       "      <td>1729.0</td>\n",
       "      <td>no</td>\n",
       "      <td>no</td>\n",
       "      <td>cellular</td>\n",
       "      <td>17</td>\n",
       "      <td>nov</td>\n",
       "      <td>456</td>\n",
       "      <td>2</td>\n",
       "      <td>-1</td>\n",
       "      <td>0</td>\n",
       "      <td>unknown</td>\n",
       "      <td>yes</td>\n",
       "    </tr>\n",
       "    <tr>\n",
       "      <th>45208</th>\n",
       "      <td>id45209</td>\n",
       "      <td>72</td>\n",
       "      <td>retired</td>\n",
       "      <td>married</td>\n",
       "      <td>secondary</td>\n",
       "      <td>no</td>\n",
       "      <td>5715.0</td>\n",
       "      <td>no</td>\n",
       "      <td>no</td>\n",
       "      <td>cellular</td>\n",
       "      <td>17</td>\n",
       "      <td>nov</td>\n",
       "      <td>1127</td>\n",
       "      <td>5</td>\n",
       "      <td>184</td>\n",
       "      <td>3</td>\n",
       "      <td>success</td>\n",
       "      <td>yes</td>\n",
       "    </tr>\n",
       "    <tr>\n",
       "      <th>45209</th>\n",
       "      <td>id45210</td>\n",
       "      <td>57</td>\n",
       "      <td>blue-collar</td>\n",
       "      <td>married</td>\n",
       "      <td>secondary</td>\n",
       "      <td>no</td>\n",
       "      <td>668.0</td>\n",
       "      <td>no</td>\n",
       "      <td>no</td>\n",
       "      <td>telephone</td>\n",
       "      <td>17</td>\n",
       "      <td>nov</td>\n",
       "      <td>508</td>\n",
       "      <td>4</td>\n",
       "      <td>-1</td>\n",
       "      <td>0</td>\n",
       "      <td>unknown</td>\n",
       "      <td>no</td>\n",
       "    </tr>\n",
       "    <tr>\n",
       "      <th>45210</th>\n",
       "      <td>id45211</td>\n",
       "      <td>37</td>\n",
       "      <td>entrepreneur</td>\n",
       "      <td>married</td>\n",
       "      <td>secondary</td>\n",
       "      <td>no</td>\n",
       "      <td>2971.0</td>\n",
       "      <td>no</td>\n",
       "      <td>no</td>\n",
       "      <td>cellular</td>\n",
       "      <td>17</td>\n",
       "      <td>nov</td>\n",
       "      <td>361</td>\n",
       "      <td>2</td>\n",
       "      <td>188</td>\n",
       "      <td>11</td>\n",
       "      <td>other</td>\n",
       "      <td>no</td>\n",
       "    </tr>\n",
       "  </tbody>\n",
       "</table>\n",
       "</div>"
      ],
      "text/plain": [
       "            id  age           job   marital  education default  balance  \\\n",
       "45206  id45207   51    technician   married   tertiary      no    825.0   \n",
       "45207  id45208   71       retired  divorced    primary      no   1729.0   \n",
       "45208  id45209   72       retired   married  secondary      no   5715.0   \n",
       "45209  id45210   57   blue-collar   married  secondary      no    668.0   \n",
       "45210  id45211   37  entrepreneur   married  secondary      no   2971.0   \n",
       "\n",
       "      housing loan    contact  day month  duration  campaign  pdays  previous  \\\n",
       "45206      no   no   cellular   17   nov       977         3     -1         0   \n",
       "45207      no   no   cellular   17   nov       456         2     -1         0   \n",
       "45208      no   no   cellular   17   nov      1127         5    184         3   \n",
       "45209      no   no  telephone   17   nov       508         4     -1         0   \n",
       "45210      no   no   cellular   17   nov       361         2    188        11   \n",
       "\n",
       "      poutcome    y  \n",
       "45206  unknown  yes  \n",
       "45207  unknown  yes  \n",
       "45208  success  yes  \n",
       "45209  unknown   no  \n",
       "45210    other   no  "
      ]
     },
     "execution_count": 20,
     "metadata": {},
     "output_type": "execute_result"
    }
   ],
   "source": [
    "# df.tail permet de donner les 5 dernières lignes de la base de données\n",
    "df.tail()"
   ]
  },
  {
   "cell_type": "code",
   "execution_count": 22,
   "id": "df6523c5-9151-455d-9d10-30a5936137db",
   "metadata": {},
   "outputs": [
    {
     "data": {
      "text/plain": [
       "(45211, 18)"
      ]
     },
     "execution_count": 22,
     "metadata": {},
     "output_type": "execute_result"
    }
   ],
   "source": [
    "# df.shape permet de donner les caractéristiques de la base de données: Nombre de lignes et de colonnes\n",
    "df.shape"
   ]
  },
  {
   "cell_type": "code",
   "execution_count": 28,
   "id": "6073633f-1562-45b7-9f6f-933a2a6d694a",
   "metadata": {},
   "outputs": [
    {
     "data": {
      "text/plain": [
       "id            object\n",
       "age            int64\n",
       "job           object\n",
       "marital       object\n",
       "education     object\n",
       "default       object\n",
       "balance      float64\n",
       "housing       object\n",
       "loan          object\n",
       "contact       object\n",
       "day            int64\n",
       "month         object\n",
       "duration       int64\n",
       "campaign       int64\n",
       "pdays          int64\n",
       "previous       int64\n",
       "poutcome      object\n",
       "y             object\n",
       "dtype: object"
      ]
     },
     "execution_count": 28,
     "metadata": {},
     "output_type": "execute_result"
    }
   ],
   "source": [
    "# La nature des variables de la base de données. Il faut toujours se poser la question de la nature de ses variables pour faire\n",
    "# des visualisations pertinentes avec df.dtypes\n",
    "df.dtypes\n",
    "\n"
   ]
  },
  {
   "cell_type": "code",
   "execution_count": 29,
   "id": "b16e93c3-7e14-493b-a78e-c4f97864ae69",
   "metadata": {},
   "outputs": [
    {
     "data": {
      "text/html": [
       "<div>\n",
       "<style scoped>\n",
       "    .dataframe tbody tr th:only-of-type {\n",
       "        vertical-align: middle;\n",
       "    }\n",
       "\n",
       "    .dataframe tbody tr th {\n",
       "        vertical-align: top;\n",
       "    }\n",
       "\n",
       "    .dataframe thead th {\n",
       "        text-align: right;\n",
       "    }\n",
       "</style>\n",
       "<table border=\"1\" class=\"dataframe\">\n",
       "  <thead>\n",
       "    <tr style=\"text-align: right;\">\n",
       "      <th></th>\n",
       "      <th>age</th>\n",
       "      <th>balance</th>\n",
       "      <th>day</th>\n",
       "      <th>duration</th>\n",
       "      <th>campaign</th>\n",
       "      <th>pdays</th>\n",
       "      <th>previous</th>\n",
       "    </tr>\n",
       "  </thead>\n",
       "  <tbody>\n",
       "    <tr>\n",
       "      <th>count</th>\n",
       "      <td>45211.000000</td>\n",
       "      <td>45206.000000</td>\n",
       "      <td>45211.000000</td>\n",
       "      <td>45211.000000</td>\n",
       "      <td>45211.000000</td>\n",
       "      <td>45211.000000</td>\n",
       "      <td>45211.000000</td>\n",
       "    </tr>\n",
       "    <tr>\n",
       "      <th>mean</th>\n",
       "      <td>40.936210</td>\n",
       "      <td>1362.403707</td>\n",
       "      <td>15.806419</td>\n",
       "      <td>258.163080</td>\n",
       "      <td>2.763841</td>\n",
       "      <td>40.197828</td>\n",
       "      <td>0.580323</td>\n",
       "    </tr>\n",
       "    <tr>\n",
       "      <th>std</th>\n",
       "      <td>10.618762</td>\n",
       "      <td>3044.906741</td>\n",
       "      <td>8.322476</td>\n",
       "      <td>257.527812</td>\n",
       "      <td>3.098021</td>\n",
       "      <td>100.128746</td>\n",
       "      <td>2.303441</td>\n",
       "    </tr>\n",
       "    <tr>\n",
       "      <th>min</th>\n",
       "      <td>18.000000</td>\n",
       "      <td>-8019.000000</td>\n",
       "      <td>1.000000</td>\n",
       "      <td>0.000000</td>\n",
       "      <td>1.000000</td>\n",
       "      <td>-1.000000</td>\n",
       "      <td>0.000000</td>\n",
       "    </tr>\n",
       "    <tr>\n",
       "      <th>25%</th>\n",
       "      <td>33.000000</td>\n",
       "      <td>72.000000</td>\n",
       "      <td>8.000000</td>\n",
       "      <td>103.000000</td>\n",
       "      <td>1.000000</td>\n",
       "      <td>-1.000000</td>\n",
       "      <td>0.000000</td>\n",
       "    </tr>\n",
       "    <tr>\n",
       "      <th>50%</th>\n",
       "      <td>39.000000</td>\n",
       "      <td>448.000000</td>\n",
       "      <td>16.000000</td>\n",
       "      <td>180.000000</td>\n",
       "      <td>2.000000</td>\n",
       "      <td>-1.000000</td>\n",
       "      <td>0.000000</td>\n",
       "    </tr>\n",
       "    <tr>\n",
       "      <th>75%</th>\n",
       "      <td>48.000000</td>\n",
       "      <td>1428.000000</td>\n",
       "      <td>21.000000</td>\n",
       "      <td>319.000000</td>\n",
       "      <td>3.000000</td>\n",
       "      <td>-1.000000</td>\n",
       "      <td>0.000000</td>\n",
       "    </tr>\n",
       "    <tr>\n",
       "      <th>max</th>\n",
       "      <td>95.000000</td>\n",
       "      <td>102127.000000</td>\n",
       "      <td>31.000000</td>\n",
       "      <td>4918.000000</td>\n",
       "      <td>63.000000</td>\n",
       "      <td>871.000000</td>\n",
       "      <td>275.000000</td>\n",
       "    </tr>\n",
       "  </tbody>\n",
       "</table>\n",
       "</div>"
      ],
      "text/plain": [
       "                age        balance           day      duration      campaign  \\\n",
       "count  45211.000000   45206.000000  45211.000000  45211.000000  45211.000000   \n",
       "mean      40.936210    1362.403707     15.806419    258.163080      2.763841   \n",
       "std       10.618762    3044.906741      8.322476    257.527812      3.098021   \n",
       "min       18.000000   -8019.000000      1.000000      0.000000      1.000000   \n",
       "25%       33.000000      72.000000      8.000000    103.000000      1.000000   \n",
       "50%       39.000000     448.000000     16.000000    180.000000      2.000000   \n",
       "75%       48.000000    1428.000000     21.000000    319.000000      3.000000   \n",
       "max       95.000000  102127.000000     31.000000   4918.000000     63.000000   \n",
       "\n",
       "              pdays      previous  \n",
       "count  45211.000000  45211.000000  \n",
       "mean      40.197828      0.580323  \n",
       "std      100.128746      2.303441  \n",
       "min       -1.000000      0.000000  \n",
       "25%       -1.000000      0.000000  \n",
       "50%       -1.000000      0.000000  \n",
       "75%       -1.000000      0.000000  \n",
       "max      871.000000    275.000000  "
      ]
     },
     "execution_count": 29,
     "metadata": {},
     "output_type": "execute_result"
    }
   ],
   "source": [
    "# Description rapide de la base de données avec la fonction describe() qui ne concerne que les données quantitatives\n",
    "df.describe()"
   ]
  },
  {
   "cell_type": "code",
   "execution_count": 31,
   "id": "dcd65988-5d76-431b-9225-1a4bccd1135c",
   "metadata": {},
   "outputs": [
    {
     "data": {
      "text/html": [
       "<div>\n",
       "<style scoped>\n",
       "    .dataframe tbody tr th:only-of-type {\n",
       "        vertical-align: middle;\n",
       "    }\n",
       "\n",
       "    .dataframe tbody tr th {\n",
       "        vertical-align: top;\n",
       "    }\n",
       "\n",
       "    .dataframe thead th {\n",
       "        text-align: right;\n",
       "    }\n",
       "</style>\n",
       "<table border=\"1\" class=\"dataframe\">\n",
       "  <thead>\n",
       "    <tr style=\"text-align: right;\">\n",
       "      <th></th>\n",
       "      <th>id</th>\n",
       "      <th>age</th>\n",
       "      <th>job</th>\n",
       "      <th>marital</th>\n",
       "      <th>education</th>\n",
       "      <th>default</th>\n",
       "      <th>balance</th>\n",
       "      <th>housing</th>\n",
       "      <th>loan</th>\n",
       "      <th>contact</th>\n",
       "      <th>day</th>\n",
       "      <th>month</th>\n",
       "      <th>duration</th>\n",
       "      <th>campaign</th>\n",
       "      <th>pdays</th>\n",
       "      <th>previous</th>\n",
       "      <th>poutcome</th>\n",
       "      <th>y</th>\n",
       "    </tr>\n",
       "  </thead>\n",
       "  <tbody>\n",
       "    <tr>\n",
       "      <th>count</th>\n",
       "      <td>45211</td>\n",
       "      <td>45211.000000</td>\n",
       "      <td>45211</td>\n",
       "      <td>45211</td>\n",
       "      <td>45211</td>\n",
       "      <td>45211</td>\n",
       "      <td>45206.000000</td>\n",
       "      <td>45211</td>\n",
       "      <td>45211</td>\n",
       "      <td>45211</td>\n",
       "      <td>45211.000000</td>\n",
       "      <td>45211</td>\n",
       "      <td>45211.000000</td>\n",
       "      <td>45211.000000</td>\n",
       "      <td>45211.000000</td>\n",
       "      <td>45211.000000</td>\n",
       "      <td>45211</td>\n",
       "      <td>45211</td>\n",
       "    </tr>\n",
       "    <tr>\n",
       "      <th>unique</th>\n",
       "      <td>45211</td>\n",
       "      <td>NaN</td>\n",
       "      <td>12</td>\n",
       "      <td>3</td>\n",
       "      <td>4</td>\n",
       "      <td>2</td>\n",
       "      <td>NaN</td>\n",
       "      <td>2</td>\n",
       "      <td>2</td>\n",
       "      <td>3</td>\n",
       "      <td>NaN</td>\n",
       "      <td>12</td>\n",
       "      <td>NaN</td>\n",
       "      <td>NaN</td>\n",
       "      <td>NaN</td>\n",
       "      <td>NaN</td>\n",
       "      <td>4</td>\n",
       "      <td>2</td>\n",
       "    </tr>\n",
       "    <tr>\n",
       "      <th>top</th>\n",
       "      <td>id1</td>\n",
       "      <td>NaN</td>\n",
       "      <td>blue-collar</td>\n",
       "      <td>married</td>\n",
       "      <td>secondary</td>\n",
       "      <td>no</td>\n",
       "      <td>NaN</td>\n",
       "      <td>yes</td>\n",
       "      <td>no</td>\n",
       "      <td>cellular</td>\n",
       "      <td>NaN</td>\n",
       "      <td>may</td>\n",
       "      <td>NaN</td>\n",
       "      <td>NaN</td>\n",
       "      <td>NaN</td>\n",
       "      <td>NaN</td>\n",
       "      <td>unknown</td>\n",
       "      <td>no</td>\n",
       "    </tr>\n",
       "    <tr>\n",
       "      <th>freq</th>\n",
       "      <td>1</td>\n",
       "      <td>NaN</td>\n",
       "      <td>9732</td>\n",
       "      <td>27214</td>\n",
       "      <td>23202</td>\n",
       "      <td>44396</td>\n",
       "      <td>NaN</td>\n",
       "      <td>25130</td>\n",
       "      <td>37967</td>\n",
       "      <td>29285</td>\n",
       "      <td>NaN</td>\n",
       "      <td>13766</td>\n",
       "      <td>NaN</td>\n",
       "      <td>NaN</td>\n",
       "      <td>NaN</td>\n",
       "      <td>NaN</td>\n",
       "      <td>36959</td>\n",
       "      <td>39922</td>\n",
       "    </tr>\n",
       "    <tr>\n",
       "      <th>mean</th>\n",
       "      <td>NaN</td>\n",
       "      <td>40.936210</td>\n",
       "      <td>NaN</td>\n",
       "      <td>NaN</td>\n",
       "      <td>NaN</td>\n",
       "      <td>NaN</td>\n",
       "      <td>1362.403707</td>\n",
       "      <td>NaN</td>\n",
       "      <td>NaN</td>\n",
       "      <td>NaN</td>\n",
       "      <td>15.806419</td>\n",
       "      <td>NaN</td>\n",
       "      <td>258.163080</td>\n",
       "      <td>2.763841</td>\n",
       "      <td>40.197828</td>\n",
       "      <td>0.580323</td>\n",
       "      <td>NaN</td>\n",
       "      <td>NaN</td>\n",
       "    </tr>\n",
       "    <tr>\n",
       "      <th>std</th>\n",
       "      <td>NaN</td>\n",
       "      <td>10.618762</td>\n",
       "      <td>NaN</td>\n",
       "      <td>NaN</td>\n",
       "      <td>NaN</td>\n",
       "      <td>NaN</td>\n",
       "      <td>3044.906741</td>\n",
       "      <td>NaN</td>\n",
       "      <td>NaN</td>\n",
       "      <td>NaN</td>\n",
       "      <td>8.322476</td>\n",
       "      <td>NaN</td>\n",
       "      <td>257.527812</td>\n",
       "      <td>3.098021</td>\n",
       "      <td>100.128746</td>\n",
       "      <td>2.303441</td>\n",
       "      <td>NaN</td>\n",
       "      <td>NaN</td>\n",
       "    </tr>\n",
       "    <tr>\n",
       "      <th>min</th>\n",
       "      <td>NaN</td>\n",
       "      <td>18.000000</td>\n",
       "      <td>NaN</td>\n",
       "      <td>NaN</td>\n",
       "      <td>NaN</td>\n",
       "      <td>NaN</td>\n",
       "      <td>-8019.000000</td>\n",
       "      <td>NaN</td>\n",
       "      <td>NaN</td>\n",
       "      <td>NaN</td>\n",
       "      <td>1.000000</td>\n",
       "      <td>NaN</td>\n",
       "      <td>0.000000</td>\n",
       "      <td>1.000000</td>\n",
       "      <td>-1.000000</td>\n",
       "      <td>0.000000</td>\n",
       "      <td>NaN</td>\n",
       "      <td>NaN</td>\n",
       "    </tr>\n",
       "    <tr>\n",
       "      <th>25%</th>\n",
       "      <td>NaN</td>\n",
       "      <td>33.000000</td>\n",
       "      <td>NaN</td>\n",
       "      <td>NaN</td>\n",
       "      <td>NaN</td>\n",
       "      <td>NaN</td>\n",
       "      <td>72.000000</td>\n",
       "      <td>NaN</td>\n",
       "      <td>NaN</td>\n",
       "      <td>NaN</td>\n",
       "      <td>8.000000</td>\n",
       "      <td>NaN</td>\n",
       "      <td>103.000000</td>\n",
       "      <td>1.000000</td>\n",
       "      <td>-1.000000</td>\n",
       "      <td>0.000000</td>\n",
       "      <td>NaN</td>\n",
       "      <td>NaN</td>\n",
       "    </tr>\n",
       "    <tr>\n",
       "      <th>50%</th>\n",
       "      <td>NaN</td>\n",
       "      <td>39.000000</td>\n",
       "      <td>NaN</td>\n",
       "      <td>NaN</td>\n",
       "      <td>NaN</td>\n",
       "      <td>NaN</td>\n",
       "      <td>448.000000</td>\n",
       "      <td>NaN</td>\n",
       "      <td>NaN</td>\n",
       "      <td>NaN</td>\n",
       "      <td>16.000000</td>\n",
       "      <td>NaN</td>\n",
       "      <td>180.000000</td>\n",
       "      <td>2.000000</td>\n",
       "      <td>-1.000000</td>\n",
       "      <td>0.000000</td>\n",
       "      <td>NaN</td>\n",
       "      <td>NaN</td>\n",
       "    </tr>\n",
       "    <tr>\n",
       "      <th>75%</th>\n",
       "      <td>NaN</td>\n",
       "      <td>48.000000</td>\n",
       "      <td>NaN</td>\n",
       "      <td>NaN</td>\n",
       "      <td>NaN</td>\n",
       "      <td>NaN</td>\n",
       "      <td>1428.000000</td>\n",
       "      <td>NaN</td>\n",
       "      <td>NaN</td>\n",
       "      <td>NaN</td>\n",
       "      <td>21.000000</td>\n",
       "      <td>NaN</td>\n",
       "      <td>319.000000</td>\n",
       "      <td>3.000000</td>\n",
       "      <td>-1.000000</td>\n",
       "      <td>0.000000</td>\n",
       "      <td>NaN</td>\n",
       "      <td>NaN</td>\n",
       "    </tr>\n",
       "    <tr>\n",
       "      <th>max</th>\n",
       "      <td>NaN</td>\n",
       "      <td>95.000000</td>\n",
       "      <td>NaN</td>\n",
       "      <td>NaN</td>\n",
       "      <td>NaN</td>\n",
       "      <td>NaN</td>\n",
       "      <td>102127.000000</td>\n",
       "      <td>NaN</td>\n",
       "      <td>NaN</td>\n",
       "      <td>NaN</td>\n",
       "      <td>31.000000</td>\n",
       "      <td>NaN</td>\n",
       "      <td>4918.000000</td>\n",
       "      <td>63.000000</td>\n",
       "      <td>871.000000</td>\n",
       "      <td>275.000000</td>\n",
       "      <td>NaN</td>\n",
       "      <td>NaN</td>\n",
       "    </tr>\n",
       "  </tbody>\n",
       "</table>\n",
       "</div>"
      ],
      "text/plain": [
       "           id           age          job  marital  education default  \\\n",
       "count   45211  45211.000000        45211    45211      45211   45211   \n",
       "unique  45211           NaN           12        3          4       2   \n",
       "top       id1           NaN  blue-collar  married  secondary      no   \n",
       "freq        1           NaN         9732    27214      23202   44396   \n",
       "mean      NaN     40.936210          NaN      NaN        NaN     NaN   \n",
       "std       NaN     10.618762          NaN      NaN        NaN     NaN   \n",
       "min       NaN     18.000000          NaN      NaN        NaN     NaN   \n",
       "25%       NaN     33.000000          NaN      NaN        NaN     NaN   \n",
       "50%       NaN     39.000000          NaN      NaN        NaN     NaN   \n",
       "75%       NaN     48.000000          NaN      NaN        NaN     NaN   \n",
       "max       NaN     95.000000          NaN      NaN        NaN     NaN   \n",
       "\n",
       "              balance housing   loan   contact           day  month  \\\n",
       "count    45206.000000   45211  45211     45211  45211.000000  45211   \n",
       "unique            NaN       2      2         3           NaN     12   \n",
       "top               NaN     yes     no  cellular           NaN    may   \n",
       "freq              NaN   25130  37967     29285           NaN  13766   \n",
       "mean      1362.403707     NaN    NaN       NaN     15.806419    NaN   \n",
       "std       3044.906741     NaN    NaN       NaN      8.322476    NaN   \n",
       "min      -8019.000000     NaN    NaN       NaN      1.000000    NaN   \n",
       "25%         72.000000     NaN    NaN       NaN      8.000000    NaN   \n",
       "50%        448.000000     NaN    NaN       NaN     16.000000    NaN   \n",
       "75%       1428.000000     NaN    NaN       NaN     21.000000    NaN   \n",
       "max     102127.000000     NaN    NaN       NaN     31.000000    NaN   \n",
       "\n",
       "            duration      campaign         pdays      previous poutcome      y  \n",
       "count   45211.000000  45211.000000  45211.000000  45211.000000    45211  45211  \n",
       "unique           NaN           NaN           NaN           NaN        4      2  \n",
       "top              NaN           NaN           NaN           NaN  unknown     no  \n",
       "freq             NaN           NaN           NaN           NaN    36959  39922  \n",
       "mean      258.163080      2.763841     40.197828      0.580323      NaN    NaN  \n",
       "std       257.527812      3.098021    100.128746      2.303441      NaN    NaN  \n",
       "min         0.000000      1.000000     -1.000000      0.000000      NaN    NaN  \n",
       "25%       103.000000      1.000000     -1.000000      0.000000      NaN    NaN  \n",
       "50%       180.000000      2.000000     -1.000000      0.000000      NaN    NaN  \n",
       "75%       319.000000      3.000000     -1.000000      0.000000      NaN    NaN  \n",
       "max      4918.000000     63.000000    871.000000    275.000000      NaN    NaN  "
      ]
     },
     "execution_count": 31,
     "metadata": {},
     "output_type": "execute_result"
    }
   ],
   "source": [
    "# Pour ajouter les données qualitatives dans la description, df.describe(include = \"all\")\n",
    "df.describe(include = \"all\")"
   ]
  },
  {
   "cell_type": "code",
   "execution_count": 32,
   "id": "fe219158-f206-48c0-a854-f0207aca2c04",
   "metadata": {},
   "outputs": [
    {
     "data": {
      "text/plain": [
       "id           0.000000\n",
       "age          0.000000\n",
       "job          0.000000\n",
       "marital      0.000000\n",
       "education    0.000000\n",
       "default      0.000000\n",
       "balance      0.000111\n",
       "housing      0.000000\n",
       "loan         0.000000\n",
       "contact      0.000000\n",
       "day          0.000000\n",
       "month        0.000000\n",
       "duration     0.000000\n",
       "campaign     0.000000\n",
       "pdays        0.000000\n",
       "previous     0.000000\n",
       "poutcome     0.000000\n",
       "y            0.000000\n",
       "dtype: float64"
      ]
     },
     "execution_count": 32,
     "metadata": {},
     "output_type": "execute_result"
    }
   ],
   "source": [
    "# Pour voir les valeurs manquantes df.isnull().mean(). Le mean donne la proportion des valeurs manquantes par variable, la moyenne\n",
    "df.isnull().mean()"
   ]
  },
  {
   "cell_type": "code",
   "execution_count": 42,
   "id": "50ce6ba7-fc07-4e8f-87ed-2e6400aaf867",
   "metadata": {},
   "outputs": [
    {
     "data": {
      "text/html": [
       "<div>\n",
       "<style scoped>\n",
       "    .dataframe tbody tr th:only-of-type {\n",
       "        vertical-align: middle;\n",
       "    }\n",
       "\n",
       "    .dataframe tbody tr th {\n",
       "        vertical-align: top;\n",
       "    }\n",
       "\n",
       "    .dataframe thead th {\n",
       "        text-align: right;\n",
       "    }\n",
       "</style>\n",
       "<table border=\"1\" class=\"dataframe\">\n",
       "  <thead>\n",
       "    <tr style=\"text-align: right;\">\n",
       "      <th></th>\n",
       "      <th>age</th>\n",
       "      <th>balance</th>\n",
       "      <th>day</th>\n",
       "      <th>duration</th>\n",
       "      <th>campaign</th>\n",
       "      <th>pdays</th>\n",
       "      <th>previous</th>\n",
       "    </tr>\n",
       "  </thead>\n",
       "  <tbody>\n",
       "    <tr>\n",
       "      <th>count</th>\n",
       "      <td>45211.000000</td>\n",
       "      <td>45206.000000</td>\n",
       "      <td>45211.000000</td>\n",
       "      <td>45211.000000</td>\n",
       "      <td>45211.000000</td>\n",
       "      <td>45211.000000</td>\n",
       "      <td>45211.000000</td>\n",
       "    </tr>\n",
       "    <tr>\n",
       "      <th>mean</th>\n",
       "      <td>40.936210</td>\n",
       "      <td>1362.403707</td>\n",
       "      <td>15.806419</td>\n",
       "      <td>258.163080</td>\n",
       "      <td>2.763841</td>\n",
       "      <td>40.197828</td>\n",
       "      <td>0.580323</td>\n",
       "    </tr>\n",
       "    <tr>\n",
       "      <th>std</th>\n",
       "      <td>10.618762</td>\n",
       "      <td>3044.906741</td>\n",
       "      <td>8.322476</td>\n",
       "      <td>257.527812</td>\n",
       "      <td>3.098021</td>\n",
       "      <td>100.128746</td>\n",
       "      <td>2.303441</td>\n",
       "    </tr>\n",
       "    <tr>\n",
       "      <th>min</th>\n",
       "      <td>18.000000</td>\n",
       "      <td>-8019.000000</td>\n",
       "      <td>1.000000</td>\n",
       "      <td>0.000000</td>\n",
       "      <td>1.000000</td>\n",
       "      <td>-1.000000</td>\n",
       "      <td>0.000000</td>\n",
       "    </tr>\n",
       "    <tr>\n",
       "      <th>25%</th>\n",
       "      <td>33.000000</td>\n",
       "      <td>72.000000</td>\n",
       "      <td>8.000000</td>\n",
       "      <td>103.000000</td>\n",
       "      <td>1.000000</td>\n",
       "      <td>-1.000000</td>\n",
       "      <td>0.000000</td>\n",
       "    </tr>\n",
       "    <tr>\n",
       "      <th>50%</th>\n",
       "      <td>39.000000</td>\n",
       "      <td>448.000000</td>\n",
       "      <td>16.000000</td>\n",
       "      <td>180.000000</td>\n",
       "      <td>2.000000</td>\n",
       "      <td>-1.000000</td>\n",
       "      <td>0.000000</td>\n",
       "    </tr>\n",
       "    <tr>\n",
       "      <th>75%</th>\n",
       "      <td>48.000000</td>\n",
       "      <td>1428.000000</td>\n",
       "      <td>21.000000</td>\n",
       "      <td>319.000000</td>\n",
       "      <td>3.000000</td>\n",
       "      <td>-1.000000</td>\n",
       "      <td>0.000000</td>\n",
       "    </tr>\n",
       "    <tr>\n",
       "      <th>max</th>\n",
       "      <td>95.000000</td>\n",
       "      <td>102127.000000</td>\n",
       "      <td>31.000000</td>\n",
       "      <td>4918.000000</td>\n",
       "      <td>63.000000</td>\n",
       "      <td>871.000000</td>\n",
       "      <td>275.000000</td>\n",
       "    </tr>\n",
       "  </tbody>\n",
       "</table>\n",
       "</div>"
      ],
      "text/plain": [
       "                age        balance           day      duration      campaign  \\\n",
       "count  45211.000000   45206.000000  45211.000000  45211.000000  45211.000000   \n",
       "mean      40.936210    1362.403707     15.806419    258.163080      2.763841   \n",
       "std       10.618762    3044.906741      8.322476    257.527812      3.098021   \n",
       "min       18.000000   -8019.000000      1.000000      0.000000      1.000000   \n",
       "25%       33.000000      72.000000      8.000000    103.000000      1.000000   \n",
       "50%       39.000000     448.000000     16.000000    180.000000      2.000000   \n",
       "75%       48.000000    1428.000000     21.000000    319.000000      3.000000   \n",
       "max       95.000000  102127.000000     31.000000   4918.000000     63.000000   \n",
       "\n",
       "              pdays      previous  \n",
       "count  45211.000000  45211.000000  \n",
       "mean      40.197828      0.580323  \n",
       "std      100.128746      2.303441  \n",
       "min       -1.000000      0.000000  \n",
       "25%       -1.000000      0.000000  \n",
       "50%       -1.000000      0.000000  \n",
       "75%       -1.000000      0.000000  \n",
       "max      871.000000    275.000000  "
      ]
     },
     "execution_count": 42,
     "metadata": {},
     "output_type": "execute_result"
    }
   ],
   "source": [
    "clientsmajeurs = (df[df[\"age\"]>=18]) \n",
    "clientsmajeurs\n",
    "clientsmajeurs.describe()"
   ]
  },
  {
   "cell_type": "code",
   "execution_count": 44,
   "id": "ccf0e134-e2cb-4595-b55b-541001c17af8",
   "metadata": {},
   "outputs": [
    {
     "data": {
      "text/plain": [
       "Index(['id', 'age', 'job', 'marital', 'education', 'default', 'balance',\n",
       "       'housing', 'loan', 'contact', 'day', 'month', 'duration', 'campaign',\n",
       "       'pdays', 'previous', 'poutcome', 'y'],\n",
       "      dtype='object')"
      ]
     },
     "execution_count": 44,
     "metadata": {},
     "output_type": "execute_result"
    }
   ],
   "source": [
    "# Vue d'ensemble des colonnes sur lesquelles on va travailler avec df.colums\n",
    "df.columns"
   ]
  },
  {
   "cell_type": "markdown",
   "id": "1c861993-acaa-4d22-99c5-88fdb4ad2c7d",
   "metadata": {},
   "source": [
    "# La première étape à faire est d'effectuer des analyses univariées\n",
    "# Visualisation des variables quantitatives univariées"
   ]
  },
  {
   "cell_type": "markdown",
   "id": "19b2ca5c-c424-4f32-b74a-a2e927d56b5e",
   "metadata": {},
   "source": [
    "## L'HISTOGRAMME\n",
    "\n",
    "## C'est le graphique qui va nous donner une idée de la distribution de la variable: est-ce symétrique, asymétrique\n",
    "## Il est idéal pour montrer la distribution d'une variable quantitative.\n",
    "## Description : L'histogramme de visualiser la fréquence de chaque intervalle de valeurs facilitant la compréhension de la distribution des données\n",
    "\n",
    "## DIAGRAMME EN BOITE (BOXPLOT)\n",
    "\n",
    "### Usage :  Utilisé pour visualiser la répartition des données en termes de quartiles\n",
    "### Description : Il illustre la médiane, les quartiles,les valeurs aberrantes et est utiles pour identifier les anomalies et comparer les distributions\n",
    "\n",
    "## COURBE DE DENSITE\n",
    "\n",
    "### Usage : Parfait pour illustrer une variable continue\n",
    "### Description : C'est une version lissée de l'histogramme, offrant une distribution claire de la distribution des données.\n",
    "\n",
    "### Ces graphiques offrent des moyens efficaces de comprendre et d'analyser des caractéristiques essentielles des variables univariées."
   ]
  },
  {
   "cell_type": "markdown",
   "id": "c7194c8f-1a8d-4d88-87ca-ef1a72e1f62f",
   "metadata": {},
   "source": [
    "# Histogramme "
   ]
  },
  {
   "cell_type": "code",
   "execution_count": 46,
   "id": "8932bcb6-7b48-4e16-96b5-a4c79dd0758f",
   "metadata": {},
   "outputs": [],
   "source": [
    "# Import du package matplotlib et du module pyplot \n",
    "import matplotlib.pyplot as plt"
   ]
  },
  {
   "cell_type": "code",
   "execution_count": 60,
   "id": "948d1ab2-5f59-42ee-94d2-ba56075526d2",
   "metadata": {},
   "outputs": [],
   "source": [
    "df_clients_majeurs = df[df[\"age\"] >= 18]  # Sélectionne les clients majeurs\n"
   ]
  },
  {
   "cell_type": "code",
   "execution_count": 67,
   "id": "93079b83-3bfc-45f2-ba5b-65bfd8bb9b02",
   "metadata": {},
   "outputs": [
    {
     "data": {
      "text/plain": [
       "(array([ 1336., 11747., 12925.,  8015.,  7066.,  3312.,   377.,   303.,\n",
       "          116.,    14.]),\n",
       " array([18. , 25.7, 33.4, 41.1, 48.8, 56.5, 64.2, 71.9, 79.6, 87.3, 95. ]),\n",
       " <BarContainer object of 10 artists>)"
      ]
     },
     "execution_count": 67,
     "metadata": {},
     "output_type": "execute_result"
    },
    {
     "data": {
      "image/png": "[encoded data removed]",
      "text/plain": [
       "<Figure size 640x480 with 1 Axes>"
      ]
     },
     "metadata": {},
     "output_type": "display_data"
    }
   ],
   "source": [
    "# Histogramme de la variable age\n",
    "plt.hist(df_clients_majeurs[\"age\"])"
   ]
  },
  {
   "cell_type": "code",
   "execution_count": 91,
   "id": "2afea6c7-3cd2-4695-940b-3b73f2b19e4b",
   "metadata": {},
   "outputs": [
    {
     "data": {
      "image/png": "[encoded data removed]",
      "text/plain": [
       "<Figure size 640x480 with 1 Axes>"
      ]
     },
     "metadata": {},
     "output_type": "display_data"
    },
    {
     "data": {
      "text/plain": [
       "<Figure size 500x500 with 0 Axes>"
      ]
     },
     "metadata": {},
     "output_type": "display_data"
    }
   ],
   "source": [
    "# Personnaliser le graphique : couleur, titre des axes, bins\n",
    "plt.hist(df_clients_majeurs[\"age\"], color = \"BLUE\", bins = 10)\n",
    "plt.title(\"Histogramme des clients majeurs\")\n",
    "plt.xlabel(\"Ages\") # Pour donner un titre à l'axe des x\n",
    "plt.ylabel(\"effectifs\") # Pour donner un titre à l'axe des y\n",
    "plt.xticks(range(15,95, 5))\n",
    "plt.grid() # Pour faire des grilles \n",
    "plt.figure(figsize= (5,5)) # Taille du graphique \n",
    "plt.savefig(\"graphique.png\")\n",
    "plt.show() #Afficher le graphique sur "
   ]
  },
  {
   "cell_type": "code",
   "execution_count": 99,
   "id": "375401a8-9fce-4f23-aea3-1bd31d4755ae",
   "metadata": {},
   "outputs": [
    {
     "data": {
      "image/png": "[encoded data removed]",
      "text/plain": [
       "<Figure size 640x480 with 1 Axes>"
      ]
     },
     "metadata": {},
     "output_type": "display_data"
    }
   ],
   "source": [
    "plt.hist(df_clients_majeurs[\"age\"], bins = 10, color = \"Blue\")\n",
    "plt.xlabel(\"Age\")\n",
    "plt.ylabel(\"Effectifs\")\n",
    "plt.title(\"Répartion des effectifs des clients majeurs\")\n",
    "plt.savefig(\"Graphique_1.png\")"
   ]
  },
  {
   "cell_type": "code",
   "execution_count": null,
   "id": "b6635cee-4f62-4025-8ee3-98fef6a1f0a8",
   "metadata": {},
   "outputs": [],
   "source": []
  },
  {
   "cell_type": "markdown",
   "id": "4181baaa-12c1-47fd-aa6e-32e51784eb79",
   "metadata": {},
   "source": [
    "# Histogramme de la variable solde du compte (balance)\n",
    "plt.hist(df_clients_majeurs[\"balance\"], bins = 10, color = \"blue\" )\n",
    "plt.title(\"Solde des clients majeurs\")\n",
    "plt.xlabel(\"Crédit\")\n",
    "plt.ylabel(\"Effectifs\")\n"
   ]
  },
  {
   "cell_type": "code",
   "execution_count": 115,
   "id": "f128f5a3-318b-4194-8b7e-673a51822129",
   "metadata": {},
   "outputs": [
    {
     "data": {
      "image/png": "[encoded data removed]",
      "text/plain": [
       "<Figure size 640x480 with 1 Axes>"
      ]
     },
     "metadata": {},
     "output_type": "display_data"
    }
   ],
   "source": [
    "# Boxplot de la variable quantitative\n",
    "plt.boxplot(df_clients_majeurs[\"age\"])\n",
    "plt.title(\"Boxplot de la variable age\")\n",
    "plt.show()"
   ]
  },
  {
   "cell_type": "markdown",
   "id": "6fb7e34e-ed6f-441e-b7ae-d0919261eb8a",
   "metadata": {},
   "source": [
    "# Graphique de la variable quantitative avec Seaborn\n"
   ]
  },
  {
   "cell_type": "code",
   "execution_count": 2,
   "id": "0ce9f0bb-034a-4fca-926b-82a4b126f9a0",
   "metadata": {},
   "outputs": [],
   "source": [
    "# Importation de Seaborn\n",
    "import seaborn as sns"
   ]
  },
  {
   "cell_type": "code",
   "execution_count": 124,
   "id": "9b606ca4-eb2a-41ea-b9e9-ba19dac733d5",
   "metadata": {},
   "outputs": [
    {
     "name": "stderr",
     "output_type": "stream",
     "text": [
      "C:\\Users\\DIEDHIOU\\anaconda3\\Lib\\site-packages\\seaborn\\_oldcore.py:1119: FutureWarning: use_inf_as_na option is deprecated and will be removed in a future version. Convert inf values to NaN before operating instead.\n",
      "  with pd.option_context('mode.use_inf_as_na', True):\n"
     ]
    },
    {
     "data": {
      "text/plain": [
       "Text(0.5, 1.0, 'Histogramme de la dernière communication en secondes')"
      ]
     },
     "execution_count": 124,
     "metadata": {},
     "output_type": "execute_result"
    },
    {
     "data": {
      "image/png": "[encoded data removed]",
      "text/plain": [
       "<Figure size 640x480 with 1 Axes>"
      ]
     },
     "metadata": {},
     "output_type": "display_data"
    }
   ],
   "source": [
    "# Histogramme de la dernière durée de communication en secondes \n",
    "sns.histplot(df_clients_majeurs[\"duration\"], kde = True, color = \"blue\") #kde donne la courbe de densité\n",
    "plt.title(\"Histogramme de la dernière communication en secondes\")"
   ]
  },
  {
   "cell_type": "code",
   "execution_count": 129,
   "id": "ebb52eea-5e26-447c-97dd-bd6accd95436",
   "metadata": {},
   "outputs": [
    {
     "name": "stderr",
     "output_type": "stream",
     "text": [
      "C:\\Users\\DIEDHIOU\\anaconda3\\Lib\\site-packages\\seaborn\\categorical.py:1794: FutureWarning: use_inf_as_na option is deprecated and will be removed in a future version. Convert inf values to NaN before operating instead.\n",
      "  with pd.option_context('mode.use_inf_as_na', True):\n"
     ]
    },
    {
     "data": {
      "image/png": "[encoded data removed]",
      "text/plain": [
       "<Figure size 640x480 with 1 Axes>"
      ]
     },
     "metadata": {},
     "output_type": "display_data"
    }
   ],
   "source": [
    "sns.boxenplot(df_clients_majeurs[\"duration\"], color = \"blue\")\n",
    "plt.title(\"Boxplot de la variable duration\")\n",
    "plt.show()"
   ]
  },
  {
   "cell_type": "code",
   "execution_count": 132,
   "id": "06a7920c-3214-46fe-ad51-fb3464bf81f0",
   "metadata": {},
   "outputs": [
    {
     "name": "stderr",
     "output_type": "stream",
     "text": [
      "C:\\Users\\DIEDHIOU\\anaconda3\\Lib\\site-packages\\seaborn\\_oldcore.py:1119: FutureWarning: use_inf_as_na option is deprecated and will be removed in a future version. Convert inf values to NaN before operating instead.\n",
      "  with pd.option_context('mode.use_inf_as_na', True):\n"
     ]
    },
    {
     "data": {
      "text/plain": [
       "Text(0.5, 1.0, 'Courbe de densité de durée des derniers appels')"
      ]
     },
     "execution_count": 132,
     "metadata": {},
     "output_type": "execute_result"
    },
    {
     "data": {
      "image/png": "[encoded data removed]",
      "text/plain": [
       "<Figure size 640x480 with 1 Axes>"
      ]
     },
     "metadata": {},
     "output_type": "display_data"
    }
   ],
   "source": [
    "# Courbe de densité\n",
    "sns.kdeplot(df_clients_majeurs[\"duration\"], color = \"green\")\n",
    "plt.title(\"Courbe de densité de probabilité\")"
   ]
  },
  {
   "cell_type": "markdown",
   "id": "c85315d2-5623-40a5-b280-b293b0118440",
   "metadata": {},
   "source": [
    "# Visualisations univariées des variables qualitatives\n",
    "### Variables qualitatives : 2 graphiques recommandés\n",
    "#### Lors de l'analyse de variables qualitatives univariées, le choix du bon type de graphique revêt une importance capitale pour une interprétation \n",
    "### précise des données. \n",
    "#### Voici quelques graphiques couramment utilisés pour visualiser des variables qualitatives \n",
    "\n"
   ]
  },
  {
   "cell_type": "markdown",
   "id": "96a88cd5-7e0d-41b9-985c-d374cbbc0126",
   "metadata": {},
   "source": [
    "# Le Diagramme en barre \n",
    "### Usage : idéal pour représenter la fréquence ou la distribution de catégories distinctes.\n",
    "### Description : Utilise des barres verticales ou horizontales pour représenter la fréquence et le pourcentage de chaque catégorie.\n",
    "### Ce qui permet de comparer visuellement les catégories entre elles."
   ]
  },
  {
   "cell_type": "markdown",
   "id": "67c34ca6-3d37-4725-aa3d-7b465369c10e",
   "metadata": {},
   "source": [
    "# Le diagramme en secteurs (Camember)\n",
    "### Usage : Convient pour montrer la répartition des catégories en pourcentages\n",
    "### Description : Le diagramme en secteurs divise un cercle en sections proportionnelles à la \n",
    "### fréquence de chaque catégorie. Ce qui facilite la comparaison des proportionss.\n",
    "### Ces graphiques offrent des moyens efficaces de comprendre et d'analyser les caractéristiques\n",
    "### essentielles des variables qualitatives univariées. \n",
    "### Ils permettent de mettre en évidence la répartition des catégories et de visualiser les \n",
    "### les différences entre elles. Ce qui facilite l'interprétation des données qualitatives."
   ]
  },
  {
   "cell_type": "code",
   "execution_count": null,
   "id": "6e9bb8f6-c2b2-4e97-951e-ab10600f42b5",
   "metadata": {},
   "outputs": [],
   "source": []
  },
  {
   "cell_type": "markdown",
   "id": "b58cba14-583c-4e5e-92eb-0cf20d2472b8",
   "metadata": {},
   "source": [
    "# Diagramme en Barre avec matplotlib"
   ]
  },
  {
   "cell_type": "code",
   "execution_count": 134,
   "id": "8b2ff13b-01fc-4232-aacd-c46a882ab7d2",
   "metadata": {},
   "outputs": [
    {
     "data": {
      "text/plain": [
       "education\n",
       "secondary    23202\n",
       "tertiary     13301\n",
       "primary       6851\n",
       "unknown       1857\n",
       "Name: count, dtype: int64"
      ]
     },
     "execution_count": 134,
     "metadata": {},
     "output_type": "execute_result"
    }
   ],
   "source": [
    "# Diagramme en barre en terme  de nombre\n",
    "## Déteermination des effectifs par modalité. On a pour chaque modalité le nombre d'observations\n",
    "effectif = df_clients_majeurs[\"education\"].value_counts()\n",
    "effectif"
   ]
  },
  {
   "cell_type": "code",
   "execution_count": 139,
   "id": "327f8c7e-d543-402c-a4ee-b968fd1ace58",
   "metadata": {},
   "outputs": [
    {
     "data": {
      "text/html": [
       "<div>\n",
       "<style scoped>\n",
       "    .dataframe tbody tr th:only-of-type {\n",
       "        vertical-align: middle;\n",
       "    }\n",
       "\n",
       "    .dataframe tbody tr th {\n",
       "        vertical-align: top;\n",
       "    }\n",
       "\n",
       "    .dataframe thead th {\n",
       "        text-align: right;\n",
       "    }\n",
       "</style>\n",
       "<table border=\"1\" class=\"dataframe\">\n",
       "  <thead>\n",
       "    <tr style=\"text-align: right;\">\n",
       "      <th></th>\n",
       "      <th>education</th>\n",
       "      <th>count</th>\n",
       "    </tr>\n",
       "  </thead>\n",
       "  <tbody>\n",
       "    <tr>\n",
       "      <th>0</th>\n",
       "      <td>secondary</td>\n",
       "      <td>23202</td>\n",
       "    </tr>\n",
       "    <tr>\n",
       "      <th>1</th>\n",
       "      <td>tertiary</td>\n",
       "      <td>13301</td>\n",
       "    </tr>\n",
       "    <tr>\n",
       "      <th>2</th>\n",
       "      <td>primary</td>\n",
       "      <td>6851</td>\n",
       "    </tr>\n",
       "    <tr>\n",
       "      <th>3</th>\n",
       "      <td>unknown</td>\n",
       "      <td>1857</td>\n",
       "    </tr>\n",
       "  </tbody>\n",
       "</table>\n",
       "</div>"
      ],
      "text/plain": [
       "   education  count\n",
       "0  secondary  23202\n",
       "1   tertiary  13301\n",
       "2    primary   6851\n",
       "3    unknown   1857"
      ]
     },
     "execution_count": 139,
     "metadata": {},
     "output_type": "execute_result"
    }
   ],
   "source": [
    "# On transforme le précédent code en DataFrame. On utilise reset_index()\n",
    "effectif = df_clients_majeurs[\"education\"].value_counts().reset_index()\n",
    "effectif"
   ]
  },
  {
   "cell_type": "code",
   "execution_count": 174,
   "id": "d4b5c4f1-543b-49b9-830c-56f9020a9a88",
   "metadata": {},
   "outputs": [
    {
     "data": {
      "image/png": "[encoded data removed]",
      "text/plain": [
       "<Figure size 640x480 with 1 Axes>"
      ]
     },
     "metadata": {},
     "output_type": "display_data"
    }
   ],
   "source": [
    "effectif[\"proportion\"] = round(100*effectif[\"count\"]/effectif[\"count\"].sum())\n",
    "# Graphique \n",
    "plt.bar(effectif[\"education\"], effectif[\"proportion\"], color = \"skyblue\")\n",
    "plt.xlabel(\"Répartition par niveau d'éducation\")\n",
    "for i, freq in enumerate(effectif[\"proportion\"]):\n",
    "    plt.text(i, freq, str(freq),ha = \"center\", va = \"bottom\" )"
   ]
  },
  {
   "cell_type": "code",
   "execution_count": 170,
   "id": "503bd778-19b3-4566-803c-4d3b81fbd22c",
   "metadata": {},
   "outputs": [
    {
     "data": {
      "image/png": "[encoded data removed]",
      "text/plain": [
       "<Figure size 640x480 with 1 Axes>"
      ]
     },
     "metadata": {},
     "output_type": "display_data"
    }
   ],
   "source": [
    "# Graphique \n",
    "plt.bar(effectif[\"education\"], effectif[\"count\"], color = \"skyblue\")\n",
    "plt.xlabel(\"Répartition par niveau d'éducation\")\n",
    "for i, freq in enumerate(effectif[\"count\"]):\n",
    "    plt.text(i, freq, str(freq),ha = \"center\", va = \"bottom\" )"
   ]
  },
  {
   "cell_type": "code",
   "execution_count": 144,
   "id": "38a278c3-9743-4fd0-9116-90278e79734a",
   "metadata": {},
   "outputs": [
    {
     "data": {
      "text/plain": [
       "id            object\n",
       "age            int64\n",
       "job           object\n",
       "marital       object\n",
       "education     object\n",
       "default       object\n",
       "balance      float64\n",
       "housing       object\n",
       "loan          object\n",
       "contact       object\n",
       "day            int64\n",
       "month         object\n",
       "duration       int64\n",
       "campaign       int64\n",
       "pdays          int64\n",
       "previous       int64\n",
       "poutcome      object\n",
       "y             object\n",
       "dtype: object"
      ]
     },
     "execution_count": 144,
     "metadata": {},
     "output_type": "execute_result"
    }
   ],
   "source": [
    "df.dtypes"
   ]
  },
  {
   "cell_type": "code",
   "execution_count": 157,
   "id": "64d62950-8c0e-4eb3-b253-e542cacc19fe",
   "metadata": {},
   "outputs": [
    {
     "data": {
      "text/html": [
       "<div>\n",
       "<style scoped>\n",
       "    .dataframe tbody tr th:only-of-type {\n",
       "        vertical-align: middle;\n",
       "    }\n",
       "\n",
       "    .dataframe tbody tr th {\n",
       "        vertical-align: top;\n",
       "    }\n",
       "\n",
       "    .dataframe thead th {\n",
       "        text-align: right;\n",
       "    }\n",
       "</style>\n",
       "<table border=\"1\" class=\"dataframe\">\n",
       "  <thead>\n",
       "    <tr style=\"text-align: right;\">\n",
       "      <th></th>\n",
       "      <th>marital</th>\n",
       "      <th>count</th>\n",
       "    </tr>\n",
       "  </thead>\n",
       "  <tbody>\n",
       "    <tr>\n",
       "      <th>0</th>\n",
       "      <td>married</td>\n",
       "      <td>27214</td>\n",
       "    </tr>\n",
       "    <tr>\n",
       "      <th>1</th>\n",
       "      <td>single</td>\n",
       "      <td>12790</td>\n",
       "    </tr>\n",
       "    <tr>\n",
       "      <th>2</th>\n",
       "      <td>divorced</td>\n",
       "      <td>5207</td>\n",
       "    </tr>\n",
       "  </tbody>\n",
       "</table>\n",
       "</div>"
      ],
      "text/plain": [
       "    marital  count\n",
       "0   married  27214\n",
       "1    single  12790\n",
       "2  divorced   5207"
      ]
     },
     "execution_count": 157,
     "metadata": {},
     "output_type": "execute_result"
    }
   ],
   "source": [
    "# Effectifs matrimoniaux\n",
    "effectifs_matrimoniaux = df_clients_majeurs[\"marital\"].value_counts().reset_index()\n",
    "effectifs_matrimoniaux"
   ]
  },
  {
   "cell_type": "code",
   "execution_count": 168,
   "id": "c09f50c0-2742-4783-9f7f-c9c33cd7d152",
   "metadata": {},
   "outputs": [
    {
     "data": {
      "image/png": "[encoded data removed]",
      "text/plain": [
       "<Figure size 640x480 with 1 Axes>"
      ]
     },
     "metadata": {},
     "output_type": "display_data"
    }
   ],
   "source": [
    "# Transformation en Dataframe\n",
    "plt.bar(effectifs_matrimoniaux[\"marital\"], effectifs_matrimoniaux[\"count\"], color = \"skyblue\")\n",
    "plt.title(\"Répartition des clients suivant la situation matrimoniale\")\n",
    "plt.bar(effectif[\"education\"], effectif[\"count\"], color = \"skyblue\")\n",
    "plt.xlabel(\"Répartition par niveau d'éducation\")\n",
    "for i, freq in enumerate(effectifs_matrimoniaux[\"count\"]):\n",
    "    plt.text(i, freq, str(freq),ha = \"center\", va = \"bottom\" )\n"
   ]
  },
  {
   "cell_type": "code",
   "execution_count": 148,
   "id": "73faca45-5dc6-40a2-a5ac-ab62bedbe61e",
   "metadata": {},
   "outputs": [
    {
     "name": "stdout",
     "output_type": "stream",
     "text": [
      "marital\n",
      "married     27214\n",
      "single      12790\n",
      "divorced     5207\n",
      "Name: count, dtype: int64\n"
     ]
    }
   ],
   "source": [
    "print(effectifs_matrimoniaux.head())\n"
   ]
  },
  {
   "cell_type": "code",
   "execution_count": 150,
   "id": "e23f5e05-1300-49c3-a616-34595a7a80a8",
   "metadata": {},
   "outputs": [],
   "source": [
    "import matplotlib as plt"
   ]
  },
  {
   "cell_type": "code",
   "execution_count": 179,
   "id": "b02c83c2-0e81-4cab-9a11-c93f64de25d4",
   "metadata": {},
   "outputs": [
    {
     "data": {
      "text/plain": [
       "([<matplotlib.patches.Wedge at 0x236551b39d0>,\n",
       "  <matplotlib.patches.Wedge at 0x2365c79b550>,\n",
       "  <matplotlib.patches.Wedge at 0x2365c28b1d0>,\n",
       "  <matplotlib.patches.Wedge at 0x2365c5b5a10>],\n",
       " [Text(-0.04558098562748042, 1.0990552186988731, 'secondary'),\n",
       "  Text(-0.5876997095948636, -0.9298435628330785, 'tertiary'),\n",
       "  Text(0.8166522528681857, -0.7369390055393439, 'primary'),\n",
       "  Text(1.0908547224334193, -0.1415484883165761, 'unknown')],\n",
       " [Text(-0.024862355796807498, 0.5994846647448397, '51.3%'),\n",
       "  Text(-0.3205634779608347, -0.5071873979089518, '29.4%'),\n",
       "  Text(0.44544668338264665, -0.4019667302941875, '15.2%'),\n",
       "  Text(0.595011666781865, -0.07720826635449606, '4.1%')])"
      ]
     },
     "execution_count": 179,
     "metadata": {},
     "output_type": "execute_result"
    },
    {
     "data": {
      "image/png": "[encoded data removed]",
      "text/plain": [
       "<Figure size 640x480 with 1 Axes>"
      ]
     },
     "metadata": {},
     "output_type": "display_data"
    }
   ],
   "source": [
    "# Réaliser un pie chart\n",
    "plt.pie(effectif[\"count\"], labels = effectif[\"education\"],autopct =\"%1.1f%%\" )"
   ]
  },
  {
   "cell_type": "markdown",
   "id": "cd2041cc-9628-49cd-81f5-d0e700593caf",
   "metadata": {},
   "source": [
    "# Barplot avec seaborn "
   ]
  },
  {
   "cell_type": "code",
   "execution_count": 183,
   "id": "d0b5cf1f-d924-424f-a89a-981443451477",
   "metadata": {},
   "outputs": [
    {
     "data": {
      "image/png": "[encoded data removed]",
      "text/plain": [
       "<Figure size 640x480 with 1 Axes>"
      ]
     },
     "metadata": {},
     "output_type": "display_data"
    }
   ],
   "source": [
    "sns.barplot(x=\"education\", y = \"count\", data = effectif)\n",
    "for i, freq in enumerate(effectif[\"proportion\"]):\n",
    "    plt.text(i, freq, str(freq),ha = \"center\", va = \"bottom\" )"
   ]
  },
  {
   "cell_type": "markdown",
   "id": "7203c7ea-f9eb-4e65-82b1-259a4e5b1347",
   "metadata": {},
   "source": [
    "# Analyse des variables qualitatives vs quantitatives\n",
    "\n",
    "### Pour visualiser des relation entre une variable quantitative et une variable qualitative,\n",
    "### on peut utiliser plusieurs types de graphiques en fonction de la nature de nos \n",
    "### données.\n",
    "### Voici trois types de graphiques adaptés à ces types de variables : \n",
    "\n",
    "# Boxplot et Violonplot\n",
    "\n",
    "### Usage : Utile pour visualiser la distribution des valeurs quantitatives enen fonction des catégories qualitatives.\n",
    "### Description : Les boîtes (Boxplots) et les violons (Violint plots) présentent la distribution des valeurs quantitatives pour chaque catégorie\n",
    "### qualitative. Les boîtes montrent les quartiles et les médianes, tandis que les violons montrent la densité de probabilité. \n",
    "### Cela permet de comprendre la distribution des valeurs entre les catégories qualitatives.\n",
    "\n",
    "# Barplot avec sous-groupes (Grouped Barplot)\n",
    "\n",
    "### Usage : Idéal pour comparer des valeurs quantitatives entre les différentes catégories qualitatives. \n",
    "### Description : Un barplot avec sous-groupes affiche des barres pour chaque catégorie qualitative et à l'intérieur de chaque barre pour chauque\n",
    "### barre, il y a des sous-groupes qui représentent les valeurs quantitatives. \n",
    "### Cela permet de comparer visuellement les valeurs quantitatives entre les catégories qualitatives."
   ]
  },
  {
   "cell_type": "code",
   "execution_count": null,
   "id": "4c2ddecd-c3a3-4f67-ac84-322e9bb2b8da",
   "metadata": {},
   "outputs": [],
   "source": []
  },
  {
   "cell_type": "markdown",
   "id": "ebe4a81c-85d3-45b0-9329-ab969916a6af",
   "metadata": {},
   "source": [
    "# Boxplot entre la variable y et l'age "
   ]
  },
  {
   "cell_type": "code",
   "execution_count": 184,
   "id": "751bb714-c12d-4479-af80-3309099564b3",
   "metadata": {},
   "outputs": [
    {
     "data": {
      "text/plain": [
       "<Axes: xlabel='y', ylabel='duration'>"
      ]
     },
     "execution_count": 184,
     "metadata": {},
     "output_type": "execute_result"
    },
    {
     "data": {
      "image/png": "[encoded data removed]",
      "text/plain": [
       "<Figure size 640x480 with 1 Axes>"
      ]
     },
     "metadata": {},
     "output_type": "display_data"
    }
   ],
   "source": [
    "sns.boxplot(x=\"y\", y = \"duration\", data=df_clients_majeurs)"
   ]
  },
  {
   "cell_type": "code",
   "execution_count": 19,
   "id": "719dc51d-c3e5-41b7-8347-e414e55a6e37",
   "metadata": {},
   "outputs": [
    {
     "data": {
      "text/plain": [
       "<Axes: xlabel='y', ylabel='age'>"
      ]
     },
     "execution_count": 19,
     "metadata": {},
     "output_type": "execute_result"
    },
    {
     "data": {
      "image/png": "[encoded data removed]",
      "text/plain": [
       "<Figure size 640x480 with 1 Axes>"
      ]
     },
     "metadata": {},
     "output_type": "display_data"
    }
   ],
   "source": [
    "sns.boxplot(x=\"y\", y=\"age\", data=clients_majeurs)\n",
    "# Dans ce graphique, la médiane n'est pas un indicateur pertinent de décision. Elle est presque identique sur les deux."
   ]
  },
  {
   "cell_type": "code",
   "execution_count": 21,
   "id": "1f6d3e67-8970-430a-8bb2-9a7c5c40a968",
   "metadata": {},
   "outputs": [
    {
     "data": {
      "text/plain": [
       "<Axes: xlabel='y', ylabel='duration'>"
      ]
     },
     "execution_count": 21,
     "metadata": {},
     "output_type": "execute_result"
    },
    {
     "data": {
      "image/png": "[encoded data removed]",
      "text/plain": [
       "<Figure size 640x480 with 1 Axes>"
      ]
     },
     "metadata": {},
     "output_type": "display_data"
    }
   ],
   "source": [
    "# Le violinplot donne presque la même information que le bobplot\n",
    "sns.violinplot(x=\"y\", y = \"duration\", data = clients_majeurs)"
   ]
  },
  {
   "cell_type": "markdown",
   "id": "d3916067-d1ef-4d34-8bd6-e98a94638ae2",
   "metadata": {},
   "source": [
    "# Graphique bivarié entre 2 variables qualitatives \n",
    "\n",
    "### Lors de l'analyse de relation entre 2 variables qualitatives, il est important de choisir les bonnes méthodes de visualisation pour comprendre\n",
    "### les tendances et les associations.\n",
    "### Voici 2 types de graphiques bivariés adaptés à ces types de variables\n",
    "\n",
    "# Le tableau croisé (Tableau de contingence)\n",
    "\n",
    "### Usage : Idéal pour explorer les relations entre 2 variables qualitatives en comptant les fréquences conjointes.\n",
    "### Description : Le tableau croisé affiche le nombre d'occureences pour chaque combinaison de catégories des deux variables qualitatives.\n",
    "### Il permet de visualiser les associations et les tendances entre les variables.\n",
    "\n",
    "# Le Diagramme en barres\n",
    "\n",
    "### Usage : Utile pour comparer les fréquences ou les proportions de différentes catégories d'une variable qualitative en fonction d'une autre.\n",
    "### Description : Le diagramme en barres affiche en barres verticales ou horizontales pour chaque catégorie de la variable qualitative étudiée.\n",
    "### Cela permet de comparer visuellement les fréquences ou les proportions de catégorie par rapport à une autre variable qualitative."
   ]
  },
  {
   "cell_type": "code",
   "execution_count": 25,
   "id": "b54072b9-ec27-4ff2-8aca-693ffb8778fc",
   "metadata": {},
   "outputs": [],
   "source": [
    "df_clients_majeurs = df[df[\"age\"] > 18]  # Filtre les clients ayant plus de 18 ans\n"
   ]
  },
  {
   "cell_type": "code",
   "execution_count": 23,
   "id": "731a51a1-dcac-40cb-8bb0-15d5cb2bd682",
   "metadata": {},
   "outputs": [],
   "source": [
    "import pandas as pd"
   ]
  },
  {
   "cell_type": "code",
   "execution_count": 27,
   "id": "3f8fd0ce-2dcb-4c4a-9d64-4547540fe66a",
   "metadata": {},
   "outputs": [
    {
     "data": {
      "text/html": [
       "<div>\n",
       "<style scoped>\n",
       "    .dataframe tbody tr th:only-of-type {\n",
       "        vertical-align: middle;\n",
       "    }\n",
       "\n",
       "    .dataframe tbody tr th {\n",
       "        vertical-align: top;\n",
       "    }\n",
       "\n",
       "    .dataframe thead th {\n",
       "        text-align: right;\n",
       "    }\n",
       "</style>\n",
       "<table border=\"1\" class=\"dataframe\">\n",
       "  <thead>\n",
       "    <tr style=\"text-align: right;\">\n",
       "      <th>education</th>\n",
       "      <th>primary</th>\n",
       "      <th>secondary</th>\n",
       "      <th>tertiary</th>\n",
       "      <th>unknown</th>\n",
       "    </tr>\n",
       "    <tr>\n",
       "      <th>y</th>\n",
       "      <th></th>\n",
       "      <th></th>\n",
       "      <th></th>\n",
       "      <th></th>\n",
       "    </tr>\n",
       "  </thead>\n",
       "  <tbody>\n",
       "    <tr>\n",
       "      <th>no</th>\n",
       "      <td>6257</td>\n",
       "      <td>20747</td>\n",
       "      <td>11302</td>\n",
       "      <td>1603</td>\n",
       "    </tr>\n",
       "    <tr>\n",
       "      <th>yes</th>\n",
       "      <td>589</td>\n",
       "      <td>2450</td>\n",
       "      <td>1996</td>\n",
       "      <td>247</td>\n",
       "    </tr>\n",
       "  </tbody>\n",
       "</table>\n",
       "</div>"
      ],
      "text/plain": [
       "education  primary  secondary  tertiary  unknown\n",
       "y                                               \n",
       "no            6257      20747     11302     1603\n",
       "yes            589       2450      1996      247"
      ]
     },
     "execution_count": 27,
     "metadata": {},
     "output_type": "execute_result"
    }
   ],
   "source": [
    "# Créer le tableau de contingence\n",
    "table_contingence = pd.crosstab(df_clients_majeurs[\"y\"], df_clients_majeurs[\"education\"])\n",
    "table_contingence"
   ]
  },
  {
   "cell_type": "code",
   "execution_count": 28,
   "id": "d252a841-2097-4439-91f4-8cd24c40fadc",
   "metadata": {},
   "outputs": [
    {
     "data": {
      "text/plain": [
       "<Axes: xlabel='y', ylabel='count'>"
      ]
     },
     "execution_count": 28,
     "metadata": {},
     "output_type": "execute_result"
    },
    {
     "data": {
      "image/png": "[encoded data removed]",
      "text/plain": [
       "<Figure size 640x480 with 1 Axes>"
      ]
     },
     "metadata": {},
     "output_type": "display_data"
    }
   ],
   "source": [
    "#  Faire le counplot qui nous donne la répartition par modalité.\n",
    "sns.countplot(x=\"y\", hue = \"education\", data=df_clients_majeurs)"
   ]
  },
  {
   "cell_type": "code",
   "execution_count": 22,
   "id": "663df2e6-5345-489e-95aa-4638620ab42f",
   "metadata": {},
   "outputs": [
    {
     "data": {
      "text/html": [
       "<div>\n",
       "<style scoped>\n",
       "    .dataframe tbody tr th:only-of-type {\n",
       "        vertical-align: middle;\n",
       "    }\n",
       "\n",
       "    .dataframe tbody tr th {\n",
       "        vertical-align: top;\n",
       "    }\n",
       "\n",
       "    .dataframe thead th {\n",
       "        text-align: right;\n",
       "    }\n",
       "</style>\n",
       "<table border=\"1\" class=\"dataframe\">\n",
       "  <thead>\n",
       "    <tr style=\"text-align: right;\">\n",
       "      <th></th>\n",
       "      <th>id</th>\n",
       "      <th>age</th>\n",
       "      <th>job</th>\n",
       "      <th>marital</th>\n",
       "      <th>education</th>\n",
       "      <th>default</th>\n",
       "      <th>balance</th>\n",
       "      <th>housing</th>\n",
       "      <th>loan</th>\n",
       "      <th>contact</th>\n",
       "      <th>day</th>\n",
       "      <th>month</th>\n",
       "      <th>duration</th>\n",
       "      <th>campaign</th>\n",
       "      <th>pdays</th>\n",
       "      <th>previous</th>\n",
       "      <th>poutcome</th>\n",
       "      <th>y</th>\n",
       "    </tr>\n",
       "  </thead>\n",
       "  <tbody>\n",
       "    <tr>\n",
       "      <th>0</th>\n",
       "      <td>id1</td>\n",
       "      <td>58</td>\n",
       "      <td>management</td>\n",
       "      <td>married</td>\n",
       "      <td>tertiary</td>\n",
       "      <td>no</td>\n",
       "      <td>2143.0</td>\n",
       "      <td>yes</td>\n",
       "      <td>no</td>\n",
       "      <td>unknown</td>\n",
       "      <td>5</td>\n",
       "      <td>may</td>\n",
       "      <td>261</td>\n",
       "      <td>1</td>\n",
       "      <td>-1</td>\n",
       "      <td>0</td>\n",
       "      <td>unknown</td>\n",
       "      <td>no</td>\n",
       "    </tr>\n",
       "    <tr>\n",
       "      <th>1</th>\n",
       "      <td>id2</td>\n",
       "      <td>44</td>\n",
       "      <td>technician</td>\n",
       "      <td>single</td>\n",
       "      <td>secondary</td>\n",
       "      <td>no</td>\n",
       "      <td>29.0</td>\n",
       "      <td>yes</td>\n",
       "      <td>no</td>\n",
       "      <td>unknown</td>\n",
       "      <td>5</td>\n",
       "      <td>may</td>\n",
       "      <td>151</td>\n",
       "      <td>1</td>\n",
       "      <td>-1</td>\n",
       "      <td>0</td>\n",
       "      <td>unknown</td>\n",
       "      <td>no</td>\n",
       "    </tr>\n",
       "    <tr>\n",
       "      <th>2</th>\n",
       "      <td>id3</td>\n",
       "      <td>33</td>\n",
       "      <td>entrepreneur</td>\n",
       "      <td>married</td>\n",
       "      <td>secondary</td>\n",
       "      <td>no</td>\n",
       "      <td>2.0</td>\n",
       "      <td>yes</td>\n",
       "      <td>yes</td>\n",
       "      <td>unknown</td>\n",
       "      <td>5</td>\n",
       "      <td>may</td>\n",
       "      <td>76</td>\n",
       "      <td>1</td>\n",
       "      <td>-1</td>\n",
       "      <td>0</td>\n",
       "      <td>unknown</td>\n",
       "      <td>no</td>\n",
       "    </tr>\n",
       "    <tr>\n",
       "      <th>3</th>\n",
       "      <td>id4</td>\n",
       "      <td>47</td>\n",
       "      <td>blue-collar</td>\n",
       "      <td>married</td>\n",
       "      <td>unknown</td>\n",
       "      <td>no</td>\n",
       "      <td>1506.0</td>\n",
       "      <td>yes</td>\n",
       "      <td>no</td>\n",
       "      <td>unknown</td>\n",
       "      <td>5</td>\n",
       "      <td>may</td>\n",
       "      <td>92</td>\n",
       "      <td>1</td>\n",
       "      <td>-1</td>\n",
       "      <td>0</td>\n",
       "      <td>unknown</td>\n",
       "      <td>no</td>\n",
       "    </tr>\n",
       "    <tr>\n",
       "      <th>4</th>\n",
       "      <td>id5</td>\n",
       "      <td>33</td>\n",
       "      <td>unknown</td>\n",
       "      <td>single</td>\n",
       "      <td>unknown</td>\n",
       "      <td>no</td>\n",
       "      <td>1.0</td>\n",
       "      <td>no</td>\n",
       "      <td>no</td>\n",
       "      <td>unknown</td>\n",
       "      <td>5</td>\n",
       "      <td>may</td>\n",
       "      <td>198</td>\n",
       "      <td>1</td>\n",
       "      <td>-1</td>\n",
       "      <td>0</td>\n",
       "      <td>unknown</td>\n",
       "      <td>no</td>\n",
       "    </tr>\n",
       "    <tr>\n",
       "      <th>...</th>\n",
       "      <td>...</td>\n",
       "      <td>...</td>\n",
       "      <td>...</td>\n",
       "      <td>...</td>\n",
       "      <td>...</td>\n",
       "      <td>...</td>\n",
       "      <td>...</td>\n",
       "      <td>...</td>\n",
       "      <td>...</td>\n",
       "      <td>...</td>\n",
       "      <td>...</td>\n",
       "      <td>...</td>\n",
       "      <td>...</td>\n",
       "      <td>...</td>\n",
       "      <td>...</td>\n",
       "      <td>...</td>\n",
       "      <td>...</td>\n",
       "      <td>...</td>\n",
       "    </tr>\n",
       "    <tr>\n",
       "      <th>45206</th>\n",
       "      <td>id45207</td>\n",
       "      <td>51</td>\n",
       "      <td>technician</td>\n",
       "      <td>married</td>\n",
       "      <td>tertiary</td>\n",
       "      <td>no</td>\n",
       "      <td>825.0</td>\n",
       "      <td>no</td>\n",
       "      <td>no</td>\n",
       "      <td>cellular</td>\n",
       "      <td>17</td>\n",
       "      <td>nov</td>\n",
       "      <td>977</td>\n",
       "      <td>3</td>\n",
       "      <td>-1</td>\n",
       "      <td>0</td>\n",
       "      <td>unknown</td>\n",
       "      <td>yes</td>\n",
       "    </tr>\n",
       "    <tr>\n",
       "      <th>45207</th>\n",
       "      <td>id45208</td>\n",
       "      <td>71</td>\n",
       "      <td>retired</td>\n",
       "      <td>divorced</td>\n",
       "      <td>primary</td>\n",
       "      <td>no</td>\n",
       "      <td>1729.0</td>\n",
       "      <td>no</td>\n",
       "      <td>no</td>\n",
       "      <td>cellular</td>\n",
       "      <td>17</td>\n",
       "      <td>nov</td>\n",
       "      <td>456</td>\n",
       "      <td>2</td>\n",
       "      <td>-1</td>\n",
       "      <td>0</td>\n",
       "      <td>unknown</td>\n",
       "      <td>yes</td>\n",
       "    </tr>\n",
       "    <tr>\n",
       "      <th>45208</th>\n",
       "      <td>id45209</td>\n",
       "      <td>72</td>\n",
       "      <td>retired</td>\n",
       "      <td>married</td>\n",
       "      <td>secondary</td>\n",
       "      <td>no</td>\n",
       "      <td>5715.0</td>\n",
       "      <td>no</td>\n",
       "      <td>no</td>\n",
       "      <td>cellular</td>\n",
       "      <td>17</td>\n",
       "      <td>nov</td>\n",
       "      <td>1127</td>\n",
       "      <td>5</td>\n",
       "      <td>184</td>\n",
       "      <td>3</td>\n",
       "      <td>success</td>\n",
       "      <td>yes</td>\n",
       "    </tr>\n",
       "    <tr>\n",
       "      <th>45209</th>\n",
       "      <td>id45210</td>\n",
       "      <td>57</td>\n",
       "      <td>blue-collar</td>\n",
       "      <td>married</td>\n",
       "      <td>secondary</td>\n",
       "      <td>no</td>\n",
       "      <td>668.0</td>\n",
       "      <td>no</td>\n",
       "      <td>no</td>\n",
       "      <td>telephone</td>\n",
       "      <td>17</td>\n",
       "      <td>nov</td>\n",
       "      <td>508</td>\n",
       "      <td>4</td>\n",
       "      <td>-1</td>\n",
       "      <td>0</td>\n",
       "      <td>unknown</td>\n",
       "      <td>no</td>\n",
       "    </tr>\n",
       "    <tr>\n",
       "      <th>45210</th>\n",
       "      <td>id45211</td>\n",
       "      <td>37</td>\n",
       "      <td>entrepreneur</td>\n",
       "      <td>married</td>\n",
       "      <td>secondary</td>\n",
       "      <td>no</td>\n",
       "      <td>2971.0</td>\n",
       "      <td>no</td>\n",
       "      <td>no</td>\n",
       "      <td>cellular</td>\n",
       "      <td>17</td>\n",
       "      <td>nov</td>\n",
       "      <td>361</td>\n",
       "      <td>2</td>\n",
       "      <td>188</td>\n",
       "      <td>11</td>\n",
       "      <td>other</td>\n",
       "      <td>no</td>\n",
       "    </tr>\n",
       "  </tbody>\n",
       "</table>\n",
       "<p>45203 rows × 18 columns</p>\n",
       "</div>"
      ],
      "text/plain": [
       "            id  age           job   marital  education default  balance  \\\n",
       "0          id1   58    management   married   tertiary      no   2143.0   \n",
       "1          id2   44    technician    single  secondary      no     29.0   \n",
       "2          id3   33  entrepreneur   married  secondary      no      2.0   \n",
       "3          id4   47   blue-collar   married    unknown      no   1506.0   \n",
       "4          id5   33       unknown    single    unknown      no      1.0   \n",
       "...        ...  ...           ...       ...        ...     ...      ...   \n",
       "45206  id45207   51    technician   married   tertiary      no    825.0   \n",
       "45207  id45208   71       retired  divorced    primary      no   1729.0   \n",
       "45208  id45209   72       retired   married  secondary      no   5715.0   \n",
       "45209  id45210   57   blue-collar   married  secondary      no    668.0   \n",
       "45210  id45211   37  entrepreneur   married  secondary      no   2971.0   \n",
       "\n",
       "      housing loan    contact  day month  duration  campaign  pdays  previous  \\\n",
       "0         yes   no    unknown    5   may       261         1     -1         0   \n",
       "1         yes   no    unknown    5   may       151         1     -1         0   \n",
       "2         yes  yes    unknown    5   may        76         1     -1         0   \n",
       "3         yes   no    unknown    5   may        92         1     -1         0   \n",
       "4          no   no    unknown    5   may       198         1     -1         0   \n",
       "...       ...  ...        ...  ...   ...       ...       ...    ...       ...   \n",
       "45206      no   no   cellular   17   nov       977         3     -1         0   \n",
       "45207      no   no   cellular   17   nov       456         2     -1         0   \n",
       "45208      no   no   cellular   17   nov      1127         5    184         3   \n",
       "45209      no   no  telephone   17   nov       508         4     -1         0   \n",
       "45210      no   no   cellular   17   nov       361         2    188        11   \n",
       "\n",
       "      poutcome    y  \n",
       "0      unknown   no  \n",
       "1      unknown   no  \n",
       "2      unknown   no  \n",
       "3      unknown   no  \n",
       "4      unknown   no  \n",
       "...        ...  ...  \n",
       "45206  unknown  yes  \n",
       "45207  unknown  yes  \n",
       "45208  success  yes  \n",
       "45209  unknown   no  \n",
       "45210    other   no  \n",
       "\n",
       "[45203 rows x 18 columns]"
      ]
     },
     "execution_count": 22,
     "metadata": {},
     "output_type": "execute_result"
    }
   ],
   "source": [
    "clients_majeurs = df[df[\"age\"] >= 18]\n",
    "clients_majeurs"
   ]
  },
  {
   "cell_type": "code",
   "execution_count": 23,
   "id": "28cf1808-bd0a-403d-b904-8f0b4199c810",
   "metadata": {},
   "outputs": [
    {
     "ename": "NameError",
     "evalue": "name 'df_clients_majeurs' is not defined",
     "output_type": "error",
     "traceback": [
      "\u001b[1;31m---------------------------------------------------------------------------\u001b[0m",
      "\u001b[1;31mNameError\u001b[0m                                 Traceback (most recent call last)",
      "Cell \u001b[1;32mIn[23], line 3\u001b[0m\n\u001b[0;32m      1\u001b[0m \u001b[38;5;66;03m# Proportion Option Normalize \u001b[39;00m\n\u001b[1;32m----> 3\u001b[0m prop_table \u001b[38;5;241m=\u001b[39m df_clients_majeurs\u001b[38;5;241m.\u001b[39mgroupby(\u001b[38;5;124m\"\u001b[39m\u001b[38;5;124my\u001b[39m\u001b[38;5;124m\"\u001b[39m)[\u001b[38;5;124m\"\u001b[39m\u001b[38;5;124meducation\u001b[39m\u001b[38;5;124m\"\u001b[39m]\u001b[38;5;241m.\u001b[39mvalue_counts(normalize \u001b[38;5;241m=\u001b[39m \u001b[38;5;28;01mTrue\u001b[39;00m)\u001b[38;5;241m.\u001b[39mreset_index(name\u001b[38;5;241m=\u001b[39m\u001b[38;5;124m\"\u001b[39m\u001b[38;5;124mproportion\u001b[39m\u001b[38;5;124m\"\u001b[39m)\n\u001b[0;32m      4\u001b[0m prop_table\n",
      "\u001b[1;31mNameError\u001b[0m: name 'df_clients_majeurs' is not defined"
     ]
    }
   ],
   "source": [
    "# Proportion Option Normalize \n",
    "\n",
    "prop_table = df_clients_majeurs.groupby(\"y\")[\"education\"].value_counts(normalize = True).reset_index(name=\"proportion\")\n",
    "prop_table"
   ]
  },
  {
   "cell_type": "code",
   "execution_count": 20,
   "id": "56c92781-ea84-43fe-82e9-043d5b65abb1",
   "metadata": {},
   "outputs": [
    {
     "data": {
      "text/html": [
       "<div>\n",
       "<style scoped>\n",
       "    .dataframe tbody tr th:only-of-type {\n",
       "        vertical-align: middle;\n",
       "    }\n",
       "\n",
       "    .dataframe tbody tr th {\n",
       "        vertical-align: top;\n",
       "    }\n",
       "\n",
       "    .dataframe thead th {\n",
       "        text-align: right;\n",
       "    }\n",
       "</style>\n",
       "<table border=\"1\" class=\"dataframe\">\n",
       "  <thead>\n",
       "    <tr style=\"text-align: right;\">\n",
       "      <th></th>\n",
       "      <th>id</th>\n",
       "      <th>age</th>\n",
       "      <th>job</th>\n",
       "      <th>marital</th>\n",
       "      <th>education</th>\n",
       "      <th>default</th>\n",
       "      <th>balance</th>\n",
       "      <th>housing</th>\n",
       "      <th>loan</th>\n",
       "      <th>contact</th>\n",
       "      <th>day</th>\n",
       "      <th>month</th>\n",
       "      <th>duration</th>\n",
       "      <th>campaign</th>\n",
       "      <th>pdays</th>\n",
       "      <th>previous</th>\n",
       "      <th>poutcome</th>\n",
       "      <th>y</th>\n",
       "    </tr>\n",
       "  </thead>\n",
       "  <tbody>\n",
       "    <tr>\n",
       "      <th>0</th>\n",
       "      <td>id1</td>\n",
       "      <td>58</td>\n",
       "      <td>management</td>\n",
       "      <td>married</td>\n",
       "      <td>tertiary</td>\n",
       "      <td>no</td>\n",
       "      <td>2143.0</td>\n",
       "      <td>yes</td>\n",
       "      <td>no</td>\n",
       "      <td>unknown</td>\n",
       "      <td>5</td>\n",
       "      <td>may</td>\n",
       "      <td>261</td>\n",
       "      <td>1</td>\n",
       "      <td>-1</td>\n",
       "      <td>0</td>\n",
       "      <td>unknown</td>\n",
       "      <td>no</td>\n",
       "    </tr>\n",
       "    <tr>\n",
       "      <th>1</th>\n",
       "      <td>id2</td>\n",
       "      <td>44</td>\n",
       "      <td>technician</td>\n",
       "      <td>single</td>\n",
       "      <td>secondary</td>\n",
       "      <td>no</td>\n",
       "      <td>29.0</td>\n",
       "      <td>yes</td>\n",
       "      <td>no</td>\n",
       "      <td>unknown</td>\n",
       "      <td>5</td>\n",
       "      <td>may</td>\n",
       "      <td>151</td>\n",
       "      <td>1</td>\n",
       "      <td>-1</td>\n",
       "      <td>0</td>\n",
       "      <td>unknown</td>\n",
       "      <td>no</td>\n",
       "    </tr>\n",
       "    <tr>\n",
       "      <th>2</th>\n",
       "      <td>id3</td>\n",
       "      <td>33</td>\n",
       "      <td>entrepreneur</td>\n",
       "      <td>married</td>\n",
       "      <td>secondary</td>\n",
       "      <td>no</td>\n",
       "      <td>2.0</td>\n",
       "      <td>yes</td>\n",
       "      <td>yes</td>\n",
       "      <td>unknown</td>\n",
       "      <td>5</td>\n",
       "      <td>may</td>\n",
       "      <td>76</td>\n",
       "      <td>1</td>\n",
       "      <td>-1</td>\n",
       "      <td>0</td>\n",
       "      <td>unknown</td>\n",
       "      <td>no</td>\n",
       "    </tr>\n",
       "    <tr>\n",
       "      <th>3</th>\n",
       "      <td>id4</td>\n",
       "      <td>47</td>\n",
       "      <td>blue-collar</td>\n",
       "      <td>married</td>\n",
       "      <td>unknown</td>\n",
       "      <td>no</td>\n",
       "      <td>1506.0</td>\n",
       "      <td>yes</td>\n",
       "      <td>no</td>\n",
       "      <td>unknown</td>\n",
       "      <td>5</td>\n",
       "      <td>may</td>\n",
       "      <td>92</td>\n",
       "      <td>1</td>\n",
       "      <td>-1</td>\n",
       "      <td>0</td>\n",
       "      <td>unknown</td>\n",
       "      <td>no</td>\n",
       "    </tr>\n",
       "    <tr>\n",
       "      <th>4</th>\n",
       "      <td>id5</td>\n",
       "      <td>33</td>\n",
       "      <td>unknown</td>\n",
       "      <td>single</td>\n",
       "      <td>unknown</td>\n",
       "      <td>no</td>\n",
       "      <td>1.0</td>\n",
       "      <td>no</td>\n",
       "      <td>no</td>\n",
       "      <td>unknown</td>\n",
       "      <td>5</td>\n",
       "      <td>may</td>\n",
       "      <td>198</td>\n",
       "      <td>1</td>\n",
       "      <td>-1</td>\n",
       "      <td>0</td>\n",
       "      <td>unknown</td>\n",
       "      <td>no</td>\n",
       "    </tr>\n",
       "    <tr>\n",
       "      <th>...</th>\n",
       "      <td>...</td>\n",
       "      <td>...</td>\n",
       "      <td>...</td>\n",
       "      <td>...</td>\n",
       "      <td>...</td>\n",
       "      <td>...</td>\n",
       "      <td>...</td>\n",
       "      <td>...</td>\n",
       "      <td>...</td>\n",
       "      <td>...</td>\n",
       "      <td>...</td>\n",
       "      <td>...</td>\n",
       "      <td>...</td>\n",
       "      <td>...</td>\n",
       "      <td>...</td>\n",
       "      <td>...</td>\n",
       "      <td>...</td>\n",
       "      <td>...</td>\n",
       "    </tr>\n",
       "    <tr>\n",
       "      <th>45206</th>\n",
       "      <td>id45207</td>\n",
       "      <td>51</td>\n",
       "      <td>technician</td>\n",
       "      <td>married</td>\n",
       "      <td>tertiary</td>\n",
       "      <td>no</td>\n",
       "      <td>825.0</td>\n",
       "      <td>no</td>\n",
       "      <td>no</td>\n",
       "      <td>cellular</td>\n",
       "      <td>17</td>\n",
       "      <td>nov</td>\n",
       "      <td>977</td>\n",
       "      <td>3</td>\n",
       "      <td>-1</td>\n",
       "      <td>0</td>\n",
       "      <td>unknown</td>\n",
       "      <td>yes</td>\n",
       "    </tr>\n",
       "    <tr>\n",
       "      <th>45207</th>\n",
       "      <td>id45208</td>\n",
       "      <td>71</td>\n",
       "      <td>retired</td>\n",
       "      <td>divorced</td>\n",
       "      <td>primary</td>\n",
       "      <td>no</td>\n",
       "      <td>1729.0</td>\n",
       "      <td>no</td>\n",
       "      <td>no</td>\n",
       "      <td>cellular</td>\n",
       "      <td>17</td>\n",
       "      <td>nov</td>\n",
       "      <td>456</td>\n",
       "      <td>2</td>\n",
       "      <td>-1</td>\n",
       "      <td>0</td>\n",
       "      <td>unknown</td>\n",
       "      <td>yes</td>\n",
       "    </tr>\n",
       "    <tr>\n",
       "      <th>45208</th>\n",
       "      <td>id45209</td>\n",
       "      <td>72</td>\n",
       "      <td>retired</td>\n",
       "      <td>married</td>\n",
       "      <td>secondary</td>\n",
       "      <td>no</td>\n",
       "      <td>5715.0</td>\n",
       "      <td>no</td>\n",
       "      <td>no</td>\n",
       "      <td>cellular</td>\n",
       "      <td>17</td>\n",
       "      <td>nov</td>\n",
       "      <td>1127</td>\n",
       "      <td>5</td>\n",
       "      <td>184</td>\n",
       "      <td>3</td>\n",
       "      <td>success</td>\n",
       "      <td>yes</td>\n",
       "    </tr>\n",
       "    <tr>\n",
       "      <th>45209</th>\n",
       "      <td>id45210</td>\n",
       "      <td>57</td>\n",
       "      <td>blue-collar</td>\n",
       "      <td>married</td>\n",
       "      <td>secondary</td>\n",
       "      <td>no</td>\n",
       "      <td>668.0</td>\n",
       "      <td>no</td>\n",
       "      <td>no</td>\n",
       "      <td>telephone</td>\n",
       "      <td>17</td>\n",
       "      <td>nov</td>\n",
       "      <td>508</td>\n",
       "      <td>4</td>\n",
       "      <td>-1</td>\n",
       "      <td>0</td>\n",
       "      <td>unknown</td>\n",
       "      <td>no</td>\n",
       "    </tr>\n",
       "    <tr>\n",
       "      <th>45210</th>\n",
       "      <td>id45211</td>\n",
       "      <td>37</td>\n",
       "      <td>entrepreneur</td>\n",
       "      <td>married</td>\n",
       "      <td>secondary</td>\n",
       "      <td>no</td>\n",
       "      <td>2971.0</td>\n",
       "      <td>no</td>\n",
       "      <td>no</td>\n",
       "      <td>cellular</td>\n",
       "      <td>17</td>\n",
       "      <td>nov</td>\n",
       "      <td>361</td>\n",
       "      <td>2</td>\n",
       "      <td>188</td>\n",
       "      <td>11</td>\n",
       "      <td>other</td>\n",
       "      <td>no</td>\n",
       "    </tr>\n",
       "  </tbody>\n",
       "</table>\n",
       "<p>45203 rows × 18 columns</p>\n",
       "</div>"
      ],
      "text/plain": [
       "            id  age           job   marital  education default  balance  \\\n",
       "0          id1   58    management   married   tertiary      no   2143.0   \n",
       "1          id2   44    technician    single  secondary      no     29.0   \n",
       "2          id3   33  entrepreneur   married  secondary      no      2.0   \n",
       "3          id4   47   blue-collar   married    unknown      no   1506.0   \n",
       "4          id5   33       unknown    single    unknown      no      1.0   \n",
       "...        ...  ...           ...       ...        ...     ...      ...   \n",
       "45206  id45207   51    technician   married   tertiary      no    825.0   \n",
       "45207  id45208   71       retired  divorced    primary      no   1729.0   \n",
       "45208  id45209   72       retired   married  secondary      no   5715.0   \n",
       "45209  id45210   57   blue-collar   married  secondary      no    668.0   \n",
       "45210  id45211   37  entrepreneur   married  secondary      no   2971.0   \n",
       "\n",
       "      housing loan    contact  day month  duration  campaign  pdays  previous  \\\n",
       "0         yes   no    unknown    5   may       261         1     -1         0   \n",
       "1         yes   no    unknown    5   may       151         1     -1         0   \n",
       "2         yes  yes    unknown    5   may        76         1     -1         0   \n",
       "3         yes   no    unknown    5   may        92         1     -1         0   \n",
       "4          no   no    unknown    5   may       198         1     -1         0   \n",
       "...       ...  ...        ...  ...   ...       ...       ...    ...       ...   \n",
       "45206      no   no   cellular   17   nov       977         3     -1         0   \n",
       "45207      no   no   cellular   17   nov       456         2     -1         0   \n",
       "45208      no   no   cellular   17   nov      1127         5    184         3   \n",
       "45209      no   no  telephone   17   nov       508         4     -1         0   \n",
       "45210      no   no   cellular   17   nov       361         2    188        11   \n",
       "\n",
       "      poutcome    y  \n",
       "0      unknown   no  \n",
       "1      unknown   no  \n",
       "2      unknown   no  \n",
       "3      unknown   no  \n",
       "4      unknown   no  \n",
       "...        ...  ...  \n",
       "45206  unknown  yes  \n",
       "45207  unknown  yes  \n",
       "45208  success  yes  \n",
       "45209  unknown   no  \n",
       "45210    other   no  \n",
       "\n",
       "[45203 rows x 18 columns]"
      ]
     },
     "execution_count": 20,
     "metadata": {},
     "output_type": "execute_result"
    }
   ],
   "source": [
    "clients_majeurs = df[df[\"age\"] >= 18]\n",
    "clients_majeurs"
   ]
  },
  {
   "cell_type": "code",
   "execution_count": 19,
   "id": "536eb42f-a4f6-449e-9d45-f460f8255703",
   "metadata": {},
   "outputs": [
    {
     "ename": "NameError",
     "evalue": "name 'prop_table' is not defined",
     "output_type": "error",
     "traceback": [
      "\u001b[1;31m---------------------------------------------------------------------------\u001b[0m",
      "\u001b[1;31mNameError\u001b[0m                                 Traceback (most recent call last)",
      "Cell \u001b[1;32mIn[19], line 5\u001b[0m\n\u001b[0;32m      2\u001b[0m \u001b[38;5;28;01mimport\u001b[39;00m \u001b[38;5;21;01mseaborn\u001b[39;00m \u001b[38;5;28;01mas\u001b[39;00m \u001b[38;5;21;01msns\u001b[39;00m\n\u001b[0;32m      3\u001b[0m \u001b[38;5;28;01mimport\u001b[39;00m \u001b[38;5;21;01mmatplotlib\u001b[39;00m\n\u001b[1;32m----> 5\u001b[0m sns\u001b[38;5;241m.\u001b[39mbarplot(x\u001b[38;5;241m=\u001b[39m \u001b[38;5;124m\"\u001b[39m\u001b[38;5;124my\u001b[39m\u001b[38;5;124m\"\u001b[39m, y \u001b[38;5;241m=\u001b[39m \u001b[38;5;124m\"\u001b[39m\u001b[38;5;124mproportion\u001b[39m\u001b[38;5;124m\"\u001b[39m, hue \u001b[38;5;241m=\u001b[39m \u001b[38;5;124m\"\u001b[39m\u001b[38;5;124meducation\u001b[39m\u001b[38;5;124m\"\u001b[39m, data \u001b[38;5;241m=\u001b[39m prop_table)\n",
      "\u001b[1;31mNameError\u001b[0m: name 'prop_table' is not defined"
     ]
    }
   ],
   "source": [
    "# Calculer les proportions pour chaque catégorie de y et education de manière à ce que la somme soit égale à 1\n",
    "import seaborn as sns\n",
    "import matplotlib\n",
    "\n",
    "sns.barplot(x= \"y\", y = \"proportion\", hue = \"education\", data = prop_table)\n"
   ]
  },
  {
   "cell_type": "markdown",
   "id": "4d5e6e8d-dcaf-48c9-aa57-a6b301a6210d",
   "metadata": {},
   "source": [
    "# Le Scatterplot (Nuage de points)\n",
    "\n",
    "### Usage : Idéal pour visualiser la relation entre deux variables quantitatives contines.\n",
    "### Description : Scatterplot affiche les points de données individuelles dans un espace pour identifier des tendances, des modèles ou \n",
    "### corrélations entre deux variables.\n",
    "### Une corrélatiion positive est indiquée lorsque les points se déplacent dans la même direction , tandis qu'une corrélation négative \n",
    "### est indiquée lorsque les points se déplacent des directions opposées.\n",
    "\n",
    "# Heatmap de corrélation\n",
    "\n",
    "### Usage : Utile pour quantifier et visualiser la corrélation entre plusieurs paires de variables quantitatives.\n",
    "### Description : La Heatmap de corrélation est un graphique matriciel qui attribue des couleurs aux coéfficients de corrélation entre les paires\n",
    "### de variables quantitatives. Elle permet de quantifier la force et la direction de la corrélation entre les variables. \n",
    "### Les valeurs proches de 1 indiquent une corrélation positive forte. Les valeurs proches de -1 indiquent une corrélation négative forte.\n",
    "### Une valeur proche de 0 indique une faible corrélation.\n",
    "\n",
    "### Ces graphiques offrent des moyens puissants d'explorer et d'analyser les relation entre deu variables quantitatives. \n",
    "### Le scatterplot permet une visualisation directe des données brutes tandis que la heatmat de corrélation permet d'obtenir une vue d'ensemble \n",
    "### de la corrélation entre plusieurs paires de variables."
   ]
  },
  {
   "cell_type": "code",
   "execution_count": 28,
   "id": "26223751-8607-4379-91f6-9242a9957699",
   "metadata": {},
   "outputs": [
    {
     "ename": "AttributeError",
     "evalue": "module 'matplotlib.pyplot' has no attribute 's'",
     "output_type": "error",
     "traceback": [
      "\u001b[1;31m---------------------------------------------------------------------------\u001b[0m",
      "\u001b[1;31mAttributeError\u001b[0m                            Traceback (most recent call last)",
      "Cell \u001b[1;32mIn[28], line 5\u001b[0m\n\u001b[0;32m      3\u001b[0m \u001b[38;5;28;01mimport\u001b[39;00m \u001b[38;5;21;01mmatplotlib\u001b[39;00m\u001b[38;5;21;01m.\u001b[39;00m\u001b[38;5;21;01mpyplot\u001b[39;00m \u001b[38;5;28;01mas\u001b[39;00m \u001b[38;5;21;01mplt\u001b[39;00m\n\u001b[0;32m      4\u001b[0m \u001b[38;5;28;01mimport\u001b[39;00m \u001b[38;5;21;01mseaborn\u001b[39;00m \u001b[38;5;28;01mas\u001b[39;00m \u001b[38;5;21;01msns\u001b[39;00m\n\u001b[1;32m----> 5\u001b[0m plt\u001b[38;5;241m.\u001b[39ms(df_clients_majeurs[\u001b[38;5;124m\"\u001b[39m\u001b[38;5;124mduration\u001b[39m\u001b[38;5;124m\"\u001b[39m], df_clients_majeurs[\u001b[38;5;124m\"\u001b[39m\u001b[38;5;124mage\u001b[39m\u001b[38;5;124m\"\u001b[39m], c\u001b[38;5;241m=\u001b[39m \u001b[38;5;124m\"\u001b[39m\u001b[38;5;124mblue\u001b[39m\u001b[38;5;124m\"\u001b[39m)\n",
      "\u001b[1;31mAttributeError\u001b[0m: module 'matplotlib.pyplot' has no attribute 's'"
     ]
    }
   ],
   "source": [
    "# Scatterplot avec Matplotlib entre la duration et l'age\n",
    "\n",
    "import matplotlib.pyplot as plt\n",
    "import seaborn as sns\n",
    "plt.s(df_clients_majeurs[\"duration\"], df_clients_majeurs[\"age\"], c= \"blue\")"
   ]
  },
  {
   "cell_type": "markdown",
   "id": "c3adc500-fce2-4de5-9a85-9b0ae022c77a",
   "metadata": {},
   "source": [
    "# Bilan \n",
    "### Les fonctions \n",
    "### Les types de données en Python\n",
    "### Visualisation des données en Python"
   ]
  },
  {
   "cell_type": "code",
   "execution_count": null,
   "id": "e97804f5-319a-4b7f-b83f-f0b7a0829908",
   "metadata": {},
   "outputs": [],
   "source": [
    "# Fonction Calculatrice : Créer une fonction calculatrice deux nombres et un opérateur et retourne le résultat de l'opération\n",
    "\n",
    "def calculatrice():\n",
    "    print(\"Bienvenue dans la calculatrice !\")\n",
    "    print(\"Choisissez une opération :\")\n",
    "    print(\"1 : Addition\")\n",
    "    print(\"2 : Soustraction\")\n",
    "    print(\"3 : Multiplication\")\n",
    "    print(\"4 : Division\")\n",
    "    \n",
    "    # Demander à l'utilisateur de choisir une opération\n",
    "    choix = input(\"Entrez le numéro de l'opération : \")\n",
    "    \n",
    "    # Vérifier si le choix est valide\n",
    "    if choix not in ['1', '2', '3', '4']:\n",
    "        print(\"Choix invalide. Veuillez réessayer.\")\n",
    "        return\n",
    "    \n",
    "    # Demander les deux nombres\n",
    "    try:\n",
    "        x = float(input(\"Entrez le premier nombre : \"))\n",
    "        y = float(input(\"Entrez le deuxième nombre : \"))\n",
    "    except ValueError:\n",
    "        print(\"Entrée invalide. Veuillez entrer des nombres.\")\n",
    "        return\n",
    "    \n",
    "    # Définir les opérations à l'aide de lambdas\n",
    "    operations = {\n",
    "        '1': lambda x, y: x + y,\n",
    "        '2': lambda x, y: x - y,\n",
    "        '3': lambda x, y: x * y,\n",
    "        '4': lambda x, y: x / y if y != 0 else \"Erreur : Division par zéro\"\n",
    "    }\n",
    "    \n",
    "    # Effectuer l'opération choisie\n",
    "    resultat = operations[choix](x, y)\n",
    "    \n",
    "    print(f\"Le résultat est : {resultat}\")\n",
    "\n",
    "# Appeler la fonction\n",
    "calculatrice()\n"
   ]
  },
  {
   "cell_type": "code",
   "execution_count": 9,
   "id": "5af8b649-ae2b-46d0-b204-b26355224250",
   "metadata": {},
   "outputs": [],
   "source": [
    "def calculatrice():\n",
    "    print(\"Bienvenue dans la calculatrice\")\n",
    "    print(\"Choisissez une opération\")\n",
    "    print (\"1 : Addition\")\n",
    "    print (\"2 : Soustraction\")\n",
    "    print (\"3 : Multiplication\")\n",
    "    print (\"4 : Division\")\n",
    "    # Demander à l'utilisateur de choisir une opération \n",
    "    choix = input(\"Veuillez entrer le numéro de l'opération\")\n",
    "    # Vérifier si le choix est bien valide\n",
    "    if choix not in [\"1\", \"2\", \"3\", \"4\"]:\n",
    "        print (\"Choix non valide. Veuillez réessayer.\")\n",
    "        return \n",
    "    # Demander les deux nombres \n",
    "    try:\n",
    "        x = float(input (\"Entrez le premier nombre :\"))\n",
    "        y = float(input(\" Entrez le deuxième nombre : \"))\n",
    "    except ValueError: \n",
    "        print(\"Entrée invalide. Veuillez un nombre\")\n",
    "        return\n",
    "    # Définir les opérations à l'aide de lambdas\n",
    "    operations = {\n",
    "        \"1\" : lambda x, y : x + y,\n",
    "        \"2\" : lambda x, y : x - y,\n",
    "        \"3\" : lambda x, y : x * y,\n",
    "        \"4\" : lambda x, y : x / y if y != 0 else \"Erreur : Division par zéro\"\n",
    "    }\n",
    "    # Effectuer l'opération\n",
    "    resultat = operations[choix](x,y)\n",
    "    print(f\"resultat est {resultat}\")\n",
    "    # Appeler la fonction\n",
    "    calculatrice()\n"
   ]
  },
  {
   "cell_type": "code",
   "execution_count": null,
   "id": "7324a77f-68f3-442c-9f3a-67f08e8af341",
   "metadata": {},
   "outputs": [],
   "source": [
    "# calculatrice()"
   ]
  },
  {
   "cell_type": "code",
   "execution_count": null,
   "id": "9e6b6a49-9418-4ae2-a38b-1934313957ad",
   "metadata": {},
   "outputs": [],
   "source": [
    "def ma_calculatrice(): \n",
    "    print(\"Bienvenue sur ma nouvelle calculatrice\")\n",
    "    print (\"Faites votre choix\")\n",
    "    print (\"1 : Addition\")\n",
    "    print (\"2 : Soustraction\")\n",
    "    print (\"3 : Division\")\n",
    "    print (\"4 : Multiplication\")\n",
    "    mes_choix = input(\"Veuillez entrer le numéro de l'opération\")\n",
    "    if mes_choix not in [\"1\", \"2\", \"3\", \"4\"]: \n",
    "        print (\"Votre numéro est invalide. Veuillez entrer un numéro valide\")\n",
    "        return\n",
    "    try:\n",
    "        x = float(input(\"Veuillez entrer le premier nombre : \"))\n",
    "        y = float(input (\"Veuillez entrer le deuxième nombre : \"))\n",
    "    except ValueError:\n",
    "        print (\"Veuillez entrer un nombre valide\")\n",
    "        return\n",
    "    operations {\n",
    "    \"1\" : lambda x, y : x + y,\n",
    "    \"2\" : lambda x, y : x - y,\n",
    "    \"3\" : lambda x, y : x/y if y != 0 }else \"Erreur: Division par zéro\"\n",
    "    \"4\" : lambda x, y : x * y\n",
    "}\n",
    "        return \n",
    "resultat = operations[choix](x, y)\n",
    "print (f\"resultat est {resultat})\n",
    "calculatrice()\n",
    "\n",
    "        \n",
    "\n",
    "        \n",
    "    "
   ]
  }
 ],
 "metadata": {
  "kernelspec": {
   "display_name": "Python 3 (ipykernel)",
   "language": "python",
   "name": "python3"
  },
  "language_info": {
   "codemirror_mode": {
    "name": "ipython",
    "version": 3
   },
   "file_extension": ".py",
   "mimetype": "text/x-python",
   "name": "python",
   "nbconvert_exporter": "python",
   "pygments_lexer": "ipython3",
   "version": "3.11.7"
  }
 },
 "nbformat": 4,
 "nbformat_minor": 5
}
