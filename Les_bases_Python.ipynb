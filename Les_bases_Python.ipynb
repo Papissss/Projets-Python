{
 "cells": [
  {
   "cell_type": "code",
   "execution_count": 11,
   "id": "8b13fd63-06b9-4331-a7a4-ac025097058a",
   "metadata": {},
   "outputs": [
    {
     "name": "stdout",
     "output_type": "stream",
     "text": [
      "Comment vas-tu ?\n"
     ]
    }
   ],
   "source": [
    "print (\"Comment vas-tu ?\")\n"
   ]
  },
  {
   "cell_type": "markdown",
   "id": "d88e7f9e-6c56-423d-8cda-808f27d40293",
   "metadata": {},
   "source": [
    "#Ceci est un commentaire "
   ]
  },
  {
   "cell_type": "code",
   "execution_count": 12,
   "id": "290659cd-29f0-4bd4-b0ce-4f954f960d54",
   "metadata": {
    "jp-MarkdownHeadingCollapsed": true
   },
   "outputs": [
    {
     "name": "stdout",
     "output_type": "stream",
     "text": [
      "Papis va à l'école\n"
     ]
    }
   ],
   "source": [
    "## Ceci est un commentaire \n",
    "print (\"Papis va à l'école\")"
   ]
  },
  {
   "cell_type": "code",
   "execution_count": 14,
   "id": "8ec2355b-83ba-493e-97ea-d066062d6ca7",
   "metadata": {},
   "outputs": [
    {
     "name": "stdout",
     "output_type": "stream",
     "text": [
      "pape\n"
     ]
    }
   ],
   "source": [
    "### commentaire \n",
    "print ('pape')"
   ]
  },
  {
   "cell_type": "code",
   "execution_count": 15,
   "id": "b83b6c6e-24d0-4df1-b81b-1eae10b40ab2",
   "metadata": {},
   "outputs": [
    {
     "name": "stdout",
     "output_type": "stream",
     "text": [
      "3\n"
     ]
    }
   ],
   "source": [
    "nombre = 3 \n",
    "print (nombre)"
   ]
  },
  {
   "cell_type": "code",
   "execution_count": 17,
   "id": "403664aa-3e40-4204-9ad7-7a6241435d17",
   "metadata": {},
   "outputs": [
    {
     "name": "stdout",
     "output_type": "stream",
     "text": [
      "3\n"
     ]
    }
   ],
   "source": [
    "Nombre = 3\n",
    "print (Nombre)"
   ]
  },
  {
   "cell_type": "code",
   "execution_count": 25,
   "id": "91e0d7aa-eebc-4b45-80d0-d434943f9feb",
   "metadata": {},
   "outputs": [
    {
     "name": "stdout",
     "output_type": "stream",
     "text": [
      "Requirement already satisfied: jupyterlab in c:\\users\\diedhiou\\anaconda3\\lib\\site-packages (4.0.11)Note: you may need to restart the kernel to use updated packages.\n",
      "\n",
      "Requirement already satisfied: async-lru>=1.0.0 in c:\\users\\diedhiou\\anaconda3\\lib\\site-packages (from jupyterlab) (2.0.4)\n",
      "Requirement already satisfied: ipykernel in c:\\users\\diedhiou\\anaconda3\\lib\\site-packages (from jupyterlab) (6.28.0)\n",
      "Requirement already satisfied: jinja2>=3.0.3 in c:\\users\\diedhiou\\anaconda3\\lib\\site-packages (from jupyterlab) (3.1.3)\n",
      "Requirement already satisfied: jupyter-core in c:\\users\\diedhiou\\anaconda3\\lib\\site-packages (from jupyterlab) (5.5.0)\n",
      "Requirement already satisfied: jupyter-lsp>=2.0.0 in c:\\users\\diedhiou\\anaconda3\\lib\\site-packages (from jupyterlab) (2.2.0)\n",
      "Requirement already satisfied: jupyter-server<3,>=2.4.0 in c:\\users\\diedhiou\\anaconda3\\lib\\site-packages (from jupyterlab) (2.10.0)\n",
      "Requirement already satisfied: jupyterlab-server<3,>=2.19.0 in c:\\users\\diedhiou\\anaconda3\\lib\\site-packages (from jupyterlab) (2.25.1)\n",
      "Requirement already satisfied: notebook-shim>=0.2 in c:\\users\\diedhiou\\anaconda3\\lib\\site-packages (from jupyterlab) (0.2.3)\n",
      "Requirement already satisfied: packaging in c:\\users\\diedhiou\\anaconda3\\lib\\site-packages (from jupyterlab) (23.1)\n",
      "Requirement already satisfied: tornado>=6.2.0 in c:\\users\\diedhiou\\anaconda3\\lib\\site-packages (from jupyterlab) (6.3.3)\n",
      "Requirement already satisfied: traitlets in c:\\users\\diedhiou\\anaconda3\\lib\\site-packages (from jupyterlab) (5.7.1)\n",
      "Requirement already satisfied: MarkupSafe>=2.0 in c:\\users\\diedhiou\\anaconda3\\lib\\site-packages (from jinja2>=3.0.3->jupyterlab) (2.1.3)\n",
      "Requirement already satisfied: anyio>=3.1.0 in c:\\users\\diedhiou\\anaconda3\\lib\\site-packages (from jupyter-server<3,>=2.4.0->jupyterlab) (4.2.0)\n",
      "Requirement already satisfied: argon2-cffi in c:\\users\\diedhiou\\anaconda3\\lib\\site-packages (from jupyter-server<3,>=2.4.0->jupyterlab) (21.3.0)\n",
      "Requirement already satisfied: jupyter-client>=7.4.4 in c:\\users\\diedhiou\\anaconda3\\lib\\site-packages (from jupyter-server<3,>=2.4.0->jupyterlab) (8.6.0)\n",
      "Requirement already satisfied: jupyter-events>=0.6.0 in c:\\users\\diedhiou\\anaconda3\\lib\\site-packages (from jupyter-server<3,>=2.4.0->jupyterlab) (0.8.0)\n",
      "Requirement already satisfied: jupyter-server-terminals in c:\\users\\diedhiou\\anaconda3\\lib\\site-packages (from jupyter-server<3,>=2.4.0->jupyterlab) (0.4.4)\n",
      "Requirement already satisfied: nbconvert>=6.4.4 in c:\\users\\diedhiou\\anaconda3\\lib\\site-packages (from jupyter-server<3,>=2.4.0->jupyterlab) (7.10.0)\n",
      "Requirement already satisfied: nbformat>=5.3.0 in c:\\users\\diedhiou\\anaconda3\\lib\\site-packages (from jupyter-server<3,>=2.4.0->jupyterlab) (5.9.2)\n",
      "Requirement already satisfied: overrides in c:\\users\\diedhiou\\anaconda3\\lib\\site-packages (from jupyter-server<3,>=2.4.0->jupyterlab) (7.4.0)\n",
      "Requirement already satisfied: prometheus-client in c:\\users\\diedhiou\\anaconda3\\lib\\site-packages (from jupyter-server<3,>=2.4.0->jupyterlab) (0.14.1)\n",
      "Requirement already satisfied: pywinpty in c:\\users\\diedhiou\\anaconda3\\lib\\site-packages (from jupyter-server<3,>=2.4.0->jupyterlab) (2.0.10)\n",
      "Requirement already satisfied: pyzmq>=24 in c:\\users\\diedhiou\\anaconda3\\lib\\site-packages (from jupyter-server<3,>=2.4.0->jupyterlab) (25.1.2)\n",
      "Requirement already satisfied: send2trash>=1.8.2 in c:\\users\\diedhiou\\anaconda3\\lib\\site-packages (from jupyter-server<3,>=2.4.0->jupyterlab) (1.8.2)\n",
      "Requirement already satisfied: terminado>=0.8.3 in c:\\users\\diedhiou\\anaconda3\\lib\\site-packages (from jupyter-server<3,>=2.4.0->jupyterlab) (0.17.1)\n",
      "Requirement already satisfied: websocket-client in c:\\users\\diedhiou\\anaconda3\\lib\\site-packages (from jupyter-server<3,>=2.4.0->jupyterlab) (0.58.0)\n",
      "Requirement already satisfied: platformdirs>=2.5 in c:\\users\\diedhiou\\anaconda3\\lib\\site-packages (from jupyter-core->jupyterlab) (3.10.0)\n",
      "Requirement already satisfied: pywin32>=300 in c:\\users\\diedhiou\\anaconda3\\lib\\site-packages (from jupyter-core->jupyterlab) (305.1)\n",
      "Requirement already satisfied: babel>=2.10 in c:\\users\\diedhiou\\anaconda3\\lib\\site-packages (from jupyterlab-server<3,>=2.19.0->jupyterlab) (2.11.0)\n",
      "Requirement already satisfied: json5>=0.9.0 in c:\\users\\diedhiou\\anaconda3\\lib\\site-packages (from jupyterlab-server<3,>=2.19.0->jupyterlab) (0.9.6)\n",
      "Requirement already satisfied: jsonschema>=4.18.0 in c:\\users\\diedhiou\\anaconda3\\lib\\site-packages (from jupyterlab-server<3,>=2.19.0->jupyterlab) (4.19.2)\n",
      "Requirement already satisfied: requests>=2.31 in c:\\users\\diedhiou\\anaconda3\\lib\\site-packages (from jupyterlab-server<3,>=2.19.0->jupyterlab) (2.31.0)\n",
      "Requirement already satisfied: comm>=0.1.1 in c:\\users\\diedhiou\\anaconda3\\lib\\site-packages (from ipykernel->jupyterlab) (0.1.2)\n",
      "Requirement already satisfied: debugpy>=1.6.5 in c:\\users\\diedhiou\\anaconda3\\lib\\site-packages (from ipykernel->jupyterlab) (1.6.7)\n",
      "Requirement already satisfied: ipython>=7.23.1 in c:\\users\\diedhiou\\anaconda3\\lib\\site-packages (from ipykernel->jupyterlab) (8.20.0)\n",
      "Requirement already satisfied: matplotlib-inline>=0.1 in c:\\users\\diedhiou\\anaconda3\\lib\\site-packages (from ipykernel->jupyterlab) (0.1.6)\n",
      "Requirement already satisfied: nest-asyncio in c:\\users\\diedhiou\\anaconda3\\lib\\site-packages (from ipykernel->jupyterlab) (1.6.0)\n",
      "Requirement already satisfied: psutil in c:\\users\\diedhiou\\anaconda3\\lib\\site-packages (from ipykernel->jupyterlab) (5.9.0)\n",
      "Requirement already satisfied: idna>=2.8 in c:\\users\\diedhiou\\anaconda3\\lib\\site-packages (from anyio>=3.1.0->jupyter-server<3,>=2.4.0->jupyterlab) (3.4)\n",
      "Requirement already satisfied: sniffio>=1.1 in c:\\users\\diedhiou\\anaconda3\\lib\\site-packages (from anyio>=3.1.0->jupyter-server<3,>=2.4.0->jupyterlab) (1.3.0)\n",
      "Requirement already satisfied: pytz>=2015.7 in c:\\users\\diedhiou\\anaconda3\\lib\\site-packages (from babel>=2.10->jupyterlab-server<3,>=2.19.0->jupyterlab) (2023.3.post1)\n",
      "Requirement already satisfied: decorator in c:\\users\\diedhiou\\anaconda3\\lib\\site-packages (from ipython>=7.23.1->ipykernel->jupyterlab) (5.1.1)\n",
      "Requirement already satisfied: jedi>=0.16 in c:\\users\\diedhiou\\anaconda3\\lib\\site-packages (from ipython>=7.23.1->ipykernel->jupyterlab) (0.18.1)\n",
      "Requirement already satisfied: prompt-toolkit<3.1.0,>=3.0.41 in c:\\users\\diedhiou\\anaconda3\\lib\\site-packages (from ipython>=7.23.1->ipykernel->jupyterlab) (3.0.43)\n",
      "Requirement already satisfied: pygments>=2.4.0 in c:\\users\\diedhiou\\anaconda3\\lib\\site-packages (from ipython>=7.23.1->ipykernel->jupyterlab) (2.15.1)\n",
      "Requirement already satisfied: stack-data in c:\\users\\diedhiou\\anaconda3\\lib\\site-packages (from ipython>=7.23.1->ipykernel->jupyterlab) (0.2.0)\n",
      "Requirement already satisfied: colorama in c:\\users\\diedhiou\\anaconda3\\lib\\site-packages (from ipython>=7.23.1->ipykernel->jupyterlab) (0.4.6)\n",
      "Requirement already satisfied: attrs>=22.2.0 in c:\\users\\diedhiou\\anaconda3\\lib\\site-packages (from jsonschema>=4.18.0->jupyterlab-server<3,>=2.19.0->jupyterlab) (23.1.0)\n",
      "Requirement already satisfied: jsonschema-specifications>=2023.03.6 in c:\\users\\diedhiou\\anaconda3\\lib\\site-packages (from jsonschema>=4.18.0->jupyterlab-server<3,>=2.19.0->jupyterlab) (2023.7.1)\n",
      "Requirement already satisfied: referencing>=0.28.4 in c:\\users\\diedhiou\\anaconda3\\lib\\site-packages (from jsonschema>=4.18.0->jupyterlab-server<3,>=2.19.0->jupyterlab) (0.30.2)\n",
      "Requirement already satisfied: rpds-py>=0.7.1 in c:\\users\\diedhiou\\anaconda3\\lib\\site-packages (from jsonschema>=4.18.0->jupyterlab-server<3,>=2.19.0->jupyterlab) (0.10.6)\n",
      "Requirement already satisfied: python-dateutil>=2.8.2 in c:\\users\\diedhiou\\anaconda3\\lib\\site-packages (from jupyter-client>=7.4.4->jupyter-server<3,>=2.4.0->jupyterlab) (2.8.2)\n",
      "Requirement already satisfied: python-json-logger>=2.0.4 in c:\\users\\diedhiou\\anaconda3\\lib\\site-packages (from jupyter-events>=0.6.0->jupyter-server<3,>=2.4.0->jupyterlab) (2.0.7)\n",
      "Requirement already satisfied: pyyaml>=5.3 in c:\\users\\diedhiou\\anaconda3\\lib\\site-packages (from jupyter-events>=0.6.0->jupyter-server<3,>=2.4.0->jupyterlab) (6.0.1)\n",
      "Requirement already satisfied: rfc3339-validator in c:\\users\\diedhiou\\anaconda3\\lib\\site-packages (from jupyter-events>=0.6.0->jupyter-server<3,>=2.4.0->jupyterlab) (0.1.4)\n",
      "Requirement already satisfied: rfc3986-validator>=0.1.1 in c:\\users\\diedhiou\\anaconda3\\lib\\site-packages (from jupyter-events>=0.6.0->jupyter-server<3,>=2.4.0->jupyterlab) (0.1.1)\n",
      "Requirement already satisfied: beautifulsoup4 in c:\\users\\diedhiou\\anaconda3\\lib\\site-packages (from nbconvert>=6.4.4->jupyter-server<3,>=2.4.0->jupyterlab) (4.12.2)\n",
      "Requirement already satisfied: bleach!=5.0.0 in c:\\users\\diedhiou\\anaconda3\\lib\\site-packages (from nbconvert>=6.4.4->jupyter-server<3,>=2.4.0->jupyterlab) (4.1.0)\n",
      "Requirement already satisfied: defusedxml in c:\\users\\diedhiou\\anaconda3\\lib\\site-packages (from nbconvert>=6.4.4->jupyter-server<3,>=2.4.0->jupyterlab) (0.7.1)\n",
      "Requirement already satisfied: jupyterlab-pygments in c:\\users\\diedhiou\\anaconda3\\lib\\site-packages (from nbconvert>=6.4.4->jupyter-server<3,>=2.4.0->jupyterlab) (0.1.2)\n",
      "Requirement already satisfied: mistune<4,>=2.0.3 in c:\\users\\diedhiou\\anaconda3\\lib\\site-packages (from nbconvert>=6.4.4->jupyter-server<3,>=2.4.0->jupyterlab) (2.0.4)\n",
      "Requirement already satisfied: nbclient>=0.5.0 in c:\\users\\diedhiou\\anaconda3\\lib\\site-packages (from nbconvert>=6.4.4->jupyter-server<3,>=2.4.0->jupyterlab) (0.8.0)\n",
      "Requirement already satisfied: pandocfilters>=1.4.1 in c:\\users\\diedhiou\\anaconda3\\lib\\site-packages (from nbconvert>=6.4.4->jupyter-server<3,>=2.4.0->jupyterlab) (1.5.0)\n",
      "Requirement already satisfied: tinycss2 in c:\\users\\diedhiou\\anaconda3\\lib\\site-packages (from nbconvert>=6.4.4->jupyter-server<3,>=2.4.0->jupyterlab) (1.2.1)\n",
      "Requirement already satisfied: fastjsonschema in c:\\users\\diedhiou\\anaconda3\\lib\\site-packages (from nbformat>=5.3.0->jupyter-server<3,>=2.4.0->jupyterlab) (2.16.2)\n",
      "Requirement already satisfied: charset-normalizer<4,>=2 in c:\\users\\diedhiou\\anaconda3\\lib\\site-packages (from requests>=2.31->jupyterlab-server<3,>=2.19.0->jupyterlab) (2.0.4)\n",
      "Requirement already satisfied: urllib3<3,>=1.21.1 in c:\\users\\diedhiou\\anaconda3\\lib\\site-packages (from requests>=2.31->jupyterlab-server<3,>=2.19.0->jupyterlab) (2.0.7)\n",
      "Requirement already satisfied: certifi>=2017.4.17 in c:\\users\\diedhiou\\anaconda3\\lib\\site-packages (from requests>=2.31->jupyterlab-server<3,>=2.19.0->jupyterlab) (2024.2.2)\n",
      "Requirement already satisfied: argon2-cffi-bindings in c:\\users\\diedhiou\\anaconda3\\lib\\site-packages (from argon2-cffi->jupyter-server<3,>=2.4.0->jupyterlab) (21.2.0)\n",
      "Requirement already satisfied: six in c:\\users\\diedhiou\\anaconda3\\lib\\site-packages (from websocket-client->jupyter-server<3,>=2.4.0->jupyterlab) (1.16.0)\n",
      "Requirement already satisfied: webencodings in c:\\users\\diedhiou\\anaconda3\\lib\\site-packages (from bleach!=5.0.0->nbconvert>=6.4.4->jupyter-server<3,>=2.4.0->jupyterlab) (0.5.1)\n",
      "Requirement already satisfied: parso<0.9.0,>=0.8.0 in c:\\users\\diedhiou\\anaconda3\\lib\\site-packages (from jedi>=0.16->ipython>=7.23.1->ipykernel->jupyterlab) (0.8.3)\n",
      "Requirement already satisfied: fqdn in c:\\users\\diedhiou\\anaconda3\\lib\\site-packages (from jsonschema[format-nongpl]>=4.18.0->jupyter-events>=0.6.0->jupyter-server<3,>=2.4.0->jupyterlab) (1.5.1)\n",
      "Requirement already satisfied: isoduration in c:\\users\\diedhiou\\anaconda3\\lib\\site-packages (from jsonschema[format-nongpl]>=4.18.0->jupyter-events>=0.6.0->jupyter-server<3,>=2.4.0->jupyterlab) (20.11.0)\n",
      "Requirement already satisfied: jsonpointer>1.13 in c:\\users\\diedhiou\\anaconda3\\lib\\site-packages (from jsonschema[format-nongpl]>=4.18.0->jupyter-events>=0.6.0->jupyter-server<3,>=2.4.0->jupyterlab) (2.1)\n",
      "Requirement already satisfied: uri-template in c:\\users\\diedhiou\\anaconda3\\lib\\site-packages (from jsonschema[format-nongpl]>=4.18.0->jupyter-events>=0.6.0->jupyter-server<3,>=2.4.0->jupyterlab) (1.3.0)\n",
      "Requirement already satisfied: webcolors>=1.11 in c:\\users\\diedhiou\\anaconda3\\lib\\site-packages (from jsonschema[format-nongpl]>=4.18.0->jupyter-events>=0.6.0->jupyter-server<3,>=2.4.0->jupyterlab) (24.8.0)\n",
      "Requirement already satisfied: wcwidth in c:\\users\\diedhiou\\anaconda3\\lib\\site-packages (from prompt-toolkit<3.1.0,>=3.0.41->ipython>=7.23.1->ipykernel->jupyterlab) (0.2.5)\n",
      "Requirement already satisfied: cffi>=1.0.1 in c:\\users\\diedhiou\\anaconda3\\lib\\site-packages (from argon2-cffi-bindings->argon2-cffi->jupyter-server<3,>=2.4.0->jupyterlab) (1.16.0)\n",
      "Requirement already satisfied: soupsieve>1.2 in c:\\users\\diedhiou\\anaconda3\\lib\\site-packages (from beautifulsoup4->nbconvert>=6.4.4->jupyter-server<3,>=2.4.0->jupyterlab) (2.5)\n",
      "Requirement already satisfied: executing in c:\\users\\diedhiou\\anaconda3\\lib\\site-packages (from stack-data->ipython>=7.23.1->ipykernel->jupyterlab) (0.8.3)\n",
      "Requirement already satisfied: asttokens in c:\\users\\diedhiou\\anaconda3\\lib\\site-packages (from stack-data->ipython>=7.23.1->ipykernel->jupyterlab) (2.0.5)\n",
      "Requirement already satisfied: pure-eval in c:\\users\\diedhiou\\anaconda3\\lib\\site-packages (from stack-data->ipython>=7.23.1->ipykernel->jupyterlab) (0.2.2)\n",
      "Requirement already satisfied: pycparser in c:\\users\\diedhiou\\anaconda3\\lib\\site-packages (from cffi>=1.0.1->argon2-cffi-bindings->argon2-cffi->jupyter-server<3,>=2.4.0->jupyterlab) (2.21)\n",
      "Requirement already satisfied: arrow>=0.15.0 in c:\\users\\diedhiou\\anaconda3\\lib\\site-packages (from isoduration->jsonschema[format-nongpl]>=4.18.0->jupyter-events>=0.6.0->jupyter-server<3,>=2.4.0->jupyterlab) (1.2.3)\n"
     ]
    }
   ],
   "source": [
    "pip install jupyterlab\n"
   ]
  },
  {
   "cell_type": "code",
   "execution_count": 26,
   "id": "f53e0f96-41ef-442d-825f-3c4e4055af44",
   "metadata": {},
   "outputs": [
    {
     "name": "stdout",
     "output_type": "stream",
     "text": [
      "Collecting jupyterlab-language-pack-fr-FR\n",
      "  Downloading jupyterlab_language_pack_fr_fr-4.2.post3-py2.py3-none-any.whl.metadata (2.7 kB)\n",
      "Downloading jupyterlab_language_pack_fr_fr-4.2.post3-py2.py3-none-any.whl (199 kB)\n",
      "   ---------------------------------------- 0.0/199.1 kB ? eta -:--:--\n",
      "   -- ------------------------------------- 10.2/199.1 kB ? eta -:--:--\n",
      "   ------ -------------------------------- 30.7/199.1 kB 330.3 kB/s eta 0:00:01\n",
      "   ------------------------------ --------- 153.6/199.1 kB 1.3 MB/s eta 0:00:01\n",
      "   ---------------------------------------- 199.1/199.1 kB 1.3 MB/s eta 0:00:00\n",
      "Installing collected packages: jupyterlab-language-pack-fr-FR\n",
      "Successfully installed jupyterlab-language-pack-fr-FR-4.2.post3\n",
      "Note: you may need to restart the kernel to use updated packages.\n"
     ]
    }
   ],
   "source": [
    "pip install jupyterlab-language-pack-fr-FR\n"
   ]
  },
  {
   "cell_type": "code",
   "execution_count": 27,
   "id": "bf26241f-2ddc-4b22-8562-55a57f8c6b90",
   "metadata": {},
   "outputs": [
    {
     "name": "stdout",
     "output_type": "stream",
     "text": [
      "test\n"
     ]
    }
   ],
   "source": [
    "#Ceci est un commentaire\n",
    "print('test')"
   ]
  },
  {
   "cell_type": "code",
   "execution_count": null,
   "id": "00c42474-c44d-4b95-b2ff-3b1eba8433a4",
   "metadata": {},
   "outputs": [],
   "source": []
  }
 ],
 "metadata": {
  "kernelspec": {
   "display_name": "Python 3 (ipykernel)",
   "language": "python",
   "name": "python3"
  },
  "language_info": {
   "codemirror_mode": {
    "name": "ipython",
    "version": 3
   },
   "file_extension": ".py",
   "mimetype": "text/x-python",
   "name": "python",
   "nbconvert_exporter": "python",
   "pygments_lexer": "ipython3",
   "version": "3.11.7"
  }
 },
 "nbformat": 4,
 "nbformat_minor": 5
}
