{
 "cells": [
  {
   "cell_type": "code",
   "execution_count": 1,
   "id": "72a2bd17-3aa1-4199-803d-c470dc82289b",
   "metadata": {},
   "outputs": [
    {
     "name": "stdout",
     "output_type": "stream",
     "text": [
      "Bonjour Papis\n"
     ]
    }
   ],
   "source": [
    "print(\"Bonjour Papis\")"
   ]
  },
  {
   "cell_type": "code",
   "execution_count": 2,
   "id": "f359578a-efd8-4a89-a8a5-fac7e3bb2b8d",
   "metadata": {},
   "outputs": [
    {
     "name": "stdout",
     "output_type": "stream",
     "text": [
      "3\n"
     ]
    }
   ],
   "source": [
    "nombre = 3\n",
    "print(nombre)"
   ]
  }
 ],
 "metadata": {
  "kernelspec": {
   "display_name": "Python 3 (ipykernel)",
   "language": "python",
   "name": "python3"
  },
  "language_info": {
   "codemirror_mode": {
    "name": "ipython",
    "version": 3
   },
   "file_extension": ".py",
   "mimetype": "text/x-python",
   "name": "python",
   "nbconvert_exporter": "python",
   "pygments_lexer": "ipython3",
   "version": "3.11.7"
  }
 },
 "nbformat": 4,
 "nbformat_minor": 5
}
